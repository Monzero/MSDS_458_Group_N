{
 "cells": [
  {
   "cell_type": "code",
   "execution_count": 2,
   "metadata": {},
   "outputs": [
    {
     "name": "stdout",
     "output_type": "stream",
     "text": [
      "Requirement already satisfied: moneycontrol-api in c:\\users\\akash\\.conda\\envs\\myenv\\lib\\site-packages (1.0.9)\n",
      "Note: you may need to restart the kernel to use updated packages.\n"
     ]
    }
   ],
   "source": [
    "pip install moneycontrol-api"
   ]
  },
  {
   "cell_type": "code",
   "execution_count": 4,
   "metadata": {},
   "outputs": [
    {
     "ename": "ModuleNotFoundError",
     "evalue": "No module named 'moneycontrol'",
     "output_type": "error",
     "traceback": [
      "\u001b[1;31m---------------------------------------------------------------------------\u001b[0m",
      "\u001b[1;31mModuleNotFoundError\u001b[0m                       Traceback (most recent call last)",
      "Cell \u001b[1;32mIn[4], line 1\u001b[0m\n\u001b[1;32m----> 1\u001b[0m \u001b[38;5;28;01mfrom\u001b[39;00m \u001b[38;5;21;01mmoneycontrol\u001b[39;00m \u001b[38;5;28;01mimport\u001b[39;00m moneycontrol_api \u001b[38;5;28;01mas\u001b[39;00m mc\n",
      "\u001b[1;31mModuleNotFoundError\u001b[0m: No module named 'moneycontrol'"
     ]
    }
   ],
   "source": [
    "from moneycontrol import moneycontrol_api as mc"
   ]
  },
  {
   "cell_type": "code",
   "execution_count": 5,
   "metadata": {},
   "outputs": [
    {
     "ename": "NameError",
     "evalue": "name 'mc' is not defined",
     "output_type": "error",
     "traceback": [
      "\u001b[1;31m---------------------------------------------------------------------------\u001b[0m",
      "\u001b[1;31mNameError\u001b[0m                                 Traceback (most recent call last)",
      "Cell \u001b[1;32mIn[5], line 7\u001b[0m\n\u001b[0;32m      1\u001b[0m \u001b[38;5;28;01mimport\u001b[39;00m \u001b[38;5;21;01mdatetime\u001b[39;00m\n\u001b[0;32m      3\u001b[0m \u001b[38;5;66;03m# Fetch news for a specific stock (e.g., Apple - AAPL)\u001b[39;00m\n\u001b[0;32m      4\u001b[0m \u001b[38;5;66;03m#ticker = mc.Ticker(\"AAPL\")\u001b[39;00m\n\u001b[1;32m----> 7\u001b[0m \u001b[43mmc\u001b[49m\u001b[38;5;241m.\u001b[39mget_business_news()\n",
      "\u001b[1;31mNameError\u001b[0m: name 'mc' is not defined"
     ]
    }
   ],
   "source": [
    "import datetime\n",
    "\n",
    "# Fetch news for a specific stock (e.g., Apple - AAPL)\n",
    "#ticker = mc.Ticker(\"AAPL\")\n",
    "\n",
    "\n",
    "mc.get_business_news()"
   ]
  },
  {
   "cell_type": "code",
   "execution_count": null,
   "metadata": {},
   "outputs": [],
   "source": [
    "import requests\n",
    "\n",
    "# Your Finnhub API Key\n",
    "api_key = \"cstoqppr01qour3sikhgcstoqppr01qour3siki0\"\n",
    "\n",
    "# Stock ticker and date range\n",
    "ticker = \"AAPL\"\n",
    "from_date = \"2023-11-01\"\n",
    "to_date = \"2024-11-01\"\n",
    "\n",
    "# API endpoint for company news\n",
    "url = f\"https://finnhub.io/api/v1/company-news?symbol={ticker}&from={from_date}&to={to_date}&token={api_key}\"\n",
    "response = requests.get(url)\n",
    "news = response.json()\n",
    "\n",
    "# Print the historical news articles\n",
    "for article in news:\n",
    "    print(f\"Title: {article['headline']}\")\n",
    "    print(f\"URL: {article['url']}\")\n",
    "    print(f\"Published: {article['datetime']}\\n\")\n"
   ]
  },
  {
   "cell_type": "code",
   "execution_count": null,
   "metadata": {},
   "outputs": [],
   "source": [
    "from gnews import GNews\n",
    "\n",
    "# Initialize GNews\n",
    "google_news = GNews()\n",
    "\n",
    "# Set custom search parameters\n",
    "google_news.period = \"1y\"  # Fetch news from the past year\n",
    "google_news.language = \"en\"\n",
    "google_news.region = \"US\"\n",
    "\n",
    "# Search news for a specific stock ticker\n",
    "news = google_news.get_news(\"Apple AAPL\")\n",
    "\n",
    "# Print news articles\n",
    "for article in news:\n",
    "    print(f\"Title: {article['title']}\")\n",
    "    print(f\"Link: {article['url']}\")\n",
    "    print(f\"Published: {article['published date']}\\n\")\n"
   ]
  },
  {
   "cell_type": "code",
   "execution_count": null,
   "metadata": {},
   "outputs": [],
   "source": [
    "import requests\n",
    "import datetime\n",
    "\n",
    "# Your Finnhub API Key\n",
    "api_key = \"cstoqppr01qour3sikhgcstoqppr01qour3siki0\"\n",
    "\n",
    "# Stock ticker and date range\n",
    "ticker = \"AAPL\"\n",
    "from_date = \"2023-11-01\"\n",
    "to_date = \"2024-11-01\"\n",
    "\n",
    "# API endpoint for company news\n",
    "url = f\"https://finnhub.io/api/v1/company-news?symbol={ticker}&from={from_date}&to={to_date}&token={api_key}\"\n",
    "response = requests.get(url)\n",
    "news = response.json()\n",
    "\n",
    "# Print the historical news articles\n",
    "for article in news:\n",
    "    publish_time = datetime.datetime.fromtimestamp(article['datetime'])\n",
    "    print(f\"Title: {article['headline']}\")\n",
    "    print(f\"Date: {publish_time.strftime('%Y-%m-%d %H:%M:%S')}\")\n",
    "    print(f\"URL: {article['url']}\\n\")\n"
   ]
  },
  {
   "cell_type": "code",
   "execution_count": null,
   "metadata": {},
   "outputs": [],
   "source": [
    "import requests\n",
    "\n",
    "# Your Alpha Vantage API Key\n",
    "api_key = \"TD09DIRAQ2MVAC68\"\n",
    "\n",
    "# Stock ticker and date range\n",
    "ticker = \"AAPL\"\n",
    "\n",
    "# API endpoint for historical news\n",
    "url = f\"https://www.alphavantage.co/query?function=NEWS_SENTIMENT&tickers={ticker}&apikey={api_key}\"\n",
    "response = requests.get(url)\n",
    "news = response.json()\n",
    "\n",
    "# Print news articles with dates\n",
    "for article in news['feed']:\n",
    "    print(f\"Title: {article['title']}\")\n",
    "    print(f\"Date: {article['time_published']}\")\n",
    "    print(f\"Link: {article['url']}\\n\")\n"
   ]
  },
  {
   "cell_type": "code",
   "execution_count": null,
   "metadata": {},
   "outputs": [],
   "source": [
    "import yfinance as yf\n",
    "import datetime\n",
    "\n",
    "# Fetch news for a specific stock (e.g., Apple - AAPL)\n",
    "ticker = yf.Ticker(\"AAPL\")\n",
    "news = ticker.news\n",
    "\n",
    "# Filter news from a specific date range\n",
    "start_date = datetime.datetime(2023, 11, 1)\n",
    "end_date = datetime.datetime(2024, 11, 1)\n",
    "\n",
    "for article in news:\n",
    "    publish_time = datetime.datetime.fromtimestamp(article['providerPublishTime'])\n",
    "#    if start_date <= publish_time <= end_date:\n",
    "    print(f\"Title: {article['title']}\")\n",
    "    print(f\"Date: {publish_time.strftime('%Y-%m-%d %H:%M:%S')}\")\n",
    "    print(f\"Link: {article['link']}\\n\")\n",
    "\n"
   ]
  },
  {
   "cell_type": "code",
   "execution_count": null,
   "metadata": {},
   "outputs": [],
   "source": [
    "from selenium import webdriver\n",
    "from selenium.webdriver.common.by import By\n",
    "from selenium.webdriver.chrome.service import Service\n",
    "from selenium.webdriver.common.keys import Keys\n",
    "from selenium.webdriver.common.action_chains import ActionChains\n",
    "from selenium.webdriver.support.ui import WebDriverWait\n",
    "from selenium.webdriver.support import expected_conditions as EC\n",
    "from bs4 import BeautifulSoup\n",
    "import time\n",
    "\n",
    "# Path to your ChromeDriver\n",
    "chrome_driver_path = \"C:/Users/akash/Downloads/chrome-win64/chrome-win64/chrome.exe\"\n",
    "\n",
    "# Initialize WebDriver\n",
    "service = Service(chrome_driver_path)\n",
    "driver = webdriver.Chrome(service=service)\n",
    "\n",
    "# Open Yahoo Finance News page for a specific stock\n",
    "ticker = \"AAPL\"\n",
    "url = f\"https://finance.yahoo.com/quote/{ticker}/news?p={ticker}\"\n",
    "driver.get(url)\n",
    "\n",
    "# Wait for the page to load (you might need to adjust the wait time)\n",
    "time.sleep(5)\n",
    "\n",
    "# Extract news articles dynamically loaded via JavaScript\n",
    "soup = BeautifulSoup(driver.page_source, 'html.parser')\n",
    "articles = soup.find_all('li', class_='js-stream-content')\n",
    "\n",
    "# Parse and print the news\n",
    "for article in articles:\n",
    "    title_tag = article.find('h3')\n",
    "    date_tag = article.find('time')\n",
    "    \n",
    "    if title_tag and date_tag:\n",
    "        title = title_tag.text.strip()\n",
    "        link = \"https://finance.yahoo.com\" + title_tag.find('a')['href']\n",
    "        date = date_tag['datetime']\n",
    "        \n",
    "        print(f\"Title: {title}\")\n",
    "        print(f\"Date: {date}\")\n",
    "        print(f\"Link: {link}\\n\")\n",
    "\n",
    "# Close the browser\n",
    "driver.quit()\n"
   ]
  },
  {
   "cell_type": "code",
   "execution_count": null,
   "metadata": {},
   "outputs": [],
   "source": []
  },
  {
   "cell_type": "code",
   "execution_count": null,
   "metadata": {},
   "outputs": [],
   "source": []
  }
 ],
 "metadata": {
  "kernelspec": {
   "display_name": "myenv",
   "language": "python",
   "name": "python3"
  },
  "language_info": {
   "codemirror_mode": {
    "name": "ipython",
    "version": 3
   },
   "file_extension": ".py",
   "mimetype": "text/x-python",
   "name": "python",
   "nbconvert_exporter": "python",
   "pygments_lexer": "ipython3",
   "version": "3.9.20"
  }
 },
 "nbformat": 4,
 "nbformat_minor": 2
}
