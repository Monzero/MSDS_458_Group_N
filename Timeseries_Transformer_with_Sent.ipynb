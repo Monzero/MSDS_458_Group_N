{
 "cells": [
  {
   "cell_type": "code",
   "execution_count": 1,
   "metadata": {},
   "outputs": [
    {
     "name": "stdout",
     "output_type": "stream",
     "text": [
      "Using device: cpu\n"
     ]
    }
   ],
   "source": [
    "import yfinance as yf\n",
    "import numpy as np\n",
    "import pandas as pd\n",
    "from sklearn.preprocessing import MinMaxScaler\n",
    "import torch\n",
    "import torch.nn as nn\n",
    "import torch.optim as optim\n",
    "from torch.utils.data import TensorDataset, DataLoader\n",
    "import matplotlib.pyplot as plt\n",
    "\n",
    "device = torch.device(\"cuda\" if torch.cuda.is_available() else \"cpu\")\n",
    "print(f\"Using device: {device}\")"
   ]
  },
  {
   "cell_type": "code",
   "execution_count": 31,
   "metadata": {},
   "outputs": [
    {
     "name": "stderr",
     "output_type": "stream",
     "text": [
      "[*********************100%%**********************]  1 of 1 completed\n"
     ]
    },
    {
     "data": {
      "text/html": [
       "<div>\n",
       "<style scoped>\n",
       "    .dataframe tbody tr th:only-of-type {\n",
       "        vertical-align: middle;\n",
       "    }\n",
       "\n",
       "    .dataframe tbody tr th {\n",
       "        vertical-align: top;\n",
       "    }\n",
       "\n",
       "    .dataframe thead th {\n",
       "        text-align: right;\n",
       "    }\n",
       "</style>\n",
       "<table border=\"1\" class=\"dataframe\">\n",
       "  <thead>\n",
       "    <tr style=\"text-align: right;\">\n",
       "      <th></th>\n",
       "      <th>Open</th>\n",
       "      <th>High</th>\n",
       "      <th>Low</th>\n",
       "      <th>Close</th>\n",
       "      <th>Adj Close</th>\n",
       "      <th>Volume</th>\n",
       "    </tr>\n",
       "    <tr>\n",
       "      <th>Date</th>\n",
       "      <th></th>\n",
       "      <th></th>\n",
       "      <th></th>\n",
       "      <th></th>\n",
       "      <th></th>\n",
       "      <th></th>\n",
       "    </tr>\n",
       "  </thead>\n",
       "  <tbody>\n",
       "    <tr>\n",
       "      <th>2017-01-03</th>\n",
       "      <td>1155.199951</td>\n",
       "      <td>1160.800049</td>\n",
       "      <td>1146.500000</td>\n",
       "      <td>1160.400024</td>\n",
       "      <td>1160.400024</td>\n",
       "      <td>52</td>\n",
       "    </tr>\n",
       "    <tr>\n",
       "      <th>2017-01-04</th>\n",
       "      <td>1156.300049</td>\n",
       "      <td>1165.000000</td>\n",
       "      <td>1156.300049</td>\n",
       "      <td>1163.800049</td>\n",
       "      <td>1163.800049</td>\n",
       "      <td>36</td>\n",
       "    </tr>\n",
       "    <tr>\n",
       "      <th>2017-01-05</th>\n",
       "      <td>1172.000000</td>\n",
       "      <td>1183.300049</td>\n",
       "      <td>1171.500000</td>\n",
       "      <td>1179.699951</td>\n",
       "      <td>1179.699951</td>\n",
       "      <td>500</td>\n",
       "    </tr>\n",
       "    <tr>\n",
       "      <th>2017-01-06</th>\n",
       "      <td>1176.500000</td>\n",
       "      <td>1176.500000</td>\n",
       "      <td>1171.900024</td>\n",
       "      <td>1171.900024</td>\n",
       "      <td>1171.900024</td>\n",
       "      <td>16</td>\n",
       "    </tr>\n",
       "    <tr>\n",
       "      <th>2017-01-09</th>\n",
       "      <td>1173.900024</td>\n",
       "      <td>1183.599976</td>\n",
       "      <td>1173.000000</td>\n",
       "      <td>1183.500000</td>\n",
       "      <td>1183.500000</td>\n",
       "      <td>62</td>\n",
       "    </tr>\n",
       "    <tr>\n",
       "      <th>...</th>\n",
       "      <td>...</td>\n",
       "      <td>...</td>\n",
       "      <td>...</td>\n",
       "      <td>...</td>\n",
       "      <td>...</td>\n",
       "      <td>...</td>\n",
       "    </tr>\n",
       "    <tr>\n",
       "      <th>2019-11-22</th>\n",
       "      <td>1468.599976</td>\n",
       "      <td>1468.599976</td>\n",
       "      <td>1463.099976</td>\n",
       "      <td>1463.099976</td>\n",
       "      <td>1463.099976</td>\n",
       "      <td>19</td>\n",
       "    </tr>\n",
       "    <tr>\n",
       "      <th>2019-11-25</th>\n",
       "      <td>1457.099976</td>\n",
       "      <td>1457.099976</td>\n",
       "      <td>1455.500000</td>\n",
       "      <td>1456.599976</td>\n",
       "      <td>1456.599976</td>\n",
       "      <td>14</td>\n",
       "    </tr>\n",
       "    <tr>\n",
       "      <th>2019-11-26</th>\n",
       "      <td>1459.800049</td>\n",
       "      <td>1459.800049</td>\n",
       "      <td>1459.800049</td>\n",
       "      <td>1459.800049</td>\n",
       "      <td>1459.800049</td>\n",
       "      <td>346362</td>\n",
       "    </tr>\n",
       "    <tr>\n",
       "      <th>2019-11-27</th>\n",
       "      <td>1461.099976</td>\n",
       "      <td>1461.900024</td>\n",
       "      <td>1452.000000</td>\n",
       "      <td>1453.400024</td>\n",
       "      <td>1453.400024</td>\n",
       "      <td>88364</td>\n",
       "    </tr>\n",
       "    <tr>\n",
       "      <th>2019-11-29</th>\n",
       "      <td>1453.599976</td>\n",
       "      <td>1465.599976</td>\n",
       "      <td>1452.099976</td>\n",
       "      <td>1465.599976</td>\n",
       "      <td>1465.599976</td>\n",
       "      <td>7020</td>\n",
       "    </tr>\n",
       "  </tbody>\n",
       "</table>\n",
       "<p>732 rows × 6 columns</p>\n",
       "</div>"
      ],
      "text/plain": [
       "                   Open         High          Low        Close    Adj Close  \\\n",
       "Date                                                                          \n",
       "2017-01-03  1155.199951  1160.800049  1146.500000  1160.400024  1160.400024   \n",
       "2017-01-04  1156.300049  1165.000000  1156.300049  1163.800049  1163.800049   \n",
       "2017-01-05  1172.000000  1183.300049  1171.500000  1179.699951  1179.699951   \n",
       "2017-01-06  1176.500000  1176.500000  1171.900024  1171.900024  1171.900024   \n",
       "2017-01-09  1173.900024  1183.599976  1173.000000  1183.500000  1183.500000   \n",
       "...                 ...          ...          ...          ...          ...   \n",
       "2019-11-22  1468.599976  1468.599976  1463.099976  1463.099976  1463.099976   \n",
       "2019-11-25  1457.099976  1457.099976  1455.500000  1456.599976  1456.599976   \n",
       "2019-11-26  1459.800049  1459.800049  1459.800049  1459.800049  1459.800049   \n",
       "2019-11-27  1461.099976  1461.900024  1452.000000  1453.400024  1453.400024   \n",
       "2019-11-29  1453.599976  1465.599976  1452.099976  1465.599976  1465.599976   \n",
       "\n",
       "            Volume  \n",
       "Date                \n",
       "2017-01-03      52  \n",
       "2017-01-04      36  \n",
       "2017-01-05     500  \n",
       "2017-01-06      16  \n",
       "2017-01-09      62  \n",
       "...            ...  \n",
       "2019-11-22      19  \n",
       "2019-11-25      14  \n",
       "2019-11-26  346362  \n",
       "2019-11-27   88364  \n",
       "2019-11-29    7020  \n",
       "\n",
       "[732 rows x 6 columns]"
      ]
     },
     "execution_count": 31,
     "metadata": {},
     "output_type": "execute_result"
    }
   ],
   "source": [
    "# Download the data using yfinance.\n",
    "data = yf.download('GC=F', start='2017-01-01', end='2019-12-01')\n",
    "data.columns = data.columns.get_level_values(0)  \n",
    "#data = data['Close'].values.reshape(-1, 1)\n",
    "\n",
    "data"
   ]
  },
  {
   "cell_type": "code",
   "execution_count": 10,
   "metadata": {},
   "outputs": [],
   "source": [
    "news=pd.read_csv(\"C:/Users/akash/OneDrive/Documents/GitHub/MSDS_458_Group_N/Sentiment Analysis/Results_Sentiment_gold_Price.csv\")"
   ]
  },
  {
   "cell_type": "code",
   "execution_count": 12,
   "metadata": {},
   "outputs": [],
   "source": [
    "summary_df = news.groupby('Dates')['sentiment'].value_counts().unstack(fill_value=0)"
   ]
  },
  {
   "cell_type": "code",
   "execution_count": 14,
   "metadata": {},
   "outputs": [],
   "source": [
    "summary_df = summary_df.reset_index()"
   ]
  },
  {
   "cell_type": "code",
   "execution_count": 16,
   "metadata": {},
   "outputs": [],
   "source": [
    "summary_df['highest_sentiment'] = summary_df[['negative', 'neutral', 'positive']].idxmax(axis=1)\n"
   ]
  },
  {
   "cell_type": "code",
   "execution_count": 18,
   "metadata": {},
   "outputs": [],
   "source": [
    "summary_df['Dates'] = pd.to_datetime(summary_df['Dates'], format='%d-%m-%Y')"
   ]
  },
  {
   "cell_type": "code",
   "execution_count": 19,
   "metadata": {},
   "outputs": [],
   "source": [
    "summary_df = summary_df.sort_values(by='Dates')"
   ]
  },
  {
   "cell_type": "code",
   "execution_count": null,
   "metadata": {},
   "outputs": [],
   "source": [
    "result_df = summary_df[['Dates', 'highest_sentiment']]\n",
    "result_df = result_df.rename(columns={'Dates': 'Date'})"
   ]
  },
  {
   "cell_type": "code",
   "execution_count": 26,
   "metadata": {},
   "outputs": [
    {
     "name": "stderr",
     "output_type": "stream",
     "text": [
      "C:\\Users\\akash\\AppData\\Local\\Temp\\ipykernel_25196\\2911225026.py:1: SettingWithCopyWarning: \n",
      "A value is trying to be set on a copy of a slice from a DataFrame.\n",
      "Try using .loc[row_indexer,col_indexer] = value instead\n",
      "\n",
      "See the caveats in the documentation: https://pandas.pydata.org/pandas-docs/stable/user_guide/indexing.html#returning-a-view-versus-a-copy\n",
      "  result_df['highest_sentiment'] = result_df['highest_sentiment'].replace({\n"
     ]
    }
   ],
   "source": [
    "result_df['highest_sentiment'] = result_df['highest_sentiment'].replace({\n",
    "    'positive': +1,\n",
    "    'neutral': 0,\n",
    "    'negative': -1\n",
    "})"
   ]
  },
  {
   "cell_type": "code",
   "execution_count": 36,
   "metadata": {},
   "outputs": [
    {
     "name": "stdout",
     "output_type": "stream",
     "text": [
      "          Date         Open         High          Low        Close  \\\n",
      "0   2017-01-03  1155.199951  1160.800049  1146.500000  1160.400024   \n",
      "1   2017-01-04  1156.300049  1165.000000  1156.300049  1163.800049   \n",
      "2   2017-01-05  1172.000000  1183.300049  1171.500000  1179.699951   \n",
      "3   2017-01-06  1176.500000  1176.500000  1171.900024  1171.900024   \n",
      "4   2017-01-09  1173.900024  1183.599976  1173.000000  1183.500000   \n",
      "..         ...          ...          ...          ...          ...   \n",
      "506 2019-01-25  1297.400024  1297.400024  1297.400024  1297.400024   \n",
      "507 2019-01-28  1300.800049  1307.099976  1298.400024  1302.400024   \n",
      "508 2019-01-30  1310.400024  1323.400024  1308.099976  1309.900024   \n",
      "509 2019-01-31  1320.000000  1325.400024  1316.699951  1319.699951   \n",
      "510 2019-02-01  1320.300049  1320.699951  1315.400024  1316.900024   \n",
      "\n",
      "       Adj Close  Volume  highest_sentiment  \n",
      "0    1160.400024      52                  0  \n",
      "1    1163.800049      36                 -1  \n",
      "2    1179.699951     500                 -1  \n",
      "3    1171.900024      16                  0  \n",
      "4    1183.500000      62                 -1  \n",
      "..           ...     ...                ...  \n",
      "506  1297.400024       0                 -1  \n",
      "507  1302.400024      54                 -1  \n",
      "508  1309.900024   54958                 -1  \n",
      "509  1319.699951    1970                  0  \n",
      "510  1316.900024     878                  1  \n",
      "\n",
      "[511 rows x 8 columns]\n"
     ]
    }
   ],
   "source": [
    "# Join the two DataFrames on 'Dates'\n",
    "merged_df = pd.merge(data, result_df, on='Date', how='inner')  # Use 'inner', 'left', 'right', or 'outer' as needed\n",
    "\n",
    "# Display the merged DataFrame\n",
    "print(merged_df)\n",
    "\n"
   ]
  },
  {
   "cell_type": "code",
   "execution_count": 37,
   "metadata": {},
   "outputs": [],
   "source": [
    "merged_df.to_csv(\"final_gold_sentiment.csv\", index=False)"
   ]
  }
 ],
 "metadata": {
  "kernelspec": {
   "display_name": "base",
   "language": "python",
   "name": "python3"
  },
  "language_info": {
   "codemirror_mode": {
    "name": "ipython",
    "version": 3
   },
   "file_extension": ".py",
   "mimetype": "text/x-python",
   "name": "python",
   "nbconvert_exporter": "python",
   "pygments_lexer": "ipython3",
   "version": "3.11.7"
  }
 },
 "nbformat": 4,
 "nbformat_minor": 2
}
