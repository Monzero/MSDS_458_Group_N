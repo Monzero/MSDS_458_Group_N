{
 "cells": [
  {
   "cell_type": "code",
   "execution_count": null,
   "metadata": {},
   "outputs": [],
   "source": [
    "\n"
   ]
  },
  {
   "cell_type": "code",
   "execution_count": 96,
   "metadata": {},
   "outputs": [],
   "source": [
    "import pandas as  pd\n",
    "import yfinance as yf"
   ]
  },
  {
   "cell_type": "code",
   "execution_count": 97,
   "metadata": {},
   "outputs": [
    {
     "name": "stderr",
     "output_type": "stream",
     "text": [
      "[*********************100%***********************]  1 of 1 completed"
     ]
    },
    {
     "name": "stdout",
     "output_type": "stream",
     "text": [
      "Price                      Date     Adj Close         Close          High  \\\n",
      "0     2021-01-04 00:00:00+00:00  14132.900391  14132.900391  14147.950195   \n",
      "1     2021-01-05 00:00:00+00:00  14199.500000  14199.500000  14215.599609   \n",
      "2     2021-01-06 00:00:00+00:00  14146.250000  14146.250000  14244.150391   \n",
      "3     2021-01-07 00:00:00+00:00  14137.349609  14137.349609  14256.250000   \n",
      "4     2021-01-08 00:00:00+00:00  14347.250000  14347.250000  14367.299805   \n",
      "\n",
      "Price           Low          Open  Volume  \n",
      "0      13953.750000  14104.349609  495000  \n",
      "1      14048.150391  14075.150391  492500  \n",
      "2      14039.900391  14240.950195  632300  \n",
      "3      14123.099609  14253.750000  559200  \n",
      "4      14221.650391  14258.400391  613500  \n"
     ]
    },
    {
     "name": "stderr",
     "output_type": "stream",
     "text": [
      "\n"
     ]
    }
   ],
   "source": [
    "#df_train_all    = pd.read_csv('data/SPX.csv')\n",
    "\n",
    "start_date = \"2021-01-03\"\n",
    "end_date   = \"2024-11-01\"\n",
    "\n",
    "data = yf.download(\"^NSEI\", start=start_date, end=end_date)\n",
    "data.columns = data.columns.get_level_values(0) # from multi index to single index\n",
    "\n",
    "data = data.reset_index()\n",
    "\n",
    "print(data.head())\n",
    "\n",
    "\n"
   ]
  },
  {
   "cell_type": "code",
   "execution_count": 98,
   "metadata": {},
   "outputs": [],
   "source": [
    "\n",
    "\n",
    "df= data.copy()"
   ]
  },
  {
   "cell_type": "markdown",
   "metadata": {},
   "source": [
    "Data preprocessing"
   ]
  },
  {
   "cell_type": "code",
   "execution_count": 99,
   "metadata": {},
   "outputs": [
    {
     "name": "stdout",
     "output_type": "stream",
     "text": [
      "Price\n",
      "Date         0\n",
      "Adj Close    0\n",
      "Close        0\n",
      "High         0\n",
      "Low          0\n",
      "Open         0\n",
      "Volume       0\n",
      "dtype: int64\n"
     ]
    },
    {
     "name": "stderr",
     "output_type": "stream",
     "text": [
      "C:\\Users\\sadha\\AppData\\Local\\Temp\\ipykernel_48616\\3642176079.py:4: FutureWarning: DataFrame.fillna with 'method' is deprecated and will raise in a future version. Use obj.ffill() or obj.bfill() instead.\n",
      "  df.fillna(method='ffill', inplace=True)\n"
     ]
    }
   ],
   "source": [
    "print(df.isnull().sum())\n",
    "\n",
    "# Optionally, fill missing values with forward filling or drop them\n",
    "df.fillna(method='ffill', inplace=True)"
   ]
  },
  {
   "cell_type": "code",
   "execution_count": 100,
   "metadata": {},
   "outputs": [
    {
     "data": {
      "text/plain": [
       "Index(['Date', 'Adj Close', 'Close', 'High', 'Low', 'Open', 'Volume'], dtype='object', name='Price')"
      ]
     },
     "execution_count": 100,
     "metadata": {},
     "output_type": "execute_result"
    }
   ],
   "source": [
    "df.columns"
   ]
  },
  {
   "cell_type": "code",
   "execution_count": 101,
   "metadata": {},
   "outputs": [],
   "source": [
    "\n",
    "\n",
    "# Set 'Date' as the index\n",
    "#df.set_index('Date ', inplace=True)\n",
    "\n",
    "# Show the cleaned data\n",
    "df.head()\n",
    "data = df.copy()"
   ]
  },
  {
   "cell_type": "code",
   "execution_count": 102,
   "metadata": {},
   "outputs": [
    {
     "data": {
      "text/html": [
       "<div>\n",
       "<style scoped>\n",
       "    .dataframe tbody tr th:only-of-type {\n",
       "        vertical-align: middle;\n",
       "    }\n",
       "\n",
       "    .dataframe tbody tr th {\n",
       "        vertical-align: top;\n",
       "    }\n",
       "\n",
       "    .dataframe thead th {\n",
       "        text-align: right;\n",
       "    }\n",
       "</style>\n",
       "<table border=\"1\" class=\"dataframe\">\n",
       "  <thead>\n",
       "    <tr style=\"text-align: right;\">\n",
       "      <th>Price</th>\n",
       "      <th>Date</th>\n",
       "      <th>Adj Close</th>\n",
       "      <th>Close</th>\n",
       "      <th>High</th>\n",
       "      <th>Low</th>\n",
       "      <th>Open</th>\n",
       "      <th>Volume</th>\n",
       "    </tr>\n",
       "  </thead>\n",
       "  <tbody>\n",
       "    <tr>\n",
       "      <th>0</th>\n",
       "      <td>2021-01-04 00:00:00+00:00</td>\n",
       "      <td>14132.900391</td>\n",
       "      <td>14132.900391</td>\n",
       "      <td>14147.950195</td>\n",
       "      <td>13953.750000</td>\n",
       "      <td>14104.349609</td>\n",
       "      <td>495000</td>\n",
       "    </tr>\n",
       "    <tr>\n",
       "      <th>1</th>\n",
       "      <td>2021-01-05 00:00:00+00:00</td>\n",
       "      <td>14199.500000</td>\n",
       "      <td>14199.500000</td>\n",
       "      <td>14215.599609</td>\n",
       "      <td>14048.150391</td>\n",
       "      <td>14075.150391</td>\n",
       "      <td>492500</td>\n",
       "    </tr>\n",
       "    <tr>\n",
       "      <th>2</th>\n",
       "      <td>2021-01-06 00:00:00+00:00</td>\n",
       "      <td>14146.250000</td>\n",
       "      <td>14146.250000</td>\n",
       "      <td>14244.150391</td>\n",
       "      <td>14039.900391</td>\n",
       "      <td>14240.950195</td>\n",
       "      <td>632300</td>\n",
       "    </tr>\n",
       "    <tr>\n",
       "      <th>3</th>\n",
       "      <td>2021-01-07 00:00:00+00:00</td>\n",
       "      <td>14137.349609</td>\n",
       "      <td>14137.349609</td>\n",
       "      <td>14256.250000</td>\n",
       "      <td>14123.099609</td>\n",
       "      <td>14253.750000</td>\n",
       "      <td>559200</td>\n",
       "    </tr>\n",
       "    <tr>\n",
       "      <th>4</th>\n",
       "      <td>2021-01-08 00:00:00+00:00</td>\n",
       "      <td>14347.250000</td>\n",
       "      <td>14347.250000</td>\n",
       "      <td>14367.299805</td>\n",
       "      <td>14221.650391</td>\n",
       "      <td>14258.400391</td>\n",
       "      <td>613500</td>\n",
       "    </tr>\n",
       "  </tbody>\n",
       "</table>\n",
       "</div>"
      ],
      "text/plain": [
       "Price                      Date     Adj Close         Close          High  \\\n",
       "0     2021-01-04 00:00:00+00:00  14132.900391  14132.900391  14147.950195   \n",
       "1     2021-01-05 00:00:00+00:00  14199.500000  14199.500000  14215.599609   \n",
       "2     2021-01-06 00:00:00+00:00  14146.250000  14146.250000  14244.150391   \n",
       "3     2021-01-07 00:00:00+00:00  14137.349609  14137.349609  14256.250000   \n",
       "4     2021-01-08 00:00:00+00:00  14347.250000  14347.250000  14367.299805   \n",
       "\n",
       "Price           Low          Open  Volume  \n",
       "0      13953.750000  14104.349609  495000  \n",
       "1      14048.150391  14075.150391  492500  \n",
       "2      14039.900391  14240.950195  632300  \n",
       "3      14123.099609  14253.750000  559200  \n",
       "4      14221.650391  14258.400391  613500  "
      ]
     },
     "execution_count": 102,
     "metadata": {},
     "output_type": "execute_result"
    }
   ],
   "source": [
    "data.head()"
   ]
  },
  {
   "cell_type": "code",
   "execution_count": 103,
   "metadata": {},
   "outputs": [
    {
     "data": {
      "text/html": [
       "<div>\n",
       "<style scoped>\n",
       "    .dataframe tbody tr th:only-of-type {\n",
       "        vertical-align: middle;\n",
       "    }\n",
       "\n",
       "    .dataframe tbody tr th {\n",
       "        vertical-align: top;\n",
       "    }\n",
       "\n",
       "    .dataframe thead th {\n",
       "        text-align: right;\n",
       "    }\n",
       "</style>\n",
       "<table border=\"1\" class=\"dataframe\">\n",
       "  <thead>\n",
       "    <tr style=\"text-align: right;\">\n",
       "      <th>Price</th>\n",
       "      <th>Date</th>\n",
       "      <th>Adj Close</th>\n",
       "      <th>Close</th>\n",
       "      <th>High</th>\n",
       "      <th>Low</th>\n",
       "      <th>Open</th>\n",
       "      <th>Volume</th>\n",
       "    </tr>\n",
       "  </thead>\n",
       "  <tbody>\n",
       "    <tr>\n",
       "      <th>941</th>\n",
       "      <td>2024-10-25 00:00:00+00:00</td>\n",
       "      <td>24180.800781</td>\n",
       "      <td>24180.800781</td>\n",
       "      <td>24440.250000</td>\n",
       "      <td>24073.900391</td>\n",
       "      <td>24418.050781</td>\n",
       "      <td>372600</td>\n",
       "    </tr>\n",
       "    <tr>\n",
       "      <th>942</th>\n",
       "      <td>2024-10-28 00:00:00+00:00</td>\n",
       "      <td>24339.150391</td>\n",
       "      <td>24339.150391</td>\n",
       "      <td>24492.599609</td>\n",
       "      <td>24134.900391</td>\n",
       "      <td>24251.099609</td>\n",
       "      <td>278600</td>\n",
       "    </tr>\n",
       "    <tr>\n",
       "      <th>943</th>\n",
       "      <td>2024-10-29 00:00:00+00:00</td>\n",
       "      <td>24466.849609</td>\n",
       "      <td>24466.849609</td>\n",
       "      <td>24484.500000</td>\n",
       "      <td>24140.849609</td>\n",
       "      <td>24328.849609</td>\n",
       "      <td>332000</td>\n",
       "    </tr>\n",
       "    <tr>\n",
       "      <th>944</th>\n",
       "      <td>2024-10-30 00:00:00+00:00</td>\n",
       "      <td>24340.849609</td>\n",
       "      <td>24340.849609</td>\n",
       "      <td>24498.199219</td>\n",
       "      <td>24307.300781</td>\n",
       "      <td>24371.449219</td>\n",
       "      <td>285200</td>\n",
       "    </tr>\n",
       "    <tr>\n",
       "      <th>945</th>\n",
       "      <td>2024-10-31 00:00:00+00:00</td>\n",
       "      <td>24205.349609</td>\n",
       "      <td>24205.349609</td>\n",
       "      <td>24372.449219</td>\n",
       "      <td>24172.599609</td>\n",
       "      <td>24349.849609</td>\n",
       "      <td>287000</td>\n",
       "    </tr>\n",
       "  </tbody>\n",
       "</table>\n",
       "</div>"
      ],
      "text/plain": [
       "Price                      Date     Adj Close         Close          High  \\\n",
       "941   2024-10-25 00:00:00+00:00  24180.800781  24180.800781  24440.250000   \n",
       "942   2024-10-28 00:00:00+00:00  24339.150391  24339.150391  24492.599609   \n",
       "943   2024-10-29 00:00:00+00:00  24466.849609  24466.849609  24484.500000   \n",
       "944   2024-10-30 00:00:00+00:00  24340.849609  24340.849609  24498.199219   \n",
       "945   2024-10-31 00:00:00+00:00  24205.349609  24205.349609  24372.449219   \n",
       "\n",
       "Price           Low          Open  Volume  \n",
       "941    24073.900391  24418.050781  372600  \n",
       "942    24134.900391  24251.099609  278600  \n",
       "943    24140.849609  24328.849609  332000  \n",
       "944    24307.300781  24371.449219  285200  \n",
       "945    24172.599609  24349.849609  287000  "
      ]
     },
     "execution_count": 103,
     "metadata": {},
     "output_type": "execute_result"
    }
   ],
   "source": [
    "data.tail()"
   ]
  },
  {
   "cell_type": "code",
   "execution_count": 104,
   "metadata": {},
   "outputs": [
    {
     "data": {
      "text/plain": [
       "Index(['Date', 'Adj Close', 'Close', 'High', 'Low', 'Open', 'Volume'], dtype='object', name='Price')"
      ]
     },
     "execution_count": 104,
     "metadata": {},
     "output_type": "execute_result"
    }
   ],
   "source": [
    "data.columns"
   ]
  },
  {
   "cell_type": "code",
   "execution_count": 105,
   "metadata": {},
   "outputs": [],
   "source": [
    "data_copy= data.copy()"
   ]
  },
  {
   "cell_type": "code",
   "execution_count": 106,
   "metadata": {},
   "outputs": [
    {
     "data": {
      "text/plain": [
       "(946, 7)"
      ]
     },
     "execution_count": 106,
     "metadata": {},
     "output_type": "execute_result"
    }
   ],
   "source": [
    "data_copy.shape"
   ]
  },
  {
   "cell_type": "code",
   "execution_count": 107,
   "metadata": {},
   "outputs": [
    {
     "name": "stdout",
     "output_type": "stream",
     "text": [
      "X shape: (938, 8, 6)\n",
      "X_train shape: (825, 8, 6), y_train shape: (825,)\n",
      "X_test shape: (113, 8, 6), y_test shape: (113,)\n"
     ]
    }
   ],
   "source": [
    "import numpy as np\n",
    "import pandas as pd\n",
    "from sklearn.preprocessing import MinMaxScaler\n",
    "\n",
    "# Drop the 'Date' column as it's not numeric\n",
    "data = data.drop('Date', axis=1)\n",
    "\n",
    "# Convert to a NumPy array\n",
    "data_values = data.values  # Includes all numeric columns\n",
    "\n",
    "# Normalize the entire dataset\n",
    "scaler = MinMaxScaler(feature_range=(0, 1))\n",
    "scaled_data = scaler.fit_transform(data_values)\n",
    "\n",
    "# Create sequences for all columns\n",
    "def create_sequences_all_columns(data, sequence_length=8):\n",
    "    sequences = []\n",
    "    labels = []\n",
    "    for i in range(sequence_length, len(data)):\n",
    "        sequences.append(data[i-sequence_length:i, :])  # All columns as input\n",
    "        labels.append(data[i, 3])  # The 'Close' column as the target (index 3)\n",
    "    return np.array(sequences), np.array(labels)\n",
    "\n",
    "# Generate sequences\n",
    "sequence_length = 8  # Last 60 rows as input\n",
    "X, y = create_sequences_all_columns(scaled_data, sequence_length)\n",
    "\n",
    "\n",
    "X = X.reshape(X.shape[0], X.shape[1], X.shape[2])\n",
    "\n",
    "print(f\"X shape: {X.shape}\")\n",
    "train_size = int(len(X) * 0.88)\n",
    "X_train, X_test = X[:train_size], X[train_size:]\n",
    "y_train, y_test = y[:train_size], y[train_size:]\n",
    "\n",
    "# Print shapes for verification\n",
    "print(f\"X_train shape: {X_train.shape}, y_train shape: {y_train.shape}\")\n",
    "print(f\"X_test shape: {X_test.shape}, y_test shape: {y_test.shape}\")\n",
    "\n"
   ]
  },
  {
   "cell_type": "code",
   "execution_count": 108,
   "metadata": {},
   "outputs": [],
   "source": [
    " import tensorflow as tf\n",
    "\n",
    "# # Build the TCNN model with dilated convolutions\n",
    "# model = tf.keras.Sequential([\n",
    "#     tf.keras.layers.Conv1D(filters=128, kernel_size=2, activation='relu', input_shape=(X_train.shape[1], 6), dilation_rate=1),  # No dilation for first layer\n",
    "#     tf.keras.layers.Conv1D(filters=64, kernel_size=2, activation='relu', dilation_rate=4),  # Dilated convolution in second layer\n",
    "#     tf.keras.layers.GlobalAveragePooling1D(),\n",
    "#     tf.keras.layers.Dense(32, activation='relu'),\n",
    "#     tf.keras.layers.Dense(1)  # Output layer for regression (next day's price)\n",
    "# ])\n",
    "\n",
    "# # Compile the model\n",
    "# #model.compile(optimizer='adam', loss='mean_squared_error', )\n",
    "# model.compile(optimizer='adam', loss='mse', metrics=['mae','mse'])\n",
    "# # Print model summary\n",
    "# model.summary()"
   ]
  },
  {
   "cell_type": "code",
   "execution_count": 109,
   "metadata": {},
   "outputs": [
    {
     "name": "stderr",
     "output_type": "stream",
     "text": [
      "c:\\Sadhana\\458\\Module_7\\.conda\\Lib\\site-packages\\keras\\src\\layers\\convolutional\\base_conv.py:107: UserWarning: Do not pass an `input_shape`/`input_dim` argument to a layer. When using Sequential models, prefer using an `Input(shape)` object as the first layer in the model instead.\n",
      "  super().__init__(activity_regularizer=activity_regularizer, **kwargs)\n"
     ]
    }
   ],
   "source": [
    "class SelfAttention(tf.keras.layers.Layer):\n",
    "    def __init__(self, units):\n",
    "        super(SelfAttention, self).__init__()\n",
    "        self.query_dense = tf.keras.layers.Dense(units)\n",
    "        self.key_dense = tf.keras.layers.Dense(units)\n",
    "        self.value_dense = tf.keras.layers.Dense(units)\n",
    "        self.softmax = tf.keras.layers.Softmax(axis=-1)\n",
    "\n",
    "    def call(self, inputs):\n",
    "        query = self.query_dense(inputs)\n",
    "        key = self.key_dense(inputs)\n",
    "        value = self.value_dense(inputs)\n",
    "        attention_weights = self.softmax(tf.matmul(query, key, transpose_b=True) / tf.sqrt(tf.cast(tf.shape(key)[-1], tf.float32)))\n",
    "        return tf.matmul(attention_weights, value)\n",
    "\n",
    "model = tf.keras.Sequential([\n",
    "    # Initial convolution layers\n",
    "    tf.keras.layers.Conv1D(filters=128, kernel_size=2, activation='relu', input_shape=(X_train.shape[1], 6), dilation_rate=1, padding='causal'),\n",
    "    tf.keras.layers.Conv1D(filters=64, kernel_size=2, activation='relu', dilation_rate=2, padding='causal'),\n",
    "    tf.keras.layers.Conv1D(filters=128, kernel_size=2, activation='relu', dilation_rate=4, padding='causal'),\n",
    "    \n",
    "    # Self-Attention layer\n",
    "    SelfAttention(units=128),\n",
    "    \n",
    "    # Global pooling and dense layers\n",
    "    tf.keras.layers.GlobalAveragePooling1D(),\n",
    "    tf.keras.layers.Dense(32, activation='relu'),\n",
    "    tf.keras.layers.Dropout(0.2),\n",
    "    tf.keras.layers.Dense(64, activation='relu'),\n",
    "    tf.keras.layers.Dropout(0.2),\n",
    "    \n",
    "    # Output layer\n",
    "    tf.keras.layers.Dense(1)\n",
    "])\n",
    "\n"
   ]
  },
  {
   "cell_type": "code",
   "execution_count": 110,
   "metadata": {},
   "outputs": [
    {
     "data": {
      "text/html": [
       "<pre style=\"white-space:pre;overflow-x:auto;line-height:normal;font-family:Menlo,'DejaVu Sans Mono',consolas,'Courier New',monospace\"><span style=\"font-weight: bold\">Model: \"sequential_5\"</span>\n",
       "</pre>\n"
      ],
      "text/plain": [
       "\u001b[1mModel: \"sequential_5\"\u001b[0m\n"
      ]
     },
     "metadata": {},
     "output_type": "display_data"
    },
    {
     "data": {
      "text/html": [
       "<pre style=\"white-space:pre;overflow-x:auto;line-height:normal;font-family:Menlo,'DejaVu Sans Mono',consolas,'Courier New',monospace\">┏━━━━━━━━━━━━━━━━━━━━━━━━━━━━━━━━━┳━━━━━━━━━━━━━━━━━━━━━━━━┳━━━━━━━━━━━━━━━┓\n",
       "┃<span style=\"font-weight: bold\"> Layer (type)                    </span>┃<span style=\"font-weight: bold\"> Output Shape           </span>┃<span style=\"font-weight: bold\">       Param # </span>┃\n",
       "┡━━━━━━━━━━━━━━━━━━━━━━━━━━━━━━━━━╇━━━━━━━━━━━━━━━━━━━━━━━━╇━━━━━━━━━━━━━━━┩\n",
       "│ conv1d_15 (<span style=\"color: #0087ff; text-decoration-color: #0087ff\">Conv1D</span>)              │ (<span style=\"color: #00d7ff; text-decoration-color: #00d7ff\">None</span>, <span style=\"color: #00af00; text-decoration-color: #00af00\">8</span>, <span style=\"color: #00af00; text-decoration-color: #00af00\">128</span>)         │         <span style=\"color: #00af00; text-decoration-color: #00af00\">1,664</span> │\n",
       "├─────────────────────────────────┼────────────────────────┼───────────────┤\n",
       "│ conv1d_16 (<span style=\"color: #0087ff; text-decoration-color: #0087ff\">Conv1D</span>)              │ (<span style=\"color: #00d7ff; text-decoration-color: #00d7ff\">None</span>, <span style=\"color: #00af00; text-decoration-color: #00af00\">8</span>, <span style=\"color: #00af00; text-decoration-color: #00af00\">64</span>)          │        <span style=\"color: #00af00; text-decoration-color: #00af00\">16,448</span> │\n",
       "├─────────────────────────────────┼────────────────────────┼───────────────┤\n",
       "│ conv1d_17 (<span style=\"color: #0087ff; text-decoration-color: #0087ff\">Conv1D</span>)              │ (<span style=\"color: #00d7ff; text-decoration-color: #00d7ff\">None</span>, <span style=\"color: #00af00; text-decoration-color: #00af00\">8</span>, <span style=\"color: #00af00; text-decoration-color: #00af00\">128</span>)         │        <span style=\"color: #00af00; text-decoration-color: #00af00\">16,512</span> │\n",
       "├─────────────────────────────────┼────────────────────────┼───────────────┤\n",
       "│ self_attention_5                │ (<span style=\"color: #00d7ff; text-decoration-color: #00d7ff\">None</span>, <span style=\"color: #00af00; text-decoration-color: #00af00\">8</span>, <span style=\"color: #00af00; text-decoration-color: #00af00\">128</span>)         │        <span style=\"color: #00af00; text-decoration-color: #00af00\">49,536</span> │\n",
       "│ (<span style=\"color: #0087ff; text-decoration-color: #0087ff\">SelfAttention</span>)                 │                        │               │\n",
       "├─────────────────────────────────┼────────────────────────┼───────────────┤\n",
       "│ global_average_pooling1d_5      │ (<span style=\"color: #00d7ff; text-decoration-color: #00d7ff\">None</span>, <span style=\"color: #00af00; text-decoration-color: #00af00\">128</span>)            │             <span style=\"color: #00af00; text-decoration-color: #00af00\">0</span> │\n",
       "│ (<span style=\"color: #0087ff; text-decoration-color: #0087ff\">GlobalAveragePooling1D</span>)        │                        │               │\n",
       "├─────────────────────────────────┼────────────────────────┼───────────────┤\n",
       "│ dense_33 (<span style=\"color: #0087ff; text-decoration-color: #0087ff\">Dense</span>)                │ (<span style=\"color: #00d7ff; text-decoration-color: #00d7ff\">None</span>, <span style=\"color: #00af00; text-decoration-color: #00af00\">32</span>)             │         <span style=\"color: #00af00; text-decoration-color: #00af00\">4,128</span> │\n",
       "├─────────────────────────────────┼────────────────────────┼───────────────┤\n",
       "│ dropout_10 (<span style=\"color: #0087ff; text-decoration-color: #0087ff\">Dropout</span>)            │ (<span style=\"color: #00d7ff; text-decoration-color: #00d7ff\">None</span>, <span style=\"color: #00af00; text-decoration-color: #00af00\">32</span>)             │             <span style=\"color: #00af00; text-decoration-color: #00af00\">0</span> │\n",
       "├─────────────────────────────────┼────────────────────────┼───────────────┤\n",
       "│ dense_34 (<span style=\"color: #0087ff; text-decoration-color: #0087ff\">Dense</span>)                │ (<span style=\"color: #00d7ff; text-decoration-color: #00d7ff\">None</span>, <span style=\"color: #00af00; text-decoration-color: #00af00\">64</span>)             │         <span style=\"color: #00af00; text-decoration-color: #00af00\">2,112</span> │\n",
       "├─────────────────────────────────┼────────────────────────┼───────────────┤\n",
       "│ dropout_11 (<span style=\"color: #0087ff; text-decoration-color: #0087ff\">Dropout</span>)            │ (<span style=\"color: #00d7ff; text-decoration-color: #00d7ff\">None</span>, <span style=\"color: #00af00; text-decoration-color: #00af00\">64</span>)             │             <span style=\"color: #00af00; text-decoration-color: #00af00\">0</span> │\n",
       "├─────────────────────────────────┼────────────────────────┼───────────────┤\n",
       "│ dense_35 (<span style=\"color: #0087ff; text-decoration-color: #0087ff\">Dense</span>)                │ (<span style=\"color: #00d7ff; text-decoration-color: #00d7ff\">None</span>, <span style=\"color: #00af00; text-decoration-color: #00af00\">1</span>)              │            <span style=\"color: #00af00; text-decoration-color: #00af00\">65</span> │\n",
       "└─────────────────────────────────┴────────────────────────┴───────────────┘\n",
       "</pre>\n"
      ],
      "text/plain": [
       "┏━━━━━━━━━━━━━━━━━━━━━━━━━━━━━━━━━┳━━━━━━━━━━━━━━━━━━━━━━━━┳━━━━━━━━━━━━━━━┓\n",
       "┃\u001b[1m \u001b[0m\u001b[1mLayer (type)                   \u001b[0m\u001b[1m \u001b[0m┃\u001b[1m \u001b[0m\u001b[1mOutput Shape          \u001b[0m\u001b[1m \u001b[0m┃\u001b[1m \u001b[0m\u001b[1m      Param #\u001b[0m\u001b[1m \u001b[0m┃\n",
       "┡━━━━━━━━━━━━━━━━━━━━━━━━━━━━━━━━━╇━━━━━━━━━━━━━━━━━━━━━━━━╇━━━━━━━━━━━━━━━┩\n",
       "│ conv1d_15 (\u001b[38;5;33mConv1D\u001b[0m)              │ (\u001b[38;5;45mNone\u001b[0m, \u001b[38;5;34m8\u001b[0m, \u001b[38;5;34m128\u001b[0m)         │         \u001b[38;5;34m1,664\u001b[0m │\n",
       "├─────────────────────────────────┼────────────────────────┼───────────────┤\n",
       "│ conv1d_16 (\u001b[38;5;33mConv1D\u001b[0m)              │ (\u001b[38;5;45mNone\u001b[0m, \u001b[38;5;34m8\u001b[0m, \u001b[38;5;34m64\u001b[0m)          │        \u001b[38;5;34m16,448\u001b[0m │\n",
       "├─────────────────────────────────┼────────────────────────┼───────────────┤\n",
       "│ conv1d_17 (\u001b[38;5;33mConv1D\u001b[0m)              │ (\u001b[38;5;45mNone\u001b[0m, \u001b[38;5;34m8\u001b[0m, \u001b[38;5;34m128\u001b[0m)         │        \u001b[38;5;34m16,512\u001b[0m │\n",
       "├─────────────────────────────────┼────────────────────────┼───────────────┤\n",
       "│ self_attention_5                │ (\u001b[38;5;45mNone\u001b[0m, \u001b[38;5;34m8\u001b[0m, \u001b[38;5;34m128\u001b[0m)         │        \u001b[38;5;34m49,536\u001b[0m │\n",
       "│ (\u001b[38;5;33mSelfAttention\u001b[0m)                 │                        │               │\n",
       "├─────────────────────────────────┼────────────────────────┼───────────────┤\n",
       "│ global_average_pooling1d_5      │ (\u001b[38;5;45mNone\u001b[0m, \u001b[38;5;34m128\u001b[0m)            │             \u001b[38;5;34m0\u001b[0m │\n",
       "│ (\u001b[38;5;33mGlobalAveragePooling1D\u001b[0m)        │                        │               │\n",
       "├─────────────────────────────────┼────────────────────────┼───────────────┤\n",
       "│ dense_33 (\u001b[38;5;33mDense\u001b[0m)                │ (\u001b[38;5;45mNone\u001b[0m, \u001b[38;5;34m32\u001b[0m)             │         \u001b[38;5;34m4,128\u001b[0m │\n",
       "├─────────────────────────────────┼────────────────────────┼───────────────┤\n",
       "│ dropout_10 (\u001b[38;5;33mDropout\u001b[0m)            │ (\u001b[38;5;45mNone\u001b[0m, \u001b[38;5;34m32\u001b[0m)             │             \u001b[38;5;34m0\u001b[0m │\n",
       "├─────────────────────────────────┼────────────────────────┼───────────────┤\n",
       "│ dense_34 (\u001b[38;5;33mDense\u001b[0m)                │ (\u001b[38;5;45mNone\u001b[0m, \u001b[38;5;34m64\u001b[0m)             │         \u001b[38;5;34m2,112\u001b[0m │\n",
       "├─────────────────────────────────┼────────────────────────┼───────────────┤\n",
       "│ dropout_11 (\u001b[38;5;33mDropout\u001b[0m)            │ (\u001b[38;5;45mNone\u001b[0m, \u001b[38;5;34m64\u001b[0m)             │             \u001b[38;5;34m0\u001b[0m │\n",
       "├─────────────────────────────────┼────────────────────────┼───────────────┤\n",
       "│ dense_35 (\u001b[38;5;33mDense\u001b[0m)                │ (\u001b[38;5;45mNone\u001b[0m, \u001b[38;5;34m1\u001b[0m)              │            \u001b[38;5;34m65\u001b[0m │\n",
       "└─────────────────────────────────┴────────────────────────┴───────────────┘\n"
      ]
     },
     "metadata": {},
     "output_type": "display_data"
    },
    {
     "data": {
      "text/html": [
       "<pre style=\"white-space:pre;overflow-x:auto;line-height:normal;font-family:Menlo,'DejaVu Sans Mono',consolas,'Courier New',monospace\"><span style=\"font-weight: bold\"> Total params: </span><span style=\"color: #00af00; text-decoration-color: #00af00\">90,465</span> (353.38 KB)\n",
       "</pre>\n"
      ],
      "text/plain": [
       "\u001b[1m Total params: \u001b[0m\u001b[38;5;34m90,465\u001b[0m (353.38 KB)\n"
      ]
     },
     "metadata": {},
     "output_type": "display_data"
    },
    {
     "data": {
      "text/html": [
       "<pre style=\"white-space:pre;overflow-x:auto;line-height:normal;font-family:Menlo,'DejaVu Sans Mono',consolas,'Courier New',monospace\"><span style=\"font-weight: bold\"> Trainable params: </span><span style=\"color: #00af00; text-decoration-color: #00af00\">90,465</span> (353.38 KB)\n",
       "</pre>\n"
      ],
      "text/plain": [
       "\u001b[1m Trainable params: \u001b[0m\u001b[38;5;34m90,465\u001b[0m (353.38 KB)\n"
      ]
     },
     "metadata": {},
     "output_type": "display_data"
    },
    {
     "data": {
      "text/html": [
       "<pre style=\"white-space:pre;overflow-x:auto;line-height:normal;font-family:Menlo,'DejaVu Sans Mono',consolas,'Courier New',monospace\"><span style=\"font-weight: bold\"> Non-trainable params: </span><span style=\"color: #00af00; text-decoration-color: #00af00\">0</span> (0.00 B)\n",
       "</pre>\n"
      ],
      "text/plain": [
       "\u001b[1m Non-trainable params: \u001b[0m\u001b[38;5;34m0\u001b[0m (0.00 B)\n"
      ]
     },
     "metadata": {},
     "output_type": "display_data"
    },
    {
     "name": "stderr",
     "output_type": "stream",
     "text": [
      "WARNING:absl:You are saving your model as an HDF5 file via `model.save()` or `keras.saving.save_model(model)`. This file format is considered legacy. We recommend using instead the native Keras format, e.g. `model.save('my_model.keras')` or `keras.saving.save_model(model, 'my_model.keras')`. \n"
     ]
    }
   ],
   "source": [
    "#model.compile(optimizer='adam', loss='mean_squared_error', )\n",
    "model.compile(optimizer='adam', loss='mse', metrics=['mae','mse'])\n",
    "# Print model summary\n",
    "model.summary()\n",
    "\n",
    "model.save('model.h5')"
   ]
  },
  {
   "cell_type": "code",
   "execution_count": 111,
   "metadata": {},
   "outputs": [
    {
     "name": "stdout",
     "output_type": "stream",
     "text": [
      "Epoch 1/15\n",
      "\u001b[1m13/13\u001b[0m \u001b[32m━━━━━━━━━━━━━━━━━━━━\u001b[0m\u001b[37m\u001b[0m \u001b[1m2s\u001b[0m 22ms/step - loss: 0.0945 - mae: 0.2589 - mse: 0.0945 - val_loss: 0.0065 - val_mae: 0.0742 - val_mse: 0.0065\n",
      "Epoch 2/15\n",
      "\u001b[1m13/13\u001b[0m \u001b[32m━━━━━━━━━━━━━━━━━━━━\u001b[0m\u001b[37m\u001b[0m \u001b[1m0s\u001b[0m 7ms/step - loss: 0.0172 - mae: 0.1034 - mse: 0.0172 - val_loss: 0.0016 - val_mae: 0.0340 - val_mse: 0.0016\n",
      "Epoch 3/15\n",
      "\u001b[1m13/13\u001b[0m \u001b[32m━━━━━━━━━━━━━━━━━━━━\u001b[0m\u001b[37m\u001b[0m \u001b[1m0s\u001b[0m 7ms/step - loss: 0.0097 - mae: 0.0752 - mse: 0.0097 - val_loss: 0.0028 - val_mae: 0.0457 - val_mse: 0.0028\n",
      "Epoch 4/15\n",
      "\u001b[1m13/13\u001b[0m \u001b[32m━━━━━━━━━━━━━━━━━━━━\u001b[0m\u001b[37m\u001b[0m \u001b[1m0s\u001b[0m 7ms/step - loss: 0.0063 - mae: 0.0596 - mse: 0.0063 - val_loss: 0.0015 - val_mae: 0.0319 - val_mse: 0.0015\n",
      "Epoch 5/15\n",
      "\u001b[1m13/13\u001b[0m \u001b[32m━━━━━━━━━━━━━━━━━━━━\u001b[0m\u001b[37m\u001b[0m \u001b[1m0s\u001b[0m 7ms/step - loss: 0.0057 - mae: 0.0568 - mse: 0.0057 - val_loss: 0.0084 - val_mae: 0.0859 - val_mse: 0.0084\n",
      "Epoch 6/15\n",
      "\u001b[1m13/13\u001b[0m \u001b[32m━━━━━━━━━━━━━━━━━━━━\u001b[0m\u001b[37m\u001b[0m \u001b[1m0s\u001b[0m 7ms/step - loss: 0.0057 - mae: 0.0540 - mse: 0.0057 - val_loss: 0.0133 - val_mae: 0.1104 - val_mse: 0.0133\n",
      "Validation MAE: 0.11035211384296417\n"
     ]
    },
    {
     "data": {
      "image/png": "[encoded data removed]",
      "text/plain": [
       "<Figure size 640x480 with 1 Axes>"
      ]
     },
     "metadata": {},
     "output_type": "display_data"
    }
   ],
   "source": [
    "from tensorflow.keras.callbacks import EarlyStopping\n",
    "from matplotlib import pyplot as plt\n",
    "\n",
    "# Define early stopping\n",
    "early_stopping = EarlyStopping(monitor='val_mae', patience=2, restore_best_weights=True)\n",
    "\n",
    "# Train the model with early stopping\n",
    "history = model.fit(X_train, y_train, epochs=15, batch_size=64, validation_data=(X_test, y_test), callbacks=[early_stopping])\n",
    "\n",
    "val_mae = history.history['val_mae'][-1]\n",
    "print(f'Validation MAE: {val_mae}')\n",
    "\n",
    "\n",
    "# Plot training loss\n",
    "plt.plot(history.history['loss'], label='Training Loss')\n",
    "plt.plot(history.history['val_loss'], label='Validation Loss')\n",
    "plt.legend()\n",
    "plt.show()\n"
   ]
  },
  {
   "cell_type": "code",
   "execution_count": 112,
   "metadata": {},
   "outputs": [
    {
     "name": "stdout",
     "output_type": "stream",
     "text": [
      "\u001b[1m4/4\u001b[0m \u001b[32m━━━━━━━━━━━━━━━━━━━━\u001b[0m\u001b[37m\u001b[0m \u001b[1m0s\u001b[0m 33ms/step\n",
      "Mean Absolute Error (MAE) on the test set: 399.97207480470274\n"
     ]
    },
    {
     "data": {
      "image/png": "[encoded data removed]",
      "text/plain": [
       "<Figure size 1000x600 with 1 Axes>"
      ]
     },
     "metadata": {},
     "output_type": "display_data"
    }
   ],
   "source": [
    "import matplotlib.pyplot as plt\n",
    "import numpy as np\n",
    "from sklearn.metrics import mean_absolute_error\n",
    "\n",
    "# Predict stock prices on the test set\n",
    "predictions = model.predict(X_test)\n",
    "\n",
    "# Create a placeholder array with the same shape as the original scaled data\n",
    "# This is needed because `MinMaxScaler` works on the entire dataset structure\n",
    "predictions_placeholder = np.zeros((predictions.shape[0], scaled_data.shape[1]))\n",
    "predictions_placeholder[:, 3] = predictions[:, 0]  # Place predictions in the 'Close' column (index 3)\n",
    "\n",
    "# Inverse transform the predictions to the original scale\n",
    "predictions_actual = scaler.inverse_transform(predictions_placeholder)[:, 3]  # Extract the 'Close' column\n",
    "\n",
    "# Prepare the actual test labels (y_test) for inverse transformation\n",
    "y_test_placeholder = np.zeros((y_test.shape[0], scaled_data.shape[1]))\n",
    "y_test_placeholder[:, 3] = y_test  # Place actual test values in the 'Close' column (index 3)\n",
    "\n",
    "# Inverse transform the actual values\n",
    "y_test_actual = scaler.inverse_transform(y_test_placeholder)[:, 3]  # Extract the 'Close' column\n",
    "\n",
    "# Calculate the MAE on the test set\n",
    "mae = mean_absolute_error(y_test_actual, predictions_actual)\n",
    "print(f'Mean Absolute Error (MAE) on the test set: {mae}')\n",
    "\n",
    "# Plot the actual vs. predicted stock prices\n",
    "plt.figure(figsize=(10, 6))\n",
    "plt.plot(y_test_actual, label='Actual Prices', color='blue')\n",
    "plt.plot(predictions_actual, label='Predicted Prices', color='red')\n",
    "plt.xlabel('Time')\n",
    "plt.ylabel('Stock Prices')\n",
    "plt.title('Actual vs. Predicted Stock Prices')\n",
    "plt.legend()\n",
    "plt.show()\n"
   ]
  },
  {
   "cell_type": "code",
   "execution_count": 113,
   "metadata": {},
   "outputs": [
    {
     "data": {
      "text/plain": [
       "array([22151.94077189, 22211.97063944, 22281.79296332, 22369.91085229,\n",
       "       22445.00880028, 22532.30354223, 22636.64865232, 22686.91973773,\n",
       "       22724.46347352, 22745.48739684, 22653.87936449, 22497.37217577,\n",
       "       22305.56095949, 22115.36909791, 22013.67975945, 21995.24201441,\n",
       "       22135.42395269, 22200.48624182, 22690.38144513, 23020.5240155 ,\n",
       "       23196.35645141, 23324.49574871, 23348.37898547, 23378.07962674,\n",
       "       23405.9902974 , 23411.82566148, 23420.44775241, 23431.17709972,\n",
       "       23482.7180765 , 23554.92977169, 23738.60530211, 23856.72764844,\n",
       "       23961.74025593, 24074.3430273 , 24219.47357582, 24247.31240819,\n",
       "       24244.91630203, 24232.17548273, 24228.71527196, 24248.4154252 ,\n",
       "       24286.0901162 , 24318.74884855, 24334.08108436, 24362.45122072,\n",
       "       24388.16109555, 24383.77072865, 24349.75305539, 24332.99453029,\n",
       "       24312.79749557, 24310.5989447 , 24364.73657618, 24441.37755069,\n",
       "       24482.91354954, 24533.1771518 , 24507.07515966, 24419.13013156,\n",
       "       24332.5889433 , 24238.11037277, 24124.90894902, 24057.0187757 ,\n",
       "       24128.94835596, 24181.53547778, 24217.33264524, 24269.30839332,\n",
       "       24309.62388963, 24365.6465278 , 24466.11536372, 24595.69067842,\n",
       "       24684.74770332, 24747.08986569, 24795.00151241, 24843.25888088,\n",
       "       24887.48357724, 24928.42691024, 24950.88460601, 24947.29867825,\n",
       "       24957.97115358, 24983.73415882, 25015.44627209, 24957.74067241,\n",
       "       24921.76465755, 24916.05650709, 24929.48278338, 24992.21855969,\n",
       "       25073.87923441, 25135.82179632, 25252.32478796, 25330.40402481,\n",
       "       25370.00487984, 25423.31038452, 25485.84785723, 25565.01664142,\n",
       "       25673.17441886, 25712.80221325, 25663.89156537, 25574.17901612,\n",
       "       25455.87931902, 25318.84479564, 25145.22063871, 24983.49469786,\n",
       "       24863.12216689, 24835.45245382, 24841.10971883, 24884.15432168,\n",
       "       24900.71603982, 24888.27679165, 24845.87873336, 24795.60689963,\n",
       "       24718.92476777, 24613.41153723, 24511.56654915, 24435.72028568,\n",
       "       24365.73782229])"
      ]
     },
     "execution_count": 113,
     "metadata": {},
     "output_type": "execute_result"
    }
   ],
   "source": [
    "predictions_actual"
   ]
  },
  {
   "cell_type": "code",
   "execution_count": 114,
   "metadata": {},
   "outputs": [
    {
     "data": {
      "text/plain": [
       "array([22483.15039062, 22577.44921875, 22908.        , 22871.19921875,\n",
       "       22858.5       , 22685.44921875, 22417.        , 22465.09960938,\n",
       "       23062.30078125, 21281.44921875, 21791.94921875, 22642.59960938,\n",
       "       22789.05078125, 23227.15039062, 23206.65039062, 23295.94921875,\n",
       "       23353.90039062, 23334.25      , 23499.69921875, 23412.90039062,\n",
       "       23442.59960938, 23398.19921875, 23350.        , 23562.05078125,\n",
       "       23670.44921875, 23805.40039062, 23985.80078125, 23992.69921875,\n",
       "       24056.40039062, 24207.09960938, 24281.        , 24168.84960938,\n",
       "       24240.55078125, 24331.90039062, 24141.80078125, 24193.75      ,\n",
       "       24331.15039062, 24522.75      , 24587.65039062, 24504.44921875,\n",
       "       24508.15039062, 24362.30078125, 24074.19921875, 24307.25      ,\n",
       "       24210.80078125, 24410.90039062, 24774.59960938, 24798.65039062,\n",
       "       24856.5       , 24956.40039062, 24686.84960938, 23893.69921875,\n",
       "       23960.40039062, 24184.90039062, 24079.69921875, 24311.19921875,\n",
       "       24212.09960938, 24116.5       , 24099.69921875, 24204.5       ,\n",
       "       24522.94921875, 24607.19921875, 24654.5       , 24784.44921875,\n",
       "       24771.65039062, 24874.69921875, 24973.65039062, 24964.65039062,\n",
       "       24998.5       , 25199.40039062, 25235.5       , 25235.80078125,\n",
       "       25083.80078125, 25127.75      , 24801.30078125, 24753.15039062,\n",
       "       24896.80078125, 24885.15039062, 24941.44921875, 25292.44921875,\n",
       "       25336.19921875, 25352.25      , 25285.55078125, 25376.05078125,\n",
       "       25426.59960938, 25847.34960938, 25886.84960937, 25871.34960938,\n",
       "       25998.40039062, 26151.40039062, 25794.09960938, 25739.19921875,\n",
       "       25230.30078125, 24966.80078125, 24694.34960938, 24756.80078125,\n",
       "       24947.69921875, 24979.40039062, 24920.05078125, 25017.5       ,\n",
       "       25008.15039062, 24908.44921875, 24728.90039062, 24567.65039062,\n",
       "       24679.59960938, 24445.80078125, 24378.09960938, 24341.19921875,\n",
       "       24073.90039062, 24134.90039062, 24140.84960938, 24307.30078125,\n",
       "       24172.59960938])"
      ]
     },
     "execution_count": 114,
     "metadata": {},
     "output_type": "execute_result"
    }
   ],
   "source": [
    "y_test_actual"
   ]
  }
 ],
 "metadata": {
  "kernelspec": {
   "display_name": ".conda",
   "language": "python",
   "name": "python3"
  },
  "language_info": {
   "codemirror_mode": {
    "name": "ipython",
    "version": 3
   },
   "file_extension": ".py",
   "mimetype": "text/x-python",
   "name": "python",
   "nbconvert_exporter": "python",
   "pygments_lexer": "ipython3",
   "version": "3.12.7"
  }
 },
 "nbformat": 4,
 "nbformat_minor": 2
}
