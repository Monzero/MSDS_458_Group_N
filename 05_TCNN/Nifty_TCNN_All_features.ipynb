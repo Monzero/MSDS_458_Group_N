{
 "cells": [
  {
   "cell_type": "code",
   "execution_count": null,
   "metadata": {},
   "outputs": [],
   "source": [
    "\n"
   ]
  },
  {
   "cell_type": "code",
   "execution_count": 284,
   "metadata": {},
   "outputs": [],
   "source": [
    "import pandas as  pd\n"
   ]
  },
  {
   "cell_type": "code",
   "execution_count": 285,
   "metadata": {},
   "outputs": [
    {
     "name": "stdout",
     "output_type": "stream",
     "text": [
      "Head of the merged dfframe:\n"
     ]
    },
    {
     "data": {
      "text/html": [
       "<div>\n",
       "<style scoped>\n",
       "    .dataframe tbody tr th:only-of-type {\n",
       "        vertical-align: middle;\n",
       "    }\n",
       "\n",
       "    .dataframe tbody tr th {\n",
       "        vertical-align: top;\n",
       "    }\n",
       "\n",
       "    .dataframe thead th {\n",
       "        text-align: right;\n",
       "    }\n",
       "</style>\n",
       "<table border=\"1\" class=\"dataframe\">\n",
       "  <thead>\n",
       "    <tr style=\"text-align: right;\">\n",
       "      <th></th>\n",
       "      <th>Date</th>\n",
       "      <th>Open</th>\n",
       "      <th>High</th>\n",
       "      <th>Low</th>\n",
       "      <th>Close</th>\n",
       "      <th>Shares Traded</th>\n",
       "      <th>Turnover (₹ Cr)</th>\n",
       "    </tr>\n",
       "  </thead>\n",
       "  <tbody>\n",
       "    <tr>\n",
       "      <th>0</th>\n",
       "      <td>01-JAN-2021</td>\n",
       "      <td>13996.10</td>\n",
       "      <td>14049.85</td>\n",
       "      <td>13991.35</td>\n",
       "      <td>14018.50</td>\n",
       "      <td>258090905.0</td>\n",
       "      <td>15873.75</td>\n",
       "    </tr>\n",
       "    <tr>\n",
       "      <th>1</th>\n",
       "      <td>04-JAN-2021</td>\n",
       "      <td>14104.35</td>\n",
       "      <td>14147.95</td>\n",
       "      <td>13953.75</td>\n",
       "      <td>14132.90</td>\n",
       "      <td>494999295.0</td>\n",
       "      <td>28705.09</td>\n",
       "    </tr>\n",
       "    <tr>\n",
       "      <th>2</th>\n",
       "      <td>05-JAN-2021</td>\n",
       "      <td>14075.15</td>\n",
       "      <td>14215.60</td>\n",
       "      <td>14048.15</td>\n",
       "      <td>14199.50</td>\n",
       "      <td>492475349.0</td>\n",
       "      <td>30872.87</td>\n",
       "    </tr>\n",
       "    <tr>\n",
       "      <th>3</th>\n",
       "      <td>06-JAN-2021</td>\n",
       "      <td>14240.95</td>\n",
       "      <td>14244.15</td>\n",
       "      <td>14039.90</td>\n",
       "      <td>14146.25</td>\n",
       "      <td>632323316.0</td>\n",
       "      <td>34615.55</td>\n",
       "    </tr>\n",
       "    <tr>\n",
       "      <th>4</th>\n",
       "      <td>07-JAN-2021</td>\n",
       "      <td>14253.75</td>\n",
       "      <td>14256.25</td>\n",
       "      <td>14123.10</td>\n",
       "      <td>14137.35</td>\n",
       "      <td>559173512.0</td>\n",
       "      <td>33446.47</td>\n",
       "    </tr>\n",
       "  </tbody>\n",
       "</table>\n",
       "</div>"
      ],
      "text/plain": [
       "         Date      Open      High       Low     Close   Shares Traded   \\\n",
       "0  01-JAN-2021  13996.10  14049.85  13991.35  14018.50     258090905.0   \n",
       "1  04-JAN-2021  14104.35  14147.95  13953.75  14132.90     494999295.0   \n",
       "2  05-JAN-2021  14075.15  14215.60  14048.15  14199.50     492475349.0   \n",
       "3  06-JAN-2021  14240.95  14244.15  14039.90  14146.25     632323316.0   \n",
       "4  07-JAN-2021  14253.75  14256.25  14123.10  14137.35     559173512.0   \n",
       "\n",
       "   Turnover (₹ Cr)  \n",
       "0         15873.75  \n",
       "1         28705.09  \n",
       "2         30872.87  \n",
       "3         34615.55  \n",
       "4         33446.47  "
      ]
     },
     "execution_count": 285,
     "metadata": {},
     "output_type": "execute_result"
    }
   ],
   "source": [
    "# Load your dataset (ensure the file path is correct)\n",
    "df1 = pd.read_csv('data\\\\NIFTY 50-01-01-2021-to-01-01-2022.csv')\n",
    "df2 = pd.read_csv('data\\\\NIFTY 50-02-01-2022-to-01-01-2023.csv')\n",
    "df3 = pd.read_csv('data\\\\NIFTY 50-02-01-2023-to-01-01-2024.csv')\n",
    "df4 = pd.read_csv('data\\\\NIFTY 50-02-01-2024-to-17-11-2024.csv')\n",
    "\n",
    "# Preview the df\n",
    "merged_df = pd.concat([df1, df2, df3, df4], ignore_index=True)\n",
    "\n",
    "# Print the head and tail of the merged dfframe\n",
    "print(\"Head of the merged dfframe:\")\n",
    "merged_df.head()\n",
    "\n",
    "\n"
   ]
  },
  {
   "cell_type": "code",
   "execution_count": 286,
   "metadata": {},
   "outputs": [
    {
     "name": "stdout",
     "output_type": "stream",
     "text": [
      "\n",
      "Tail of the merged dataframe:\n"
     ]
    }
   ],
   "source": [
    "print(\"\\nTail of the merged dataframe:\")\n",
    "merged_df.tail()\n",
    "\n",
    "df= merged_df.copy()"
   ]
  },
  {
   "cell_type": "markdown",
   "metadata": {},
   "source": [
    "Data preprocessing"
   ]
  },
  {
   "cell_type": "code",
   "execution_count": 287,
   "metadata": {},
   "outputs": [
    {
     "name": "stdout",
     "output_type": "stream",
     "text": [
      "Date               0\n",
      "Open               0\n",
      "High               0\n",
      "Low                0\n",
      "Close              0\n",
      "Shares Traded      1\n",
      "Turnover (₹ Cr)    1\n",
      "dtype: int64\n"
     ]
    },
    {
     "name": "stderr",
     "output_type": "stream",
     "text": [
      "C:\\Users\\sadha\\AppData\\Local\\Temp\\ipykernel_16800\\3642176079.py:4: FutureWarning: DataFrame.fillna with 'method' is deprecated and will raise in a future version. Use obj.ffill() or obj.bfill() instead.\n",
      "  df.fillna(method='ffill', inplace=True)\n"
     ]
    }
   ],
   "source": [
    "print(df.isnull().sum())\n",
    "\n",
    "# Optionally, fill missing values with forward filling or drop them\n",
    "df.fillna(method='ffill', inplace=True)"
   ]
  },
  {
   "cell_type": "code",
   "execution_count": 288,
   "metadata": {},
   "outputs": [
    {
     "data": {
      "text/plain": [
       "Index(['Date ', 'Open ', 'High ', 'Low ', 'Close ', 'Shares Traded ',\n",
       "       'Turnover (₹ Cr)'],\n",
       "      dtype='object')"
      ]
     },
     "execution_count": 288,
     "metadata": {},
     "output_type": "execute_result"
    }
   ],
   "source": [
    "df.columns"
   ]
  },
  {
   "cell_type": "code",
   "execution_count": 289,
   "metadata": {},
   "outputs": [],
   "source": [
    "\n",
    "\n",
    "# Set 'Date' as the index\n",
    "#df.set_index('Date ', inplace=True)\n",
    "\n",
    "# Show the cleaned data\n",
    "df.head()\n",
    "data = df.copy()"
   ]
  },
  {
   "cell_type": "code",
   "execution_count": 290,
   "metadata": {},
   "outputs": [
    {
     "data": {
      "text/html": [
       "<div>\n",
       "<style scoped>\n",
       "    .dataframe tbody tr th:only-of-type {\n",
       "        vertical-align: middle;\n",
       "    }\n",
       "\n",
       "    .dataframe tbody tr th {\n",
       "        vertical-align: top;\n",
       "    }\n",
       "\n",
       "    .dataframe thead th {\n",
       "        text-align: right;\n",
       "    }\n",
       "</style>\n",
       "<table border=\"1\" class=\"dataframe\">\n",
       "  <thead>\n",
       "    <tr style=\"text-align: right;\">\n",
       "      <th></th>\n",
       "      <th>Date</th>\n",
       "      <th>Open</th>\n",
       "      <th>High</th>\n",
       "      <th>Low</th>\n",
       "      <th>Close</th>\n",
       "      <th>Shares Traded</th>\n",
       "      <th>Turnover (₹ Cr)</th>\n",
       "    </tr>\n",
       "  </thead>\n",
       "  <tbody>\n",
       "    <tr>\n",
       "      <th>0</th>\n",
       "      <td>01-JAN-2021</td>\n",
       "      <td>13996.10</td>\n",
       "      <td>14049.85</td>\n",
       "      <td>13991.35</td>\n",
       "      <td>14018.50</td>\n",
       "      <td>258090905.0</td>\n",
       "      <td>15873.75</td>\n",
       "    </tr>\n",
       "    <tr>\n",
       "      <th>1</th>\n",
       "      <td>04-JAN-2021</td>\n",
       "      <td>14104.35</td>\n",
       "      <td>14147.95</td>\n",
       "      <td>13953.75</td>\n",
       "      <td>14132.90</td>\n",
       "      <td>494999295.0</td>\n",
       "      <td>28705.09</td>\n",
       "    </tr>\n",
       "    <tr>\n",
       "      <th>2</th>\n",
       "      <td>05-JAN-2021</td>\n",
       "      <td>14075.15</td>\n",
       "      <td>14215.60</td>\n",
       "      <td>14048.15</td>\n",
       "      <td>14199.50</td>\n",
       "      <td>492475349.0</td>\n",
       "      <td>30872.87</td>\n",
       "    </tr>\n",
       "    <tr>\n",
       "      <th>3</th>\n",
       "      <td>06-JAN-2021</td>\n",
       "      <td>14240.95</td>\n",
       "      <td>14244.15</td>\n",
       "      <td>14039.90</td>\n",
       "      <td>14146.25</td>\n",
       "      <td>632323316.0</td>\n",
       "      <td>34615.55</td>\n",
       "    </tr>\n",
       "    <tr>\n",
       "      <th>4</th>\n",
       "      <td>07-JAN-2021</td>\n",
       "      <td>14253.75</td>\n",
       "      <td>14256.25</td>\n",
       "      <td>14123.10</td>\n",
       "      <td>14137.35</td>\n",
       "      <td>559173512.0</td>\n",
       "      <td>33446.47</td>\n",
       "    </tr>\n",
       "  </tbody>\n",
       "</table>\n",
       "</div>"
      ],
      "text/plain": [
       "         Date      Open      High       Low     Close   Shares Traded   \\\n",
       "0  01-JAN-2021  13996.10  14049.85  13991.35  14018.50     258090905.0   \n",
       "1  04-JAN-2021  14104.35  14147.95  13953.75  14132.90     494999295.0   \n",
       "2  05-JAN-2021  14075.15  14215.60  14048.15  14199.50     492475349.0   \n",
       "3  06-JAN-2021  14240.95  14244.15  14039.90  14146.25     632323316.0   \n",
       "4  07-JAN-2021  14253.75  14256.25  14123.10  14137.35     559173512.0   \n",
       "\n",
       "   Turnover (₹ Cr)  \n",
       "0         15873.75  \n",
       "1         28705.09  \n",
       "2         30872.87  \n",
       "3         34615.55  \n",
       "4         33446.47  "
      ]
     },
     "execution_count": 290,
     "metadata": {},
     "output_type": "execute_result"
    }
   ],
   "source": [
    "data.head()"
   ]
  },
  {
   "cell_type": "code",
   "execution_count": 291,
   "metadata": {},
   "outputs": [
    {
     "data": {
      "text/html": [
       "<div>\n",
       "<style scoped>\n",
       "    .dataframe tbody tr th:only-of-type {\n",
       "        vertical-align: middle;\n",
       "    }\n",
       "\n",
       "    .dataframe tbody tr th {\n",
       "        vertical-align: top;\n",
       "    }\n",
       "\n",
       "    .dataframe thead th {\n",
       "        text-align: right;\n",
       "    }\n",
       "</style>\n",
       "<table border=\"1\" class=\"dataframe\">\n",
       "  <thead>\n",
       "    <tr style=\"text-align: right;\">\n",
       "      <th></th>\n",
       "      <th>Date</th>\n",
       "      <th>Open</th>\n",
       "      <th>High</th>\n",
       "      <th>Low</th>\n",
       "      <th>Close</th>\n",
       "      <th>Shares Traded</th>\n",
       "      <th>Turnover (₹ Cr)</th>\n",
       "    </tr>\n",
       "  </thead>\n",
       "  <tbody>\n",
       "    <tr>\n",
       "      <th>956</th>\n",
       "      <td>08-NOV-2024</td>\n",
       "      <td>24207.70</td>\n",
       "      <td>24276.15</td>\n",
       "      <td>24066.65</td>\n",
       "      <td>24148.20</td>\n",
       "      <td>298725122.0</td>\n",
       "      <td>27670.30</td>\n",
       "    </tr>\n",
       "    <tr>\n",
       "      <th>957</th>\n",
       "      <td>11-NOV-2024</td>\n",
       "      <td>24087.25</td>\n",
       "      <td>24336.80</td>\n",
       "      <td>24004.60</td>\n",
       "      <td>24141.30</td>\n",
       "      <td>273370562.0</td>\n",
       "      <td>26600.28</td>\n",
       "    </tr>\n",
       "    <tr>\n",
       "      <th>958</th>\n",
       "      <td>12-NOV-2024</td>\n",
       "      <td>24225.80</td>\n",
       "      <td>24242.00</td>\n",
       "      <td>23839.15</td>\n",
       "      <td>23883.45</td>\n",
       "      <td>255825829.0</td>\n",
       "      <td>26852.73</td>\n",
       "    </tr>\n",
       "    <tr>\n",
       "      <th>959</th>\n",
       "      <td>13-NOV-2024</td>\n",
       "      <td>23822.45</td>\n",
       "      <td>23873.60</td>\n",
       "      <td>23509.60</td>\n",
       "      <td>23559.05</td>\n",
       "      <td>304569316.0</td>\n",
       "      <td>27765.81</td>\n",
       "    </tr>\n",
       "    <tr>\n",
       "      <th>960</th>\n",
       "      <td>14-NOV-2024</td>\n",
       "      <td>23542.15</td>\n",
       "      <td>23675.90</td>\n",
       "      <td>23484.15</td>\n",
       "      <td>23532.70</td>\n",
       "      <td>257708474.0</td>\n",
       "      <td>24814.37</td>\n",
       "    </tr>\n",
       "  </tbody>\n",
       "</table>\n",
       "</div>"
      ],
      "text/plain": [
       "           Date      Open      High       Low     Close   Shares Traded   \\\n",
       "956  08-NOV-2024  24207.70  24276.15  24066.65  24148.20     298725122.0   \n",
       "957  11-NOV-2024  24087.25  24336.80  24004.60  24141.30     273370562.0   \n",
       "958  12-NOV-2024  24225.80  24242.00  23839.15  23883.45     255825829.0   \n",
       "959  13-NOV-2024  23822.45  23873.60  23509.60  23559.05     304569316.0   \n",
       "960  14-NOV-2024  23542.15  23675.90  23484.15  23532.70     257708474.0   \n",
       "\n",
       "     Turnover (₹ Cr)  \n",
       "956         27670.30  \n",
       "957         26600.28  \n",
       "958         26852.73  \n",
       "959         27765.81  \n",
       "960         24814.37  "
      ]
     },
     "execution_count": 291,
     "metadata": {},
     "output_type": "execute_result"
    }
   ],
   "source": [
    "data.tail()"
   ]
  },
  {
   "cell_type": "code",
   "execution_count": 292,
   "metadata": {},
   "outputs": [
    {
     "data": {
      "text/plain": [
       "Index(['Date ', 'Open ', 'High ', 'Low ', 'Close ', 'Shares Traded ',\n",
       "       'Turnover (₹ Cr)'],\n",
       "      dtype='object')"
      ]
     },
     "execution_count": 292,
     "metadata": {},
     "output_type": "execute_result"
    }
   ],
   "source": [
    "data.columns"
   ]
  },
  {
   "cell_type": "code",
   "execution_count": 293,
   "metadata": {},
   "outputs": [],
   "source": [
    "data_copy= data.copy()"
   ]
  },
  {
   "cell_type": "code",
   "execution_count": 294,
   "metadata": {},
   "outputs": [
    {
     "name": "stdout",
     "output_type": "stream",
     "text": [
      "X_train shape: (810, 8, 6), y_train shape: (810,)\n",
      "X_test shape: (143, 8, 6), y_test shape: (143,)\n"
     ]
    }
   ],
   "source": [
    "import numpy as np\n",
    "import pandas as pd\n",
    "from sklearn.preprocessing import MinMaxScaler\n",
    "\n",
    "# Drop the 'Date' column as it's not numeric\n",
    "data = data.drop('Date ', axis=1)\n",
    "\n",
    "# Convert to a NumPy array\n",
    "data_values = data.values  # Includes all numeric columns\n",
    "\n",
    "# Normalize the entire dataset\n",
    "scaler = MinMaxScaler(feature_range=(0, 1))\n",
    "scaled_data = scaler.fit_transform(data_values)\n",
    "\n",
    "# Create sequences for all columns\n",
    "def create_sequences_all_columns(data, sequence_length=8):\n",
    "    sequences = []\n",
    "    labels = []\n",
    "    for i in range(sequence_length, len(data)):\n",
    "        sequences.append(data[i-sequence_length:i, :])  # All columns as input\n",
    "        labels.append(data[i, 3])  # The 'Close' column as the target (index 3)\n",
    "    return np.array(sequences), np.array(labels)\n",
    "\n",
    "# Generate sequences\n",
    "sequence_length = 8  # Last 60 rows as input\n",
    "X, y = create_sequences_all_columns(scaled_data, sequence_length)\n",
    "\n",
    "# Ensure 3D shape for X: (num_samples, sequence_length, num_features)\n",
    "# y will remain 1D for regression (predicting 'Close')\n",
    "X = X.reshape(X.shape[0], X.shape[1], X.shape[2])\n",
    "\n",
    "# Split the data into training and testing sets (80-20 split)\n",
    "train_size = int(len(X) * 0.85)\n",
    "X_train, X_test = X[:train_size], X[train_size:]\n",
    "y_train, y_test = y[:train_size], y[train_size:]\n",
    "\n",
    "# Print shapes for verification\n",
    "print(f\"X_train shape: {X_train.shape}, y_train shape: {y_train.shape}\")\n",
    "print(f\"X_test shape: {X_test.shape}, y_test shape: {y_test.shape}\")\n",
    "\n"
   ]
  },
  {
   "cell_type": "code",
   "execution_count": 295,
   "metadata": {},
   "outputs": [
    {
     "name": "stderr",
     "output_type": "stream",
     "text": [
      "c:\\Sadhana\\458\\Module_7\\.conda\\Lib\\site-packages\\keras\\src\\layers\\convolutional\\base_conv.py:107: UserWarning: Do not pass an `input_shape`/`input_dim` argument to a layer. When using Sequential models, prefer using an `Input(shape)` object as the first layer in the model instead.\n",
      "  super().__init__(activity_regularizer=activity_regularizer, **kwargs)\n"
     ]
    }
   ],
   "source": [
    "import tensorflow as tf\n",
    "\n",
    "# Build the TCNN model with dilated convolutions\n",
    "model = tf.keras.Sequential([\n",
    "    tf.keras.layers.Conv1D(filters=128, kernel_size=2, activation='relu', input_shape=(X_train.shape[1], 6), dilation_rate=1),  # No dilation for first layer\n",
    "    tf.keras.layers.Conv1D(filters=64, kernel_size=2, activation='relu', dilation_rate=4),  # Dilated convolution in second layer\n",
    "    tf.keras.layers.GlobalAveragePooling1D(),\n",
    "    tf.keras.layers.Dense(32, activation='relu'),\n",
    "    tf.keras.layers.Dense(1)  # Output layer for regression (next day's price)\n",
    "])\n",
    "\n",
    "# Compile the model\n",
    "model.compile(optimizer='adam', loss='mean_squared_error')\n",
    "\n",
    "# Print model summary\n",
    "#model.summary()"
   ]
  },
  {
   "cell_type": "code",
   "execution_count": 296,
   "metadata": {},
   "outputs": [
    {
     "name": "stdout",
     "output_type": "stream",
     "text": [
      "Epoch 1/15\n"
     ]
    },
    {
     "name": "stdout",
     "output_type": "stream",
     "text": [
      "\u001b[1m13/13\u001b[0m \u001b[32m━━━━━━━━━━━━━━━━━━━━\u001b[0m\u001b[37m\u001b[0m \u001b[1m1s\u001b[0m 12ms/step - loss: 0.0704 - val_loss: 0.0015\n",
      "Epoch 2/15\n",
      "\u001b[1m13/13\u001b[0m \u001b[32m━━━━━━━━━━━━━━━━━━━━\u001b[0m\u001b[37m\u001b[0m \u001b[1m0s\u001b[0m 4ms/step - loss: 0.0020 - val_loss: 0.0013\n",
      "Epoch 3/15\n",
      "\u001b[1m13/13\u001b[0m \u001b[32m━━━━━━━━━━━━━━━━━━━━\u001b[0m\u001b[37m\u001b[0m \u001b[1m0s\u001b[0m 4ms/step - loss: 0.0013 - val_loss: 0.0038\n",
      "Epoch 4/15\n",
      "\u001b[1m13/13\u001b[0m \u001b[32m━━━━━━━━━━━━━━━━━━━━\u001b[0m\u001b[37m\u001b[0m \u001b[1m0s\u001b[0m 4ms/step - loss: 7.3870e-04 - val_loss: 9.1078e-04\n",
      "Epoch 5/15\n",
      "\u001b[1m13/13\u001b[0m \u001b[32m━━━━━━━━━━━━━━━━━━━━\u001b[0m\u001b[37m\u001b[0m \u001b[1m0s\u001b[0m 4ms/step - loss: 6.0045e-04 - val_loss: 8.9007e-04\n",
      "Epoch 6/15\n",
      "\u001b[1m13/13\u001b[0m \u001b[32m━━━━━━━━━━━━━━━━━━━━\u001b[0m\u001b[37m\u001b[0m \u001b[1m0s\u001b[0m 4ms/step - loss: 5.2699e-04 - val_loss: 0.0011\n",
      "Epoch 7/15\n",
      "\u001b[1m13/13\u001b[0m \u001b[32m━━━━━━━━━━━━━━━━━━━━\u001b[0m\u001b[37m\u001b[0m \u001b[1m0s\u001b[0m 4ms/step - loss: 5.3275e-04 - val_loss: 8.8308e-04\n",
      "Epoch 8/15\n",
      "\u001b[1m13/13\u001b[0m \u001b[32m━━━━━━━━━━━━━━━━━━━━\u001b[0m\u001b[37m\u001b[0m \u001b[1m0s\u001b[0m 4ms/step - loss: 5.0198e-04 - val_loss: 8.8633e-04\n",
      "Epoch 9/15\n",
      "\u001b[1m13/13\u001b[0m \u001b[32m━━━━━━━━━━━━━━━━━━━━\u001b[0m\u001b[37m\u001b[0m \u001b[1m0s\u001b[0m 4ms/step - loss: 4.9098e-04 - val_loss: 9.8525e-04\n"
     ]
    },
    {
     "data": {
      "image/png": "[encoded data removed]",
      "text/plain": [
       "<Figure size 640x480 with 1 Axes>"
      ]
     },
     "metadata": {},
     "output_type": "display_data"
    }
   ],
   "source": [
    "from tensorflow.keras.callbacks import EarlyStopping\n",
    "from matplotlib import pyplot as plt\n",
    "\n",
    "# Define early stopping\n",
    "early_stopping = EarlyStopping(monitor='val_loss', patience=2, restore_best_weights=True)\n",
    "\n",
    "# Train the model with early stopping\n",
    "history = model.fit(X_train, y_train, epochs=15, batch_size=64, validation_data=(X_test, y_test), callbacks=[early_stopping])\n",
    "\n",
    "# Plot training loss\n",
    "plt.plot(history.history['loss'], label='Training Loss')\n",
    "plt.plot(history.history['val_loss'], label='Validation Loss')\n",
    "plt.legend()\n",
    "plt.show()\n"
   ]
  },
  {
   "cell_type": "code",
   "execution_count": 297,
   "metadata": {},
   "outputs": [
    {
     "name": "stdout",
     "output_type": "stream",
     "text": [
      "\u001b[1m5/5\u001b[0m \u001b[32m━━━━━━━━━━━━━━━━━━━━\u001b[0m\u001b[37m\u001b[0m \u001b[1m0s\u001b[0m 9ms/step \n"
     ]
    },
    {
     "data": {
      "image/png": "[encoded data removed]",
      "text/plain": [
       "<Figure size 1000x600 with 1 Axes>"
      ]
     },
     "metadata": {},
     "output_type": "display_data"
    }
   ],
   "source": [
    "import matplotlib.pyplot as plt\n",
    "import numpy as np\n",
    "\n",
    "# Predict stock prices on the test set\n",
    "predictions = model.predict(X_test)\n",
    "\n",
    "# Create a placeholder array with the same shape as the original scaled data\n",
    "# This is needed because `MinMaxScaler` works on the entire dataset structure\n",
    "predictions_placeholder = np.zeros((predictions.shape[0], scaled_data.shape[1]))\n",
    "predictions_placeholder[:, 3] = predictions[:, 0]  # Place predictions in the 'Close' column (index 3)\n",
    "\n",
    "# Inverse transform the predictions to the original scale\n",
    "predictions_actual = scaler.inverse_transform(predictions_placeholder)[:, 3]  # Extract the 'Close' column\n",
    "\n",
    "# Prepare the actual test labels (y_test) for inverse transformation\n",
    "y_test_placeholder = np.zeros((y_test.shape[0], scaled_data.shape[1]))\n",
    "y_test_placeholder[:, 3] = y_test  # Place actual test values in the 'Close' column (index 3)\n",
    "\n",
    "# Inverse transform the actual values\n",
    "y_test_actual = scaler.inverse_transform(y_test_placeholder)[:, 3]  # Extract the 'Close' column\n",
    "\n",
    "# Plot the actual vs. predicted stock prices\n",
    "plt.figure(figsize=(10, 6))\n",
    "plt.plot(y_test_actual, label='Actual Prices', color='blue')\n",
    "plt.plot(predictions_actual, label='Predicted Prices', color='red')\n",
    "plt.xlabel('Time')\n",
    "plt.ylabel('Stock Prices')\n",
    "plt.title('Actual vs. Predicted Stock Prices')\n",
    "plt.legend()\n",
    "plt.show()\n",
    "\n"
   ]
  }
 ],
 "metadata": {
  "kernelspec": {
   "display_name": "Python 3",
   "language": "python",
   "name": "python3"
  },
  "language_info": {
   "codemirror_mode": {
    "name": "ipython",
    "version": 3
   },
   "file_extension": ".py",
   "mimetype": "text/x-python",
   "name": "python",
   "nbconvert_exporter": "python",
   "pygments_lexer": "ipython3",
   "version": "3.12.7"
  }
 },
 "nbformat": 4,
 "nbformat_minor": 2
}
