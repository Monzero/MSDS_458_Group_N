{
 "cells": [
  {
   "cell_type": "code",
   "execution_count": 21,
   "metadata": {},
   "outputs": [
    {
     "name": "stdout",
     "output_type": "stream",
     "text": [
      "Requirement already satisfied: nsetools in c:\\sadhana\\458\\module_7\\.conda\\lib\\site-packages (1.0.11)\n",
      "Requirement already satisfied: six in c:\\users\\sadha\\appdata\\roaming\\python\\python312\\site-packages (from nsetools) (1.16.0)\n",
      "Requirement already satisfied: dateutils in c:\\sadhana\\458\\module_7\\.conda\\lib\\site-packages (from nsetools) (0.6.12)\n",
      "Requirement already satisfied: python-dateutil in c:\\users\\sadha\\appdata\\roaming\\python\\python312\\site-packages (from dateutils->nsetools) (2.9.0.post0)\n",
      "Requirement already satisfied: pytz in c:\\sadhana\\458\\module_7\\.conda\\lib\\site-packages (from dateutils->nsetools) (2024.2)\n",
      "Note: you may need to restart the kernel to use updated packages.\n"
     ]
    }
   ],
   "source": [
    "pip install nsetools\n"
   ]
  },
  {
   "cell_type": "code",
   "execution_count": 22,
   "metadata": {},
   "outputs": [],
   "source": [
    "import pandas as  pd\n"
   ]
  },
  {
   "cell_type": "code",
   "execution_count": 23,
   "metadata": {},
   "outputs": [
    {
     "name": "stdout",
     "output_type": "stream",
     "text": [
      "Head of the merged dfframe:\n"
     ]
    },
    {
     "data": {
      "text/html": [
       "<div>\n",
       "<style scoped>\n",
       "    .dataframe tbody tr th:only-of-type {\n",
       "        vertical-align: middle;\n",
       "    }\n",
       "\n",
       "    .dataframe tbody tr th {\n",
       "        vertical-align: top;\n",
       "    }\n",
       "\n",
       "    .dataframe thead th {\n",
       "        text-align: right;\n",
       "    }\n",
       "</style>\n",
       "<table border=\"1\" class=\"dataframe\">\n",
       "  <thead>\n",
       "    <tr style=\"text-align: right;\">\n",
       "      <th></th>\n",
       "      <th>Date</th>\n",
       "      <th>Open</th>\n",
       "      <th>High</th>\n",
       "      <th>Low</th>\n",
       "      <th>Close</th>\n",
       "      <th>Shares Traded</th>\n",
       "      <th>Turnover (₹ Cr)</th>\n",
       "    </tr>\n",
       "  </thead>\n",
       "  <tbody>\n",
       "    <tr>\n",
       "      <th>0</th>\n",
       "      <td>01-JAN-2021</td>\n",
       "      <td>13996.10</td>\n",
       "      <td>14049.85</td>\n",
       "      <td>13991.35</td>\n",
       "      <td>14018.50</td>\n",
       "      <td>258090905.0</td>\n",
       "      <td>15873.75</td>\n",
       "    </tr>\n",
       "    <tr>\n",
       "      <th>1</th>\n",
       "      <td>04-JAN-2021</td>\n",
       "      <td>14104.35</td>\n",
       "      <td>14147.95</td>\n",
       "      <td>13953.75</td>\n",
       "      <td>14132.90</td>\n",
       "      <td>494999295.0</td>\n",
       "      <td>28705.09</td>\n",
       "    </tr>\n",
       "    <tr>\n",
       "      <th>2</th>\n",
       "      <td>05-JAN-2021</td>\n",
       "      <td>14075.15</td>\n",
       "      <td>14215.60</td>\n",
       "      <td>14048.15</td>\n",
       "      <td>14199.50</td>\n",
       "      <td>492475349.0</td>\n",
       "      <td>30872.87</td>\n",
       "    </tr>\n",
       "    <tr>\n",
       "      <th>3</th>\n",
       "      <td>06-JAN-2021</td>\n",
       "      <td>14240.95</td>\n",
       "      <td>14244.15</td>\n",
       "      <td>14039.90</td>\n",
       "      <td>14146.25</td>\n",
       "      <td>632323316.0</td>\n",
       "      <td>34615.55</td>\n",
       "    </tr>\n",
       "    <tr>\n",
       "      <th>4</th>\n",
       "      <td>07-JAN-2021</td>\n",
       "      <td>14253.75</td>\n",
       "      <td>14256.25</td>\n",
       "      <td>14123.10</td>\n",
       "      <td>14137.35</td>\n",
       "      <td>559173512.0</td>\n",
       "      <td>33446.47</td>\n",
       "    </tr>\n",
       "  </tbody>\n",
       "</table>\n",
       "</div>"
      ],
      "text/plain": [
       "         Date      Open      High       Low     Close   Shares Traded   \\\n",
       "0  01-JAN-2021  13996.10  14049.85  13991.35  14018.50     258090905.0   \n",
       "1  04-JAN-2021  14104.35  14147.95  13953.75  14132.90     494999295.0   \n",
       "2  05-JAN-2021  14075.15  14215.60  14048.15  14199.50     492475349.0   \n",
       "3  06-JAN-2021  14240.95  14244.15  14039.90  14146.25     632323316.0   \n",
       "4  07-JAN-2021  14253.75  14256.25  14123.10  14137.35     559173512.0   \n",
       "\n",
       "   Turnover (₹ Cr)  \n",
       "0         15873.75  \n",
       "1         28705.09  \n",
       "2         30872.87  \n",
       "3         34615.55  \n",
       "4         33446.47  "
      ]
     },
     "execution_count": 23,
     "metadata": {},
     "output_type": "execute_result"
    }
   ],
   "source": [
    "# Load your dataset (ensure the file path is correct)\n",
    "df1 = pd.read_csv('data\\\\NIFTY 50-01-01-2021-to-01-01-2022.csv')\n",
    "df2 = pd.read_csv('data\\\\NIFTY 50-02-01-2022-to-01-01-2023.csv')\n",
    "df3 = pd.read_csv('data\\\\NIFTY 50-02-01-2023-to-01-01-2024.csv')\n",
    "df4 = pd.read_csv('data\\\\NIFTY 50-02-01-2024-to-17-11-2024.csv')\n",
    "\n",
    "# Preview the df\n",
    "merged_df = pd.concat([df1, df2, df3, df4], ignore_index=True)\n",
    "\n",
    "# Print the head and tail of the merged dfframe\n",
    "print(\"Head of the merged dfframe:\")\n",
    "merged_df.head()\n",
    "\n",
    "\n"
   ]
  },
  {
   "cell_type": "code",
   "execution_count": 24,
   "metadata": {},
   "outputs": [
    {
     "name": "stdout",
     "output_type": "stream",
     "text": [
      "\n",
      "Tail of the merged dataframe:\n"
     ]
    }
   ],
   "source": [
    "print(\"\\nTail of the merged dataframe:\")\n",
    "merged_df.tail()\n",
    "\n",
    "df= merged_df.copy()"
   ]
  },
  {
   "cell_type": "markdown",
   "metadata": {},
   "source": [
    "Data preprocessing"
   ]
  },
  {
   "cell_type": "code",
   "execution_count": 25,
   "metadata": {},
   "outputs": [
    {
     "name": "stdout",
     "output_type": "stream",
     "text": [
      "Date               0\n",
      "Open               0\n",
      "High               0\n",
      "Low                0\n",
      "Close              0\n",
      "Shares Traded      1\n",
      "Turnover (₹ Cr)    1\n",
      "dtype: int64\n"
     ]
    },
    {
     "name": "stderr",
     "output_type": "stream",
     "text": [
      "C:\\Users\\sadha\\AppData\\Local\\Temp\\ipykernel_29512\\3642176079.py:4: FutureWarning: DataFrame.fillna with 'method' is deprecated and will raise in a future version. Use obj.ffill() or obj.bfill() instead.\n",
      "  df.fillna(method='ffill', inplace=True)\n"
     ]
    }
   ],
   "source": [
    "print(df.isnull().sum())\n",
    "\n",
    "# Optionally, fill missing values with forward filling or drop them\n",
    "df.fillna(method='ffill', inplace=True)"
   ]
  },
  {
   "cell_type": "code",
   "execution_count": 26,
   "metadata": {},
   "outputs": [
    {
     "data": {
      "text/plain": [
       "Index(['Date ', 'Open ', 'High ', 'Low ', 'Close ', 'Shares Traded ',\n",
       "       'Turnover (₹ Cr)'],\n",
       "      dtype='object')"
      ]
     },
     "execution_count": 26,
     "metadata": {},
     "output_type": "execute_result"
    }
   ],
   "source": [
    "df.columns"
   ]
  },
  {
   "cell_type": "code",
   "execution_count": 27,
   "metadata": {},
   "outputs": [],
   "source": [
    "\n",
    "\n",
    "# Set 'Date' as the index\n",
    "#df.set_index('Date ', inplace=True)\n",
    "\n",
    "# Show the cleaned data\n",
    "df.head()\n",
    "data = df.copy()"
   ]
  },
  {
   "cell_type": "code",
   "execution_count": 28,
   "metadata": {},
   "outputs": [
    {
     "data": {
      "text/html": [
       "<div>\n",
       "<style scoped>\n",
       "    .dataframe tbody tr th:only-of-type {\n",
       "        vertical-align: middle;\n",
       "    }\n",
       "\n",
       "    .dataframe tbody tr th {\n",
       "        vertical-align: top;\n",
       "    }\n",
       "\n",
       "    .dataframe thead th {\n",
       "        text-align: right;\n",
       "    }\n",
       "</style>\n",
       "<table border=\"1\" class=\"dataframe\">\n",
       "  <thead>\n",
       "    <tr style=\"text-align: right;\">\n",
       "      <th></th>\n",
       "      <th>Date</th>\n",
       "      <th>Open</th>\n",
       "      <th>High</th>\n",
       "      <th>Low</th>\n",
       "      <th>Close</th>\n",
       "      <th>Shares Traded</th>\n",
       "      <th>Turnover (₹ Cr)</th>\n",
       "    </tr>\n",
       "  </thead>\n",
       "  <tbody>\n",
       "    <tr>\n",
       "      <th>0</th>\n",
       "      <td>01-JAN-2021</td>\n",
       "      <td>13996.10</td>\n",
       "      <td>14049.85</td>\n",
       "      <td>13991.35</td>\n",
       "      <td>14018.50</td>\n",
       "      <td>258090905.0</td>\n",
       "      <td>15873.75</td>\n",
       "    </tr>\n",
       "    <tr>\n",
       "      <th>1</th>\n",
       "      <td>04-JAN-2021</td>\n",
       "      <td>14104.35</td>\n",
       "      <td>14147.95</td>\n",
       "      <td>13953.75</td>\n",
       "      <td>14132.90</td>\n",
       "      <td>494999295.0</td>\n",
       "      <td>28705.09</td>\n",
       "    </tr>\n",
       "    <tr>\n",
       "      <th>2</th>\n",
       "      <td>05-JAN-2021</td>\n",
       "      <td>14075.15</td>\n",
       "      <td>14215.60</td>\n",
       "      <td>14048.15</td>\n",
       "      <td>14199.50</td>\n",
       "      <td>492475349.0</td>\n",
       "      <td>30872.87</td>\n",
       "    </tr>\n",
       "    <tr>\n",
       "      <th>3</th>\n",
       "      <td>06-JAN-2021</td>\n",
       "      <td>14240.95</td>\n",
       "      <td>14244.15</td>\n",
       "      <td>14039.90</td>\n",
       "      <td>14146.25</td>\n",
       "      <td>632323316.0</td>\n",
       "      <td>34615.55</td>\n",
       "    </tr>\n",
       "    <tr>\n",
       "      <th>4</th>\n",
       "      <td>07-JAN-2021</td>\n",
       "      <td>14253.75</td>\n",
       "      <td>14256.25</td>\n",
       "      <td>14123.10</td>\n",
       "      <td>14137.35</td>\n",
       "      <td>559173512.0</td>\n",
       "      <td>33446.47</td>\n",
       "    </tr>\n",
       "  </tbody>\n",
       "</table>\n",
       "</div>"
      ],
      "text/plain": [
       "         Date      Open      High       Low     Close   Shares Traded   \\\n",
       "0  01-JAN-2021  13996.10  14049.85  13991.35  14018.50     258090905.0   \n",
       "1  04-JAN-2021  14104.35  14147.95  13953.75  14132.90     494999295.0   \n",
       "2  05-JAN-2021  14075.15  14215.60  14048.15  14199.50     492475349.0   \n",
       "3  06-JAN-2021  14240.95  14244.15  14039.90  14146.25     632323316.0   \n",
       "4  07-JAN-2021  14253.75  14256.25  14123.10  14137.35     559173512.0   \n",
       "\n",
       "   Turnover (₹ Cr)  \n",
       "0         15873.75  \n",
       "1         28705.09  \n",
       "2         30872.87  \n",
       "3         34615.55  \n",
       "4         33446.47  "
      ]
     },
     "execution_count": 28,
     "metadata": {},
     "output_type": "execute_result"
    }
   ],
   "source": [
    "data.head()"
   ]
  },
  {
   "cell_type": "code",
   "execution_count": 29,
   "metadata": {},
   "outputs": [
    {
     "data": {
      "text/html": [
       "<div>\n",
       "<style scoped>\n",
       "    .dataframe tbody tr th:only-of-type {\n",
       "        vertical-align: middle;\n",
       "    }\n",
       "\n",
       "    .dataframe tbody tr th {\n",
       "        vertical-align: top;\n",
       "    }\n",
       "\n",
       "    .dataframe thead th {\n",
       "        text-align: right;\n",
       "    }\n",
       "</style>\n",
       "<table border=\"1\" class=\"dataframe\">\n",
       "  <thead>\n",
       "    <tr style=\"text-align: right;\">\n",
       "      <th></th>\n",
       "      <th>Date</th>\n",
       "      <th>Open</th>\n",
       "      <th>High</th>\n",
       "      <th>Low</th>\n",
       "      <th>Close</th>\n",
       "      <th>Shares Traded</th>\n",
       "      <th>Turnover (₹ Cr)</th>\n",
       "    </tr>\n",
       "  </thead>\n",
       "  <tbody>\n",
       "    <tr>\n",
       "      <th>956</th>\n",
       "      <td>08-NOV-2024</td>\n",
       "      <td>24207.70</td>\n",
       "      <td>24276.15</td>\n",
       "      <td>24066.65</td>\n",
       "      <td>24148.20</td>\n",
       "      <td>298725122.0</td>\n",
       "      <td>27670.30</td>\n",
       "    </tr>\n",
       "    <tr>\n",
       "      <th>957</th>\n",
       "      <td>11-NOV-2024</td>\n",
       "      <td>24087.25</td>\n",
       "      <td>24336.80</td>\n",
       "      <td>24004.60</td>\n",
       "      <td>24141.30</td>\n",
       "      <td>273370562.0</td>\n",
       "      <td>26600.28</td>\n",
       "    </tr>\n",
       "    <tr>\n",
       "      <th>958</th>\n",
       "      <td>12-NOV-2024</td>\n",
       "      <td>24225.80</td>\n",
       "      <td>24242.00</td>\n",
       "      <td>23839.15</td>\n",
       "      <td>23883.45</td>\n",
       "      <td>255825829.0</td>\n",
       "      <td>26852.73</td>\n",
       "    </tr>\n",
       "    <tr>\n",
       "      <th>959</th>\n",
       "      <td>13-NOV-2024</td>\n",
       "      <td>23822.45</td>\n",
       "      <td>23873.60</td>\n",
       "      <td>23509.60</td>\n",
       "      <td>23559.05</td>\n",
       "      <td>304569316.0</td>\n",
       "      <td>27765.81</td>\n",
       "    </tr>\n",
       "    <tr>\n",
       "      <th>960</th>\n",
       "      <td>14-NOV-2024</td>\n",
       "      <td>23542.15</td>\n",
       "      <td>23675.90</td>\n",
       "      <td>23484.15</td>\n",
       "      <td>23532.70</td>\n",
       "      <td>257708474.0</td>\n",
       "      <td>24814.37</td>\n",
       "    </tr>\n",
       "  </tbody>\n",
       "</table>\n",
       "</div>"
      ],
      "text/plain": [
       "           Date      Open      High       Low     Close   Shares Traded   \\\n",
       "956  08-NOV-2024  24207.70  24276.15  24066.65  24148.20     298725122.0   \n",
       "957  11-NOV-2024  24087.25  24336.80  24004.60  24141.30     273370562.0   \n",
       "958  12-NOV-2024  24225.80  24242.00  23839.15  23883.45     255825829.0   \n",
       "959  13-NOV-2024  23822.45  23873.60  23509.60  23559.05     304569316.0   \n",
       "960  14-NOV-2024  23542.15  23675.90  23484.15  23532.70     257708474.0   \n",
       "\n",
       "     Turnover (₹ Cr)  \n",
       "956         27670.30  \n",
       "957         26600.28  \n",
       "958         26852.73  \n",
       "959         27765.81  \n",
       "960         24814.37  "
      ]
     },
     "execution_count": 29,
     "metadata": {},
     "output_type": "execute_result"
    }
   ],
   "source": [
    "data.tail()"
   ]
  },
  {
   "cell_type": "code",
   "execution_count": 30,
   "metadata": {},
   "outputs": [],
   "source": [
    "# Select only the 'Close' column for simplicity\n",
    "import numpy as np\n",
    "from sklearn.preprocessing import MinMaxScaler\n",
    "\n",
    "\n",
    "close_prices = data['Close '].values.reshape(-1, 1)\n",
    "\n",
    "# Normalize the data using MinMaxScaler to scale values between 0 and 1\n",
    "scaler = MinMaxScaler(feature_range=(0, 1))\n",
    "scaled_data = scaler.fit_transform(close_prices)\n",
    "\n",
    "# Prepare the data for TCNN input\n",
    "# Create a function to structure the data into sequences for TCNN\n",
    "def create_sequences(data, sequence_length=8):\n",
    "    sequences = []\n",
    "    labels = []\n",
    "    for i in range(sequence_length, len(data)):\n",
    "        sequences.append(data[i-sequence_length:i, 0])  # Last 60 days as input\n",
    "        labels.append(data[i, 0])  # The next day's price as label\n",
    "    return np.array(sequences), np.array(labels)\n",
    "\n",
    "# Create sequences for training\n",
    "X, y = create_sequences(scaled_data)\n",
    "X = X.reshape(X.shape[0], X.shape[1], 1)  # Reshape for TCNN\n",
    "\n",
    "# Split the data into training and testing sets (80-20 split)\n",
    "train_size = int(len(X) * 0.90)\n",
    "X_train, X_test = X[:train_size], X[train_size:]\n",
    "y_train, y_test = y[:train_size], y[train_size:]\n"
   ]
  },
  {
   "cell_type": "code",
   "execution_count": 31,
   "metadata": {},
   "outputs": [
    {
     "name": "stderr",
     "output_type": "stream",
     "text": [
      "c:\\Sadhana\\458\\Module_7\\.conda\\Lib\\site-packages\\keras\\src\\layers\\convolutional\\base_conv.py:107: UserWarning: Do not pass an `input_shape`/`input_dim` argument to a layer. When using Sequential models, prefer using an `Input(shape)` object as the first layer in the model instead.\n",
      "  super().__init__(activity_regularizer=activity_regularizer, **kwargs)\n"
     ]
    },
    {
     "data": {
      "text/html": [
       "<pre style=\"white-space:pre;overflow-x:auto;line-height:normal;font-family:Menlo,'DejaVu Sans Mono',consolas,'Courier New',monospace\"><span style=\"font-weight: bold\">Model: \"sequential_3\"</span>\n",
       "</pre>\n"
      ],
      "text/plain": [
       "\u001b[1mModel: \"sequential_3\"\u001b[0m\n"
      ]
     },
     "metadata": {},
     "output_type": "display_data"
    },
    {
     "data": {
      "text/html": [
       "<pre style=\"white-space:pre;overflow-x:auto;line-height:normal;font-family:Menlo,'DejaVu Sans Mono',consolas,'Courier New',monospace\">┏━━━━━━━━━━━━━━━━━━━━━━━━━━━━━━━━━┳━━━━━━━━━━━━━━━━━━━━━━━━┳━━━━━━━━━━━━━━━┓\n",
       "┃<span style=\"font-weight: bold\"> Layer (type)                    </span>┃<span style=\"font-weight: bold\"> Output Shape           </span>┃<span style=\"font-weight: bold\">       Param # </span>┃\n",
       "┡━━━━━━━━━━━━━━━━━━━━━━━━━━━━━━━━━╇━━━━━━━━━━━━━━━━━━━━━━━━╇━━━━━━━━━━━━━━━┩\n",
       "│ conv1d_6 (<span style=\"color: #0087ff; text-decoration-color: #0087ff\">Conv1D</span>)               │ (<span style=\"color: #00d7ff; text-decoration-color: #00d7ff\">None</span>, <span style=\"color: #00af00; text-decoration-color: #00af00\">7</span>, <span style=\"color: #00af00; text-decoration-color: #00af00\">128</span>)         │           <span style=\"color: #00af00; text-decoration-color: #00af00\">384</span> │\n",
       "├─────────────────────────────────┼────────────────────────┼───────────────┤\n",
       "│ conv1d_7 (<span style=\"color: #0087ff; text-decoration-color: #0087ff\">Conv1D</span>)               │ (<span style=\"color: #00d7ff; text-decoration-color: #00d7ff\">None</span>, <span style=\"color: #00af00; text-decoration-color: #00af00\">3</span>, <span style=\"color: #00af00; text-decoration-color: #00af00\">128</span>)         │        <span style=\"color: #00af00; text-decoration-color: #00af00\">32,896</span> │\n",
       "├─────────────────────────────────┼────────────────────────┼───────────────┤\n",
       "│ global_average_pooling1d_2      │ (<span style=\"color: #00d7ff; text-decoration-color: #00d7ff\">None</span>, <span style=\"color: #00af00; text-decoration-color: #00af00\">128</span>)            │             <span style=\"color: #00af00; text-decoration-color: #00af00\">0</span> │\n",
       "│ (<span style=\"color: #0087ff; text-decoration-color: #0087ff\">GlobalAveragePooling1D</span>)        │                        │               │\n",
       "├─────────────────────────────────┼────────────────────────┼───────────────┤\n",
       "│ dense_4 (<span style=\"color: #0087ff; text-decoration-color: #0087ff\">Dense</span>)                 │ (<span style=\"color: #00d7ff; text-decoration-color: #00d7ff\">None</span>, <span style=\"color: #00af00; text-decoration-color: #00af00\">50</span>)             │         <span style=\"color: #00af00; text-decoration-color: #00af00\">6,450</span> │\n",
       "├─────────────────────────────────┼────────────────────────┼───────────────┤\n",
       "│ dense_5 (<span style=\"color: #0087ff; text-decoration-color: #0087ff\">Dense</span>)                 │ (<span style=\"color: #00d7ff; text-decoration-color: #00d7ff\">None</span>, <span style=\"color: #00af00; text-decoration-color: #00af00\">1</span>)              │            <span style=\"color: #00af00; text-decoration-color: #00af00\">51</span> │\n",
       "└─────────────────────────────────┴────────────────────────┴───────────────┘\n",
       "</pre>\n"
      ],
      "text/plain": [
       "┏━━━━━━━━━━━━━━━━━━━━━━━━━━━━━━━━━┳━━━━━━━━━━━━━━━━━━━━━━━━┳━━━━━━━━━━━━━━━┓\n",
       "┃\u001b[1m \u001b[0m\u001b[1mLayer (type)                   \u001b[0m\u001b[1m \u001b[0m┃\u001b[1m \u001b[0m\u001b[1mOutput Shape          \u001b[0m\u001b[1m \u001b[0m┃\u001b[1m \u001b[0m\u001b[1m      Param #\u001b[0m\u001b[1m \u001b[0m┃\n",
       "┡━━━━━━━━━━━━━━━━━━━━━━━━━━━━━━━━━╇━━━━━━━━━━━━━━━━━━━━━━━━╇━━━━━━━━━━━━━━━┩\n",
       "│ conv1d_6 (\u001b[38;5;33mConv1D\u001b[0m)               │ (\u001b[38;5;45mNone\u001b[0m, \u001b[38;5;34m7\u001b[0m, \u001b[38;5;34m128\u001b[0m)         │           \u001b[38;5;34m384\u001b[0m │\n",
       "├─────────────────────────────────┼────────────────────────┼───────────────┤\n",
       "│ conv1d_7 (\u001b[38;5;33mConv1D\u001b[0m)               │ (\u001b[38;5;45mNone\u001b[0m, \u001b[38;5;34m3\u001b[0m, \u001b[38;5;34m128\u001b[0m)         │        \u001b[38;5;34m32,896\u001b[0m │\n",
       "├─────────────────────────────────┼────────────────────────┼───────────────┤\n",
       "│ global_average_pooling1d_2      │ (\u001b[38;5;45mNone\u001b[0m, \u001b[38;5;34m128\u001b[0m)            │             \u001b[38;5;34m0\u001b[0m │\n",
       "│ (\u001b[38;5;33mGlobalAveragePooling1D\u001b[0m)        │                        │               │\n",
       "├─────────────────────────────────┼────────────────────────┼───────────────┤\n",
       "│ dense_4 (\u001b[38;5;33mDense\u001b[0m)                 │ (\u001b[38;5;45mNone\u001b[0m, \u001b[38;5;34m50\u001b[0m)             │         \u001b[38;5;34m6,450\u001b[0m │\n",
       "├─────────────────────────────────┼────────────────────────┼───────────────┤\n",
       "│ dense_5 (\u001b[38;5;33mDense\u001b[0m)                 │ (\u001b[38;5;45mNone\u001b[0m, \u001b[38;5;34m1\u001b[0m)              │            \u001b[38;5;34m51\u001b[0m │\n",
       "└─────────────────────────────────┴────────────────────────┴───────────────┘\n"
      ]
     },
     "metadata": {},
     "output_type": "display_data"
    },
    {
     "data": {
      "text/html": [
       "<pre style=\"white-space:pre;overflow-x:auto;line-height:normal;font-family:Menlo,'DejaVu Sans Mono',consolas,'Courier New',monospace\"><span style=\"font-weight: bold\"> Total params: </span><span style=\"color: #00af00; text-decoration-color: #00af00\">39,781</span> (155.39 KB)\n",
       "</pre>\n"
      ],
      "text/plain": [
       "\u001b[1m Total params: \u001b[0m\u001b[38;5;34m39,781\u001b[0m (155.39 KB)\n"
      ]
     },
     "metadata": {},
     "output_type": "display_data"
    },
    {
     "data": {
      "text/html": [
       "<pre style=\"white-space:pre;overflow-x:auto;line-height:normal;font-family:Menlo,'DejaVu Sans Mono',consolas,'Courier New',monospace\"><span style=\"font-weight: bold\"> Trainable params: </span><span style=\"color: #00af00; text-decoration-color: #00af00\">39,781</span> (155.39 KB)\n",
       "</pre>\n"
      ],
      "text/plain": [
       "\u001b[1m Trainable params: \u001b[0m\u001b[38;5;34m39,781\u001b[0m (155.39 KB)\n"
      ]
     },
     "metadata": {},
     "output_type": "display_data"
    },
    {
     "data": {
      "text/html": [
       "<pre style=\"white-space:pre;overflow-x:auto;line-height:normal;font-family:Menlo,'DejaVu Sans Mono',consolas,'Courier New',monospace\"><span style=\"font-weight: bold\"> Non-trainable params: </span><span style=\"color: #00af00; text-decoration-color: #00af00\">0</span> (0.00 B)\n",
       "</pre>\n"
      ],
      "text/plain": [
       "\u001b[1m Non-trainable params: \u001b[0m\u001b[38;5;34m0\u001b[0m (0.00 B)\n"
      ]
     },
     "metadata": {},
     "output_type": "display_data"
    }
   ],
   "source": [
    "import tensorflow as tf\n",
    "\n",
    "# Build the TCNN model with dilated convolutions\n",
    "model = tf.keras.Sequential([\n",
    "    tf.keras.layers.Conv1D(filters=128, kernel_size=2, activation='relu', input_shape=(X_train.shape[1], 1), dilation_rate=1),  # No dilation for first layer\n",
    "    tf.keras.layers.Conv1D(filters=128, kernel_size=2, activation='relu', dilation_rate=4),  # Dilated convolution in second layer\n",
    "    tf.keras.layers.GlobalAveragePooling1D(),\n",
    "    tf.keras.layers.Dense(50, activation='relu'),\n",
    "    tf.keras.layers.Dense(1)  # Output layer for regression (next day's price)\n",
    "])\n",
    "\n",
    "# Compile the model\n",
    "model.compile(optimizer='adam', loss='mean_squared_error')\n",
    "\n",
    "# Print model summary\n",
    "model.summary()\n"
   ]
  },
  {
   "cell_type": "code",
   "execution_count": 32,
   "metadata": {},
   "outputs": [
    {
     "name": "stdout",
     "output_type": "stream",
     "text": [
      "Epoch 1/15\n",
      "\u001b[1m14/14\u001b[0m \u001b[32m━━━━━━━━━━━━━━━━━━━━\u001b[0m\u001b[37m\u001b[0m \u001b[1m1s\u001b[0m 11ms/step - loss: 0.0948 - val_loss: 0.0085\n",
      "Epoch 2/15\n",
      "\u001b[1m14/14\u001b[0m \u001b[32m━━━━━━━━━━━━━━━━━━━━\u001b[0m\u001b[37m\u001b[0m \u001b[1m0s\u001b[0m 3ms/step - loss: 0.0099 - val_loss: 0.0340\n",
      "Epoch 3/15\n",
      "\u001b[1m14/14\u001b[0m \u001b[32m━━━━━━━━━━━━━━━━━━━━\u001b[0m\u001b[37m\u001b[0m \u001b[1m0s\u001b[0m 5ms/step - loss: 0.0031 - val_loss: 8.1305e-04\n",
      "Epoch 4/15\n",
      "\u001b[1m14/14\u001b[0m \u001b[32m━━━━━━━━━━━━━━━━━━━━\u001b[0m\u001b[37m\u001b[0m \u001b[1m0s\u001b[0m 3ms/step - loss: 0.0010 - val_loss: 8.9963e-04\n",
      "Epoch 5/15\n",
      "\u001b[1m14/14\u001b[0m \u001b[32m━━━━━━━━━━━━━━━━━━━━\u001b[0m\u001b[37m\u001b[0m \u001b[1m0s\u001b[0m 4ms/step - loss: 5.9970e-04 - val_loss: 8.2479e-04\n"
     ]
    },
    {
     "data": {
      "image/png": "[encoded data removed]",
      "text/plain": [
       "<Figure size 640x480 with 1 Axes>"
      ]
     },
     "metadata": {},
     "output_type": "display_data"
    }
   ],
   "source": [
    "from tensorflow.keras.callbacks import EarlyStopping\n",
    "from matplotlib import pyplot as plt\n",
    "\n",
    "# Define early stopping\n",
    "early_stopping = EarlyStopping(monitor='val_loss', patience=2, restore_best_weights=True)\n",
    "\n",
    "# Train the model with early stopping\n",
    "history = model.fit(X_train, y_train, epochs=15, batch_size=64, validation_data=(X_test, y_test), callbacks=[early_stopping])\n",
    "\n",
    "# Plot training loss\n",
    "plt.plot(history.history['loss'], label='Training Loss')\n",
    "plt.plot(history.history['val_loss'], label='Validation Loss')\n",
    "plt.legend()\n",
    "plt.show()\n",
    "\n"
   ]
  },
  {
   "cell_type": "code",
   "execution_count": 33,
   "metadata": {},
   "outputs": [
    {
     "name": "stdout",
     "output_type": "stream",
     "text": [
      "\u001b[1m3/3\u001b[0m \u001b[32m━━━━━━━━━━━━━━━━━━━━\u001b[0m\u001b[37m\u001b[0m \u001b[1m0s\u001b[0m 2ms/step \n"
     ]
    },
    {
     "data": {
      "image/png": "[encoded data removed]",
      "text/plain": [
       "<Figure size 1000x600 with 1 Axes>"
      ]
     },
     "metadata": {},
     "output_type": "display_data"
    }
   ],
   "source": [
    "# Predict stock prices on the test set\n",
    "predictions = model.predict(X_test)\n",
    "\n",
    "# Inverse transform the predictions to get actual values\n",
    "predictions = scaler.inverse_transform(predictions)\n",
    "y_test_actual = scaler.inverse_transform(y_test.reshape(-1, 1))\n",
    "\n",
    "# Plot the predictions vs actual values\n",
    "plt.figure(figsize=(10, 6))\n",
    "plt.plot(y_test_actual, color='blue', label='Actual Prices')\n",
    "plt.plot(predictions, color='red', label='Predicted Prices')\n",
    "plt.legend()\n",
    "plt.show()\n"
   ]
  },
  {
   "cell_type": "code",
   "execution_count": null,
   "metadata": {},
   "outputs": [],
   "source": [
    "pip install keras_tuner"
   ]
  },
  {
   "cell_type": "code",
   "execution_count": null,
   "metadata": {},
   "outputs": [],
   "source": [
    "import keras_tuner as kt\n",
    "import tensorflow as tf\n",
    "\n",
    "# Define the model as a function to be used with Keras Tuner\n",
    "def build_model(hp):\n",
    "    model = tf.keras.Sequential([\n",
    "        tf.keras.layers.Conv1D(\n",
    "            filters=hp.Int('filters', min_value=32, max_value=256, step=32), \n",
    "            kernel_size=hp.Int('kernel_size', min_value=2, max_value=5, step=1), \n",
    "            activation='relu', \n",
    "            input_shape=(X_train.shape[1], 1),\n",
    "            dilation_rate=hp.Int('dilation_rate', min_value=1, max_value=8, step=1)\n",
    "        ),\n",
    "        tf.keras.layers.Conv1D(\n",
    "            filters=hp.Int('filters', min_value=32, max_value=256, step=32), \n",
    "            kernel_size=hp.Int('kernel_size', min_value=2, max_value=5, step=1), \n",
    "            activation='relu', \n",
    "            dilation_rate=hp.Int('dilation_rate', min_value=1, max_value=8, step=1)\n",
    "        ),\n",
    "        tf.keras.layers.GlobalAveragePooling1D(),\n",
    "        tf.keras.layers.Dense(50, activation='relu'),\n",
    "        tf.keras.layers.Dense(1)  # Output layer for regression\n",
    "    ])\n",
    "\n",
    "    # Compile the model\n",
    "    model.compile(\n",
    "        optimizer=tf.keras.optimizers.Adam(\n",
    "            learning_rate=hp.Float('learning_rate', min_value=1e-5, max_value=1e-2, sampling='log')\n",
    "        ),\n",
    "        loss='mean_squared_error'\n",
    "    )\n",
    "    \n",
    "    return model\n"
   ]
  },
  {
   "cell_type": "code",
   "execution_count": null,
   "metadata": {},
   "outputs": [],
   "source": [
    "\n",
    "\n",
    "# Instantiate the tuner\n",
    "tuner = kt.RandomSearch(\n",
    "    build_model,\n",
    "    objective='val_loss',  # Use validation loss for optimization\n",
    "    max_trials=20,  # Number of random hyperparameter combinations to try\n",
    "    executions_per_trial=3,  # Number of models to train per combination\n",
    "    directory='tuner_dir',\n",
    "    project_name='tcnn_hyperparameter_tuning'\n",
    ")\n",
    "\n",
    "# Define EarlyStopping callback\n",
    "early_stopping = EarlyStopping(monitor='val_loss', patience=3, restore_best_weights=True)\n",
    "\n",
    "# Search for the best hyperparameters\n",
    "tuner.search(X_train, y_train, epochs=20, batch_size=32, validation_data=(X_test, y_test), callbacks=[early_stopping])\n",
    "\n",
    "# Get the best hyperparameters\n",
    "best_hyperparameters = tuner.get_best_hyperparameters(num_trials=1)[0]\n",
    "print(f\"Best Hyperparameters: {best_hyperparameters.values}\")\n",
    "\n"
   ]
  },
  {
   "cell_type": "code",
   "execution_count": null,
   "metadata": {},
   "outputs": [],
   "source": [
    "# Rebuild the model using the best hyperparameters\n",
    "model = tuner.hypermodel.build(best_hyperparameters)\n",
    "\n",
    "# Train the model with the best hyperparameters\n",
    "history = model.fit(X_train, y_train, epochs=50, batch_size=32, validation_data=(X_test, y_test), callbacks=[early_stopping])\n",
    "\n",
    "# Plot training loss\n",
    "import matplotlib.pyplot as plt\n",
    "plt.plot(history.history['loss'], label='Training Loss')\n",
    "plt.plot(history.history['val_loss'], label='Validation Loss')\n",
    "plt.legend()\n",
    "plt.show()\n"
   ]
  },
  {
   "cell_type": "code",
   "execution_count": null,
   "metadata": {},
   "outputs": [],
   "source": [
    "\n",
    "# Predict stock prices on the test set\n",
    "predictions = model.predict(X_test)\n",
    "\n",
    "# Inverse transform the predictions to get actual values\n",
    "predictions = scaler.inverse_transform(predictions)\n",
    "y_test_actual = scaler.inverse_transform(y_test.reshape(-1, 1))\n",
    "\n",
    "# Plot the predictions vs actual values\n",
    "plt.figure(figsize=(10, 6))\n",
    "plt.plot(y_test_actual, color='blue', label='Actual Prices')\n",
    "plt.plot(predictions, color='red', label='Predicted Prices')\n",
    "plt.legend()\n",
    "plt.show()\n"
   ]
  }
 ],
 "metadata": {
  "kernelspec": {
   "display_name": "Python 3",
   "language": "python",
   "name": "python3"
  },
  "language_info": {
   "codemirror_mode": {
    "name": "ipython",
    "version": 3
   },
   "file_extension": ".py",
   "mimetype": "text/x-python",
   "name": "python",
   "nbconvert_exporter": "python",
   "pygments_lexer": "ipython3",
   "version": "3.12.7"
  }
 },
 "nbformat": 4,
 "nbformat_minor": 2
}
