{
 "cells": [
  {
   "cell_type": "code",
   "execution_count": 1,
   "id": "01c09555-ac3f-4f43-aedc-2b0826792621",
   "metadata": {},
   "outputs": [],
   "source": [
    "import pandas as pd\n",
    "import numpy as np\n",
    "import tensorflow as tf\n",
    "from tensorflow.keras import layers, models\n",
    "from tensorflow.keras.layers import Conv1D,Conv2D, Dense, Flatten, MaxPooling1D, MaxPooling2D, AveragePooling2D\n",
    "import xgboost as xgb\n",
    "from sklearn.metrics import mean_squared_error\n",
    "import calendar\n",
    "from datetime import datetime, timedelta\n",
    "import matplotlib.pyplot as plt\n",
    "from sklearn.preprocessing import MinMaxScaler,StandardScaler\n",
    "import torch\n",
    "import torch.nn as nn\n",
    "from torch.utils.data import DataLoader, Dataset\n",
    "import matplotlib.pyplot as plt\n",
    "import tensorflow as tf\n",
    "from tensorflow.keras import layers, Model, Input\n",
    "from tensorflow.keras.layers import Dense, Dropout, GlobalAveragePooling1D, Concatenate\n",
    "from tensorflow.keras.models import Sequential\n",
    "from tensorflow.keras.layers import Layer, MultiHeadAttention, LayerNormalization, Dropout, Dense\n",
    "from tensorflow.keras.callbacks import EarlyStopping\n",
    "from tensorflow.keras.optimizers import Adam\n",
    "from sklearn.metrics import mean_absolute_error\n",
    "import time "
   ]
  },
  {
   "cell_type": "code",
   "execution_count": 2,
   "id": "b4037807-ed84-4533-ba44-8f0a1d290180",
   "metadata": {},
   "outputs": [],
   "source": [
    "pd.set_option('display.max_columns', None)"
   ]
  },
  {
   "cell_type": "code",
   "execution_count": 3,
   "id": "f8ec034b-f6fb-4ca2-b20d-9b038a03f455",
   "metadata": {},
   "outputs": [],
   "source": [
    "#!pip install xgboost"
   ]
  },
  {
   "cell_type": "code",
   "execution_count": 4,
   "id": "71e498e3-a04c-42a6-a3e9-b63e774bfd11",
   "metadata": {},
   "outputs": [],
   "source": [
    "#import yfinance as yf\n",
    "#sp500 = \"^NSEI\"\n",
    "#data = yf.download(sp500, start=\"2021-01-02\", end=\"2024-11-30\")\n",
    "#data.to_csv(\"data/nifty50_historical_data_21_24.csv\")"
   ]
  },
  {
   "cell_type": "code",
   "execution_count": 41,
   "id": "9f121c39-2fe0-4c80-9b0f-0fae8e034f35",
   "metadata": {},
   "outputs": [],
   "source": [
    "df_train_all = pd.read_csv(\"data/nifty50_historical_data_21_24.csv\")"
   ]
  },
  {
   "cell_type": "code",
   "execution_count": 42,
   "id": "52519fe2-0609-4f13-b255-71ef95379b93",
   "metadata": {},
   "outputs": [
    {
     "data": {
      "text/plain": [
       "Index(['Date', 'Adj_Close', 'Close', 'High', 'Low', 'Open', 'Volume'], dtype='object')"
      ]
     },
     "execution_count": 42,
     "metadata": {},
     "output_type": "execute_result"
    }
   ],
   "source": [
    "df_train_all.columns"
   ]
  },
  {
   "cell_type": "code",
   "execution_count": 43,
   "id": "e26add6f-0ca9-46ed-9155-f5ce1653df90",
   "metadata": {},
   "outputs": [],
   "source": [
    "df_train_all[\"Date\"] = pd.to_datetime(df_train_all[\"Date\"])"
   ]
  },
  {
   "cell_type": "code",
   "execution_count": 44,
   "id": "1ee43811-a9c5-4383-93ed-52dd47e8d755",
   "metadata": {},
   "outputs": [
    {
     "data": {
      "text/html": [
       "<div>\n",
       "<style scoped>\n",
       "    .dataframe tbody tr th:only-of-type {\n",
       "        vertical-align: middle;\n",
       "    }\n",
       "\n",
       "    .dataframe tbody tr th {\n",
       "        vertical-align: top;\n",
       "    }\n",
       "\n",
       "    .dataframe thead th {\n",
       "        text-align: right;\n",
       "    }\n",
       "</style>\n",
       "<table border=\"1\" class=\"dataframe\">\n",
       "  <thead>\n",
       "    <tr style=\"text-align: right;\">\n",
       "      <th></th>\n",
       "      <th>Adj_Close</th>\n",
       "      <th>Close</th>\n",
       "      <th>High</th>\n",
       "      <th>Low</th>\n",
       "      <th>Open</th>\n",
       "      <th>Volume</th>\n",
       "    </tr>\n",
       "  </thead>\n",
       "  <tbody>\n",
       "    <tr>\n",
       "      <th>count</th>\n",
       "      <td>965.000000</td>\n",
       "      <td>965.000000</td>\n",
       "      <td>965.000000</td>\n",
       "      <td>965.000000</td>\n",
       "      <td>965.000000</td>\n",
       "      <td>9.650000e+02</td>\n",
       "    </tr>\n",
       "    <tr>\n",
       "      <th>mean</th>\n",
       "      <td>18796.638030</td>\n",
       "      <td>18796.638030</td>\n",
       "      <td>18890.909429</td>\n",
       "      <td>18695.065531</td>\n",
       "      <td>18806.976788</td>\n",
       "      <td>3.187171e+05</td>\n",
       "    </tr>\n",
       "    <tr>\n",
       "      <th>std</th>\n",
       "      <td>2981.551086</td>\n",
       "      <td>2981.551086</td>\n",
       "      <td>2988.481866</td>\n",
       "      <td>2978.348139</td>\n",
       "      <td>2982.247429</td>\n",
       "      <td>1.363069e+05</td>\n",
       "    </tr>\n",
       "    <tr>\n",
       "      <th>min</th>\n",
       "      <td>13634.599609</td>\n",
       "      <td>13634.599609</td>\n",
       "      <td>13898.250000</td>\n",
       "      <td>13596.750000</td>\n",
       "      <td>13758.599609</td>\n",
       "      <td>0.000000e+00</td>\n",
       "    </tr>\n",
       "    <tr>\n",
       "      <th>25%</th>\n",
       "      <td>16912.250000</td>\n",
       "      <td>16912.250000</td>\n",
       "      <td>17037.599609</td>\n",
       "      <td>16788.599609</td>\n",
       "      <td>16876.650391</td>\n",
       "      <td>2.388000e+05</td>\n",
       "    </tr>\n",
       "    <tr>\n",
       "      <th>50%</th>\n",
       "      <td>17936.349609</td>\n",
       "      <td>17936.349609</td>\n",
       "      <td>18034.099609</td>\n",
       "      <td>17846.150391</td>\n",
       "      <td>17939.349609</td>\n",
       "      <td>2.815000e+05</td>\n",
       "    </tr>\n",
       "    <tr>\n",
       "      <th>75%</th>\n",
       "      <td>20901.150391</td>\n",
       "      <td>20901.150391</td>\n",
       "      <td>20941.250000</td>\n",
       "      <td>20769.500000</td>\n",
       "      <td>20929.750000</td>\n",
       "      <td>3.603000e+05</td>\n",
       "    </tr>\n",
       "    <tr>\n",
       "      <th>max</th>\n",
       "      <td>26216.050781</td>\n",
       "      <td>26216.050781</td>\n",
       "      <td>26277.349609</td>\n",
       "      <td>26151.400391</td>\n",
       "      <td>26248.250000</td>\n",
       "      <td>1.103600e+06</td>\n",
       "    </tr>\n",
       "  </tbody>\n",
       "</table>\n",
       "</div>"
      ],
      "text/plain": [
       "          Adj_Close         Close          High           Low          Open  \\\n",
       "count    965.000000    965.000000    965.000000    965.000000    965.000000   \n",
       "mean   18796.638030  18796.638030  18890.909429  18695.065531  18806.976788   \n",
       "std     2981.551086   2981.551086   2988.481866   2978.348139   2982.247429   \n",
       "min    13634.599609  13634.599609  13898.250000  13596.750000  13758.599609   \n",
       "25%    16912.250000  16912.250000  17037.599609  16788.599609  16876.650391   \n",
       "50%    17936.349609  17936.349609  18034.099609  17846.150391  17939.349609   \n",
       "75%    20901.150391  20901.150391  20941.250000  20769.500000  20929.750000   \n",
       "max    26216.050781  26216.050781  26277.349609  26151.400391  26248.250000   \n",
       "\n",
       "             Volume  \n",
       "count  9.650000e+02  \n",
       "mean   3.187171e+05  \n",
       "std    1.363069e+05  \n",
       "min    0.000000e+00  \n",
       "25%    2.388000e+05  \n",
       "50%    2.815000e+05  \n",
       "75%    3.603000e+05  \n",
       "max    1.103600e+06  "
      ]
     },
     "execution_count": 44,
     "metadata": {},
     "output_type": "execute_result"
    }
   ],
   "source": [
    "df_train_all.describe()"
   ]
  },
  {
   "cell_type": "code",
   "execution_count": 45,
   "id": "4167b640-c6a5-4355-9c08-f8585aa7f2fc",
   "metadata": {},
   "outputs": [
    {
     "data": {
      "text/plain": [
       "Date         0\n",
       "Adj_Close    0\n",
       "Close        0\n",
       "High         0\n",
       "Low          0\n",
       "Open         0\n",
       "Volume       0\n",
       "dtype: int64"
      ]
     },
     "execution_count": 45,
     "metadata": {},
     "output_type": "execute_result"
    }
   ],
   "source": [
    "df_train_all.isnull().sum()"
   ]
  },
  {
   "cell_type": "code",
   "execution_count": 46,
   "id": "71d31740-09b0-4b86-9f28-9ef872f332ff",
   "metadata": {},
   "outputs": [
    {
     "data": {
      "text/plain": [
       "pandas.core.series.Series"
      ]
     },
     "execution_count": 46,
     "metadata": {},
     "output_type": "execute_result"
    }
   ],
   "source": [
    "type(df_train_all[\"Date\"])"
   ]
  },
  {
   "cell_type": "code",
   "execution_count": 47,
   "id": "04b573a9-d316-4ce5-adec-4f955b86a2e4",
   "metadata": {},
   "outputs": [],
   "source": [
    "df_train_all[\"epoch_time\"]= df_train_all[\"Date\"].apply(lambda x: x.timestamp())"
   ]
  },
  {
   "cell_type": "code",
   "execution_count": 48,
   "id": "6685b9ad-4fee-4ea5-8805-0cd9e943f409",
   "metadata": {},
   "outputs": [
    {
     "data": {
      "text/html": [
       "<div>\n",
       "<style scoped>\n",
       "    .dataframe tbody tr th:only-of-type {\n",
       "        vertical-align: middle;\n",
       "    }\n",
       "\n",
       "    .dataframe tbody tr th {\n",
       "        vertical-align: top;\n",
       "    }\n",
       "\n",
       "    .dataframe thead th {\n",
       "        text-align: right;\n",
       "    }\n",
       "</style>\n",
       "<table border=\"1\" class=\"dataframe\">\n",
       "  <thead>\n",
       "    <tr style=\"text-align: right;\">\n",
       "      <th></th>\n",
       "      <th>Date</th>\n",
       "      <th>Adj_Close</th>\n",
       "      <th>Close</th>\n",
       "      <th>High</th>\n",
       "      <th>Low</th>\n",
       "      <th>Open</th>\n",
       "      <th>Volume</th>\n",
       "      <th>epoch_time</th>\n",
       "    </tr>\n",
       "  </thead>\n",
       "  <tbody>\n",
       "    <tr>\n",
       "      <th>0</th>\n",
       "      <td>2021-01-04 00:00:00+00:00</td>\n",
       "      <td>14132.900391</td>\n",
       "      <td>14132.900391</td>\n",
       "      <td>14147.950195</td>\n",
       "      <td>13953.750000</td>\n",
       "      <td>14104.349609</td>\n",
       "      <td>495000</td>\n",
       "      <td>1.609718e+09</td>\n",
       "    </tr>\n",
       "    <tr>\n",
       "      <th>1</th>\n",
       "      <td>2021-01-05 00:00:00+00:00</td>\n",
       "      <td>14199.500000</td>\n",
       "      <td>14199.500000</td>\n",
       "      <td>14215.599609</td>\n",
       "      <td>14048.150391</td>\n",
       "      <td>14075.150391</td>\n",
       "      <td>492500</td>\n",
       "      <td>1.609805e+09</td>\n",
       "    </tr>\n",
       "    <tr>\n",
       "      <th>2</th>\n",
       "      <td>2021-01-06 00:00:00+00:00</td>\n",
       "      <td>14146.250000</td>\n",
       "      <td>14146.250000</td>\n",
       "      <td>14244.150391</td>\n",
       "      <td>14039.900391</td>\n",
       "      <td>14240.950195</td>\n",
       "      <td>632300</td>\n",
       "      <td>1.609891e+09</td>\n",
       "    </tr>\n",
       "    <tr>\n",
       "      <th>3</th>\n",
       "      <td>2021-01-07 00:00:00+00:00</td>\n",
       "      <td>14137.349609</td>\n",
       "      <td>14137.349609</td>\n",
       "      <td>14256.250000</td>\n",
       "      <td>14123.099609</td>\n",
       "      <td>14253.750000</td>\n",
       "      <td>559200</td>\n",
       "      <td>1.609978e+09</td>\n",
       "    </tr>\n",
       "    <tr>\n",
       "      <th>4</th>\n",
       "      <td>2021-01-08 00:00:00+00:00</td>\n",
       "      <td>14347.250000</td>\n",
       "      <td>14347.250000</td>\n",
       "      <td>14367.299805</td>\n",
       "      <td>14221.650391</td>\n",
       "      <td>14258.400391</td>\n",
       "      <td>613500</td>\n",
       "      <td>1.610064e+09</td>\n",
       "    </tr>\n",
       "    <tr>\n",
       "      <th>...</th>\n",
       "      <td>...</td>\n",
       "      <td>...</td>\n",
       "      <td>...</td>\n",
       "      <td>...</td>\n",
       "      <td>...</td>\n",
       "      <td>...</td>\n",
       "      <td>...</td>\n",
       "      <td>...</td>\n",
       "    </tr>\n",
       "    <tr>\n",
       "      <th>960</th>\n",
       "      <td>2024-11-25 00:00:00+00:00</td>\n",
       "      <td>24221.900391</td>\n",
       "      <td>24221.900391</td>\n",
       "      <td>24351.550781</td>\n",
       "      <td>24135.449219</td>\n",
       "      <td>24253.550781</td>\n",
       "      <td>687200</td>\n",
       "      <td>1.732493e+09</td>\n",
       "    </tr>\n",
       "    <tr>\n",
       "      <th>961</th>\n",
       "      <td>2024-11-26 00:00:00+00:00</td>\n",
       "      <td>24194.500000</td>\n",
       "      <td>24194.500000</td>\n",
       "      <td>24343.300781</td>\n",
       "      <td>24125.400391</td>\n",
       "      <td>24343.300781</td>\n",
       "      <td>230700</td>\n",
       "      <td>1.732579e+09</td>\n",
       "    </tr>\n",
       "    <tr>\n",
       "      <th>962</th>\n",
       "      <td>2024-11-27 00:00:00+00:00</td>\n",
       "      <td>24274.900391</td>\n",
       "      <td>24274.900391</td>\n",
       "      <td>24354.550781</td>\n",
       "      <td>24145.650391</td>\n",
       "      <td>24204.800781</td>\n",
       "      <td>295000</td>\n",
       "      <td>1.732666e+09</td>\n",
       "    </tr>\n",
       "    <tr>\n",
       "      <th>963</th>\n",
       "      <td>2024-11-28 00:00:00+00:00</td>\n",
       "      <td>23914.150391</td>\n",
       "      <td>23914.150391</td>\n",
       "      <td>24345.750000</td>\n",
       "      <td>23873.349609</td>\n",
       "      <td>24274.150391</td>\n",
       "      <td>366700</td>\n",
       "      <td>1.732752e+09</td>\n",
       "    </tr>\n",
       "    <tr>\n",
       "      <th>964</th>\n",
       "      <td>2024-11-29 00:00:00+00:00</td>\n",
       "      <td>24131.099609</td>\n",
       "      <td>24131.099609</td>\n",
       "      <td>24188.449219</td>\n",
       "      <td>23927.150391</td>\n",
       "      <td>23927.150391</td>\n",
       "      <td>282100</td>\n",
       "      <td>1.732838e+09</td>\n",
       "    </tr>\n",
       "  </tbody>\n",
       "</table>\n",
       "<p>965 rows × 8 columns</p>\n",
       "</div>"
      ],
      "text/plain": [
       "                         Date     Adj_Close         Close          High  \\\n",
       "0   2021-01-04 00:00:00+00:00  14132.900391  14132.900391  14147.950195   \n",
       "1   2021-01-05 00:00:00+00:00  14199.500000  14199.500000  14215.599609   \n",
       "2   2021-01-06 00:00:00+00:00  14146.250000  14146.250000  14244.150391   \n",
       "3   2021-01-07 00:00:00+00:00  14137.349609  14137.349609  14256.250000   \n",
       "4   2021-01-08 00:00:00+00:00  14347.250000  14347.250000  14367.299805   \n",
       "..                        ...           ...           ...           ...   \n",
       "960 2024-11-25 00:00:00+00:00  24221.900391  24221.900391  24351.550781   \n",
       "961 2024-11-26 00:00:00+00:00  24194.500000  24194.500000  24343.300781   \n",
       "962 2024-11-27 00:00:00+00:00  24274.900391  24274.900391  24354.550781   \n",
       "963 2024-11-28 00:00:00+00:00  23914.150391  23914.150391  24345.750000   \n",
       "964 2024-11-29 00:00:00+00:00  24131.099609  24131.099609  24188.449219   \n",
       "\n",
       "              Low          Open  Volume    epoch_time  \n",
       "0    13953.750000  14104.349609  495000  1.609718e+09  \n",
       "1    14048.150391  14075.150391  492500  1.609805e+09  \n",
       "2    14039.900391  14240.950195  632300  1.609891e+09  \n",
       "3    14123.099609  14253.750000  559200  1.609978e+09  \n",
       "4    14221.650391  14258.400391  613500  1.610064e+09  \n",
       "..            ...           ...     ...           ...  \n",
       "960  24135.449219  24253.550781  687200  1.732493e+09  \n",
       "961  24125.400391  24343.300781  230700  1.732579e+09  \n",
       "962  24145.650391  24204.800781  295000  1.732666e+09  \n",
       "963  23873.349609  24274.150391  366700  1.732752e+09  \n",
       "964  23927.150391  23927.150391  282100  1.732838e+09  \n",
       "\n",
       "[965 rows x 8 columns]"
      ]
     },
     "execution_count": 48,
     "metadata": {},
     "output_type": "execute_result"
    }
   ],
   "source": [
    "df_train_all"
   ]
  },
  {
   "cell_type": "code",
   "execution_count": 49,
   "id": "e03feabf-6f11-4f1d-a426-2c1c7b0bfc67",
   "metadata": {},
   "outputs": [],
   "source": [
    "def is_last_thursday(date):\n",
    "    year = date.year\n",
    "    month = date.month\n",
    "    \n",
    "    last_day = calendar.monthrange(year, month)[1]\n",
    "    last_date = datetime(year, month, last_day)\n",
    "    last_day_weekday = last_date.weekday()\n",
    "    days_since_last_thursday = (last_day_weekday - calendar.THURSDAY) % 7\n",
    "    last_thursday_date = last_date - timedelta(days=days_since_last_thursday)\n",
    "    \n",
    "    return 1 if date.date() == last_thursday_date.date() else 0"
   ]
  },
  {
   "cell_type": "code",
   "execution_count": 50,
   "id": "a4b9d5b9-5256-4cc2-a443-04eb4e3b86fe",
   "metadata": {},
   "outputs": [
    {
     "data": {
      "text/plain": [
       "Index(['Date', 'Adj_Close', 'Close', 'High', 'Low', 'Open', 'Volume',\n",
       "       'epoch_time'],\n",
       "      dtype='object')"
      ]
     },
     "execution_count": 50,
     "metadata": {},
     "output_type": "execute_result"
    }
   ],
   "source": [
    "df_train_all.columns"
   ]
  },
  {
   "cell_type": "code",
   "execution_count": 51,
   "id": "c22b0a67-ad47-4690-8c24-96322b704587",
   "metadata": {},
   "outputs": [],
   "source": [
    "df_train_all['opt_expiry'] = df_train_all['Date'].apply(is_last_thursday)"
   ]
  },
  {
   "cell_type": "code",
   "execution_count": 52,
   "id": "738b8d50-14b2-43d0-a5c5-d4acd92a0d9a",
   "metadata": {},
   "outputs": [],
   "source": [
    "df_train_all['10DaysMA'] =  df_train_all['Adj_Close'].rolling(window=10).mean()\n",
    "df_train_all['30DaysMA'] =  df_train_all['Adj_Close'].rolling(window=30).mean()\n",
    "df_train_all['50DaysMA'] =  df_train_all['Adj_Close'].rolling(window=50).mean()"
   ]
  },
  {
   "cell_type": "code",
   "execution_count": null,
   "id": "4f9102b0-57bc-4c73-b127-93237db2c6cd",
   "metadata": {},
   "outputs": [],
   "source": []
  },
  {
   "cell_type": "code",
   "execution_count": 53,
   "id": "f21ec75e-6fa8-4045-af56-741c1aa5557c",
   "metadata": {},
   "outputs": [
    {
     "data": {
      "text/html": [
       "<div>\n",
       "<style scoped>\n",
       "    .dataframe tbody tr th:only-of-type {\n",
       "        vertical-align: middle;\n",
       "    }\n",
       "\n",
       "    .dataframe tbody tr th {\n",
       "        vertical-align: top;\n",
       "    }\n",
       "\n",
       "    .dataframe thead th {\n",
       "        text-align: right;\n",
       "    }\n",
       "</style>\n",
       "<table border=\"1\" class=\"dataframe\">\n",
       "  <thead>\n",
       "    <tr style=\"text-align: right;\">\n",
       "      <th></th>\n",
       "      <th>Date</th>\n",
       "      <th>Adj_Close</th>\n",
       "      <th>Close</th>\n",
       "      <th>High</th>\n",
       "      <th>Low</th>\n",
       "      <th>Open</th>\n",
       "      <th>Volume</th>\n",
       "      <th>epoch_time</th>\n",
       "      <th>opt_expiry</th>\n",
       "      <th>10DaysMA</th>\n",
       "      <th>30DaysMA</th>\n",
       "      <th>50DaysMA</th>\n",
       "    </tr>\n",
       "  </thead>\n",
       "  <tbody>\n",
       "    <tr>\n",
       "      <th>0</th>\n",
       "      <td>2021-01-04 00:00:00+00:00</td>\n",
       "      <td>14132.900391</td>\n",
       "      <td>14132.900391</td>\n",
       "      <td>14147.950195</td>\n",
       "      <td>13953.750000</td>\n",
       "      <td>14104.349609</td>\n",
       "      <td>495000</td>\n",
       "      <td>1.609718e+09</td>\n",
       "      <td>0</td>\n",
       "      <td>NaN</td>\n",
       "      <td>NaN</td>\n",
       "      <td>NaN</td>\n",
       "    </tr>\n",
       "    <tr>\n",
       "      <th>1</th>\n",
       "      <td>2021-01-05 00:00:00+00:00</td>\n",
       "      <td>14199.500000</td>\n",
       "      <td>14199.500000</td>\n",
       "      <td>14215.599609</td>\n",
       "      <td>14048.150391</td>\n",
       "      <td>14075.150391</td>\n",
       "      <td>492500</td>\n",
       "      <td>1.609805e+09</td>\n",
       "      <td>0</td>\n",
       "      <td>NaN</td>\n",
       "      <td>NaN</td>\n",
       "      <td>NaN</td>\n",
       "    </tr>\n",
       "    <tr>\n",
       "      <th>2</th>\n",
       "      <td>2021-01-06 00:00:00+00:00</td>\n",
       "      <td>14146.250000</td>\n",
       "      <td>14146.250000</td>\n",
       "      <td>14244.150391</td>\n",
       "      <td>14039.900391</td>\n",
       "      <td>14240.950195</td>\n",
       "      <td>632300</td>\n",
       "      <td>1.609891e+09</td>\n",
       "      <td>0</td>\n",
       "      <td>NaN</td>\n",
       "      <td>NaN</td>\n",
       "      <td>NaN</td>\n",
       "    </tr>\n",
       "    <tr>\n",
       "      <th>3</th>\n",
       "      <td>2021-01-07 00:00:00+00:00</td>\n",
       "      <td>14137.349609</td>\n",
       "      <td>14137.349609</td>\n",
       "      <td>14256.250000</td>\n",
       "      <td>14123.099609</td>\n",
       "      <td>14253.750000</td>\n",
       "      <td>559200</td>\n",
       "      <td>1.609978e+09</td>\n",
       "      <td>0</td>\n",
       "      <td>NaN</td>\n",
       "      <td>NaN</td>\n",
       "      <td>NaN</td>\n",
       "    </tr>\n",
       "    <tr>\n",
       "      <th>4</th>\n",
       "      <td>2021-01-08 00:00:00+00:00</td>\n",
       "      <td>14347.250000</td>\n",
       "      <td>14347.250000</td>\n",
       "      <td>14367.299805</td>\n",
       "      <td>14221.650391</td>\n",
       "      <td>14258.400391</td>\n",
       "      <td>613500</td>\n",
       "      <td>1.610064e+09</td>\n",
       "      <td>0</td>\n",
       "      <td>NaN</td>\n",
       "      <td>NaN</td>\n",
       "      <td>NaN</td>\n",
       "    </tr>\n",
       "    <tr>\n",
       "      <th>...</th>\n",
       "      <td>...</td>\n",
       "      <td>...</td>\n",
       "      <td>...</td>\n",
       "      <td>...</td>\n",
       "      <td>...</td>\n",
       "      <td>...</td>\n",
       "      <td>...</td>\n",
       "      <td>...</td>\n",
       "      <td>...</td>\n",
       "      <td>...</td>\n",
       "      <td>...</td>\n",
       "      <td>...</td>\n",
       "    </tr>\n",
       "    <tr>\n",
       "      <th>960</th>\n",
       "      <td>2024-11-25 00:00:00+00:00</td>\n",
       "      <td>24221.900391</td>\n",
       "      <td>24221.900391</td>\n",
       "      <td>24351.550781</td>\n",
       "      <td>24135.449219</td>\n",
       "      <td>24253.550781</td>\n",
       "      <td>687200</td>\n",
       "      <td>1.732493e+09</td>\n",
       "      <td>0</td>\n",
       "      <td>23771.605078</td>\n",
       "      <td>24275.276693</td>\n",
       "      <td>24766.613047</td>\n",
       "    </tr>\n",
       "    <tr>\n",
       "      <th>961</th>\n",
       "      <td>2024-11-26 00:00:00+00:00</td>\n",
       "      <td>24194.500000</td>\n",
       "      <td>24194.500000</td>\n",
       "      <td>24343.300781</td>\n",
       "      <td>24125.400391</td>\n",
       "      <td>24343.300781</td>\n",
       "      <td>230700</td>\n",
       "      <td>1.732579e+09</td>\n",
       "      <td>0</td>\n",
       "      <td>23776.235156</td>\n",
       "      <td>24249.618359</td>\n",
       "      <td>24742.725039</td>\n",
       "    </tr>\n",
       "    <tr>\n",
       "      <th>962</th>\n",
       "      <td>2024-11-27 00:00:00+00:00</td>\n",
       "      <td>24274.900391</td>\n",
       "      <td>24274.900391</td>\n",
       "      <td>24354.550781</td>\n",
       "      <td>24145.650391</td>\n",
       "      <td>24204.800781</td>\n",
       "      <td>295000</td>\n",
       "      <td>1.732666e+09</td>\n",
       "      <td>0</td>\n",
       "      <td>23789.595117</td>\n",
       "      <td>24221.183398</td>\n",
       "      <td>24721.093047</td>\n",
       "    </tr>\n",
       "    <tr>\n",
       "      <th>963</th>\n",
       "      <td>2024-11-28 00:00:00+00:00</td>\n",
       "      <td>23914.150391</td>\n",
       "      <td>23914.150391</td>\n",
       "      <td>24345.750000</td>\n",
       "      <td>23873.349609</td>\n",
       "      <td>24274.150391</td>\n",
       "      <td>366700</td>\n",
       "      <td>1.732752e+09</td>\n",
       "      <td>1</td>\n",
       "      <td>23792.665234</td>\n",
       "      <td>24183.076758</td>\n",
       "      <td>24691.701055</td>\n",
       "    </tr>\n",
       "    <tr>\n",
       "      <th>964</th>\n",
       "      <td>2024-11-29 00:00:00+00:00</td>\n",
       "      <td>24131.099609</td>\n",
       "      <td>24131.099609</td>\n",
       "      <td>24188.449219</td>\n",
       "      <td>23927.150391</td>\n",
       "      <td>23927.150391</td>\n",
       "      <td>282100</td>\n",
       "      <td>1.732838e+09</td>\n",
       "      <td>0</td>\n",
       "      <td>23849.870117</td>\n",
       "      <td>24155.070052</td>\n",
       "      <td>24665.952031</td>\n",
       "    </tr>\n",
       "  </tbody>\n",
       "</table>\n",
       "<p>965 rows × 12 columns</p>\n",
       "</div>"
      ],
      "text/plain": [
       "                         Date     Adj_Close         Close          High  \\\n",
       "0   2021-01-04 00:00:00+00:00  14132.900391  14132.900391  14147.950195   \n",
       "1   2021-01-05 00:00:00+00:00  14199.500000  14199.500000  14215.599609   \n",
       "2   2021-01-06 00:00:00+00:00  14146.250000  14146.250000  14244.150391   \n",
       "3   2021-01-07 00:00:00+00:00  14137.349609  14137.349609  14256.250000   \n",
       "4   2021-01-08 00:00:00+00:00  14347.250000  14347.250000  14367.299805   \n",
       "..                        ...           ...           ...           ...   \n",
       "960 2024-11-25 00:00:00+00:00  24221.900391  24221.900391  24351.550781   \n",
       "961 2024-11-26 00:00:00+00:00  24194.500000  24194.500000  24343.300781   \n",
       "962 2024-11-27 00:00:00+00:00  24274.900391  24274.900391  24354.550781   \n",
       "963 2024-11-28 00:00:00+00:00  23914.150391  23914.150391  24345.750000   \n",
       "964 2024-11-29 00:00:00+00:00  24131.099609  24131.099609  24188.449219   \n",
       "\n",
       "              Low          Open  Volume    epoch_time  opt_expiry  \\\n",
       "0    13953.750000  14104.349609  495000  1.609718e+09           0   \n",
       "1    14048.150391  14075.150391  492500  1.609805e+09           0   \n",
       "2    14039.900391  14240.950195  632300  1.609891e+09           0   \n",
       "3    14123.099609  14253.750000  559200  1.609978e+09           0   \n",
       "4    14221.650391  14258.400391  613500  1.610064e+09           0   \n",
       "..            ...           ...     ...           ...         ...   \n",
       "960  24135.449219  24253.550781  687200  1.732493e+09           0   \n",
       "961  24125.400391  24343.300781  230700  1.732579e+09           0   \n",
       "962  24145.650391  24204.800781  295000  1.732666e+09           0   \n",
       "963  23873.349609  24274.150391  366700  1.732752e+09           1   \n",
       "964  23927.150391  23927.150391  282100  1.732838e+09           0   \n",
       "\n",
       "         10DaysMA      30DaysMA      50DaysMA  \n",
       "0             NaN           NaN           NaN  \n",
       "1             NaN           NaN           NaN  \n",
       "2             NaN           NaN           NaN  \n",
       "3             NaN           NaN           NaN  \n",
       "4             NaN           NaN           NaN  \n",
       "..            ...           ...           ...  \n",
       "960  23771.605078  24275.276693  24766.613047  \n",
       "961  23776.235156  24249.618359  24742.725039  \n",
       "962  23789.595117  24221.183398  24721.093047  \n",
       "963  23792.665234  24183.076758  24691.701055  \n",
       "964  23849.870117  24155.070052  24665.952031  \n",
       "\n",
       "[965 rows x 12 columns]"
      ]
     },
     "execution_count": 53,
     "metadata": {},
     "output_type": "execute_result"
    }
   ],
   "source": [
    "df_train_all"
   ]
  },
  {
   "cell_type": "code",
   "execution_count": 54,
   "id": "127ccf88-48ac-442c-8e3a-f75aa63db29d",
   "metadata": {},
   "outputs": [],
   "source": [
    "df_train_all.dropna(subset=['50DaysMA'], inplace=True)\n",
    "#df_train_all.dropna(subset=['Next_Close'], inplace=True)"
   ]
  },
  {
   "cell_type": "code",
   "execution_count": 55,
   "id": "5d686223-dedc-4279-bded-448daad9f809",
   "metadata": {},
   "outputs": [
    {
     "data": {
      "text/plain": [
       "Date          0\n",
       "Adj_Close     0\n",
       "Close         0\n",
       "High          0\n",
       "Low           0\n",
       "Open          0\n",
       "Volume        0\n",
       "epoch_time    0\n",
       "opt_expiry    0\n",
       "10DaysMA      0\n",
       "30DaysMA      0\n",
       "50DaysMA      0\n",
       "dtype: int64"
      ]
     },
     "execution_count": 55,
     "metadata": {},
     "output_type": "execute_result"
    }
   ],
   "source": [
    "df_train_all.isnull().sum()"
   ]
  },
  {
   "cell_type": "code",
   "execution_count": 56,
   "id": "dd9bb825-da90-4a89-9a4f-350648a00c31",
   "metadata": {},
   "outputs": [
    {
     "data": {
      "text/plain": [
       "Index(['Date', 'Adj_Close', 'Close', 'High', 'Low', 'Open', 'Volume',\n",
       "       'epoch_time', 'opt_expiry', '10DaysMA', '30DaysMA', '50DaysMA'],\n",
       "      dtype='object')"
      ]
     },
     "execution_count": 56,
     "metadata": {},
     "output_type": "execute_result"
    }
   ],
   "source": [
    "df_train_all.columns"
   ]
  },
  {
   "cell_type": "code",
   "execution_count": null,
   "id": "bd4d849e-6a04-4ffb-902b-9a4e850148f2",
   "metadata": {},
   "outputs": [],
   "source": []
  },
  {
   "cell_type": "code",
   "execution_count": 21,
   "id": "ffa7ba40-3a7f-4754-a7e1-e9639f058e39",
   "metadata": {},
   "outputs": [],
   "source": [
    "features_to_use = ['Open', 'Volume', 'High','Low', 'Adj_Close','10DaysMA','30DaysMA','50DaysMA']\n",
    "features_to_scale = ['Open', 'Volume', 'High','Low', 'Adj_Close','10DaysMA','30DaysMA','50DaysMA','epoch_time']\n",
    "features_to_leave = ['opt_expiry']\n",
    "target = ['Close']\n",
    "df_train_all_scaled = df_train_all.copy()\n",
    "df_train_all_scaled\n",
    "feature_scaler = MinMaxScaler(feature_range=(0,1))\n",
    "target_scaler = MinMaxScaler(feature_range=(0,1))\n",
    "df_train_all_scaled[features_to_scale] = pd.DataFrame(\n",
    "    feature_scaler.fit_transform(df_train_all[features_to_scale]),\n",
    "    columns=features_to_scale,\n",
    "    index=df_train_all.index\n",
    ")\n",
    "\n",
    "df_train_all_scaled[\"Scaled_Close\"] = pd.DataFrame(\n",
    "    target_scaler.fit_transform(df_train_all[[\"Close\"]]),\n",
    "    columns=[\"Scaled_Close\"],\n",
    "    index=df_train_all.index\n",
    ")\n",
    "df_train_all_scaled.drop(columns=[\"Close\"],inplace=True)\n",
    "df_train_all_scaled.drop(columns=[\"opt_expiry\"], inplace=True)"
   ]
  },
  {
   "cell_type": "code",
   "execution_count": 57,
   "id": "122cdc17-f143-4b46-a582-2207bf77bbed",
   "metadata": {},
   "outputs": [],
   "source": [
    "## Trial 2\n",
    "features_to_use = ['Open', 'Volume', 'High','Low', 'Adj_Close']\n",
    "features_to_scale = ['Open', 'Volume', 'High','Low', 'Adj_Close','epoch_time']\n",
    "features_to_leave = ['epoch_time']\n",
    "target = ['Close']\n",
    "df_train_all_scaled = df_train_all.copy()\n",
    "df_train_all_scaled\n",
    "feature_scaler = MinMaxScaler(feature_range=(0,1))\n",
    "target_scaler = MinMaxScaler(feature_range=(0,1))\n",
    "df_train_all_scaled[features_to_scale] = pd.DataFrame(\n",
    "    feature_scaler.fit_transform(df_train_all[features_to_scale]),\n",
    "    columns=features_to_scale,\n",
    "    index=df_train_all.index\n",
    ")\n",
    "\n",
    "df_train_all_scaled[\"Scaled_Close\"] = pd.DataFrame(\n",
    "    target_scaler.fit_transform(df_train_all[[\"Close\"]]),\n",
    "    columns=[\"Scaled_Close\"],\n",
    "    index=df_train_all.index\n",
    ")\n",
    "df_train_all_scaled.drop(columns=[\"Close\"],inplace=True)\n",
    "df_train_all_scaled.drop(columns=[\"opt_expiry\", '10DaysMA','30DaysMA','50DaysMA'], inplace=True)\n"
   ]
  },
  {
   "cell_type": "code",
   "execution_count": 58,
   "id": "1ebff2c8-6b5a-497f-a900-989e43e79e34",
   "metadata": {},
   "outputs": [
    {
     "data": {
      "text/html": [
       "<div>\n",
       "<style scoped>\n",
       "    .dataframe tbody tr th:only-of-type {\n",
       "        vertical-align: middle;\n",
       "    }\n",
       "\n",
       "    .dataframe tbody tr th {\n",
       "        vertical-align: top;\n",
       "    }\n",
       "\n",
       "    .dataframe thead th {\n",
       "        text-align: right;\n",
       "    }\n",
       "</style>\n",
       "<table border=\"1\" class=\"dataframe\">\n",
       "  <thead>\n",
       "    <tr style=\"text-align: right;\">\n",
       "      <th></th>\n",
       "      <th>Date</th>\n",
       "      <th>Adj_Close</th>\n",
       "      <th>High</th>\n",
       "      <th>Low</th>\n",
       "      <th>Open</th>\n",
       "      <th>Volume</th>\n",
       "      <th>epoch_time</th>\n",
       "      <th>Scaled_Close</th>\n",
       "    </tr>\n",
       "  </thead>\n",
       "  <tbody>\n",
       "    <tr>\n",
       "      <th>49</th>\n",
       "      <td>2021-03-16 00:00:00+00:00</td>\n",
       "      <td>0.051516</td>\n",
       "      <td>0.056267</td>\n",
       "      <td>0.061604</td>\n",
       "      <td>0.064589</td>\n",
       "      <td>0.000099</td>\n",
       "      <td>0.000000</td>\n",
       "      <td>0.051516</td>\n",
       "    </tr>\n",
       "    <tr>\n",
       "      <th>50</th>\n",
       "      <td>2021-03-17 00:00:00+00:00</td>\n",
       "      <td>0.035647</td>\n",
       "      <td>0.048276</td>\n",
       "      <td>0.045387</td>\n",
       "      <td>0.060470</td>\n",
       "      <td>0.000099</td>\n",
       "      <td>0.000739</td>\n",
       "      <td>0.035647</td>\n",
       "    </tr>\n",
       "    <tr>\n",
       "      <th>51</th>\n",
       "      <td>2021-03-18 00:00:00+00:00</td>\n",
       "      <td>0.021934</td>\n",
       "      <td>0.041437</td>\n",
       "      <td>0.027267</td>\n",
       "      <td>0.052901</td>\n",
       "      <td>0.538913</td>\n",
       "      <td>0.001477</td>\n",
       "      <td>0.021934</td>\n",
       "    </tr>\n",
       "    <tr>\n",
       "      <th>52</th>\n",
       "      <td>2021-03-19 00:00:00+00:00</td>\n",
       "      <td>0.037551</td>\n",
       "      <td>0.034128</td>\n",
       "      <td>0.016558</td>\n",
       "      <td>0.020949</td>\n",
       "      <td>0.913627</td>\n",
       "      <td>0.002216</td>\n",
       "      <td>0.037551</td>\n",
       "    </tr>\n",
       "    <tr>\n",
       "      <th>53</th>\n",
       "      <td>2021-03-22 00:00:00+00:00</td>\n",
       "      <td>0.036914</td>\n",
       "      <td>0.032081</td>\n",
       "      <td>0.037204</td>\n",
       "      <td>0.042992</td>\n",
       "      <td>0.456217</td>\n",
       "      <td>0.004431</td>\n",
       "      <td>0.036914</td>\n",
       "    </tr>\n",
       "    <tr>\n",
       "      <th>...</th>\n",
       "      <td>...</td>\n",
       "      <td>...</td>\n",
       "      <td>...</td>\n",
       "      <td>...</td>\n",
       "      <td>...</td>\n",
       "      <td>...</td>\n",
       "      <td>...</td>\n",
       "      <td>...</td>\n",
       "    </tr>\n",
       "    <tr>\n",
       "      <th>960</th>\n",
       "      <td>2024-11-25 00:00:00+00:00</td>\n",
       "      <td>0.832701</td>\n",
       "      <td>0.838101</td>\n",
       "      <td>0.832004</td>\n",
       "      <td>0.834177</td>\n",
       "      <td>0.683033</td>\n",
       "      <td>0.997046</td>\n",
       "      <td>0.832701</td>\n",
       "    </tr>\n",
       "    <tr>\n",
       "      <th>961</th>\n",
       "      <td>2024-11-26 00:00:00+00:00</td>\n",
       "      <td>0.830402</td>\n",
       "      <td>0.837407</td>\n",
       "      <td>0.831167</td>\n",
       "      <td>0.841638</td>\n",
       "      <td>0.229301</td>\n",
       "      <td>0.997784</td>\n",
       "      <td>0.830402</td>\n",
       "    </tr>\n",
       "    <tr>\n",
       "      <th>962</th>\n",
       "      <td>2024-11-27 00:00:00+00:00</td>\n",
       "      <td>0.837147</td>\n",
       "      <td>0.838353</td>\n",
       "      <td>0.832854</td>\n",
       "      <td>0.830125</td>\n",
       "      <td>0.293211</td>\n",
       "      <td>0.998523</td>\n",
       "      <td>0.837147</td>\n",
       "    </tr>\n",
       "    <tr>\n",
       "      <th>963</th>\n",
       "      <td>2024-11-28 00:00:00+00:00</td>\n",
       "      <td>0.806882</td>\n",
       "      <td>0.837613</td>\n",
       "      <td>0.810162</td>\n",
       "      <td>0.835890</td>\n",
       "      <td>0.364477</td>\n",
       "      <td>0.999261</td>\n",
       "      <td>0.806882</td>\n",
       "    </tr>\n",
       "    <tr>\n",
       "      <th>964</th>\n",
       "      <td>2024-11-29 00:00:00+00:00</td>\n",
       "      <td>0.825083</td>\n",
       "      <td>0.824389</td>\n",
       "      <td>0.814646</td>\n",
       "      <td>0.807043</td>\n",
       "      <td>0.280390</td>\n",
       "      <td>1.000000</td>\n",
       "      <td>0.825083</td>\n",
       "    </tr>\n",
       "  </tbody>\n",
       "</table>\n",
       "<p>916 rows × 8 columns</p>\n",
       "</div>"
      ],
      "text/plain": [
       "                         Date  Adj_Close      High       Low      Open  \\\n",
       "49  2021-03-16 00:00:00+00:00   0.051516  0.056267  0.061604  0.064589   \n",
       "50  2021-03-17 00:00:00+00:00   0.035647  0.048276  0.045387  0.060470   \n",
       "51  2021-03-18 00:00:00+00:00   0.021934  0.041437  0.027267  0.052901   \n",
       "52  2021-03-19 00:00:00+00:00   0.037551  0.034128  0.016558  0.020949   \n",
       "53  2021-03-22 00:00:00+00:00   0.036914  0.032081  0.037204  0.042992   \n",
       "..                        ...        ...       ...       ...       ...   \n",
       "960 2024-11-25 00:00:00+00:00   0.832701  0.838101  0.832004  0.834177   \n",
       "961 2024-11-26 00:00:00+00:00   0.830402  0.837407  0.831167  0.841638   \n",
       "962 2024-11-27 00:00:00+00:00   0.837147  0.838353  0.832854  0.830125   \n",
       "963 2024-11-28 00:00:00+00:00   0.806882  0.837613  0.810162  0.835890   \n",
       "964 2024-11-29 00:00:00+00:00   0.825083  0.824389  0.814646  0.807043   \n",
       "\n",
       "       Volume  epoch_time  Scaled_Close  \n",
       "49   0.000099    0.000000      0.051516  \n",
       "50   0.000099    0.000739      0.035647  \n",
       "51   0.538913    0.001477      0.021934  \n",
       "52   0.913627    0.002216      0.037551  \n",
       "53   0.456217    0.004431      0.036914  \n",
       "..        ...         ...           ...  \n",
       "960  0.683033    0.997046      0.832701  \n",
       "961  0.229301    0.997784      0.830402  \n",
       "962  0.293211    0.998523      0.837147  \n",
       "963  0.364477    0.999261      0.806882  \n",
       "964  0.280390    1.000000      0.825083  \n",
       "\n",
       "[916 rows x 8 columns]"
      ]
     },
     "execution_count": 58,
     "metadata": {},
     "output_type": "execute_result"
    }
   ],
   "source": [
    "df_train_all_scaled"
   ]
  },
  {
   "cell_type": "code",
   "execution_count": 59,
   "id": "a54bd23b-091a-470e-8fcf-a36c18b3cfd2",
   "metadata": {},
   "outputs": [],
   "source": [
    "df_train = df_train_all_scaled[df_train_all_scaled[\"Date\"] <= \"2023-09-06\"]"
   ]
  },
  {
   "cell_type": "code",
   "execution_count": 60,
   "id": "ae887396-a503-41ab-ad66-d9c7fe5e6f45",
   "metadata": {},
   "outputs": [],
   "source": [
    "df_val = df_train_all_scaled[df_train_all_scaled[\"Date\"].between(\"2023-09-07\",\"2024-03-31\")]"
   ]
  },
  {
   "cell_type": "code",
   "execution_count": 61,
   "id": "f9eb90a4-b6c5-48cf-a382-6834d0fb9f4a",
   "metadata": {},
   "outputs": [],
   "source": [
    "df_test = df_train_all_scaled[df_train_all_scaled[\"Date\"] > \"2024-04-01\"]"
   ]
  },
  {
   "cell_type": "code",
   "execution_count": 62,
   "id": "55a29ae3-6fb6-41ab-94da-73ff4bd538cd",
   "metadata": {
    "scrolled": true
   },
   "outputs": [
    {
     "name": "stderr",
     "output_type": "stream",
     "text": [
      "C:\\Users\\Divay Nagpal\\AppData\\Local\\Temp\\ipykernel_38416\\1681249928.py:1: SettingWithCopyWarning: \n",
      "A value is trying to be set on a copy of a slice from a DataFrame\n",
      "\n",
      "See the caveats in the documentation: https://pandas.pydata.org/pandas-docs/stable/user_guide/indexing.html#returning-a-view-versus-a-copy\n",
      "  df_train.drop(columns=[\"Date\"], inplace = True)\n",
      "C:\\Users\\Divay Nagpal\\AppData\\Local\\Temp\\ipykernel_38416\\1681249928.py:2: SettingWithCopyWarning: \n",
      "A value is trying to be set on a copy of a slice from a DataFrame\n",
      "\n",
      "See the caveats in the documentation: https://pandas.pydata.org/pandas-docs/stable/user_guide/indexing.html#returning-a-view-versus-a-copy\n",
      "  df_val.drop(columns=[\"Date\"], inplace = True)\n",
      "C:\\Users\\Divay Nagpal\\AppData\\Local\\Temp\\ipykernel_38416\\1681249928.py:3: SettingWithCopyWarning: \n",
      "A value is trying to be set on a copy of a slice from a DataFrame\n",
      "\n",
      "See the caveats in the documentation: https://pandas.pydata.org/pandas-docs/stable/user_guide/indexing.html#returning-a-view-versus-a-copy\n",
      "  df_test.drop(columns=[\"Date\"], inplace = True)\n"
     ]
    }
   ],
   "source": [
    "df_train.drop(columns=[\"Date\"], inplace = True)\n",
    "df_val.drop(columns=[\"Date\"], inplace = True)\n",
    "df_test.drop(columns=[\"Date\"], inplace = True)"
   ]
  },
  {
   "cell_type": "code",
   "execution_count": null,
   "id": "ef93d1da-fd28-4d5d-9114-4a9bfd630f44",
   "metadata": {},
   "outputs": [],
   "source": []
  },
  {
   "cell_type": "code",
   "execution_count": 63,
   "id": "97de21c4-2e96-4ab4-ac4c-500fb619c80f",
   "metadata": {},
   "outputs": [],
   "source": [
    "timesteps = 20\n",
    "features_len = len(df_train.columns) - 1 # removing Scaled ccose"
   ]
  },
  {
   "cell_type": "code",
   "execution_count": 64,
   "id": "7843e378-a069-4c1e-9435-a648d471c81f",
   "metadata": {},
   "outputs": [],
   "source": [
    "class Time2Vec(Layer):\n",
    "    def __init__(self, kernel_size=1, **kwargs):\n",
    "        super(Time2Vec, self).__init__(**kwargs)\n",
    "        self.kernel_size = kernel_size\n",
    "\n",
    "    def build(self, input_shape):\n",
    "        self.w0 = self.add_weight(shape=(1,), initializer='uniform', trainable=True, name='w0')\n",
    "        self.b0 = self.add_weight(shape=(1,), initializer='uniform', trainable=True, name='b0')\n",
    "        self.w = self.add_weight(shape=(self.kernel_size, 1), initializer='uniform', trainable=True, name='w')\n",
    "        self.b = self.add_weight(shape=(self.kernel_size, 1), initializer='uniform', trainable=True, name='b')\n",
    "\n",
    "    def call(self, inputs):\n",
    "        linear_term = self.w0 * inputs + self.b0\n",
    "        periodic_term = tf.math.sin(tf.matmul(inputs, self.w) + self.b)\n",
    "        return tf.concat([linear_term, periodic_term], axis=-1)"
   ]
  },
  {
   "cell_type": "code",
   "execution_count": 65,
   "id": "f3f5dc4b-ab84-4d0e-951a-24f4a1463cb1",
   "metadata": {},
   "outputs": [],
   "source": [
    "def create_sequences_with_time2vec(data, timesteps, features, time2vec):\n",
    "    sequences = []\n",
    "    targets = []\n",
    "\n",
    "    for i in range(len(data) - timesteps):\n",
    "        seq = data.iloc[i:i + timesteps, features].values\n",
    "        epoch_times = data.iloc[i:i + timesteps]['epoch_time'].values.reshape(-1, 1)  # Shape (timesteps, 1)\n",
    "\n",
    "        time2vec_features = time2vec(tf.convert_to_tensor(epoch_times, dtype=tf.float32)).numpy()\n",
    "        enhanced_seq = np.concatenate([seq, time2vec_features], axis=-1)\n",
    "\n",
    "        sequences.append(enhanced_seq)\n",
    "        targets.append(data.iloc[i + timesteps]['Scaled_Close'])\n",
    "\n",
    "    return np.array(sequences), np.array(targets)"
   ]
  },
  {
   "cell_type": "code",
   "execution_count": 66,
   "id": "6a481415-f2f5-46e0-8afa-6ad37bc11159",
   "metadata": {},
   "outputs": [
    {
     "data": {
      "text/plain": [
       "array([0, 1, 2, 3, 4], dtype=int64)"
      ]
     },
     "execution_count": 66,
     "metadata": {},
     "output_type": "execute_result"
    }
   ],
   "source": [
    "df_train.columns\n",
    "feature_indexes = np.where(np.isin(df_train.columns, features_to_use))[0]\n",
    "feature_indexes"
   ]
  },
  {
   "cell_type": "code",
   "execution_count": 67,
   "id": "0f2f252d-f900-4670-a6d2-8c331f977986",
   "metadata": {},
   "outputs": [],
   "source": [
    "\n",
    "time2vec_layer = Time2Vec(kernel_size=1)  # Example kernel size"
   ]
  },
  {
   "cell_type": "code",
   "execution_count": 68,
   "id": "4c36d0dc-51f2-4458-adc8-468f0a3e65ce",
   "metadata": {},
   "outputs": [],
   "source": [
    "df_val.columns\n",
    "df_train_scaled=df_train.copy()\n",
    "df_val_scaled=df_val.copy()\n",
    "df_test_scaled=df_test.copy()"
   ]
  },
  {
   "cell_type": "code",
   "execution_count": 69,
   "id": "a146a5a8-0db6-4d0c-a669-b565e86d6b64",
   "metadata": {},
   "outputs": [],
   "source": [
    "sequences, targets = create_sequences_with_time2vec(df_train_scaled, timesteps, feature_indexes, time2vec_layer)\n",
    "sequences_val, targets_val = create_sequences_with_time2vec(df_val_scaled, timesteps, feature_indexes, time2vec_layer)\n",
    "sequences_test, targets_test = create_sequences_with_time2vec(df_test_scaled, timesteps, feature_indexes, time2vec_layer)"
   ]
  },
  {
   "cell_type": "code",
   "execution_count": 70,
   "id": "09a136f0-4083-4466-a8df-b66d694b371b",
   "metadata": {},
   "outputs": [
    {
     "name": "stdout",
     "output_type": "stream",
     "text": [
      "Sequence shape: (595, 20, 7)\n",
      "Targets shape: (595,)\n",
      "Sequence val shape: (116, 20, 7)\n",
      "Targets val shape: (116,)\n",
      "Sequence test shape: (144, 20, 7)\n",
      "Targets yesy shape: (144,)\n"
     ]
    }
   ],
   "source": [
    "print(\"Sequence shape:\", sequences.shape)  # Expected: (num_sequences, timesteps, original_features + Time2Vec features)\n",
    "print(\"Targets shape:\", targets.shape) \n",
    "print(\"Sequence val shape:\", sequences_val.shape)  # Expected: (num_sequences, timesteps, original_features + Time2Vec features)\n",
    "print(\"Targets val shape:\", targets_val.shape) \n",
    "print(\"Sequence test shape:\", sequences_test.shape)  # Expected: (num_sequences, timesteps, original_features + Time2Vec features)\n",
    "print(\"Targets yesy shape:\", targets_test.shape) "
   ]
  },
  {
   "cell_type": "code",
   "execution_count": 71,
   "id": "2c505920-84c9-4bcf-a9d4-ef149694e7a1",
   "metadata": {
    "scrolled": true
   },
   "outputs": [
    {
     "data": {
      "text/plain": [
       "array([[0.0219343 , 0.04143744, 0.0272666 , 0.05290085, 0.53891263,\n",
       "        0.01518412, 0.04714316],\n",
       "       [0.0375514 , 0.03412766, 0.01655827, 0.0209492 , 0.91362688,\n",
       "        0.01516382, 0.04717038],\n",
       "       [0.03691383, 0.03208062, 0.0372041 , 0.04299153, 0.45621708,\n",
       "        0.01510291, 0.04725206],\n",
       "       [0.04348698, 0.04172322, 0.04629997, 0.04567253, 0.47132492,\n",
       "        0.01508261, 0.04727929],\n",
       "       [0.02122545, 0.03110956, 0.03196663, 0.04100887, 0.45363284,\n",
       "        0.0150623 , 0.04730652],\n",
       "       [0.00239101, 0.01625044, 0.00941667, 0.02924159, 0.60312096,\n",
       "        0.015042  , 0.04733374],\n",
       "       [0.01769342, 0.01602352, 0.02190413, 0.02387123, 0.47808369,\n",
       "        0.0150217 , 0.04736097],\n",
       "       [0.04603316, 0.04152988, 0.03884993, 0.03402995, 0.59089554,\n",
       "        0.01494048, 0.04746987],\n",
       "       [0.03307981, 0.03627141, 0.04323747, 0.04927212, 0.46108737,\n",
       "        0.01492018, 0.0474971 ],\n",
       "       [0.04789983, 0.04210999, 0.04508748, 0.04815406, 0.44230196,\n",
       "        0.01489988, 0.04752433],\n",
       "       [0.02864173, 0.03930625, 0.02567497, 0.05142112, 0.50660968,\n",
       "        0.01481866, 0.04763323],\n",
       "       [0.03247575, 0.0333584 , 0.03520833, 0.04304974, 0.47241825,\n",
       "        0.01479836, 0.04766046],\n",
       "       [0.04384771, 0.04182412, 0.04153743, 0.0413414 , 0.        ,\n",
       "        0.01477806, 0.04768768],\n",
       "       [0.04844097, 0.05059673, 0.05580827, 0.05457599, 0.51167876,\n",
       "        0.01475775, 0.04771491],\n",
       "       [0.04517324, 0.0450734 , 0.05285417, 0.05515791, 0.50104363,\n",
       "        0.01473745, 0.04774214],\n",
       "       [0.00120804, 0.02271535, 0.00810832, 0.03537256, 0.64625783,\n",
       "        0.01467654, 0.04782381],\n",
       "       [0.01748369, 0.0123245 , 0.01029167, 0.01211645, 0.60143127,\n",
       "        0.01465624, 0.04785104],\n",
       "       [0.02391428, 0.01809576, 0.01681665, 0.0252097 , 0.56455621,\n",
       "        0.01461563, 0.04790549],\n",
       "       [0.02696801, 0.02651526, 0.03396663, 0.03162741, 0.57370043,\n",
       "        0.01459533, 0.04793272],\n",
       "       [0.00528957, 0.        , 0.00333333, 0.00726981, 0.50919392,\n",
       "        0.01453442, 0.04801439]])"
      ]
     },
     "execution_count": 71,
     "metadata": {},
     "output_type": "execute_result"
    }
   ],
   "source": [
    "sequences[2]"
   ]
  },
  {
   "cell_type": "code",
   "execution_count": 72,
   "id": "28f4ba11-6036-4fce-8a97-aaeb9f60aa37",
   "metadata": {},
   "outputs": [
    {
     "data": {
      "text/plain": [
       "0.003771018215882771"
      ]
     },
     "execution_count": 72,
     "metadata": {},
     "output_type": "execute_result"
    }
   ],
   "source": [
    "targets[4]"
   ]
  },
  {
   "cell_type": "code",
   "execution_count": 73,
   "id": "e4669577-a9ca-4383-be2e-ac55a5ccbbf6",
   "metadata": {},
   "outputs": [],
   "source": [
    "class PositionalEncoding(Layer):\n",
    "    def __init__(self, maxlen, dim):\n",
    "        super(PositionalEncoding, self).__init__()\n",
    "        self.maxlen = maxlen\n",
    "        self.dim = dim\n",
    "\n",
    "    def call(self, inputs):\n",
    "        seq_len = tf.shape(inputs)[1]  \n",
    "        \n",
    "        # Generate positional encodings for the sequence length\n",
    "        position = tf.range(seq_len, dtype=tf.float32)[:, tf.newaxis]  # Shape (seq_len, 1)\n",
    "        div_term = tf.exp(tf.range(0, self.dim, 2, dtype=tf.float32) * -(np.log(10000.0) / self.dim))  # Shape (dim/2,)\n",
    "        \n",
    "        # Apply sine to even indices and cosine to odd indices\n",
    "        pos_enc = tf.zeros((seq_len, self.dim), dtype=tf.float32)\n",
    "        print(type(pos_enc))\n",
    "        numpy_array = tensor_util.MakeNdarray(pos_enc)\n",
    "        print(numpy_array)\n",
    "        #concrete_tensor = tf.convert_to_tensor(pos_enc)\n",
    "        #print(type(concrete_tensor))\n",
    "        #pos_enc = concrete_tensor.numpy()\n",
    "        pos_enc = pos_enc.numpy()  # convert Tensor to NumPy array before modifying\n",
    "        \n",
    "        pos_enc[:, 0::2] = np.sin(position * div_term)  # Apply sin to even indices\n",
    "        pos_enc[:, 1::2] = np.cos(position * div_term)  # Apply cos to odd indices\n",
    "        \n",
    "        # Convert back to a Tensor\n",
    "        pos_enc = tf.convert_to_tensor(pos_enc, dtype=tf.float32)\n",
    "\n",
    "        # Add positional encoding to the input tensor\n",
    "        return inputs + pos_enc[:seq_len, :]\n",
    "\n",
    "class PositionalEncoding(Layer):\n",
    "    def __init__(self, maxlen, dim):\n",
    "        super(PositionalEncoding, self).__init__()\n",
    "        self.maxlen = maxlen\n",
    "        self.dim = dim\n",
    "\n",
    "    def call(self, inputs):\n",
    "        print(\"inp:\", inputs.shape)\n",
    "        seq_len = tf.shape(inputs)[1]\n",
    "        print(\"seq_len:\",seq_len)\n",
    "        position = tf.range(seq_len, dtype=tf.float32)[:, tf.newaxis]\n",
    "        div_term = tf.exp(tf.range(0, self.dim, 2, dtype=tf.float32) * -(np.log(10000.0) / self.dim))\n",
    "\n",
    "        \n",
    "        pos_enc_even = tf.sin(position * div_term)  # Apply sin to even indices\n",
    "        pos_enc_odd = tf.cos(position * div_term)  # Apply cos to odd indices\n",
    "\n",
    "        pos_enc = tf.concat([pos_enc_even, pos_enc_odd], axis=-1)\n",
    "        input_dim = tf.shape(inputs)[-1]\n",
    "        pos_enc_dim = tf.shape(pos_enc)[-1]\n",
    "        #print(\"pos : \",pos_enc.shape)\n",
    "        \n",
    "        #pos_enc = tf.pad(pos_enc, [[0, 0], [0, tf.shape(inputs)[-1] - tf.shape(pos_enc)[-1]]])\n",
    "        #pos_enc = pos_enc[:, :input_dim] if pos_enc_dim > input_dim else tf.pad(pos_enc, [[0, 0], [0, input_dim - pos_enc_dim]])\n",
    "\n",
    "        #return inputs + pos_enc\n",
    "        pos_enc = tf.cond(\n",
    "        pos_enc_dim > input_dim,\n",
    "        lambda: pos_enc[:, :input_dim],  # Truncate if pos_enc is larger\n",
    "        lambda: tf.pad(pos_enc, [[0, 0], [0, input_dim - pos_enc_dim]])  # Pad if pos_enc is smaller\n",
    "        )\n",
    "\n",
    "        return inputs + pos_enc\n",
    "\n",
    "class TransformerEncoder(Layer):\n",
    "    def __init__(self, num_heads, key_dim, ff_dim, dropout=0.1, maxlen=20):\n",
    "        super(TransformerEncoder, self).__init__()\n",
    "        self.att = MultiHeadAttention(num_heads=num_heads, key_dim=key_dim)\n",
    "        self.ffn = tf.keras.Sequential([\n",
    "            Dense(ff_dim, activation='relu'),\n",
    "            Dense(key_dim)\n",
    "        ])\n",
    "        self.layernorm1 = LayerNormalization(epsilon=1e-6)\n",
    "        self.layernorm2 = LayerNormalization(epsilon=1e-6)\n",
    "        self.positional_encoding = PositionalEncoding(maxlen=maxlen, dim=key_dim)\n",
    "\n",
    "        self.dropout1 = Dropout(dropout)\n",
    "        self.dropout2 = Dropout(dropout)\n",
    "\n",
    "    def call(self, inputs, training=False):\n",
    "        print(f\"Input shape before attention: {inputs.shape}\")\n",
    "        inputs = self.positional_encoding(inputs)\n",
    "        attn_output = self.att(query=inputs, value=inputs, key=inputs)\n",
    "        attn_output = self.dropout1(attn_output, training=training)\n",
    "        print(f\"Attention output shape: {attn_output.shape}\")\n",
    "        out1 = self.layernorm1(inputs + attn_output)  # Add & Normalize\n",
    "\n",
    "        ffn_output = self.ffn(out1)\n",
    "        ffn_output = self.dropout2(ffn_output, training=training)\n",
    "        out2 = self.layernorm2(out1 + ffn_output)  # Add & Normalize\n",
    "        return out2\n",
    "\n",
    "def create_transformer_model(input_shape, transformer_layers, num_heads, key_dim, ff_dim, dense_units, dropout_rate,  maxlen=20):\n",
    "    # Input Layer\n",
    "    input_layer = Input(shape=input_shape)\n",
    "\n",
    "    # Transformer Encoder Layer\n",
    "    transformer_output = input_layer\n",
    "    for _ in range(transformer_layers):\n",
    "        transformer_layer = TransformerEncoder(\n",
    "            num_heads=num_heads, key_dim=key_dim, ff_dim=ff_dim, dropout=dropout_rate, maxlen=maxlen)\n",
    "        transformer_output = transformer_layer(transformer_output)\n",
    "\n",
    "    # Global Average Pooling\n",
    "    pooled_output = GlobalAveragePooling1D()(transformer_output)\n",
    "\n",
    "    # Dense Layers with Dropout\n",
    "    dense_1 = Dense(dense_units, activation=\"relu\")(pooled_output)\n",
    "    dropout_1 = Dropout(dropout_rate)(dense_1)\n",
    "    dense_2 = Dense(dense_units, activation=\"relu\")(dropout_1)\n",
    "    dense_2 = Dense(dense_units, activation=\"relu\")(dense_2)\n",
    "    dropout_2 = Dropout(dropout_rate)(dense_2)\n",
    "\n",
    "    # Output Layer\n",
    "    output_layer = Dense(1, activation=\"linear\")(dropout_2)\n",
    "    #output_layer = Dense(1, activation=\"linear\")(dense_2)\n",
    "\n",
    "    model = Model(inputs=input_layer, outputs=output_layer)\n",
    "    return model"
   ]
  },
  {
   "cell_type": "code",
   "execution_count": 80,
   "id": "3b60e77c-f453-4c82-80d1-5d7ce13dfd42",
   "metadata": {
    "scrolled": true
   },
   "outputs": [
    {
     "name": "stdout",
     "output_type": "stream",
     "text": [
      "Input shape before attention: (None, 20, 7)\n",
      "inp: (None, 20, 7)\n",
      "seq_len: Tensor(\"positional_encoding_6_1/strided_slice:0\", shape=(), dtype=int32)\n",
      "Attention output shape: (None, 20, 7)\n",
      "Input shape before attention: (None, 20, 7)\n",
      "inp: (None, 20, 7)\n",
      "seq_len: Tensor(\"positional_encoding_6_1/strided_slice:0\", shape=(), dtype=int32)\n",
      "Attention output shape: (None, 20, 7)\n",
      "Input shape before attention: (None, 20, 7)\n",
      "inp: (None, 20, 7)\n",
      "seq_len: Tensor(\"positional_encoding_7_1/strided_slice:0\", shape=(), dtype=int32)\n",
      "Attention output shape: (None, 20, 7)\n",
      "Input shape before attention: (None, 20, 7)\n",
      "inp: (None, 20, 7)\n",
      "seq_len: Tensor(\"positional_encoding_7_1/strided_slice:0\", shape=(), dtype=int32)\n",
      "Attention output shape: (None, 20, 7)\n",
      "Input shape before attention: (None, 20, 7)\n",
      "inp: (None, 20, 7)\n",
      "seq_len: Tensor(\"positional_encoding_8_1/strided_slice:0\", shape=(), dtype=int32)\n",
      "Attention output shape: (None, 20, 7)\n",
      "Input shape before attention: (None, 20, 7)\n",
      "inp: (None, 20, 7)\n",
      "seq_len: Tensor(\"positional_encoding_8_1/strided_slice:0\", shape=(), dtype=int32)\n",
      "Attention output shape: (None, 20, 7)\n"
     ]
    },
    {
     "data": {
      "text/html": [
       "<pre style=\"white-space:pre;overflow-x:auto;line-height:normal;font-family:Menlo,'DejaVu Sans Mono',consolas,'Courier New',monospace\"><span style=\"font-weight: bold\">Model: \"functional_11\"</span>\n",
       "</pre>\n"
      ],
      "text/plain": [
       "\u001b[1mModel: \"functional_11\"\u001b[0m\n"
      ]
     },
     "metadata": {},
     "output_type": "display_data"
    },
    {
     "data": {
      "text/html": [
       "<pre style=\"white-space:pre;overflow-x:auto;line-height:normal;font-family:Menlo,'DejaVu Sans Mono',consolas,'Courier New',monospace\">┏━━━━━━━━━━━━━━━━━━━━━━━━━━━━━━━━━┳━━━━━━━━━━━━━━━━━━━━━━━━┳━━━━━━━━━━━━━━━┓\n",
       "┃<span style=\"font-weight: bold\"> Layer (type)                    </span>┃<span style=\"font-weight: bold\"> Output Shape           </span>┃<span style=\"font-weight: bold\">       Param # </span>┃\n",
       "┡━━━━━━━━━━━━━━━━━━━━━━━━━━━━━━━━━╇━━━━━━━━━━━━━━━━━━━━━━━━╇━━━━━━━━━━━━━━━┩\n",
       "│ input_layer_8 (<span style=\"color: #0087ff; text-decoration-color: #0087ff\">InputLayer</span>)      │ (<span style=\"color: #00d7ff; text-decoration-color: #00d7ff\">None</span>, <span style=\"color: #00af00; text-decoration-color: #00af00\">20</span>, <span style=\"color: #00af00; text-decoration-color: #00af00\">7</span>)          │             <span style=\"color: #00af00; text-decoration-color: #00af00\">0</span> │\n",
       "├─────────────────────────────────┼────────────────────────┼───────────────┤\n",
       "│ transformer_encoder_6           │ (<span style=\"color: #00d7ff; text-decoration-color: #00d7ff\">None</span>, <span style=\"color: #00af00; text-decoration-color: #00af00\">20</span>, <span style=\"color: #00af00; text-decoration-color: #00af00\">7</span>)          │         <span style=\"color: #00af00; text-decoration-color: #00af00\">2,830</span> │\n",
       "│ (<span style=\"color: #0087ff; text-decoration-color: #0087ff\">TransformerEncoder</span>)            │                        │               │\n",
       "├─────────────────────────────────┼────────────────────────┼───────────────┤\n",
       "│ transformer_encoder_7           │ (<span style=\"color: #00d7ff; text-decoration-color: #00d7ff\">None</span>, <span style=\"color: #00af00; text-decoration-color: #00af00\">20</span>, <span style=\"color: #00af00; text-decoration-color: #00af00\">7</span>)          │         <span style=\"color: #00af00; text-decoration-color: #00af00\">2,830</span> │\n",
       "│ (<span style=\"color: #0087ff; text-decoration-color: #0087ff\">TransformerEncoder</span>)            │                        │               │\n",
       "├─────────────────────────────────┼────────────────────────┼───────────────┤\n",
       "│ transformer_encoder_8           │ (<span style=\"color: #00d7ff; text-decoration-color: #00d7ff\">None</span>, <span style=\"color: #00af00; text-decoration-color: #00af00\">20</span>, <span style=\"color: #00af00; text-decoration-color: #00af00\">7</span>)          │         <span style=\"color: #00af00; text-decoration-color: #00af00\">2,830</span> │\n",
       "│ (<span style=\"color: #0087ff; text-decoration-color: #0087ff\">TransformerEncoder</span>)            │                        │               │\n",
       "├─────────────────────────────────┼────────────────────────┼───────────────┤\n",
       "│ global_average_pooling1d_2      │ (<span style=\"color: #00d7ff; text-decoration-color: #00d7ff\">None</span>, <span style=\"color: #00af00; text-decoration-color: #00af00\">7</span>)              │             <span style=\"color: #00af00; text-decoration-color: #00af00\">0</span> │\n",
       "│ (<span style=\"color: #0087ff; text-decoration-color: #0087ff\">GlobalAveragePooling1D</span>)        │                        │               │\n",
       "├─────────────────────────────────┼────────────────────────┼───────────────┤\n",
       "│ dense_26 (<span style=\"color: #0087ff; text-decoration-color: #0087ff\">Dense</span>)                │ (<span style=\"color: #00d7ff; text-decoration-color: #00d7ff\">None</span>, <span style=\"color: #00af00; text-decoration-color: #00af00\">512</span>)            │         <span style=\"color: #00af00; text-decoration-color: #00af00\">4,096</span> │\n",
       "├─────────────────────────────────┼────────────────────────┼───────────────┤\n",
       "│ dropout_31 (<span style=\"color: #0087ff; text-decoration-color: #0087ff\">Dropout</span>)            │ (<span style=\"color: #00d7ff; text-decoration-color: #00d7ff\">None</span>, <span style=\"color: #00af00; text-decoration-color: #00af00\">512</span>)            │             <span style=\"color: #00af00; text-decoration-color: #00af00\">0</span> │\n",
       "├─────────────────────────────────┼────────────────────────┼───────────────┤\n",
       "│ dense_27 (<span style=\"color: #0087ff; text-decoration-color: #0087ff\">Dense</span>)                │ (<span style=\"color: #00d7ff; text-decoration-color: #00d7ff\">None</span>, <span style=\"color: #00af00; text-decoration-color: #00af00\">512</span>)            │       <span style=\"color: #00af00; text-decoration-color: #00af00\">262,656</span> │\n",
       "├─────────────────────────────────┼────────────────────────┼───────────────┤\n",
       "│ dense_28 (<span style=\"color: #0087ff; text-decoration-color: #0087ff\">Dense</span>)                │ (<span style=\"color: #00d7ff; text-decoration-color: #00d7ff\">None</span>, <span style=\"color: #00af00; text-decoration-color: #00af00\">512</span>)            │       <span style=\"color: #00af00; text-decoration-color: #00af00\">262,656</span> │\n",
       "├─────────────────────────────────┼────────────────────────┼───────────────┤\n",
       "│ dropout_32 (<span style=\"color: #0087ff; text-decoration-color: #0087ff\">Dropout</span>)            │ (<span style=\"color: #00d7ff; text-decoration-color: #00d7ff\">None</span>, <span style=\"color: #00af00; text-decoration-color: #00af00\">512</span>)            │             <span style=\"color: #00af00; text-decoration-color: #00af00\">0</span> │\n",
       "├─────────────────────────────────┼────────────────────────┼───────────────┤\n",
       "│ dense_29 (<span style=\"color: #0087ff; text-decoration-color: #0087ff\">Dense</span>)                │ (<span style=\"color: #00d7ff; text-decoration-color: #00d7ff\">None</span>, <span style=\"color: #00af00; text-decoration-color: #00af00\">1</span>)              │           <span style=\"color: #00af00; text-decoration-color: #00af00\">513</span> │\n",
       "└─────────────────────────────────┴────────────────────────┴───────────────┘\n",
       "</pre>\n"
      ],
      "text/plain": [
       "┏━━━━━━━━━━━━━━━━━━━━━━━━━━━━━━━━━┳━━━━━━━━━━━━━━━━━━━━━━━━┳━━━━━━━━━━━━━━━┓\n",
       "┃\u001b[1m \u001b[0m\u001b[1mLayer (type)                   \u001b[0m\u001b[1m \u001b[0m┃\u001b[1m \u001b[0m\u001b[1mOutput Shape          \u001b[0m\u001b[1m \u001b[0m┃\u001b[1m \u001b[0m\u001b[1m      Param #\u001b[0m\u001b[1m \u001b[0m┃\n",
       "┡━━━━━━━━━━━━━━━━━━━━━━━━━━━━━━━━━╇━━━━━━━━━━━━━━━━━━━━━━━━╇━━━━━━━━━━━━━━━┩\n",
       "│ input_layer_8 (\u001b[38;5;33mInputLayer\u001b[0m)      │ (\u001b[38;5;45mNone\u001b[0m, \u001b[38;5;34m20\u001b[0m, \u001b[38;5;34m7\u001b[0m)          │             \u001b[38;5;34m0\u001b[0m │\n",
       "├─────────────────────────────────┼────────────────────────┼───────────────┤\n",
       "│ transformer_encoder_6           │ (\u001b[38;5;45mNone\u001b[0m, \u001b[38;5;34m20\u001b[0m, \u001b[38;5;34m7\u001b[0m)          │         \u001b[38;5;34m2,830\u001b[0m │\n",
       "│ (\u001b[38;5;33mTransformerEncoder\u001b[0m)            │                        │               │\n",
       "├─────────────────────────────────┼────────────────────────┼───────────────┤\n",
       "│ transformer_encoder_7           │ (\u001b[38;5;45mNone\u001b[0m, \u001b[38;5;34m20\u001b[0m, \u001b[38;5;34m7\u001b[0m)          │         \u001b[38;5;34m2,830\u001b[0m │\n",
       "│ (\u001b[38;5;33mTransformerEncoder\u001b[0m)            │                        │               │\n",
       "├─────────────────────────────────┼────────────────────────┼───────────────┤\n",
       "│ transformer_encoder_8           │ (\u001b[38;5;45mNone\u001b[0m, \u001b[38;5;34m20\u001b[0m, \u001b[38;5;34m7\u001b[0m)          │         \u001b[38;5;34m2,830\u001b[0m │\n",
       "│ (\u001b[38;5;33mTransformerEncoder\u001b[0m)            │                        │               │\n",
       "├─────────────────────────────────┼────────────────────────┼───────────────┤\n",
       "│ global_average_pooling1d_2      │ (\u001b[38;5;45mNone\u001b[0m, \u001b[38;5;34m7\u001b[0m)              │             \u001b[38;5;34m0\u001b[0m │\n",
       "│ (\u001b[38;5;33mGlobalAveragePooling1D\u001b[0m)        │                        │               │\n",
       "├─────────────────────────────────┼────────────────────────┼───────────────┤\n",
       "│ dense_26 (\u001b[38;5;33mDense\u001b[0m)                │ (\u001b[38;5;45mNone\u001b[0m, \u001b[38;5;34m512\u001b[0m)            │         \u001b[38;5;34m4,096\u001b[0m │\n",
       "├─────────────────────────────────┼────────────────────────┼───────────────┤\n",
       "│ dropout_31 (\u001b[38;5;33mDropout\u001b[0m)            │ (\u001b[38;5;45mNone\u001b[0m, \u001b[38;5;34m512\u001b[0m)            │             \u001b[38;5;34m0\u001b[0m │\n",
       "├─────────────────────────────────┼────────────────────────┼───────────────┤\n",
       "│ dense_27 (\u001b[38;5;33mDense\u001b[0m)                │ (\u001b[38;5;45mNone\u001b[0m, \u001b[38;5;34m512\u001b[0m)            │       \u001b[38;5;34m262,656\u001b[0m │\n",
       "├─────────────────────────────────┼────────────────────────┼───────────────┤\n",
       "│ dense_28 (\u001b[38;5;33mDense\u001b[0m)                │ (\u001b[38;5;45mNone\u001b[0m, \u001b[38;5;34m512\u001b[0m)            │       \u001b[38;5;34m262,656\u001b[0m │\n",
       "├─────────────────────────────────┼────────────────────────┼───────────────┤\n",
       "│ dropout_32 (\u001b[38;5;33mDropout\u001b[0m)            │ (\u001b[38;5;45mNone\u001b[0m, \u001b[38;5;34m512\u001b[0m)            │             \u001b[38;5;34m0\u001b[0m │\n",
       "├─────────────────────────────────┼────────────────────────┼───────────────┤\n",
       "│ dense_29 (\u001b[38;5;33mDense\u001b[0m)                │ (\u001b[38;5;45mNone\u001b[0m, \u001b[38;5;34m1\u001b[0m)              │           \u001b[38;5;34m513\u001b[0m │\n",
       "└─────────────────────────────────┴────────────────────────┴───────────────┘\n"
      ]
     },
     "metadata": {},
     "output_type": "display_data"
    },
    {
     "data": {
      "text/html": [
       "<pre style=\"white-space:pre;overflow-x:auto;line-height:normal;font-family:Menlo,'DejaVu Sans Mono',consolas,'Courier New',monospace\"><span style=\"font-weight: bold\"> Total params: </span><span style=\"color: #00af00; text-decoration-color: #00af00\">538,411</span> (2.05 MB)\n",
       "</pre>\n"
      ],
      "text/plain": [
       "\u001b[1m Total params: \u001b[0m\u001b[38;5;34m538,411\u001b[0m (2.05 MB)\n"
      ]
     },
     "metadata": {},
     "output_type": "display_data"
    },
    {
     "data": {
      "text/html": [
       "<pre style=\"white-space:pre;overflow-x:auto;line-height:normal;font-family:Menlo,'DejaVu Sans Mono',consolas,'Courier New',monospace\"><span style=\"font-weight: bold\"> Trainable params: </span><span style=\"color: #00af00; text-decoration-color: #00af00\">538,411</span> (2.05 MB)\n",
       "</pre>\n"
      ],
      "text/plain": [
       "\u001b[1m Trainable params: \u001b[0m\u001b[38;5;34m538,411\u001b[0m (2.05 MB)\n"
      ]
     },
     "metadata": {},
     "output_type": "display_data"
    },
    {
     "data": {
      "text/html": [
       "<pre style=\"white-space:pre;overflow-x:auto;line-height:normal;font-family:Menlo,'DejaVu Sans Mono',consolas,'Courier New',monospace\"><span style=\"font-weight: bold\"> Non-trainable params: </span><span style=\"color: #00af00; text-decoration-color: #00af00\">0</span> (0.00 B)\n",
       "</pre>\n"
      ],
      "text/plain": [
       "\u001b[1m Non-trainable params: \u001b[0m\u001b[38;5;34m0\u001b[0m (0.00 B)\n"
      ]
     },
     "metadata": {},
     "output_type": "display_data"
    },
    {
     "name": "stdout",
     "output_type": "stream",
     "text": [
      "Epoch 1/50\n",
      "Input shape before attention: (None, 20, 7)\n",
      "inp: (None, 20, 7)\n",
      "seq_len: Tensor(\"functional_11_1/transformer_encoder_6_1/positional_encoding_6_1/strided_slice:0\", shape=(), dtype=int32)\n",
      "Attention output shape: (None, 20, 7)\n",
      "Input shape before attention: (None, 20, 7)\n",
      "inp: (None, 20, 7)\n",
      "seq_len: Tensor(\"functional_11_1/transformer_encoder_7_1/positional_encoding_7_1/strided_slice:0\", shape=(), dtype=int32)\n",
      "Attention output shape: (None, 20, 7)\n",
      "Input shape before attention: (None, 20, 7)\n",
      "inp: (None, 20, 7)\n",
      "seq_len: Tensor(\"functional_11_1/transformer_encoder_8_1/positional_encoding_8_1/strided_slice:0\", shape=(), dtype=int32)\n",
      "Attention output shape: (None, 20, 7)\n",
      "Input shape before attention: (None, 20, 7)\n",
      "inp: (None, 20, 7)\n",
      "seq_len: Tensor(\"functional_11_1/transformer_encoder_6_1/positional_encoding_6_1/strided_slice:0\", shape=(), dtype=int32)\n",
      "Attention output shape: (None, 20, 7)\n",
      "Input shape before attention: (None, 20, 7)\n",
      "inp: (None, 20, 7)\n",
      "seq_len: Tensor(\"functional_11_1/transformer_encoder_7_1/positional_encoding_7_1/strided_slice:0\", shape=(), dtype=int32)\n",
      "Attention output shape: (None, 20, 7)\n",
      "Input shape before attention: (None, 20, 7)\n",
      "inp: (None, 20, 7)\n",
      "seq_len: Tensor(\"functional_11_1/transformer_encoder_8_1/positional_encoding_8_1/strided_slice:0\", shape=(), dtype=int32)\n",
      "Attention output shape: (None, 20, 7)\n",
      "\u001b[1m19/19\u001b[0m \u001b[32m━━━━━━━━━━━━━━━━━━━━\u001b[0m\u001b[37m\u001b[0m \u001b[1m0s\u001b[0m 18ms/step - loss: 0.0339 - mae: 0.1475Input shape before attention: (None, 20, 7)\n",
      "inp: (None, 20, 7)\n",
      "seq_len: Tensor(\"functional_11_1/transformer_encoder_6_1/positional_encoding_6_1/strided_slice:0\", shape=(), dtype=int32)\n",
      "Attention output shape: (None, 20, 7)\n",
      "Input shape before attention: (None, 20, 7)\n",
      "inp: (None, 20, 7)\n",
      "seq_len: Tensor(\"functional_11_1/transformer_encoder_7_1/positional_encoding_7_1/strided_slice:0\", shape=(), dtype=int32)\n",
      "Attention output shape: (None, 20, 7)\n",
      "Input shape before attention: (None, 20, 7)\n",
      "inp: (None, 20, 7)\n",
      "seq_len: Tensor(\"functional_11_1/transformer_encoder_8_1/positional_encoding_8_1/strided_slice:0\", shape=(), dtype=int32)\n",
      "Attention output shape: (None, 20, 7)\n",
      "\u001b[1m19/19\u001b[0m \u001b[32m━━━━━━━━━━━━━━━━━━━━\u001b[0m\u001b[37m\u001b[0m \u001b[1m9s\u001b[0m 54ms/step - loss: 0.0332 - mae: 0.1455 - val_loss: 0.0096 - val_mae: 0.0869\n",
      "Epoch 2/50\n",
      "\u001b[1m19/19\u001b[0m \u001b[32m━━━━━━━━━━━━━━━━━━━━\u001b[0m\u001b[37m\u001b[0m \u001b[1m1s\u001b[0m 38ms/step - loss: 0.0031 - mae: 0.0436 - val_loss: 0.0116 - val_mae: 0.0969\n",
      "Epoch 3/50\n",
      "\u001b[1m19/19\u001b[0m \u001b[32m━━━━━━━━━━━━━━━━━━━━\u001b[0m\u001b[37m\u001b[0m \u001b[1m1s\u001b[0m 30ms/step - loss: 0.0028 - mae: 0.0429 - val_loss: 0.0071 - val_mae: 0.0747\n",
      "Epoch 4/50\n",
      "\u001b[1m19/19\u001b[0m \u001b[32m━━━━━━━━━━━━━━━━━━━━\u001b[0m\u001b[37m\u001b[0m \u001b[1m1s\u001b[0m 26ms/step - loss: 0.0024 - mae: 0.0395 - val_loss: 0.0112 - val_mae: 0.0954\n",
      "Epoch 5/50\n",
      "\u001b[1m19/19\u001b[0m \u001b[32m━━━━━━━━━━━━━━━━━━━━\u001b[0m\u001b[37m\u001b[0m \u001b[1m1s\u001b[0m 31ms/step - loss: 0.0027 - mae: 0.0422 - val_loss: 0.0056 - val_mae: 0.0654\n",
      "Epoch 6/50\n",
      "\u001b[1m19/19\u001b[0m \u001b[32m━━━━━━━━━━━━━━━━━━━━\u001b[0m\u001b[37m\u001b[0m \u001b[1m1s\u001b[0m 28ms/step - loss: 0.0020 - mae: 0.0354 - val_loss: 0.0062 - val_mae: 0.0696\n",
      "Epoch 7/50\n",
      "\u001b[1m19/19\u001b[0m \u001b[32m━━━━━━━━━━━━━━━━━━━━\u001b[0m\u001b[37m\u001b[0m \u001b[1m1s\u001b[0m 31ms/step - loss: 0.0020 - mae: 0.0359 - val_loss: 0.0018 - val_mae: 0.0354\n",
      "Epoch 8/50\n",
      "\u001b[1m19/19\u001b[0m \u001b[32m━━━━━━━━━━━━━━━━━━━━\u001b[0m\u001b[37m\u001b[0m \u001b[1m1s\u001b[0m 28ms/step - loss: 0.0019 - mae: 0.0336 - val_loss: 0.0095 - val_mae: 0.0875\n",
      "Epoch 9/50\n",
      "\u001b[1m19/19\u001b[0m \u001b[32m━━━━━━━━━━━━━━━━━━━━\u001b[0m\u001b[37m\u001b[0m \u001b[1m0s\u001b[0m 23ms/step - loss: 0.0020 - mae: 0.0363 - val_loss: 0.0018 - val_mae: 0.0343\n",
      "Epoch 10/50\n",
      "\u001b[1m19/19\u001b[0m \u001b[32m━━━━━━━━━━━━━━━━━━━━\u001b[0m\u001b[37m\u001b[0m \u001b[1m1s\u001b[0m 34ms/step - loss: 0.0020 - mae: 0.0357 - val_loss: 0.0074 - val_mae: 0.0761\n",
      "Epoch 11/50\n",
      "\u001b[1m19/19\u001b[0m \u001b[32m━━━━━━━━━━━━━━━━━━━━\u001b[0m\u001b[37m\u001b[0m \u001b[1m1s\u001b[0m 26ms/step - loss: 0.0020 - mae: 0.0368 - val_loss: 0.0067 - val_mae: 0.0723\n",
      "Epoch 12/50\n",
      "\u001b[1m19/19\u001b[0m \u001b[32m━━━━━━━━━━━━━━━━━━━━\u001b[0m\u001b[37m\u001b[0m \u001b[1m1s\u001b[0m 25ms/step - loss: 0.0020 - mae: 0.0351 - val_loss: 0.0034 - val_mae: 0.0515\n",
      "Epoch 13/50\n",
      "\u001b[1m19/19\u001b[0m \u001b[32m━━━━━━━━━━━━━━━━━━━━\u001b[0m\u001b[37m\u001b[0m \u001b[1m0s\u001b[0m 20ms/step - loss: 0.0016 - mae: 0.0313 - val_loss: 0.0057 - val_mae: 0.0664\n",
      "Epoch 14/50\n",
      "\u001b[1m19/19\u001b[0m \u001b[32m━━━━━━━━━━━━━━━━━━━━\u001b[0m\u001b[37m\u001b[0m \u001b[1m0s\u001b[0m 21ms/step - loss: 0.0017 - mae: 0.0329 - val_loss: 0.0048 - val_mae: 0.0610\n",
      "Epoch 15/50\n",
      "\u001b[1m19/19\u001b[0m \u001b[32m━━━━━━━━━━━━━━━━━━━━\u001b[0m\u001b[37m\u001b[0m \u001b[1m0s\u001b[0m 20ms/step - loss: 0.0015 - mae: 0.0311 - val_loss: 0.0058 - val_mae: 0.0674\n",
      "Epoch 16/50\n",
      "\u001b[1m19/19\u001b[0m \u001b[32m━━━━━━━━━━━━━━━━━━━━\u001b[0m\u001b[37m\u001b[0m \u001b[1m0s\u001b[0m 20ms/step - loss: 0.0016 - mae: 0.0322 - val_loss: 0.0062 - val_mae: 0.0694\n",
      "Epoch 17/50\n",
      "\u001b[1m19/19\u001b[0m \u001b[32m━━━━━━━━━━━━━━━━━━━━\u001b[0m\u001b[37m\u001b[0m \u001b[1m0s\u001b[0m 21ms/step - loss: 0.0017 - mae: 0.0329 - val_loss: 0.0065 - val_mae: 0.0718\n",
      "Epoch 18/50\n",
      "\u001b[1m19/19\u001b[0m \u001b[32m━━━━━━━━━━━━━━━━━━━━\u001b[0m\u001b[37m\u001b[0m \u001b[1m0s\u001b[0m 20ms/step - loss: 0.0016 - mae: 0.0319 - val_loss: 0.0017 - val_mae: 0.0340\n",
      "Epoch 19/50\n",
      "\u001b[1m19/19\u001b[0m \u001b[32m━━━━━━━━━━━━━━━━━━━━\u001b[0m\u001b[37m\u001b[0m \u001b[1m0s\u001b[0m 20ms/step - loss: 0.0018 - mae: 0.0351 - val_loss: 0.0058 - val_mae: 0.0679\n",
      "Epoch 20/50\n",
      "\u001b[1m19/19\u001b[0m \u001b[32m━━━━━━━━━━━━━━━━━━━━\u001b[0m\u001b[37m\u001b[0m \u001b[1m0s\u001b[0m 20ms/step - loss: 0.0015 - mae: 0.0316 - val_loss: 0.0050 - val_mae: 0.0626\n",
      "Epoch 21/50\n",
      "\u001b[1m19/19\u001b[0m \u001b[32m━━━━━━━━━━━━━━━━━━━━\u001b[0m\u001b[37m\u001b[0m \u001b[1m0s\u001b[0m 23ms/step - loss: 0.0015 - mae: 0.0316 - val_loss: 0.0087 - val_mae: 0.0838\n",
      "Epoch 22/50\n",
      "\u001b[1m19/19\u001b[0m \u001b[32m━━━━━━━━━━━━━━━━━━━━\u001b[0m\u001b[37m\u001b[0m \u001b[1m0s\u001b[0m 23ms/step - loss: 0.0013 - mae: 0.0291 - val_loss: 0.0034 - val_mae: 0.0506\n",
      "Epoch 23/50\n",
      "\u001b[1m19/19\u001b[0m \u001b[32m━━━━━━━━━━━━━━━━━━━━\u001b[0m\u001b[37m\u001b[0m \u001b[1m0s\u001b[0m 20ms/step - loss: 0.0015 - mae: 0.0311 - val_loss: 0.0032 - val_mae: 0.0496\n",
      "Epoch 24/50\n",
      "\u001b[1m19/19\u001b[0m \u001b[32m━━━━━━━━━━━━━━━━━━━━\u001b[0m\u001b[37m\u001b[0m \u001b[1m0s\u001b[0m 20ms/step - loss: 0.0014 - mae: 0.0297 - val_loss: 0.0061 - val_mae: 0.0698\n",
      "Epoch 25/50\n",
      "\u001b[1m19/19\u001b[0m \u001b[32m━━━━━━━━━━━━━━━━━━━━\u001b[0m\u001b[37m\u001b[0m \u001b[1m0s\u001b[0m 23ms/step - loss: 0.0014 - mae: 0.0301 - val_loss: 0.0036 - val_mae: 0.0525\n",
      "Epoch 26/50\n",
      "\u001b[1m19/19\u001b[0m \u001b[32m━━━━━━━━━━━━━━━━━━━━\u001b[0m\u001b[37m\u001b[0m \u001b[1m0s\u001b[0m 23ms/step - loss: 0.0012 - mae: 0.0281 - val_loss: 0.0022 - val_mae: 0.0405\n",
      "Epoch 27/50\n",
      "\u001b[1m19/19\u001b[0m \u001b[32m━━━━━━━━━━━━━━━━━━━━\u001b[0m\u001b[37m\u001b[0m \u001b[1m0s\u001b[0m 23ms/step - loss: 0.0012 - mae: 0.0279 - val_loss: 0.0051 - val_mae: 0.0630\n",
      "Epoch 28/50\n",
      "\u001b[1m19/19\u001b[0m \u001b[32m━━━━━━━━━━━━━━━━━━━━\u001b[0m\u001b[37m\u001b[0m \u001b[1m0s\u001b[0m 23ms/step - loss: 0.0012 - mae: 0.0275 - val_loss: 0.0079 - val_mae: 0.0800\n",
      "Epoch 28: early stopping\n",
      "Restoring model weights from the end of the best epoch: 18.\n",
      "Total runtime of the program is 22.52227258682251\n",
      "The best epoch was: 18\n"
     ]
    }
   ],
   "source": [
    "input_shape = (20, 7)\n",
    "transformer_layers = 3\n",
    "time2vec_dim = 2\n",
    "dense_units = 512\n",
    "dropout_rate = 0.2\n",
    "num_heads = 4\n",
    "key_dim = 7\n",
    "ff_dim = 128\n",
    "\n",
    "model = create_transformer_model(input_shape, transformer_layers, num_heads, key_dim, ff_dim, dense_units, dropout_rate, 20)\n",
    "\n",
    "model.compile(optimizer=Adam(learning_rate=0.001), loss='mse', metrics=['mae'])\n",
    "model.summary()\n",
    "\n",
    "\n",
    "early_stopping = EarlyStopping(\n",
    "    monitor='val_loss',          \n",
    "    patience=10,                \n",
    "    verbose=1,                   \n",
    "    restore_best_weights=True    \n",
    ")\n",
    "start = time.time()\n",
    "history = model.fit(sequences,targets, validation_data=(sequences_val, targets_val), epochs=50, batch_size=None, callbacks=[early_stopping])\n",
    "end = time.time() \n",
    "print(f\"Total runtime of the program is {end - start}\") \n",
    "best_epoch = early_stopping.stopped_epoch - early_stopping.patience + 1\n",
    "print(f\"The best epoch was: {best_epoch}\")\n"
   ]
  },
  {
   "cell_type": "code",
   "execution_count": 81,
   "id": "6446cc0e-c05c-4b89-a40e-fc36e4859b22",
   "metadata": {},
   "outputs": [
    {
     "name": "stdout",
     "output_type": "stream",
     "text": [
      "Input shape before attention: (32, 20, 7)\n",
      "inp: (32, 20, 7)\n",
      "seq_len: Tensor(\"functional_11_1/transformer_encoder_6_1/positional_encoding_6_1/strided_slice:0\", shape=(), dtype=int32)\n",
      "Attention output shape: (32, 20, 7)\n",
      "Input shape before attention: (32, 20, 7)\n",
      "inp: (32, 20, 7)\n",
      "seq_len: Tensor(\"functional_11_1/transformer_encoder_7_1/positional_encoding_7_1/strided_slice:0\", shape=(), dtype=int32)\n",
      "Attention output shape: (32, 20, 7)\n",
      "Input shape before attention: (32, 20, 7)\n",
      "inp: (32, 20, 7)\n",
      "seq_len: Tensor(\"functional_11_1/transformer_encoder_8_1/positional_encoding_8_1/strided_slice:0\", shape=(), dtype=int32)\n",
      "Attention output shape: (32, 20, 7)\n",
      "WARNING:tensorflow:5 out of the last 11 calls to <function TensorFlowTrainer.make_predict_function.<locals>.one_step_on_data_distributed at 0x000002011B3492D0> triggered tf.function retracing. Tracing is expensive and the excessive number of tracings could be due to (1) creating @tf.function repeatedly in a loop, (2) passing tensors with different shapes, (3) passing Python objects instead of tensors. For (1), please define your @tf.function outside of the loop. For (2), @tf.function has reduce_retracing=True option that can avoid unnecessary retracing. For (3), please refer to https://www.tensorflow.org/guide/function#controlling_retracing and https://www.tensorflow.org/api_docs/python/tf/function for  more details.\n"
     ]
    },
    {
     "name": "stderr",
     "output_type": "stream",
     "text": [
      "WARNING:tensorflow:5 out of the last 11 calls to <function TensorFlowTrainer.make_predict_function.<locals>.one_step_on_data_distributed at 0x000002011B3492D0> triggered tf.function retracing. Tracing is expensive and the excessive number of tracings could be due to (1) creating @tf.function repeatedly in a loop, (2) passing tensors with different shapes, (3) passing Python objects instead of tensors. For (1), please define your @tf.function outside of the loop. For (2), @tf.function has reduce_retracing=True option that can avoid unnecessary retracing. For (3), please refer to https://www.tensorflow.org/guide/function#controlling_retracing and https://www.tensorflow.org/api_docs/python/tf/function for  more details.\n"
     ]
    },
    {
     "name": "stdout",
     "output_type": "stream",
     "text": [
      "\u001b[1m1/5\u001b[0m \u001b[32m━━━━\u001b[0m\u001b[37m━━━━━━━━━━━━━━━━\u001b[0m \u001b[1m1s\u001b[0m 390ms/stepInput shape before attention: (None, 20, 7)\n",
      "inp: (None, 20, 7)\n",
      "seq_len: Tensor(\"functional_11_1/transformer_encoder_6_1/positional_encoding_6_1/strided_slice:0\", shape=(), dtype=int32)\n",
      "Attention output shape: (None, 20, 7)\n",
      "Input shape before attention: (None, 20, 7)\n",
      "inp: (None, 20, 7)\n",
      "seq_len: Tensor(\"functional_11_1/transformer_encoder_7_1/positional_encoding_7_1/strided_slice:0\", shape=(), dtype=int32)\n",
      "Attention output shape: (None, 20, 7)\n",
      "Input shape before attention: (None, 20, 7)\n",
      "inp: (None, 20, 7)\n",
      "seq_len: Tensor(\"functional_11_1/transformer_encoder_8_1/positional_encoding_8_1/strided_slice:0\", shape=(), dtype=int32)\n",
      "Attention output shape: (None, 20, 7)\n",
      "WARNING:tensorflow:5 out of the last 11 calls to <function TensorFlowTrainer.make_predict_function.<locals>.one_step_on_data_distributed at 0x000002011B3492D0> triggered tf.function retracing. Tracing is expensive and the excessive number of tracings could be due to (1) creating @tf.function repeatedly in a loop, (2) passing tensors with different shapes, (3) passing Python objects instead of tensors. For (1), please define your @tf.function outside of the loop. For (2), @tf.function has reduce_retracing=True option that can avoid unnecessary retracing. For (3), please refer to https://www.tensorflow.org/guide/function#controlling_retracing and https://www.tensorflow.org/api_docs/python/tf/function for  more details.\n"
     ]
    },
    {
     "name": "stderr",
     "output_type": "stream",
     "text": [
      "WARNING:tensorflow:5 out of the last 11 calls to <function TensorFlowTrainer.make_predict_function.<locals>.one_step_on_data_distributed at 0x000002011B3492D0> triggered tf.function retracing. Tracing is expensive and the excessive number of tracings could be due to (1) creating @tf.function repeatedly in a loop, (2) passing tensors with different shapes, (3) passing Python objects instead of tensors. For (1), please define your @tf.function outside of the loop. For (2), @tf.function has reduce_retracing=True option that can avoid unnecessary retracing. For (3), please refer to https://www.tensorflow.org/guide/function#controlling_retracing and https://www.tensorflow.org/api_docs/python/tf/function for  more details.\n"
     ]
    },
    {
     "name": "stdout",
     "output_type": "stream",
     "text": [
      "\u001b[1m5/5\u001b[0m \u001b[32m━━━━━━━━━━━━━━━━━━━━\u001b[0m\u001b[37m\u001b[0m \u001b[1m1s\u001b[0m 127ms/step\n"
     ]
    }
   ],
   "source": [
    "# Prediction\n",
    "predictions = model.predict(sequences_test)"
   ]
  },
  {
   "cell_type": "code",
   "execution_count": 82,
   "id": "827829c5-fb28-4008-9c98-73e18b6255df",
   "metadata": {},
   "outputs": [
    {
     "data": {
      "image/png": "[encoded data removed]",
      "text/plain": [
       "<Figure size 640x480 with 1 Axes>"
      ]
     },
     "metadata": {},
     "output_type": "display_data"
    }
   ],
   "source": [
    "# Plot for Nifty50 share price\n",
    "plt.plot(target_scaler.inverse_transform(targets_test.reshape(-1,1)), label='Actual close price')\n",
    "plt.plot(target_scaler.inverse_transform(predictions.reshape(-1,1)), label='Predicted close price')\n",
    "\n",
    "plt.title('Actual vs Predicted Prices')\n",
    "plt.ylabel('Price')\n",
    "plt.legend()\n",
    "\n",
    "plt.show()"
   ]
  },
  {
   "cell_type": "code",
   "execution_count": 83,
   "id": "c9a7867b-ec9b-48ec-8b02-eaf72ee66b3e",
   "metadata": {},
   "outputs": [
    {
     "name": "stdout",
     "output_type": "stream",
     "text": [
      "Mean Absolute Error: 0.08699771223456058\n"
     ]
    }
   ],
   "source": [
    "# Calculate MAE on test data\n",
    "mae = mean_absolute_error(targets_test, predictions)\n",
    "print(f\"Mean Absolute Error: {mae}\")"
   ]
  },
  {
   "cell_type": "code",
   "execution_count": 84,
   "id": "ba709b23-691d-462a-b619-145ab2351f96",
   "metadata": {},
   "outputs": [
    {
     "name": "stdout",
     "output_type": "stream",
     "text": [
      "Mean Absolute Error of inverse transformed data is : 1036.9820421006943\n"
     ]
    }
   ],
   "source": [
    "targets_test_inv = target_scaler.inverse_transform(targets_test.reshape(-1,1))\n",
    "predictions_inv = target_scaler.inverse_transform(predictions.reshape(-1,1))\n",
    "mae = mean_absolute_error(targets_test_inv, predictions_inv)\n",
    "print(f\"Mean Absolute Error of inverse transformed data is : {mae}\")"
   ]
  },
  {
   "cell_type": "code",
   "execution_count": 86,
   "id": "43973ab7-1494-41ee-8a84-43bebf375464",
   "metadata": {},
   "outputs": [
    {
     "name": "stderr",
     "output_type": "stream",
     "text": [
      "WARNING:absl:You are saving your model as an HDF5 file via `model.save()` or `keras.saving.save_model(model)`. This file format is considered legacy. We recommend using instead the native Keras format, e.g. `model.save('my_model.keras')` or `keras.saving.save_model(model, 'my_model.keras')`. \n"
     ]
    }
   ],
   "source": [
    "model.save(\"transformer_model_t2v.h5\")"
   ]
  },
  {
   "cell_type": "code",
   "execution_count": null,
   "id": "f6a735ec-5d1d-4f68-a862-0a84cd2e027d",
   "metadata": {},
   "outputs": [],
   "source": []
  }
 ],
 "metadata": {
  "kernelspec": {
   "display_name": "Python 3 (ipykernel)",
   "language": "python",
   "name": "python3"
  },
  "language_info": {
   "codemirror_mode": {
    "name": "ipython",
    "version": 3
   },
   "file_extension": ".py",
   "mimetype": "text/x-python",
   "name": "python",
   "nbconvert_exporter": "python",
   "pygments_lexer": "ipython3",
   "version": "3.10.15"
  }
 },
 "nbformat": 4,
 "nbformat_minor": 5
}
