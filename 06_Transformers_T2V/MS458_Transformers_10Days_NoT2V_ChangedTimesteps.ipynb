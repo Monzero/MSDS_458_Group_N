{
 "cells": [
  {
   "cell_type": "code",
   "execution_count": 1,
   "id": "01c09555-ac3f-4f43-aedc-2b0826792621",
   "metadata": {},
   "outputs": [],
   "source": [
    "import pandas as pd\n",
    "import numpy as np\n",
    "import tensorflow as tf\n",
    "from tensorflow.keras import layers, models\n",
    "from tensorflow.keras.layers import Conv1D,Conv2D, Dense, Flatten, MaxPooling1D, MaxPooling2D, AveragePooling2D\n",
    "import xgboost as xgb\n",
    "from sklearn.metrics import mean_squared_error\n",
    "import calendar\n",
    "from datetime import datetime, timedelta\n",
    "import matplotlib.pyplot as plt\n",
    "from sklearn.preprocessing import MinMaxScaler,StandardScaler\n",
    "import torch\n",
    "import torch.nn as nn\n",
    "from torch.utils.data import DataLoader, Dataset\n",
    "import matplotlib.pyplot as plt\n",
    "import tensorflow as tf\n",
    "from tensorflow.keras import layers, Model, Input\n",
    "from tensorflow.keras.layers import Dense, Dropout, GlobalAveragePooling1D, Concatenate\n",
    "from tensorflow.keras.models import Sequential\n",
    "from tensorflow.keras.layers import Layer, MultiHeadAttention, LayerNormalization, Dropout, Dense\n",
    "from tensorflow.keras.callbacks import EarlyStopping\n",
    "from tensorflow.keras.optimizers import Adam\n",
    "import torch.optim as optim"
   ]
  },
  {
   "cell_type": "code",
   "execution_count": 2,
   "id": "b4037807-ed84-4533-ba44-8f0a1d290180",
   "metadata": {},
   "outputs": [],
   "source": [
    "pd.set_option('display.max_columns', None)"
   ]
  },
  {
   "cell_type": "code",
   "execution_count": 3,
   "id": "f8ec034b-f6fb-4ca2-b20d-9b038a03f455",
   "metadata": {},
   "outputs": [],
   "source": [
    "#!pip install xgboost"
   ]
  },
  {
   "cell_type": "code",
   "execution_count": 4,
   "id": "71e498e3-a04c-42a6-a3e9-b63e774bfd11",
   "metadata": {},
   "outputs": [],
   "source": [
    "#import yfinance as yf\n",
    "#sp500 = \"LT.NS\"\n",
    "#data = yf.download(sp500, start=\"2019-11-25\", end=\"2024-11-25\")\n",
    "#data.to_csv(\"data/LnT_historical_data.csv\")"
   ]
  },
  {
   "cell_type": "code",
   "execution_count": 5,
   "id": "9f121c39-2fe0-4c80-9b0f-0fae8e034f35",
   "metadata": {},
   "outputs": [],
   "source": [
    "df_train_all = pd.read_csv(\"data/LnT_historical_data.csv\")"
   ]
  },
  {
   "cell_type": "code",
   "execution_count": 6,
   "id": "52519fe2-0609-4f13-b255-71ef95379b93",
   "metadata": {},
   "outputs": [
    {
     "data": {
      "text/html": [
       "<div>\n",
       "<style scoped>\n",
       "    .dataframe tbody tr th:only-of-type {\n",
       "        vertical-align: middle;\n",
       "    }\n",
       "\n",
       "    .dataframe tbody tr th {\n",
       "        vertical-align: top;\n",
       "    }\n",
       "\n",
       "    .dataframe thead th {\n",
       "        text-align: right;\n",
       "    }\n",
       "</style>\n",
       "<table border=\"1\" class=\"dataframe\">\n",
       "  <thead>\n",
       "    <tr style=\"text-align: right;\">\n",
       "      <th></th>\n",
       "      <th>Date</th>\n",
       "      <th>Adj_Close</th>\n",
       "      <th>Close</th>\n",
       "      <th>High</th>\n",
       "      <th>Low</th>\n",
       "      <th>Open</th>\n",
       "      <th>Volume</th>\n",
       "    </tr>\n",
       "  </thead>\n",
       "  <tbody>\n",
       "    <tr>\n",
       "      <th>0</th>\n",
       "      <td>2019-11-25 00:00:00+00:00</td>\n",
       "      <td>1259.961792</td>\n",
       "      <td>1380.849976</td>\n",
       "      <td>1389.000000</td>\n",
       "      <td>1371.099976</td>\n",
       "      <td>1378.500000</td>\n",
       "      <td>2956576</td>\n",
       "    </tr>\n",
       "    <tr>\n",
       "      <th>1</th>\n",
       "      <td>2019-11-26 00:00:00+00:00</td>\n",
       "      <td>1243.674438</td>\n",
       "      <td>1363.000000</td>\n",
       "      <td>1380.000000</td>\n",
       "      <td>1359.550049</td>\n",
       "      <td>1379.349976</td>\n",
       "      <td>4853977</td>\n",
       "    </tr>\n",
       "    <tr>\n",
       "      <th>2</th>\n",
       "      <td>2019-11-27 00:00:00+00:00</td>\n",
       "      <td>1218.582153</td>\n",
       "      <td>1335.500000</td>\n",
       "      <td>1370.000000</td>\n",
       "      <td>1314.150024</td>\n",
       "      <td>1365.000000</td>\n",
       "      <td>7904745</td>\n",
       "    </tr>\n",
       "    <tr>\n",
       "      <th>3</th>\n",
       "      <td>2019-11-28 00:00:00+00:00</td>\n",
       "      <td>1231.721558</td>\n",
       "      <td>1349.900024</td>\n",
       "      <td>1354.000000</td>\n",
       "      <td>1327.199951</td>\n",
       "      <td>1344.000000</td>\n",
       "      <td>4503913</td>\n",
       "    </tr>\n",
       "    <tr>\n",
       "      <th>4</th>\n",
       "      <td>2019-11-29 00:00:00+00:00</td>\n",
       "      <td>1214.065308</td>\n",
       "      <td>1330.550049</td>\n",
       "      <td>1350.199951</td>\n",
       "      <td>1328.000000</td>\n",
       "      <td>1350.000000</td>\n",
       "      <td>2515083</td>\n",
       "    </tr>\n",
       "    <tr>\n",
       "      <th>...</th>\n",
       "      <td>...</td>\n",
       "      <td>...</td>\n",
       "      <td>...</td>\n",
       "      <td>...</td>\n",
       "      <td>...</td>\n",
       "      <td>...</td>\n",
       "      <td>...</td>\n",
       "    </tr>\n",
       "    <tr>\n",
       "      <th>1233</th>\n",
       "      <td>2024-11-14 00:00:00+00:00</td>\n",
       "      <td>3526.250000</td>\n",
       "      <td>3526.250000</td>\n",
       "      <td>3565.750000</td>\n",
       "      <td>3500.149902</td>\n",
       "      <td>3558.000000</td>\n",
       "      <td>1291765</td>\n",
       "    </tr>\n",
       "    <tr>\n",
       "      <th>1234</th>\n",
       "      <td>2024-11-18 00:00:00+00:00</td>\n",
       "      <td>3542.149902</td>\n",
       "      <td>3542.149902</td>\n",
       "      <td>3568.300049</td>\n",
       "      <td>3510.850098</td>\n",
       "      <td>3521.100098</td>\n",
       "      <td>1233217</td>\n",
       "    </tr>\n",
       "    <tr>\n",
       "      <th>1235</th>\n",
       "      <td>2024-11-19 00:00:00+00:00</td>\n",
       "      <td>3505.899902</td>\n",
       "      <td>3505.899902</td>\n",
       "      <td>3607.000000</td>\n",
       "      <td>3495.000000</td>\n",
       "      <td>3559.899902</td>\n",
       "      <td>1826460</td>\n",
       "    </tr>\n",
       "    <tr>\n",
       "      <th>1236</th>\n",
       "      <td>2024-11-21 00:00:00+00:00</td>\n",
       "      <td>3483.500000</td>\n",
       "      <td>3483.500000</td>\n",
       "      <td>3530.550049</td>\n",
       "      <td>3452.449951</td>\n",
       "      <td>3530.000000</td>\n",
       "      <td>1510581</td>\n",
       "    </tr>\n",
       "    <tr>\n",
       "      <th>1237</th>\n",
       "      <td>2024-11-22 00:00:00+00:00</td>\n",
       "      <td>3603.500000</td>\n",
       "      <td>3603.500000</td>\n",
       "      <td>3613.500000</td>\n",
       "      <td>3473.100098</td>\n",
       "      <td>3500.000000</td>\n",
       "      <td>2534018</td>\n",
       "    </tr>\n",
       "  </tbody>\n",
       "</table>\n",
       "<p>1238 rows × 7 columns</p>\n",
       "</div>"
      ],
      "text/plain": [
       "                           Date    Adj_Close        Close         High  \\\n",
       "0     2019-11-25 00:00:00+00:00  1259.961792  1380.849976  1389.000000   \n",
       "1     2019-11-26 00:00:00+00:00  1243.674438  1363.000000  1380.000000   \n",
       "2     2019-11-27 00:00:00+00:00  1218.582153  1335.500000  1370.000000   \n",
       "3     2019-11-28 00:00:00+00:00  1231.721558  1349.900024  1354.000000   \n",
       "4     2019-11-29 00:00:00+00:00  1214.065308  1330.550049  1350.199951   \n",
       "...                         ...          ...          ...          ...   \n",
       "1233  2024-11-14 00:00:00+00:00  3526.250000  3526.250000  3565.750000   \n",
       "1234  2024-11-18 00:00:00+00:00  3542.149902  3542.149902  3568.300049   \n",
       "1235  2024-11-19 00:00:00+00:00  3505.899902  3505.899902  3607.000000   \n",
       "1236  2024-11-21 00:00:00+00:00  3483.500000  3483.500000  3530.550049   \n",
       "1237  2024-11-22 00:00:00+00:00  3603.500000  3603.500000  3613.500000   \n",
       "\n",
       "              Low         Open   Volume  \n",
       "0     1371.099976  1378.500000  2956576  \n",
       "1     1359.550049  1379.349976  4853977  \n",
       "2     1314.150024  1365.000000  7904745  \n",
       "3     1327.199951  1344.000000  4503913  \n",
       "4     1328.000000  1350.000000  2515083  \n",
       "...           ...          ...      ...  \n",
       "1233  3500.149902  3558.000000  1291765  \n",
       "1234  3510.850098  3521.100098  1233217  \n",
       "1235  3495.000000  3559.899902  1826460  \n",
       "1236  3452.449951  3530.000000  1510581  \n",
       "1237  3473.100098  3500.000000  2534018  \n",
       "\n",
       "[1238 rows x 7 columns]"
      ]
     },
     "execution_count": 6,
     "metadata": {},
     "output_type": "execute_result"
    }
   ],
   "source": [
    "df_train_all"
   ]
  },
  {
   "cell_type": "code",
   "execution_count": 7,
   "id": "e26add6f-0ca9-46ed-9155-f5ce1653df90",
   "metadata": {},
   "outputs": [],
   "source": [
    "df_train_all[\"Date\"] = pd.to_datetime(df_train_all[\"Date\"])"
   ]
  },
  {
   "cell_type": "code",
   "execution_count": 8,
   "id": "1ee43811-a9c5-4383-93ed-52dd47e8d755",
   "metadata": {},
   "outputs": [
    {
     "data": {
      "text/html": [
       "<div>\n",
       "<style scoped>\n",
       "    .dataframe tbody tr th:only-of-type {\n",
       "        vertical-align: middle;\n",
       "    }\n",
       "\n",
       "    .dataframe tbody tr th {\n",
       "        vertical-align: top;\n",
       "    }\n",
       "\n",
       "    .dataframe thead th {\n",
       "        text-align: right;\n",
       "    }\n",
       "</style>\n",
       "<table border=\"1\" class=\"dataframe\">\n",
       "  <thead>\n",
       "    <tr style=\"text-align: right;\">\n",
       "      <th></th>\n",
       "      <th>Adj_Close</th>\n",
       "      <th>Close</th>\n",
       "      <th>High</th>\n",
       "      <th>Low</th>\n",
       "      <th>Open</th>\n",
       "      <th>Volume</th>\n",
       "    </tr>\n",
       "  </thead>\n",
       "  <tbody>\n",
       "    <tr>\n",
       "      <th>count</th>\n",
       "      <td>1238.000000</td>\n",
       "      <td>1238.000000</td>\n",
       "      <td>1238.000000</td>\n",
       "      <td>1238.000000</td>\n",
       "      <td>1238.000000</td>\n",
       "      <td>1.238000e+03</td>\n",
       "    </tr>\n",
       "    <tr>\n",
       "      <th>mean</th>\n",
       "      <td>2008.925211</td>\n",
       "      <td>2062.823021</td>\n",
       "      <td>2085.688566</td>\n",
       "      <td>2040.985463</td>\n",
       "      <td>2063.858482</td>\n",
       "      <td>3.011686e+06</td>\n",
       "    </tr>\n",
       "    <tr>\n",
       "      <th>std</th>\n",
       "      <td>916.109006</td>\n",
       "      <td>894.685372</td>\n",
       "      <td>901.813680</td>\n",
       "      <td>886.812497</td>\n",
       "      <td>894.810542</td>\n",
       "      <td>2.204713e+06</td>\n",
       "    </tr>\n",
       "    <tr>\n",
       "      <th>min</th>\n",
       "      <td>654.971985</td>\n",
       "      <td>707.900024</td>\n",
       "      <td>755.750000</td>\n",
       "      <td>661.000000</td>\n",
       "      <td>697.200012</td>\n",
       "      <td>2.127960e+05</td>\n",
       "    </tr>\n",
       "    <tr>\n",
       "      <th>25%</th>\n",
       "      <td>1305.126495</td>\n",
       "      <td>1373.475006</td>\n",
       "      <td>1392.787476</td>\n",
       "      <td>1356.712494</td>\n",
       "      <td>1377.149963</td>\n",
       "      <td>1.666719e+06</td>\n",
       "    </tr>\n",
       "    <tr>\n",
       "      <th>50%</th>\n",
       "      <td>1791.520264</td>\n",
       "      <td>1850.674988</td>\n",
       "      <td>1871.500000</td>\n",
       "      <td>1827.625000</td>\n",
       "      <td>1849.450012</td>\n",
       "      <td>2.289248e+06</td>\n",
       "    </tr>\n",
       "    <tr>\n",
       "      <th>75%</th>\n",
       "      <td>2637.318298</td>\n",
       "      <td>2665.549927</td>\n",
       "      <td>2688.162476</td>\n",
       "      <td>2645.337463</td>\n",
       "      <td>2668.712463</td>\n",
       "      <td>3.616259e+06</td>\n",
       "    </tr>\n",
       "    <tr>\n",
       "      <th>max</th>\n",
       "      <td>3866.753906</td>\n",
       "      <td>3897.149902</td>\n",
       "      <td>3919.899902</td>\n",
       "      <td>3801.100098</td>\n",
       "      <td>3855.399902</td>\n",
       "      <td>2.115335e+07</td>\n",
       "    </tr>\n",
       "  </tbody>\n",
       "</table>\n",
       "</div>"
      ],
      "text/plain": [
       "         Adj_Close        Close         High          Low         Open  \\\n",
       "count  1238.000000  1238.000000  1238.000000  1238.000000  1238.000000   \n",
       "mean   2008.925211  2062.823021  2085.688566  2040.985463  2063.858482   \n",
       "std     916.109006   894.685372   901.813680   886.812497   894.810542   \n",
       "min     654.971985   707.900024   755.750000   661.000000   697.200012   \n",
       "25%    1305.126495  1373.475006  1392.787476  1356.712494  1377.149963   \n",
       "50%    1791.520264  1850.674988  1871.500000  1827.625000  1849.450012   \n",
       "75%    2637.318298  2665.549927  2688.162476  2645.337463  2668.712463   \n",
       "max    3866.753906  3897.149902  3919.899902  3801.100098  3855.399902   \n",
       "\n",
       "             Volume  \n",
       "count  1.238000e+03  \n",
       "mean   3.011686e+06  \n",
       "std    2.204713e+06  \n",
       "min    2.127960e+05  \n",
       "25%    1.666719e+06  \n",
       "50%    2.289248e+06  \n",
       "75%    3.616259e+06  \n",
       "max    2.115335e+07  "
      ]
     },
     "execution_count": 8,
     "metadata": {},
     "output_type": "execute_result"
    }
   ],
   "source": [
    "df_train_all.describe()"
   ]
  },
  {
   "cell_type": "code",
   "execution_count": 9,
   "id": "4167b640-c6a5-4355-9c08-f8585aa7f2fc",
   "metadata": {},
   "outputs": [
    {
     "data": {
      "text/plain": [
       "Date         0\n",
       "Adj_Close    0\n",
       "Close        0\n",
       "High         0\n",
       "Low          0\n",
       "Open         0\n",
       "Volume       0\n",
       "dtype: int64"
      ]
     },
     "execution_count": 9,
     "metadata": {},
     "output_type": "execute_result"
    }
   ],
   "source": [
    "df_train_all.isnull().sum()"
   ]
  },
  {
   "cell_type": "code",
   "execution_count": 10,
   "id": "71d31740-09b0-4b86-9f28-9ef872f332ff",
   "metadata": {},
   "outputs": [
    {
     "data": {
      "text/plain": [
       "pandas.core.series.Series"
      ]
     },
     "execution_count": 10,
     "metadata": {},
     "output_type": "execute_result"
    }
   ],
   "source": [
    "type(df_train_all[\"Date\"])"
   ]
  },
  {
   "cell_type": "code",
   "execution_count": 11,
   "id": "04b573a9-d316-4ce5-adec-4f955b86a2e4",
   "metadata": {},
   "outputs": [],
   "source": [
    "df_train_all[\"epoch_time\"]= df_train_all[\"Date\"].apply(lambda x: x.timestamp())"
   ]
  },
  {
   "cell_type": "code",
   "execution_count": 12,
   "id": "6685b9ad-4fee-4ea5-8805-0cd9e943f409",
   "metadata": {},
   "outputs": [
    {
     "data": {
      "text/html": [
       "<div>\n",
       "<style scoped>\n",
       "    .dataframe tbody tr th:only-of-type {\n",
       "        vertical-align: middle;\n",
       "    }\n",
       "\n",
       "    .dataframe tbody tr th {\n",
       "        vertical-align: top;\n",
       "    }\n",
       "\n",
       "    .dataframe thead th {\n",
       "        text-align: right;\n",
       "    }\n",
       "</style>\n",
       "<table border=\"1\" class=\"dataframe\">\n",
       "  <thead>\n",
       "    <tr style=\"text-align: right;\">\n",
       "      <th></th>\n",
       "      <th>Date</th>\n",
       "      <th>Adj_Close</th>\n",
       "      <th>Close</th>\n",
       "      <th>High</th>\n",
       "      <th>Low</th>\n",
       "      <th>Open</th>\n",
       "      <th>Volume</th>\n",
       "      <th>epoch_time</th>\n",
       "    </tr>\n",
       "  </thead>\n",
       "  <tbody>\n",
       "    <tr>\n",
       "      <th>0</th>\n",
       "      <td>2019-11-25 00:00:00+00:00</td>\n",
       "      <td>1259.961792</td>\n",
       "      <td>1380.849976</td>\n",
       "      <td>1389.000000</td>\n",
       "      <td>1371.099976</td>\n",
       "      <td>1378.500000</td>\n",
       "      <td>2956576</td>\n",
       "      <td>1.574640e+09</td>\n",
       "    </tr>\n",
       "    <tr>\n",
       "      <th>1</th>\n",
       "      <td>2019-11-26 00:00:00+00:00</td>\n",
       "      <td>1243.674438</td>\n",
       "      <td>1363.000000</td>\n",
       "      <td>1380.000000</td>\n",
       "      <td>1359.550049</td>\n",
       "      <td>1379.349976</td>\n",
       "      <td>4853977</td>\n",
       "      <td>1.574726e+09</td>\n",
       "    </tr>\n",
       "    <tr>\n",
       "      <th>2</th>\n",
       "      <td>2019-11-27 00:00:00+00:00</td>\n",
       "      <td>1218.582153</td>\n",
       "      <td>1335.500000</td>\n",
       "      <td>1370.000000</td>\n",
       "      <td>1314.150024</td>\n",
       "      <td>1365.000000</td>\n",
       "      <td>7904745</td>\n",
       "      <td>1.574813e+09</td>\n",
       "    </tr>\n",
       "    <tr>\n",
       "      <th>3</th>\n",
       "      <td>2019-11-28 00:00:00+00:00</td>\n",
       "      <td>1231.721558</td>\n",
       "      <td>1349.900024</td>\n",
       "      <td>1354.000000</td>\n",
       "      <td>1327.199951</td>\n",
       "      <td>1344.000000</td>\n",
       "      <td>4503913</td>\n",
       "      <td>1.574899e+09</td>\n",
       "    </tr>\n",
       "    <tr>\n",
       "      <th>4</th>\n",
       "      <td>2019-11-29 00:00:00+00:00</td>\n",
       "      <td>1214.065308</td>\n",
       "      <td>1330.550049</td>\n",
       "      <td>1350.199951</td>\n",
       "      <td>1328.000000</td>\n",
       "      <td>1350.000000</td>\n",
       "      <td>2515083</td>\n",
       "      <td>1.574986e+09</td>\n",
       "    </tr>\n",
       "    <tr>\n",
       "      <th>...</th>\n",
       "      <td>...</td>\n",
       "      <td>...</td>\n",
       "      <td>...</td>\n",
       "      <td>...</td>\n",
       "      <td>...</td>\n",
       "      <td>...</td>\n",
       "      <td>...</td>\n",
       "      <td>...</td>\n",
       "    </tr>\n",
       "    <tr>\n",
       "      <th>1233</th>\n",
       "      <td>2024-11-14 00:00:00+00:00</td>\n",
       "      <td>3526.250000</td>\n",
       "      <td>3526.250000</td>\n",
       "      <td>3565.750000</td>\n",
       "      <td>3500.149902</td>\n",
       "      <td>3558.000000</td>\n",
       "      <td>1291765</td>\n",
       "      <td>1.731542e+09</td>\n",
       "    </tr>\n",
       "    <tr>\n",
       "      <th>1234</th>\n",
       "      <td>2024-11-18 00:00:00+00:00</td>\n",
       "      <td>3542.149902</td>\n",
       "      <td>3542.149902</td>\n",
       "      <td>3568.300049</td>\n",
       "      <td>3510.850098</td>\n",
       "      <td>3521.100098</td>\n",
       "      <td>1233217</td>\n",
       "      <td>1.731888e+09</td>\n",
       "    </tr>\n",
       "    <tr>\n",
       "      <th>1235</th>\n",
       "      <td>2024-11-19 00:00:00+00:00</td>\n",
       "      <td>3505.899902</td>\n",
       "      <td>3505.899902</td>\n",
       "      <td>3607.000000</td>\n",
       "      <td>3495.000000</td>\n",
       "      <td>3559.899902</td>\n",
       "      <td>1826460</td>\n",
       "      <td>1.731974e+09</td>\n",
       "    </tr>\n",
       "    <tr>\n",
       "      <th>1236</th>\n",
       "      <td>2024-11-21 00:00:00+00:00</td>\n",
       "      <td>3483.500000</td>\n",
       "      <td>3483.500000</td>\n",
       "      <td>3530.550049</td>\n",
       "      <td>3452.449951</td>\n",
       "      <td>3530.000000</td>\n",
       "      <td>1510581</td>\n",
       "      <td>1.732147e+09</td>\n",
       "    </tr>\n",
       "    <tr>\n",
       "      <th>1237</th>\n",
       "      <td>2024-11-22 00:00:00+00:00</td>\n",
       "      <td>3603.500000</td>\n",
       "      <td>3603.500000</td>\n",
       "      <td>3613.500000</td>\n",
       "      <td>3473.100098</td>\n",
       "      <td>3500.000000</td>\n",
       "      <td>2534018</td>\n",
       "      <td>1.732234e+09</td>\n",
       "    </tr>\n",
       "  </tbody>\n",
       "</table>\n",
       "<p>1238 rows × 8 columns</p>\n",
       "</div>"
      ],
      "text/plain": [
       "                          Date    Adj_Close        Close         High  \\\n",
       "0    2019-11-25 00:00:00+00:00  1259.961792  1380.849976  1389.000000   \n",
       "1    2019-11-26 00:00:00+00:00  1243.674438  1363.000000  1380.000000   \n",
       "2    2019-11-27 00:00:00+00:00  1218.582153  1335.500000  1370.000000   \n",
       "3    2019-11-28 00:00:00+00:00  1231.721558  1349.900024  1354.000000   \n",
       "4    2019-11-29 00:00:00+00:00  1214.065308  1330.550049  1350.199951   \n",
       "...                        ...          ...          ...          ...   \n",
       "1233 2024-11-14 00:00:00+00:00  3526.250000  3526.250000  3565.750000   \n",
       "1234 2024-11-18 00:00:00+00:00  3542.149902  3542.149902  3568.300049   \n",
       "1235 2024-11-19 00:00:00+00:00  3505.899902  3505.899902  3607.000000   \n",
       "1236 2024-11-21 00:00:00+00:00  3483.500000  3483.500000  3530.550049   \n",
       "1237 2024-11-22 00:00:00+00:00  3603.500000  3603.500000  3613.500000   \n",
       "\n",
       "              Low         Open   Volume    epoch_time  \n",
       "0     1371.099976  1378.500000  2956576  1.574640e+09  \n",
       "1     1359.550049  1379.349976  4853977  1.574726e+09  \n",
       "2     1314.150024  1365.000000  7904745  1.574813e+09  \n",
       "3     1327.199951  1344.000000  4503913  1.574899e+09  \n",
       "4     1328.000000  1350.000000  2515083  1.574986e+09  \n",
       "...           ...          ...      ...           ...  \n",
       "1233  3500.149902  3558.000000  1291765  1.731542e+09  \n",
       "1234  3510.850098  3521.100098  1233217  1.731888e+09  \n",
       "1235  3495.000000  3559.899902  1826460  1.731974e+09  \n",
       "1236  3452.449951  3530.000000  1510581  1.732147e+09  \n",
       "1237  3473.100098  3500.000000  2534018  1.732234e+09  \n",
       "\n",
       "[1238 rows x 8 columns]"
      ]
     },
     "execution_count": 12,
     "metadata": {},
     "output_type": "execute_result"
    }
   ],
   "source": [
    "df_train_all"
   ]
  },
  {
   "cell_type": "code",
   "execution_count": 13,
   "id": "e03feabf-6f11-4f1d-a426-2c1c7b0bfc67",
   "metadata": {},
   "outputs": [],
   "source": [
    "def is_last_thursday(date):\n",
    "    year = date.year\n",
    "    month = date.month\n",
    "    \n",
    "    last_day = calendar.monthrange(year, month)[1]\n",
    "    last_date = datetime(year, month, last_day)\n",
    "    last_day_weekday = last_date.weekday()\n",
    "    days_since_last_thursday = (last_day_weekday - calendar.THURSDAY) % 7\n",
    "    last_thursday_date = last_date - timedelta(days=days_since_last_thursday)\n",
    "    \n",
    "    return 1 if date.date() == last_thursday_date.date() else 0"
   ]
  },
  {
   "cell_type": "code",
   "execution_count": null,
   "id": "a4b9d5b9-5256-4cc2-a443-04eb4e3b86fe",
   "metadata": {},
   "outputs": [],
   "source": []
  },
  {
   "cell_type": "code",
   "execution_count": 14,
   "id": "c22b0a67-ad47-4690-8c24-96322b704587",
   "metadata": {},
   "outputs": [],
   "source": [
    "df_train_all['opt_expiry'] = df_train_all['Date'].apply(is_last_thursday)"
   ]
  },
  {
   "cell_type": "code",
   "execution_count": 15,
   "id": "738b8d50-14b2-43d0-a5c5-d4acd92a0d9a",
   "metadata": {},
   "outputs": [],
   "source": [
    "df_train_all['10DaysMA'] =  df_train_all['Adj_Close'].rolling(window=10).mean()\n",
    "df_train_all['30DaysMA'] =  df_train_all['Adj_Close'].rolling(window=30).mean()\n",
    "df_train_all['50DaysMA'] =  df_train_all['Adj_Close'].rolling(window=50).mean()"
   ]
  },
  {
   "cell_type": "code",
   "execution_count": null,
   "id": "4f9102b0-57bc-4c73-b127-93237db2c6cd",
   "metadata": {},
   "outputs": [],
   "source": []
  },
  {
   "cell_type": "code",
   "execution_count": 16,
   "id": "f21ec75e-6fa8-4045-af56-741c1aa5557c",
   "metadata": {},
   "outputs": [
    {
     "data": {
      "text/html": [
       "<div>\n",
       "<style scoped>\n",
       "    .dataframe tbody tr th:only-of-type {\n",
       "        vertical-align: middle;\n",
       "    }\n",
       "\n",
       "    .dataframe tbody tr th {\n",
       "        vertical-align: top;\n",
       "    }\n",
       "\n",
       "    .dataframe thead th {\n",
       "        text-align: right;\n",
       "    }\n",
       "</style>\n",
       "<table border=\"1\" class=\"dataframe\">\n",
       "  <thead>\n",
       "    <tr style=\"text-align: right;\">\n",
       "      <th></th>\n",
       "      <th>Date</th>\n",
       "      <th>Adj_Close</th>\n",
       "      <th>Close</th>\n",
       "      <th>High</th>\n",
       "      <th>Low</th>\n",
       "      <th>Open</th>\n",
       "      <th>Volume</th>\n",
       "      <th>epoch_time</th>\n",
       "      <th>opt_expiry</th>\n",
       "      <th>10DaysMA</th>\n",
       "      <th>30DaysMA</th>\n",
       "      <th>50DaysMA</th>\n",
       "    </tr>\n",
       "  </thead>\n",
       "  <tbody>\n",
       "    <tr>\n",
       "      <th>0</th>\n",
       "      <td>2019-11-25 00:00:00+00:00</td>\n",
       "      <td>1259.961792</td>\n",
       "      <td>1380.849976</td>\n",
       "      <td>1389.000000</td>\n",
       "      <td>1371.099976</td>\n",
       "      <td>1378.500000</td>\n",
       "      <td>2956576</td>\n",
       "      <td>1.574640e+09</td>\n",
       "      <td>0</td>\n",
       "      <td>NaN</td>\n",
       "      <td>NaN</td>\n",
       "      <td>NaN</td>\n",
       "    </tr>\n",
       "    <tr>\n",
       "      <th>1</th>\n",
       "      <td>2019-11-26 00:00:00+00:00</td>\n",
       "      <td>1243.674438</td>\n",
       "      <td>1363.000000</td>\n",
       "      <td>1380.000000</td>\n",
       "      <td>1359.550049</td>\n",
       "      <td>1379.349976</td>\n",
       "      <td>4853977</td>\n",
       "      <td>1.574726e+09</td>\n",
       "      <td>0</td>\n",
       "      <td>NaN</td>\n",
       "      <td>NaN</td>\n",
       "      <td>NaN</td>\n",
       "    </tr>\n",
       "    <tr>\n",
       "      <th>2</th>\n",
       "      <td>2019-11-27 00:00:00+00:00</td>\n",
       "      <td>1218.582153</td>\n",
       "      <td>1335.500000</td>\n",
       "      <td>1370.000000</td>\n",
       "      <td>1314.150024</td>\n",
       "      <td>1365.000000</td>\n",
       "      <td>7904745</td>\n",
       "      <td>1.574813e+09</td>\n",
       "      <td>0</td>\n",
       "      <td>NaN</td>\n",
       "      <td>NaN</td>\n",
       "      <td>NaN</td>\n",
       "    </tr>\n",
       "    <tr>\n",
       "      <th>3</th>\n",
       "      <td>2019-11-28 00:00:00+00:00</td>\n",
       "      <td>1231.721558</td>\n",
       "      <td>1349.900024</td>\n",
       "      <td>1354.000000</td>\n",
       "      <td>1327.199951</td>\n",
       "      <td>1344.000000</td>\n",
       "      <td>4503913</td>\n",
       "      <td>1.574899e+09</td>\n",
       "      <td>1</td>\n",
       "      <td>NaN</td>\n",
       "      <td>NaN</td>\n",
       "      <td>NaN</td>\n",
       "    </tr>\n",
       "    <tr>\n",
       "      <th>4</th>\n",
       "      <td>2019-11-29 00:00:00+00:00</td>\n",
       "      <td>1214.065308</td>\n",
       "      <td>1330.550049</td>\n",
       "      <td>1350.199951</td>\n",
       "      <td>1328.000000</td>\n",
       "      <td>1350.000000</td>\n",
       "      <td>2515083</td>\n",
       "      <td>1.574986e+09</td>\n",
       "      <td>0</td>\n",
       "      <td>NaN</td>\n",
       "      <td>NaN</td>\n",
       "      <td>NaN</td>\n",
       "    </tr>\n",
       "    <tr>\n",
       "      <th>...</th>\n",
       "      <td>...</td>\n",
       "      <td>...</td>\n",
       "      <td>...</td>\n",
       "      <td>...</td>\n",
       "      <td>...</td>\n",
       "      <td>...</td>\n",
       "      <td>...</td>\n",
       "      <td>...</td>\n",
       "      <td>...</td>\n",
       "      <td>...</td>\n",
       "      <td>...</td>\n",
       "      <td>...</td>\n",
       "    </tr>\n",
       "    <tr>\n",
       "      <th>1233</th>\n",
       "      <td>2024-11-14 00:00:00+00:00</td>\n",
       "      <td>3526.250000</td>\n",
       "      <td>3526.250000</td>\n",
       "      <td>3565.750000</td>\n",
       "      <td>3500.149902</td>\n",
       "      <td>3558.000000</td>\n",
       "      <td>1291765</td>\n",
       "      <td>1.731542e+09</td>\n",
       "      <td>0</td>\n",
       "      <td>3602.230029</td>\n",
       "      <td>3526.965015</td>\n",
       "      <td>3583.747998</td>\n",
       "    </tr>\n",
       "    <tr>\n",
       "      <th>1234</th>\n",
       "      <td>2024-11-18 00:00:00+00:00</td>\n",
       "      <td>3542.149902</td>\n",
       "      <td>3542.149902</td>\n",
       "      <td>3568.300049</td>\n",
       "      <td>3510.850098</td>\n",
       "      <td>3521.100098</td>\n",
       "      <td>1233217</td>\n",
       "      <td>1.731888e+09</td>\n",
       "      <td>0</td>\n",
       "      <td>3593.810010</td>\n",
       "      <td>3528.571680</td>\n",
       "      <td>3582.107998</td>\n",
       "    </tr>\n",
       "    <tr>\n",
       "      <th>1235</th>\n",
       "      <td>2024-11-19 00:00:00+00:00</td>\n",
       "      <td>3505.899902</td>\n",
       "      <td>3505.899902</td>\n",
       "      <td>3607.000000</td>\n",
       "      <td>3495.000000</td>\n",
       "      <td>3559.899902</td>\n",
       "      <td>1826460</td>\n",
       "      <td>1.731974e+09</td>\n",
       "      <td>0</td>\n",
       "      <td>3586.955005</td>\n",
       "      <td>3529.823340</td>\n",
       "      <td>3580.730996</td>\n",
       "    </tr>\n",
       "    <tr>\n",
       "      <th>1236</th>\n",
       "      <td>2024-11-21 00:00:00+00:00</td>\n",
       "      <td>3483.500000</td>\n",
       "      <td>3483.500000</td>\n",
       "      <td>3530.550049</td>\n",
       "      <td>3452.449951</td>\n",
       "      <td>3530.000000</td>\n",
       "      <td>1510581</td>\n",
       "      <td>1.732147e+09</td>\n",
       "      <td>0</td>\n",
       "      <td>3577.825000</td>\n",
       "      <td>3528.193343</td>\n",
       "      <td>3578.834995</td>\n",
       "    </tr>\n",
       "    <tr>\n",
       "      <th>1237</th>\n",
       "      <td>2024-11-22 00:00:00+00:00</td>\n",
       "      <td>3603.500000</td>\n",
       "      <td>3603.500000</td>\n",
       "      <td>3613.500000</td>\n",
       "      <td>3473.100098</td>\n",
       "      <td>3500.000000</td>\n",
       "      <td>2534018</td>\n",
       "      <td>1.732234e+09</td>\n",
       "      <td>0</td>\n",
       "      <td>3573.630005</td>\n",
       "      <td>3532.073340</td>\n",
       "      <td>3578.981997</td>\n",
       "    </tr>\n",
       "  </tbody>\n",
       "</table>\n",
       "<p>1238 rows × 12 columns</p>\n",
       "</div>"
      ],
      "text/plain": [
       "                          Date    Adj_Close        Close         High  \\\n",
       "0    2019-11-25 00:00:00+00:00  1259.961792  1380.849976  1389.000000   \n",
       "1    2019-11-26 00:00:00+00:00  1243.674438  1363.000000  1380.000000   \n",
       "2    2019-11-27 00:00:00+00:00  1218.582153  1335.500000  1370.000000   \n",
       "3    2019-11-28 00:00:00+00:00  1231.721558  1349.900024  1354.000000   \n",
       "4    2019-11-29 00:00:00+00:00  1214.065308  1330.550049  1350.199951   \n",
       "...                        ...          ...          ...          ...   \n",
       "1233 2024-11-14 00:00:00+00:00  3526.250000  3526.250000  3565.750000   \n",
       "1234 2024-11-18 00:00:00+00:00  3542.149902  3542.149902  3568.300049   \n",
       "1235 2024-11-19 00:00:00+00:00  3505.899902  3505.899902  3607.000000   \n",
       "1236 2024-11-21 00:00:00+00:00  3483.500000  3483.500000  3530.550049   \n",
       "1237 2024-11-22 00:00:00+00:00  3603.500000  3603.500000  3613.500000   \n",
       "\n",
       "              Low         Open   Volume    epoch_time  opt_expiry  \\\n",
       "0     1371.099976  1378.500000  2956576  1.574640e+09           0   \n",
       "1     1359.550049  1379.349976  4853977  1.574726e+09           0   \n",
       "2     1314.150024  1365.000000  7904745  1.574813e+09           0   \n",
       "3     1327.199951  1344.000000  4503913  1.574899e+09           1   \n",
       "4     1328.000000  1350.000000  2515083  1.574986e+09           0   \n",
       "...           ...          ...      ...           ...         ...   \n",
       "1233  3500.149902  3558.000000  1291765  1.731542e+09           0   \n",
       "1234  3510.850098  3521.100098  1233217  1.731888e+09           0   \n",
       "1235  3495.000000  3559.899902  1826460  1.731974e+09           0   \n",
       "1236  3452.449951  3530.000000  1510581  1.732147e+09           0   \n",
       "1237  3473.100098  3500.000000  2534018  1.732234e+09           0   \n",
       "\n",
       "         10DaysMA     30DaysMA     50DaysMA  \n",
       "0             NaN          NaN          NaN  \n",
       "1             NaN          NaN          NaN  \n",
       "2             NaN          NaN          NaN  \n",
       "3             NaN          NaN          NaN  \n",
       "4             NaN          NaN          NaN  \n",
       "...           ...          ...          ...  \n",
       "1233  3602.230029  3526.965015  3583.747998  \n",
       "1234  3593.810010  3528.571680  3582.107998  \n",
       "1235  3586.955005  3529.823340  3580.730996  \n",
       "1236  3577.825000  3528.193343  3578.834995  \n",
       "1237  3573.630005  3532.073340  3578.981997  \n",
       "\n",
       "[1238 rows x 12 columns]"
      ]
     },
     "execution_count": 16,
     "metadata": {},
     "output_type": "execute_result"
    }
   ],
   "source": [
    "df_train_all"
   ]
  },
  {
   "cell_type": "code",
   "execution_count": 17,
   "id": "3c397ed2-fbbf-41b1-b7bb-51761fef5753",
   "metadata": {},
   "outputs": [],
   "source": [
    "#df_train_all[\"Next_Close\"] = df_train_all.shift(-1)[\"Close\"]"
   ]
  },
  {
   "cell_type": "code",
   "execution_count": 18,
   "id": "127ccf88-48ac-442c-8e3a-f75aa63db29d",
   "metadata": {},
   "outputs": [],
   "source": [
    "df_train_all.dropna(subset=['50DaysMA'], inplace=True)\n",
    "#df_train_all.dropna(subset=['Next_Close'], inplace=True)"
   ]
  },
  {
   "cell_type": "code",
   "execution_count": 19,
   "id": "5d686223-dedc-4279-bded-448daad9f809",
   "metadata": {},
   "outputs": [
    {
     "data": {
      "text/plain": [
       "Date          0\n",
       "Adj_Close     0\n",
       "Close         0\n",
       "High          0\n",
       "Low           0\n",
       "Open          0\n",
       "Volume        0\n",
       "epoch_time    0\n",
       "opt_expiry    0\n",
       "10DaysMA      0\n",
       "30DaysMA      0\n",
       "50DaysMA      0\n",
       "dtype: int64"
      ]
     },
     "execution_count": 19,
     "metadata": {},
     "output_type": "execute_result"
    }
   ],
   "source": [
    "df_train_all.isnull().sum()"
   ]
  },
  {
   "cell_type": "code",
   "execution_count": 20,
   "id": "dd9bb825-da90-4a89-9a4f-350648a00c31",
   "metadata": {},
   "outputs": [
    {
     "data": {
      "text/plain": [
       "Index(['Date', 'Adj_Close', 'Close', 'High', 'Low', 'Open', 'Volume',\n",
       "       'epoch_time', 'opt_expiry', '10DaysMA', '30DaysMA', '50DaysMA'],\n",
       "      dtype='object')"
      ]
     },
     "execution_count": 20,
     "metadata": {},
     "output_type": "execute_result"
    }
   ],
   "source": [
    "df_train_all.columns"
   ]
  },
  {
   "cell_type": "code",
   "execution_count": 21,
   "id": "4f2a5908-b37e-430a-96df-9126d34eb1a1",
   "metadata": {},
   "outputs": [],
   "source": [
    "#df_train_all.drop(columns=[\"epoch_time\"], inplace=True)"
   ]
  },
  {
   "cell_type": "code",
   "execution_count": 22,
   "id": "cdf31a3e-7eac-4067-81ed-1b82bb8f36c0",
   "metadata": {},
   "outputs": [],
   "source": [
    "def process_date_features(data):\n",
    "    data['Date'] = pd.to_datetime(data['Date'])\n",
    "    data['Day'] = data['Date'].dt.day\n",
    "    data['Month'] = data['Date'].dt.month\n",
    "    data['Year'] = data['Date'].dt.year\n",
    "    data['DayOfWeek'] = data['Date'].dt.dayofweek\n",
    "    data['IsMonthStart'] = data['Date'].dt.is_month_start.astype(int)\n",
    "    data['IsMonthEnd'] = data['Date'].dt.is_month_end.astype(int)\n",
    "    return data"
   ]
  },
  {
   "cell_type": "code",
   "execution_count": 54,
   "id": "7bbd822f-23b4-4ebf-a6fe-24b293067f3c",
   "metadata": {},
   "outputs": [],
   "source": [
    "df_train_all = process_date_features(df_train_all)"
   ]
  },
  {
   "cell_type": "code",
   "execution_count": 55,
   "id": "2273fcc3-de25-4e47-b900-b5476c438c68",
   "metadata": {},
   "outputs": [
    {
     "data": {
      "text/html": [
       "<div>\n",
       "<style scoped>\n",
       "    .dataframe tbody tr th:only-of-type {\n",
       "        vertical-align: middle;\n",
       "    }\n",
       "\n",
       "    .dataframe tbody tr th {\n",
       "        vertical-align: top;\n",
       "    }\n",
       "\n",
       "    .dataframe thead th {\n",
       "        text-align: right;\n",
       "    }\n",
       "</style>\n",
       "<table border=\"1\" class=\"dataframe\">\n",
       "  <thead>\n",
       "    <tr style=\"text-align: right;\">\n",
       "      <th></th>\n",
       "      <th>Date</th>\n",
       "      <th>Adj_Close</th>\n",
       "      <th>Close</th>\n",
       "      <th>High</th>\n",
       "      <th>Low</th>\n",
       "      <th>Open</th>\n",
       "      <th>Volume</th>\n",
       "      <th>epoch_time</th>\n",
       "      <th>opt_expiry</th>\n",
       "      <th>10DaysMA</th>\n",
       "      <th>30DaysMA</th>\n",
       "      <th>50DaysMA</th>\n",
       "      <th>Day</th>\n",
       "      <th>Month</th>\n",
       "      <th>Year</th>\n",
       "      <th>DayOfWeek</th>\n",
       "      <th>IsMonthStart</th>\n",
       "      <th>IsMonthEnd</th>\n",
       "    </tr>\n",
       "  </thead>\n",
       "  <tbody>\n",
       "    <tr>\n",
       "      <th>49</th>\n",
       "      <td>2020-02-03 00:00:00+00:00</td>\n",
       "      <td>1174.008667</td>\n",
       "      <td>1286.650024</td>\n",
       "      <td>1303.900024</td>\n",
       "      <td>1272.000000</td>\n",
       "      <td>1290.000000</td>\n",
       "      <td>5767353</td>\n",
       "      <td>1.580688e+09</td>\n",
       "      <td>0</td>\n",
       "      <td>1220.420581</td>\n",
       "      <td>1205.781779</td>\n",
       "      <td>1202.550188</td>\n",
       "      <td>3</td>\n",
       "      <td>2</td>\n",
       "      <td>2020</td>\n",
       "      <td>0</td>\n",
       "      <td>0</td>\n",
       "      <td>0</td>\n",
       "    </tr>\n",
       "    <tr>\n",
       "      <th>50</th>\n",
       "      <td>2020-02-04 00:00:00+00:00</td>\n",
       "      <td>1178.662109</td>\n",
       "      <td>1291.750000</td>\n",
       "      <td>1307.300049</td>\n",
       "      <td>1287.550049</td>\n",
       "      <td>1296.000000</td>\n",
       "      <td>3604309</td>\n",
       "      <td>1.580774e+09</td>\n",
       "      <td>0</td>\n",
       "      <td>1219.453381</td>\n",
       "      <td>1205.188688</td>\n",
       "      <td>1200.924194</td>\n",
       "      <td>4</td>\n",
       "      <td>2</td>\n",
       "      <td>2020</td>\n",
       "      <td>1</td>\n",
       "      <td>0</td>\n",
       "      <td>0</td>\n",
       "    </tr>\n",
       "    <tr>\n",
       "      <th>51</th>\n",
       "      <td>2020-02-05 00:00:00+00:00</td>\n",
       "      <td>1195.360229</td>\n",
       "      <td>1310.050049</td>\n",
       "      <td>1325.000000</td>\n",
       "      <td>1295.000000</td>\n",
       "      <td>1297.900024</td>\n",
       "      <td>4220104</td>\n",
       "      <td>1.580861e+09</td>\n",
       "      <td>0</td>\n",
       "      <td>1220.899646</td>\n",
       "      <td>1205.463953</td>\n",
       "      <td>1199.957910</td>\n",
       "      <td>5</td>\n",
       "      <td>2</td>\n",
       "      <td>2020</td>\n",
       "      <td>2</td>\n",
       "      <td>0</td>\n",
       "      <td>0</td>\n",
       "    </tr>\n",
       "    <tr>\n",
       "      <th>52</th>\n",
       "      <td>2020-02-06 00:00:00+00:00</td>\n",
       "      <td>1202.249023</td>\n",
       "      <td>1317.599976</td>\n",
       "      <td>1325.000000</td>\n",
       "      <td>1309.050049</td>\n",
       "      <td>1322.900024</td>\n",
       "      <td>2354458</td>\n",
       "      <td>1.580947e+09</td>\n",
       "      <td>0</td>\n",
       "      <td>1219.558325</td>\n",
       "      <td>1206.628845</td>\n",
       "      <td>1199.631248</td>\n",
       "      <td>6</td>\n",
       "      <td>2</td>\n",
       "      <td>2020</td>\n",
       "      <td>3</td>\n",
       "      <td>0</td>\n",
       "      <td>0</td>\n",
       "    </tr>\n",
       "    <tr>\n",
       "      <th>53</th>\n",
       "      <td>2020-02-07 00:00:00+00:00</td>\n",
       "      <td>1185.277466</td>\n",
       "      <td>1299.000000</td>\n",
       "      <td>1314.400024</td>\n",
       "      <td>1296.000000</td>\n",
       "      <td>1313.050049</td>\n",
       "      <td>3053804</td>\n",
       "      <td>1.581034e+09</td>\n",
       "      <td>0</td>\n",
       "      <td>1214.065356</td>\n",
       "      <td>1206.610596</td>\n",
       "      <td>1198.702366</td>\n",
       "      <td>7</td>\n",
       "      <td>2</td>\n",
       "      <td>2020</td>\n",
       "      <td>4</td>\n",
       "      <td>0</td>\n",
       "      <td>0</td>\n",
       "    </tr>\n",
       "    <tr>\n",
       "      <th>...</th>\n",
       "      <td>...</td>\n",
       "      <td>...</td>\n",
       "      <td>...</td>\n",
       "      <td>...</td>\n",
       "      <td>...</td>\n",
       "      <td>...</td>\n",
       "      <td>...</td>\n",
       "      <td>...</td>\n",
       "      <td>...</td>\n",
       "      <td>...</td>\n",
       "      <td>...</td>\n",
       "      <td>...</td>\n",
       "      <td>...</td>\n",
       "      <td>...</td>\n",
       "      <td>...</td>\n",
       "      <td>...</td>\n",
       "      <td>...</td>\n",
       "      <td>...</td>\n",
       "    </tr>\n",
       "    <tr>\n",
       "      <th>1233</th>\n",
       "      <td>2024-11-14 00:00:00+00:00</td>\n",
       "      <td>3526.250000</td>\n",
       "      <td>3526.250000</td>\n",
       "      <td>3565.750000</td>\n",
       "      <td>3500.149902</td>\n",
       "      <td>3558.000000</td>\n",
       "      <td>1291765</td>\n",
       "      <td>1.731542e+09</td>\n",
       "      <td>0</td>\n",
       "      <td>3602.230029</td>\n",
       "      <td>3526.965015</td>\n",
       "      <td>3583.747998</td>\n",
       "      <td>14</td>\n",
       "      <td>11</td>\n",
       "      <td>2024</td>\n",
       "      <td>3</td>\n",
       "      <td>0</td>\n",
       "      <td>0</td>\n",
       "    </tr>\n",
       "    <tr>\n",
       "      <th>1234</th>\n",
       "      <td>2024-11-18 00:00:00+00:00</td>\n",
       "      <td>3542.149902</td>\n",
       "      <td>3542.149902</td>\n",
       "      <td>3568.300049</td>\n",
       "      <td>3510.850098</td>\n",
       "      <td>3521.100098</td>\n",
       "      <td>1233217</td>\n",
       "      <td>1.731888e+09</td>\n",
       "      <td>0</td>\n",
       "      <td>3593.810010</td>\n",
       "      <td>3528.571680</td>\n",
       "      <td>3582.107998</td>\n",
       "      <td>18</td>\n",
       "      <td>11</td>\n",
       "      <td>2024</td>\n",
       "      <td>0</td>\n",
       "      <td>0</td>\n",
       "      <td>0</td>\n",
       "    </tr>\n",
       "    <tr>\n",
       "      <th>1235</th>\n",
       "      <td>2024-11-19 00:00:00+00:00</td>\n",
       "      <td>3505.899902</td>\n",
       "      <td>3505.899902</td>\n",
       "      <td>3607.000000</td>\n",
       "      <td>3495.000000</td>\n",
       "      <td>3559.899902</td>\n",
       "      <td>1826460</td>\n",
       "      <td>1.731974e+09</td>\n",
       "      <td>0</td>\n",
       "      <td>3586.955005</td>\n",
       "      <td>3529.823340</td>\n",
       "      <td>3580.730996</td>\n",
       "      <td>19</td>\n",
       "      <td>11</td>\n",
       "      <td>2024</td>\n",
       "      <td>1</td>\n",
       "      <td>0</td>\n",
       "      <td>0</td>\n",
       "    </tr>\n",
       "    <tr>\n",
       "      <th>1236</th>\n",
       "      <td>2024-11-21 00:00:00+00:00</td>\n",
       "      <td>3483.500000</td>\n",
       "      <td>3483.500000</td>\n",
       "      <td>3530.550049</td>\n",
       "      <td>3452.449951</td>\n",
       "      <td>3530.000000</td>\n",
       "      <td>1510581</td>\n",
       "      <td>1.732147e+09</td>\n",
       "      <td>0</td>\n",
       "      <td>3577.825000</td>\n",
       "      <td>3528.193343</td>\n",
       "      <td>3578.834995</td>\n",
       "      <td>21</td>\n",
       "      <td>11</td>\n",
       "      <td>2024</td>\n",
       "      <td>3</td>\n",
       "      <td>0</td>\n",
       "      <td>0</td>\n",
       "    </tr>\n",
       "    <tr>\n",
       "      <th>1237</th>\n",
       "      <td>2024-11-22 00:00:00+00:00</td>\n",
       "      <td>3603.500000</td>\n",
       "      <td>3603.500000</td>\n",
       "      <td>3613.500000</td>\n",
       "      <td>3473.100098</td>\n",
       "      <td>3500.000000</td>\n",
       "      <td>2534018</td>\n",
       "      <td>1.732234e+09</td>\n",
       "      <td>0</td>\n",
       "      <td>3573.630005</td>\n",
       "      <td>3532.073340</td>\n",
       "      <td>3578.981997</td>\n",
       "      <td>22</td>\n",
       "      <td>11</td>\n",
       "      <td>2024</td>\n",
       "      <td>4</td>\n",
       "      <td>0</td>\n",
       "      <td>0</td>\n",
       "    </tr>\n",
       "  </tbody>\n",
       "</table>\n",
       "<p>1189 rows × 18 columns</p>\n",
       "</div>"
      ],
      "text/plain": [
       "                          Date    Adj_Close        Close         High  \\\n",
       "49   2020-02-03 00:00:00+00:00  1174.008667  1286.650024  1303.900024   \n",
       "50   2020-02-04 00:00:00+00:00  1178.662109  1291.750000  1307.300049   \n",
       "51   2020-02-05 00:00:00+00:00  1195.360229  1310.050049  1325.000000   \n",
       "52   2020-02-06 00:00:00+00:00  1202.249023  1317.599976  1325.000000   \n",
       "53   2020-02-07 00:00:00+00:00  1185.277466  1299.000000  1314.400024   \n",
       "...                        ...          ...          ...          ...   \n",
       "1233 2024-11-14 00:00:00+00:00  3526.250000  3526.250000  3565.750000   \n",
       "1234 2024-11-18 00:00:00+00:00  3542.149902  3542.149902  3568.300049   \n",
       "1235 2024-11-19 00:00:00+00:00  3505.899902  3505.899902  3607.000000   \n",
       "1236 2024-11-21 00:00:00+00:00  3483.500000  3483.500000  3530.550049   \n",
       "1237 2024-11-22 00:00:00+00:00  3603.500000  3603.500000  3613.500000   \n",
       "\n",
       "              Low         Open   Volume    epoch_time  opt_expiry  \\\n",
       "49    1272.000000  1290.000000  5767353  1.580688e+09           0   \n",
       "50    1287.550049  1296.000000  3604309  1.580774e+09           0   \n",
       "51    1295.000000  1297.900024  4220104  1.580861e+09           0   \n",
       "52    1309.050049  1322.900024  2354458  1.580947e+09           0   \n",
       "53    1296.000000  1313.050049  3053804  1.581034e+09           0   \n",
       "...           ...          ...      ...           ...         ...   \n",
       "1233  3500.149902  3558.000000  1291765  1.731542e+09           0   \n",
       "1234  3510.850098  3521.100098  1233217  1.731888e+09           0   \n",
       "1235  3495.000000  3559.899902  1826460  1.731974e+09           0   \n",
       "1236  3452.449951  3530.000000  1510581  1.732147e+09           0   \n",
       "1237  3473.100098  3500.000000  2534018  1.732234e+09           0   \n",
       "\n",
       "         10DaysMA     30DaysMA     50DaysMA  Day  Month  Year  DayOfWeek  \\\n",
       "49    1220.420581  1205.781779  1202.550188    3      2  2020          0   \n",
       "50    1219.453381  1205.188688  1200.924194    4      2  2020          1   \n",
       "51    1220.899646  1205.463953  1199.957910    5      2  2020          2   \n",
       "52    1219.558325  1206.628845  1199.631248    6      2  2020          3   \n",
       "53    1214.065356  1206.610596  1198.702366    7      2  2020          4   \n",
       "...           ...          ...          ...  ...    ...   ...        ...   \n",
       "1233  3602.230029  3526.965015  3583.747998   14     11  2024          3   \n",
       "1234  3593.810010  3528.571680  3582.107998   18     11  2024          0   \n",
       "1235  3586.955005  3529.823340  3580.730996   19     11  2024          1   \n",
       "1236  3577.825000  3528.193343  3578.834995   21     11  2024          3   \n",
       "1237  3573.630005  3532.073340  3578.981997   22     11  2024          4   \n",
       "\n",
       "      IsMonthStart  IsMonthEnd  \n",
       "49               0           0  \n",
       "50               0           0  \n",
       "51               0           0  \n",
       "52               0           0  \n",
       "53               0           0  \n",
       "...            ...         ...  \n",
       "1233             0           0  \n",
       "1234             0           0  \n",
       "1235             0           0  \n",
       "1236             0           0  \n",
       "1237             0           0  \n",
       "\n",
       "[1189 rows x 18 columns]"
      ]
     },
     "execution_count": 55,
     "metadata": {},
     "output_type": "execute_result"
    }
   ],
   "source": [
    "df_train_all"
   ]
  },
  {
   "cell_type": "code",
   "execution_count": null,
   "id": "5b74e012-aa42-436c-bf0f-7881c2534550",
   "metadata": {},
   "outputs": [],
   "source": []
  },
  {
   "cell_type": "code",
   "execution_count": 56,
   "id": "bd4d849e-6a04-4ffb-902b-9a4e850148f2",
   "metadata": {},
   "outputs": [],
   "source": [
    "features_to_scale = ['Open', 'Volume', 'High','Low', 'Adj_Close','10DaysMA','30DaysMA','50DaysMA','epoch_time','Day', 'Month', 'Year', 'DayOfWeek', 'IsMonthStart', 'IsMonthEnd']\n",
    "features_to_leave = ['epoch_time','opt_expiry']\n",
    "target = ['Close']"
   ]
  },
  {
   "cell_type": "code",
   "execution_count": 57,
   "id": "ffa7ba40-3a7f-4754-a7e1-e9639f058e39",
   "metadata": {},
   "outputs": [],
   "source": [
    "df_train_all_scaled = df_train_all.copy()"
   ]
  },
  {
   "cell_type": "code",
   "execution_count": 58,
   "id": "7b97a134-b8d3-4f1a-8ad2-e9ba71cd38e7",
   "metadata": {},
   "outputs": [],
   "source": [
    "feature_scaler = MinMaxScaler(feature_range=(0,1))\n",
    "target_scaler = MinMaxScaler(feature_range=(0,1))"
   ]
  },
  {
   "cell_type": "code",
   "execution_count": 59,
   "id": "29d5c442-33cd-41b4-9388-a8a0403b67d1",
   "metadata": {},
   "outputs": [
    {
     "data": {
      "text/plain": [
       "(1189, 18)"
      ]
     },
     "execution_count": 59,
     "metadata": {},
     "output_type": "execute_result"
    }
   ],
   "source": [
    "df_train_all.shape"
   ]
  },
  {
   "cell_type": "code",
   "execution_count": 60,
   "id": "26acff28-6175-4c50-8ca5-f943f0c1f7f9",
   "metadata": {},
   "outputs": [],
   "source": [
    "df_train_all_scaled[features_to_scale] = pd.DataFrame(\n",
    "    feature_scaler.fit_transform(df_train_all[features_to_scale]),\n",
    "    columns=features_to_scale,\n",
    "    index=df_train_all.index\n",
    ")\n",
    "\n",
    "df_train_all_scaled[\"Scaled_Close\"] = pd.DataFrame(\n",
    "    target_scaler.fit_transform(df_train_all[[\"Close\"]]),\n",
    "    columns=[\"Scaled_Close\"],\n",
    "    index=df_train_all.index\n",
    ")\n"
   ]
  },
  {
   "cell_type": "code",
   "execution_count": 61,
   "id": "909ef6e9-abc6-4489-89a6-ddea80d859e5",
   "metadata": {},
   "outputs": [],
   "source": [
    "df_train_all_scaled.drop(columns=[\"Close\"],inplace=True)"
   ]
  },
  {
   "cell_type": "code",
   "execution_count": 62,
   "id": "7607f0ad-c093-470c-944e-2ed2b475d277",
   "metadata": {},
   "outputs": [
    {
     "data": {
      "text/html": [
       "<div>\n",
       "<style scoped>\n",
       "    .dataframe tbody tr th:only-of-type {\n",
       "        vertical-align: middle;\n",
       "    }\n",
       "\n",
       "    .dataframe tbody tr th {\n",
       "        vertical-align: top;\n",
       "    }\n",
       "\n",
       "    .dataframe thead th {\n",
       "        text-align: right;\n",
       "    }\n",
       "</style>\n",
       "<table border=\"1\" class=\"dataframe\">\n",
       "  <thead>\n",
       "    <tr style=\"text-align: right;\">\n",
       "      <th></th>\n",
       "      <th>Date</th>\n",
       "      <th>Adj_Close</th>\n",
       "      <th>High</th>\n",
       "      <th>Low</th>\n",
       "      <th>Open</th>\n",
       "      <th>Volume</th>\n",
       "      <th>epoch_time</th>\n",
       "      <th>opt_expiry</th>\n",
       "      <th>10DaysMA</th>\n",
       "      <th>30DaysMA</th>\n",
       "      <th>50DaysMA</th>\n",
       "      <th>Day</th>\n",
       "      <th>Month</th>\n",
       "      <th>Year</th>\n",
       "      <th>DayOfWeek</th>\n",
       "      <th>IsMonthStart</th>\n",
       "      <th>IsMonthEnd</th>\n",
       "      <th>Scaled_Close</th>\n",
       "    </tr>\n",
       "  </thead>\n",
       "  <tbody>\n",
       "    <tr>\n",
       "      <th>49</th>\n",
       "      <td>2020-02-03 00:00:00+00:00</td>\n",
       "      <td>0.161604</td>\n",
       "      <td>0.173238</td>\n",
       "      <td>0.194580</td>\n",
       "      <td>0.187702</td>\n",
       "      <td>0.265254</td>\n",
       "      <td>0.000000</td>\n",
       "      <td>0</td>\n",
       "      <td>0.164218</td>\n",
       "      <td>0.149831</td>\n",
       "      <td>0.146720</td>\n",
       "      <td>0.066667</td>\n",
       "      <td>0.090909</td>\n",
       "      <td>0.0</td>\n",
       "      <td>0.0</td>\n",
       "      <td>0.0</td>\n",
       "      <td>0.0</td>\n",
       "      <td>0.181469</td>\n",
       "    </tr>\n",
       "    <tr>\n",
       "      <th>50</th>\n",
       "      <td>2020-02-04 00:00:00+00:00</td>\n",
       "      <td>0.163053</td>\n",
       "      <td>0.174312</td>\n",
       "      <td>0.199532</td>\n",
       "      <td>0.189602</td>\n",
       "      <td>0.161959</td>\n",
       "      <td>0.000570</td>\n",
       "      <td>0</td>\n",
       "      <td>0.163898</td>\n",
       "      <td>0.149627</td>\n",
       "      <td>0.146153</td>\n",
       "      <td>0.100000</td>\n",
       "      <td>0.090909</td>\n",
       "      <td>0.0</td>\n",
       "      <td>0.2</td>\n",
       "      <td>0.0</td>\n",
       "      <td>0.0</td>\n",
       "      <td>0.183068</td>\n",
       "    </tr>\n",
       "    <tr>\n",
       "      <th>51</th>\n",
       "      <td>2020-02-05 00:00:00+00:00</td>\n",
       "      <td>0.168252</td>\n",
       "      <td>0.179906</td>\n",
       "      <td>0.201904</td>\n",
       "      <td>0.190203</td>\n",
       "      <td>0.191366</td>\n",
       "      <td>0.001140</td>\n",
       "      <td>0</td>\n",
       "      <td>0.164376</td>\n",
       "      <td>0.149722</td>\n",
       "      <td>0.145817</td>\n",
       "      <td>0.133333</td>\n",
       "      <td>0.090909</td>\n",
       "      <td>0.0</td>\n",
       "      <td>0.4</td>\n",
       "      <td>0.0</td>\n",
       "      <td>0.0</td>\n",
       "      <td>0.188806</td>\n",
       "    </tr>\n",
       "    <tr>\n",
       "      <th>52</th>\n",
       "      <td>2020-02-06 00:00:00+00:00</td>\n",
       "      <td>0.170397</td>\n",
       "      <td>0.179906</td>\n",
       "      <td>0.206379</td>\n",
       "      <td>0.198119</td>\n",
       "      <td>0.102273</td>\n",
       "      <td>0.001710</td>\n",
       "      <td>0</td>\n",
       "      <td>0.163933</td>\n",
       "      <td>0.150123</td>\n",
       "      <td>0.145703</td>\n",
       "      <td>0.166667</td>\n",
       "      <td>0.090909</td>\n",
       "      <td>0.0</td>\n",
       "      <td>0.6</td>\n",
       "      <td>0.0</td>\n",
       "      <td>0.0</td>\n",
       "      <td>0.191173</td>\n",
       "    </tr>\n",
       "    <tr>\n",
       "      <th>53</th>\n",
       "      <td>2020-02-07 00:00:00+00:00</td>\n",
       "      <td>0.165113</td>\n",
       "      <td>0.176556</td>\n",
       "      <td>0.202223</td>\n",
       "      <td>0.195000</td>\n",
       "      <td>0.135670</td>\n",
       "      <td>0.002281</td>\n",
       "      <td>0</td>\n",
       "      <td>0.162117</td>\n",
       "      <td>0.150117</td>\n",
       "      <td>0.145379</td>\n",
       "      <td>0.200000</td>\n",
       "      <td>0.090909</td>\n",
       "      <td>0.0</td>\n",
       "      <td>0.8</td>\n",
       "      <td>0.0</td>\n",
       "      <td>0.0</td>\n",
       "      <td>0.185341</td>\n",
       "    </tr>\n",
       "    <tr>\n",
       "      <th>...</th>\n",
       "      <td>...</td>\n",
       "      <td>...</td>\n",
       "      <td>...</td>\n",
       "      <td>...</td>\n",
       "      <td>...</td>\n",
       "      <td>...</td>\n",
       "      <td>...</td>\n",
       "      <td>...</td>\n",
       "      <td>...</td>\n",
       "      <td>...</td>\n",
       "      <td>...</td>\n",
       "      <td>...</td>\n",
       "      <td>...</td>\n",
       "      <td>...</td>\n",
       "      <td>...</td>\n",
       "      <td>...</td>\n",
       "      <td>...</td>\n",
       "      <td>...</td>\n",
       "    </tr>\n",
       "    <tr>\n",
       "      <th>1233</th>\n",
       "      <td>2024-11-14 00:00:00+00:00</td>\n",
       "      <td>0.893983</td>\n",
       "      <td>0.888074</td>\n",
       "      <td>0.904159</td>\n",
       "      <td>0.905832</td>\n",
       "      <td>0.051525</td>\n",
       "      <td>0.995439</td>\n",
       "      <td>0</td>\n",
       "      <td>0.951466</td>\n",
       "      <td>0.950352</td>\n",
       "      <td>0.976516</td>\n",
       "      <td>0.433333</td>\n",
       "      <td>0.909091</td>\n",
       "      <td>1.0</td>\n",
       "      <td>0.6</td>\n",
       "      <td>0.0</td>\n",
       "      <td>0.0</td>\n",
       "      <td>0.883703</td>\n",
       "    </tr>\n",
       "    <tr>\n",
       "      <th>1234</th>\n",
       "      <td>2024-11-18 00:00:00+00:00</td>\n",
       "      <td>0.898933</td>\n",
       "      <td>0.888880</td>\n",
       "      <td>0.907567</td>\n",
       "      <td>0.894149</td>\n",
       "      <td>0.048729</td>\n",
       "      <td>0.997719</td>\n",
       "      <td>0</td>\n",
       "      <td>0.948683</td>\n",
       "      <td>0.950906</td>\n",
       "      <td>0.975944</td>\n",
       "      <td>0.566667</td>\n",
       "      <td>0.909091</td>\n",
       "      <td>1.0</td>\n",
       "      <td>0.0</td>\n",
       "      <td>0.0</td>\n",
       "      <td>0.0</td>\n",
       "      <td>0.888689</td>\n",
       "    </tr>\n",
       "    <tr>\n",
       "      <th>1235</th>\n",
       "      <td>2024-11-19 00:00:00+00:00</td>\n",
       "      <td>0.887647</td>\n",
       "      <td>0.901111</td>\n",
       "      <td>0.902519</td>\n",
       "      <td>0.906434</td>\n",
       "      <td>0.077059</td>\n",
       "      <td>0.998290</td>\n",
       "      <td>0</td>\n",
       "      <td>0.946417</td>\n",
       "      <td>0.951338</td>\n",
       "      <td>0.975464</td>\n",
       "      <td>0.600000</td>\n",
       "      <td>0.909091</td>\n",
       "      <td>1.0</td>\n",
       "      <td>0.2</td>\n",
       "      <td>0.0</td>\n",
       "      <td>0.0</td>\n",
       "      <td>0.877322</td>\n",
       "    </tr>\n",
       "    <tr>\n",
       "      <th>1236</th>\n",
       "      <td>2024-11-21 00:00:00+00:00</td>\n",
       "      <td>0.880673</td>\n",
       "      <td>0.876950</td>\n",
       "      <td>0.888968</td>\n",
       "      <td>0.896967</td>\n",
       "      <td>0.061975</td>\n",
       "      <td>0.999430</td>\n",
       "      <td>0</td>\n",
       "      <td>0.943400</td>\n",
       "      <td>0.950776</td>\n",
       "      <td>0.974804</td>\n",
       "      <td>0.666667</td>\n",
       "      <td>0.909091</td>\n",
       "      <td>1.0</td>\n",
       "      <td>0.6</td>\n",
       "      <td>0.0</td>\n",
       "      <td>0.0</td>\n",
       "      <td>0.870299</td>\n",
       "    </tr>\n",
       "    <tr>\n",
       "      <th>1237</th>\n",
       "      <td>2024-11-22 00:00:00+00:00</td>\n",
       "      <td>0.918035</td>\n",
       "      <td>0.903165</td>\n",
       "      <td>0.895545</td>\n",
       "      <td>0.887468</td>\n",
       "      <td>0.110848</td>\n",
       "      <td>1.000000</td>\n",
       "      <td>0</td>\n",
       "      <td>0.942013</td>\n",
       "      <td>0.952114</td>\n",
       "      <td>0.974855</td>\n",
       "      <td>0.700000</td>\n",
       "      <td>0.909091</td>\n",
       "      <td>1.0</td>\n",
       "      <td>0.8</td>\n",
       "      <td>0.0</td>\n",
       "      <td>0.0</td>\n",
       "      <td>0.907925</td>\n",
       "    </tr>\n",
       "  </tbody>\n",
       "</table>\n",
       "<p>1189 rows × 18 columns</p>\n",
       "</div>"
      ],
      "text/plain": [
       "                          Date  Adj_Close      High       Low      Open  \\\n",
       "49   2020-02-03 00:00:00+00:00   0.161604  0.173238  0.194580  0.187702   \n",
       "50   2020-02-04 00:00:00+00:00   0.163053  0.174312  0.199532  0.189602   \n",
       "51   2020-02-05 00:00:00+00:00   0.168252  0.179906  0.201904  0.190203   \n",
       "52   2020-02-06 00:00:00+00:00   0.170397  0.179906  0.206379  0.198119   \n",
       "53   2020-02-07 00:00:00+00:00   0.165113  0.176556  0.202223  0.195000   \n",
       "...                        ...        ...       ...       ...       ...   \n",
       "1233 2024-11-14 00:00:00+00:00   0.893983  0.888074  0.904159  0.905832   \n",
       "1234 2024-11-18 00:00:00+00:00   0.898933  0.888880  0.907567  0.894149   \n",
       "1235 2024-11-19 00:00:00+00:00   0.887647  0.901111  0.902519  0.906434   \n",
       "1236 2024-11-21 00:00:00+00:00   0.880673  0.876950  0.888968  0.896967   \n",
       "1237 2024-11-22 00:00:00+00:00   0.918035  0.903165  0.895545  0.887468   \n",
       "\n",
       "        Volume  epoch_time  opt_expiry  10DaysMA  30DaysMA  50DaysMA  \\\n",
       "49    0.265254    0.000000           0  0.164218  0.149831  0.146720   \n",
       "50    0.161959    0.000570           0  0.163898  0.149627  0.146153   \n",
       "51    0.191366    0.001140           0  0.164376  0.149722  0.145817   \n",
       "52    0.102273    0.001710           0  0.163933  0.150123  0.145703   \n",
       "53    0.135670    0.002281           0  0.162117  0.150117  0.145379   \n",
       "...        ...         ...         ...       ...       ...       ...   \n",
       "1233  0.051525    0.995439           0  0.951466  0.950352  0.976516   \n",
       "1234  0.048729    0.997719           0  0.948683  0.950906  0.975944   \n",
       "1235  0.077059    0.998290           0  0.946417  0.951338  0.975464   \n",
       "1236  0.061975    0.999430           0  0.943400  0.950776  0.974804   \n",
       "1237  0.110848    1.000000           0  0.942013  0.952114  0.974855   \n",
       "\n",
       "           Day     Month  Year  DayOfWeek  IsMonthStart  IsMonthEnd  \\\n",
       "49    0.066667  0.090909   0.0        0.0           0.0         0.0   \n",
       "50    0.100000  0.090909   0.0        0.2           0.0         0.0   \n",
       "51    0.133333  0.090909   0.0        0.4           0.0         0.0   \n",
       "52    0.166667  0.090909   0.0        0.6           0.0         0.0   \n",
       "53    0.200000  0.090909   0.0        0.8           0.0         0.0   \n",
       "...        ...       ...   ...        ...           ...         ...   \n",
       "1233  0.433333  0.909091   1.0        0.6           0.0         0.0   \n",
       "1234  0.566667  0.909091   1.0        0.0           0.0         0.0   \n",
       "1235  0.600000  0.909091   1.0        0.2           0.0         0.0   \n",
       "1236  0.666667  0.909091   1.0        0.6           0.0         0.0   \n",
       "1237  0.700000  0.909091   1.0        0.8           0.0         0.0   \n",
       "\n",
       "      Scaled_Close  \n",
       "49        0.181469  \n",
       "50        0.183068  \n",
       "51        0.188806  \n",
       "52        0.191173  \n",
       "53        0.185341  \n",
       "...            ...  \n",
       "1233      0.883703  \n",
       "1234      0.888689  \n",
       "1235      0.877322  \n",
       "1236      0.870299  \n",
       "1237      0.907925  \n",
       "\n",
       "[1189 rows x 18 columns]"
      ]
     },
     "execution_count": 62,
     "metadata": {},
     "output_type": "execute_result"
    }
   ],
   "source": [
    "df_train_all_scaled"
   ]
  },
  {
   "cell_type": "code",
   "execution_count": 63,
   "id": "59e41a89-8456-408a-b41e-731ba1519426",
   "metadata": {},
   "outputs": [],
   "source": [
    "df_train_all_scaled.drop(columns=['epoch_time','Day', 'Month', 'Year', 'DayOfWeek', 'IsMonthStart', 'IsMonthEnd'], inplace=True)"
   ]
  },
  {
   "cell_type": "code",
   "execution_count": 64,
   "id": "5318268c-8b97-4c5e-a93c-de7d4e2874f1",
   "metadata": {},
   "outputs": [
    {
     "data": {
      "text/html": [
       "<div>\n",
       "<style scoped>\n",
       "    .dataframe tbody tr th:only-of-type {\n",
       "        vertical-align: middle;\n",
       "    }\n",
       "\n",
       "    .dataframe tbody tr th {\n",
       "        vertical-align: top;\n",
       "    }\n",
       "\n",
       "    .dataframe thead th {\n",
       "        text-align: right;\n",
       "    }\n",
       "</style>\n",
       "<table border=\"1\" class=\"dataframe\">\n",
       "  <thead>\n",
       "    <tr style=\"text-align: right;\">\n",
       "      <th></th>\n",
       "      <th>Date</th>\n",
       "      <th>Adj_Close</th>\n",
       "      <th>High</th>\n",
       "      <th>Low</th>\n",
       "      <th>Open</th>\n",
       "      <th>Volume</th>\n",
       "      <th>opt_expiry</th>\n",
       "      <th>10DaysMA</th>\n",
       "      <th>30DaysMA</th>\n",
       "      <th>50DaysMA</th>\n",
       "      <th>Scaled_Close</th>\n",
       "    </tr>\n",
       "  </thead>\n",
       "  <tbody>\n",
       "    <tr>\n",
       "      <th>49</th>\n",
       "      <td>2020-02-03 00:00:00+00:00</td>\n",
       "      <td>0.161604</td>\n",
       "      <td>0.173238</td>\n",
       "      <td>0.194580</td>\n",
       "      <td>0.187702</td>\n",
       "      <td>0.265254</td>\n",
       "      <td>0</td>\n",
       "      <td>0.164218</td>\n",
       "      <td>0.149831</td>\n",
       "      <td>0.146720</td>\n",
       "      <td>0.181469</td>\n",
       "    </tr>\n",
       "    <tr>\n",
       "      <th>50</th>\n",
       "      <td>2020-02-04 00:00:00+00:00</td>\n",
       "      <td>0.163053</td>\n",
       "      <td>0.174312</td>\n",
       "      <td>0.199532</td>\n",
       "      <td>0.189602</td>\n",
       "      <td>0.161959</td>\n",
       "      <td>0</td>\n",
       "      <td>0.163898</td>\n",
       "      <td>0.149627</td>\n",
       "      <td>0.146153</td>\n",
       "      <td>0.183068</td>\n",
       "    </tr>\n",
       "    <tr>\n",
       "      <th>51</th>\n",
       "      <td>2020-02-05 00:00:00+00:00</td>\n",
       "      <td>0.168252</td>\n",
       "      <td>0.179906</td>\n",
       "      <td>0.201904</td>\n",
       "      <td>0.190203</td>\n",
       "      <td>0.191366</td>\n",
       "      <td>0</td>\n",
       "      <td>0.164376</td>\n",
       "      <td>0.149722</td>\n",
       "      <td>0.145817</td>\n",
       "      <td>0.188806</td>\n",
       "    </tr>\n",
       "    <tr>\n",
       "      <th>52</th>\n",
       "      <td>2020-02-06 00:00:00+00:00</td>\n",
       "      <td>0.170397</td>\n",
       "      <td>0.179906</td>\n",
       "      <td>0.206379</td>\n",
       "      <td>0.198119</td>\n",
       "      <td>0.102273</td>\n",
       "      <td>0</td>\n",
       "      <td>0.163933</td>\n",
       "      <td>0.150123</td>\n",
       "      <td>0.145703</td>\n",
       "      <td>0.191173</td>\n",
       "    </tr>\n",
       "    <tr>\n",
       "      <th>53</th>\n",
       "      <td>2020-02-07 00:00:00+00:00</td>\n",
       "      <td>0.165113</td>\n",
       "      <td>0.176556</td>\n",
       "      <td>0.202223</td>\n",
       "      <td>0.195000</td>\n",
       "      <td>0.135670</td>\n",
       "      <td>0</td>\n",
       "      <td>0.162117</td>\n",
       "      <td>0.150117</td>\n",
       "      <td>0.145379</td>\n",
       "      <td>0.185341</td>\n",
       "    </tr>\n",
       "    <tr>\n",
       "      <th>...</th>\n",
       "      <td>...</td>\n",
       "      <td>...</td>\n",
       "      <td>...</td>\n",
       "      <td>...</td>\n",
       "      <td>...</td>\n",
       "      <td>...</td>\n",
       "      <td>...</td>\n",
       "      <td>...</td>\n",
       "      <td>...</td>\n",
       "      <td>...</td>\n",
       "      <td>...</td>\n",
       "    </tr>\n",
       "    <tr>\n",
       "      <th>1233</th>\n",
       "      <td>2024-11-14 00:00:00+00:00</td>\n",
       "      <td>0.893983</td>\n",
       "      <td>0.888074</td>\n",
       "      <td>0.904159</td>\n",
       "      <td>0.905832</td>\n",
       "      <td>0.051525</td>\n",
       "      <td>0</td>\n",
       "      <td>0.951466</td>\n",
       "      <td>0.950352</td>\n",
       "      <td>0.976516</td>\n",
       "      <td>0.883703</td>\n",
       "    </tr>\n",
       "    <tr>\n",
       "      <th>1234</th>\n",
       "      <td>2024-11-18 00:00:00+00:00</td>\n",
       "      <td>0.898933</td>\n",
       "      <td>0.888880</td>\n",
       "      <td>0.907567</td>\n",
       "      <td>0.894149</td>\n",
       "      <td>0.048729</td>\n",
       "      <td>0</td>\n",
       "      <td>0.948683</td>\n",
       "      <td>0.950906</td>\n",
       "      <td>0.975944</td>\n",
       "      <td>0.888689</td>\n",
       "    </tr>\n",
       "    <tr>\n",
       "      <th>1235</th>\n",
       "      <td>2024-11-19 00:00:00+00:00</td>\n",
       "      <td>0.887647</td>\n",
       "      <td>0.901111</td>\n",
       "      <td>0.902519</td>\n",
       "      <td>0.906434</td>\n",
       "      <td>0.077059</td>\n",
       "      <td>0</td>\n",
       "      <td>0.946417</td>\n",
       "      <td>0.951338</td>\n",
       "      <td>0.975464</td>\n",
       "      <td>0.877322</td>\n",
       "    </tr>\n",
       "    <tr>\n",
       "      <th>1236</th>\n",
       "      <td>2024-11-21 00:00:00+00:00</td>\n",
       "      <td>0.880673</td>\n",
       "      <td>0.876950</td>\n",
       "      <td>0.888968</td>\n",
       "      <td>0.896967</td>\n",
       "      <td>0.061975</td>\n",
       "      <td>0</td>\n",
       "      <td>0.943400</td>\n",
       "      <td>0.950776</td>\n",
       "      <td>0.974804</td>\n",
       "      <td>0.870299</td>\n",
       "    </tr>\n",
       "    <tr>\n",
       "      <th>1237</th>\n",
       "      <td>2024-11-22 00:00:00+00:00</td>\n",
       "      <td>0.918035</td>\n",
       "      <td>0.903165</td>\n",
       "      <td>0.895545</td>\n",
       "      <td>0.887468</td>\n",
       "      <td>0.110848</td>\n",
       "      <td>0</td>\n",
       "      <td>0.942013</td>\n",
       "      <td>0.952114</td>\n",
       "      <td>0.974855</td>\n",
       "      <td>0.907925</td>\n",
       "    </tr>\n",
       "  </tbody>\n",
       "</table>\n",
       "<p>1189 rows × 11 columns</p>\n",
       "</div>"
      ],
      "text/plain": [
       "                          Date  Adj_Close      High       Low      Open  \\\n",
       "49   2020-02-03 00:00:00+00:00   0.161604  0.173238  0.194580  0.187702   \n",
       "50   2020-02-04 00:00:00+00:00   0.163053  0.174312  0.199532  0.189602   \n",
       "51   2020-02-05 00:00:00+00:00   0.168252  0.179906  0.201904  0.190203   \n",
       "52   2020-02-06 00:00:00+00:00   0.170397  0.179906  0.206379  0.198119   \n",
       "53   2020-02-07 00:00:00+00:00   0.165113  0.176556  0.202223  0.195000   \n",
       "...                        ...        ...       ...       ...       ...   \n",
       "1233 2024-11-14 00:00:00+00:00   0.893983  0.888074  0.904159  0.905832   \n",
       "1234 2024-11-18 00:00:00+00:00   0.898933  0.888880  0.907567  0.894149   \n",
       "1235 2024-11-19 00:00:00+00:00   0.887647  0.901111  0.902519  0.906434   \n",
       "1236 2024-11-21 00:00:00+00:00   0.880673  0.876950  0.888968  0.896967   \n",
       "1237 2024-11-22 00:00:00+00:00   0.918035  0.903165  0.895545  0.887468   \n",
       "\n",
       "        Volume  opt_expiry  10DaysMA  30DaysMA  50DaysMA  Scaled_Close  \n",
       "49    0.265254           0  0.164218  0.149831  0.146720      0.181469  \n",
       "50    0.161959           0  0.163898  0.149627  0.146153      0.183068  \n",
       "51    0.191366           0  0.164376  0.149722  0.145817      0.188806  \n",
       "52    0.102273           0  0.163933  0.150123  0.145703      0.191173  \n",
       "53    0.135670           0  0.162117  0.150117  0.145379      0.185341  \n",
       "...        ...         ...       ...       ...       ...           ...  \n",
       "1233  0.051525           0  0.951466  0.950352  0.976516      0.883703  \n",
       "1234  0.048729           0  0.948683  0.950906  0.975944      0.888689  \n",
       "1235  0.077059           0  0.946417  0.951338  0.975464      0.877322  \n",
       "1236  0.061975           0  0.943400  0.950776  0.974804      0.870299  \n",
       "1237  0.110848           0  0.942013  0.952114  0.974855      0.907925  \n",
       "\n",
       "[1189 rows x 11 columns]"
      ]
     },
     "execution_count": 64,
     "metadata": {},
     "output_type": "execute_result"
    }
   ],
   "source": [
    "df_train_all_scaled"
   ]
  },
  {
   "cell_type": "code",
   "execution_count": null,
   "id": "9754c445-d8f3-4473-b3c1-60457a2ea669",
   "metadata": {},
   "outputs": [],
   "source": []
  },
  {
   "cell_type": "code",
   "execution_count": 65,
   "id": "a54bd23b-091a-470e-8fcf-a36c18b3cfd2",
   "metadata": {},
   "outputs": [],
   "source": [
    "df_train = df_train_all_scaled[df_train_all_scaled[\"Date\"] <= \"2023-12-31\"]"
   ]
  },
  {
   "cell_type": "code",
   "execution_count": 66,
   "id": "ae887396-a503-41ab-ad66-d9c7fe5e6f45",
   "metadata": {},
   "outputs": [],
   "source": [
    "df_val = df_train_all_scaled[df_train_all_scaled[\"Date\"].between(\"2024-01-01\",\"2024-05-31\")]"
   ]
  },
  {
   "cell_type": "code",
   "execution_count": 67,
   "id": "f9eb90a4-b6c5-48cf-a382-6834d0fb9f4a",
   "metadata": {},
   "outputs": [],
   "source": [
    "df_test = df_train_all_scaled[df_train_all_scaled[\"Date\"] >= \"2024-05-31\"]"
   ]
  },
  {
   "cell_type": "code",
   "execution_count": 68,
   "id": "0736fbd4-5f63-4f97-a208-d4986060bcb9",
   "metadata": {},
   "outputs": [
    {
     "name": "stderr",
     "output_type": "stream",
     "text": [
      "C:\\Users\\Divay Nagpal\\AppData\\Local\\Temp\\ipykernel_24196\\1681249928.py:1: SettingWithCopyWarning: \n",
      "A value is trying to be set on a copy of a slice from a DataFrame\n",
      "\n",
      "See the caveats in the documentation: https://pandas.pydata.org/pandas-docs/stable/user_guide/indexing.html#returning-a-view-versus-a-copy\n",
      "  df_train.drop(columns=[\"Date\"], inplace = True)\n",
      "C:\\Users\\Divay Nagpal\\AppData\\Local\\Temp\\ipykernel_24196\\1681249928.py:2: SettingWithCopyWarning: \n",
      "A value is trying to be set on a copy of a slice from a DataFrame\n",
      "\n",
      "See the caveats in the documentation: https://pandas.pydata.org/pandas-docs/stable/user_guide/indexing.html#returning-a-view-versus-a-copy\n",
      "  df_val.drop(columns=[\"Date\"], inplace = True)\n",
      "C:\\Users\\Divay Nagpal\\AppData\\Local\\Temp\\ipykernel_24196\\1681249928.py:3: SettingWithCopyWarning: \n",
      "A value is trying to be set on a copy of a slice from a DataFrame\n",
      "\n",
      "See the caveats in the documentation: https://pandas.pydata.org/pandas-docs/stable/user_guide/indexing.html#returning-a-view-versus-a-copy\n",
      "  df_test.drop(columns=[\"Date\"], inplace = True)\n"
     ]
    }
   ],
   "source": [
    "df_train.drop(columns=[\"Date\"], inplace = True)\n",
    "df_val.drop(columns=[\"Date\"], inplace = True)\n",
    "df_test.drop(columns=[\"Date\"], inplace = True)"
   ]
  },
  {
   "cell_type": "code",
   "execution_count": 69,
   "id": "8fa0b2ec-14c3-4d2e-a245-e3db04fa5608",
   "metadata": {},
   "outputs": [
    {
     "data": {
      "text/plain": [
       "Index(['Adj_Close', 'High', 'Low', 'Open', 'Volume', 'opt_expiry', '10DaysMA',\n",
       "       '30DaysMA', '50DaysMA', 'Scaled_Close'],\n",
       "      dtype='object')"
      ]
     },
     "execution_count": 69,
     "metadata": {},
     "output_type": "execute_result"
    }
   ],
   "source": [
    "df_train.columns"
   ]
  },
  {
   "cell_type": "code",
   "execution_count": 70,
   "id": "df40dbc3-94db-4086-9547-3142dc7213a4",
   "metadata": {},
   "outputs": [
    {
     "data": {
      "text/html": [
       "<div>\n",
       "<style scoped>\n",
       "    .dataframe tbody tr th:only-of-type {\n",
       "        vertical-align: middle;\n",
       "    }\n",
       "\n",
       "    .dataframe tbody tr th {\n",
       "        vertical-align: top;\n",
       "    }\n",
       "\n",
       "    .dataframe thead th {\n",
       "        text-align: right;\n",
       "    }\n",
       "</style>\n",
       "<table border=\"1\" class=\"dataframe\">\n",
       "  <thead>\n",
       "    <tr style=\"text-align: right;\">\n",
       "      <th></th>\n",
       "      <th>Adj_Close</th>\n",
       "      <th>High</th>\n",
       "      <th>Low</th>\n",
       "      <th>Open</th>\n",
       "      <th>Volume</th>\n",
       "      <th>opt_expiry</th>\n",
       "      <th>10DaysMA</th>\n",
       "      <th>30DaysMA</th>\n",
       "      <th>50DaysMA</th>\n",
       "      <th>Scaled_Close</th>\n",
       "    </tr>\n",
       "  </thead>\n",
       "  <tbody>\n",
       "    <tr>\n",
       "      <th>49</th>\n",
       "      <td>0.161604</td>\n",
       "      <td>0.173238</td>\n",
       "      <td>0.194580</td>\n",
       "      <td>0.187702</td>\n",
       "      <td>0.265254</td>\n",
       "      <td>0</td>\n",
       "      <td>0.164218</td>\n",
       "      <td>0.149831</td>\n",
       "      <td>0.146720</td>\n",
       "      <td>0.181469</td>\n",
       "    </tr>\n",
       "    <tr>\n",
       "      <th>50</th>\n",
       "      <td>0.163053</td>\n",
       "      <td>0.174312</td>\n",
       "      <td>0.199532</td>\n",
       "      <td>0.189602</td>\n",
       "      <td>0.161959</td>\n",
       "      <td>0</td>\n",
       "      <td>0.163898</td>\n",
       "      <td>0.149627</td>\n",
       "      <td>0.146153</td>\n",
       "      <td>0.183068</td>\n",
       "    </tr>\n",
       "    <tr>\n",
       "      <th>51</th>\n",
       "      <td>0.168252</td>\n",
       "      <td>0.179906</td>\n",
       "      <td>0.201904</td>\n",
       "      <td>0.190203</td>\n",
       "      <td>0.191366</td>\n",
       "      <td>0</td>\n",
       "      <td>0.164376</td>\n",
       "      <td>0.149722</td>\n",
       "      <td>0.145817</td>\n",
       "      <td>0.188806</td>\n",
       "    </tr>\n",
       "  </tbody>\n",
       "</table>\n",
       "</div>"
      ],
      "text/plain": [
       "    Adj_Close      High       Low      Open    Volume  opt_expiry  10DaysMA  \\\n",
       "49   0.161604  0.173238  0.194580  0.187702  0.265254           0  0.164218   \n",
       "50   0.163053  0.174312  0.199532  0.189602  0.161959           0  0.163898   \n",
       "51   0.168252  0.179906  0.201904  0.190203  0.191366           0  0.164376   \n",
       "\n",
       "    30DaysMA  50DaysMA  Scaled_Close  \n",
       "49  0.149831  0.146720      0.181469  \n",
       "50  0.149627  0.146153      0.183068  \n",
       "51  0.149722  0.145817      0.188806  "
      ]
     },
     "execution_count": 70,
     "metadata": {},
     "output_type": "execute_result"
    }
   ],
   "source": [
    "df_train.iloc[0:3]"
   ]
  },
  {
   "cell_type": "code",
   "execution_count": 71,
   "id": "41b3f48d-57b9-4518-8d64-7214e8f9598d",
   "metadata": {},
   "outputs": [
    {
     "data": {
      "text/html": [
       "<div>\n",
       "<style scoped>\n",
       "    .dataframe tbody tr th:only-of-type {\n",
       "        vertical-align: middle;\n",
       "    }\n",
       "\n",
       "    .dataframe tbody tr th {\n",
       "        vertical-align: top;\n",
       "    }\n",
       "\n",
       "    .dataframe thead th {\n",
       "        text-align: right;\n",
       "    }\n",
       "</style>\n",
       "<table border=\"1\" class=\"dataframe\">\n",
       "  <thead>\n",
       "    <tr style=\"text-align: right;\">\n",
       "      <th></th>\n",
       "      <th>Adj_Close</th>\n",
       "      <th>High</th>\n",
       "      <th>Low</th>\n",
       "      <th>Open</th>\n",
       "      <th>Volume</th>\n",
       "      <th>opt_expiry</th>\n",
       "      <th>10DaysMA</th>\n",
       "      <th>30DaysMA</th>\n",
       "      <th>50DaysMA</th>\n",
       "      <th>Scaled_Close</th>\n",
       "    </tr>\n",
       "  </thead>\n",
       "  <tbody>\n",
       "    <tr>\n",
       "      <th>51</th>\n",
       "      <td>0.168252</td>\n",
       "      <td>0.179906</td>\n",
       "      <td>0.201904</td>\n",
       "      <td>0.190203</td>\n",
       "      <td>0.191366</td>\n",
       "      <td>0</td>\n",
       "      <td>0.164376</td>\n",
       "      <td>0.149722</td>\n",
       "      <td>0.145817</td>\n",
       "      <td>0.188806</td>\n",
       "    </tr>\n",
       "  </tbody>\n",
       "</table>\n",
       "</div>"
      ],
      "text/plain": [
       "    Adj_Close      High       Low      Open    Volume  opt_expiry  10DaysMA  \\\n",
       "51   0.168252  0.179906  0.201904  0.190203  0.191366           0  0.164376   \n",
       "\n",
       "    30DaysMA  50DaysMA  Scaled_Close  \n",
       "51  0.149722  0.145817      0.188806  "
      ]
     },
     "execution_count": 71,
     "metadata": {},
     "output_type": "execute_result"
    }
   ],
   "source": [
    "df_train.iloc[2:3]"
   ]
  },
  {
   "cell_type": "code",
   "execution_count": 72,
   "id": "5f699c73-7f87-4537-872c-e558a61138e1",
   "metadata": {},
   "outputs": [],
   "source": [
    "def create_sequences(data, timesteps, features):\n",
    "    sequences = []\n",
    "    targets = []\n",
    "    for i in range(timesteps,len(data)):\n",
    "        seq = data.iloc[i-timesteps:i , :features].values\n",
    "        target = data.iloc[i]['Scaled_Close']\n",
    "        sequences.append(seq) \n",
    "        targets.append(target)\n",
    "    return np.array(sequences), np.array(targets)"
   ]
  },
  {
   "cell_type": "code",
   "execution_count": 86,
   "id": "c0ea9bc2-ace1-486c-bb3c-7cc49c113ca9",
   "metadata": {},
   "outputs": [],
   "source": [
    "df_train_sequenced,train_target = create_sequences(df_train, 20, 16)\n",
    "df_val_sequenced,val_target = create_sequences(df_val, 20, 16)\n",
    "df_test_sequenced,test_target = create_sequences(df_test, 20, 16)"
   ]
  },
  {
   "cell_type": "code",
   "execution_count": 87,
   "id": "73178b9b-430a-4d55-b35d-cba84f35b324",
   "metadata": {},
   "outputs": [
    {
     "data": {
      "text/plain": [
       "(949, 20, 10)"
      ]
     },
     "execution_count": 87,
     "metadata": {},
     "output_type": "execute_result"
    }
   ],
   "source": [
    "df_train_sequenced.shape"
   ]
  },
  {
   "cell_type": "code",
   "execution_count": 88,
   "id": "9f6ac54c-6d65-4ba4-ab40-6d90f824fcca",
   "metadata": {},
   "outputs": [],
   "source": [
    "class PositionalEncoding(tf.keras.layers.Layer):\n",
    "    def __init__(self, maxlen, dim):\n",
    "        super(PositionalEncoding, self).__init__()\n",
    "        self.maxlen = maxlen\n",
    "        self.dim = dim\n",
    "\n",
    "    def get_positional_encoding(self):\n",
    "        angle_rads = self.get_angles(np.arange(self.maxlen)[:, np.newaxis], np.arange(self.dim)[np.newaxis, :])\n",
    "        # Apply sine to even indices and cosine to odd indices\n",
    "        positional_encoding = np.zeros((self.maxlen, self.dim))\n",
    "        positional_encoding[:, 0::2] = np.sin(angle_rads[:, 0::2])  # Apply sin to even indices\n",
    "        positional_encoding[:, 1::2] = np.cos(angle_rads[:, 1::2])  # Apply cos to odd indices\n",
    "        return positional_encoding\n",
    "\n",
    "    def get_angles(self, position, i):\n",
    "        return position / np.power(10000, (2 * (i // 2)) / float(self.dim))\n",
    "\n",
    "    def call(self, inputs):\n",
    "        # Get positional encoding matrix\n",
    "        positional_encoding = self.get_positional_encoding()\n",
    "        # Add a new axis for batch dimension\n",
    "        positional_encoding = tf.cast(positional_encoding, dtype=tf.float32)\n",
    "        # Add positional encoding to input\n",
    "        return inputs + positional_encoding[: tf.shape(inputs)[1], :]"
   ]
  },
  {
   "cell_type": "code",
   "execution_count": 89,
   "id": "af506d14-ee75-4f1e-8168-18a30c6de32a",
   "metadata": {},
   "outputs": [],
   "source": [
    "class TransformerEncoder(Layer):\n",
    "    def __init__(self, num_heads, key_dim, ff_dim, dropout=0.1):\n",
    "        super(TransformerEncoder, self).__init__()\n",
    "        self.att = MultiHeadAttention(num_heads=num_heads, key_dim=key_dim)\n",
    "        self.ffn = tf.keras.Sequential([\n",
    "            Dense(ff_dim, activation='relu'),\n",
    "            Dense(key_dim)\n",
    "        ])\n",
    "        self.layernorm1 = LayerNormalization(epsilon=1e-6)\n",
    "        self.layernorm2 = LayerNormalization(epsilon=1e-6)\n",
    "        self.dropout1 = Dropout(dropout)\n",
    "        self.dropout2 = Dropout(dropout)\n",
    "\n",
    "    def call(self, inputs, training=False):\n",
    "        # Attention block\n",
    "        attn_output = self.att(query=inputs, value=inputs, key=inputs)\n",
    "        attn_output = self.dropout1(attn_output, training=training)\n",
    "        out1 = self.layernorm1(inputs + attn_output)  # Add & Normalize\n",
    "\n",
    "        # Feedforward block\n",
    "        ffn_output = self.ffn(out1)\n",
    "        ffn_output = self.dropout2(ffn_output, training=training)\n",
    "        out2 = self.layernorm2(out1 + ffn_output)  # Add & Normalize\n",
    "\n",
    "        return out2"
   ]
  },
  {
   "cell_type": "code",
   "execution_count": null,
   "id": "70ff8599-d61f-4fe4-a899-902fa4b760e6",
   "metadata": {},
   "outputs": [],
   "source": []
  },
  {
   "cell_type": "code",
   "execution_count": 90,
   "id": "8640d68c-d160-4dda-bc34-c6d5507515b1",
   "metadata": {},
   "outputs": [],
   "source": [
    "def create_transformer_model(input_shape, transformer_layers, num_heads, key_dim, ff_dim, dense_units, dropout_rate):\n",
    "    # Input Layer\n",
    "    input_layer = Input(shape=input_shape)\n",
    "    \n",
    "    # Add Positional Encoding Layer\n",
    "    positional_encoding = PositionalEncoding(maxlen=input_shape[0], dim=key_dim)  # Assume input_shape[0] is the sequence length\n",
    "    x = positional_encoding(input_layer)\n",
    "\n",
    "    # Transformer Encoder Layers\n",
    "    transformer_output = x\n",
    "    for _ in range(transformer_layers):\n",
    "        transformer_layer = TransformerEncoder(\n",
    "            num_heads=num_heads, key_dim=key_dim, ff_dim=ff_dim, dropout=dropout_rate\n",
    "        )\n",
    "        transformer_output = transformer_layer(transformer_output)\n",
    "\n",
    "    # Global Average Pooling\n",
    "    pooled_output = GlobalAveragePooling1D()(transformer_output)\n",
    "\n",
    "    # Dense Layers with Dropout\n",
    "    dense_1 = Dense(dense_units, activation=\"relu\")(pooled_output)\n",
    "    dropout_1 = Dropout(dropout_rate)(dense_1)\n",
    "    dense_2 = Dense(dense_units, activation=\"relu\")(dropout_1)\n",
    "    dropout_2 = Dropout(dropout_rate)(dense_2)\n",
    "\n",
    "    # Output Layer\n",
    "    output_layer = Dense(1, activation=\"linear\")(dropout_2)\n",
    "\n",
    "    # Model\n",
    "    model = Model(inputs=input_layer, outputs=output_layer)\n",
    "    \n",
    "    return model"
   ]
  },
  {
   "cell_type": "code",
   "execution_count": 91,
   "id": "8354f05d-a5d8-4c76-9fbf-ffb83f99a963",
   "metadata": {},
   "outputs": [],
   "source": [
    "input_shape = (20, 10)  # Update this based on your dataset\n",
    "transformer_layers = 3\n",
    "time2vec_dim = 2\n",
    "dense_units = 512\n",
    "dropout_rate = 0.2\n",
    "num_heads = 4\n",
    "key_dim = 10\n",
    "ff_dim = 128\n",
    "\n",
    "model = create_transformer_model(\n",
    "    input_shape=input_shape,\n",
    "    transformer_layers=transformer_layers,\n",
    "    num_heads=num_heads,\n",
    "    key_dim=key_dim,\n",
    "    ff_dim=ff_dim,\n",
    "    dense_units=dense_units,\n",
    "    dropout_rate=dropout_rate\n",
    ")"
   ]
  },
  {
   "cell_type": "code",
   "execution_count": 92,
   "id": "ef8b4c44-feae-4915-b026-49c152b17ef3",
   "metadata": {},
   "outputs": [],
   "source": [
    "model.compile(optimizer=Adam(learning_rate=0.001), loss='mean_squared_error', metrics=['mae'])"
   ]
  },
  {
   "cell_type": "code",
   "execution_count": 93,
   "id": "9c50def4-ff97-48bd-82b9-3f97141e19fc",
   "metadata": {},
   "outputs": [
    {
     "name": "stdout",
     "output_type": "stream",
     "text": [
      "Epoch 1/100\n",
      "\u001b[1m30/30\u001b[0m \u001b[32m━━━━━━━━━━━━━━━━━━━━\u001b[0m\u001b[37m\u001b[0m \u001b[1m4s\u001b[0m 19ms/step - loss: 0.0588 - mae: 0.1811 - val_loss: 0.0069 - val_mae: 0.0728\n",
      "Epoch 2/100\n",
      "\u001b[1m30/30\u001b[0m \u001b[32m━━━━━━━━━━━━━━━━━━━━\u001b[0m\u001b[37m\u001b[0m \u001b[1m0s\u001b[0m 10ms/step - loss: 0.0041 - mae: 0.0503 - val_loss: 0.0019 - val_mae: 0.0355\n",
      "Epoch 3/100\n",
      "\u001b[1m30/30\u001b[0m \u001b[32m━━━━━━━━━━━━━━━━━━━━\u001b[0m\u001b[37m\u001b[0m \u001b[1m0s\u001b[0m 9ms/step - loss: 0.0030 - mae: 0.0435 - val_loss: 0.0020 - val_mae: 0.0375\n",
      "Epoch 4/100\n",
      "\u001b[1m30/30\u001b[0m \u001b[32m━━━━━━━━━━━━━━━━━━━━\u001b[0m\u001b[37m\u001b[0m \u001b[1m0s\u001b[0m 10ms/step - loss: 0.0028 - mae: 0.0415 - val_loss: 0.0019 - val_mae: 0.0351\n",
      "Epoch 5/100\n",
      "\u001b[1m30/30\u001b[0m \u001b[32m━━━━━━━━━━━━━━━━━━━━\u001b[0m\u001b[37m\u001b[0m \u001b[1m0s\u001b[0m 10ms/step - loss: 0.0027 - mae: 0.0407 - val_loss: 0.0021 - val_mae: 0.0371\n",
      "Epoch 6/100\n",
      "\u001b[1m30/30\u001b[0m \u001b[32m━━━━━━━━━━━━━━━━━━━━\u001b[0m\u001b[37m\u001b[0m \u001b[1m0s\u001b[0m 11ms/step - loss: 0.0021 - mae: 0.0361 - val_loss: 0.0071 - val_mae: 0.0748\n",
      "Epoch 7/100\n",
      "\u001b[1m30/30\u001b[0m \u001b[32m━━━━━━━━━━━━━━━━━━━━\u001b[0m\u001b[37m\u001b[0m \u001b[1m0s\u001b[0m 10ms/step - loss: 0.0035 - mae: 0.0450 - val_loss: 0.0034 - val_mae: 0.0488\n",
      "Epoch 8/100\n",
      "\u001b[1m30/30\u001b[0m \u001b[32m━━━━━━━━━━━━━━━━━━━━\u001b[0m\u001b[37m\u001b[0m \u001b[1m0s\u001b[0m 10ms/step - loss: 0.0025 - mae: 0.0379 - val_loss: 0.0026 - val_mae: 0.0404\n",
      "Epoch 9/100\n",
      "\u001b[1m30/30\u001b[0m \u001b[32m━━━━━━━━━━━━━━━━━━━━\u001b[0m\u001b[37m\u001b[0m \u001b[1m0s\u001b[0m 10ms/step - loss: 0.0024 - mae: 0.0374 - val_loss: 0.0053 - val_mae: 0.0624\n",
      "Epoch 10/100\n",
      "\u001b[1m30/30\u001b[0m \u001b[32m━━━━━━━━━━━━━━━━━━━━\u001b[0m\u001b[37m\u001b[0m \u001b[1m0s\u001b[0m 11ms/step - loss: 0.0016 - mae: 0.0310 - val_loss: 0.0019 - val_mae: 0.0367\n",
      "Epoch 11/100\n",
      "\u001b[1m30/30\u001b[0m \u001b[32m━━━━━━━━━━━━━━━━━━━━\u001b[0m\u001b[37m\u001b[0m \u001b[1m0s\u001b[0m 10ms/step - loss: 0.0024 - mae: 0.0373 - val_loss: 0.0020 - val_mae: 0.0374\n",
      "Epoch 12/100\n",
      "\u001b[1m30/30\u001b[0m \u001b[32m━━━━━━━━━━━━━━━━━━━━\u001b[0m\u001b[37m\u001b[0m \u001b[1m0s\u001b[0m 10ms/step - loss: 0.0017 - mae: 0.0319 - val_loss: 0.0014 - val_mae: 0.0309\n",
      "Epoch 13/100\n",
      "\u001b[1m30/30\u001b[0m \u001b[32m━━━━━━━━━━━━━━━━━━━━\u001b[0m\u001b[37m\u001b[0m \u001b[1m0s\u001b[0m 10ms/step - loss: 0.0016 - mae: 0.0305 - val_loss: 0.0017 - val_mae: 0.0344\n",
      "Epoch 14/100\n",
      "\u001b[1m30/30\u001b[0m \u001b[32m━━━━━━━━━━━━━━━━━━━━\u001b[0m\u001b[37m\u001b[0m \u001b[1m1s\u001b[0m 16ms/step - loss: 0.0015 - mae: 0.0306 - val_loss: 0.0017 - val_mae: 0.0329\n",
      "Epoch 15/100\n",
      "\u001b[1m30/30\u001b[0m \u001b[32m━━━━━━━━━━━━━━━━━━━━\u001b[0m\u001b[37m\u001b[0m \u001b[1m0s\u001b[0m 13ms/step - loss: 0.0018 - mae: 0.0323 - val_loss: 0.0017 - val_mae: 0.0335\n",
      "Epoch 16/100\n",
      "\u001b[1m30/30\u001b[0m \u001b[32m━━━━━━━━━━━━━━━━━━━━\u001b[0m\u001b[37m\u001b[0m \u001b[1m0s\u001b[0m 12ms/step - loss: 0.0015 - mae: 0.0298 - val_loss: 0.0038 - val_mae: 0.0510\n",
      "Epoch 17/100\n",
      "\u001b[1m30/30\u001b[0m \u001b[32m━━━━━━━━━━━━━━━━━━━━\u001b[0m\u001b[37m\u001b[0m \u001b[1m0s\u001b[0m 11ms/step - loss: 0.0015 - mae: 0.0295 - val_loss: 0.0021 - val_mae: 0.0372\n",
      "Epoch 18/100\n",
      "\u001b[1m30/30\u001b[0m \u001b[32m━━━━━━━━━━━━━━━━━━━━\u001b[0m\u001b[37m\u001b[0m \u001b[1m0s\u001b[0m 11ms/step - loss: 0.0015 - mae: 0.0302 - val_loss: 0.0019 - val_mae: 0.0368\n",
      "Epoch 19/100\n",
      "\u001b[1m30/30\u001b[0m \u001b[32m━━━━━━━━━━━━━━━━━━━━\u001b[0m\u001b[37m\u001b[0m \u001b[1m0s\u001b[0m 11ms/step - loss: 0.0016 - mae: 0.0301 - val_loss: 0.0027 - val_mae: 0.0421\n",
      "Epoch 20/100\n",
      "\u001b[1m30/30\u001b[0m \u001b[32m━━━━━━━━━━━━━━━━━━━━\u001b[0m\u001b[37m\u001b[0m \u001b[1m0s\u001b[0m 10ms/step - loss: 0.0014 - mae: 0.0286 - val_loss: 0.0026 - val_mae: 0.0417\n",
      "Epoch 21/100\n",
      "\u001b[1m30/30\u001b[0m \u001b[32m━━━━━━━━━━━━━━━━━━━━\u001b[0m\u001b[37m\u001b[0m \u001b[1m0s\u001b[0m 11ms/step - loss: 0.0019 - mae: 0.0332 - val_loss: 0.0025 - val_mae: 0.0405\n",
      "Epoch 22/100\n",
      "\u001b[1m30/30\u001b[0m \u001b[32m━━━━━━━━━━━━━━━━━━━━\u001b[0m\u001b[37m\u001b[0m \u001b[1m0s\u001b[0m 11ms/step - loss: 0.0013 - mae: 0.0281 - val_loss: 0.0025 - val_mae: 0.0407\n",
      "Epoch 22: early stopping\n",
      "Restoring model weights from the end of the best epoch: 12.\n"
     ]
    }
   ],
   "source": [
    "early_stopping = EarlyStopping(\n",
    "    monitor='val_loss',  # You can also use 'val_accuracy' if classification\n",
    "    patience=10,         # Number of epochs with no improvement before stopping\n",
    "    restore_best_weights=True,  # Restore the model with the best weights when stopped\n",
    "    verbose=1\n",
    ")\n",
    "history = model.fit(\n",
    "    df_train_sequenced, train_target, \n",
    "    epochs=100,  # Set the number of epochs as per your need\n",
    "    batch_size=None,  # Adjust batch size as needed\n",
    "    validation_data=(df_val_sequenced, val_target),\n",
    "    callbacks=[early_stopping],  # Pass the early stopping callback here\n",
    "    verbose=1\n",
    ")"
   ]
  },
  {
   "cell_type": "code",
   "execution_count": 94,
   "id": "3a8ccece-9fe1-407f-a794-9bcae56caa68",
   "metadata": {},
   "outputs": [
    {
     "name": "stdout",
     "output_type": "stream",
     "text": [
      "WARNING:tensorflow:5 out of the last 9 calls to <function TensorFlowTrainer.make_predict_function.<locals>.one_step_on_data_distributed at 0x0000012218C9EC20> triggered tf.function retracing. Tracing is expensive and the excessive number of tracings could be due to (1) creating @tf.function repeatedly in a loop, (2) passing tensors with different shapes, (3) passing Python objects instead of tensors. For (1), please define your @tf.function outside of the loop. For (2), @tf.function has reduce_retracing=True option that can avoid unnecessary retracing. For (3), please refer to https://www.tensorflow.org/guide/function#controlling_retracing and https://www.tensorflow.org/api_docs/python/tf/function for  more details.\n",
      "\u001b[1m1/4\u001b[0m \u001b[32m━━━━━\u001b[0m\u001b[37m━━━━━━━━━━━━━━━\u001b[0m \u001b[1m0s\u001b[0m 199ms/stepWARNING:tensorflow:6 out of the last 12 calls to <function TensorFlowTrainer.make_predict_function.<locals>.one_step_on_data_distributed at 0x0000012218C9EC20> triggered tf.function retracing. Tracing is expensive and the excessive number of tracings could be due to (1) creating @tf.function repeatedly in a loop, (2) passing tensors with different shapes, (3) passing Python objects instead of tensors. For (1), please define your @tf.function outside of the loop. For (2), @tf.function has reduce_retracing=True option that can avoid unnecessary retracing. For (3), please refer to https://www.tensorflow.org/guide/function#controlling_retracing and https://www.tensorflow.org/api_docs/python/tf/function for  more details.\n",
      "\u001b[1m4/4\u001b[0m \u001b[32m━━━━━━━━━━━━━━━━━━━━\u001b[0m\u001b[37m\u001b[0m \u001b[1m0s\u001b[0m 64ms/step\n"
     ]
    }
   ],
   "source": [
    "predictions = model.predict(df_test_sequenced)"
   ]
  },
  {
   "cell_type": "code",
   "execution_count": 95,
   "id": "0ca7d91c-8dda-48a0-a453-bc17388f95b5",
   "metadata": {},
   "outputs": [
    {
     "data": {
      "image/png": "[encoded data removed]",
      "text/plain": [
       "<Figure size 640x480 with 1 Axes>"
      ]
     },
     "metadata": {},
     "output_type": "display_data"
    }
   ],
   "source": [
    "plt.plot(target_scaler.inverse_transform(test_target.reshape(-1,1)), label='Actual close price')\n",
    "plt.plot(target_scaler.inverse_transform(predictions.reshape(-1,1)), label='Predicted close price')\n",
    "\n",
    "plt.title('Actual vs Predicted Prices')\n",
    "plt.ylabel('Price')\n",
    "plt.legend()\n",
    "\n",
    "plt.show()"
   ]
  },
  {
   "cell_type": "markdown",
   "id": "953bd34a-a15f-4cbf-9cd3-2d6cc0cc3cd5",
   "metadata": {
    "jp-MarkdownHeadingCollapsed": true
   },
   "source": [
    "# Appendix"
   ]
  },
  {
   "cell_type": "code",
   "execution_count": 122,
   "id": "f79948f0-7b22-4919-b4b4-d0c4cb8fd9d5",
   "metadata": {},
   "outputs": [],
   "source": [
    "device = torch.device(\"cuda\" if torch.cuda.is_available() else \"cpu\")"
   ]
  },
  {
   "cell_type": "code",
   "execution_count": 150,
   "id": "bb70f146-97d0-4d30-822d-2fb47c391727",
   "metadata": {},
   "outputs": [],
   "source": [
    "class PositionalEncoding(Layer):\n",
    "    def __init__(self, maxlen, dim):\n",
    "        super(PositionalEncoding, self).__init__()\n",
    "        self.maxlen = maxlen\n",
    "        self.dim = dim\n",
    "\n",
    "    def build(self, input_shape):\n",
    "        # Create a matrix of shape (maxlen, dim)\n",
    "        position = np.arange(self.maxlen)[:, np.newaxis]  # Shape (maxlen, 1)\n",
    "        div_term = np.exp(np.arange(0, self.dim, 2) * -(np.log(10000.0) / self.dim))  # Shape (dim/2,)\n",
    "        pos_enc = np.zeros((self.maxlen, self.dim))\n",
    "        pos_enc[:, 0::2] = np.sin(position * div_term)  # Apply sin to even indices\n",
    "        pos_enc[:, 1::2] = np.cos(position * div_term)  # Apply cos to odd indices\n",
    "        self.pos_encoding = tf.constant(pos_enc, dtype=tf.float32)\n",
    "\n",
    "    def call(self, inputs):\n",
    "        return inputs + self.pos_encoding[:inputs.shape[1], :]"
   ]
  },
  {
   "cell_type": "code",
   "execution_count": 151,
   "id": "e63811a2-67bb-428d-be25-2970aaf3d1b5",
   "metadata": {},
   "outputs": [],
   "source": [
    "class TransformerModel(nn.Module):\n",
    "    def __init__(self, input_dim, embed_dim, num_heads, ff_dim, num_layers, dropout):\n",
    "        super(TransformerModel, self).__init__()\n",
    "        self.embedding = nn.Linear(input_dim, embed_dim)\n",
    "        self.positional_encoding = self._generate_positional_encoding(embed_dim, 5000)\n",
    "        \n",
    "        encoder_layer = nn.TransformerEncoderLayer(d_model=embed_dim, nhead=num_heads, dim_feedforward=ff_dim, dropout=dropout)\n",
    "        self.transformer = nn.TransformerEncoder(encoder_layer, num_layers=num_layers)\n",
    "        \n",
    "        self.fc_out = nn.Linear(embed_dim, 1)\n",
    "\n",
    "    def forward(self, x):\n",
    "        batch_size, seq_len, _ = x.size()\n",
    "        x = self.embedding(x)\n",
    "        x += self.positional_encoding[:seq_len, :].to(x.device)\n",
    "        \n",
    "        x = x.permute(1, 0, 2)  # Transformer expects (seq_len, batch_size, embed_dim)\n",
    "        x = self.transformer(x)\n",
    "        x = x.mean(dim=0)  # Pooling over the sequence length\n",
    "        x = self.fc_out(x)\n",
    "        return x\n",
    "\n",
    "    def _generate_positional_encoding(self, embed_dim, max_len):\n",
    "        pe = torch.zeros(max_len, embed_dim)\n",
    "        position = torch.arange(0, max_len, dtype=torch.float).unsqueeze(1)\n",
    "        div_term = torch.exp(torch.arange(0, embed_dim, 2).float() * -(np.log(10000.0) / embed_dim))\n",
    "        pe[:, 0::2] = torch.sin(position * div_term)\n",
    "        pe[:, 1::2] = torch.cos(position * div_term)\n",
    "        return pe.unsqueeze(0)"
   ]
  },
  {
   "cell_type": "code",
   "execution_count": 152,
   "id": "0934e678-a7e0-4c77-ad66-06671c379aa2",
   "metadata": {},
   "outputs": [],
   "source": [
    "class TransformerEncoder(Layer):\n",
    "    def __init__(self, num_heads, key_dim, ff_dim, dropout=0.1, maxlen=500):\n",
    "        super(TransformerEncoder, self).__init__()\n",
    "        self.att = MultiHeadAttention(num_heads=num_heads, key_dim=key_dim)\n",
    "        self.ffn = tf.keras.Sequential([\n",
    "            Dense(ff_dim, activation='relu'),\n",
    "            Dense(key_dim)\n",
    "        ])\n",
    "        self.layernorm1 = LayerNormalization(epsilon=1e-6)\n",
    "        self.layernorm2 = LayerNormalization(epsilon=1e-6)\n",
    "        self.positional_encoding = PositionalEncoding(maxlen=maxlen, dim=key_dim)\n",
    "        #self.dropout1 = Dropout(dropout)\n",
    "        #self.dropout2 = Dropout(dropout)\n",
    "\n",
    "    def call(self, inputs, training=False):\n",
    "        print(f\"Input shape before positional encoding: {inputs.shape}\")\n",
    "        # Apply positional encoding\n",
    "        inputs = self.positional_encoding(inputs)\n",
    "        print(f\"Input shape after positional encoding: {inputs.shape}\")\n",
    "        \n",
    "        attn_output = self.att(query=inputs, value=inputs, key=inputs)\n",
    "        #attn_output = self.dropout1(attn_output, training=training)\n",
    "        print(f\"Attention output shape: {attn_output.shape}\")\n",
    "        out1 = self.layernorm1(inputs + attn_output)  # Add & Normalize\n",
    "\n",
    "        ffn_output = self.ffn(out1)\n",
    "        #ffn_output = self.dropout2(ffn_output, training=training)\n",
    "        out2 = self.layernorm2(out1 + ffn_output)  # Add & Normalize\n",
    "        return out2"
   ]
  },
  {
   "cell_type": "code",
   "execution_count": 153,
   "id": "47b06a7d-1e10-44d8-93e5-a11905f563a9",
   "metadata": {},
   "outputs": [],
   "source": [
    "def create_transformer_model(input_shape, transformer_layers, num_heads, key_dim, ff_dim, dense_units, dropout_rate, maxlen=500):\n",
    "    # Input Layer\n",
    "    input_layer = Input(shape=input_shape)\n",
    "\n",
    "    # Transformer Encoder Layers\n",
    "    transformer_output = input_layer\n",
    "    for _ in range(transformer_layers):\n",
    "        transformer_layer = TransformerEncoder(\n",
    "            num_heads=num_heads, key_dim=key_dim, ff_dim=ff_dim, dropout=dropout_rate, maxlen=maxlen\n",
    "        )\n",
    "        transformer_output = transformer_layer(transformer_output)\n",
    "\n",
    "    # Global Average Pooling\n",
    "    pooled_output = GlobalAveragePooling1D()(transformer_output)\n",
    "\n",
    "    # Dense Layers with Dropout\n",
    "    dense_1 = Dense(dense_units, activation=\"relu\")(pooled_output)\n",
    "    #dropout_1 = Dropout(dropout_rate)(dense_1)\n",
    "    #dense_2 = Dense(dense_units, activation=\"relu\")(dropout_1)\n",
    "    dense_2 = Dense(dense_units, activation=\"relu\")(dense_1)\n",
    "    #dropout_2 = Dropout(dropout_rate)(dense_2)\n",
    "\n",
    "    # Output Layer\n",
    "    #output_layer = Dense(1, activation=\"linear\")(dropout_2)\n",
    "    output_layer = Dense(1, activation=\"linear\")(dense_2)\n",
    "\n",
    "    # Model\n",
    "    model = Model(inputs=input_layer, outputs=output_layer)\n",
    "    return model"
   ]
  },
  {
   "cell_type": "code",
   "execution_count": 156,
   "id": "a2a76cfa-5590-42eb-a41e-5753a6d34876",
   "metadata": {},
   "outputs": [],
   "source": [
    "input_shape = (20, 16)  # Update this based on your dataset\n",
    "transformer_layers = 3\n",
    "time2vec_dim = 2\n",
    "dense_units = 512\n",
    "dropout_rate = 0.2\n",
    "num_heads = 4\n",
    "key_dim = 16\n",
    "ff_dim = 128"
   ]
  },
  {
   "cell_type": "code",
   "execution_count": 157,
   "id": "b820034b-bfc2-4fa3-83bb-7f3da0bd36bf",
   "metadata": {},
   "outputs": [
    {
     "name": "stdout",
     "output_type": "stream",
     "text": [
      "Input shape before positional encoding: (None, 20, 16)\n",
      "Input shape after positional encoding: (None, 20, 16)\n",
      "Attention output shape: (None, 20, 16)\n",
      "Input shape before positional encoding: (None, 20, 16)\n",
      "Input shape after positional encoding: (None, 20, 16)\n",
      "Attention output shape: (None, 20, 16)\n",
      "Input shape before positional encoding: (None, 20, 16)\n",
      "Input shape after positional encoding: (None, 20, 16)\n",
      "Attention output shape: (None, 20, 16)\n",
      "Input shape before positional encoding: (None, 20, 16)\n",
      "Input shape after positional encoding: (None, 20, 16)\n",
      "Attention output shape: (None, 20, 16)\n",
      "Input shape before positional encoding: (None, 20, 16)\n",
      "Input shape after positional encoding: (None, 20, 16)\n",
      "Attention output shape: (None, 20, 16)\n",
      "Input shape before positional encoding: (None, 20, 16)\n",
      "Input shape after positional encoding: (None, 20, 16)\n",
      "Attention output shape: (None, 20, 16)\n"
     ]
    }
   ],
   "source": [
    "model = create_transformer_model(input_shape, transformer_layers, num_heads, key_dim, ff_dim, dense_units, dropout_rate, 50)"
   ]
  },
  {
   "cell_type": "code",
   "execution_count": 158,
   "id": "b07840b3-0e4d-4cc1-a185-e24456b02a30",
   "metadata": {},
   "outputs": [
    {
     "data": {
      "text/html": [
       "<pre style=\"white-space:pre;overflow-x:auto;line-height:normal;font-family:Menlo,'DejaVu Sans Mono',consolas,'Courier New',monospace\"><span style=\"font-weight: bold\">Model: \"functional_11\"</span>\n",
       "</pre>\n"
      ],
      "text/plain": [
       "\u001b[1mModel: \"functional_11\"\u001b[0m\n"
      ]
     },
     "metadata": {},
     "output_type": "display_data"
    },
    {
     "data": {
      "text/html": [
       "<pre style=\"white-space:pre;overflow-x:auto;line-height:normal;font-family:Menlo,'DejaVu Sans Mono',consolas,'Courier New',monospace\">┏━━━━━━━━━━━━━━━━━━━━━━━━━━━━━━━━━┳━━━━━━━━━━━━━━━━━━━━━━━━┳━━━━━━━━━━━━━━━┓\n",
       "┃<span style=\"font-weight: bold\"> Layer (type)                    </span>┃<span style=\"font-weight: bold\"> Output Shape           </span>┃<span style=\"font-weight: bold\">       Param # </span>┃\n",
       "┡━━━━━━━━━━━━━━━━━━━━━━━━━━━━━━━━━╇━━━━━━━━━━━━━━━━━━━━━━━━╇━━━━━━━━━━━━━━━┩\n",
       "│ input_layer_13 (<span style=\"color: #0087ff; text-decoration-color: #0087ff\">InputLayer</span>)     │ (<span style=\"color: #00d7ff; text-decoration-color: #00d7ff\">None</span>, <span style=\"color: #00af00; text-decoration-color: #00af00\">20</span>, <span style=\"color: #00af00; text-decoration-color: #00af00\">16</span>)         │             <span style=\"color: #00af00; text-decoration-color: #00af00\">0</span> │\n",
       "├─────────────────────────────────┼────────────────────────┼───────────────┤\n",
       "│ transformer_encoder_11          │ (<span style=\"color: #00d7ff; text-decoration-color: #00d7ff\">None</span>, <span style=\"color: #00af00; text-decoration-color: #00af00\">20</span>, <span style=\"color: #00af00; text-decoration-color: #00af00\">16</span>)         │         <span style=\"color: #00af00; text-decoration-color: #00af00\">8,608</span> │\n",
       "│ (<span style=\"color: #0087ff; text-decoration-color: #0087ff\">TransformerEncoder</span>)            │                        │               │\n",
       "├─────────────────────────────────┼────────────────────────┼───────────────┤\n",
       "│ transformer_encoder_12          │ (<span style=\"color: #00d7ff; text-decoration-color: #00d7ff\">None</span>, <span style=\"color: #00af00; text-decoration-color: #00af00\">20</span>, <span style=\"color: #00af00; text-decoration-color: #00af00\">16</span>)         │         <span style=\"color: #00af00; text-decoration-color: #00af00\">8,608</span> │\n",
       "│ (<span style=\"color: #0087ff; text-decoration-color: #0087ff\">TransformerEncoder</span>)            │                        │               │\n",
       "├─────────────────────────────────┼────────────────────────┼───────────────┤\n",
       "│ transformer_encoder_13          │ (<span style=\"color: #00d7ff; text-decoration-color: #00d7ff\">None</span>, <span style=\"color: #00af00; text-decoration-color: #00af00\">20</span>, <span style=\"color: #00af00; text-decoration-color: #00af00\">16</span>)         │         <span style=\"color: #00af00; text-decoration-color: #00af00\">8,608</span> │\n",
       "│ (<span style=\"color: #0087ff; text-decoration-color: #0087ff\">TransformerEncoder</span>)            │                        │               │\n",
       "├─────────────────────────────────┼────────────────────────┼───────────────┤\n",
       "│ global_average_pooling1d_2      │ (<span style=\"color: #00d7ff; text-decoration-color: #00d7ff\">None</span>, <span style=\"color: #00af00; text-decoration-color: #00af00\">16</span>)             │             <span style=\"color: #00af00; text-decoration-color: #00af00\">0</span> │\n",
       "│ (<span style=\"color: #0087ff; text-decoration-color: #0087ff\">GlobalAveragePooling1D</span>)        │                        │               │\n",
       "├─────────────────────────────────┼────────────────────────┼───────────────┤\n",
       "│ dense_34 (<span style=\"color: #0087ff; text-decoration-color: #0087ff\">Dense</span>)                │ (<span style=\"color: #00d7ff; text-decoration-color: #00d7ff\">None</span>, <span style=\"color: #00af00; text-decoration-color: #00af00\">512</span>)            │         <span style=\"color: #00af00; text-decoration-color: #00af00\">8,704</span> │\n",
       "├─────────────────────────────────┼────────────────────────┼───────────────┤\n",
       "│ dense_35 (<span style=\"color: #0087ff; text-decoration-color: #0087ff\">Dense</span>)                │ (<span style=\"color: #00d7ff; text-decoration-color: #00d7ff\">None</span>, <span style=\"color: #00af00; text-decoration-color: #00af00\">512</span>)            │       <span style=\"color: #00af00; text-decoration-color: #00af00\">262,656</span> │\n",
       "├─────────────────────────────────┼────────────────────────┼───────────────┤\n",
       "│ dense_36 (<span style=\"color: #0087ff; text-decoration-color: #0087ff\">Dense</span>)                │ (<span style=\"color: #00d7ff; text-decoration-color: #00d7ff\">None</span>, <span style=\"color: #00af00; text-decoration-color: #00af00\">1</span>)              │           <span style=\"color: #00af00; text-decoration-color: #00af00\">513</span> │\n",
       "└─────────────────────────────────┴────────────────────────┴───────────────┘\n",
       "</pre>\n"
      ],
      "text/plain": [
       "┏━━━━━━━━━━━━━━━━━━━━━━━━━━━━━━━━━┳━━━━━━━━━━━━━━━━━━━━━━━━┳━━━━━━━━━━━━━━━┓\n",
       "┃\u001b[1m \u001b[0m\u001b[1mLayer (type)                   \u001b[0m\u001b[1m \u001b[0m┃\u001b[1m \u001b[0m\u001b[1mOutput Shape          \u001b[0m\u001b[1m \u001b[0m┃\u001b[1m \u001b[0m\u001b[1m      Param #\u001b[0m\u001b[1m \u001b[0m┃\n",
       "┡━━━━━━━━━━━━━━━━━━━━━━━━━━━━━━━━━╇━━━━━━━━━━━━━━━━━━━━━━━━╇━━━━━━━━━━━━━━━┩\n",
       "│ input_layer_13 (\u001b[38;5;33mInputLayer\u001b[0m)     │ (\u001b[38;5;45mNone\u001b[0m, \u001b[38;5;34m20\u001b[0m, \u001b[38;5;34m16\u001b[0m)         │             \u001b[38;5;34m0\u001b[0m │\n",
       "├─────────────────────────────────┼────────────────────────┼───────────────┤\n",
       "│ transformer_encoder_11          │ (\u001b[38;5;45mNone\u001b[0m, \u001b[38;5;34m20\u001b[0m, \u001b[38;5;34m16\u001b[0m)         │         \u001b[38;5;34m8,608\u001b[0m │\n",
       "│ (\u001b[38;5;33mTransformerEncoder\u001b[0m)            │                        │               │\n",
       "├─────────────────────────────────┼────────────────────────┼───────────────┤\n",
       "│ transformer_encoder_12          │ (\u001b[38;5;45mNone\u001b[0m, \u001b[38;5;34m20\u001b[0m, \u001b[38;5;34m16\u001b[0m)         │         \u001b[38;5;34m8,608\u001b[0m │\n",
       "│ (\u001b[38;5;33mTransformerEncoder\u001b[0m)            │                        │               │\n",
       "├─────────────────────────────────┼────────────────────────┼───────────────┤\n",
       "│ transformer_encoder_13          │ (\u001b[38;5;45mNone\u001b[0m, \u001b[38;5;34m20\u001b[0m, \u001b[38;5;34m16\u001b[0m)         │         \u001b[38;5;34m8,608\u001b[0m │\n",
       "│ (\u001b[38;5;33mTransformerEncoder\u001b[0m)            │                        │               │\n",
       "├─────────────────────────────────┼────────────────────────┼───────────────┤\n",
       "│ global_average_pooling1d_2      │ (\u001b[38;5;45mNone\u001b[0m, \u001b[38;5;34m16\u001b[0m)             │             \u001b[38;5;34m0\u001b[0m │\n",
       "│ (\u001b[38;5;33mGlobalAveragePooling1D\u001b[0m)        │                        │               │\n",
       "├─────────────────────────────────┼────────────────────────┼───────────────┤\n",
       "│ dense_34 (\u001b[38;5;33mDense\u001b[0m)                │ (\u001b[38;5;45mNone\u001b[0m, \u001b[38;5;34m512\u001b[0m)            │         \u001b[38;5;34m8,704\u001b[0m │\n",
       "├─────────────────────────────────┼────────────────────────┼───────────────┤\n",
       "│ dense_35 (\u001b[38;5;33mDense\u001b[0m)                │ (\u001b[38;5;45mNone\u001b[0m, \u001b[38;5;34m512\u001b[0m)            │       \u001b[38;5;34m262,656\u001b[0m │\n",
       "├─────────────────────────────────┼────────────────────────┼───────────────┤\n",
       "│ dense_36 (\u001b[38;5;33mDense\u001b[0m)                │ (\u001b[38;5;45mNone\u001b[0m, \u001b[38;5;34m1\u001b[0m)              │           \u001b[38;5;34m513\u001b[0m │\n",
       "└─────────────────────────────────┴────────────────────────┴───────────────┘\n"
      ]
     },
     "metadata": {},
     "output_type": "display_data"
    },
    {
     "data": {
      "text/html": [
       "<pre style=\"white-space:pre;overflow-x:auto;line-height:normal;font-family:Menlo,'DejaVu Sans Mono',consolas,'Courier New',monospace\"><span style=\"font-weight: bold\"> Total params: </span><span style=\"color: #00af00; text-decoration-color: #00af00\">297,697</span> (1.14 MB)\n",
       "</pre>\n"
      ],
      "text/plain": [
       "\u001b[1m Total params: \u001b[0m\u001b[38;5;34m297,697\u001b[0m (1.14 MB)\n"
      ]
     },
     "metadata": {},
     "output_type": "display_data"
    },
    {
     "data": {
      "text/html": [
       "<pre style=\"white-space:pre;overflow-x:auto;line-height:normal;font-family:Menlo,'DejaVu Sans Mono',consolas,'Courier New',monospace\"><span style=\"font-weight: bold\"> Trainable params: </span><span style=\"color: #00af00; text-decoration-color: #00af00\">297,697</span> (1.14 MB)\n",
       "</pre>\n"
      ],
      "text/plain": [
       "\u001b[1m Trainable params: \u001b[0m\u001b[38;5;34m297,697\u001b[0m (1.14 MB)\n"
      ]
     },
     "metadata": {},
     "output_type": "display_data"
    },
    {
     "data": {
      "text/html": [
       "<pre style=\"white-space:pre;overflow-x:auto;line-height:normal;font-family:Menlo,'DejaVu Sans Mono',consolas,'Courier New',monospace\"><span style=\"font-weight: bold\"> Non-trainable params: </span><span style=\"color: #00af00; text-decoration-color: #00af00\">0</span> (0.00 B)\n",
       "</pre>\n"
      ],
      "text/plain": [
       "\u001b[1m Non-trainable params: \u001b[0m\u001b[38;5;34m0\u001b[0m (0.00 B)\n"
      ]
     },
     "metadata": {},
     "output_type": "display_data"
    }
   ],
   "source": [
    "model.summary()"
   ]
  },
  {
   "cell_type": "code",
   "execution_count": 159,
   "id": "bf9d6036-1a3d-4779-8f65-75442307e9e6",
   "metadata": {},
   "outputs": [
    {
     "data": {
      "text/html": [
       "<pre style=\"white-space:pre;overflow-x:auto;line-height:normal;font-family:Menlo,'DejaVu Sans Mono',consolas,'Courier New',monospace\"><span style=\"font-weight: bold\">Model: \"functional_11\"</span>\n",
       "</pre>\n"
      ],
      "text/plain": [
       "\u001b[1mModel: \"functional_11\"\u001b[0m\n"
      ]
     },
     "metadata": {},
     "output_type": "display_data"
    },
    {
     "data": {
      "text/html": [
       "<pre style=\"white-space:pre;overflow-x:auto;line-height:normal;font-family:Menlo,'DejaVu Sans Mono',consolas,'Courier New',monospace\">┏━━━━━━━━━━━━━━━━━━━━━━━━━━━━━━━━━┳━━━━━━━━━━━━━━━━━━━━━━━━┳━━━━━━━━━━━━━━━┓\n",
       "┃<span style=\"font-weight: bold\"> Layer (type)                    </span>┃<span style=\"font-weight: bold\"> Output Shape           </span>┃<span style=\"font-weight: bold\">       Param # </span>┃\n",
       "┡━━━━━━━━━━━━━━━━━━━━━━━━━━━━━━━━━╇━━━━━━━━━━━━━━━━━━━━━━━━╇━━━━━━━━━━━━━━━┩\n",
       "│ input_layer_13 (<span style=\"color: #0087ff; text-decoration-color: #0087ff\">InputLayer</span>)     │ (<span style=\"color: #00d7ff; text-decoration-color: #00d7ff\">None</span>, <span style=\"color: #00af00; text-decoration-color: #00af00\">20</span>, <span style=\"color: #00af00; text-decoration-color: #00af00\">16</span>)         │             <span style=\"color: #00af00; text-decoration-color: #00af00\">0</span> │\n",
       "├─────────────────────────────────┼────────────────────────┼───────────────┤\n",
       "│ transformer_encoder_11          │ (<span style=\"color: #00d7ff; text-decoration-color: #00d7ff\">None</span>, <span style=\"color: #00af00; text-decoration-color: #00af00\">20</span>, <span style=\"color: #00af00; text-decoration-color: #00af00\">16</span>)         │         <span style=\"color: #00af00; text-decoration-color: #00af00\">8,608</span> │\n",
       "│ (<span style=\"color: #0087ff; text-decoration-color: #0087ff\">TransformerEncoder</span>)            │                        │               │\n",
       "├─────────────────────────────────┼────────────────────────┼───────────────┤\n",
       "│ transformer_encoder_12          │ (<span style=\"color: #00d7ff; text-decoration-color: #00d7ff\">None</span>, <span style=\"color: #00af00; text-decoration-color: #00af00\">20</span>, <span style=\"color: #00af00; text-decoration-color: #00af00\">16</span>)         │         <span style=\"color: #00af00; text-decoration-color: #00af00\">8,608</span> │\n",
       "│ (<span style=\"color: #0087ff; text-decoration-color: #0087ff\">TransformerEncoder</span>)            │                        │               │\n",
       "├─────────────────────────────────┼────────────────────────┼───────────────┤\n",
       "│ transformer_encoder_13          │ (<span style=\"color: #00d7ff; text-decoration-color: #00d7ff\">None</span>, <span style=\"color: #00af00; text-decoration-color: #00af00\">20</span>, <span style=\"color: #00af00; text-decoration-color: #00af00\">16</span>)         │         <span style=\"color: #00af00; text-decoration-color: #00af00\">8,608</span> │\n",
       "│ (<span style=\"color: #0087ff; text-decoration-color: #0087ff\">TransformerEncoder</span>)            │                        │               │\n",
       "├─────────────────────────────────┼────────────────────────┼───────────────┤\n",
       "│ global_average_pooling1d_2      │ (<span style=\"color: #00d7ff; text-decoration-color: #00d7ff\">None</span>, <span style=\"color: #00af00; text-decoration-color: #00af00\">16</span>)             │             <span style=\"color: #00af00; text-decoration-color: #00af00\">0</span> │\n",
       "│ (<span style=\"color: #0087ff; text-decoration-color: #0087ff\">GlobalAveragePooling1D</span>)        │                        │               │\n",
       "├─────────────────────────────────┼────────────────────────┼───────────────┤\n",
       "│ dense_34 (<span style=\"color: #0087ff; text-decoration-color: #0087ff\">Dense</span>)                │ (<span style=\"color: #00d7ff; text-decoration-color: #00d7ff\">None</span>, <span style=\"color: #00af00; text-decoration-color: #00af00\">512</span>)            │         <span style=\"color: #00af00; text-decoration-color: #00af00\">8,704</span> │\n",
       "├─────────────────────────────────┼────────────────────────┼───────────────┤\n",
       "│ dense_35 (<span style=\"color: #0087ff; text-decoration-color: #0087ff\">Dense</span>)                │ (<span style=\"color: #00d7ff; text-decoration-color: #00d7ff\">None</span>, <span style=\"color: #00af00; text-decoration-color: #00af00\">512</span>)            │       <span style=\"color: #00af00; text-decoration-color: #00af00\">262,656</span> │\n",
       "├─────────────────────────────────┼────────────────────────┼───────────────┤\n",
       "│ dense_36 (<span style=\"color: #0087ff; text-decoration-color: #0087ff\">Dense</span>)                │ (<span style=\"color: #00d7ff; text-decoration-color: #00d7ff\">None</span>, <span style=\"color: #00af00; text-decoration-color: #00af00\">1</span>)              │           <span style=\"color: #00af00; text-decoration-color: #00af00\">513</span> │\n",
       "└─────────────────────────────────┴────────────────────────┴───────────────┘\n",
       "</pre>\n"
      ],
      "text/plain": [
       "┏━━━━━━━━━━━━━━━━━━━━━━━━━━━━━━━━━┳━━━━━━━━━━━━━━━━━━━━━━━━┳━━━━━━━━━━━━━━━┓\n",
       "┃\u001b[1m \u001b[0m\u001b[1mLayer (type)                   \u001b[0m\u001b[1m \u001b[0m┃\u001b[1m \u001b[0m\u001b[1mOutput Shape          \u001b[0m\u001b[1m \u001b[0m┃\u001b[1m \u001b[0m\u001b[1m      Param #\u001b[0m\u001b[1m \u001b[0m┃\n",
       "┡━━━━━━━━━━━━━━━━━━━━━━━━━━━━━━━━━╇━━━━━━━━━━━━━━━━━━━━━━━━╇━━━━━━━━━━━━━━━┩\n",
       "│ input_layer_13 (\u001b[38;5;33mInputLayer\u001b[0m)     │ (\u001b[38;5;45mNone\u001b[0m, \u001b[38;5;34m20\u001b[0m, \u001b[38;5;34m16\u001b[0m)         │             \u001b[38;5;34m0\u001b[0m │\n",
       "├─────────────────────────────────┼────────────────────────┼───────────────┤\n",
       "│ transformer_encoder_11          │ (\u001b[38;5;45mNone\u001b[0m, \u001b[38;5;34m20\u001b[0m, \u001b[38;5;34m16\u001b[0m)         │         \u001b[38;5;34m8,608\u001b[0m │\n",
       "│ (\u001b[38;5;33mTransformerEncoder\u001b[0m)            │                        │               │\n",
       "├─────────────────────────────────┼────────────────────────┼───────────────┤\n",
       "│ transformer_encoder_12          │ (\u001b[38;5;45mNone\u001b[0m, \u001b[38;5;34m20\u001b[0m, \u001b[38;5;34m16\u001b[0m)         │         \u001b[38;5;34m8,608\u001b[0m │\n",
       "│ (\u001b[38;5;33mTransformerEncoder\u001b[0m)            │                        │               │\n",
       "├─────────────────────────────────┼────────────────────────┼───────────────┤\n",
       "│ transformer_encoder_13          │ (\u001b[38;5;45mNone\u001b[0m, \u001b[38;5;34m20\u001b[0m, \u001b[38;5;34m16\u001b[0m)         │         \u001b[38;5;34m8,608\u001b[0m │\n",
       "│ (\u001b[38;5;33mTransformerEncoder\u001b[0m)            │                        │               │\n",
       "├─────────────────────────────────┼────────────────────────┼───────────────┤\n",
       "│ global_average_pooling1d_2      │ (\u001b[38;5;45mNone\u001b[0m, \u001b[38;5;34m16\u001b[0m)             │             \u001b[38;5;34m0\u001b[0m │\n",
       "│ (\u001b[38;5;33mGlobalAveragePooling1D\u001b[0m)        │                        │               │\n",
       "├─────────────────────────────────┼────────────────────────┼───────────────┤\n",
       "│ dense_34 (\u001b[38;5;33mDense\u001b[0m)                │ (\u001b[38;5;45mNone\u001b[0m, \u001b[38;5;34m512\u001b[0m)            │         \u001b[38;5;34m8,704\u001b[0m │\n",
       "├─────────────────────────────────┼────────────────────────┼───────────────┤\n",
       "│ dense_35 (\u001b[38;5;33mDense\u001b[0m)                │ (\u001b[38;5;45mNone\u001b[0m, \u001b[38;5;34m512\u001b[0m)            │       \u001b[38;5;34m262,656\u001b[0m │\n",
       "├─────────────────────────────────┼────────────────────────┼───────────────┤\n",
       "│ dense_36 (\u001b[38;5;33mDense\u001b[0m)                │ (\u001b[38;5;45mNone\u001b[0m, \u001b[38;5;34m1\u001b[0m)              │           \u001b[38;5;34m513\u001b[0m │\n",
       "└─────────────────────────────────┴────────────────────────┴───────────────┘\n"
      ]
     },
     "metadata": {},
     "output_type": "display_data"
    },
    {
     "data": {
      "text/html": [
       "<pre style=\"white-space:pre;overflow-x:auto;line-height:normal;font-family:Menlo,'DejaVu Sans Mono',consolas,'Courier New',monospace\"><span style=\"font-weight: bold\"> Total params: </span><span style=\"color: #00af00; text-decoration-color: #00af00\">297,697</span> (1.14 MB)\n",
       "</pre>\n"
      ],
      "text/plain": [
       "\u001b[1m Total params: \u001b[0m\u001b[38;5;34m297,697\u001b[0m (1.14 MB)\n"
      ]
     },
     "metadata": {},
     "output_type": "display_data"
    },
    {
     "data": {
      "text/html": [
       "<pre style=\"white-space:pre;overflow-x:auto;line-height:normal;font-family:Menlo,'DejaVu Sans Mono',consolas,'Courier New',monospace\"><span style=\"font-weight: bold\"> Trainable params: </span><span style=\"color: #00af00; text-decoration-color: #00af00\">297,697</span> (1.14 MB)\n",
       "</pre>\n"
      ],
      "text/plain": [
       "\u001b[1m Trainable params: \u001b[0m\u001b[38;5;34m297,697\u001b[0m (1.14 MB)\n"
      ]
     },
     "metadata": {},
     "output_type": "display_data"
    },
    {
     "data": {
      "text/html": [
       "<pre style=\"white-space:pre;overflow-x:auto;line-height:normal;font-family:Menlo,'DejaVu Sans Mono',consolas,'Courier New',monospace\"><span style=\"font-weight: bold\"> Non-trainable params: </span><span style=\"color: #00af00; text-decoration-color: #00af00\">0</span> (0.00 B)\n",
       "</pre>\n"
      ],
      "text/plain": [
       "\u001b[1m Non-trainable params: \u001b[0m\u001b[38;5;34m0\u001b[0m (0.00 B)\n"
      ]
     },
     "metadata": {},
     "output_type": "display_data"
    }
   ],
   "source": [
    "model.compile(optimizer=Adam(learning_rate=0.001), loss='mse', metrics=['mae'])\n",
    "model.summary()"
   ]
  },
  {
   "cell_type": "code",
   "execution_count": 160,
   "id": "6c728569-44f1-4903-a1fc-050be2f159b0",
   "metadata": {},
   "outputs": [
    {
     "name": "stdout",
     "output_type": "stream",
     "text": [
      "Epoch 1/150\n",
      "Input shape before positional encoding: (None, 20, 16)\n",
      "Input shape after positional encoding: (None, 20, 16)\n",
      "Attention output shape: (None, 20, 16)\n",
      "Input shape before positional encoding: (None, 20, 16)\n",
      "Input shape after positional encoding: (None, 20, 16)\n",
      "Attention output shape: (None, 20, 16)\n",
      "Input shape before positional encoding: (None, 20, 16)\n",
      "Input shape after positional encoding: (None, 20, 16)\n",
      "Attention output shape: (None, 20, 16)\n",
      "Input shape before positional encoding: (None, 20, 16)\n",
      "Input shape after positional encoding: (None, 20, 16)\n",
      "Attention output shape: (None, 20, 16)\n",
      "Input shape before positional encoding: (None, 20, 16)\n",
      "Input shape after positional encoding: (None, 20, 16)\n",
      "Attention output shape: (None, 20, 16)\n",
      "Input shape before positional encoding: (None, 20, 16)\n",
      "Input shape after positional encoding: (None, 20, 16)\n",
      "Attention output shape: (None, 20, 16)\n"
     ]
    },
    {
     "ename": "TypeError",
     "evalue": "<tf.Tensor 'positional_encoding_10/Const:0' shape=(50, 16) dtype=float32> is out of scope and cannot be used here. Use return values, explicit Python locals or TensorFlow collections to access it.\nPlease see https://www.tensorflow.org/guide/function#all_outputs_of_a_tffunction_must_be_return_values for more information.\n\n<tf.Tensor 'positional_encoding_10/Const:0' shape=(50, 16) dtype=float32> was defined here:\n    File \"C:\\Users\\Divay Nagpal\\anaconda3\\envs\\python310clone\\lib\\runpy.py\", line 196, in _run_module_as_main\n    File \"C:\\Users\\Divay Nagpal\\anaconda3\\envs\\python310clone\\lib\\runpy.py\", line 86, in _run_code\n    File \"C:\\Users\\Divay Nagpal\\anaconda3\\envs\\python310clone\\lib\\site-packages\\ipykernel_launcher.py\", line 18, in <module>\n    File \"C:\\Users\\Divay Nagpal\\anaconda3\\envs\\python310clone\\lib\\site-packages\\traitlets\\config\\application.py\", line 1075, in launch_instance\n    File \"C:\\Users\\Divay Nagpal\\anaconda3\\envs\\python310clone\\lib\\site-packages\\ipykernel\\kernelapp.py\", line 739, in start\n    File \"C:\\Users\\Divay Nagpal\\anaconda3\\envs\\python310clone\\lib\\site-packages\\tornado\\platform\\asyncio.py\", line 205, in start\n    File \"C:\\Users\\Divay Nagpal\\anaconda3\\envs\\python310clone\\lib\\asyncio\\base_events.py\", line 603, in run_forever\n    File \"C:\\Users\\Divay Nagpal\\anaconda3\\envs\\python310clone\\lib\\asyncio\\base_events.py\", line 1909, in _run_once\n    File \"C:\\Users\\Divay Nagpal\\anaconda3\\envs\\python310clone\\lib\\asyncio\\events.py\", line 80, in _run\n    File \"C:\\Users\\Divay Nagpal\\anaconda3\\envs\\python310clone\\lib\\site-packages\\ipykernel\\kernelbase.py\", line 545, in dispatch_queue\n    File \"C:\\Users\\Divay Nagpal\\anaconda3\\envs\\python310clone\\lib\\site-packages\\ipykernel\\kernelbase.py\", line 534, in process_one\n    File \"C:\\Users\\Divay Nagpal\\anaconda3\\envs\\python310clone\\lib\\site-packages\\ipykernel\\kernelbase.py\", line 437, in dispatch_shell\n    File \"C:\\Users\\Divay Nagpal\\anaconda3\\envs\\python310clone\\lib\\site-packages\\ipykernel\\ipkernel.py\", line 362, in execute_request\n    File \"C:\\Users\\Divay Nagpal\\anaconda3\\envs\\python310clone\\lib\\site-packages\\ipykernel\\kernelbase.py\", line 778, in execute_request\n    File \"C:\\Users\\Divay Nagpal\\anaconda3\\envs\\python310clone\\lib\\site-packages\\ipykernel\\ipkernel.py\", line 449, in do_execute\n    File \"C:\\Users\\Divay Nagpal\\anaconda3\\envs\\python310clone\\lib\\site-packages\\ipykernel\\zmqshell.py\", line 549, in run_cell\n    File \"C:\\Users\\Divay Nagpal\\anaconda3\\envs\\python310clone\\lib\\site-packages\\IPython\\core\\interactiveshell.py\", line 3075, in run_cell\n    File \"C:\\Users\\Divay Nagpal\\anaconda3\\envs\\python310clone\\lib\\site-packages\\IPython\\core\\interactiveshell.py\", line 3130, in _run_cell\n    File \"C:\\Users\\Divay Nagpal\\anaconda3\\envs\\python310clone\\lib\\site-packages\\IPython\\core\\async_helpers.py\", line 128, in _pseudo_sync_runner\n    File \"C:\\Users\\Divay Nagpal\\anaconda3\\envs\\python310clone\\lib\\site-packages\\IPython\\core\\interactiveshell.py\", line 3334, in run_cell_async\n    File \"C:\\Users\\Divay Nagpal\\anaconda3\\envs\\python310clone\\lib\\site-packages\\IPython\\core\\interactiveshell.py\", line 3517, in run_ast_nodes\n    File \"C:\\Users\\Divay Nagpal\\anaconda3\\envs\\python310clone\\lib\\site-packages\\IPython\\core\\interactiveshell.py\", line 3577, in run_code\n    File \"C:\\Users\\Divay Nagpal\\AppData\\Local\\Temp\\ipykernel_13904\\2689084510.py\", line 1, in <module>\n    File \"C:\\Users\\Divay Nagpal\\AppData\\Local\\Temp\\ipykernel_13904\\2481964103.py\", line 11, in create_transformer_model\n    File \"C:\\Users\\Divay Nagpal\\anaconda3\\envs\\python310clone\\lib\\site-packages\\keras\\src\\utils\\traceback_utils.py\", line 117, in error_handler\n    File \"C:\\Users\\Divay Nagpal\\anaconda3\\envs\\python310clone\\lib\\site-packages\\keras\\src\\layers\\layer.py\", line 826, in __call__\n    File \"C:\\Users\\Divay Nagpal\\anaconda3\\envs\\python310clone\\lib\\site-packages\\keras\\src\\layers\\layer.py\", line 1374, in _maybe_build\n    File \"C:\\Users\\Divay Nagpal\\anaconda3\\envs\\python310clone\\lib\\site-packages\\keras\\src\\backend\\tensorflow\\core.py\", line 212, in compute_output_spec\n    File \"C:\\Users\\Divay Nagpal\\AppData\\Local\\Temp\\ipykernel_13904\\2823449933.py\", line 18, in call\n    File \"C:\\Users\\Divay Nagpal\\anaconda3\\envs\\python310clone\\lib\\site-packages\\keras\\src\\utils\\traceback_utils.py\", line 117, in error_handler\n    File \"C:\\Users\\Divay Nagpal\\anaconda3\\envs\\python310clone\\lib\\site-packages\\keras\\src\\layers\\layer.py\", line 826, in __call__\n    File \"C:\\Users\\Divay Nagpal\\anaconda3\\envs\\python310clone\\lib\\site-packages\\keras\\src\\layers\\layer.py\", line 1365, in _maybe_build\n    File \"C:\\Users\\Divay Nagpal\\anaconda3\\envs\\python310clone\\lib\\site-packages\\keras\\src\\layers\\layer.py\", line 226, in build_wrapper\n    File \"C:\\Users\\Divay Nagpal\\AppData\\Local\\Temp\\ipykernel_13904\\1160251778.py\", line 14, in build\n    File \"C:\\Users\\Divay Nagpal\\anaconda3\\envs\\python310clone\\lib\\site-packages\\tensorflow\\python\\ops\\weak_tensor_ops.py\", line 142, in wrapper\n    File \"C:\\Users\\Divay Nagpal\\anaconda3\\envs\\python310clone\\lib\\site-packages\\tensorflow\\python\\framework\\constant_op.py\", line 276, in constant\n    File \"C:\\Users\\Divay Nagpal\\anaconda3\\envs\\python310clone\\lib\\site-packages\\tensorflow\\python\\framework\\constant_op.py\", line 291, in _constant_impl\n    File \"C:\\Users\\Divay Nagpal\\anaconda3\\envs\\python310clone\\lib\\site-packages\\tensorflow\\python\\framework\\ops.py\", line 289, in _create_graph_constant\n    File \"C:\\Users\\Divay Nagpal\\anaconda3\\envs\\python310clone\\lib\\site-packages\\tensorflow\\python\\framework\\func_graph.py\", line 670, in _create_op_internal\n    File \"C:\\Users\\Divay Nagpal\\anaconda3\\envs\\python310clone\\lib\\site-packages\\tensorflow\\python\\framework\\ops.py\", line 2701, in _create_op_internal\n    File \"C:\\Users\\Divay Nagpal\\anaconda3\\envs\\python310clone\\lib\\site-packages\\tensorflow\\python\\framework\\ops.py\", line 1196, in from_node_def\n\nThe tensor <tf.Tensor 'positional_encoding_10/Const:0' shape=(50, 16) dtype=float32> cannot be accessed from here, because it was defined in FuncGraph(name=scratch_graph_20, id=2358024992960), which is out of scope.",
     "output_type": "error",
     "traceback": [
      "\u001b[1;31m---------------------------------------------------------------------------\u001b[0m",
      "\u001b[1;31mTypeError\u001b[0m                                 Traceback (most recent call last)",
      "Cell \u001b[1;32mIn[160], line 8\u001b[0m\n\u001b[0;32m      1\u001b[0m early_stopping \u001b[38;5;241m=\u001b[39m EarlyStopping(\n\u001b[0;32m      2\u001b[0m     monitor\u001b[38;5;241m=\u001b[39m\u001b[38;5;124m'\u001b[39m\u001b[38;5;124mval_loss\u001b[39m\u001b[38;5;124m'\u001b[39m,          \u001b[38;5;66;03m# The metric to monitor (could also be 'val_accuracy')\u001b[39;00m\n\u001b[0;32m      3\u001b[0m     patience\u001b[38;5;241m=\u001b[39m\u001b[38;5;241m10\u001b[39m,                 \u001b[38;5;66;03m# Number of epochs with no improvement to wait before stopping\u001b[39;00m\n\u001b[0;32m      4\u001b[0m     verbose\u001b[38;5;241m=\u001b[39m\u001b[38;5;241m1\u001b[39m,                   \u001b[38;5;66;03m# To print messages when stopping early\u001b[39;00m\n\u001b[0;32m      5\u001b[0m     restore_best_weights\u001b[38;5;241m=\u001b[39m\u001b[38;5;28;01mTrue\u001b[39;00m    \u001b[38;5;66;03m# Restore the best weights once training is stopped\u001b[39;00m\n\u001b[0;32m      6\u001b[0m )\n\u001b[0;32m      7\u001b[0m \u001b[38;5;66;03m#, callbacks=[early_stopping]\u001b[39;00m\n\u001b[1;32m----> 8\u001b[0m history \u001b[38;5;241m=\u001b[39m \u001b[43mmodel\u001b[49m\u001b[38;5;241;43m.\u001b[39;49m\u001b[43mfit\u001b[49m\u001b[43m(\u001b[49m\u001b[43mdf_train_sequenced\u001b[49m\u001b[43m,\u001b[49m\u001b[43mtrain_target\u001b[49m\u001b[43m \u001b[49m\u001b[43m,\u001b[49m\u001b[43m \u001b[49m\u001b[43mvalidation_data\u001b[49m\u001b[38;5;241;43m=\u001b[39;49m\u001b[43m(\u001b[49m\u001b[43mdf_val_sequenced\u001b[49m\u001b[43m,\u001b[49m\u001b[43m \u001b[49m\u001b[43mval_target\u001b[49m\u001b[43m)\u001b[49m\u001b[43m,\u001b[49m\u001b[43m \u001b[49m\u001b[43mepochs\u001b[49m\u001b[38;5;241;43m=\u001b[39;49m\u001b[38;5;241;43m150\u001b[39;49m\u001b[43m,\u001b[49m\u001b[43m \u001b[49m\u001b[43mbatch_size\u001b[49m\u001b[38;5;241;43m=\u001b[39;49m\u001b[38;5;28;43;01mNone\u001b[39;49;00m\u001b[43m)\u001b[49m\n",
      "File \u001b[1;32m~\\anaconda3\\envs\\python310clone\\lib\\site-packages\\keras\\src\\utils\\traceback_utils.py:122\u001b[0m, in \u001b[0;36mfilter_traceback.<locals>.error_handler\u001b[1;34m(*args, **kwargs)\u001b[0m\n\u001b[0;32m    119\u001b[0m     filtered_tb \u001b[38;5;241m=\u001b[39m _process_traceback_frames(e\u001b[38;5;241m.\u001b[39m__traceback__)\n\u001b[0;32m    120\u001b[0m     \u001b[38;5;66;03m# To get the full stack trace, call:\u001b[39;00m\n\u001b[0;32m    121\u001b[0m     \u001b[38;5;66;03m# `keras.config.disable_traceback_filtering()`\u001b[39;00m\n\u001b[1;32m--> 122\u001b[0m     \u001b[38;5;28;01mraise\u001b[39;00m e\u001b[38;5;241m.\u001b[39mwith_traceback(filtered_tb) \u001b[38;5;28;01mfrom\u001b[39;00m \u001b[38;5;28;01mNone\u001b[39;00m\n\u001b[0;32m    123\u001b[0m \u001b[38;5;28;01mfinally\u001b[39;00m:\n\u001b[0;32m    124\u001b[0m     \u001b[38;5;28;01mdel\u001b[39;00m filtered_tb\n",
      "File \u001b[1;32m~\\anaconda3\\envs\\python310clone\\lib\\site-packages\\tensorflow\\python\\eager\\execute.py:53\u001b[0m, in \u001b[0;36mquick_execute\u001b[1;34m(op_name, num_outputs, inputs, attrs, ctx, name)\u001b[0m\n\u001b[0;32m     51\u001b[0m \u001b[38;5;28;01mtry\u001b[39;00m:\n\u001b[0;32m     52\u001b[0m   ctx\u001b[38;5;241m.\u001b[39mensure_initialized()\n\u001b[1;32m---> 53\u001b[0m   tensors \u001b[38;5;241m=\u001b[39m pywrap_tfe\u001b[38;5;241m.\u001b[39mTFE_Py_Execute(ctx\u001b[38;5;241m.\u001b[39m_handle, device_name, op_name,\n\u001b[0;32m     54\u001b[0m                                       inputs, attrs, num_outputs)\n\u001b[0;32m     55\u001b[0m \u001b[38;5;28;01mexcept\u001b[39;00m core\u001b[38;5;241m.\u001b[39m_NotOkStatusException \u001b[38;5;28;01mas\u001b[39;00m e:\n\u001b[0;32m     56\u001b[0m   \u001b[38;5;28;01mif\u001b[39;00m name \u001b[38;5;129;01mis\u001b[39;00m \u001b[38;5;129;01mnot\u001b[39;00m \u001b[38;5;28;01mNone\u001b[39;00m:\n",
      "\u001b[1;31mTypeError\u001b[0m: <tf.Tensor 'positional_encoding_10/Const:0' shape=(50, 16) dtype=float32> is out of scope and cannot be used here. Use return values, explicit Python locals or TensorFlow collections to access it.\nPlease see https://www.tensorflow.org/guide/function#all_outputs_of_a_tffunction_must_be_return_values for more information.\n\n<tf.Tensor 'positional_encoding_10/Const:0' shape=(50, 16) dtype=float32> was defined here:\n    File \"C:\\Users\\Divay Nagpal\\anaconda3\\envs\\python310clone\\lib\\runpy.py\", line 196, in _run_module_as_main\n    File \"C:\\Users\\Divay Nagpal\\anaconda3\\envs\\python310clone\\lib\\runpy.py\", line 86, in _run_code\n    File \"C:\\Users\\Divay Nagpal\\anaconda3\\envs\\python310clone\\lib\\site-packages\\ipykernel_launcher.py\", line 18, in <module>\n    File \"C:\\Users\\Divay Nagpal\\anaconda3\\envs\\python310clone\\lib\\site-packages\\traitlets\\config\\application.py\", line 1075, in launch_instance\n    File \"C:\\Users\\Divay Nagpal\\anaconda3\\envs\\python310clone\\lib\\site-packages\\ipykernel\\kernelapp.py\", line 739, in start\n    File \"C:\\Users\\Divay Nagpal\\anaconda3\\envs\\python310clone\\lib\\site-packages\\tornado\\platform\\asyncio.py\", line 205, in start\n    File \"C:\\Users\\Divay Nagpal\\anaconda3\\envs\\python310clone\\lib\\asyncio\\base_events.py\", line 603, in run_forever\n    File \"C:\\Users\\Divay Nagpal\\anaconda3\\envs\\python310clone\\lib\\asyncio\\base_events.py\", line 1909, in _run_once\n    File \"C:\\Users\\Divay Nagpal\\anaconda3\\envs\\python310clone\\lib\\asyncio\\events.py\", line 80, in _run\n    File \"C:\\Users\\Divay Nagpal\\anaconda3\\envs\\python310clone\\lib\\site-packages\\ipykernel\\kernelbase.py\", line 545, in dispatch_queue\n    File \"C:\\Users\\Divay Nagpal\\anaconda3\\envs\\python310clone\\lib\\site-packages\\ipykernel\\kernelbase.py\", line 534, in process_one\n    File \"C:\\Users\\Divay Nagpal\\anaconda3\\envs\\python310clone\\lib\\site-packages\\ipykernel\\kernelbase.py\", line 437, in dispatch_shell\n    File \"C:\\Users\\Divay Nagpal\\anaconda3\\envs\\python310clone\\lib\\site-packages\\ipykernel\\ipkernel.py\", line 362, in execute_request\n    File \"C:\\Users\\Divay Nagpal\\anaconda3\\envs\\python310clone\\lib\\site-packages\\ipykernel\\kernelbase.py\", line 778, in execute_request\n    File \"C:\\Users\\Divay Nagpal\\anaconda3\\envs\\python310clone\\lib\\site-packages\\ipykernel\\ipkernel.py\", line 449, in do_execute\n    File \"C:\\Users\\Divay Nagpal\\anaconda3\\envs\\python310clone\\lib\\site-packages\\ipykernel\\zmqshell.py\", line 549, in run_cell\n    File \"C:\\Users\\Divay Nagpal\\anaconda3\\envs\\python310clone\\lib\\site-packages\\IPython\\core\\interactiveshell.py\", line 3075, in run_cell\n    File \"C:\\Users\\Divay Nagpal\\anaconda3\\envs\\python310clone\\lib\\site-packages\\IPython\\core\\interactiveshell.py\", line 3130, in _run_cell\n    File \"C:\\Users\\Divay Nagpal\\anaconda3\\envs\\python310clone\\lib\\site-packages\\IPython\\core\\async_helpers.py\", line 128, in _pseudo_sync_runner\n    File \"C:\\Users\\Divay Nagpal\\anaconda3\\envs\\python310clone\\lib\\site-packages\\IPython\\core\\interactiveshell.py\", line 3334, in run_cell_async\n    File \"C:\\Users\\Divay Nagpal\\anaconda3\\envs\\python310clone\\lib\\site-packages\\IPython\\core\\interactiveshell.py\", line 3517, in run_ast_nodes\n    File \"C:\\Users\\Divay Nagpal\\anaconda3\\envs\\python310clone\\lib\\site-packages\\IPython\\core\\interactiveshell.py\", line 3577, in run_code\n    File \"C:\\Users\\Divay Nagpal\\AppData\\Local\\Temp\\ipykernel_13904\\2689084510.py\", line 1, in <module>\n    File \"C:\\Users\\Divay Nagpal\\AppData\\Local\\Temp\\ipykernel_13904\\2481964103.py\", line 11, in create_transformer_model\n    File \"C:\\Users\\Divay Nagpal\\anaconda3\\envs\\python310clone\\lib\\site-packages\\keras\\src\\utils\\traceback_utils.py\", line 117, in error_handler\n    File \"C:\\Users\\Divay Nagpal\\anaconda3\\envs\\python310clone\\lib\\site-packages\\keras\\src\\layers\\layer.py\", line 826, in __call__\n    File \"C:\\Users\\Divay Nagpal\\anaconda3\\envs\\python310clone\\lib\\site-packages\\keras\\src\\layers\\layer.py\", line 1374, in _maybe_build\n    File \"C:\\Users\\Divay Nagpal\\anaconda3\\envs\\python310clone\\lib\\site-packages\\keras\\src\\backend\\tensorflow\\core.py\", line 212, in compute_output_spec\n    File \"C:\\Users\\Divay Nagpal\\AppData\\Local\\Temp\\ipykernel_13904\\2823449933.py\", line 18, in call\n    File \"C:\\Users\\Divay Nagpal\\anaconda3\\envs\\python310clone\\lib\\site-packages\\keras\\src\\utils\\traceback_utils.py\", line 117, in error_handler\n    File \"C:\\Users\\Divay Nagpal\\anaconda3\\envs\\python310clone\\lib\\site-packages\\keras\\src\\layers\\layer.py\", line 826, in __call__\n    File \"C:\\Users\\Divay Nagpal\\anaconda3\\envs\\python310clone\\lib\\site-packages\\keras\\src\\layers\\layer.py\", line 1365, in _maybe_build\n    File \"C:\\Users\\Divay Nagpal\\anaconda3\\envs\\python310clone\\lib\\site-packages\\keras\\src\\layers\\layer.py\", line 226, in build_wrapper\n    File \"C:\\Users\\Divay Nagpal\\AppData\\Local\\Temp\\ipykernel_13904\\1160251778.py\", line 14, in build\n    File \"C:\\Users\\Divay Nagpal\\anaconda3\\envs\\python310clone\\lib\\site-packages\\tensorflow\\python\\ops\\weak_tensor_ops.py\", line 142, in wrapper\n    File \"C:\\Users\\Divay Nagpal\\anaconda3\\envs\\python310clone\\lib\\site-packages\\tensorflow\\python\\framework\\constant_op.py\", line 276, in constant\n    File \"C:\\Users\\Divay Nagpal\\anaconda3\\envs\\python310clone\\lib\\site-packages\\tensorflow\\python\\framework\\constant_op.py\", line 291, in _constant_impl\n    File \"C:\\Users\\Divay Nagpal\\anaconda3\\envs\\python310clone\\lib\\site-packages\\tensorflow\\python\\framework\\ops.py\", line 289, in _create_graph_constant\n    File \"C:\\Users\\Divay Nagpal\\anaconda3\\envs\\python310clone\\lib\\site-packages\\tensorflow\\python\\framework\\func_graph.py\", line 670, in _create_op_internal\n    File \"C:\\Users\\Divay Nagpal\\anaconda3\\envs\\python310clone\\lib\\site-packages\\tensorflow\\python\\framework\\ops.py\", line 2701, in _create_op_internal\n    File \"C:\\Users\\Divay Nagpal\\anaconda3\\envs\\python310clone\\lib\\site-packages\\tensorflow\\python\\framework\\ops.py\", line 1196, in from_node_def\n\nThe tensor <tf.Tensor 'positional_encoding_10/Const:0' shape=(50, 16) dtype=float32> cannot be accessed from here, because it was defined in FuncGraph(name=scratch_graph_20, id=2358024992960), which is out of scope."
     ]
    }
   ],
   "source": [
    "early_stopping = EarlyStopping(\n",
    "    monitor='val_loss',          # The metric to monitor (could also be 'val_accuracy')\n",
    "    patience=10,                 # Number of epochs with no improvement to wait before stopping\n",
    "    verbose=1,                   # To print messages when stopping early\n",
    "    restore_best_weights=True    # Restore the best weights once training is stopped\n",
    ")\n",
    "#, callbacks=[early_stopping]\n",
    "history = model.fit(df_train_sequenced,train_target , validation_data=(df_val_sequenced, val_target), epochs=150, batch_size=None)\n",
    "\n",
    "# Prediction"
   ]
  },
  {
   "cell_type": "code",
   "execution_count": 145,
   "id": "0b0c9e01-3a92-42aa-96fb-40ca1e2dfe8a",
   "metadata": {},
   "outputs": [
    {
     "data": {
      "text/plain": [
       "(949, 20, 16)"
      ]
     },
     "execution_count": 145,
     "metadata": {},
     "output_type": "execute_result"
    }
   ],
   "source": [
    "df_train_sequenced.shape"
   ]
  },
  {
   "cell_type": "code",
   "execution_count": null,
   "id": "f451893c-f259-4e7b-9b41-1053c802d191",
   "metadata": {},
   "outputs": [],
   "source": []
  },
  {
   "cell_type": "code",
   "execution_count": null,
   "id": "0326ce8a-3c1f-49a7-a6fc-e0d5e6b7c25a",
   "metadata": {},
   "outputs": [],
   "source": []
  },
  {
   "cell_type": "code",
   "execution_count": null,
   "id": "23dbc8fa-dd8c-4efa-a605-8bde4fdfafb1",
   "metadata": {},
   "outputs": [],
   "source": []
  },
  {
   "cell_type": "code",
   "execution_count": null,
   "id": "14d695a6-fcdf-456a-9e82-c7825b753737",
   "metadata": {},
   "outputs": [],
   "source": []
  },
  {
   "cell_type": "code",
   "execution_count": 83,
   "id": "d75b80a1-3e3d-428e-afca-a7491bba4b7b",
   "metadata": {},
   "outputs": [],
   "source": [
    "class StockPriceDataset(Dataset):\n",
    "    def __init__(self, data, sequence_length):\n",
    "        self.data = data\n",
    "        self.sequence_length = sequence_length\n",
    "\n",
    "    def __len__(self):\n",
    "        return len(self.data) - self.sequence_length\n",
    "\n",
    "    def __getitem__(self, idx):\n",
    "        seq = self.data[idx:idx + self.sequence_length, :-1]  # Exclude target ('Scaled_Close')\n",
    "        target = self.data[idx + self.sequence_length, -1]  # 'Scaled_Close' as target\n",
    "        return torch.tensor(seq, dtype=torch.float32), torch.tensor(target, dtype=torch.float32)\n"
   ]
  },
  {
   "cell_type": "code",
   "execution_count": 84,
   "id": "27f80d21-b0f0-4d57-8788-43d8fedfb757",
   "metadata": {},
   "outputs": [],
   "source": [
    "sequence_length = 20\n",
    "input_dim = 11  # All features except 'Scaled_Close'\n",
    "embed_dim = 64\n",
    "num_heads = 4\n",
    "ff_dim = 128\n",
    "num_layers = 3\n",
    "dropout = 0.1\n",
    "lr = 0.001\n",
    "num_epochs = 50\n",
    "batch_size = 32"
   ]
  },
  {
   "cell_type": "code",
   "execution_count": 85,
   "id": "c850f348-cbbb-4182-a2de-013e8588c6df",
   "metadata": {},
   "outputs": [],
   "source": [
    "train_dataset = StockPriceDataset(df_train, sequence_length)\n",
    "val_dataset = StockPriceDataset(df_val, sequence_length)\n",
    "test_dataset = StockPriceDataset(df_test, sequence_length)"
   ]
  },
  {
   "cell_type": "code",
   "execution_count": 97,
   "id": "018561be-7f16-409c-ad23-15b918f51388",
   "metadata": {},
   "outputs": [],
   "source": [
    "train_loader = DataLoader(train_dataset, batch_size=None, shuffle=True)\n",
    "val_loader = DataLoader(val_dataset, batch_size=None, shuffle=False)\n",
    "test_loader = DataLoader(test_dataset, batch_size=None, shuffle=False)"
   ]
  },
  {
   "cell_type": "code",
   "execution_count": 91,
   "id": "8e12587f-7229-426c-8aa4-22b342013ba6",
   "metadata": {},
   "outputs": [],
   "source": [
    "class TransformerModel(nn.Module):\n",
    "    def __init__(self, input_dim, embed_dim, num_heads, ff_dim, num_layers, dropout):\n",
    "        super(TransformerModel, self).__init__()\n",
    "        self.embedding = nn.Linear(input_dim, embed_dim)\n",
    "        self.positional_encoding = self._generate_positional_encoding(embed_dim, 5000)\n",
    "        \n",
    "        encoder_layer = nn.TransformerEncoderLayer(d_model=embed_dim, nhead=num_heads, dim_feedforward=ff_dim, dropout=dropout)\n",
    "        self.transformer = nn.TransformerEncoder(encoder_layer, num_layers=num_layers)\n",
    "        \n",
    "        self.fc_out = nn.Linear(embed_dim, 1)\n",
    "\n",
    "    def forward(self, x):\n",
    "        batch_size, seq_len, _ = x.size()\n",
    "        x = self.embedding(x)\n",
    "        x += self.positional_encoding[:seq_len, :].to(x.device)\n",
    "        \n",
    "        x = x.permute(1, 0, 2)  # Transformer expects (seq_len, batch_size, embed_dim)\n",
    "        x = self.transformer(x)\n",
    "        x = x.mean(dim=0)  # Pooling over the sequence length\n",
    "        x = self.fc_out(x)\n",
    "        return x\n",
    "\n",
    "    def _generate_positional_encoding(self, embed_dim, max_len):\n",
    "        pe = torch.zeros(max_len, embed_dim)\n",
    "        position = torch.arange(0, max_len, dtype=torch.float).unsqueeze(1)\n",
    "        div_term = torch.exp(torch.arange(0, embed_dim, 2).float() * -(np.log(10000.0) / embed_dim))\n",
    "        pe[:, 0::2] = torch.sin(position * div_term)\n",
    "        pe[:, 1::2] = torch.cos(position * div_term)\n",
    "        return pe.unsqueeze(0)"
   ]
  },
  {
   "cell_type": "code",
   "execution_count": 92,
   "id": "61cc50da-d993-450a-adba-75916547834c",
   "metadata": {},
   "outputs": [
    {
     "name": "stderr",
     "output_type": "stream",
     "text": [
      "C:\\Users\\Divay Nagpal\\anaconda3\\envs\\python310clone\\lib\\site-packages\\torch\\nn\\modules\\transformer.py:379: UserWarning: enable_nested_tensor is True, but self.use_nested_tensor is False because encoder_layer.self_attn.batch_first was not True(use batch_first for better inference performance)\n",
      "  warnings.warn(\n"
     ]
    }
   ],
   "source": [
    "device = torch.device(\"cuda\" if torch.cuda.is_available() else \"cpu\")\n",
    "model = TransformerModel(input_dim, embed_dim, num_heads, ff_dim, num_layers, dropout).to(device)\n"
   ]
  },
  {
   "cell_type": "code",
   "execution_count": 93,
   "id": "e5260172-9c19-4c17-9e5b-74b48543cf7c",
   "metadata": {},
   "outputs": [],
   "source": [
    "# Training Configuration\n",
    "def train_model(model, train_loader, val_loader, num_epochs, lr):\n",
    "    criterion = nn.MSELoss()\n",
    "    optimizer = optim.Adam(model.parameters(), lr=lr)\n",
    "    best_val_loss = float('inf')\n",
    "    early_stopping_counter = 0\n",
    "\n",
    "    for epoch in range(num_epochs):\n",
    "        # Training phase\n",
    "        model.train()\n",
    "        train_loss = 0\n",
    "        for seq, target in train_loader:\n",
    "            seq, target = seq.to(device), target.to(device)\n",
    "            optimizer.zero_grad()\n",
    "            output = model(seq)\n",
    "            loss = criterion(output.squeeze(), target)\n",
    "            loss.backward()\n",
    "            optimizer.step()\n",
    "            train_loss += loss.item()\n",
    "\n",
    "        train_loss /= len(train_loader)\n",
    "\n",
    "        # Validation phase\n",
    "        model.eval()\n",
    "        val_loss = 0\n",
    "        with torch.no_grad():\n",
    "            for seq, target in val_loader:\n",
    "                seq, target = seq.to(device), target.to(device)\n",
    "                output = model(seq)\n",
    "                loss = criterion(output.squeeze(), target)\n",
    "                val_loss += loss.item()\n",
    "\n",
    "        val_loss /= len(val_loader)\n",
    "\n",
    "        print(f\"Epoch {epoch + 1}/{num_epochs}, Train Loss: {train_loss:.4f}, Val Loss: {val_loss:.4f}\")\n",
    "\n",
    "        # Early stopping\n",
    "        if val_loss < best_val_loss:\n",
    "            best_val_loss = val_loss\n",
    "            early_stopping_counter = 0\n",
    "            best_model_state = model.state_dict()\n",
    "        else:\n",
    "            early_stopping_counter += 1\n",
    "\n",
    "        if early_stopping_counter >= 5:  # Stop training if no improvement for 5 consecutive epochs\n",
    "            print(\"Early stopping triggered.\")\n",
    "            break\n",
    "\n",
    "    model.load_state_dict(best_model_state)"
   ]
  },
  {
   "cell_type": "code",
   "execution_count": 96,
   "id": "1f0af15c-4607-4c2c-91f6-c91f1949f99b",
   "metadata": {},
   "outputs": [
    {
     "ename": "InvalidIndexError",
     "evalue": "(slice(202, 222, None), slice(None, -1, None))",
     "output_type": "error",
     "traceback": [
      "\u001b[1;31m---------------------------------------------------------------------------\u001b[0m",
      "\u001b[1;31mTypeError\u001b[0m                                 Traceback (most recent call last)",
      "File \u001b[1;32m~\\anaconda3\\envs\\python310clone\\lib\\site-packages\\pandas\\core\\indexes\\base.py:3805\u001b[0m, in \u001b[0;36mIndex.get_loc\u001b[1;34m(self, key)\u001b[0m\n\u001b[0;32m   3804\u001b[0m \u001b[38;5;28;01mtry\u001b[39;00m:\n\u001b[1;32m-> 3805\u001b[0m     \u001b[38;5;28;01mreturn\u001b[39;00m \u001b[38;5;28;43mself\u001b[39;49m\u001b[38;5;241;43m.\u001b[39;49m\u001b[43m_engine\u001b[49m\u001b[38;5;241;43m.\u001b[39;49m\u001b[43mget_loc\u001b[49m\u001b[43m(\u001b[49m\u001b[43mcasted_key\u001b[49m\u001b[43m)\u001b[49m\n\u001b[0;32m   3806\u001b[0m \u001b[38;5;28;01mexcept\u001b[39;00m \u001b[38;5;167;01mKeyError\u001b[39;00m \u001b[38;5;28;01mas\u001b[39;00m err:\n",
      "File \u001b[1;32mindex.pyx:167\u001b[0m, in \u001b[0;36mpandas._libs.index.IndexEngine.get_loc\u001b[1;34m()\u001b[0m\n",
      "File \u001b[1;32mindex.pyx:173\u001b[0m, in \u001b[0;36mpandas._libs.index.IndexEngine.get_loc\u001b[1;34m()\u001b[0m\n",
      "\u001b[1;31mTypeError\u001b[0m: '(slice(202, 222, None), slice(None, -1, None))' is an invalid key",
      "\nDuring handling of the above exception, another exception occurred:\n",
      "\u001b[1;31mInvalidIndexError\u001b[0m                         Traceback (most recent call last)",
      "Cell \u001b[1;32mIn[96], line 1\u001b[0m\n\u001b[1;32m----> 1\u001b[0m \u001b[43mtrain_model\u001b[49m\u001b[43m(\u001b[49m\u001b[43mmodel\u001b[49m\u001b[43m,\u001b[49m\u001b[43m \u001b[49m\u001b[43mtrain_loader\u001b[49m\u001b[43m,\u001b[49m\u001b[43m \u001b[49m\u001b[43mval_loader\u001b[49m\u001b[43m,\u001b[49m\u001b[43m \u001b[49m\u001b[43mnum_epochs\u001b[49m\u001b[43m,\u001b[49m\u001b[43m \u001b[49m\u001b[43mlr\u001b[49m\u001b[43m)\u001b[49m\n",
      "Cell \u001b[1;32mIn[93], line 12\u001b[0m, in \u001b[0;36mtrain_model\u001b[1;34m(model, train_loader, val_loader, num_epochs, lr)\u001b[0m\n\u001b[0;32m     10\u001b[0m model\u001b[38;5;241m.\u001b[39mtrain()\n\u001b[0;32m     11\u001b[0m train_loss \u001b[38;5;241m=\u001b[39m \u001b[38;5;241m0\u001b[39m\n\u001b[1;32m---> 12\u001b[0m \u001b[38;5;28;01mfor\u001b[39;00m seq, target \u001b[38;5;129;01min\u001b[39;00m train_loader:\n\u001b[0;32m     13\u001b[0m     seq, target \u001b[38;5;241m=\u001b[39m seq\u001b[38;5;241m.\u001b[39mto(device), target\u001b[38;5;241m.\u001b[39mto(device)\n\u001b[0;32m     14\u001b[0m     optimizer\u001b[38;5;241m.\u001b[39mzero_grad()\n",
      "File \u001b[1;32m~\\anaconda3\\envs\\python310clone\\lib\\site-packages\\torch\\utils\\data\\dataloader.py:701\u001b[0m, in \u001b[0;36m_BaseDataLoaderIter.__next__\u001b[1;34m(self)\u001b[0m\n\u001b[0;32m    698\u001b[0m \u001b[38;5;28;01mif\u001b[39;00m \u001b[38;5;28mself\u001b[39m\u001b[38;5;241m.\u001b[39m_sampler_iter \u001b[38;5;129;01mis\u001b[39;00m \u001b[38;5;28;01mNone\u001b[39;00m:\n\u001b[0;32m    699\u001b[0m     \u001b[38;5;66;03m# TODO(https://github.com/pytorch/pytorch/issues/76750)\u001b[39;00m\n\u001b[0;32m    700\u001b[0m     \u001b[38;5;28mself\u001b[39m\u001b[38;5;241m.\u001b[39m_reset()  \u001b[38;5;66;03m# type: ignore[call-arg]\u001b[39;00m\n\u001b[1;32m--> 701\u001b[0m data \u001b[38;5;241m=\u001b[39m \u001b[38;5;28;43mself\u001b[39;49m\u001b[38;5;241;43m.\u001b[39;49m\u001b[43m_next_data\u001b[49m\u001b[43m(\u001b[49m\u001b[43m)\u001b[49m\n\u001b[0;32m    702\u001b[0m \u001b[38;5;28mself\u001b[39m\u001b[38;5;241m.\u001b[39m_num_yielded \u001b[38;5;241m+\u001b[39m\u001b[38;5;241m=\u001b[39m \u001b[38;5;241m1\u001b[39m\n\u001b[0;32m    703\u001b[0m \u001b[38;5;28;01mif\u001b[39;00m (\n\u001b[0;32m    704\u001b[0m     \u001b[38;5;28mself\u001b[39m\u001b[38;5;241m.\u001b[39m_dataset_kind \u001b[38;5;241m==\u001b[39m _DatasetKind\u001b[38;5;241m.\u001b[39mIterable\n\u001b[0;32m    705\u001b[0m     \u001b[38;5;129;01mand\u001b[39;00m \u001b[38;5;28mself\u001b[39m\u001b[38;5;241m.\u001b[39m_IterableDataset_len_called \u001b[38;5;129;01mis\u001b[39;00m \u001b[38;5;129;01mnot\u001b[39;00m \u001b[38;5;28;01mNone\u001b[39;00m\n\u001b[0;32m    706\u001b[0m     \u001b[38;5;129;01mand\u001b[39;00m \u001b[38;5;28mself\u001b[39m\u001b[38;5;241m.\u001b[39m_num_yielded \u001b[38;5;241m>\u001b[39m \u001b[38;5;28mself\u001b[39m\u001b[38;5;241m.\u001b[39m_IterableDataset_len_called\n\u001b[0;32m    707\u001b[0m ):\n",
      "File \u001b[1;32m~\\anaconda3\\envs\\python310clone\\lib\\site-packages\\torch\\utils\\data\\dataloader.py:757\u001b[0m, in \u001b[0;36m_SingleProcessDataLoaderIter._next_data\u001b[1;34m(self)\u001b[0m\n\u001b[0;32m    755\u001b[0m \u001b[38;5;28;01mdef\u001b[39;00m \u001b[38;5;21m_next_data\u001b[39m(\u001b[38;5;28mself\u001b[39m):\n\u001b[0;32m    756\u001b[0m     index \u001b[38;5;241m=\u001b[39m \u001b[38;5;28mself\u001b[39m\u001b[38;5;241m.\u001b[39m_next_index()  \u001b[38;5;66;03m# may raise StopIteration\u001b[39;00m\n\u001b[1;32m--> 757\u001b[0m     data \u001b[38;5;241m=\u001b[39m \u001b[38;5;28;43mself\u001b[39;49m\u001b[38;5;241;43m.\u001b[39;49m\u001b[43m_dataset_fetcher\u001b[49m\u001b[38;5;241;43m.\u001b[39;49m\u001b[43mfetch\u001b[49m\u001b[43m(\u001b[49m\u001b[43mindex\u001b[49m\u001b[43m)\u001b[49m  \u001b[38;5;66;03m# may raise StopIteration\u001b[39;00m\n\u001b[0;32m    758\u001b[0m     \u001b[38;5;28;01mif\u001b[39;00m \u001b[38;5;28mself\u001b[39m\u001b[38;5;241m.\u001b[39m_pin_memory:\n\u001b[0;32m    759\u001b[0m         data \u001b[38;5;241m=\u001b[39m _utils\u001b[38;5;241m.\u001b[39mpin_memory\u001b[38;5;241m.\u001b[39mpin_memory(data, \u001b[38;5;28mself\u001b[39m\u001b[38;5;241m.\u001b[39m_pin_memory_device)\n",
      "File \u001b[1;32m~\\anaconda3\\envs\\python310clone\\lib\\site-packages\\torch\\utils\\data\\_utils\\fetch.py:54\u001b[0m, in \u001b[0;36m_MapDatasetFetcher.fetch\u001b[1;34m(self, possibly_batched_index)\u001b[0m\n\u001b[0;32m     52\u001b[0m         data \u001b[38;5;241m=\u001b[39m [\u001b[38;5;28mself\u001b[39m\u001b[38;5;241m.\u001b[39mdataset[idx] \u001b[38;5;28;01mfor\u001b[39;00m idx \u001b[38;5;129;01min\u001b[39;00m possibly_batched_index]\n\u001b[0;32m     53\u001b[0m \u001b[38;5;28;01melse\u001b[39;00m:\n\u001b[1;32m---> 54\u001b[0m     data \u001b[38;5;241m=\u001b[39m \u001b[38;5;28;43mself\u001b[39;49m\u001b[38;5;241;43m.\u001b[39;49m\u001b[43mdataset\u001b[49m\u001b[43m[\u001b[49m\u001b[43mpossibly_batched_index\u001b[49m\u001b[43m]\u001b[49m\n\u001b[0;32m     55\u001b[0m \u001b[38;5;28;01mreturn\u001b[39;00m \u001b[38;5;28mself\u001b[39m\u001b[38;5;241m.\u001b[39mcollate_fn(data)\n",
      "Cell \u001b[1;32mIn[83], line 10\u001b[0m, in \u001b[0;36mStockPriceDataset.__getitem__\u001b[1;34m(self, idx)\u001b[0m\n\u001b[0;32m      9\u001b[0m \u001b[38;5;28;01mdef\u001b[39;00m \u001b[38;5;21m__getitem__\u001b[39m(\u001b[38;5;28mself\u001b[39m, idx):\n\u001b[1;32m---> 10\u001b[0m     seq \u001b[38;5;241m=\u001b[39m \u001b[38;5;28;43mself\u001b[39;49m\u001b[38;5;241;43m.\u001b[39;49m\u001b[43mdata\u001b[49m\u001b[43m[\u001b[49m\u001b[43midx\u001b[49m\u001b[43m:\u001b[49m\u001b[43midx\u001b[49m\u001b[43m \u001b[49m\u001b[38;5;241;43m+\u001b[39;49m\u001b[43m \u001b[49m\u001b[38;5;28;43mself\u001b[39;49m\u001b[38;5;241;43m.\u001b[39;49m\u001b[43msequence_length\u001b[49m\u001b[43m,\u001b[49m\u001b[43m \u001b[49m\u001b[43m:\u001b[49m\u001b[38;5;241;43m-\u001b[39;49m\u001b[38;5;241;43m1\u001b[39;49m\u001b[43m]\u001b[49m  \u001b[38;5;66;03m# Exclude target ('Scaled_Close')\u001b[39;00m\n\u001b[0;32m     11\u001b[0m     target \u001b[38;5;241m=\u001b[39m \u001b[38;5;28mself\u001b[39m\u001b[38;5;241m.\u001b[39mdata[idx \u001b[38;5;241m+\u001b[39m \u001b[38;5;28mself\u001b[39m\u001b[38;5;241m.\u001b[39msequence_length, \u001b[38;5;241m-\u001b[39m\u001b[38;5;241m1\u001b[39m]  \u001b[38;5;66;03m# 'Scaled_Close' as target\u001b[39;00m\n\u001b[0;32m     12\u001b[0m     \u001b[38;5;28;01mreturn\u001b[39;00m torch\u001b[38;5;241m.\u001b[39mtensor(seq, dtype\u001b[38;5;241m=\u001b[39mtorch\u001b[38;5;241m.\u001b[39mfloat32), torch\u001b[38;5;241m.\u001b[39mtensor(target, dtype\u001b[38;5;241m=\u001b[39mtorch\u001b[38;5;241m.\u001b[39mfloat32)\n",
      "File \u001b[1;32m~\\anaconda3\\envs\\python310clone\\lib\\site-packages\\pandas\\core\\frame.py:4102\u001b[0m, in \u001b[0;36mDataFrame.__getitem__\u001b[1;34m(self, key)\u001b[0m\n\u001b[0;32m   4100\u001b[0m \u001b[38;5;28;01mif\u001b[39;00m \u001b[38;5;28mself\u001b[39m\u001b[38;5;241m.\u001b[39mcolumns\u001b[38;5;241m.\u001b[39mnlevels \u001b[38;5;241m>\u001b[39m \u001b[38;5;241m1\u001b[39m:\n\u001b[0;32m   4101\u001b[0m     \u001b[38;5;28;01mreturn\u001b[39;00m \u001b[38;5;28mself\u001b[39m\u001b[38;5;241m.\u001b[39m_getitem_multilevel(key)\n\u001b[1;32m-> 4102\u001b[0m indexer \u001b[38;5;241m=\u001b[39m \u001b[38;5;28;43mself\u001b[39;49m\u001b[38;5;241;43m.\u001b[39;49m\u001b[43mcolumns\u001b[49m\u001b[38;5;241;43m.\u001b[39;49m\u001b[43mget_loc\u001b[49m\u001b[43m(\u001b[49m\u001b[43mkey\u001b[49m\u001b[43m)\u001b[49m\n\u001b[0;32m   4103\u001b[0m \u001b[38;5;28;01mif\u001b[39;00m is_integer(indexer):\n\u001b[0;32m   4104\u001b[0m     indexer \u001b[38;5;241m=\u001b[39m [indexer]\n",
      "File \u001b[1;32m~\\anaconda3\\envs\\python310clone\\lib\\site-packages\\pandas\\core\\indexes\\base.py:3817\u001b[0m, in \u001b[0;36mIndex.get_loc\u001b[1;34m(self, key)\u001b[0m\n\u001b[0;32m   3812\u001b[0m     \u001b[38;5;28;01mraise\u001b[39;00m \u001b[38;5;167;01mKeyError\u001b[39;00m(key) \u001b[38;5;28;01mfrom\u001b[39;00m \u001b[38;5;21;01merr\u001b[39;00m\n\u001b[0;32m   3813\u001b[0m \u001b[38;5;28;01mexcept\u001b[39;00m \u001b[38;5;167;01mTypeError\u001b[39;00m:\n\u001b[0;32m   3814\u001b[0m     \u001b[38;5;66;03m# If we have a listlike key, _check_indexing_error will raise\u001b[39;00m\n\u001b[0;32m   3815\u001b[0m     \u001b[38;5;66;03m#  InvalidIndexError. Otherwise we fall through and re-raise\u001b[39;00m\n\u001b[0;32m   3816\u001b[0m     \u001b[38;5;66;03m#  the TypeError.\u001b[39;00m\n\u001b[1;32m-> 3817\u001b[0m     \u001b[38;5;28;43mself\u001b[39;49m\u001b[38;5;241;43m.\u001b[39;49m\u001b[43m_check_indexing_error\u001b[49m\u001b[43m(\u001b[49m\u001b[43mkey\u001b[49m\u001b[43m)\u001b[49m\n\u001b[0;32m   3818\u001b[0m     \u001b[38;5;28;01mraise\u001b[39;00m\n",
      "File \u001b[1;32m~\\anaconda3\\envs\\python310clone\\lib\\site-packages\\pandas\\core\\indexes\\base.py:6059\u001b[0m, in \u001b[0;36mIndex._check_indexing_error\u001b[1;34m(self, key)\u001b[0m\n\u001b[0;32m   6055\u001b[0m \u001b[38;5;28;01mdef\u001b[39;00m \u001b[38;5;21m_check_indexing_error\u001b[39m(\u001b[38;5;28mself\u001b[39m, key):\n\u001b[0;32m   6056\u001b[0m     \u001b[38;5;28;01mif\u001b[39;00m \u001b[38;5;129;01mnot\u001b[39;00m is_scalar(key):\n\u001b[0;32m   6057\u001b[0m         \u001b[38;5;66;03m# if key is not a scalar, directly raise an error (the code below\u001b[39;00m\n\u001b[0;32m   6058\u001b[0m         \u001b[38;5;66;03m# would convert to numpy arrays and raise later any way) - GH29926\u001b[39;00m\n\u001b[1;32m-> 6059\u001b[0m         \u001b[38;5;28;01mraise\u001b[39;00m InvalidIndexError(key)\n",
      "\u001b[1;31mInvalidIndexError\u001b[0m: (slice(202, 222, None), slice(None, -1, None))"
     ]
    }
   ],
   "source": [
    "train_model(model, train_loader, val_loader, num_epochs, lr)"
   ]
  },
  {
   "cell_type": "code",
   "execution_count": null,
   "id": "8da07d2a-5bdf-4200-aa96-330715fa7247",
   "metadata": {},
   "outputs": [],
   "source": []
  },
  {
   "cell_type": "code",
   "execution_count": null,
   "id": "4f841ea5-d699-4639-89c3-5268974ae007",
   "metadata": {},
   "outputs": [],
   "source": []
  },
  {
   "cell_type": "markdown",
   "id": "28b8c354-85f7-4299-bb55-a73f0ca6544c",
   "metadata": {
    "scrolled": true
   },
   "source": [
    "df_train.drop(columns=[\"Date\"], inplace = True)\n",
    "df_val.drop(columns=[\"Date\"], inplace = True)\n",
    "df_test.drop(columns=[\"Date\"], inplace = True)"
   ]
  },
  {
   "cell_type": "code",
   "execution_count": 47,
   "id": "dd8185e6-3f69-48a7-8e8f-622df52eec77",
   "metadata": {},
   "outputs": [
    {
     "ename": "NameError",
     "evalue": "name 'df_train' is not defined",
     "output_type": "error",
     "traceback": [
      "\u001b[1;31m---------------------------------------------------------------------------\u001b[0m",
      "\u001b[1;31mNameError\u001b[0m                                 Traceback (most recent call last)",
      "Cell \u001b[1;32mIn[47], line 1\u001b[0m\n\u001b[1;32m----> 1\u001b[0m \u001b[43mdf_train\u001b[49m\n",
      "\u001b[1;31mNameError\u001b[0m: name 'df_train' is not defined"
     ]
    }
   ],
   "source": [
    "df_train"
   ]
  },
  {
   "cell_type": "code",
   "execution_count": 41,
   "id": "bb42398e-b5d2-434c-9191-7344eac54cfd",
   "metadata": {},
   "outputs": [],
   "source": [
    "class StockPriceDataset(Dataset):\n",
    "    def __init__(self, data, sequence_length):\n",
    "        self.data = data\n",
    "        self.sequence_length = sequence_length\n",
    "\n",
    "    def __len__(self):\n",
    "        return len(self.data) - self.sequence_length\n",
    "\n",
    "    def __getitem__(self, idx):\n",
    "        seq = self.data[idx:idx + self.sequence_length, :-1]  # Exclude target ('Scaled_Close')\n",
    "        target = self.data[idx + self.sequence_length, -1]  # 'Scaled_Close' as target\n",
    "        return torch.tensor(seq, dtype=torch.float32), torch.tensor(target, dtype=torch.float32)"
   ]
  },
  {
   "cell_type": "code",
   "execution_count": 40,
   "id": "1a6b6e68-5559-48af-b1e4-4796c4774c33",
   "metadata": {},
   "outputs": [],
   "source": [
    "class TransformerModel(nn.Module):\n",
    "    def __init__(self, input_dim, embed_dim, num_heads, ff_dim, num_layers, dropout):\n",
    "        super(TransformerModel, self).__init__()\n",
    "        self.embedding = nn.Linear(input_dim, embed_dim)\n",
    "        self.positional_encoding = self._generate_positional_encoding(embed_dim, 5000)\n",
    "        \n",
    "        encoder_layer = nn.TransformerEncoderLayer(d_model=embed_dim, nhead=num_heads, dim_feedforward=ff_dim, dropout=dropout)\n",
    "        self.transformer = nn.TransformerEncoder(encoder_layer, num_layers=num_layers)\n",
    "        \n",
    "        self.fc_out = nn.Linear(embed_dim, 1)\n",
    "\n",
    "    def forward(self, x):\n",
    "        batch_size, seq_len, _ = x.size()\n",
    "        x = self.embedding(x)\n",
    "        x += self.positional_encoding[:seq_len, :].to(x.device)\n",
    "        \n",
    "        x = x.permute(1, 0, 2)  # Transformer expects (seq_len, batch_size, embed_dim)\n",
    "        x = self.transformer(x)\n",
    "        x = x.mean(dim=0)  # Pooling over the sequence length\n",
    "        x = self.fc_out(x)\n",
    "        return x\n",
    "\n",
    "    def _generate_positional_encoding(self, embed_dim, max_len):\n",
    "        pe = torch.zeros(max_len, embed_dim)\n",
    "        position = torch.arange(0, max_len, dtype=torch.float).unsqueeze(1)\n",
    "        div_term = torch.exp(torch.arange(0, embed_dim, 2).float() * -(np.log(10000.0) / embed_dim))\n",
    "        pe[:, 0::2] = torch.sin(position * div_term)\n",
    "        pe[:, 1::2] = torch.cos(position * div_term)\n",
    "        return pe.unsqueeze(0)"
   ]
  },
  {
   "cell_type": "code",
   "execution_count": 42,
   "id": "7b12c8c1-f51f-420c-b090-1efe23e9a593",
   "metadata": {},
   "outputs": [],
   "source": [
    "def train_model(model, dataloader, num_epochs, lr):\n",
    "    criterion = nn.MSELoss()\n",
    "    optimizer = optim.Adam(model.parameters(), lr=lr)\n",
    "\n",
    "    for epoch in range(num_epochs):\n",
    "        model.train()\n",
    "        epoch_loss = 0\n",
    "        for seq, target in dataloader:\n",
    "            seq, target = seq.to(device), target.to(device)\n",
    "            optimizer.zero_grad()\n",
    "            output = model(seq)\n",
    "            loss = criterion(output.squeeze(), target)\n",
    "            loss.backward()\n",
    "            optimizer.step()\n",
    "            epoch_loss += loss.item()\n",
    "        \n",
    "        print(f\"Epoch {epoch + 1}/{num_epochs}, Loss: {epoch_loss / len(dataloader):.4f}\")\n"
   ]
  },
  {
   "cell_type": "code",
   "execution_count": 44,
   "id": "d3fba830-5139-4f20-aacb-0acd08039379",
   "metadata": {},
   "outputs": [],
   "source": [
    "sequence_length = 20\n",
    "input_dim = 11  # All features except 'Scaled_Close'\n",
    "embed_dim = 64\n",
    "num_heads = 4\n",
    "ff_dim = 128\n",
    "num_layers = 3\n",
    "dropout = 0.1\n",
    "lr = 0.001\n",
    "num_epochs = 50\n",
    "batch_size = 32"
   ]
  },
  {
   "cell_type": "code",
   "execution_count": 46,
   "id": "47e12d02-e5a4-4e61-8c00-db0acfc883f7",
   "metadata": {},
   "outputs": [
    {
     "ename": "NameError",
     "evalue": "name 'df_train' is not defined",
     "output_type": "error",
     "traceback": [
      "\u001b[1;31m---------------------------------------------------------------------------\u001b[0m",
      "\u001b[1;31mNameError\u001b[0m                                 Traceback (most recent call last)",
      "Cell \u001b[1;32mIn[46], line 1\u001b[0m\n\u001b[1;32m----> 1\u001b[0m dataset \u001b[38;5;241m=\u001b[39m StockPriceDataset(\u001b[43mdf_train\u001b[49m, sequence_length)\n",
      "\u001b[1;31mNameError\u001b[0m: name 'df_train' is not defined"
     ]
    }
   ],
   "source": [
    "dataset = StockPriceDataset(df_train, sequence_length)"
   ]
  },
  {
   "cell_type": "code",
   "execution_count": null,
   "id": "64cd0002-078f-41e7-9135-f308809c79da",
   "metadata": {},
   "outputs": [],
   "source": []
  },
  {
   "cell_type": "code",
   "execution_count": null,
   "id": "85bee445-1c15-4b00-bb53-9679d9207c73",
   "metadata": {},
   "outputs": [],
   "source": []
  },
  {
   "cell_type": "code",
   "execution_count": null,
   "id": "fa7936b0-2849-48b8-9aa2-e69dd93f6ca8",
   "metadata": {},
   "outputs": [],
   "source": []
  },
  {
   "cell_type": "markdown",
   "id": "2f8c9806-6c7e-4cbe-8424-c62dc947872d",
   "metadata": {},
   "source": [
    "def make_stationary(df, columns):\n",
    "    for col in columns:\n",
    "        df[col] = df[col].diff()\n",
    "    df.dropna(inplace=True)\n",
    "    return df"
   ]
  },
  {
   "cell_type": "markdown",
   "id": "4d054286-f0b3-4ee8-9287-38ed422062b5",
   "metadata": {},
   "source": [
    "df_train"
   ]
  },
  {
   "cell_type": "markdown",
   "id": "1ecf2612-63d5-4932-a0ef-33e28fe97aa0",
   "metadata": {},
   "source": [
    "stationary_columns = ['Adj_Close', 'Close', 'High', 'Low', 'Open', 'Volume', '10DaysMA', '30DaysMA', '50DaysMA']\n",
    "df_train_scaled = make_stationary(df_train, stationary_columns)\n",
    "df_val_scaled = make_stationary(df_val, stationary_columns)\n",
    "df_test_scaled = make_stationary(df_test, stationary_columns)"
   ]
  },
  {
   "cell_type": "code",
   "execution_count": null,
   "id": "768b870b-8761-4a38-bfb6-678e801e62ee",
   "metadata": {},
   "outputs": [],
   "source": []
  },
  {
   "cell_type": "markdown",
   "id": "a283ac76-5c46-4ebc-ae98-f027d4af05b4",
   "metadata": {},
   "source": [
    "def create_sequences(data, timesteps, features):\n",
    "    sequences = []\n",
    "    targets = []\n",
    "    for i in range(len(data) - timesteps):\n",
    "        seq = data.iloc[i:i + timesteps, :features].values\n",
    "        target = data.iloc[i + timesteps]['Scaled_Next_Close']\n",
    "        sequences.append(seq) \n",
    "        targets.append(target)\n",
    "    return np.array(sequences), np.array(targets)"
   ]
  },
  {
   "cell_type": "code",
   "execution_count": 84,
   "id": "97de21c4-2e96-4ab4-ac4c-500fb619c80f",
   "metadata": {},
   "outputs": [],
   "source": [
    "timesteps = 10\n",
    "features = 12"
   ]
  },
  {
   "cell_type": "code",
   "execution_count": null,
   "id": "e3061d0c-c2af-4449-9078-9f31f07ca953",
   "metadata": {},
   "outputs": [],
   "source": []
  },
  {
   "cell_type": "markdown",
   "id": "801fcba7-6709-4d43-a0e1-eb1d64971efa",
   "metadata": {},
   "source": [
    "train_sequences, train_targets = create_sequences(df_train_scaled, timesteps, features)\n",
    "val_sequences, val_targets = create_sequences(df_val_scaled, timesteps, features)\n",
    "test_sequences, test_targets = create_sequences(df_test_scaled, timesteps, features)"
   ]
  },
  {
   "cell_type": "markdown",
   "id": "1baea100-0667-4087-b067-3b84ca72e244",
   "metadata": {},
   "source": [
    "print(f\"Train sequences shape: {train_sequences.shape}\")\n",
    "print(f\"Validation sequences shape: {val_sequences.shape}\")\n",
    "print(f\"Test sequences shape: {test_sequences.shape}\")"
   ]
  },
  {
   "cell_type": "code",
   "execution_count": 394,
   "id": "d56fb3fb-2afb-4d40-8090-ab3a17cde0ae",
   "metadata": {},
   "outputs": [],
   "source": [
    "class EnhancedTime2Vec(nn.Module):\n",
    "    def __init__(self, input_dim, output_dim):\n",
    "        \"\"\"\n",
    "        Time2Vec layer that includes both sine and cosine periodicity along with a linear term.\n",
    "        \n",
    "        Args:\n",
    "        - input_dim (int): Number of input features (time steps).\n",
    "        - output_dim (int): Number of output dimensions for encoding.\n",
    "        \"\"\"\n",
    "        super(EnhancedTime2Vec, self).__init__()\n",
    "        self.linear = nn.Linear(input_dim, 1, bias=True)  # Linear term\n",
    "        self.sin_periodic = nn.Linear(input_dim, (output_dim - 1) // 2, bias=True)  # Sine terms\n",
    "        self.cos_periodic = nn.Linear(input_dim, (output_dim - 1) // 2, bias=True)  # Cosine terms\n",
    "\n",
    "    def forward(self, x):\n",
    "        \"\"\"\n",
    "        Forward pass to calculate Time2Vec encoding.\n",
    "\n",
    "        Args:\n",
    "        - x (Tensor): Input tensor of shape (Batch Size, Input Dim).\n",
    "\n",
    "        Returns:\n",
    "        - Tensor: Output tensor of shape (Batch Size, Output Dim).\n",
    "        \"\"\"\n",
    "        linear_part = self.linear(x)  # Linear component\n",
    "        sin_part = torch.sin(self.sin_periodic(x))  # Sine periodicity\n",
    "        cos_part = torch.cos(self.cos_periodic(x))  # Cosine periodicity\n",
    "        return torch.cat([linear_part, sin_part, cos_part], dim=-1)"
   ]
  },
  {
   "cell_type": "code",
   "execution_count": 395,
   "id": "9167dc3a-601d-496f-bb20-794ed0da8bb2",
   "metadata": {},
   "outputs": [],
   "source": [
    "class Time2Vec(Layer):\n",
    "    def __init__(self, kernel_size=1, **kwargs):\n",
    "        super(Time2Vec, self).__init__(**kwargs)\n",
    "        self.kernel_size = kernel_size\n",
    "\n",
    "    def build(self, input_shape):\n",
    "        # Linear and periodic components\n",
    "        self.w0 = self.add_weight(shape=(1,), initializer='uniform', trainable=True, name='w0')\n",
    "        self.b0 = self.add_weight(shape=(1,), initializer='uniform', trainable=True, name='b0')\n",
    "        self.w = self.add_weight(shape=(self.kernel_size, 1), initializer='uniform', trainable=True, name='w')\n",
    "        self.b = self.add_weight(shape=(self.kernel_size, 1), initializer='uniform', trainable=True, name='b')\n",
    "\n",
    "    def call(self, inputs):\n",
    "        # First component is linear\n",
    "        v1 = self.w0 * inputs + self.b0\n",
    "        # Additional components are periodic\n",
    "        v2 = tf.math.sin(tf.matmul(inputs, self.w) + self.b)\n",
    "        return tf.concat([v1, v2], axis=-1)"
   ]
  },
  {
   "cell_type": "code",
   "execution_count": null,
   "id": "05b33782-8036-4969-8dc5-b8ef2c8840ac",
   "metadata": {},
   "outputs": [],
   "source": [
    "############## New test code"
   ]
  },
  {
   "cell_type": "code",
   "execution_count": 83,
   "id": "7843e378-a069-4c1e-9435-a648d471c81f",
   "metadata": {},
   "outputs": [],
   "source": [
    "class Time2Vec(Layer):\n",
    "    def __init__(self, kernel_size=1, **kwargs):\n",
    "        super(Time2Vec, self).__init__(**kwargs)\n",
    "        self.kernel_size = kernel_size\n",
    "\n",
    "    def build(self, input_shape):\n",
    "        self.w0 = self.add_weight(shape=(1,), initializer='uniform', trainable=True, name='w0')\n",
    "        self.b0 = self.add_weight(shape=(1,), initializer='uniform', trainable=True, name='b0')\n",
    "        self.w = self.add_weight(shape=(self.kernel_size, 1), initializer='uniform', trainable=True, name='w')\n",
    "        self.b = self.add_weight(shape=(self.kernel_size, 1), initializer='uniform', trainable=True, name='b')\n",
    "\n",
    "    def call(self, inputs):\n",
    "        linear_term = self.w0 * inputs + self.b0\n",
    "        periodic_term = tf.math.sin(tf.matmul(inputs, self.w) + self.b)\n",
    "        return tf.concat([linear_term, periodic_term], axis=-1)"
   ]
  },
  {
   "cell_type": "code",
   "execution_count": 97,
   "id": "0c6b4b3d-32cd-4ba2-af2f-40396e5418a9",
   "metadata": {},
   "outputs": [
    {
     "data": {
      "text/plain": [
       "array([[1.61603962e-01, 1.73237691e-01, 1.94579784e-01, 1.87701858e-01,\n",
       "        2.65253635e-01, 1.58068800e+09, 1.64217560e-01, 1.49831299e-01,\n",
       "        1.46719942e-01, 1.81469004e-01],\n",
       "       [1.63052828e-01, 1.74312237e-01, 1.99531871e-01, 1.89601675e-01,\n",
       "        1.61959118e-01, 1.58077440e+09, 1.63897876e-01, 1.49626756e-01,\n",
       "        1.46153318e-01, 1.83068119e-01],\n",
       "       [1.68251848e-01, 1.79906141e-01, 2.01904392e-01, 1.90203291e-01,\n",
       "        1.91365938e-01, 1.58086080e+09, 1.64375903e-01, 1.49721688e-01,\n",
       "        1.45816589e-01, 1.88806161e-01],\n",
       "       [1.70396699e-01, 1.79906141e-01, 2.06378787e-01, 1.98119193e-01,\n",
       "        1.02273436e-01, 1.58094720e+09, 1.63932563e-01, 1.50123432e-01,\n",
       "        1.45702754e-01, 1.91173465e-01],\n",
       "       [1.65112543e-01, 1.76556118e-01, 2.02222853e-01, 1.95000335e-01,\n",
       "        1.35670171e-01, 1.58103360e+09, 1.62116997e-01, 1.50117138e-01,\n",
       "        1.45379059e-01, 1.85341381e-01],\n",
       "       [1.61220395e-01, 1.72779409e-01, 1.94930084e-01, 1.90868219e-01,\n",
       "        1.35010590e-01, 1.58129280e+09, 1.60207935e-01, 1.49938814e-01,\n",
       "        1.45091296e-01, 1.81045715e-01],\n",
       "       [1.61674921e-01, 1.71673267e-01, 1.98401319e-01, 1.88335130e-01,\n",
       "        9.49354243e-02, 1.58137920e+09, 1.58405934e-01, 1.49820283e-01,\n",
       "        1.44795900e-01, 1.81547393e-01],\n",
       "       [1.64629550e-01, 1.71957711e-01, 1.97127474e-01, 1.87416878e-01,\n",
       "        1.12504208e-01, 1.58146560e+09, 1.56343064e-01, 1.49687591e-01,\n",
       "        1.44694786e-01, 1.84808355e-01],\n",
       "       [1.63194898e-01, 1.71957711e-01, 1.98719780e-01, 1.90551583e-01,\n",
       "        6.36439826e-02, 1.58155200e+09, 1.53992182e-01, 1.49131125e-01,\n",
       "        1.44740256e-01, 1.83224895e-01],\n",
       "       [1.64018739e-01, 1.73569511e-01, 2.00503155e-01, 1.89285038e-01,\n",
       "        7.48463149e-02, 1.58163840e+09, 1.51755895e-01, 1.48712595e-01,\n",
       "        1.44695420e-01, 1.84134208e-01]])"
      ]
     },
     "execution_count": 97,
     "metadata": {},
     "output_type": "execute_result"
    }
   ],
   "source": [
    "df_train.iloc[0:10,[0,1,2,3,4,5,7,8,9,10]].values"
   ]
  },
  {
   "cell_type": "code",
   "execution_count": 98,
   "id": "f3f5dc4b-ab84-4d0e-951a-24f4a1463cb1",
   "metadata": {},
   "outputs": [],
   "source": [
    "def create_sequences_with_time2vec(data, timesteps, features, time2vec):\n",
    "    sequences = []\n",
    "    targets = []\n",
    "\n",
    "    for i in range(len(data) - timesteps):\n",
    "        # Extract sequence features and target\n",
    "        seq = data.iloc[i:i + timesteps, features].values\n",
    "        epoch_times = data.iloc[i:i + timesteps]['epoch_time'].values.reshape(-1, 1)  # Shape (timesteps, 1)\n",
    "\n",
    "        # Apply Time2Vec on epoch times\n",
    "        time2vec_features = time2vec(tf.convert_to_tensor(epoch_times, dtype=tf.float32)).numpy()\n",
    "        # Concatenate Time2Vec features with other sequence features\n",
    "        enhanced_seq = np.concatenate([seq, time2vec_features], axis=-1)\n",
    "\n",
    "        # Append enhanced sequence and target\n",
    "        sequences.append(enhanced_seq)\n",
    "        targets.append(data.iloc[i + timesteps]['Scaled_Close'])\n",
    "\n",
    "    return np.array(sequences), np.array(targets)"
   ]
  },
  {
   "cell_type": "code",
   "execution_count": 99,
   "id": "0f2f252d-f900-4670-a6d2-8c331f977986",
   "metadata": {},
   "outputs": [],
   "source": [
    "timesteps = 50\n",
    "features = [0,1,2,3,4,5,7,8,9,10]# Excluding 'epoch_time' and 'Next_Close'\n",
    "time2vec_layer = Time2Vec(kernel_size=1)  # Example kernel size"
   ]
  },
  {
   "cell_type": "code",
   "execution_count": 100,
   "id": "4c36d0dc-51f2-4458-adc8-468f0a3e65ce",
   "metadata": {},
   "outputs": [],
   "source": [
    "df_test.columns\n",
    "df_train_scaled=df_train.copy()\n",
    "df_val_scaled=df_val.copy()\n",
    "df_test_scaled=df_test.copy()"
   ]
  },
  {
   "cell_type": "code",
   "execution_count": 101,
   "id": "a146a5a8-0db6-4d0c-a669-b565e86d6b64",
   "metadata": {},
   "outputs": [],
   "source": [
    "sequences, targets = create_sequences_with_time2vec(df_train_scaled, timesteps, features, time2vec_layer)\n",
    "sequences_val, targets_val = create_sequences_with_time2vec(df_val_scaled, timesteps, features, time2vec_layer)\n",
    "sequences_test, targets_test = create_sequences_with_time2vec(df_test_scaled, timesteps, features, time2vec_layer)"
   ]
  },
  {
   "cell_type": "code",
   "execution_count": 102,
   "id": "09a136f0-4083-4466-a8df-b66d694b371b",
   "metadata": {},
   "outputs": [
    {
     "name": "stdout",
     "output_type": "stream",
     "text": [
      "Sequence shape: (919, 50, 12)\n",
      "Targets shape: (919,)\n",
      "Sequence val shape: (51, 50, 12)\n",
      "Targets val shape: (51,)\n"
     ]
    }
   ],
   "source": [
    "print(\"Sequence shape:\", sequences.shape)  # Expected: (num_sequences, timesteps, original_features + Time2Vec features)\n",
    "print(\"Targets shape:\", targets.shape) \n",
    "print(\"Sequence val shape:\", sequences_val.shape)  # Expected: (num_sequences, timesteps, original_features + Time2Vec features)\n",
    "print(\"Targets val shape:\", targets_val.shape) "
   ]
  },
  {
   "cell_type": "code",
   "execution_count": 104,
   "id": "56d7475f-6e38-4e5a-837d-7873faa06763",
   "metadata": {},
   "outputs": [
    {
     "data": {
      "text/html": [
       "<div>\n",
       "<style scoped>\n",
       "    .dataframe tbody tr th:only-of-type {\n",
       "        vertical-align: middle;\n",
       "    }\n",
       "\n",
       "    .dataframe tbody tr th {\n",
       "        vertical-align: top;\n",
       "    }\n",
       "\n",
       "    .dataframe thead th {\n",
       "        text-align: right;\n",
       "    }\n",
       "</style>\n",
       "<table border=\"1\" class=\"dataframe\">\n",
       "  <thead>\n",
       "    <tr style=\"text-align: right;\">\n",
       "      <th></th>\n",
       "      <th>Adj_Close</th>\n",
       "      <th>High</th>\n",
       "      <th>Low</th>\n",
       "      <th>Open</th>\n",
       "      <th>Volume</th>\n",
       "      <th>epoch_time</th>\n",
       "      <th>opt_expiry</th>\n",
       "      <th>10DaysMA</th>\n",
       "      <th>30DaysMA</th>\n",
       "      <th>50DaysMA</th>\n",
       "      <th>Scaled_Close</th>\n",
       "    </tr>\n",
       "  </thead>\n",
       "  <tbody>\n",
       "    <tr>\n",
       "      <th>49</th>\n",
       "      <td>0.161604</td>\n",
       "      <td>0.173238</td>\n",
       "      <td>0.194580</td>\n",
       "      <td>0.187702</td>\n",
       "      <td>0.265254</td>\n",
       "      <td>1.580688e+09</td>\n",
       "      <td>0</td>\n",
       "      <td>0.164218</td>\n",
       "      <td>0.149831</td>\n",
       "      <td>0.146720</td>\n",
       "      <td>0.181469</td>\n",
       "    </tr>\n",
       "    <tr>\n",
       "      <th>50</th>\n",
       "      <td>0.163053</td>\n",
       "      <td>0.174312</td>\n",
       "      <td>0.199532</td>\n",
       "      <td>0.189602</td>\n",
       "      <td>0.161959</td>\n",
       "      <td>1.580774e+09</td>\n",
       "      <td>0</td>\n",
       "      <td>0.163898</td>\n",
       "      <td>0.149627</td>\n",
       "      <td>0.146153</td>\n",
       "      <td>0.183068</td>\n",
       "    </tr>\n",
       "    <tr>\n",
       "      <th>51</th>\n",
       "      <td>0.168252</td>\n",
       "      <td>0.179906</td>\n",
       "      <td>0.201904</td>\n",
       "      <td>0.190203</td>\n",
       "      <td>0.191366</td>\n",
       "      <td>1.580861e+09</td>\n",
       "      <td>0</td>\n",
       "      <td>0.164376</td>\n",
       "      <td>0.149722</td>\n",
       "      <td>0.145817</td>\n",
       "      <td>0.188806</td>\n",
       "    </tr>\n",
       "    <tr>\n",
       "      <th>52</th>\n",
       "      <td>0.170397</td>\n",
       "      <td>0.179906</td>\n",
       "      <td>0.206379</td>\n",
       "      <td>0.198119</td>\n",
       "      <td>0.102273</td>\n",
       "      <td>1.580947e+09</td>\n",
       "      <td>0</td>\n",
       "      <td>0.163933</td>\n",
       "      <td>0.150123</td>\n",
       "      <td>0.145703</td>\n",
       "      <td>0.191173</td>\n",
       "    </tr>\n",
       "    <tr>\n",
       "      <th>53</th>\n",
       "      <td>0.165113</td>\n",
       "      <td>0.176556</td>\n",
       "      <td>0.202223</td>\n",
       "      <td>0.195000</td>\n",
       "      <td>0.135670</td>\n",
       "      <td>1.581034e+09</td>\n",
       "      <td>0</td>\n",
       "      <td>0.162117</td>\n",
       "      <td>0.150117</td>\n",
       "      <td>0.145379</td>\n",
       "      <td>0.185341</td>\n",
       "    </tr>\n",
       "    <tr>\n",
       "      <th>...</th>\n",
       "      <td>...</td>\n",
       "      <td>...</td>\n",
       "      <td>...</td>\n",
       "      <td>...</td>\n",
       "      <td>...</td>\n",
       "      <td>...</td>\n",
       "      <td>...</td>\n",
       "      <td>...</td>\n",
       "      <td>...</td>\n",
       "      <td>...</td>\n",
       "      <td>...</td>\n",
       "    </tr>\n",
       "    <tr>\n",
       "      <th>1013</th>\n",
       "      <td>0.870499</td>\n",
       "      <td>0.866030</td>\n",
       "      <td>0.875004</td>\n",
       "      <td>0.863403</td>\n",
       "      <td>0.070147</td>\n",
       "      <td>1.703203e+09</td>\n",
       "      <td>0</td>\n",
       "      <td>0.887673</td>\n",
       "      <td>0.842975</td>\n",
       "      <td>0.812802</td>\n",
       "      <td>0.868558</td>\n",
       "    </tr>\n",
       "    <tr>\n",
       "      <th>1014</th>\n",
       "      <td>0.874237</td>\n",
       "      <td>0.869934</td>\n",
       "      <td>0.897089</td>\n",
       "      <td>0.880486</td>\n",
       "      <td>0.041043</td>\n",
       "      <td>1.703549e+09</td>\n",
       "      <td>0</td>\n",
       "      <td>0.891092</td>\n",
       "      <td>0.848281</td>\n",
       "      <td>0.815577</td>\n",
       "      <td>0.872352</td>\n",
       "    </tr>\n",
       "    <tr>\n",
       "      <th>1015</th>\n",
       "      <td>0.890903</td>\n",
       "      <td>0.882781</td>\n",
       "      <td>0.905433</td>\n",
       "      <td>0.890634</td>\n",
       "      <td>0.056181</td>\n",
       "      <td>1.703635e+09</td>\n",
       "      <td>0</td>\n",
       "      <td>0.897703</td>\n",
       "      <td>0.854107</td>\n",
       "      <td>0.818774</td>\n",
       "      <td>0.889269</td>\n",
       "    </tr>\n",
       "    <tr>\n",
       "      <th>1016</th>\n",
       "      <td>0.882886</td>\n",
       "      <td>0.886241</td>\n",
       "      <td>0.904271</td>\n",
       "      <td>0.901716</td>\n",
       "      <td>0.150823</td>\n",
       "      <td>1.703722e+09</td>\n",
       "      <td>1</td>\n",
       "      <td>0.901581</td>\n",
       "      <td>0.859462</td>\n",
       "      <td>0.821737</td>\n",
       "      <td>0.881132</td>\n",
       "    </tr>\n",
       "    <tr>\n",
       "      <th>1017</th>\n",
       "      <td>0.885342</td>\n",
       "      <td>0.879936</td>\n",
       "      <td>0.902519</td>\n",
       "      <td>0.897283</td>\n",
       "      <td>0.036092</td>\n",
       "      <td>1.703808e+09</td>\n",
       "      <td>0</td>\n",
       "      <td>0.904628</td>\n",
       "      <td>0.864721</td>\n",
       "      <td>0.824669</td>\n",
       "      <td>0.883625</td>\n",
       "    </tr>\n",
       "  </tbody>\n",
       "</table>\n",
       "<p>969 rows × 11 columns</p>\n",
       "</div>"
      ],
      "text/plain": [
       "      Adj_Close      High       Low      Open    Volume    epoch_time  \\\n",
       "49     0.161604  0.173238  0.194580  0.187702  0.265254  1.580688e+09   \n",
       "50     0.163053  0.174312  0.199532  0.189602  0.161959  1.580774e+09   \n",
       "51     0.168252  0.179906  0.201904  0.190203  0.191366  1.580861e+09   \n",
       "52     0.170397  0.179906  0.206379  0.198119  0.102273  1.580947e+09   \n",
       "53     0.165113  0.176556  0.202223  0.195000  0.135670  1.581034e+09   \n",
       "...         ...       ...       ...       ...       ...           ...   \n",
       "1013   0.870499  0.866030  0.875004  0.863403  0.070147  1.703203e+09   \n",
       "1014   0.874237  0.869934  0.897089  0.880486  0.041043  1.703549e+09   \n",
       "1015   0.890903  0.882781  0.905433  0.890634  0.056181  1.703635e+09   \n",
       "1016   0.882886  0.886241  0.904271  0.901716  0.150823  1.703722e+09   \n",
       "1017   0.885342  0.879936  0.902519  0.897283  0.036092  1.703808e+09   \n",
       "\n",
       "      opt_expiry  10DaysMA  30DaysMA  50DaysMA  Scaled_Close  \n",
       "49             0  0.164218  0.149831  0.146720      0.181469  \n",
       "50             0  0.163898  0.149627  0.146153      0.183068  \n",
       "51             0  0.164376  0.149722  0.145817      0.188806  \n",
       "52             0  0.163933  0.150123  0.145703      0.191173  \n",
       "53             0  0.162117  0.150117  0.145379      0.185341  \n",
       "...          ...       ...       ...       ...           ...  \n",
       "1013           0  0.887673  0.842975  0.812802      0.868558  \n",
       "1014           0  0.891092  0.848281  0.815577      0.872352  \n",
       "1015           0  0.897703  0.854107  0.818774      0.889269  \n",
       "1016           1  0.901581  0.859462  0.821737      0.881132  \n",
       "1017           0  0.904628  0.864721  0.824669      0.883625  \n",
       "\n",
       "[969 rows x 11 columns]"
      ]
     },
     "execution_count": 104,
     "metadata": {},
     "output_type": "execute_result"
    }
   ],
   "source": [
    "df_train_scaled"
   ]
  },
  {
   "cell_type": "code",
   "execution_count": 107,
   "id": "55fc648a-3321-462b-972b-15d87bff90f5",
   "metadata": {},
   "outputs": [
    {
     "data": {
      "text/plain": [
       "(919, 50, 12)"
      ]
     },
     "execution_count": 107,
     "metadata": {},
     "output_type": "execute_result"
    }
   ],
   "source": [
    "sequences.shape"
   ]
  },
  {
   "cell_type": "code",
   "execution_count": 106,
   "id": "51ea5b1e-a234-419e-bcde-a38ce4f426cb",
   "metadata": {},
   "outputs": [],
   "source": [
    "class TransformerEncoder(Layer):\n",
    "    def __init__(self, num_heads, key_dim, ff_dim, dropout=0.1):\n",
    "        super(TransformerEncoder, self).__init__()\n",
    "        self.att = MultiHeadAttention(num_heads=num_heads, key_dim=key_dim)\n",
    "        self.ffn = tf.keras.Sequential([\n",
    "            Dense(ff_dim, activation='relu'),\n",
    "            Dense(key_dim)\n",
    "        ])\n",
    "        self.layernorm1 = LayerNormalization(epsilon=1e-6)\n",
    "        self.layernorm2 = LayerNormalization(epsilon=1e-6)\n",
    "        #self.dropout1 = Dropout(dropout)\n",
    "        #self.dropout2 = Dropout(dropout)\n",
    "\n",
    "    def call(self, inputs, training=False):\n",
    "        print(f\"Input shape before attention: {inputs.shape}\")\n",
    "        attn_output = self.att(query=inputs, value=inputs, key=inputs)\n",
    "        #attn_output = self.dropout1(attn_output, training=training)\n",
    "        print(f\"Attention output shape: {attn_output.shape}\")\n",
    "        out1 = self.layernorm1(inputs + attn_output)  # Add & Normalize\n",
    "\n",
    "        ffn_output = self.ffn(out1)\n",
    "        #ffn_output = self.dropout2(ffn_output, training=training)\n",
    "        out2 = self.layernorm2(out1 + ffn_output)  # Add & Normalize\n",
    "        return out2"
   ]
  },
  {
   "cell_type": "code",
   "execution_count": 114,
   "id": "3d2b7a57-a6ad-4cb2-b8c2-8747b1fd1fe4",
   "metadata": {},
   "outputs": [],
   "source": [
    "def create_transformer_model(input_shape, transformer_layers, num_heads, key_dim, ff_dim, dense_units, dropout_rate):\n",
    "    # Input Layer\n",
    "    input_layer = Input(shape=input_shape)\n",
    "\n",
    "    # Transformer Encoder Layers\n",
    "    transformer_output = input_layer\n",
    "    for _ in range(transformer_layers):\n",
    "        transformer_layer = TransformerEncoder(\n",
    "            num_heads=num_heads, key_dim=key_dim, ff_dim=ff_dim, dropout=dropout_rate\n",
    "        )\n",
    "        transformer_output = transformer_layer(transformer_output)\n",
    "\n",
    "    # Global Average Pooling\n",
    "    pooled_output = GlobalAveragePooling1D()(transformer_output)\n",
    "\n",
    "    # Dense Layers with Dropout\n",
    "    dense_1 = Dense(dense_units, activation=\"relu\")(pooled_output)\n",
    "    #dropout_1 = Dropout(dropout_rate)(dense_1)\n",
    "    #dense_2 = Dense(dense_units, activation=\"relu\")(dropout_1)\n",
    "    dense_2 = Dense(dense_units, activation=\"relu\")(dense_1)\n",
    "    #dropout_2 = Dropout(dropout_rate)(dense_2)\n",
    "\n",
    "    # Output Layer\n",
    "    #output_layer = Dense(1, activation=\"linear\")(dropout_2)\n",
    "    output_layer = Dense(1, activation=\"linear\")(dense_2)\n",
    "\n",
    "    # Model\n",
    "    model = Model(inputs=input_layer, outputs=output_layer)\n",
    "    return model"
   ]
  },
  {
   "cell_type": "code",
   "execution_count": 115,
   "id": "3b60e77c-f453-4c82-80d1-5d7ce13dfd42",
   "metadata": {},
   "outputs": [],
   "source": [
    "input_shape = (50, 12)  # Update this based on your dataset\n",
    "transformer_layers = 3\n",
    "time2vec_dim = 2\n",
    "dense_units = 512\n",
    "dropout_rate = 0.2\n",
    "num_heads = 4\n",
    "key_dim = 12\n",
    "ff_dim = 128"
   ]
  },
  {
   "cell_type": "code",
   "execution_count": 116,
   "id": "fdd840c0-6f2f-481a-ba8a-034eb6cf98e3",
   "metadata": {},
   "outputs": [
    {
     "name": "stdout",
     "output_type": "stream",
     "text": [
      "Input shape before attention: (None, 50, 12)\n",
      "Attention output shape: (None, 50, 12)\n",
      "Input shape before attention: (None, 50, 12)\n",
      "Attention output shape: (None, 50, 12)\n",
      "Input shape before attention: (None, 50, 12)\n",
      "Attention output shape: (None, 50, 12)\n",
      "Input shape before attention: (None, 50, 12)\n",
      "Attention output shape: (None, 50, 12)\n",
      "Input shape before attention: (None, 50, 12)\n",
      "Attention output shape: (None, 50, 12)\n",
      "Input shape before attention: (None, 50, 12)\n",
      "Attention output shape: (None, 50, 12)\n"
     ]
    }
   ],
   "source": [
    "model = create_transformer_model(input_shape, transformer_layers, num_heads, key_dim, ff_dim, dense_units, dropout_rate)"
   ]
  },
  {
   "cell_type": "code",
   "execution_count": 117,
   "id": "82061e7f-4f7d-4996-b0e3-507f5c2666b0",
   "metadata": {
    "scrolled": true
   },
   "outputs": [
    {
     "data": {
      "text/html": [
       "<pre style=\"white-space:pre;overflow-x:auto;line-height:normal;font-family:Menlo,'DejaVu Sans Mono',consolas,'Courier New',monospace\"><span style=\"font-weight: bold\">Model: \"functional_7\"</span>\n",
       "</pre>\n"
      ],
      "text/plain": [
       "\u001b[1mModel: \"functional_7\"\u001b[0m\n"
      ]
     },
     "metadata": {},
     "output_type": "display_data"
    },
    {
     "data": {
      "text/html": [
       "<pre style=\"white-space:pre;overflow-x:auto;line-height:normal;font-family:Menlo,'DejaVu Sans Mono',consolas,'Courier New',monospace\">┏━━━━━━━━━━━━━━━━━━━━━━━━━━━━━━━━━┳━━━━━━━━━━━━━━━━━━━━━━━━┳━━━━━━━━━━━━━━━┓\n",
       "┃<span style=\"font-weight: bold\"> Layer (type)                    </span>┃<span style=\"font-weight: bold\"> Output Shape           </span>┃<span style=\"font-weight: bold\">       Param # </span>┃\n",
       "┡━━━━━━━━━━━━━━━━━━━━━━━━━━━━━━━━━╇━━━━━━━━━━━━━━━━━━━━━━━━╇━━━━━━━━━━━━━━━┩\n",
       "│ input_layer_4 (<span style=\"color: #0087ff; text-decoration-color: #0087ff\">InputLayer</span>)      │ (<span style=\"color: #00d7ff; text-decoration-color: #00d7ff\">None</span>, <span style=\"color: #00af00; text-decoration-color: #00af00\">50</span>, <span style=\"color: #00af00; text-decoration-color: #00af00\">12</span>)         │             <span style=\"color: #00af00; text-decoration-color: #00af00\">0</span> │\n",
       "├─────────────────────────────────┼────────────────────────┼───────────────┤\n",
       "│ transformer_encoder_3           │ (<span style=\"color: #00d7ff; text-decoration-color: #00d7ff\">None</span>, <span style=\"color: #00af00; text-decoration-color: #00af00\">50</span>, <span style=\"color: #00af00; text-decoration-color: #00af00\">12</span>)         │         <span style=\"color: #00af00; text-decoration-color: #00af00\">5,720</span> │\n",
       "│ (<span style=\"color: #0087ff; text-decoration-color: #0087ff\">TransformerEncoder</span>)            │                        │               │\n",
       "├─────────────────────────────────┼────────────────────────┼───────────────┤\n",
       "│ transformer_encoder_4           │ (<span style=\"color: #00d7ff; text-decoration-color: #00d7ff\">None</span>, <span style=\"color: #00af00; text-decoration-color: #00af00\">50</span>, <span style=\"color: #00af00; text-decoration-color: #00af00\">12</span>)         │         <span style=\"color: #00af00; text-decoration-color: #00af00\">5,720</span> │\n",
       "│ (<span style=\"color: #0087ff; text-decoration-color: #0087ff\">TransformerEncoder</span>)            │                        │               │\n",
       "├─────────────────────────────────┼────────────────────────┼───────────────┤\n",
       "│ transformer_encoder_5           │ (<span style=\"color: #00d7ff; text-decoration-color: #00d7ff\">None</span>, <span style=\"color: #00af00; text-decoration-color: #00af00\">50</span>, <span style=\"color: #00af00; text-decoration-color: #00af00\">12</span>)         │         <span style=\"color: #00af00; text-decoration-color: #00af00\">5,720</span> │\n",
       "│ (<span style=\"color: #0087ff; text-decoration-color: #0087ff\">TransformerEncoder</span>)            │                        │               │\n",
       "├─────────────────────────────────┼────────────────────────┼───────────────┤\n",
       "│ global_average_pooling1d_1      │ (<span style=\"color: #00d7ff; text-decoration-color: #00d7ff\">None</span>, <span style=\"color: #00af00; text-decoration-color: #00af00\">12</span>)             │             <span style=\"color: #00af00; text-decoration-color: #00af00\">0</span> │\n",
       "│ (<span style=\"color: #0087ff; text-decoration-color: #0087ff\">GlobalAveragePooling1D</span>)        │                        │               │\n",
       "├─────────────────────────────────┼────────────────────────┼───────────────┤\n",
       "│ dense_15 (<span style=\"color: #0087ff; text-decoration-color: #0087ff\">Dense</span>)                │ (<span style=\"color: #00d7ff; text-decoration-color: #00d7ff\">None</span>, <span style=\"color: #00af00; text-decoration-color: #00af00\">512</span>)            │         <span style=\"color: #00af00; text-decoration-color: #00af00\">6,656</span> │\n",
       "├─────────────────────────────────┼────────────────────────┼───────────────┤\n",
       "│ dense_16 (<span style=\"color: #0087ff; text-decoration-color: #0087ff\">Dense</span>)                │ (<span style=\"color: #00d7ff; text-decoration-color: #00d7ff\">None</span>, <span style=\"color: #00af00; text-decoration-color: #00af00\">512</span>)            │       <span style=\"color: #00af00; text-decoration-color: #00af00\">262,656</span> │\n",
       "├─────────────────────────────────┼────────────────────────┼───────────────┤\n",
       "│ dense_17 (<span style=\"color: #0087ff; text-decoration-color: #0087ff\">Dense</span>)                │ (<span style=\"color: #00d7ff; text-decoration-color: #00d7ff\">None</span>, <span style=\"color: #00af00; text-decoration-color: #00af00\">1</span>)              │           <span style=\"color: #00af00; text-decoration-color: #00af00\">513</span> │\n",
       "└─────────────────────────────────┴────────────────────────┴───────────────┘\n",
       "</pre>\n"
      ],
      "text/plain": [
       "┏━━━━━━━━━━━━━━━━━━━━━━━━━━━━━━━━━┳━━━━━━━━━━━━━━━━━━━━━━━━┳━━━━━━━━━━━━━━━┓\n",
       "┃\u001b[1m \u001b[0m\u001b[1mLayer (type)                   \u001b[0m\u001b[1m \u001b[0m┃\u001b[1m \u001b[0m\u001b[1mOutput Shape          \u001b[0m\u001b[1m \u001b[0m┃\u001b[1m \u001b[0m\u001b[1m      Param #\u001b[0m\u001b[1m \u001b[0m┃\n",
       "┡━━━━━━━━━━━━━━━━━━━━━━━━━━━━━━━━━╇━━━━━━━━━━━━━━━━━━━━━━━━╇━━━━━━━━━━━━━━━┩\n",
       "│ input_layer_4 (\u001b[38;5;33mInputLayer\u001b[0m)      │ (\u001b[38;5;45mNone\u001b[0m, \u001b[38;5;34m50\u001b[0m, \u001b[38;5;34m12\u001b[0m)         │             \u001b[38;5;34m0\u001b[0m │\n",
       "├─────────────────────────────────┼────────────────────────┼───────────────┤\n",
       "│ transformer_encoder_3           │ (\u001b[38;5;45mNone\u001b[0m, \u001b[38;5;34m50\u001b[0m, \u001b[38;5;34m12\u001b[0m)         │         \u001b[38;5;34m5,720\u001b[0m │\n",
       "│ (\u001b[38;5;33mTransformerEncoder\u001b[0m)            │                        │               │\n",
       "├─────────────────────────────────┼────────────────────────┼───────────────┤\n",
       "│ transformer_encoder_4           │ (\u001b[38;5;45mNone\u001b[0m, \u001b[38;5;34m50\u001b[0m, \u001b[38;5;34m12\u001b[0m)         │         \u001b[38;5;34m5,720\u001b[0m │\n",
       "│ (\u001b[38;5;33mTransformerEncoder\u001b[0m)            │                        │               │\n",
       "├─────────────────────────────────┼────────────────────────┼───────────────┤\n",
       "│ transformer_encoder_5           │ (\u001b[38;5;45mNone\u001b[0m, \u001b[38;5;34m50\u001b[0m, \u001b[38;5;34m12\u001b[0m)         │         \u001b[38;5;34m5,720\u001b[0m │\n",
       "│ (\u001b[38;5;33mTransformerEncoder\u001b[0m)            │                        │               │\n",
       "├─────────────────────────────────┼────────────────────────┼───────────────┤\n",
       "│ global_average_pooling1d_1      │ (\u001b[38;5;45mNone\u001b[0m, \u001b[38;5;34m12\u001b[0m)             │             \u001b[38;5;34m0\u001b[0m │\n",
       "│ (\u001b[38;5;33mGlobalAveragePooling1D\u001b[0m)        │                        │               │\n",
       "├─────────────────────────────────┼────────────────────────┼───────────────┤\n",
       "│ dense_15 (\u001b[38;5;33mDense\u001b[0m)                │ (\u001b[38;5;45mNone\u001b[0m, \u001b[38;5;34m512\u001b[0m)            │         \u001b[38;5;34m6,656\u001b[0m │\n",
       "├─────────────────────────────────┼────────────────────────┼───────────────┤\n",
       "│ dense_16 (\u001b[38;5;33mDense\u001b[0m)                │ (\u001b[38;5;45mNone\u001b[0m, \u001b[38;5;34m512\u001b[0m)            │       \u001b[38;5;34m262,656\u001b[0m │\n",
       "├─────────────────────────────────┼────────────────────────┼───────────────┤\n",
       "│ dense_17 (\u001b[38;5;33mDense\u001b[0m)                │ (\u001b[38;5;45mNone\u001b[0m, \u001b[38;5;34m1\u001b[0m)              │           \u001b[38;5;34m513\u001b[0m │\n",
       "└─────────────────────────────────┴────────────────────────┴───────────────┘\n"
      ]
     },
     "metadata": {},
     "output_type": "display_data"
    },
    {
     "data": {
      "text/html": [
       "<pre style=\"white-space:pre;overflow-x:auto;line-height:normal;font-family:Menlo,'DejaVu Sans Mono',consolas,'Courier New',monospace\"><span style=\"font-weight: bold\"> Total params: </span><span style=\"color: #00af00; text-decoration-color: #00af00\">286,985</span> (1.09 MB)\n",
       "</pre>\n"
      ],
      "text/plain": [
       "\u001b[1m Total params: \u001b[0m\u001b[38;5;34m286,985\u001b[0m (1.09 MB)\n"
      ]
     },
     "metadata": {},
     "output_type": "display_data"
    },
    {
     "data": {
      "text/html": [
       "<pre style=\"white-space:pre;overflow-x:auto;line-height:normal;font-family:Menlo,'DejaVu Sans Mono',consolas,'Courier New',monospace\"><span style=\"font-weight: bold\"> Trainable params: </span><span style=\"color: #00af00; text-decoration-color: #00af00\">286,985</span> (1.09 MB)\n",
       "</pre>\n"
      ],
      "text/plain": [
       "\u001b[1m Trainable params: \u001b[0m\u001b[38;5;34m286,985\u001b[0m (1.09 MB)\n"
      ]
     },
     "metadata": {},
     "output_type": "display_data"
    },
    {
     "data": {
      "text/html": [
       "<pre style=\"white-space:pre;overflow-x:auto;line-height:normal;font-family:Menlo,'DejaVu Sans Mono',consolas,'Courier New',monospace\"><span style=\"font-weight: bold\"> Non-trainable params: </span><span style=\"color: #00af00; text-decoration-color: #00af00\">0</span> (0.00 B)\n",
       "</pre>\n"
      ],
      "text/plain": [
       "\u001b[1m Non-trainable params: \u001b[0m\u001b[38;5;34m0\u001b[0m (0.00 B)\n"
      ]
     },
     "metadata": {},
     "output_type": "display_data"
    }
   ],
   "source": [
    "model.compile(optimizer=Adam(learning_rate=0.001), loss='mse', metrics=['mae'])\n",
    "model.summary()"
   ]
  },
  {
   "cell_type": "code",
   "execution_count": 121,
   "id": "c99cd5d4-5937-4f92-8f43-c92be4446fe4",
   "metadata": {},
   "outputs": [
    {
     "name": "stdout",
     "output_type": "stream",
     "text": [
      "Epoch 1/150\n",
      "\u001b[1m29/29\u001b[0m \u001b[32m━━━━━━━━━━━━━━━━━━━━\u001b[0m\u001b[37m\u001b[0m \u001b[1m0s\u001b[0m 12ms/step - loss: 0.0423 - mae: 0.1624 - val_loss: 0.4294 - val_mae: 0.6539\n",
      "Epoch 2/150\n",
      "\u001b[1m29/29\u001b[0m \u001b[32m━━━━━━━━━━━━━━━━━━━━\u001b[0m\u001b[37m\u001b[0m \u001b[1m0s\u001b[0m 11ms/step - loss: 0.0417 - mae: 0.1585 - val_loss: 0.3155 - val_mae: 0.5600\n",
      "Epoch 3/150\n",
      "\u001b[1m29/29\u001b[0m \u001b[32m━━━━━━━━━━━━━━━━━━━━\u001b[0m\u001b[37m\u001b[0m \u001b[1m0s\u001b[0m 11ms/step - loss: 0.0400 - mae: 0.1592 - val_loss: 0.4138 - val_mae: 0.6418\n",
      "Epoch 4/150\n",
      "\u001b[1m29/29\u001b[0m \u001b[32m━━━━━━━━━━━━━━━━━━━━\u001b[0m\u001b[37m\u001b[0m \u001b[1m0s\u001b[0m 11ms/step - loss: 0.0375 - mae: 0.1508 - val_loss: 0.3084 - val_mae: 0.5537\n",
      "Epoch 5/150\n",
      "\u001b[1m29/29\u001b[0m \u001b[32m━━━━━━━━━━━━━━━━━━━━\u001b[0m\u001b[37m\u001b[0m \u001b[1m0s\u001b[0m 11ms/step - loss: 0.0376 - mae: 0.1508 - val_loss: 0.3778 - val_mae: 0.6132\n",
      "Epoch 6/150\n",
      "\u001b[1m29/29\u001b[0m \u001b[32m━━━━━━━━━━━━━━━━━━━━\u001b[0m\u001b[37m\u001b[0m \u001b[1m0s\u001b[0m 11ms/step - loss: 0.0357 - mae: 0.1441 - val_loss: 0.2882 - val_mae: 0.5351\n",
      "Epoch 7/150\n",
      "\u001b[1m29/29\u001b[0m \u001b[32m━━━━━━━━━━━━━━━━━━━━\u001b[0m\u001b[37m\u001b[0m \u001b[1m0s\u001b[0m 12ms/step - loss: 0.0375 - mae: 0.1538 - val_loss: 0.3437 - val_mae: 0.5847\n",
      "Epoch 8/150\n",
      "\u001b[1m29/29\u001b[0m \u001b[32m━━━━━━━━━━━━━━━━━━━━\u001b[0m\u001b[37m\u001b[0m \u001b[1m0s\u001b[0m 11ms/step - loss: 0.0404 - mae: 0.1559 - val_loss: 0.3703 - val_mae: 0.6071\n",
      "Epoch 9/150\n",
      "\u001b[1m29/29\u001b[0m \u001b[32m━━━━━━━━━━━━━━━━━━━━\u001b[0m\u001b[37m\u001b[0m \u001b[1m0s\u001b[0m 11ms/step - loss: 0.0386 - mae: 0.1507 - val_loss: 0.2995 - val_mae: 0.5456\n",
      "Epoch 10/150\n",
      "\u001b[1m29/29\u001b[0m \u001b[32m━━━━━━━━━━━━━━━━━━━━\u001b[0m\u001b[37m\u001b[0m \u001b[1m0s\u001b[0m 12ms/step - loss: 0.0387 - mae: 0.1531 - val_loss: 0.3257 - val_mae: 0.5691\n",
      "Epoch 11/150\n",
      "\u001b[1m29/29\u001b[0m \u001b[32m━━━━━━━━━━━━━━━━━━━━\u001b[0m\u001b[37m\u001b[0m \u001b[1m0s\u001b[0m 12ms/step - loss: 0.0364 - mae: 0.1479 - val_loss: 0.2883 - val_mae: 0.5353\n",
      "Epoch 12/150\n",
      "\u001b[1m29/29\u001b[0m \u001b[32m━━━━━━━━━━━━━━━━━━━━\u001b[0m\u001b[37m\u001b[0m \u001b[1m0s\u001b[0m 12ms/step - loss: 0.0384 - mae: 0.1532 - val_loss: 0.2774 - val_mae: 0.5250\n",
      "Epoch 13/150\n",
      "\u001b[1m29/29\u001b[0m \u001b[32m━━━━━━━━━━━━━━━━━━━━\u001b[0m\u001b[37m\u001b[0m \u001b[1m0s\u001b[0m 11ms/step - loss: 0.0386 - mae: 0.1559 - val_loss: 0.3493 - val_mae: 0.5895\n",
      "Epoch 14/150\n",
      "\u001b[1m29/29\u001b[0m \u001b[32m━━━━━━━━━━━━━━━━━━━━\u001b[0m\u001b[37m\u001b[0m \u001b[1m0s\u001b[0m 11ms/step - loss: 0.0335 - mae: 0.1405 - val_loss: 0.3012 - val_mae: 0.5472\n",
      "Epoch 15/150\n",
      "\u001b[1m29/29\u001b[0m \u001b[32m━━━━━━━━━━━━━━━━━━━━\u001b[0m\u001b[37m\u001b[0m \u001b[1m0s\u001b[0m 14ms/step - loss: 0.0411 - mae: 0.1573 - val_loss: 0.2864 - val_mae: 0.5334\n",
      "Epoch 16/150\n",
      "\u001b[1m29/29\u001b[0m \u001b[32m━━━━━━━━━━━━━━━━━━━━\u001b[0m\u001b[37m\u001b[0m \u001b[1m0s\u001b[0m 14ms/step - loss: 0.0365 - mae: 0.1491 - val_loss: 0.3034 - val_mae: 0.5492\n",
      "Epoch 17/150\n",
      "\u001b[1m29/29\u001b[0m \u001b[32m━━━━━━━━━━━━━━━━━━━━\u001b[0m\u001b[37m\u001b[0m \u001b[1m0s\u001b[0m 11ms/step - loss: 0.0367 - mae: 0.1501 - val_loss: 0.3140 - val_mae: 0.5587\n",
      "Epoch 18/150\n",
      "\u001b[1m29/29\u001b[0m \u001b[32m━━━━━━━━━━━━━━━━━━━━\u001b[0m\u001b[37m\u001b[0m \u001b[1m0s\u001b[0m 11ms/step - loss: 0.0364 - mae: 0.1500 - val_loss: 0.2579 - val_mae: 0.5060\n",
      "Epoch 19/150\n",
      "\u001b[1m29/29\u001b[0m \u001b[32m━━━━━━━━━━━━━━━━━━━━\u001b[0m\u001b[37m\u001b[0m \u001b[1m0s\u001b[0m 11ms/step - loss: 0.0398 - mae: 0.1571 - val_loss: 0.3841 - val_mae: 0.6183\n",
      "Epoch 20/150\n",
      "\u001b[1m29/29\u001b[0m \u001b[32m━━━━━━━━━━━━━━━━━━━━\u001b[0m\u001b[37m\u001b[0m \u001b[1m0s\u001b[0m 12ms/step - loss: 0.0369 - mae: 0.1489 - val_loss: 0.3145 - val_mae: 0.5592\n",
      "Epoch 21/150\n",
      "\u001b[1m29/29\u001b[0m \u001b[32m━━━━━━━━━━━━━━━━━━━━\u001b[0m\u001b[37m\u001b[0m \u001b[1m0s\u001b[0m 12ms/step - loss: 0.0355 - mae: 0.1467 - val_loss: 0.3315 - val_mae: 0.5742\n",
      "Epoch 22/150\n",
      "\u001b[1m29/29\u001b[0m \u001b[32m━━━━━━━━━━━━━━━━━━━━\u001b[0m\u001b[37m\u001b[0m \u001b[1m0s\u001b[0m 12ms/step - loss: 0.0338 - mae: 0.1419 - val_loss: 0.2779 - val_mae: 0.5254\n",
      "Epoch 23/150\n",
      "\u001b[1m29/29\u001b[0m \u001b[32m━━━━━━━━━━━━━━━━━━━━\u001b[0m\u001b[37m\u001b[0m \u001b[1m0s\u001b[0m 11ms/step - loss: 0.0376 - mae: 0.1504 - val_loss: 0.2779 - val_mae: 0.5255\n",
      "Epoch 24/150\n",
      "\u001b[1m29/29\u001b[0m \u001b[32m━━━━━━━━━━━━━━━━━━━━\u001b[0m\u001b[37m\u001b[0m \u001b[1m0s\u001b[0m 11ms/step - loss: 0.0361 - mae: 0.1474 - val_loss: 0.2886 - val_mae: 0.5355\n",
      "Epoch 25/150\n",
      "\u001b[1m29/29\u001b[0m \u001b[32m━━━━━━━━━━━━━━━━━━━━\u001b[0m\u001b[37m\u001b[0m \u001b[1m0s\u001b[0m 11ms/step - loss: 0.0385 - mae: 0.1538 - val_loss: 0.3025 - val_mae: 0.5483\n",
      "Epoch 26/150\n",
      "\u001b[1m29/29\u001b[0m \u001b[32m━━━━━━━━━━━━━━━━━━━━\u001b[0m\u001b[37m\u001b[0m \u001b[1m0s\u001b[0m 11ms/step - loss: 0.0352 - mae: 0.1456 - val_loss: 0.3391 - val_mae: 0.5808\n",
      "Epoch 27/150\n",
      "\u001b[1m29/29\u001b[0m \u001b[32m━━━━━━━━━━━━━━━━━━━━\u001b[0m\u001b[37m\u001b[0m \u001b[1m0s\u001b[0m 11ms/step - loss: 0.0371 - mae: 0.1496 - val_loss: 0.3076 - val_mae: 0.5529\n",
      "Epoch 28/150\n",
      "\u001b[1m29/29\u001b[0m \u001b[32m━━━━━━━━━━━━━━━━━━━━\u001b[0m\u001b[37m\u001b[0m \u001b[1m0s\u001b[0m 11ms/step - loss: 0.0369 - mae: 0.1493 - val_loss: 0.3054 - val_mae: 0.5509\n",
      "Epoch 29/150\n",
      "\u001b[1m29/29\u001b[0m \u001b[32m━━━━━━━━━━━━━━━━━━━━\u001b[0m\u001b[37m\u001b[0m \u001b[1m0s\u001b[0m 12ms/step - loss: 0.0350 - mae: 0.1439 - val_loss: 0.3713 - val_mae: 0.6079\n",
      "Epoch 30/150\n",
      "\u001b[1m29/29\u001b[0m \u001b[32m━━━━━━━━━━━━━━━━━━━━\u001b[0m\u001b[37m\u001b[0m \u001b[1m0s\u001b[0m 11ms/step - loss: 0.0365 - mae: 0.1490 - val_loss: 0.2824 - val_mae: 0.5297\n",
      "Epoch 31/150\n",
      "\u001b[1m29/29\u001b[0m \u001b[32m━━━━━━━━━━━━━━━━━━━━\u001b[0m\u001b[37m\u001b[0m \u001b[1m0s\u001b[0m 11ms/step - loss: 0.0380 - mae: 0.1503 - val_loss: 0.2977 - val_mae: 0.5440\n",
      "Epoch 32/150\n",
      "\u001b[1m29/29\u001b[0m \u001b[32m━━━━━━━━━━━━━━━━━━━━\u001b[0m\u001b[37m\u001b[0m \u001b[1m0s\u001b[0m 10ms/step - loss: 0.0348 - mae: 0.1444 - val_loss: 0.3408 - val_mae: 0.5822\n",
      "Epoch 33/150\n",
      "\u001b[1m29/29\u001b[0m \u001b[32m━━━━━━━━━━━━━━━━━━━━\u001b[0m\u001b[37m\u001b[0m \u001b[1m0s\u001b[0m 12ms/step - loss: 0.0374 - mae: 0.1496 - val_loss: 0.3366 - val_mae: 0.5786\n",
      "Epoch 34/150\n",
      "\u001b[1m29/29\u001b[0m \u001b[32m━━━━━━━━━━━━━━━━━━━━\u001b[0m\u001b[37m\u001b[0m \u001b[1m0s\u001b[0m 12ms/step - loss: 0.0421 - mae: 0.1622 - val_loss: 0.3078 - val_mae: 0.5532\n",
      "Epoch 35/150\n",
      "\u001b[1m29/29\u001b[0m \u001b[32m━━━━━━━━━━━━━━━━━━━━\u001b[0m\u001b[37m\u001b[0m \u001b[1m0s\u001b[0m 12ms/step - loss: 0.0376 - mae: 0.1497 - val_loss: 0.3583 - val_mae: 0.5971\n",
      "Epoch 36/150\n",
      "\u001b[1m29/29\u001b[0m \u001b[32m━━━━━━━━━━━━━━━━━━━━\u001b[0m\u001b[37m\u001b[0m \u001b[1m0s\u001b[0m 13ms/step - loss: 0.0355 - mae: 0.1451 - val_loss: 0.2683 - val_mae: 0.5162\n",
      "Epoch 37/150\n",
      "\u001b[1m29/29\u001b[0m \u001b[32m━━━━━━━━━━━━━━━━━━━━\u001b[0m\u001b[37m\u001b[0m \u001b[1m0s\u001b[0m 13ms/step - loss: 0.0397 - mae: 0.1555 - val_loss: 0.3119 - val_mae: 0.5568\n",
      "Epoch 38/150\n",
      "\u001b[1m29/29\u001b[0m \u001b[32m━━━━━━━━━━━━━━━━━━━━\u001b[0m\u001b[37m\u001b[0m \u001b[1m0s\u001b[0m 13ms/step - loss: 0.0357 - mae: 0.1472 - val_loss: 0.3316 - val_mae: 0.5742\n",
      "Epoch 39/150\n",
      "\u001b[1m29/29\u001b[0m \u001b[32m━━━━━━━━━━━━━━━━━━━━\u001b[0m\u001b[37m\u001b[0m \u001b[1m0s\u001b[0m 12ms/step - loss: 0.0388 - mae: 0.1551 - val_loss: 0.3310 - val_mae: 0.5737\n",
      "Epoch 40/150\n",
      "\u001b[1m29/29\u001b[0m \u001b[32m━━━━━━━━━━━━━━━━━━━━\u001b[0m\u001b[37m\u001b[0m \u001b[1m0s\u001b[0m 13ms/step - loss: 0.0385 - mae: 0.1508 - val_loss: 0.2887 - val_mae: 0.5357\n",
      "Epoch 41/150\n",
      "\u001b[1m29/29\u001b[0m \u001b[32m━━━━━━━━━━━━━━━━━━━━\u001b[0m\u001b[37m\u001b[0m \u001b[1m0s\u001b[0m 16ms/step - loss: 0.0382 - mae: 0.1524 - val_loss: 0.3057 - val_mae: 0.5513\n",
      "Epoch 42/150\n",
      "\u001b[1m29/29\u001b[0m \u001b[32m━━━━━━━━━━━━━━━━━━━━\u001b[0m\u001b[37m\u001b[0m \u001b[1m0s\u001b[0m 13ms/step - loss: 0.0379 - mae: 0.1529 - val_loss: 0.3056 - val_mae: 0.5512\n",
      "Epoch 43/150\n",
      "\u001b[1m29/29\u001b[0m \u001b[32m━━━━━━━━━━━━━━━━━━━━\u001b[0m\u001b[37m\u001b[0m \u001b[1m0s\u001b[0m 12ms/step - loss: 0.0353 - mae: 0.1467 - val_loss: 0.3406 - val_mae: 0.5821\n",
      "Epoch 44/150\n",
      "\u001b[1m29/29\u001b[0m \u001b[32m━━━━━━━━━━━━━━━━━━━━\u001b[0m\u001b[37m\u001b[0m \u001b[1m0s\u001b[0m 12ms/step - loss: 0.0386 - mae: 0.1526 - val_loss: 0.3475 - val_mae: 0.5880\n",
      "Epoch 45/150\n",
      "\u001b[1m29/29\u001b[0m \u001b[32m━━━━━━━━━━━━━━━━━━━━\u001b[0m\u001b[37m\u001b[0m \u001b[1m0s\u001b[0m 12ms/step - loss: 0.0377 - mae: 0.1486 - val_loss: 0.3162 - val_mae: 0.5607\n",
      "Epoch 46/150\n",
      "\u001b[1m29/29\u001b[0m \u001b[32m━━━━━━━━━━━━━━━━━━━━\u001b[0m\u001b[37m\u001b[0m \u001b[1m0s\u001b[0m 11ms/step - loss: 0.0330 - mae: 0.1401 - val_loss: 0.2972 - val_mae: 0.5435\n",
      "Epoch 47/150\n",
      "\u001b[1m29/29\u001b[0m \u001b[32m━━━━━━━━━━━━━━━━━━━━\u001b[0m\u001b[37m\u001b[0m \u001b[1m0s\u001b[0m 12ms/step - loss: 0.0356 - mae: 0.1480 - val_loss: 0.2843 - val_mae: 0.5315\n",
      "Epoch 48/150\n",
      "\u001b[1m29/29\u001b[0m \u001b[32m━━━━━━━━━━━━━━━━━━━━\u001b[0m\u001b[37m\u001b[0m \u001b[1m0s\u001b[0m 12ms/step - loss: 0.0378 - mae: 0.1539 - val_loss: 0.3323 - val_mae: 0.5748\n",
      "Epoch 49/150\n",
      "\u001b[1m29/29\u001b[0m \u001b[32m━━━━━━━━━━━━━━━━━━━━\u001b[0m\u001b[37m\u001b[0m \u001b[1m0s\u001b[0m 12ms/step - loss: 0.0390 - mae: 0.1534 - val_loss: 0.3235 - val_mae: 0.5672\n",
      "Epoch 50/150\n",
      "\u001b[1m29/29\u001b[0m \u001b[32m━━━━━━━━━━━━━━━━━━━━\u001b[0m\u001b[37m\u001b[0m \u001b[1m0s\u001b[0m 12ms/step - loss: 0.0363 - mae: 0.1483 - val_loss: 0.2906 - val_mae: 0.5374\n",
      "Epoch 51/150\n",
      "\u001b[1m29/29\u001b[0m \u001b[32m━━━━━━━━━━━━━━━━━━━━\u001b[0m\u001b[37m\u001b[0m \u001b[1m0s\u001b[0m 12ms/step - loss: 0.0385 - mae: 0.1523 - val_loss: 0.3320 - val_mae: 0.5746\n",
      "Epoch 52/150\n",
      "\u001b[1m29/29\u001b[0m \u001b[32m━━━━━━━━━━━━━━━━━━━━\u001b[0m\u001b[37m\u001b[0m \u001b[1m0s\u001b[0m 11ms/step - loss: 0.0360 - mae: 0.1469 - val_loss: 0.3104 - val_mae: 0.5555\n",
      "Epoch 53/150\n",
      "\u001b[1m29/29\u001b[0m \u001b[32m━━━━━━━━━━━━━━━━━━━━\u001b[0m\u001b[37m\u001b[0m \u001b[1m0s\u001b[0m 12ms/step - loss: 0.0349 - mae: 0.1450 - val_loss: 0.3164 - val_mae: 0.5609\n",
      "Epoch 54/150\n",
      "\u001b[1m29/29\u001b[0m \u001b[32m━━━━━━━━━━━━━━━━━━━━\u001b[0m\u001b[37m\u001b[0m \u001b[1m0s\u001b[0m 11ms/step - loss: 0.0364 - mae: 0.1484 - val_loss: 0.3120 - val_mae: 0.5570\n",
      "Epoch 55/150\n",
      "\u001b[1m29/29\u001b[0m \u001b[32m━━━━━━━━━━━━━━━━━━━━\u001b[0m\u001b[37m\u001b[0m \u001b[1m0s\u001b[0m 10ms/step - loss: 0.0356 - mae: 0.1464 - val_loss: 0.2991 - val_mae: 0.5452\n",
      "Epoch 56/150\n",
      "\u001b[1m29/29\u001b[0m \u001b[32m━━━━━━━━━━━━━━━━━━━━\u001b[0m\u001b[37m\u001b[0m \u001b[1m0s\u001b[0m 11ms/step - loss: 0.0352 - mae: 0.1464 - val_loss: 0.3241 - val_mae: 0.5677\n",
      "Epoch 57/150\n",
      "\u001b[1m29/29\u001b[0m \u001b[32m━━━━━━━━━━━━━━━━━━━━\u001b[0m\u001b[37m\u001b[0m \u001b[1m0s\u001b[0m 11ms/step - loss: 0.0348 - mae: 0.1435 - val_loss: 0.3190 - val_mae: 0.5632\n",
      "Epoch 58/150\n",
      "\u001b[1m29/29\u001b[0m \u001b[32m━━━━━━━━━━━━━━━━━━━━\u001b[0m\u001b[37m\u001b[0m \u001b[1m0s\u001b[0m 13ms/step - loss: 0.0374 - mae: 0.1507 - val_loss: 0.3368 - val_mae: 0.5788\n",
      "Epoch 59/150\n",
      "\u001b[1m29/29\u001b[0m \u001b[32m━━━━━━━━━━━━━━━━━━━━\u001b[0m\u001b[37m\u001b[0m \u001b[1m0s\u001b[0m 15ms/step - loss: 0.0379 - mae: 0.1520 - val_loss: 0.3276 - val_mae: 0.5708\n",
      "Epoch 60/150\n",
      "\u001b[1m29/29\u001b[0m \u001b[32m━━━━━━━━━━━━━━━━━━━━\u001b[0m\u001b[37m\u001b[0m \u001b[1m0s\u001b[0m 12ms/step - loss: 0.0378 - mae: 0.1509 - val_loss: 0.3108 - val_mae: 0.5559\n",
      "Epoch 61/150\n",
      "\u001b[1m29/29\u001b[0m \u001b[32m━━━━━━━━━━━━━━━━━━━━\u001b[0m\u001b[37m\u001b[0m \u001b[1m0s\u001b[0m 12ms/step - loss: 0.0372 - mae: 0.1494 - val_loss: 0.3227 - val_mae: 0.5664\n",
      "Epoch 62/150\n",
      "\u001b[1m29/29\u001b[0m \u001b[32m━━━━━━━━━━━━━━━━━━━━\u001b[0m\u001b[37m\u001b[0m \u001b[1m0s\u001b[0m 15ms/step - loss: 0.0355 - mae: 0.1473 - val_loss: 0.3636 - val_mae: 0.6015\n",
      "Epoch 63/150\n",
      "\u001b[1m29/29\u001b[0m \u001b[32m━━━━━━━━━━━━━━━━━━━━\u001b[0m\u001b[37m\u001b[0m \u001b[1m0s\u001b[0m 12ms/step - loss: 0.0370 - mae: 0.1478 - val_loss: 0.3309 - val_mae: 0.5737\n",
      "Epoch 64/150\n",
      "\u001b[1m29/29\u001b[0m \u001b[32m━━━━━━━━━━━━━━━━━━━━\u001b[0m\u001b[37m\u001b[0m \u001b[1m0s\u001b[0m 11ms/step - loss: 0.0384 - mae: 0.1517 - val_loss: 0.3193 - val_mae: 0.5634\n",
      "Epoch 65/150\n",
      "\u001b[1m29/29\u001b[0m \u001b[32m━━━━━━━━━━━━━━━━━━━━\u001b[0m\u001b[37m\u001b[0m \u001b[1m0s\u001b[0m 11ms/step - loss: 0.0352 - mae: 0.1432 - val_loss: 0.3313 - val_mae: 0.5740\n",
      "Epoch 66/150\n",
      "\u001b[1m29/29\u001b[0m \u001b[32m━━━━━━━━━━━━━━━━━━━━\u001b[0m\u001b[37m\u001b[0m \u001b[1m0s\u001b[0m 12ms/step - loss: 0.0353 - mae: 0.1466 - val_loss: 0.2919 - val_mae: 0.5386\n",
      "Epoch 67/150\n",
      "\u001b[1m29/29\u001b[0m \u001b[32m━━━━━━━━━━━━━━━━━━━━\u001b[0m\u001b[37m\u001b[0m \u001b[1m0s\u001b[0m 12ms/step - loss: 0.0379 - mae: 0.1535 - val_loss: 0.3139 - val_mae: 0.5587\n",
      "Epoch 68/150\n",
      "\u001b[1m29/29\u001b[0m \u001b[32m━━━━━━━━━━━━━━━━━━━━\u001b[0m\u001b[37m\u001b[0m \u001b[1m0s\u001b[0m 11ms/step - loss: 0.0366 - mae: 0.1475 - val_loss: 0.3051 - val_mae: 0.5507\n",
      "Epoch 69/150\n",
      "\u001b[1m29/29\u001b[0m \u001b[32m━━━━━━━━━━━━━━━━━━━━\u001b[0m\u001b[37m\u001b[0m \u001b[1m0s\u001b[0m 12ms/step - loss: 0.0354 - mae: 0.1478 - val_loss: 0.3496 - val_mae: 0.5897\n",
      "Epoch 70/150\n",
      "\u001b[1m29/29\u001b[0m \u001b[32m━━━━━━━━━━━━━━━━━━━━\u001b[0m\u001b[37m\u001b[0m \u001b[1m0s\u001b[0m 13ms/step - loss: 0.0361 - mae: 0.1473 - val_loss: 0.3153 - val_mae: 0.5599\n",
      "Epoch 71/150\n",
      "\u001b[1m29/29\u001b[0m \u001b[32m━━━━━━━━━━━━━━━━━━━━\u001b[0m\u001b[37m\u001b[0m \u001b[1m0s\u001b[0m 12ms/step - loss: 0.0383 - mae: 0.1525 - val_loss: 0.3289 - val_mae: 0.5719\n",
      "Epoch 72/150\n",
      "\u001b[1m29/29\u001b[0m \u001b[32m━━━━━━━━━━━━━━━━━━━━\u001b[0m\u001b[37m\u001b[0m \u001b[1m0s\u001b[0m 12ms/step - loss: 0.0383 - mae: 0.1516 - val_loss: 0.3456 - val_mae: 0.5863\n",
      "Epoch 73/150\n",
      "\u001b[1m29/29\u001b[0m \u001b[32m━━━━━━━━━━━━━━━━━━━━\u001b[0m\u001b[37m\u001b[0m \u001b[1m0s\u001b[0m 12ms/step - loss: 0.0360 - mae: 0.1480 - val_loss: 0.3171 - val_mae: 0.5615\n",
      "Epoch 74/150\n",
      "\u001b[1m29/29\u001b[0m \u001b[32m━━━━━━━━━━━━━━━━━━━━\u001b[0m\u001b[37m\u001b[0m \u001b[1m0s\u001b[0m 12ms/step - loss: 0.0349 - mae: 0.1447 - val_loss: 0.3401 - val_mae: 0.5816\n",
      "Epoch 75/150\n",
      "\u001b[1m29/29\u001b[0m \u001b[32m━━━━━━━━━━━━━━━━━━━━\u001b[0m\u001b[37m\u001b[0m \u001b[1m0s\u001b[0m 12ms/step - loss: 0.0347 - mae: 0.1439 - val_loss: 0.3204 - val_mae: 0.5644\n",
      "Epoch 76/150\n",
      "\u001b[1m29/29\u001b[0m \u001b[32m━━━━━━━━━━━━━━━━━━━━\u001b[0m\u001b[37m\u001b[0m \u001b[1m0s\u001b[0m 15ms/step - loss: 0.0334 - mae: 0.1408 - val_loss: 0.3031 - val_mae: 0.5489\n",
      "Epoch 77/150\n",
      "\u001b[1m29/29\u001b[0m \u001b[32m━━━━━━━━━━━━━━━━━━━━\u001b[0m\u001b[37m\u001b[0m \u001b[1m0s\u001b[0m 14ms/step - loss: 0.0369 - mae: 0.1511 - val_loss: 0.2877 - val_mae: 0.5347\n",
      "Epoch 78/150\n",
      "\u001b[1m29/29\u001b[0m \u001b[32m━━━━━━━━━━━━━━━━━━━━\u001b[0m\u001b[37m\u001b[0m \u001b[1m0s\u001b[0m 13ms/step - loss: 0.0376 - mae: 0.1503 - val_loss: 0.3265 - val_mae: 0.5698\n",
      "Epoch 79/150\n",
      "\u001b[1m29/29\u001b[0m \u001b[32m━━━━━━━━━━━━━━━━━━━━\u001b[0m\u001b[37m\u001b[0m \u001b[1m0s\u001b[0m 12ms/step - loss: 0.0386 - mae: 0.1514 - val_loss: 0.2934 - val_mae: 0.5400\n",
      "Epoch 80/150\n",
      "\u001b[1m29/29\u001b[0m \u001b[32m━━━━━━━━━━━━━━━━━━━━\u001b[0m\u001b[37m\u001b[0m \u001b[1m0s\u001b[0m 12ms/step - loss: 0.0358 - mae: 0.1461 - val_loss: 0.3044 - val_mae: 0.5501\n",
      "Epoch 81/150\n",
      "\u001b[1m29/29\u001b[0m \u001b[32m━━━━━━━━━━━━━━━━━━━━\u001b[0m\u001b[37m\u001b[0m \u001b[1m0s\u001b[0m 12ms/step - loss: 0.0391 - mae: 0.1556 - val_loss: 0.3408 - val_mae: 0.5822\n",
      "Epoch 82/150\n",
      "\u001b[1m29/29\u001b[0m \u001b[32m━━━━━━━━━━━━━━━━━━━━\u001b[0m\u001b[37m\u001b[0m \u001b[1m0s\u001b[0m 13ms/step - loss: 0.0345 - mae: 0.1451 - val_loss: 0.2983 - val_mae: 0.5445\n",
      "Epoch 83/150\n",
      "\u001b[1m29/29\u001b[0m \u001b[32m━━━━━━━━━━━━━━━━━━━━\u001b[0m\u001b[37m\u001b[0m \u001b[1m0s\u001b[0m 11ms/step - loss: 0.0379 - mae: 0.1507 - val_loss: 0.3197 - val_mae: 0.5638\n",
      "Epoch 84/150\n",
      "\u001b[1m29/29\u001b[0m \u001b[32m━━━━━━━━━━━━━━━━━━━━\u001b[0m\u001b[37m\u001b[0m \u001b[1m0s\u001b[0m 12ms/step - loss: 0.0370 - mae: 0.1480 - val_loss: 0.2895 - val_mae: 0.5364\n",
      "Epoch 85/150\n",
      "\u001b[1m 1/29\u001b[0m \u001b[37m━━━━━━━━━━━━━━━━━━━━\u001b[0m \u001b[1m0s\u001b[0m 30ms/step - loss: 0.0454 - mae: 0.1689"
     ]
    },
    {
     "ename": "KeyboardInterrupt",
     "evalue": "",
     "output_type": "error",
     "traceback": [
      "\u001b[1;31m---------------------------------------------------------------------------\u001b[0m",
      "\u001b[1;31mKeyboardInterrupt\u001b[0m                         Traceback (most recent call last)",
      "Cell \u001b[1;32mIn[121], line 8\u001b[0m\n\u001b[0;32m      1\u001b[0m early_stopping \u001b[38;5;241m=\u001b[39m EarlyStopping(\n\u001b[0;32m      2\u001b[0m     monitor\u001b[38;5;241m=\u001b[39m\u001b[38;5;124m'\u001b[39m\u001b[38;5;124mval_loss\u001b[39m\u001b[38;5;124m'\u001b[39m,          \u001b[38;5;66;03m# The metric to monitor (could also be 'val_accuracy')\u001b[39;00m\n\u001b[0;32m      3\u001b[0m     patience\u001b[38;5;241m=\u001b[39m\u001b[38;5;241m10\u001b[39m,                 \u001b[38;5;66;03m# Number of epochs with no improvement to wait before stopping\u001b[39;00m\n\u001b[0;32m      4\u001b[0m     verbose\u001b[38;5;241m=\u001b[39m\u001b[38;5;241m1\u001b[39m,                   \u001b[38;5;66;03m# To print messages when stopping early\u001b[39;00m\n\u001b[0;32m      5\u001b[0m     restore_best_weights\u001b[38;5;241m=\u001b[39m\u001b[38;5;28;01mTrue\u001b[39;00m    \u001b[38;5;66;03m# Restore the best weights once training is stopped\u001b[39;00m\n\u001b[0;32m      6\u001b[0m )\n\u001b[0;32m      7\u001b[0m \u001b[38;5;66;03m#, callbacks=[early_stopping]\u001b[39;00m\n\u001b[1;32m----> 8\u001b[0m history \u001b[38;5;241m=\u001b[39m \u001b[43mmodel\u001b[49m\u001b[38;5;241;43m.\u001b[39;49m\u001b[43mfit\u001b[49m\u001b[43m(\u001b[49m\u001b[43msequences\u001b[49m\u001b[43m,\u001b[49m\u001b[43mtargets\u001b[49m\u001b[43m \u001b[49m\u001b[43m,\u001b[49m\u001b[43m \u001b[49m\u001b[43mvalidation_data\u001b[49m\u001b[38;5;241;43m=\u001b[39;49m\u001b[43m(\u001b[49m\u001b[43msequences_val\u001b[49m\u001b[43m,\u001b[49m\u001b[43m \u001b[49m\u001b[43mtargets_val\u001b[49m\u001b[43m)\u001b[49m\u001b[43m,\u001b[49m\u001b[43m \u001b[49m\u001b[43mepochs\u001b[49m\u001b[38;5;241;43m=\u001b[39;49m\u001b[38;5;241;43m150\u001b[39;49m\u001b[43m,\u001b[49m\u001b[43m \u001b[49m\u001b[43mbatch_size\u001b[49m\u001b[38;5;241;43m=\u001b[39;49m\u001b[38;5;28;43;01mNone\u001b[39;49;00m\u001b[43m)\u001b[49m\n",
      "File \u001b[1;32m~\\anaconda3\\envs\\python310clone\\lib\\site-packages\\keras\\src\\utils\\traceback_utils.py:117\u001b[0m, in \u001b[0;36mfilter_traceback.<locals>.error_handler\u001b[1;34m(*args, **kwargs)\u001b[0m\n\u001b[0;32m    115\u001b[0m filtered_tb \u001b[38;5;241m=\u001b[39m \u001b[38;5;28;01mNone\u001b[39;00m\n\u001b[0;32m    116\u001b[0m \u001b[38;5;28;01mtry\u001b[39;00m:\n\u001b[1;32m--> 117\u001b[0m     \u001b[38;5;28;01mreturn\u001b[39;00m fn(\u001b[38;5;241m*\u001b[39margs, \u001b[38;5;241m*\u001b[39m\u001b[38;5;241m*\u001b[39mkwargs)\n\u001b[0;32m    118\u001b[0m \u001b[38;5;28;01mexcept\u001b[39;00m \u001b[38;5;167;01mException\u001b[39;00m \u001b[38;5;28;01mas\u001b[39;00m e:\n\u001b[0;32m    119\u001b[0m     filtered_tb \u001b[38;5;241m=\u001b[39m _process_traceback_frames(e\u001b[38;5;241m.\u001b[39m__traceback__)\n",
      "File \u001b[1;32m~\\anaconda3\\envs\\python310clone\\lib\\site-packages\\keras\\src\\backend\\tensorflow\\trainer.py:320\u001b[0m, in \u001b[0;36mTensorFlowTrainer.fit\u001b[1;34m(self, x, y, batch_size, epochs, verbose, callbacks, validation_split, validation_data, shuffle, class_weight, sample_weight, initial_epoch, steps_per_epoch, validation_steps, validation_batch_size, validation_freq)\u001b[0m\n\u001b[0;32m    318\u001b[0m \u001b[38;5;28;01mfor\u001b[39;00m step, iterator \u001b[38;5;129;01min\u001b[39;00m epoch_iterator\u001b[38;5;241m.\u001b[39menumerate_epoch():\n\u001b[0;32m    319\u001b[0m     callbacks\u001b[38;5;241m.\u001b[39mon_train_batch_begin(step)\n\u001b[1;32m--> 320\u001b[0m     logs \u001b[38;5;241m=\u001b[39m \u001b[38;5;28;43mself\u001b[39;49m\u001b[38;5;241;43m.\u001b[39;49m\u001b[43mtrain_function\u001b[49m\u001b[43m(\u001b[49m\u001b[43miterator\u001b[49m\u001b[43m)\u001b[49m\n\u001b[0;32m    321\u001b[0m     callbacks\u001b[38;5;241m.\u001b[39mon_train_batch_end(step, logs)\n\u001b[0;32m    322\u001b[0m     \u001b[38;5;28;01mif\u001b[39;00m \u001b[38;5;28mself\u001b[39m\u001b[38;5;241m.\u001b[39mstop_training:\n",
      "File \u001b[1;32m~\\anaconda3\\envs\\python310clone\\lib\\site-packages\\tensorflow\\python\\util\\traceback_utils.py:150\u001b[0m, in \u001b[0;36mfilter_traceback.<locals>.error_handler\u001b[1;34m(*args, **kwargs)\u001b[0m\n\u001b[0;32m    148\u001b[0m filtered_tb \u001b[38;5;241m=\u001b[39m \u001b[38;5;28;01mNone\u001b[39;00m\n\u001b[0;32m    149\u001b[0m \u001b[38;5;28;01mtry\u001b[39;00m:\n\u001b[1;32m--> 150\u001b[0m   \u001b[38;5;28;01mreturn\u001b[39;00m fn(\u001b[38;5;241m*\u001b[39margs, \u001b[38;5;241m*\u001b[39m\u001b[38;5;241m*\u001b[39mkwargs)\n\u001b[0;32m    151\u001b[0m \u001b[38;5;28;01mexcept\u001b[39;00m \u001b[38;5;167;01mException\u001b[39;00m \u001b[38;5;28;01mas\u001b[39;00m e:\n\u001b[0;32m    152\u001b[0m   filtered_tb \u001b[38;5;241m=\u001b[39m _process_traceback_frames(e\u001b[38;5;241m.\u001b[39m__traceback__)\n",
      "File \u001b[1;32m~\\anaconda3\\envs\\python310clone\\lib\\site-packages\\tensorflow\\python\\eager\\polymorphic_function\\polymorphic_function.py:833\u001b[0m, in \u001b[0;36mFunction.__call__\u001b[1;34m(self, *args, **kwds)\u001b[0m\n\u001b[0;32m    830\u001b[0m compiler \u001b[38;5;241m=\u001b[39m \u001b[38;5;124m\"\u001b[39m\u001b[38;5;124mxla\u001b[39m\u001b[38;5;124m\"\u001b[39m \u001b[38;5;28;01mif\u001b[39;00m \u001b[38;5;28mself\u001b[39m\u001b[38;5;241m.\u001b[39m_jit_compile \u001b[38;5;28;01melse\u001b[39;00m \u001b[38;5;124m\"\u001b[39m\u001b[38;5;124mnonXla\u001b[39m\u001b[38;5;124m\"\u001b[39m\n\u001b[0;32m    832\u001b[0m \u001b[38;5;28;01mwith\u001b[39;00m OptionalXlaContext(\u001b[38;5;28mself\u001b[39m\u001b[38;5;241m.\u001b[39m_jit_compile):\n\u001b[1;32m--> 833\u001b[0m   result \u001b[38;5;241m=\u001b[39m \u001b[38;5;28mself\u001b[39m\u001b[38;5;241m.\u001b[39m_call(\u001b[38;5;241m*\u001b[39margs, \u001b[38;5;241m*\u001b[39m\u001b[38;5;241m*\u001b[39mkwds)\n\u001b[0;32m    835\u001b[0m new_tracing_count \u001b[38;5;241m=\u001b[39m \u001b[38;5;28mself\u001b[39m\u001b[38;5;241m.\u001b[39mexperimental_get_tracing_count()\n\u001b[0;32m    836\u001b[0m without_tracing \u001b[38;5;241m=\u001b[39m (tracing_count \u001b[38;5;241m==\u001b[39m new_tracing_count)\n",
      "File \u001b[1;32m~\\anaconda3\\envs\\python310clone\\lib\\site-packages\\tensorflow\\python\\eager\\polymorphic_function\\polymorphic_function.py:878\u001b[0m, in \u001b[0;36mFunction._call\u001b[1;34m(self, *args, **kwds)\u001b[0m\n\u001b[0;32m    875\u001b[0m \u001b[38;5;28mself\u001b[39m\u001b[38;5;241m.\u001b[39m_lock\u001b[38;5;241m.\u001b[39mrelease()\n\u001b[0;32m    876\u001b[0m \u001b[38;5;66;03m# In this case we have not created variables on the first call. So we can\u001b[39;00m\n\u001b[0;32m    877\u001b[0m \u001b[38;5;66;03m# run the first trace but we should fail if variables are created.\u001b[39;00m\n\u001b[1;32m--> 878\u001b[0m results \u001b[38;5;241m=\u001b[39m \u001b[43mtracing_compilation\u001b[49m\u001b[38;5;241;43m.\u001b[39;49m\u001b[43mcall_function\u001b[49m\u001b[43m(\u001b[49m\n\u001b[0;32m    879\u001b[0m \u001b[43m    \u001b[49m\u001b[43margs\u001b[49m\u001b[43m,\u001b[49m\u001b[43m \u001b[49m\u001b[43mkwds\u001b[49m\u001b[43m,\u001b[49m\u001b[43m \u001b[49m\u001b[38;5;28;43mself\u001b[39;49m\u001b[38;5;241;43m.\u001b[39;49m\u001b[43m_variable_creation_config\u001b[49m\n\u001b[0;32m    880\u001b[0m \u001b[43m\u001b[49m\u001b[43m)\u001b[49m\n\u001b[0;32m    881\u001b[0m \u001b[38;5;28;01mif\u001b[39;00m \u001b[38;5;28mself\u001b[39m\u001b[38;5;241m.\u001b[39m_created_variables:\n\u001b[0;32m    882\u001b[0m   \u001b[38;5;28;01mraise\u001b[39;00m \u001b[38;5;167;01mValueError\u001b[39;00m(\u001b[38;5;124m\"\u001b[39m\u001b[38;5;124mCreating variables on a non-first call to a function\u001b[39m\u001b[38;5;124m\"\u001b[39m\n\u001b[0;32m    883\u001b[0m                    \u001b[38;5;124m\"\u001b[39m\u001b[38;5;124m decorated with tf.function.\u001b[39m\u001b[38;5;124m\"\u001b[39m)\n",
      "File \u001b[1;32m~\\anaconda3\\envs\\python310clone\\lib\\site-packages\\tensorflow\\python\\eager\\polymorphic_function\\tracing_compilation.py:139\u001b[0m, in \u001b[0;36mcall_function\u001b[1;34m(args, kwargs, tracing_options)\u001b[0m\n\u001b[0;32m    137\u001b[0m bound_args \u001b[38;5;241m=\u001b[39m function\u001b[38;5;241m.\u001b[39mfunction_type\u001b[38;5;241m.\u001b[39mbind(\u001b[38;5;241m*\u001b[39margs, \u001b[38;5;241m*\u001b[39m\u001b[38;5;241m*\u001b[39mkwargs)\n\u001b[0;32m    138\u001b[0m flat_inputs \u001b[38;5;241m=\u001b[39m function\u001b[38;5;241m.\u001b[39mfunction_type\u001b[38;5;241m.\u001b[39munpack_inputs(bound_args)\n\u001b[1;32m--> 139\u001b[0m \u001b[38;5;28;01mreturn\u001b[39;00m \u001b[43mfunction\u001b[49m\u001b[38;5;241;43m.\u001b[39;49m\u001b[43m_call_flat\u001b[49m\u001b[43m(\u001b[49m\u001b[43m  \u001b[49m\u001b[38;5;66;43;03m# pylint: disable=protected-access\u001b[39;49;00m\n\u001b[0;32m    140\u001b[0m \u001b[43m    \u001b[49m\u001b[43mflat_inputs\u001b[49m\u001b[43m,\u001b[49m\u001b[43m \u001b[49m\u001b[43mcaptured_inputs\u001b[49m\u001b[38;5;241;43m=\u001b[39;49m\u001b[43mfunction\u001b[49m\u001b[38;5;241;43m.\u001b[39;49m\u001b[43mcaptured_inputs\u001b[49m\n\u001b[0;32m    141\u001b[0m \u001b[43m\u001b[49m\u001b[43m)\u001b[49m\n",
      "File \u001b[1;32m~\\anaconda3\\envs\\python310clone\\lib\\site-packages\\tensorflow\\python\\eager\\polymorphic_function\\concrete_function.py:1322\u001b[0m, in \u001b[0;36mConcreteFunction._call_flat\u001b[1;34m(self, tensor_inputs, captured_inputs)\u001b[0m\n\u001b[0;32m   1318\u001b[0m possible_gradient_type \u001b[38;5;241m=\u001b[39m gradients_util\u001b[38;5;241m.\u001b[39mPossibleTapeGradientTypes(args)\n\u001b[0;32m   1319\u001b[0m \u001b[38;5;28;01mif\u001b[39;00m (possible_gradient_type \u001b[38;5;241m==\u001b[39m gradients_util\u001b[38;5;241m.\u001b[39mPOSSIBLE_GRADIENT_TYPES_NONE\n\u001b[0;32m   1320\u001b[0m     \u001b[38;5;129;01mand\u001b[39;00m executing_eagerly):\n\u001b[0;32m   1321\u001b[0m   \u001b[38;5;66;03m# No tape is watching; skip to running the function.\u001b[39;00m\n\u001b[1;32m-> 1322\u001b[0m   \u001b[38;5;28;01mreturn\u001b[39;00m \u001b[38;5;28;43mself\u001b[39;49m\u001b[38;5;241;43m.\u001b[39;49m\u001b[43m_inference_function\u001b[49m\u001b[38;5;241;43m.\u001b[39;49m\u001b[43mcall_preflattened\u001b[49m\u001b[43m(\u001b[49m\u001b[43margs\u001b[49m\u001b[43m)\u001b[49m\n\u001b[0;32m   1323\u001b[0m forward_backward \u001b[38;5;241m=\u001b[39m \u001b[38;5;28mself\u001b[39m\u001b[38;5;241m.\u001b[39m_select_forward_and_backward_functions(\n\u001b[0;32m   1324\u001b[0m     args,\n\u001b[0;32m   1325\u001b[0m     possible_gradient_type,\n\u001b[0;32m   1326\u001b[0m     executing_eagerly)\n\u001b[0;32m   1327\u001b[0m forward_function, args_with_tangents \u001b[38;5;241m=\u001b[39m forward_backward\u001b[38;5;241m.\u001b[39mforward()\n",
      "File \u001b[1;32m~\\anaconda3\\envs\\python310clone\\lib\\site-packages\\tensorflow\\python\\eager\\polymorphic_function\\atomic_function.py:216\u001b[0m, in \u001b[0;36mAtomicFunction.call_preflattened\u001b[1;34m(self, args)\u001b[0m\n\u001b[0;32m    214\u001b[0m \u001b[38;5;28;01mdef\u001b[39;00m \u001b[38;5;21mcall_preflattened\u001b[39m(\u001b[38;5;28mself\u001b[39m, args: Sequence[core\u001b[38;5;241m.\u001b[39mTensor]) \u001b[38;5;241m-\u001b[39m\u001b[38;5;241m>\u001b[39m Any:\n\u001b[0;32m    215\u001b[0m \u001b[38;5;250m  \u001b[39m\u001b[38;5;124;03m\"\"\"Calls with flattened tensor inputs and returns the structured output.\"\"\"\u001b[39;00m\n\u001b[1;32m--> 216\u001b[0m   flat_outputs \u001b[38;5;241m=\u001b[39m \u001b[38;5;28;43mself\u001b[39;49m\u001b[38;5;241;43m.\u001b[39;49m\u001b[43mcall_flat\u001b[49m\u001b[43m(\u001b[49m\u001b[38;5;241;43m*\u001b[39;49m\u001b[43margs\u001b[49m\u001b[43m)\u001b[49m\n\u001b[0;32m    217\u001b[0m   \u001b[38;5;28;01mreturn\u001b[39;00m \u001b[38;5;28mself\u001b[39m\u001b[38;5;241m.\u001b[39mfunction_type\u001b[38;5;241m.\u001b[39mpack_output(flat_outputs)\n",
      "File \u001b[1;32m~\\anaconda3\\envs\\python310clone\\lib\\site-packages\\tensorflow\\python\\eager\\polymorphic_function\\atomic_function.py:251\u001b[0m, in \u001b[0;36mAtomicFunction.call_flat\u001b[1;34m(self, *args)\u001b[0m\n\u001b[0;32m    249\u001b[0m \u001b[38;5;28;01mwith\u001b[39;00m record\u001b[38;5;241m.\u001b[39mstop_recording():\n\u001b[0;32m    250\u001b[0m   \u001b[38;5;28;01mif\u001b[39;00m \u001b[38;5;28mself\u001b[39m\u001b[38;5;241m.\u001b[39m_bound_context\u001b[38;5;241m.\u001b[39mexecuting_eagerly():\n\u001b[1;32m--> 251\u001b[0m     outputs \u001b[38;5;241m=\u001b[39m \u001b[38;5;28;43mself\u001b[39;49m\u001b[38;5;241;43m.\u001b[39;49m\u001b[43m_bound_context\u001b[49m\u001b[38;5;241;43m.\u001b[39;49m\u001b[43mcall_function\u001b[49m\u001b[43m(\u001b[49m\n\u001b[0;32m    252\u001b[0m \u001b[43m        \u001b[49m\u001b[38;5;28;43mself\u001b[39;49m\u001b[38;5;241;43m.\u001b[39;49m\u001b[43mname\u001b[49m\u001b[43m,\u001b[49m\n\u001b[0;32m    253\u001b[0m \u001b[43m        \u001b[49m\u001b[38;5;28;43mlist\u001b[39;49m\u001b[43m(\u001b[49m\u001b[43margs\u001b[49m\u001b[43m)\u001b[49m\u001b[43m,\u001b[49m\n\u001b[0;32m    254\u001b[0m \u001b[43m        \u001b[49m\u001b[38;5;28;43mlen\u001b[39;49m\u001b[43m(\u001b[49m\u001b[38;5;28;43mself\u001b[39;49m\u001b[38;5;241;43m.\u001b[39;49m\u001b[43mfunction_type\u001b[49m\u001b[38;5;241;43m.\u001b[39;49m\u001b[43mflat_outputs\u001b[49m\u001b[43m)\u001b[49m\u001b[43m,\u001b[49m\n\u001b[0;32m    255\u001b[0m \u001b[43m    \u001b[49m\u001b[43m)\u001b[49m\n\u001b[0;32m    256\u001b[0m   \u001b[38;5;28;01melse\u001b[39;00m:\n\u001b[0;32m    257\u001b[0m     outputs \u001b[38;5;241m=\u001b[39m make_call_op_in_graph(\n\u001b[0;32m    258\u001b[0m         \u001b[38;5;28mself\u001b[39m,\n\u001b[0;32m    259\u001b[0m         \u001b[38;5;28mlist\u001b[39m(args),\n\u001b[0;32m    260\u001b[0m         \u001b[38;5;28mself\u001b[39m\u001b[38;5;241m.\u001b[39m_bound_context\u001b[38;5;241m.\u001b[39mfunction_call_options\u001b[38;5;241m.\u001b[39mas_attrs(),\n\u001b[0;32m    261\u001b[0m     )\n",
      "File \u001b[1;32m~\\anaconda3\\envs\\python310clone\\lib\\site-packages\\tensorflow\\python\\eager\\context.py:1683\u001b[0m, in \u001b[0;36mContext.call_function\u001b[1;34m(self, name, tensor_inputs, num_outputs)\u001b[0m\n\u001b[0;32m   1681\u001b[0m cancellation_context \u001b[38;5;241m=\u001b[39m cancellation\u001b[38;5;241m.\u001b[39mcontext()\n\u001b[0;32m   1682\u001b[0m \u001b[38;5;28;01mif\u001b[39;00m cancellation_context \u001b[38;5;129;01mis\u001b[39;00m \u001b[38;5;28;01mNone\u001b[39;00m:\n\u001b[1;32m-> 1683\u001b[0m   outputs \u001b[38;5;241m=\u001b[39m \u001b[43mexecute\u001b[49m\u001b[38;5;241;43m.\u001b[39;49m\u001b[43mexecute\u001b[49m\u001b[43m(\u001b[49m\n\u001b[0;32m   1684\u001b[0m \u001b[43m      \u001b[49m\u001b[43mname\u001b[49m\u001b[38;5;241;43m.\u001b[39;49m\u001b[43mdecode\u001b[49m\u001b[43m(\u001b[49m\u001b[38;5;124;43m\"\u001b[39;49m\u001b[38;5;124;43mutf-8\u001b[39;49m\u001b[38;5;124;43m\"\u001b[39;49m\u001b[43m)\u001b[49m\u001b[43m,\u001b[49m\n\u001b[0;32m   1685\u001b[0m \u001b[43m      \u001b[49m\u001b[43mnum_outputs\u001b[49m\u001b[38;5;241;43m=\u001b[39;49m\u001b[43mnum_outputs\u001b[49m\u001b[43m,\u001b[49m\n\u001b[0;32m   1686\u001b[0m \u001b[43m      \u001b[49m\u001b[43minputs\u001b[49m\u001b[38;5;241;43m=\u001b[39;49m\u001b[43mtensor_inputs\u001b[49m\u001b[43m,\u001b[49m\n\u001b[0;32m   1687\u001b[0m \u001b[43m      \u001b[49m\u001b[43mattrs\u001b[49m\u001b[38;5;241;43m=\u001b[39;49m\u001b[43mattrs\u001b[49m\u001b[43m,\u001b[49m\n\u001b[0;32m   1688\u001b[0m \u001b[43m      \u001b[49m\u001b[43mctx\u001b[49m\u001b[38;5;241;43m=\u001b[39;49m\u001b[38;5;28;43mself\u001b[39;49m\u001b[43m,\u001b[49m\n\u001b[0;32m   1689\u001b[0m \u001b[43m  \u001b[49m\u001b[43m)\u001b[49m\n\u001b[0;32m   1690\u001b[0m \u001b[38;5;28;01melse\u001b[39;00m:\n\u001b[0;32m   1691\u001b[0m   outputs \u001b[38;5;241m=\u001b[39m execute\u001b[38;5;241m.\u001b[39mexecute_with_cancellation(\n\u001b[0;32m   1692\u001b[0m       name\u001b[38;5;241m.\u001b[39mdecode(\u001b[38;5;124m\"\u001b[39m\u001b[38;5;124mutf-8\u001b[39m\u001b[38;5;124m\"\u001b[39m),\n\u001b[0;32m   1693\u001b[0m       num_outputs\u001b[38;5;241m=\u001b[39mnum_outputs,\n\u001b[1;32m   (...)\u001b[0m\n\u001b[0;32m   1697\u001b[0m       cancellation_manager\u001b[38;5;241m=\u001b[39mcancellation_context,\n\u001b[0;32m   1698\u001b[0m   )\n",
      "File \u001b[1;32m~\\anaconda3\\envs\\python310clone\\lib\\site-packages\\tensorflow\\python\\eager\\execute.py:53\u001b[0m, in \u001b[0;36mquick_execute\u001b[1;34m(op_name, num_outputs, inputs, attrs, ctx, name)\u001b[0m\n\u001b[0;32m     51\u001b[0m \u001b[38;5;28;01mtry\u001b[39;00m:\n\u001b[0;32m     52\u001b[0m   ctx\u001b[38;5;241m.\u001b[39mensure_initialized()\n\u001b[1;32m---> 53\u001b[0m   tensors \u001b[38;5;241m=\u001b[39m \u001b[43mpywrap_tfe\u001b[49m\u001b[38;5;241;43m.\u001b[39;49m\u001b[43mTFE_Py_Execute\u001b[49m\u001b[43m(\u001b[49m\u001b[43mctx\u001b[49m\u001b[38;5;241;43m.\u001b[39;49m\u001b[43m_handle\u001b[49m\u001b[43m,\u001b[49m\u001b[43m \u001b[49m\u001b[43mdevice_name\u001b[49m\u001b[43m,\u001b[49m\u001b[43m \u001b[49m\u001b[43mop_name\u001b[49m\u001b[43m,\u001b[49m\n\u001b[0;32m     54\u001b[0m \u001b[43m                                      \u001b[49m\u001b[43minputs\u001b[49m\u001b[43m,\u001b[49m\u001b[43m \u001b[49m\u001b[43mattrs\u001b[49m\u001b[43m,\u001b[49m\u001b[43m \u001b[49m\u001b[43mnum_outputs\u001b[49m\u001b[43m)\u001b[49m\n\u001b[0;32m     55\u001b[0m \u001b[38;5;28;01mexcept\u001b[39;00m core\u001b[38;5;241m.\u001b[39m_NotOkStatusException \u001b[38;5;28;01mas\u001b[39;00m e:\n\u001b[0;32m     56\u001b[0m   \u001b[38;5;28;01mif\u001b[39;00m name \u001b[38;5;129;01mis\u001b[39;00m \u001b[38;5;129;01mnot\u001b[39;00m \u001b[38;5;28;01mNone\u001b[39;00m:\n",
      "\u001b[1;31mKeyboardInterrupt\u001b[0m: "
     ]
    }
   ],
   "source": [
    "early_stopping = EarlyStopping(\n",
    "    monitor='val_loss',          # The metric to monitor (could also be 'val_accuracy')\n",
    "    patience=10,                 # Number of epochs with no improvement to wait before stopping\n",
    "    verbose=1,                   # To print messages when stopping early\n",
    "    restore_best_weights=True    # Restore the best weights once training is stopped\n",
    ")\n",
    "#, callbacks=[early_stopping]\n",
    "history = model.fit(sequences,targets , validation_data=(sequences_val, targets_val), epochs=150, batch_size=None)\n",
    "\n",
    "# Prediction\n"
   ]
  },
  {
   "cell_type": "code",
   "execution_count": 119,
   "id": "ae3e30cf-4d9f-491e-8f26-68750ab23d83",
   "metadata": {},
   "outputs": [
    {
     "name": "stdout",
     "output_type": "stream",
     "text": [
      "Input shape before attention: (32, 50, 12)\n",
      "Attention output shape: (32, 50, 12)\n",
      "Input shape before attention: (32, 50, 12)\n",
      "Attention output shape: (32, 50, 12)\n",
      "Input shape before attention: (32, 50, 12)\n",
      "Attention output shape: (32, 50, 12)\n",
      "\u001b[1m1/3\u001b[0m \u001b[32m━━━━━━\u001b[0m\u001b[37m━━━━━━━━━━━━━━\u001b[0m \u001b[1m0s\u001b[0m 200ms/stepInput shape before attention: (None, 50, 12)\n",
      "Attention output shape: (None, 50, 12)\n",
      "Input shape before attention: (None, 50, 12)\n",
      "Attention output shape: (None, 50, 12)\n",
      "Input shape before attention: (None, 50, 12)\n",
      "Attention output shape: (None, 50, 12)\n",
      "\u001b[1m3/3\u001b[0m \u001b[32m━━━━━━━━━━━━━━━━━━━━\u001b[0m\u001b[37m\u001b[0m \u001b[1m0s\u001b[0m 94ms/step\n"
     ]
    }
   ],
   "source": [
    "predictions = model.predict(sequences_test)"
   ]
  },
  {
   "cell_type": "code",
   "execution_count": 120,
   "id": "7477cbef-cf7e-4850-92d1-44dced7b7538",
   "metadata": {},
   "outputs": [
    {
     "data": {
      "text/plain": [
       "array([[2157.7493],\n",
       "       [2157.7498],\n",
       "       [2157.7493],\n",
       "       [2157.7495],\n",
       "       [2157.7505],\n",
       "       [2157.7495],\n",
       "       [2157.7505],\n",
       "       [2157.7495],\n",
       "       [2157.7485],\n",
       "       [2157.7498],\n",
       "       [2157.7488],\n",
       "       [2157.7505],\n",
       "       [2157.7498],\n",
       "       [2157.7488],\n",
       "       [2157.7498],\n",
       "       [2157.7505],\n",
       "       [2157.7498],\n",
       "       [2157.749 ],\n",
       "       [2157.748 ],\n",
       "       [2157.7495],\n",
       "       [2157.75  ],\n",
       "       [2157.7495],\n",
       "       [2157.7488],\n",
       "       [2157.7478],\n",
       "       [2157.7488],\n",
       "       [2157.7498],\n",
       "       [2157.7488],\n",
       "       [2157.7483],\n",
       "       [2157.7473],\n",
       "       [2157.748 ],\n",
       "       [2157.749 ],\n",
       "       [2157.7485],\n",
       "       [2157.7483],\n",
       "       [2157.7478],\n",
       "       [2157.7505],\n",
       "       [2157.7498],\n",
       "       [2157.7498],\n",
       "       [2157.749 ],\n",
       "       [2157.7502],\n",
       "       [2157.751 ],\n",
       "       [2157.7502],\n",
       "       [2157.7493],\n",
       "       [2157.7485],\n",
       "       [2157.7498],\n",
       "       [2157.7505],\n",
       "       [2157.7498],\n",
       "       [2157.749 ],\n",
       "       [2157.748 ],\n",
       "       [2157.749 ],\n",
       "       [2157.75  ],\n",
       "       [2157.7493],\n",
       "       [2157.7483],\n",
       "       [2157.7485],\n",
       "       [2157.7515],\n",
       "       [2157.7505],\n",
       "       [2157.7498],\n",
       "       [2157.7488],\n",
       "       [2157.748 ],\n",
       "       [2157.751 ],\n",
       "       [2157.7505],\n",
       "       [2157.7495],\n",
       "       [2157.7488],\n",
       "       [2157.748 ],\n",
       "       [2157.7505],\n",
       "       [2157.75  ],\n",
       "       [2157.7493],\n",
       "       [2157.7485],\n",
       "       [2157.7502],\n",
       "       [2157.7512],\n",
       "       [2157.7515]], dtype=float32)"
      ]
     },
     "execution_count": 120,
     "metadata": {},
     "output_type": "execute_result"
    }
   ],
   "source": [
    "target_scaler.inverse_transform(predictions.reshape(-1,1))"
   ]
  },
  {
   "cell_type": "code",
   "execution_count": null,
   "id": "d7016414-ed41-45b6-839f-703a8975a546",
   "metadata": {},
   "outputs": [],
   "source": []
  },
  {
   "cell_type": "code",
   "execution_count": null,
   "id": "c9a7867b-ec9b-48ec-8b02-eaf72ee66b3e",
   "metadata": {},
   "outputs": [],
   "source": []
  },
  {
   "cell_type": "code",
   "execution_count": null,
   "id": "7398bcc8-e1c6-41aa-9a89-6871d0a8ea5a",
   "metadata": {},
   "outputs": [],
   "source": []
  },
  {
   "cell_type": "code",
   "execution_count": null,
   "id": "e1d4de4d-2d87-4e8c-9299-e7112d4aaae4",
   "metadata": {},
   "outputs": [],
   "source": []
  },
  {
   "cell_type": "code",
   "execution_count": 319,
   "id": "a5ead7ad-9720-4293-aeff-26dcbee581eb",
   "metadata": {},
   "outputs": [
    {
     "name": "stdout",
     "output_type": "stream",
     "text": [
      "Input shape before attention: (958, 10, 12)\n",
      "Attention output shape: (958, 10, 12)\n",
      "Input shape before attention: (958, 10, 12)\n",
      "Attention output shape: (958, 10, 12)\n",
      "Input shape before attention: (958, 10, 12)\n",
      "Attention output shape: (958, 10, 12)\n",
      "Input shape before attention: (958, 10, 12)\n",
      "Attention output shape: (958, 10, 12)\n",
      "Input shape before attention: (958, 10, 12)\n",
      "Attention output shape: (958, 10, 12)\n",
      "Input shape before attention: (958, 10, 12)\n",
      "Attention output shape: (958, 10, 12)\n"
     ]
    },
    {
     "ename": "NameError",
     "evalue": "name 'input_layer' is not defined",
     "output_type": "error",
     "traceback": [
      "\u001b[1;31m---------------------------------------------------------------------------\u001b[0m",
      "\u001b[1;31mNameError\u001b[0m                                 Traceback (most recent call last)",
      "Cell \u001b[1;32mIn[319], line 1\u001b[0m\n\u001b[1;32m----> 1\u001b[0m model \u001b[38;5;241m=\u001b[39m \u001b[43mcreate_transformer_model\u001b[49m\u001b[43m(\u001b[49m\u001b[43msequences\u001b[49m\u001b[43m,\u001b[49m\u001b[43m \u001b[49m\u001b[43mtime2vec_dim\u001b[49m\u001b[43m,\u001b[49m\u001b[43m \u001b[49m\u001b[43mtransformer_layers\u001b[49m\u001b[43m,\u001b[49m\u001b[43m \u001b[49m\u001b[43mdense_units\u001b[49m\u001b[43m,\u001b[49m\u001b[43m \u001b[49m\u001b[43mdropout_rate\u001b[49m\u001b[43m)\u001b[49m\n\u001b[0;32m      2\u001b[0m \u001b[38;5;66;03m# Compile the Model\u001b[39;00m\n\u001b[0;32m      3\u001b[0m model\u001b[38;5;241m.\u001b[39mcompile(optimizer\u001b[38;5;241m=\u001b[39mtf\u001b[38;5;241m.\u001b[39mkeras\u001b[38;5;241m.\u001b[39moptimizers\u001b[38;5;241m.\u001b[39mAdam(learning_rate\u001b[38;5;241m=\u001b[39m\u001b[38;5;241m0.001\u001b[39m), loss\u001b[38;5;241m=\u001b[39m\u001b[38;5;124m\"\u001b[39m\u001b[38;5;124mmse\u001b[39m\u001b[38;5;124m\"\u001b[39m, metrics\u001b[38;5;241m=\u001b[39m[\u001b[38;5;124m\"\u001b[39m\u001b[38;5;124mmae\u001b[39m\u001b[38;5;124m\"\u001b[39m])\n",
      "Cell \u001b[1;32mIn[315], line 33\u001b[0m, in \u001b[0;36mcreate_transformer_model\u001b[1;34m(input_data, time2vec_dim, transformer_layers, dense_units, dropout_rate)\u001b[0m\n\u001b[0;32m     30\u001b[0m output_layer \u001b[38;5;241m=\u001b[39m Dense(\u001b[38;5;241m1\u001b[39m, activation\u001b[38;5;241m=\u001b[39m\u001b[38;5;124m\"\u001b[39m\u001b[38;5;124mlinear\u001b[39m\u001b[38;5;124m\"\u001b[39m)(dropout_2)\n\u001b[0;32m     32\u001b[0m \u001b[38;5;66;03m# Model\u001b[39;00m\n\u001b[1;32m---> 33\u001b[0m model \u001b[38;5;241m=\u001b[39m Model(inputs\u001b[38;5;241m=\u001b[39m\u001b[43minput_layer\u001b[49m, outputs\u001b[38;5;241m=\u001b[39moutput_layer)\n\u001b[0;32m     34\u001b[0m \u001b[38;5;28;01mreturn\u001b[39;00m model\n",
      "\u001b[1;31mNameError\u001b[0m: name 'input_layer' is not defined"
     ]
    }
   ],
   "source": [
    "model = create_transformer_model(sequences,input_shape, time2vec_dim, transformer_layers, dense_units, dropout_rate)\n",
    "# Compile the Model\n",
    "model.compile(optimizer=tf.keras.optimizers.Adam(learning_rate=0.001), loss=\"mse\", metrics=[\"mae\"])\n",
    "\n",
    "# Summary\n",
    "model.summary()"
   ]
  },
  {
   "cell_type": "code",
   "execution_count": null,
   "id": "d673fdba-1a1b-4f65-919b-6066f81c3c5f",
   "metadata": {},
   "outputs": [],
   "source": []
  },
  {
   "cell_type": "code",
   "execution_count": null,
   "id": "81788aba-e3c5-45b8-9771-0c2b554fb54b",
   "metadata": {},
   "outputs": [],
   "source": []
  },
  {
   "cell_type": "code",
   "execution_count": null,
   "id": "2a9fefa4-88ce-4485-ac82-e486b987c4f3",
   "metadata": {},
   "outputs": [],
   "source": []
  },
  {
   "cell_type": "code",
   "execution_count": null,
   "id": "46f6a6f6-07e9-4ae1-b44d-8336b70cf801",
   "metadata": {},
   "outputs": [],
   "source": []
  },
  {
   "cell_type": "code",
   "execution_count": null,
   "id": "393e1575-5a94-4bab-b470-ecdfd91f5589",
   "metadata": {},
   "outputs": [],
   "source": []
  },
  {
   "cell_type": "code",
   "execution_count": null,
   "id": "6e00f3e1-c74a-4ea9-ab76-f90f270695de",
   "metadata": {},
   "outputs": [],
   "source": []
  },
  {
   "cell_type": "code",
   "execution_count": null,
   "id": "904e70bb-2f26-48a9-918f-1cfbd1aaba7a",
   "metadata": {},
   "outputs": [],
   "source": []
  },
  {
   "cell_type": "code",
   "execution_count": 265,
   "id": "4e51e3c6-24c2-4ae1-818c-5ff9d436f305",
   "metadata": {},
   "outputs": [],
   "source": [
    "input_columns = ['Adj_Close', 'Close', 'High', 'Low', 'Open', 'Volume', \n",
    "                 'opt_expiry', '10DaysMA', '30DaysMA', '50DaysMA']\n",
    "time_column = 'epoch_time'\n",
    "target_column = 'Next_Close'"
   ]
  },
  {
   "cell_type": "code",
   "execution_count": 267,
   "id": "87bf57d6-f102-4961-a8e2-403f5a803794",
   "metadata": {},
   "outputs": [],
   "source": [
    "epoch_times = df_train_scaled[time_column].values.reshape(-1, 1)  # Reshape epoch_time to (num_samples, 1)\n",
    "features = df_train_scaled[input_columns].values  # Other input features\n",
    "targets = df_train_scaled[target_column].values.reshape(-1, 1)  # Target variable"
   ]
  },
  {
   "cell_type": "code",
   "execution_count": 274,
   "id": "7a7a40d7-98fa-478e-8a3c-3592b5cbb8cd",
   "metadata": {},
   "outputs": [],
   "source": [
    "time_input = Input(shape=(1,), name=\"epoch_time\")\n",
    "other_inputs = Input(shape=(len(input_columns),), name=\"other_features\")"
   ]
  },
  {
   "cell_type": "code",
   "execution_count": 275,
   "id": "2c2ca798-bc2b-49a4-b917-eafeebfa11d6",
   "metadata": {},
   "outputs": [],
   "source": [
    "time2vec = Time2Vec(kernel_size=1)(time_input)"
   ]
  },
  {
   "cell_type": "code",
   "execution_count": 276,
   "id": "e6ee5d56-4413-4108-8763-745425c8f9e7",
   "metadata": {},
   "outputs": [],
   "source": [
    "concat_inputs = Concatenate()([time2vec, other_inputs])"
   ]
  },
  {
   "cell_type": "code",
   "execution_count": 278,
   "id": "afac9b12-6349-45b3-8c87-23b19e4060d5",
   "metadata": {},
   "outputs": [],
   "source": [
    "# Transformer-like Dense Layers\n",
    "dense1 = Dense(64, activation='relu')(concat_inputs)\n",
    "dense2 = Dense(32, activation='relu')(dense1)\n",
    "# Output layer\n",
    "output = Dense(1, name='Next_Close')(dense2)"
   ]
  },
  {
   "cell_type": "code",
   "execution_count": 279,
   "id": "6d3ab2e5-38db-4841-a7d3-71e81488f36c",
   "metadata": {},
   "outputs": [],
   "source": [
    "model = tf.keras.Model(inputs=[time_input, other_inputs], outputs=output)\n",
    "model.compile(optimizer='adam', loss='mse', metrics=['mae'])"
   ]
  },
  {
   "cell_type": "code",
   "execution_count": 280,
   "id": "c4310f2e-dd2c-4629-bd45-4555cb684929",
   "metadata": {},
   "outputs": [
    {
     "data": {
      "text/html": [
       "<pre style=\"white-space:pre;overflow-x:auto;line-height:normal;font-family:Menlo,'DejaVu Sans Mono',consolas,'Courier New',monospace\"><span style=\"font-weight: bold\">Model: \"functional_9\"</span>\n",
       "</pre>\n"
      ],
      "text/plain": [
       "\u001b[1mModel: \"functional_9\"\u001b[0m\n"
      ]
     },
     "metadata": {},
     "output_type": "display_data"
    },
    {
     "data": {
      "text/html": [
       "<pre style=\"white-space:pre;overflow-x:auto;line-height:normal;font-family:Menlo,'DejaVu Sans Mono',consolas,'Courier New',monospace\">┏━━━━━━━━━━━━━━━━━━━━━┳━━━━━━━━━━━━━━━━━━━┳━━━━━━━━━━━━┳━━━━━━━━━━━━━━━━━━━┓\n",
       "┃<span style=\"font-weight: bold\"> Layer (type)        </span>┃<span style=\"font-weight: bold\"> Output Shape      </span>┃<span style=\"font-weight: bold\">    Param # </span>┃<span style=\"font-weight: bold\"> Connected to      </span>┃\n",
       "┡━━━━━━━━━━━━━━━━━━━━━╇━━━━━━━━━━━━━━━━━━━╇━━━━━━━━━━━━╇━━━━━━━━━━━━━━━━━━━┩\n",
       "│ epoch_time          │ (<span style=\"color: #00d7ff; text-decoration-color: #00d7ff\">None</span>, <span style=\"color: #00af00; text-decoration-color: #00af00\">1</span>)         │          <span style=\"color: #00af00; text-decoration-color: #00af00\">0</span> │ -                 │\n",
       "│ (<span style=\"color: #0087ff; text-decoration-color: #0087ff\">InputLayer</span>)        │                   │            │                   │\n",
       "├─────────────────────┼───────────────────┼────────────┼───────────────────┤\n",
       "│ time2_vec_19        │ (<span style=\"color: #00d7ff; text-decoration-color: #00d7ff\">None</span>, <span style=\"color: #00af00; text-decoration-color: #00af00\">2</span>)         │          <span style=\"color: #00af00; text-decoration-color: #00af00\">4</span> │ epoch_time[<span style=\"color: #00af00; text-decoration-color: #00af00\">0</span>][<span style=\"color: #00af00; text-decoration-color: #00af00\">0</span>]  │\n",
       "│ (<span style=\"color: #0087ff; text-decoration-color: #0087ff\">Time2Vec</span>)          │                   │            │                   │\n",
       "├─────────────────────┼───────────────────┼────────────┼───────────────────┤\n",
       "│ other_features      │ (<span style=\"color: #00d7ff; text-decoration-color: #00d7ff\">None</span>, <span style=\"color: #00af00; text-decoration-color: #00af00\">10</span>)        │          <span style=\"color: #00af00; text-decoration-color: #00af00\">0</span> │ -                 │\n",
       "│ (<span style=\"color: #0087ff; text-decoration-color: #0087ff\">InputLayer</span>)        │                   │            │                   │\n",
       "├─────────────────────┼───────────────────┼────────────┼───────────────────┤\n",
       "│ concatenate_17      │ (<span style=\"color: #00d7ff; text-decoration-color: #00d7ff\">None</span>, <span style=\"color: #00af00; text-decoration-color: #00af00\">12</span>)        │          <span style=\"color: #00af00; text-decoration-color: #00af00\">0</span> │ time2_vec_19[<span style=\"color: #00af00; text-decoration-color: #00af00\">0</span>][<span style=\"color: #00af00; text-decoration-color: #00af00\">…</span> │\n",
       "│ (<span style=\"color: #0087ff; text-decoration-color: #0087ff\">Concatenate</span>)       │                   │            │ other_features[<span style=\"color: #00af00; text-decoration-color: #00af00\">0</span>… │\n",
       "├─────────────────────┼───────────────────┼────────────┼───────────────────┤\n",
       "│ dense_38 (<span style=\"color: #0087ff; text-decoration-color: #0087ff\">Dense</span>)    │ (<span style=\"color: #00d7ff; text-decoration-color: #00d7ff\">None</span>, <span style=\"color: #00af00; text-decoration-color: #00af00\">64</span>)        │        <span style=\"color: #00af00; text-decoration-color: #00af00\">832</span> │ concatenate_17[<span style=\"color: #00af00; text-decoration-color: #00af00\">0</span>… │\n",
       "├─────────────────────┼───────────────────┼────────────┼───────────────────┤\n",
       "│ dense_39 (<span style=\"color: #0087ff; text-decoration-color: #0087ff\">Dense</span>)    │ (<span style=\"color: #00d7ff; text-decoration-color: #00d7ff\">None</span>, <span style=\"color: #00af00; text-decoration-color: #00af00\">32</span>)        │      <span style=\"color: #00af00; text-decoration-color: #00af00\">2,080</span> │ dense_38[<span style=\"color: #00af00; text-decoration-color: #00af00\">0</span>][<span style=\"color: #00af00; text-decoration-color: #00af00\">0</span>]    │\n",
       "├─────────────────────┼───────────────────┼────────────┼───────────────────┤\n",
       "│ Next_Close (<span style=\"color: #0087ff; text-decoration-color: #0087ff\">Dense</span>)  │ (<span style=\"color: #00d7ff; text-decoration-color: #00d7ff\">None</span>, <span style=\"color: #00af00; text-decoration-color: #00af00\">1</span>)         │         <span style=\"color: #00af00; text-decoration-color: #00af00\">33</span> │ dense_39[<span style=\"color: #00af00; text-decoration-color: #00af00\">0</span>][<span style=\"color: #00af00; text-decoration-color: #00af00\">0</span>]    │\n",
       "└─────────────────────┴───────────────────┴────────────┴───────────────────┘\n",
       "</pre>\n"
      ],
      "text/plain": [
       "┏━━━━━━━━━━━━━━━━━━━━━┳━━━━━━━━━━━━━━━━━━━┳━━━━━━━━━━━━┳━━━━━━━━━━━━━━━━━━━┓\n",
       "┃\u001b[1m \u001b[0m\u001b[1mLayer (type)       \u001b[0m\u001b[1m \u001b[0m┃\u001b[1m \u001b[0m\u001b[1mOutput Shape     \u001b[0m\u001b[1m \u001b[0m┃\u001b[1m \u001b[0m\u001b[1m   Param #\u001b[0m\u001b[1m \u001b[0m┃\u001b[1m \u001b[0m\u001b[1mConnected to     \u001b[0m\u001b[1m \u001b[0m┃\n",
       "┡━━━━━━━━━━━━━━━━━━━━━╇━━━━━━━━━━━━━━━━━━━╇━━━━━━━━━━━━╇━━━━━━━━━━━━━━━━━━━┩\n",
       "│ epoch_time          │ (\u001b[38;5;45mNone\u001b[0m, \u001b[38;5;34m1\u001b[0m)         │          \u001b[38;5;34m0\u001b[0m │ -                 │\n",
       "│ (\u001b[38;5;33mInputLayer\u001b[0m)        │                   │            │                   │\n",
       "├─────────────────────┼───────────────────┼────────────┼───────────────────┤\n",
       "│ time2_vec_19        │ (\u001b[38;5;45mNone\u001b[0m, \u001b[38;5;34m2\u001b[0m)         │          \u001b[38;5;34m4\u001b[0m │ epoch_time[\u001b[38;5;34m0\u001b[0m][\u001b[38;5;34m0\u001b[0m]  │\n",
       "│ (\u001b[38;5;33mTime2Vec\u001b[0m)          │                   │            │                   │\n",
       "├─────────────────────┼───────────────────┼────────────┼───────────────────┤\n",
       "│ other_features      │ (\u001b[38;5;45mNone\u001b[0m, \u001b[38;5;34m10\u001b[0m)        │          \u001b[38;5;34m0\u001b[0m │ -                 │\n",
       "│ (\u001b[38;5;33mInputLayer\u001b[0m)        │                   │            │                   │\n",
       "├─────────────────────┼───────────────────┼────────────┼───────────────────┤\n",
       "│ concatenate_17      │ (\u001b[38;5;45mNone\u001b[0m, \u001b[38;5;34m12\u001b[0m)        │          \u001b[38;5;34m0\u001b[0m │ time2_vec_19[\u001b[38;5;34m0\u001b[0m][\u001b[38;5;34m…\u001b[0m │\n",
       "│ (\u001b[38;5;33mConcatenate\u001b[0m)       │                   │            │ other_features[\u001b[38;5;34m0\u001b[0m… │\n",
       "├─────────────────────┼───────────────────┼────────────┼───────────────────┤\n",
       "│ dense_38 (\u001b[38;5;33mDense\u001b[0m)    │ (\u001b[38;5;45mNone\u001b[0m, \u001b[38;5;34m64\u001b[0m)        │        \u001b[38;5;34m832\u001b[0m │ concatenate_17[\u001b[38;5;34m0\u001b[0m… │\n",
       "├─────────────────────┼───────────────────┼────────────┼───────────────────┤\n",
       "│ dense_39 (\u001b[38;5;33mDense\u001b[0m)    │ (\u001b[38;5;45mNone\u001b[0m, \u001b[38;5;34m32\u001b[0m)        │      \u001b[38;5;34m2,080\u001b[0m │ dense_38[\u001b[38;5;34m0\u001b[0m][\u001b[38;5;34m0\u001b[0m]    │\n",
       "├─────────────────────┼───────────────────┼────────────┼───────────────────┤\n",
       "│ Next_Close (\u001b[38;5;33mDense\u001b[0m)  │ (\u001b[38;5;45mNone\u001b[0m, \u001b[38;5;34m1\u001b[0m)         │         \u001b[38;5;34m33\u001b[0m │ dense_39[\u001b[38;5;34m0\u001b[0m][\u001b[38;5;34m0\u001b[0m]    │\n",
       "└─────────────────────┴───────────────────┴────────────┴───────────────────┘\n"
      ]
     },
     "metadata": {},
     "output_type": "display_data"
    },
    {
     "data": {
      "text/html": [
       "<pre style=\"white-space:pre;overflow-x:auto;line-height:normal;font-family:Menlo,'DejaVu Sans Mono',consolas,'Courier New',monospace\"><span style=\"font-weight: bold\"> Total params: </span><span style=\"color: #00af00; text-decoration-color: #00af00\">2,949</span> (11.52 KB)\n",
       "</pre>\n"
      ],
      "text/plain": [
       "\u001b[1m Total params: \u001b[0m\u001b[38;5;34m2,949\u001b[0m (11.52 KB)\n"
      ]
     },
     "metadata": {},
     "output_type": "display_data"
    },
    {
     "data": {
      "text/html": [
       "<pre style=\"white-space:pre;overflow-x:auto;line-height:normal;font-family:Menlo,'DejaVu Sans Mono',consolas,'Courier New',monospace\"><span style=\"font-weight: bold\"> Trainable params: </span><span style=\"color: #00af00; text-decoration-color: #00af00\">2,949</span> (11.52 KB)\n",
       "</pre>\n"
      ],
      "text/plain": [
       "\u001b[1m Trainable params: \u001b[0m\u001b[38;5;34m2,949\u001b[0m (11.52 KB)\n"
      ]
     },
     "metadata": {},
     "output_type": "display_data"
    },
    {
     "data": {
      "text/html": [
       "<pre style=\"white-space:pre;overflow-x:auto;line-height:normal;font-family:Menlo,'DejaVu Sans Mono',consolas,'Courier New',monospace\"><span style=\"font-weight: bold\"> Non-trainable params: </span><span style=\"color: #00af00; text-decoration-color: #00af00\">0</span> (0.00 B)\n",
       "</pre>\n"
      ],
      "text/plain": [
       "\u001b[1m Non-trainable params: \u001b[0m\u001b[38;5;34m0\u001b[0m (0.00 B)\n"
      ]
     },
     "metadata": {},
     "output_type": "display_data"
    }
   ],
   "source": [
    "model.summary()"
   ]
  },
  {
   "cell_type": "code",
   "execution_count": 304,
   "id": "6ad94069-06c8-4a0d-b6e8-2e3f8fa5a02b",
   "metadata": {
    "scrolled": true
   },
   "outputs": [
    {
     "ename": "ValueError",
     "evalue": "Unrecognized data type: x={'epoch_time': array([[1.5807744e+09],\n       [1.5808608e+09],\n       [1.5809472e+09],\n       [1.5810336e+09],\n       [1.5812928e+09],\n       [1.5813792e+09],\n       [1.5814656e+09],\n       [1.5815520e+09],\n       [1.5816384e+09],\n       [1.5818976e+09],\n       [1.5819840e+09],\n       [1.5820704e+09],\n       [1.5821568e+09],\n       [1.5825024e+09],\n       [1.5825888e+09],\n       [1.5826752e+09],\n       [1.5827616e+09],\n       [1.5828480e+09],\n       [1.5831072e+09],\n       [1.5831936e+09],\n       [1.5832800e+09],\n       [1.5833664e+09],\n       [1.5834528e+09],\n       [1.5837120e+09],\n       [1.5838848e+09],\n       [1.5839712e+09],\n       [1.5840576e+09],\n       [1.5843168e+09],\n       [1.5844032e+09],\n       [1.5844896e+09],\n       [1.5845760e+09],\n       [1.5846624e+09],\n       [1.5849216e+09],\n       [1.5850080e+09],\n       [1.5850944e+09],\n       [1.5851808e+09],\n       [1.5852672e+09],\n       [1.5855264e+09],\n       [1.5856128e+09],\n       [1.5856992e+09],\n       [1.5858720e+09],\n       [1.5862176e+09],\n       [1.5863040e+09],\n       [1.5863904e+09],\n       [1.5867360e+09],\n       [1.5869088e+09],\n       [1.5869952e+09],\n       [1.5870816e+09],\n       [1.5873408e+09],\n       [1.5874272e+09],\n       [1.5875136e+09],\n       [1.5876000e+09],\n       [1.5876864e+09],\n       [1.5879456e+09],\n       [1.5880320e+09],\n       [1.5881184e+09],\n       [1.5882048e+09],\n       [1.5885504e+09],\n       [1.5886368e+09],\n       [1.5887232e+09],\n       [1.5888096e+09],\n       [1.5888960e+09],\n       [1.5891552e+09],\n       [1.5892416e+09],\n       [1.5893280e+09],\n       [1.5894144e+09],\n       [1.5895008e+09],\n       [1.5897600e+09],\n       [1.5898464e+09],\n       [1.5899328e+09],\n       [1.5900192e+09],\n       [1.5901056e+09],\n       [1.5904512e+09],\n       [1.5905376e+09],\n       [1.5906240e+09],\n       [1.5907104e+09],\n       [1.5909696e+09],\n       [1.5910560e+09],\n       [1.5911424e+09],\n       [1.5912288e+09],\n       [1.5913152e+09],\n       [1.5915744e+09],\n       [1.5916608e+09],\n       [1.5917472e+09],\n       [1.5918336e+09],\n       [1.5919200e+09],\n       [1.5921792e+09],\n       [1.5922656e+09],\n       [1.5923520e+09],\n       [1.5924384e+09],\n       [1.5925248e+09],\n       [1.5927840e+09],\n       [1.5928704e+09],\n       [1.5929568e+09],\n       [1.5930432e+09],\n       [1.5931296e+09],\n       [1.5933888e+09],\n       [1.5934752e+09],\n       [1.5935616e+09],\n       [1.5936480e+09],\n       [1.5937344e+09],\n       [1.5939936e+09],\n       [1.5940800e+09],\n       [1.5941664e+09],\n       [1.5942528e+09],\n       [1.5943392e+09],\n       [1.5945984e+09],\n       [1.5946848e+09],\n       [1.5947712e+09],\n       [1.5948576e+09],\n       [1.5949440e+09],\n       [1.5952032e+09],\n       [1.5952896e+09],\n       [1.5953760e+09],\n       [1.5954624e+09],\n       [1.5955488e+09],\n       [1.5958080e+09],\n       [1.5958944e+09],\n       [1.5959808e+09],\n       [1.5960672e+09],\n       [1.5961536e+09],\n       [1.5964128e+09],\n       [1.5964992e+09],\n       [1.5965856e+09],\n       [1.5966720e+09],\n       [1.5967584e+09],\n       [1.5970176e+09],\n       [1.5971040e+09],\n       [1.5971904e+09],\n       [1.5972768e+09],\n       [1.5973632e+09],\n       [1.5976224e+09],\n       [1.5977088e+09],\n       [1.5977952e+09],\n       [1.5978816e+09],\n       [1.5979680e+09],\n       [1.5982272e+09],\n       [1.5983136e+09],\n       [1.5984000e+09],\n       [1.5984864e+09],\n       [1.5985728e+09],\n       [1.5988320e+09],\n       [1.5989184e+09],\n       [1.5990048e+09],\n       [1.5990912e+09],\n       [1.5991776e+09],\n       [1.5994368e+09],\n       [1.5995232e+09],\n       [1.5996096e+09],\n       [1.5996960e+09],\n       [1.5997824e+09],\n       [1.6000416e+09],\n       [1.6001280e+09],\n       [1.6002144e+09],\n       [1.6003008e+09],\n       [1.6003872e+09],\n       [1.6006464e+09],\n       [1.6007328e+09],\n       [1.6008192e+09],\n       [1.6009056e+09],\n       [1.6009920e+09],\n       [1.6012512e+09],\n       [1.6013376e+09],\n       [1.6014240e+09],\n       [1.6015104e+09],\n       [1.6018560e+09],\n       [1.6019424e+09],\n       [1.6020288e+09],\n       [1.6021152e+09],\n       [1.6022016e+09],\n       [1.6024608e+09],\n       [1.6025472e+09],\n       [1.6026336e+09],\n       [1.6027200e+09],\n       [1.6028064e+09],\n       [1.6030656e+09],\n       [1.6031520e+09],\n       [1.6032384e+09],\n       [1.6033248e+09],\n       [1.6034112e+09],\n       [1.6036704e+09],\n       [1.6037568e+09],\n       [1.6038432e+09],\n       [1.6039296e+09],\n       [1.6040160e+09],\n       [1.6042752e+09],\n       [1.6043616e+09],\n       [1.6044480e+09],\n       [1.6045344e+09],\n       [1.6046208e+09],\n       [1.6048800e+09],\n       [1.6049664e+09],\n       [1.6050528e+09],\n       [1.6051392e+09],\n       [1.6052256e+09],\n       [1.6053120e+09],\n       [1.6055712e+09],\n       [1.6056576e+09],\n       [1.6057440e+09],\n       [1.6058304e+09],\n       [1.6060896e+09],\n       [1.6061760e+09],\n       [1.6062624e+09],\n       [1.6063488e+09],\n       [1.6064352e+09],\n       [1.6067808e+09],\n       [1.6068672e+09],\n       [1.6069536e+09],\n       [1.6070400e+09],\n       [1.6072992e+09],\n       [1.6073856e+09],\n       [1.6074720e+09],\n       [1.6075584e+09],\n       [1.6076448e+09],\n       [1.6079040e+09],\n       [1.6079904e+09],\n       [1.6080768e+09],\n       [1.6081632e+09],\n       [1.6082496e+09],\n       [1.6085088e+09],\n       [1.6085952e+09],\n       [1.6086816e+09],\n       [1.6087680e+09],\n       [1.6091136e+09],\n       [1.6092000e+09],\n       [1.6092864e+09],\n       [1.6093728e+09],\n       [1.6094592e+09],\n       [1.6097184e+09],\n       [1.6098048e+09],\n       [1.6098912e+09],\n       [1.6099776e+09],\n       [1.6100640e+09],\n       [1.6103232e+09],\n       [1.6104096e+09],\n       [1.6104960e+09],\n       [1.6105824e+09],\n       [1.6106688e+09],\n       [1.6109280e+09],\n       [1.6110144e+09],\n       [1.6111008e+09],\n       [1.6111872e+09],\n       [1.6112736e+09],\n       [1.6115328e+09],\n       [1.6117056e+09],\n       [1.6117920e+09],\n       [1.6118784e+09],\n       [1.6121376e+09],\n       [1.6122240e+09],\n       [1.6123104e+09],\n       [1.6123968e+09],\n       [1.6124832e+09],\n       [1.6127424e+09],\n       [1.6128288e+09],\n       [1.6129152e+09],\n       [1.6130016e+09],\n       [1.6130880e+09],\n       [1.6133472e+09],\n       [1.6134336e+09],\n       [1.6135200e+09],\n       [1.6136064e+09],\n       [1.6136928e+09],\n       [1.6139520e+09],\n       [1.6140384e+09],\n       [1.6141248e+09],\n       [1.6142112e+09],\n       [1.6142976e+09],\n       [1.6145568e+09],\n       [1.6146432e+09],\n       [1.6147296e+09],\n       [1.6148160e+09],\n       [1.6149024e+09],\n       [1.6151616e+09],\n       [1.6152480e+09],\n       [1.6153344e+09],\n       [1.6155072e+09],\n       [1.6157664e+09],\n       [1.6158528e+09],\n       [1.6159392e+09],\n       [1.6160256e+09],\n       [1.6161120e+09],\n       [1.6163712e+09],\n       [1.6164576e+09],\n       [1.6165440e+09],\n       [1.6166304e+09],\n       [1.6167168e+09],\n       [1.6170624e+09],\n       [1.6171488e+09],\n       [1.6172352e+09],\n       [1.6175808e+09],\n       [1.6176672e+09],\n       [1.6177536e+09],\n       [1.6178400e+09],\n       [1.6179264e+09],\n       [1.6181856e+09],\n       [1.6182720e+09],\n       [1.6184448e+09],\n       [1.6185312e+09],\n       [1.6187904e+09],\n       [1.6188768e+09],\n       [1.6190496e+09],\n       [1.6191360e+09],\n       [1.6193952e+09],\n       [1.6194816e+09],\n       [1.6195680e+09],\n       [1.6196544e+09],\n       [1.6197408e+09],\n       [1.6200000e+09],\n       [1.6200864e+09],\n       [1.6201728e+09],\n       [1.6202592e+09],\n       [1.6203456e+09],\n       [1.6206048e+09],\n       [1.6206912e+09],\n       [1.6207776e+09],\n       [1.6209504e+09],\n       [1.6212096e+09],\n       [1.6212960e+09],\n       [1.6213824e+09],\n       [1.6214688e+09],\n       [1.6215552e+09],\n       [1.6218144e+09],\n       [1.6219008e+09],\n       [1.6219872e+09],\n       [1.6220736e+09],\n       [1.6221600e+09],\n       [1.6224192e+09],\n       [1.6225056e+09],\n       [1.6225920e+09],\n       [1.6226784e+09],\n       [1.6227648e+09],\n       [1.6230240e+09],\n       [1.6231104e+09],\n       [1.6231968e+09],\n       [1.6232832e+09],\n       [1.6233696e+09],\n       [1.6236288e+09],\n       [1.6237152e+09],\n       [1.6238016e+09],\n       [1.6238880e+09],\n       [1.6239744e+09],\n       [1.6242336e+09],\n       [1.6243200e+09],\n       [1.6244064e+09],\n       [1.6244928e+09],\n       [1.6245792e+09],\n       [1.6248384e+09],\n       [1.6249248e+09],\n       [1.6250112e+09],\n       [1.6250976e+09],\n       [1.6251840e+09],\n       [1.6254432e+09],\n       [1.6255296e+09],\n       [1.6256160e+09],\n       [1.6257024e+09],\n       [1.6257888e+09],\n       [1.6260480e+09],\n       [1.6261344e+09],\n       [1.6262208e+09],\n       [1.6263072e+09],\n       [1.6263936e+09],\n       [1.6266528e+09],\n       [1.6267392e+09],\n       [1.6269120e+09],\n       [1.6269984e+09],\n       [1.6272576e+09],\n       [1.6273440e+09],\n       [1.6274304e+09],\n       [1.6275168e+09],\n       [1.6276032e+09],\n       [1.6278624e+09],\n       [1.6279488e+09],\n       [1.6280352e+09],\n       [1.6281216e+09],\n       [1.6282080e+09],\n       [1.6284672e+09],\n       [1.6285536e+09],\n       [1.6286400e+09],\n       [1.6287264e+09],\n       [1.6288128e+09],\n       [1.6290720e+09],\n       [1.6291584e+09],\n       [1.6292448e+09],\n       [1.6294176e+09],\n       [1.6296768e+09],\n       [1.6297632e+09],\n       [1.6298496e+09],\n       [1.6299360e+09],\n       [1.6300224e+09],\n       [1.6302816e+09],\n       [1.6303680e+09],\n       [1.6304544e+09],\n       [1.6305408e+09],\n       [1.6306272e+09],\n       [1.6308864e+09],\n       [1.6309728e+09],\n       [1.6310592e+09],\n       [1.6311456e+09],\n       [1.6314912e+09],\n       [1.6315776e+09],\n       [1.6316640e+09],\n       [1.6317504e+09],\n       [1.6318368e+09],\n       [1.6320960e+09],\n       [1.6321824e+09],\n       [1.6322688e+09],\n       [1.6323552e+09],\n       [1.6324416e+09],\n       [1.6327008e+09],\n       [1.6327872e+09],\n       [1.6328736e+09],\n       [1.6329600e+09],\n       [1.6330464e+09],\n       [1.6333056e+09],\n       [1.6333920e+09],\n       [1.6334784e+09],\n       [1.6335648e+09],\n       [1.6336512e+09],\n       [1.6339104e+09],\n       [1.6339968e+09],\n       [1.6340832e+09],\n       [1.6341696e+09],\n       [1.6345152e+09],\n       [1.6346016e+09],\n       [1.6346880e+09],\n       [1.6347744e+09],\n       [1.6348608e+09],\n       [1.6351200e+09],\n       [1.6352064e+09],\n       [1.6352928e+09],\n       [1.6353792e+09],\n       [1.6354656e+09],\n       [1.6357248e+09],\n       [1.6358112e+09],\n       [1.6358976e+09],\n       [1.6359840e+09],\n       [1.6363296e+09],\n       [1.6364160e+09],\n       [1.6365024e+09],\n       [1.6365888e+09],\n       [1.6366752e+09],\n       [1.6369344e+09],\n       [1.6370208e+09],\n       [1.6371072e+09],\n       [1.6371936e+09],\n       [1.6375392e+09],\n       [1.6376256e+09],\n       [1.6377120e+09],\n       [1.6377984e+09],\n       [1.6378848e+09],\n       [1.6381440e+09],\n       [1.6382304e+09],\n       [1.6383168e+09],\n       [1.6384032e+09],\n       [1.6384896e+09],\n       [1.6387488e+09],\n       [1.6388352e+09],\n       [1.6389216e+09],\n       [1.6390080e+09],\n       [1.6390944e+09],\n       [1.6393536e+09],\n       [1.6394400e+09],\n       [1.6395264e+09],\n       [1.6396128e+09],\n       [1.6396992e+09],\n       [1.6399584e+09],\n       [1.6400448e+09],\n       [1.6401312e+09],\n       [1.6402176e+09],\n       [1.6403040e+09],\n       [1.6405632e+09],\n       [1.6406496e+09],\n       [1.6407360e+09],\n       [1.6408224e+09],\n       [1.6409088e+09],\n       [1.6411680e+09],\n       [1.6412544e+09],\n       [1.6413408e+09],\n       [1.6414272e+09],\n       [1.6415136e+09],\n       [1.6417728e+09],\n       [1.6418592e+09],\n       [1.6419456e+09],\n       [1.6420320e+09],\n       [1.6421184e+09],\n       [1.6423776e+09],\n       [1.6424640e+09],\n       [1.6425504e+09],\n       [1.6426368e+09],\n       [1.6427232e+09],\n       [1.6429824e+09],\n       [1.6430688e+09],\n       [1.6432416e+09],\n       [1.6433280e+09],\n       [1.6435872e+09],\n       [1.6436736e+09],\n       [1.6437600e+09],\n       [1.6438464e+09],\n       [1.6439328e+09],\n       [1.6441920e+09],\n       [1.6442784e+09],\n       [1.6443648e+09],\n       [1.6444512e+09],\n       [1.6445376e+09],\n       [1.6447968e+09],\n       [1.6448832e+09],\n       [1.6449696e+09],\n       [1.6450560e+09],\n       [1.6451424e+09],\n       [1.6454016e+09],\n       [1.6454880e+09],\n       [1.6455744e+09],\n       [1.6456608e+09],\n       [1.6457472e+09],\n       [1.6460064e+09],\n       [1.6461792e+09],\n       [1.6462656e+09],\n       [1.6463520e+09],\n       [1.6466112e+09],\n       [1.6466976e+09],\n       [1.6467840e+09],\n       [1.6468704e+09],\n       [1.6469568e+09],\n       [1.6472160e+09],\n       [1.6473024e+09],\n       [1.6473888e+09],\n       [1.6474752e+09],\n       [1.6478208e+09],\n       [1.6479072e+09],\n       [1.6479936e+09],\n       [1.6480800e+09],\n       [1.6481664e+09],\n       [1.6484256e+09],\n       [1.6485120e+09],\n       [1.6485984e+09],\n       [1.6486848e+09],\n       [1.6487712e+09],\n       [1.6490304e+09],\n       [1.6491168e+09],\n       [1.6492032e+09],\n       [1.6492896e+09],\n       [1.6493760e+09],\n       [1.6496352e+09],\n       [1.6497216e+09],\n       [1.6498080e+09],\n       [1.6502400e+09],\n       [1.6503264e+09],\n       [1.6504128e+09],\n       [1.6504992e+09],\n       [1.6505856e+09],\n       [1.6508448e+09],\n       [1.6509312e+09],\n       [1.6510176e+09],\n       [1.6511040e+09],\n       [1.6511904e+09],\n       [1.6514496e+09],\n       [1.6516224e+09],\n       [1.6517088e+09],\n       [1.6517952e+09],\n       [1.6520544e+09],\n       [1.6521408e+09],\n       [1.6522272e+09],\n       [1.6523136e+09],\n       [1.6524000e+09],\n       [1.6526592e+09],\n       [1.6527456e+09],\n       [1.6528320e+09],\n       [1.6529184e+09],\n       [1.6530048e+09],\n       [1.6532640e+09],\n       [1.6533504e+09],\n       [1.6534368e+09],\n       [1.6535232e+09],\n       [1.6536096e+09],\n       [1.6538688e+09],\n       [1.6539552e+09],\n       [1.6540416e+09],\n       [1.6541280e+09],\n       [1.6542144e+09],\n       [1.6544736e+09],\n       [1.6545600e+09],\n       [1.6546464e+09],\n       [1.6547328e+09],\n       [1.6548192e+09],\n       [1.6550784e+09],\n       [1.6551648e+09],\n       [1.6552512e+09],\n       [1.6553376e+09],\n       [1.6554240e+09],\n       [1.6556832e+09],\n       [1.6557696e+09],\n       [1.6558560e+09],\n       [1.6559424e+09],\n       [1.6560288e+09],\n       [1.6562880e+09],\n       [1.6563744e+09],\n       [1.6564608e+09],\n       [1.6565472e+09],\n       [1.6566336e+09],\n       [1.6568928e+09],\n       [1.6569792e+09],\n       [1.6570656e+09],\n       [1.6571520e+09],\n       [1.6572384e+09],\n       [1.6574976e+09],\n       [1.6575840e+09],\n       [1.6576704e+09],\n       [1.6577568e+09],\n       [1.6578432e+09],\n       [1.6581024e+09],\n       [1.6581888e+09],\n       [1.6582752e+09],\n       [1.6583616e+09],\n       [1.6584480e+09],\n       [1.6587072e+09],\n       [1.6587936e+09],\n       [1.6588800e+09],\n       [1.6589664e+09],\n       [1.6590528e+09],\n       [1.6593120e+09],\n       [1.6593984e+09],\n       [1.6594848e+09],\n       [1.6595712e+09],\n       [1.6596576e+09],\n       [1.6599168e+09],\n       [1.6600896e+09],\n       [1.6601760e+09],\n       [1.6602624e+09],\n       [1.6606080e+09],\n       [1.6606944e+09],\n       [1.6607808e+09],\n       [1.6608672e+09],\n       [1.6611264e+09],\n       [1.6612128e+09],\n       [1.6612992e+09],\n       [1.6613856e+09],\n       [1.6614720e+09],\n       [1.6617312e+09],\n       [1.6618176e+09],\n       [1.6619904e+09],\n       [1.6620768e+09],\n       [1.6623360e+09],\n       [1.6624224e+09],\n       [1.6625088e+09],\n       [1.6625952e+09],\n       [1.6626816e+09],\n       [1.6629408e+09],\n       [1.6630272e+09],\n       [1.6631136e+09],\n       [1.6632000e+09],\n       [1.6632864e+09],\n       [1.6635456e+09],\n       [1.6636320e+09],\n       [1.6637184e+09],\n       [1.6638048e+09],\n       [1.6638912e+09],\n       [1.6641504e+09],\n       [1.6642368e+09],\n       [1.6643232e+09],\n       [1.6644096e+09],\n       [1.6644960e+09],\n       [1.6647552e+09],\n       [1.6648416e+09],\n       [1.6650144e+09],\n       [1.6651008e+09],\n       [1.6653600e+09],\n       [1.6654464e+09],\n       [1.6655328e+09],\n       [1.6656192e+09],\n       [1.6657056e+09],\n       [1.6659648e+09],\n       [1.6660512e+09],\n       [1.6661376e+09],\n       [1.6662240e+09],\n       [1.6663104e+09],\n       [1.6665696e+09],\n       [1.6666560e+09],\n       [1.6668288e+09],\n       [1.6669152e+09],\n       [1.6671744e+09],\n       [1.6672608e+09],\n       [1.6673472e+09],\n       [1.6674336e+09],\n       [1.6675200e+09],\n       [1.6677792e+09],\n       [1.6679520e+09],\n       [1.6680384e+09],\n       [1.6681248e+09],\n       [1.6683840e+09],\n       [1.6684704e+09],\n       [1.6685568e+09],\n       [1.6686432e+09],\n       [1.6687296e+09],\n       [1.6689888e+09],\n       [1.6690752e+09],\n       [1.6691616e+09],\n       [1.6692480e+09],\n       [1.6693344e+09],\n       [1.6695936e+09],\n       [1.6696800e+09],\n       [1.6697664e+09],\n       [1.6698528e+09],\n       [1.6699392e+09],\n       [1.6701984e+09],\n       [1.6702848e+09],\n       [1.6703712e+09],\n       [1.6704576e+09],\n       [1.6705440e+09],\n       [1.6708032e+09],\n       [1.6708896e+09],\n       [1.6709760e+09],\n       [1.6710624e+09],\n       [1.6711488e+09],\n       [1.6714080e+09],\n       [1.6714944e+09],\n       [1.6715808e+09],\n       [1.6716672e+09],\n       [1.6717536e+09],\n       [1.6720128e+09],\n       [1.6720992e+09],\n       [1.6721856e+09],\n       [1.6722720e+09],\n       [1.6723584e+09],\n       [1.6726176e+09],\n       [1.6727040e+09],\n       [1.6727904e+09],\n       [1.6728768e+09],\n       [1.6729632e+09],\n       [1.6732224e+09],\n       [1.6733088e+09],\n       [1.6733952e+09],\n       [1.6734816e+09],\n       [1.6735680e+09],\n       [1.6738272e+09],\n       [1.6739136e+09],\n       [1.6740000e+09],\n       [1.6740864e+09],\n       [1.6741728e+09],\n       [1.6744320e+09],\n       [1.6745184e+09],\n       [1.6746048e+09],\n       [1.6747776e+09],\n       [1.6750368e+09],\n       [1.6751232e+09],\n       [1.6752096e+09],\n       [1.6752960e+09],\n       [1.6753824e+09],\n       [1.6756416e+09],\n       [1.6757280e+09],\n       [1.6758144e+09],\n       [1.6759008e+09],\n       [1.6759872e+09],\n       [1.6762464e+09],\n       [1.6763328e+09],\n       [1.6764192e+09],\n       [1.6765056e+09],\n       [1.6765920e+09],\n       [1.6768512e+09],\n       [1.6769376e+09],\n       [1.6770240e+09],\n       [1.6771104e+09],\n       [1.6771968e+09],\n       [1.6774560e+09],\n       [1.6775424e+09],\n       [1.6776288e+09],\n       [1.6777152e+09],\n       [1.6778016e+09],\n       [1.6780608e+09],\n       [1.6782336e+09],\n       [1.6783200e+09],\n       [1.6784064e+09],\n       [1.6786656e+09],\n       [1.6787520e+09],\n       [1.6788384e+09],\n       [1.6789248e+09],\n       [1.6790112e+09],\n       [1.6792704e+09],\n       [1.6793568e+09],\n       [1.6794432e+09],\n       [1.6795296e+09],\n       [1.6796160e+09],\n       [1.6798752e+09],\n       [1.6799616e+09],\n       [1.6800480e+09],\n       [1.6802208e+09],\n       [1.6804800e+09],\n       [1.6806528e+09],\n       [1.6807392e+09],\n       [1.6810848e+09],\n       [1.6811712e+09],\n       [1.6812576e+09],\n       [1.6813440e+09],\n       [1.6816896e+09],\n       [1.6817760e+09],\n       [1.6818624e+09],\n       [1.6819488e+09],\n       [1.6820352e+09],\n       [1.6822944e+09],\n       [1.6823808e+09],\n       [1.6824672e+09],\n       [1.6825536e+09],\n       [1.6826400e+09],\n       [1.6829856e+09],\n       [1.6830720e+09],\n       [1.6831584e+09],\n       [1.6832448e+09],\n       [1.6835040e+09],\n       [1.6835904e+09],\n       [1.6836768e+09],\n       [1.6837632e+09],\n       [1.6838496e+09],\n       [1.6841088e+09],\n       [1.6841952e+09],\n       [1.6842816e+09],\n       [1.6843680e+09],\n       [1.6844544e+09],\n       [1.6847136e+09],\n       [1.6848000e+09],\n       [1.6848864e+09],\n       [1.6849728e+09],\n       [1.6850592e+09],\n       [1.6853184e+09],\n       [1.6854048e+09],\n       [1.6854912e+09],\n       [1.6855776e+09],\n       [1.6856640e+09],\n       [1.6859232e+09],\n       [1.6860096e+09],\n       [1.6860960e+09],\n       [1.6861824e+09],\n       [1.6862688e+09],\n       [1.6865280e+09],\n       [1.6866144e+09],\n       [1.6867008e+09],\n       [1.6867872e+09],\n       [1.6868736e+09],\n       [1.6871328e+09],\n       [1.6872192e+09],\n       [1.6873056e+09],\n       [1.6873920e+09],\n       [1.6874784e+09],\n       [1.6877376e+09],\n       [1.6878240e+09],\n       [1.6879104e+09],\n       [1.6880832e+09],\n       [1.6883424e+09],\n       [1.6884288e+09],\n       [1.6885152e+09],\n       [1.6886016e+09],\n       [1.6886880e+09],\n       [1.6889472e+09],\n       [1.6890336e+09],\n       [1.6891200e+09],\n       [1.6892064e+09],\n       [1.6892928e+09],\n       [1.6895520e+09],\n       [1.6896384e+09],\n       [1.6897248e+09],\n       [1.6898112e+09],\n       [1.6898976e+09],\n       [1.6901568e+09],\n       [1.6902432e+09],\n       [1.6903296e+09],\n       [1.6904160e+09],\n       [1.6905024e+09],\n       [1.6907616e+09],\n       [1.6908480e+09],\n       [1.6909344e+09],\n       [1.6910208e+09],\n       [1.6911072e+09],\n       [1.6913664e+09],\n       [1.6914528e+09],\n       [1.6915392e+09],\n       [1.6916256e+09],\n       [1.6917120e+09],\n       [1.6919712e+09],\n       [1.6921440e+09],\n       [1.6922304e+09],\n       [1.6923168e+09],\n       [1.6925760e+09],\n       [1.6926624e+09],\n       [1.6927488e+09],\n       [1.6928352e+09],\n       [1.6929216e+09],\n       [1.6931808e+09],\n       [1.6932672e+09],\n       [1.6933536e+09],\n       [1.6934400e+09],\n       [1.6935264e+09],\n       [1.6937856e+09],\n       [1.6938720e+09],\n       [1.6939584e+09],\n       [1.6940448e+09],\n       [1.6941312e+09],\n       [1.6943904e+09],\n       [1.6944768e+09],\n       [1.6945632e+09],\n       [1.6946496e+09],\n       [1.6947360e+09],\n       [1.6949952e+09],\n       [1.6951680e+09],\n       [1.6952544e+09],\n       [1.6953408e+09],\n       [1.6956000e+09],\n       [1.6956864e+09],\n       [1.6957728e+09],\n       [1.6958592e+09],\n       [1.6959456e+09],\n       [1.6962912e+09],\n       [1.6963776e+09],\n       [1.6964640e+09],\n       [1.6965504e+09],\n       [1.6968096e+09],\n       [1.6968960e+09],\n       [1.6969824e+09],\n       [1.6970688e+09],\n       [1.6971552e+09],\n       [1.6974144e+09],\n       [1.6975008e+09],\n       [1.6975872e+09],\n       [1.6976736e+09],\n       [1.6977600e+09],\n       [1.6980192e+09],\n       [1.6981920e+09],\n       [1.6982784e+09],\n       [1.6983648e+09],\n       [1.6986240e+09],\n       [1.6987104e+09],\n       [1.6987968e+09],\n       [1.6988832e+09],\n       [1.6989696e+09],\n       [1.6992288e+09],\n       [1.6993152e+09],\n       [1.6994016e+09],\n       [1.6994880e+09],\n       [1.6995744e+09],\n       [1.6998336e+09],\n       [1.7000064e+09],\n       [1.7000928e+09],\n       [1.7001792e+09],\n       [1.7004384e+09],\n       [1.7005248e+09],\n       [1.7006112e+09],\n       [1.7006976e+09],\n       [1.7007840e+09],\n       [1.7011296e+09],\n       [1.7012160e+09],\n       [1.7013024e+09],\n       [1.7013888e+09],\n       [1.7016480e+09],\n       [1.7017344e+09],\n       [1.7018208e+09],\n       [1.7019072e+09],\n       [1.7019936e+09],\n       [1.7022528e+09],\n       [1.7023392e+09],\n       [1.7024256e+09],\n       [1.7025120e+09],\n       [1.7025984e+09],\n       [1.7028576e+09],\n       [1.7029440e+09],\n       [1.7030304e+09],\n       [1.7031168e+09],\n       [1.7032032e+09],\n       [1.7035488e+09],\n       [1.7036352e+09],\n       [1.7037216e+09],\n       [1.7038080e+09]]), 'other_features': 10} (of type <class 'dict'>)",
     "output_type": "error",
     "traceback": [
      "\u001b[1;31m---------------------------------------------------------------------------\u001b[0m",
      "\u001b[1;31mValueError\u001b[0m                                Traceback (most recent call last)",
      "Cell \u001b[1;32mIn[304], line 1\u001b[0m\n\u001b[1;32m----> 1\u001b[0m history \u001b[38;5;241m=\u001b[39m \u001b[43mmodel\u001b[49m\u001b[38;5;241;43m.\u001b[39;49m\u001b[43mfit\u001b[49m\u001b[43m(\u001b[49m\n\u001b[0;32m      2\u001b[0m \u001b[43m    \u001b[49m\u001b[43m{\u001b[49m\u001b[38;5;124;43m'\u001b[39;49m\u001b[38;5;124;43mepoch_time\u001b[39;49m\u001b[38;5;124;43m'\u001b[39;49m\u001b[43m:\u001b[49m\u001b[43m \u001b[49m\u001b[43mepoch_times\u001b[49m\u001b[43m,\u001b[49m\u001b[43m \u001b[49m\u001b[38;5;124;43m'\u001b[39;49m\u001b[38;5;124;43mother_features\u001b[39;49m\u001b[38;5;124;43m'\u001b[39;49m\u001b[43m:\u001b[49m\u001b[43m \u001b[49m\u001b[43mfeatures\u001b[49m\u001b[43m}\u001b[49m\u001b[43m,\u001b[49m\u001b[43m \u001b[49m\n\u001b[0;32m      3\u001b[0m \u001b[43m    \u001b[49m\u001b[43mtargets\u001b[49m\u001b[43m,\u001b[49m\u001b[43m \u001b[49m\n\u001b[0;32m      4\u001b[0m \u001b[43m    \u001b[49m\u001b[43mepochs\u001b[49m\u001b[38;5;241;43m=\u001b[39;49m\u001b[38;5;241;43m100\u001b[39;49m\u001b[43m,\u001b[49m\u001b[43m \u001b[49m\n\u001b[0;32m      5\u001b[0m \u001b[43m    \u001b[49m\u001b[43mbatch_size\u001b[49m\u001b[38;5;241;43m=\u001b[39;49m\u001b[38;5;28;43;01mNone\u001b[39;49;00m\n\u001b[0;32m      6\u001b[0m \u001b[43m)\u001b[49m\n",
      "File \u001b[1;32m~\\anaconda3\\envs\\python310clone\\lib\\site-packages\\keras\\src\\utils\\traceback_utils.py:122\u001b[0m, in \u001b[0;36mfilter_traceback.<locals>.error_handler\u001b[1;34m(*args, **kwargs)\u001b[0m\n\u001b[0;32m    119\u001b[0m     filtered_tb \u001b[38;5;241m=\u001b[39m _process_traceback_frames(e\u001b[38;5;241m.\u001b[39m__traceback__)\n\u001b[0;32m    120\u001b[0m     \u001b[38;5;66;03m# To get the full stack trace, call:\u001b[39;00m\n\u001b[0;32m    121\u001b[0m     \u001b[38;5;66;03m# `keras.config.disable_traceback_filtering()`\u001b[39;00m\n\u001b[1;32m--> 122\u001b[0m     \u001b[38;5;28;01mraise\u001b[39;00m e\u001b[38;5;241m.\u001b[39mwith_traceback(filtered_tb) \u001b[38;5;28;01mfrom\u001b[39;00m \u001b[38;5;28;01mNone\u001b[39;00m\n\u001b[0;32m    123\u001b[0m \u001b[38;5;28;01mfinally\u001b[39;00m:\n\u001b[0;32m    124\u001b[0m     \u001b[38;5;28;01mdel\u001b[39;00m filtered_tb\n",
      "File \u001b[1;32m~\\anaconda3\\envs\\python310clone\\lib\\site-packages\\keras\\src\\trainers\\data_adapters\\__init__.py:120\u001b[0m, in \u001b[0;36mget_data_adapter\u001b[1;34m(x, y, sample_weight, batch_size, steps_per_epoch, shuffle, class_weight)\u001b[0m\n\u001b[0;32m    112\u001b[0m     \u001b[38;5;28;01mreturn\u001b[39;00m GeneratorDataAdapter(x)\n\u001b[0;32m    113\u001b[0m     \u001b[38;5;66;03m# TODO: should we warn or not?\u001b[39;00m\n\u001b[0;32m    114\u001b[0m     \u001b[38;5;66;03m# warnings.warn(\u001b[39;00m\n\u001b[0;32m    115\u001b[0m     \u001b[38;5;66;03m#     \"`shuffle=True` was passed, but will be ignored since the \"\u001b[39;00m\n\u001b[1;32m   (...)\u001b[0m\n\u001b[0;32m    118\u001b[0m     \u001b[38;5;66;03m# )\u001b[39;00m\n\u001b[0;32m    119\u001b[0m \u001b[38;5;28;01melse\u001b[39;00m:\n\u001b[1;32m--> 120\u001b[0m     \u001b[38;5;28;01mraise\u001b[39;00m \u001b[38;5;167;01mValueError\u001b[39;00m(\u001b[38;5;124mf\u001b[39m\u001b[38;5;124m\"\u001b[39m\u001b[38;5;124mUnrecognized data type: x=\u001b[39m\u001b[38;5;132;01m{\u001b[39;00mx\u001b[38;5;132;01m}\u001b[39;00m\u001b[38;5;124m (of type \u001b[39m\u001b[38;5;132;01m{\u001b[39;00m\u001b[38;5;28mtype\u001b[39m(x)\u001b[38;5;132;01m}\u001b[39;00m\u001b[38;5;124m)\u001b[39m\u001b[38;5;124m\"\u001b[39m)\n",
      "\u001b[1;31mValueError\u001b[0m: Unrecognized data type: x={'epoch_time': array([[1.5807744e+09],\n       [1.5808608e+09],\n       [1.5809472e+09],\n       [1.5810336e+09],\n       [1.5812928e+09],\n       [1.5813792e+09],\n       [1.5814656e+09],\n       [1.5815520e+09],\n       [1.5816384e+09],\n       [1.5818976e+09],\n       [1.5819840e+09],\n       [1.5820704e+09],\n       [1.5821568e+09],\n       [1.5825024e+09],\n       [1.5825888e+09],\n       [1.5826752e+09],\n       [1.5827616e+09],\n       [1.5828480e+09],\n       [1.5831072e+09],\n       [1.5831936e+09],\n       [1.5832800e+09],\n       [1.5833664e+09],\n       [1.5834528e+09],\n       [1.5837120e+09],\n       [1.5838848e+09],\n       [1.5839712e+09],\n       [1.5840576e+09],\n       [1.5843168e+09],\n       [1.5844032e+09],\n       [1.5844896e+09],\n       [1.5845760e+09],\n       [1.5846624e+09],\n       [1.5849216e+09],\n       [1.5850080e+09],\n       [1.5850944e+09],\n       [1.5851808e+09],\n       [1.5852672e+09],\n       [1.5855264e+09],\n       [1.5856128e+09],\n       [1.5856992e+09],\n       [1.5858720e+09],\n       [1.5862176e+09],\n       [1.5863040e+09],\n       [1.5863904e+09],\n       [1.5867360e+09],\n       [1.5869088e+09],\n       [1.5869952e+09],\n       [1.5870816e+09],\n       [1.5873408e+09],\n       [1.5874272e+09],\n       [1.5875136e+09],\n       [1.5876000e+09],\n       [1.5876864e+09],\n       [1.5879456e+09],\n       [1.5880320e+09],\n       [1.5881184e+09],\n       [1.5882048e+09],\n       [1.5885504e+09],\n       [1.5886368e+09],\n       [1.5887232e+09],\n       [1.5888096e+09],\n       [1.5888960e+09],\n       [1.5891552e+09],\n       [1.5892416e+09],\n       [1.5893280e+09],\n       [1.5894144e+09],\n       [1.5895008e+09],\n       [1.5897600e+09],\n       [1.5898464e+09],\n       [1.5899328e+09],\n       [1.5900192e+09],\n       [1.5901056e+09],\n       [1.5904512e+09],\n       [1.5905376e+09],\n       [1.5906240e+09],\n       [1.5907104e+09],\n       [1.5909696e+09],\n       [1.5910560e+09],\n       [1.5911424e+09],\n       [1.5912288e+09],\n       [1.5913152e+09],\n       [1.5915744e+09],\n       [1.5916608e+09],\n       [1.5917472e+09],\n       [1.5918336e+09],\n       [1.5919200e+09],\n       [1.5921792e+09],\n       [1.5922656e+09],\n       [1.5923520e+09],\n       [1.5924384e+09],\n       [1.5925248e+09],\n       [1.5927840e+09],\n       [1.5928704e+09],\n       [1.5929568e+09],\n       [1.5930432e+09],\n       [1.5931296e+09],\n       [1.5933888e+09],\n       [1.5934752e+09],\n       [1.5935616e+09],\n       [1.5936480e+09],\n       [1.5937344e+09],\n       [1.5939936e+09],\n       [1.5940800e+09],\n       [1.5941664e+09],\n       [1.5942528e+09],\n       [1.5943392e+09],\n       [1.5945984e+09],\n       [1.5946848e+09],\n       [1.5947712e+09],\n       [1.5948576e+09],\n       [1.5949440e+09],\n       [1.5952032e+09],\n       [1.5952896e+09],\n       [1.5953760e+09],\n       [1.5954624e+09],\n       [1.5955488e+09],\n       [1.5958080e+09],\n       [1.5958944e+09],\n       [1.5959808e+09],\n       [1.5960672e+09],\n       [1.5961536e+09],\n       [1.5964128e+09],\n       [1.5964992e+09],\n       [1.5965856e+09],\n       [1.5966720e+09],\n       [1.5967584e+09],\n       [1.5970176e+09],\n       [1.5971040e+09],\n       [1.5971904e+09],\n       [1.5972768e+09],\n       [1.5973632e+09],\n       [1.5976224e+09],\n       [1.5977088e+09],\n       [1.5977952e+09],\n       [1.5978816e+09],\n       [1.5979680e+09],\n       [1.5982272e+09],\n       [1.5983136e+09],\n       [1.5984000e+09],\n       [1.5984864e+09],\n       [1.5985728e+09],\n       [1.5988320e+09],\n       [1.5989184e+09],\n       [1.5990048e+09],\n       [1.5990912e+09],\n       [1.5991776e+09],\n       [1.5994368e+09],\n       [1.5995232e+09],\n       [1.5996096e+09],\n       [1.5996960e+09],\n       [1.5997824e+09],\n       [1.6000416e+09],\n       [1.6001280e+09],\n       [1.6002144e+09],\n       [1.6003008e+09],\n       [1.6003872e+09],\n       [1.6006464e+09],\n       [1.6007328e+09],\n       [1.6008192e+09],\n       [1.6009056e+09],\n       [1.6009920e+09],\n       [1.6012512e+09],\n       [1.6013376e+09],\n       [1.6014240e+09],\n       [1.6015104e+09],\n       [1.6018560e+09],\n       [1.6019424e+09],\n       [1.6020288e+09],\n       [1.6021152e+09],\n       [1.6022016e+09],\n       [1.6024608e+09],\n       [1.6025472e+09],\n       [1.6026336e+09],\n       [1.6027200e+09],\n       [1.6028064e+09],\n       [1.6030656e+09],\n       [1.6031520e+09],\n       [1.6032384e+09],\n       [1.6033248e+09],\n       [1.6034112e+09],\n       [1.6036704e+09],\n       [1.6037568e+09],\n       [1.6038432e+09],\n       [1.6039296e+09],\n       [1.6040160e+09],\n       [1.6042752e+09],\n       [1.6043616e+09],\n       [1.6044480e+09],\n       [1.6045344e+09],\n       [1.6046208e+09],\n       [1.6048800e+09],\n       [1.6049664e+09],\n       [1.6050528e+09],\n       [1.6051392e+09],\n       [1.6052256e+09],\n       [1.6053120e+09],\n       [1.6055712e+09],\n       [1.6056576e+09],\n       [1.6057440e+09],\n       [1.6058304e+09],\n       [1.6060896e+09],\n       [1.6061760e+09],\n       [1.6062624e+09],\n       [1.6063488e+09],\n       [1.6064352e+09],\n       [1.6067808e+09],\n       [1.6068672e+09],\n       [1.6069536e+09],\n       [1.6070400e+09],\n       [1.6072992e+09],\n       [1.6073856e+09],\n       [1.6074720e+09],\n       [1.6075584e+09],\n       [1.6076448e+09],\n       [1.6079040e+09],\n       [1.6079904e+09],\n       [1.6080768e+09],\n       [1.6081632e+09],\n       [1.6082496e+09],\n       [1.6085088e+09],\n       [1.6085952e+09],\n       [1.6086816e+09],\n       [1.6087680e+09],\n       [1.6091136e+09],\n       [1.6092000e+09],\n       [1.6092864e+09],\n       [1.6093728e+09],\n       [1.6094592e+09],\n       [1.6097184e+09],\n       [1.6098048e+09],\n       [1.6098912e+09],\n       [1.6099776e+09],\n       [1.6100640e+09],\n       [1.6103232e+09],\n       [1.6104096e+09],\n       [1.6104960e+09],\n       [1.6105824e+09],\n       [1.6106688e+09],\n       [1.6109280e+09],\n       [1.6110144e+09],\n       [1.6111008e+09],\n       [1.6111872e+09],\n       [1.6112736e+09],\n       [1.6115328e+09],\n       [1.6117056e+09],\n       [1.6117920e+09],\n       [1.6118784e+09],\n       [1.6121376e+09],\n       [1.6122240e+09],\n       [1.6123104e+09],\n       [1.6123968e+09],\n       [1.6124832e+09],\n       [1.6127424e+09],\n       [1.6128288e+09],\n       [1.6129152e+09],\n       [1.6130016e+09],\n       [1.6130880e+09],\n       [1.6133472e+09],\n       [1.6134336e+09],\n       [1.6135200e+09],\n       [1.6136064e+09],\n       [1.6136928e+09],\n       [1.6139520e+09],\n       [1.6140384e+09],\n       [1.6141248e+09],\n       [1.6142112e+09],\n       [1.6142976e+09],\n       [1.6145568e+09],\n       [1.6146432e+09],\n       [1.6147296e+09],\n       [1.6148160e+09],\n       [1.6149024e+09],\n       [1.6151616e+09],\n       [1.6152480e+09],\n       [1.6153344e+09],\n       [1.6155072e+09],\n       [1.6157664e+09],\n       [1.6158528e+09],\n       [1.6159392e+09],\n       [1.6160256e+09],\n       [1.6161120e+09],\n       [1.6163712e+09],\n       [1.6164576e+09],\n       [1.6165440e+09],\n       [1.6166304e+09],\n       [1.6167168e+09],\n       [1.6170624e+09],\n       [1.6171488e+09],\n       [1.6172352e+09],\n       [1.6175808e+09],\n       [1.6176672e+09],\n       [1.6177536e+09],\n       [1.6178400e+09],\n       [1.6179264e+09],\n       [1.6181856e+09],\n       [1.6182720e+09],\n       [1.6184448e+09],\n       [1.6185312e+09],\n       [1.6187904e+09],\n       [1.6188768e+09],\n       [1.6190496e+09],\n       [1.6191360e+09],\n       [1.6193952e+09],\n       [1.6194816e+09],\n       [1.6195680e+09],\n       [1.6196544e+09],\n       [1.6197408e+09],\n       [1.6200000e+09],\n       [1.6200864e+09],\n       [1.6201728e+09],\n       [1.6202592e+09],\n       [1.6203456e+09],\n       [1.6206048e+09],\n       [1.6206912e+09],\n       [1.6207776e+09],\n       [1.6209504e+09],\n       [1.6212096e+09],\n       [1.6212960e+09],\n       [1.6213824e+09],\n       [1.6214688e+09],\n       [1.6215552e+09],\n       [1.6218144e+09],\n       [1.6219008e+09],\n       [1.6219872e+09],\n       [1.6220736e+09],\n       [1.6221600e+09],\n       [1.6224192e+09],\n       [1.6225056e+09],\n       [1.6225920e+09],\n       [1.6226784e+09],\n       [1.6227648e+09],\n       [1.6230240e+09],\n       [1.6231104e+09],\n       [1.6231968e+09],\n       [1.6232832e+09],\n       [1.6233696e+09],\n       [1.6236288e+09],\n       [1.6237152e+09],\n       [1.6238016e+09],\n       [1.6238880e+09],\n       [1.6239744e+09],\n       [1.6242336e+09],\n       [1.6243200e+09],\n       [1.6244064e+09],\n       [1.6244928e+09],\n       [1.6245792e+09],\n       [1.6248384e+09],\n       [1.6249248e+09],\n       [1.6250112e+09],\n       [1.6250976e+09],\n       [1.6251840e+09],\n       [1.6254432e+09],\n       [1.6255296e+09],\n       [1.6256160e+09],\n       [1.6257024e+09],\n       [1.6257888e+09],\n       [1.6260480e+09],\n       [1.6261344e+09],\n       [1.6262208e+09],\n       [1.6263072e+09],\n       [1.6263936e+09],\n       [1.6266528e+09],\n       [1.6267392e+09],\n       [1.6269120e+09],\n       [1.6269984e+09],\n       [1.6272576e+09],\n       [1.6273440e+09],\n       [1.6274304e+09],\n       [1.6275168e+09],\n       [1.6276032e+09],\n       [1.6278624e+09],\n       [1.6279488e+09],\n       [1.6280352e+09],\n       [1.6281216e+09],\n       [1.6282080e+09],\n       [1.6284672e+09],\n       [1.6285536e+09],\n       [1.6286400e+09],\n       [1.6287264e+09],\n       [1.6288128e+09],\n       [1.6290720e+09],\n       [1.6291584e+09],\n       [1.6292448e+09],\n       [1.6294176e+09],\n       [1.6296768e+09],\n       [1.6297632e+09],\n       [1.6298496e+09],\n       [1.6299360e+09],\n       [1.6300224e+09],\n       [1.6302816e+09],\n       [1.6303680e+09],\n       [1.6304544e+09],\n       [1.6305408e+09],\n       [1.6306272e+09],\n       [1.6308864e+09],\n       [1.6309728e+09],\n       [1.6310592e+09],\n       [1.6311456e+09],\n       [1.6314912e+09],\n       [1.6315776e+09],\n       [1.6316640e+09],\n       [1.6317504e+09],\n       [1.6318368e+09],\n       [1.6320960e+09],\n       [1.6321824e+09],\n       [1.6322688e+09],\n       [1.6323552e+09],\n       [1.6324416e+09],\n       [1.6327008e+09],\n       [1.6327872e+09],\n       [1.6328736e+09],\n       [1.6329600e+09],\n       [1.6330464e+09],\n       [1.6333056e+09],\n       [1.6333920e+09],\n       [1.6334784e+09],\n       [1.6335648e+09],\n       [1.6336512e+09],\n       [1.6339104e+09],\n       [1.6339968e+09],\n       [1.6340832e+09],\n       [1.6341696e+09],\n       [1.6345152e+09],\n       [1.6346016e+09],\n       [1.6346880e+09],\n       [1.6347744e+09],\n       [1.6348608e+09],\n       [1.6351200e+09],\n       [1.6352064e+09],\n       [1.6352928e+09],\n       [1.6353792e+09],\n       [1.6354656e+09],\n       [1.6357248e+09],\n       [1.6358112e+09],\n       [1.6358976e+09],\n       [1.6359840e+09],\n       [1.6363296e+09],\n       [1.6364160e+09],\n       [1.6365024e+09],\n       [1.6365888e+09],\n       [1.6366752e+09],\n       [1.6369344e+09],\n       [1.6370208e+09],\n       [1.6371072e+09],\n       [1.6371936e+09],\n       [1.6375392e+09],\n       [1.6376256e+09],\n       [1.6377120e+09],\n       [1.6377984e+09],\n       [1.6378848e+09],\n       [1.6381440e+09],\n       [1.6382304e+09],\n       [1.6383168e+09],\n       [1.6384032e+09],\n       [1.6384896e+09],\n       [1.6387488e+09],\n       [1.6388352e+09],\n       [1.6389216e+09],\n       [1.6390080e+09],\n       [1.6390944e+09],\n       [1.6393536e+09],\n       [1.6394400e+09],\n       [1.6395264e+09],\n       [1.6396128e+09],\n       [1.6396992e+09],\n       [1.6399584e+09],\n       [1.6400448e+09],\n       [1.6401312e+09],\n       [1.6402176e+09],\n       [1.6403040e+09],\n       [1.6405632e+09],\n       [1.6406496e+09],\n       [1.6407360e+09],\n       [1.6408224e+09],\n       [1.6409088e+09],\n       [1.6411680e+09],\n       [1.6412544e+09],\n       [1.6413408e+09],\n       [1.6414272e+09],\n       [1.6415136e+09],\n       [1.6417728e+09],\n       [1.6418592e+09],\n       [1.6419456e+09],\n       [1.6420320e+09],\n       [1.6421184e+09],\n       [1.6423776e+09],\n       [1.6424640e+09],\n       [1.6425504e+09],\n       [1.6426368e+09],\n       [1.6427232e+09],\n       [1.6429824e+09],\n       [1.6430688e+09],\n       [1.6432416e+09],\n       [1.6433280e+09],\n       [1.6435872e+09],\n       [1.6436736e+09],\n       [1.6437600e+09],\n       [1.6438464e+09],\n       [1.6439328e+09],\n       [1.6441920e+09],\n       [1.6442784e+09],\n       [1.6443648e+09],\n       [1.6444512e+09],\n       [1.6445376e+09],\n       [1.6447968e+09],\n       [1.6448832e+09],\n       [1.6449696e+09],\n       [1.6450560e+09],\n       [1.6451424e+09],\n       [1.6454016e+09],\n       [1.6454880e+09],\n       [1.6455744e+09],\n       [1.6456608e+09],\n       [1.6457472e+09],\n       [1.6460064e+09],\n       [1.6461792e+09],\n       [1.6462656e+09],\n       [1.6463520e+09],\n       [1.6466112e+09],\n       [1.6466976e+09],\n       [1.6467840e+09],\n       [1.6468704e+09],\n       [1.6469568e+09],\n       [1.6472160e+09],\n       [1.6473024e+09],\n       [1.6473888e+09],\n       [1.6474752e+09],\n       [1.6478208e+09],\n       [1.6479072e+09],\n       [1.6479936e+09],\n       [1.6480800e+09],\n       [1.6481664e+09],\n       [1.6484256e+09],\n       [1.6485120e+09],\n       [1.6485984e+09],\n       [1.6486848e+09],\n       [1.6487712e+09],\n       [1.6490304e+09],\n       [1.6491168e+09],\n       [1.6492032e+09],\n       [1.6492896e+09],\n       [1.6493760e+09],\n       [1.6496352e+09],\n       [1.6497216e+09],\n       [1.6498080e+09],\n       [1.6502400e+09],\n       [1.6503264e+09],\n       [1.6504128e+09],\n       [1.6504992e+09],\n       [1.6505856e+09],\n       [1.6508448e+09],\n       [1.6509312e+09],\n       [1.6510176e+09],\n       [1.6511040e+09],\n       [1.6511904e+09],\n       [1.6514496e+09],\n       [1.6516224e+09],\n       [1.6517088e+09],\n       [1.6517952e+09],\n       [1.6520544e+09],\n       [1.6521408e+09],\n       [1.6522272e+09],\n       [1.6523136e+09],\n       [1.6524000e+09],\n       [1.6526592e+09],\n       [1.6527456e+09],\n       [1.6528320e+09],\n       [1.6529184e+09],\n       [1.6530048e+09],\n       [1.6532640e+09],\n       [1.6533504e+09],\n       [1.6534368e+09],\n       [1.6535232e+09],\n       [1.6536096e+09],\n       [1.6538688e+09],\n       [1.6539552e+09],\n       [1.6540416e+09],\n       [1.6541280e+09],\n       [1.6542144e+09],\n       [1.6544736e+09],\n       [1.6545600e+09],\n       [1.6546464e+09],\n       [1.6547328e+09],\n       [1.6548192e+09],\n       [1.6550784e+09],\n       [1.6551648e+09],\n       [1.6552512e+09],\n       [1.6553376e+09],\n       [1.6554240e+09],\n       [1.6556832e+09],\n       [1.6557696e+09],\n       [1.6558560e+09],\n       [1.6559424e+09],\n       [1.6560288e+09],\n       [1.6562880e+09],\n       [1.6563744e+09],\n       [1.6564608e+09],\n       [1.6565472e+09],\n       [1.6566336e+09],\n       [1.6568928e+09],\n       [1.6569792e+09],\n       [1.6570656e+09],\n       [1.6571520e+09],\n       [1.6572384e+09],\n       [1.6574976e+09],\n       [1.6575840e+09],\n       [1.6576704e+09],\n       [1.6577568e+09],\n       [1.6578432e+09],\n       [1.6581024e+09],\n       [1.6581888e+09],\n       [1.6582752e+09],\n       [1.6583616e+09],\n       [1.6584480e+09],\n       [1.6587072e+09],\n       [1.6587936e+09],\n       [1.6588800e+09],\n       [1.6589664e+09],\n       [1.6590528e+09],\n       [1.6593120e+09],\n       [1.6593984e+09],\n       [1.6594848e+09],\n       [1.6595712e+09],\n       [1.6596576e+09],\n       [1.6599168e+09],\n       [1.6600896e+09],\n       [1.6601760e+09],\n       [1.6602624e+09],\n       [1.6606080e+09],\n       [1.6606944e+09],\n       [1.6607808e+09],\n       [1.6608672e+09],\n       [1.6611264e+09],\n       [1.6612128e+09],\n       [1.6612992e+09],\n       [1.6613856e+09],\n       [1.6614720e+09],\n       [1.6617312e+09],\n       [1.6618176e+09],\n       [1.6619904e+09],\n       [1.6620768e+09],\n       [1.6623360e+09],\n       [1.6624224e+09],\n       [1.6625088e+09],\n       [1.6625952e+09],\n       [1.6626816e+09],\n       [1.6629408e+09],\n       [1.6630272e+09],\n       [1.6631136e+09],\n       [1.6632000e+09],\n       [1.6632864e+09],\n       [1.6635456e+09],\n       [1.6636320e+09],\n       [1.6637184e+09],\n       [1.6638048e+09],\n       [1.6638912e+09],\n       [1.6641504e+09],\n       [1.6642368e+09],\n       [1.6643232e+09],\n       [1.6644096e+09],\n       [1.6644960e+09],\n       [1.6647552e+09],\n       [1.6648416e+09],\n       [1.6650144e+09],\n       [1.6651008e+09],\n       [1.6653600e+09],\n       [1.6654464e+09],\n       [1.6655328e+09],\n       [1.6656192e+09],\n       [1.6657056e+09],\n       [1.6659648e+09],\n       [1.6660512e+09],\n       [1.6661376e+09],\n       [1.6662240e+09],\n       [1.6663104e+09],\n       [1.6665696e+09],\n       [1.6666560e+09],\n       [1.6668288e+09],\n       [1.6669152e+09],\n       [1.6671744e+09],\n       [1.6672608e+09],\n       [1.6673472e+09],\n       [1.6674336e+09],\n       [1.6675200e+09],\n       [1.6677792e+09],\n       [1.6679520e+09],\n       [1.6680384e+09],\n       [1.6681248e+09],\n       [1.6683840e+09],\n       [1.6684704e+09],\n       [1.6685568e+09],\n       [1.6686432e+09],\n       [1.6687296e+09],\n       [1.6689888e+09],\n       [1.6690752e+09],\n       [1.6691616e+09],\n       [1.6692480e+09],\n       [1.6693344e+09],\n       [1.6695936e+09],\n       [1.6696800e+09],\n       [1.6697664e+09],\n       [1.6698528e+09],\n       [1.6699392e+09],\n       [1.6701984e+09],\n       [1.6702848e+09],\n       [1.6703712e+09],\n       [1.6704576e+09],\n       [1.6705440e+09],\n       [1.6708032e+09],\n       [1.6708896e+09],\n       [1.6709760e+09],\n       [1.6710624e+09],\n       [1.6711488e+09],\n       [1.6714080e+09],\n       [1.6714944e+09],\n       [1.6715808e+09],\n       [1.6716672e+09],\n       [1.6717536e+09],\n       [1.6720128e+09],\n       [1.6720992e+09],\n       [1.6721856e+09],\n       [1.6722720e+09],\n       [1.6723584e+09],\n       [1.6726176e+09],\n       [1.6727040e+09],\n       [1.6727904e+09],\n       [1.6728768e+09],\n       [1.6729632e+09],\n       [1.6732224e+09],\n       [1.6733088e+09],\n       [1.6733952e+09],\n       [1.6734816e+09],\n       [1.6735680e+09],\n       [1.6738272e+09],\n       [1.6739136e+09],\n       [1.6740000e+09],\n       [1.6740864e+09],\n       [1.6741728e+09],\n       [1.6744320e+09],\n       [1.6745184e+09],\n       [1.6746048e+09],\n       [1.6747776e+09],\n       [1.6750368e+09],\n       [1.6751232e+09],\n       [1.6752096e+09],\n       [1.6752960e+09],\n       [1.6753824e+09],\n       [1.6756416e+09],\n       [1.6757280e+09],\n       [1.6758144e+09],\n       [1.6759008e+09],\n       [1.6759872e+09],\n       [1.6762464e+09],\n       [1.6763328e+09],\n       [1.6764192e+09],\n       [1.6765056e+09],\n       [1.6765920e+09],\n       [1.6768512e+09],\n       [1.6769376e+09],\n       [1.6770240e+09],\n       [1.6771104e+09],\n       [1.6771968e+09],\n       [1.6774560e+09],\n       [1.6775424e+09],\n       [1.6776288e+09],\n       [1.6777152e+09],\n       [1.6778016e+09],\n       [1.6780608e+09],\n       [1.6782336e+09],\n       [1.6783200e+09],\n       [1.6784064e+09],\n       [1.6786656e+09],\n       [1.6787520e+09],\n       [1.6788384e+09],\n       [1.6789248e+09],\n       [1.6790112e+09],\n       [1.6792704e+09],\n       [1.6793568e+09],\n       [1.6794432e+09],\n       [1.6795296e+09],\n       [1.6796160e+09],\n       [1.6798752e+09],\n       [1.6799616e+09],\n       [1.6800480e+09],\n       [1.6802208e+09],\n       [1.6804800e+09],\n       [1.6806528e+09],\n       [1.6807392e+09],\n       [1.6810848e+09],\n       [1.6811712e+09],\n       [1.6812576e+09],\n       [1.6813440e+09],\n       [1.6816896e+09],\n       [1.6817760e+09],\n       [1.6818624e+09],\n       [1.6819488e+09],\n       [1.6820352e+09],\n       [1.6822944e+09],\n       [1.6823808e+09],\n       [1.6824672e+09],\n       [1.6825536e+09],\n       [1.6826400e+09],\n       [1.6829856e+09],\n       [1.6830720e+09],\n       [1.6831584e+09],\n       [1.6832448e+09],\n       [1.6835040e+09],\n       [1.6835904e+09],\n       [1.6836768e+09],\n       [1.6837632e+09],\n       [1.6838496e+09],\n       [1.6841088e+09],\n       [1.6841952e+09],\n       [1.6842816e+09],\n       [1.6843680e+09],\n       [1.6844544e+09],\n       [1.6847136e+09],\n       [1.6848000e+09],\n       [1.6848864e+09],\n       [1.6849728e+09],\n       [1.6850592e+09],\n       [1.6853184e+09],\n       [1.6854048e+09],\n       [1.6854912e+09],\n       [1.6855776e+09],\n       [1.6856640e+09],\n       [1.6859232e+09],\n       [1.6860096e+09],\n       [1.6860960e+09],\n       [1.6861824e+09],\n       [1.6862688e+09],\n       [1.6865280e+09],\n       [1.6866144e+09],\n       [1.6867008e+09],\n       [1.6867872e+09],\n       [1.6868736e+09],\n       [1.6871328e+09],\n       [1.6872192e+09],\n       [1.6873056e+09],\n       [1.6873920e+09],\n       [1.6874784e+09],\n       [1.6877376e+09],\n       [1.6878240e+09],\n       [1.6879104e+09],\n       [1.6880832e+09],\n       [1.6883424e+09],\n       [1.6884288e+09],\n       [1.6885152e+09],\n       [1.6886016e+09],\n       [1.6886880e+09],\n       [1.6889472e+09],\n       [1.6890336e+09],\n       [1.6891200e+09],\n       [1.6892064e+09],\n       [1.6892928e+09],\n       [1.6895520e+09],\n       [1.6896384e+09],\n       [1.6897248e+09],\n       [1.6898112e+09],\n       [1.6898976e+09],\n       [1.6901568e+09],\n       [1.6902432e+09],\n       [1.6903296e+09],\n       [1.6904160e+09],\n       [1.6905024e+09],\n       [1.6907616e+09],\n       [1.6908480e+09],\n       [1.6909344e+09],\n       [1.6910208e+09],\n       [1.6911072e+09],\n       [1.6913664e+09],\n       [1.6914528e+09],\n       [1.6915392e+09],\n       [1.6916256e+09],\n       [1.6917120e+09],\n       [1.6919712e+09],\n       [1.6921440e+09],\n       [1.6922304e+09],\n       [1.6923168e+09],\n       [1.6925760e+09],\n       [1.6926624e+09],\n       [1.6927488e+09],\n       [1.6928352e+09],\n       [1.6929216e+09],\n       [1.6931808e+09],\n       [1.6932672e+09],\n       [1.6933536e+09],\n       [1.6934400e+09],\n       [1.6935264e+09],\n       [1.6937856e+09],\n       [1.6938720e+09],\n       [1.6939584e+09],\n       [1.6940448e+09],\n       [1.6941312e+09],\n       [1.6943904e+09],\n       [1.6944768e+09],\n       [1.6945632e+09],\n       [1.6946496e+09],\n       [1.6947360e+09],\n       [1.6949952e+09],\n       [1.6951680e+09],\n       [1.6952544e+09],\n       [1.6953408e+09],\n       [1.6956000e+09],\n       [1.6956864e+09],\n       [1.6957728e+09],\n       [1.6958592e+09],\n       [1.6959456e+09],\n       [1.6962912e+09],\n       [1.6963776e+09],\n       [1.6964640e+09],\n       [1.6965504e+09],\n       [1.6968096e+09],\n       [1.6968960e+09],\n       [1.6969824e+09],\n       [1.6970688e+09],\n       [1.6971552e+09],\n       [1.6974144e+09],\n       [1.6975008e+09],\n       [1.6975872e+09],\n       [1.6976736e+09],\n       [1.6977600e+09],\n       [1.6980192e+09],\n       [1.6981920e+09],\n       [1.6982784e+09],\n       [1.6983648e+09],\n       [1.6986240e+09],\n       [1.6987104e+09],\n       [1.6987968e+09],\n       [1.6988832e+09],\n       [1.6989696e+09],\n       [1.6992288e+09],\n       [1.6993152e+09],\n       [1.6994016e+09],\n       [1.6994880e+09],\n       [1.6995744e+09],\n       [1.6998336e+09],\n       [1.7000064e+09],\n       [1.7000928e+09],\n       [1.7001792e+09],\n       [1.7004384e+09],\n       [1.7005248e+09],\n       [1.7006112e+09],\n       [1.7006976e+09],\n       [1.7007840e+09],\n       [1.7011296e+09],\n       [1.7012160e+09],\n       [1.7013024e+09],\n       [1.7013888e+09],\n       [1.7016480e+09],\n       [1.7017344e+09],\n       [1.7018208e+09],\n       [1.7019072e+09],\n       [1.7019936e+09],\n       [1.7022528e+09],\n       [1.7023392e+09],\n       [1.7024256e+09],\n       [1.7025120e+09],\n       [1.7025984e+09],\n       [1.7028576e+09],\n       [1.7029440e+09],\n       [1.7030304e+09],\n       [1.7031168e+09],\n       [1.7032032e+09],\n       [1.7035488e+09],\n       [1.7036352e+09],\n       [1.7037216e+09],\n       [1.7038080e+09]]), 'other_features': 10} (of type <class 'dict'>)"
     ]
    }
   ],
   "source": [
    "history = model.fit(\n",
    "    {'epoch_time': epoch_times, 'other_features': features}, \n",
    "    targets, \n",
    "    epochs=100, \n",
    "    batch_size=None\n",
    ")"
   ]
  },
  {
   "cell_type": "code",
   "execution_count": null,
   "id": "d8094b87-8332-4362-a5da-6bbec5ad4902",
   "metadata": {},
   "outputs": [],
   "source": []
  },
  {
   "cell_type": "code",
   "execution_count": null,
   "id": "bf9b9732-15d9-4c8f-9576-4077d806f1fb",
   "metadata": {},
   "outputs": [],
   "source": []
  },
  {
   "cell_type": "code",
   "execution_count": null,
   "id": "db0a6f57-1f22-445d-a445-a2385026e32b",
   "metadata": {},
   "outputs": [],
   "source": []
  },
  {
   "cell_type": "code",
   "execution_count": null,
   "id": "f0014231-76b1-46af-a95c-40fdf1b42bf4",
   "metadata": {},
   "outputs": [],
   "source": [
    "##############################"
   ]
  },
  {
   "cell_type": "code",
   "execution_count": null,
   "id": "6b3999a5-f07c-4d92-bc21-a1fa497ee140",
   "metadata": {},
   "outputs": [],
   "source": []
  },
  {
   "cell_type": "markdown",
   "id": "0bc0d6a4-fd2d-4afa-81f6-2f99265986f9",
   "metadata": {},
   "source": [
    "\n",
    "enhanced_time2vec = EnhancedTime2Vec(features , features)  # Features can be adjusted\n",
    "time2vec_output_train = enhanced_time2vec(torch.tensor(train_sequences,dtype=torch.float32))\n",
    "time2vec_output_val = enhanced_time2vec(torch.tensor(val_sequences,dtype=torch.float32))\n",
    "time2vec_output_test = enhanced_time2vec(torch.tensor(test_sequences,dtype=torch.float32))"
   ]
  },
  {
   "cell_type": "code",
   "execution_count": 153,
   "id": "dc9730aa-bde2-4e97-aa2e-4228d251bcbd",
   "metadata": {},
   "outputs": [
    {
     "name": "stdout",
     "output_type": "stream",
     "text": [
      "torch.Size([960, 8, 11])\n",
      "torch.Size([92, 8, 11])\n",
      "torch.Size([110, 8, 11])\n"
     ]
    }
   ],
   "source": [
    "print(time2vec_output_train.shape)\n",
    "print(time2vec_output_val.shape)\n",
    "print(time2vec_output_test.shape)"
   ]
  },
  {
   "cell_type": "code",
   "execution_count": null,
   "id": "4d0e06d1-00cd-4d0f-a763-6e4eba740ae9",
   "metadata": {},
   "outputs": [],
   "source": []
  },
  {
   "cell_type": "code",
   "execution_count": 154,
   "id": "0efc7883-a14e-4fdd-8165-1a289796d494",
   "metadata": {},
   "outputs": [],
   "source": [
    "class Time2Vec(layers.Layer):\n",
    "    def __init__(self, output_dim, **kwargs):\n",
    "        super(Time2Vec, self).__init__(**kwargs)\n",
    "        self.output_dim = output_dim\n",
    "\n",
    "    def build(self, input_shape):\n",
    "        self.weights_linear = self.add_weight(\n",
    "            name=\"weights_linear\",\n",
    "            shape=(input_shape[-1], 1),\n",
    "            initializer=\"uniform\",\n",
    "            trainable=True,\n",
    "        )\n",
    "        self.bias_linear = self.add_weight(\n",
    "            name=\"bias_linear\",\n",
    "            shape=(1,),\n",
    "            initializer=\"uniform\",\n",
    "            trainable=True,\n",
    "        )\n",
    "        self.weights_periodic = self.add_weight(\n",
    "            name=\"weights_periodic\",\n",
    "            shape=(input_shape[-1], self.output_dim - 1),\n",
    "            initializer=\"uniform\",\n",
    "            trainable=True,\n",
    "        )\n",
    "        self.bias_periodic = self.add_weight(\n",
    "            name=\"bias_periodic\",\n",
    "            shape=(self.output_dim - 1,),\n",
    "            initializer=\"uniform\",\n",
    "            trainable=True,\n",
    "        )\n",
    "\n",
    "    def call(self, inputs):\n",
    "        linear_part = tf.matmul(inputs, self.weights_linear) + self.bias_linear\n",
    "        periodic_part = tf.sin(\n",
    "            tf.matmul(inputs, self.weights_periodic) + self.bias_periodic\n",
    "        )\n",
    "        return tf.concat([linear_part, periodic_part], axis=-1)"
   ]
  },
  {
   "cell_type": "code",
   "execution_count": 307,
   "id": "52975f3b-2cf4-457c-9776-7ebe1cfe1911",
   "metadata": {},
   "outputs": [],
   "source": [
    "class TransformerEncoder(Layer):\n",
    "    def __init__(self, num_heads, key_dim, ff_dim, dropout=0.1):\n",
    "        super(TransformerEncoder, self).__init__()\n",
    "        self.att = MultiHeadAttention(num_heads=num_heads, key_dim=key_dim)\n",
    "        self.ffn = tf.keras.Sequential([\n",
    "            Dense(ff_dim, activation='relu'),\n",
    "            Dense(key_dim)\n",
    "        ])\n",
    "        self.layernorm1 = LayerNormalization(epsilon=1e-6)\n",
    "        self.layernorm2 = LayerNormalization(epsilon=1e-6)\n",
    "        self.dropout1 = Dropout(dropout)\n",
    "        self.dropout2 = Dropout(dropout)\n",
    "\n",
    "    def call(self, inputs, training=False):\n",
    "        print(f\"Input shape before attention: {inputs.shape}\")\n",
    "        attn_output = self.att(query=inputs, value=inputs, key=inputs)\n",
    "        attn_output = self.dropout1(attn_output, training=training)\n",
    "        print(f\"Attention output shape: {attn_output.shape}\")\n",
    "        out1 = self.layernorm1(inputs + attn_output)  # Add & Normalize\n",
    "\n",
    "        ffn_output = self.ffn(out1)\n",
    "        ffn_output = self.dropout2(ffn_output, training=training)\n",
    "        out2 = self.layernorm2(out1 + ffn_output)  # Add & Normalize\n",
    "        return out2"
   ]
  },
  {
   "cell_type": "code",
   "execution_count": 308,
   "id": "232b128e-62a6-419d-8735-7fb35ab6c67e",
   "metadata": {},
   "outputs": [],
   "source": [
    "def create_transformer_model(input_shape, time2vec_dim, transformer_layers, dense_units, dropout_rate):\n",
    "    # Input Layer\n",
    "    input_layer = Input(shape=input_shape)\n",
    "\n",
    "    # Time2Vec Layer\n",
    "    time2vec_layer = Time2Vec(output_dim=time2vec_dim)(input_layer)\n",
    "\n",
    "    # Concatenate original input with Time2Vec output\n",
    "    concatenated = Concatenate()([input_layer, time2vec_layer])\n",
    "\n",
    "    # Transformer Encoder Layers\n",
    "    transformer_output = concatenated\n",
    "    for _ in range(transformer_layers):\n",
    "        transformer_layer = TransformerEncoder(\n",
    "           num_heads=num_heads, key_dim=key_dim, ff_dim=ff_dim, dropout=dropout_rate\n",
    "        )\n",
    "        transformer_output = transformer_layer(transformer_output)\n",
    "\n",
    "    # Global Average Pooling\n",
    "    pooled_output = GlobalAveragePooling1D()(transformer_output)\n",
    "\n",
    "    # Dense Layers with Dropout\n",
    "    dense_1 = Dense(dense_units, activation=\"relu\")(pooled_output)\n",
    "    dropout_1 = Dropout(dropout_rate)(dense_1)\n",
    "    dense_2 = Dense(dense_units, activation=\"relu\")(dropout_1)\n",
    "    dropout_2 = Dropout(dropout_rate)(dense_2)\n",
    "\n",
    "    # Output Layer\n",
    "    output_layer = Dense(1, activation=\"linear\")(dropout_2)\n",
    "\n",
    "    # Model\n",
    "    model = Model(inputs=input_layer, outputs=output_layer)\n",
    "    return model"
   ]
  },
  {
   "cell_type": "code",
   "execution_count": 157,
   "id": "b5ced8be-d70f-4b71-b7c2-87225dc32a00",
   "metadata": {},
   "outputs": [],
   "source": [
    "input_shape = (8, 12)  # Update this based on your dataset\n",
    "transformer_layers = 3\n",
    "time2vec_dim = 10\n",
    "dense_units = 64\n",
    "dropout_rate = 0.2\n",
    "num_heads = 4\n",
    "key_dim = 22\n",
    "ff_dim = 128"
   ]
  },
  {
   "cell_type": "code",
   "execution_count": 158,
   "id": "23e3bac1-22a4-4926-9668-f5b13498f3eb",
   "metadata": {},
   "outputs": [
    {
     "name": "stdout",
     "output_type": "stream",
     "text": [
      "Input shape before attention: (None, 8, 22)\n",
      "Attention output shape: (None, 8, 22)\n",
      "Input shape before attention: (None, 8, 22)\n",
      "Attention output shape: (None, 8, 22)\n",
      "Input shape before attention: (None, 8, 22)\n",
      "Attention output shape: (None, 8, 22)\n",
      "Input shape before attention: (None, 8, 22)\n",
      "Attention output shape: (None, 8, 22)\n",
      "Input shape before attention: (None, 8, 22)\n",
      "Attention output shape: (None, 8, 22)\n",
      "Input shape before attention: (None, 8, 22)\n",
      "Attention output shape: (None, 8, 22)\n"
     ]
    }
   ],
   "source": [
    "model = create_transformer_model(input_shape, time2vec_dim, transformer_layers, dense_units, dropout_rate)"
   ]
  },
  {
   "cell_type": "code",
   "execution_count": 159,
   "id": "27f21f91-645a-4c2a-a33a-8f0e33130568",
   "metadata": {},
   "outputs": [
    {
     "data": {
      "text/html": [
       "<pre style=\"white-space:pre;overflow-x:auto;line-height:normal;font-family:Menlo,'DejaVu Sans Mono',consolas,'Courier New',monospace\"><span style=\"font-weight: bold\">Model: \"functional_8\"</span>\n",
       "</pre>\n"
      ],
      "text/plain": [
       "\u001b[1mModel: \"functional_8\"\u001b[0m\n"
      ]
     },
     "metadata": {},
     "output_type": "display_data"
    },
    {
     "data": {
      "text/html": [
       "<pre style=\"white-space:pre;overflow-x:auto;line-height:normal;font-family:Menlo,'DejaVu Sans Mono',consolas,'Courier New',monospace\">┏━━━━━━━━━━━━━━━━━━━━━┳━━━━━━━━━━━━━━━━━━━┳━━━━━━━━━━━━┳━━━━━━━━━━━━━━━━━━━┓\n",
       "┃<span style=\"font-weight: bold\"> Layer (type)        </span>┃<span style=\"font-weight: bold\"> Output Shape      </span>┃<span style=\"font-weight: bold\">    Param # </span>┃<span style=\"font-weight: bold\"> Connected to      </span>┃\n",
       "┡━━━━━━━━━━━━━━━━━━━━━╇━━━━━━━━━━━━━━━━━━━╇━━━━━━━━━━━━╇━━━━━━━━━━━━━━━━━━━┩\n",
       "│ input_layer_20      │ (<span style=\"color: #00d7ff; text-decoration-color: #00d7ff\">None</span>, <span style=\"color: #00af00; text-decoration-color: #00af00\">8</span>, <span style=\"color: #00af00; text-decoration-color: #00af00\">12</span>)     │          <span style=\"color: #00af00; text-decoration-color: #00af00\">0</span> │ -                 │\n",
       "│ (<span style=\"color: #0087ff; text-decoration-color: #0087ff\">InputLayer</span>)        │                   │            │                   │\n",
       "├─────────────────────┼───────────────────┼────────────┼───────────────────┤\n",
       "│ time2_vec_16        │ (<span style=\"color: #00d7ff; text-decoration-color: #00d7ff\">None</span>, <span style=\"color: #00af00; text-decoration-color: #00af00\">8</span>, <span style=\"color: #00af00; text-decoration-color: #00af00\">10</span>)     │        <span style=\"color: #00af00; text-decoration-color: #00af00\">130</span> │ input_layer_20[<span style=\"color: #00af00; text-decoration-color: #00af00\">0</span>… │\n",
       "│ (<span style=\"color: #0087ff; text-decoration-color: #0087ff\">Time2Vec</span>)          │                   │            │                   │\n",
       "├─────────────────────┼───────────────────┼────────────┼───────────────────┤\n",
       "│ concatenate_16      │ (<span style=\"color: #00d7ff; text-decoration-color: #00d7ff\">None</span>, <span style=\"color: #00af00; text-decoration-color: #00af00\">8</span>, <span style=\"color: #00af00; text-decoration-color: #00af00\">22</span>)     │          <span style=\"color: #00af00; text-decoration-color: #00af00\">0</span> │ input_layer_20[<span style=\"color: #00af00; text-decoration-color: #00af00\">0</span>… │\n",
       "│ (<span style=\"color: #0087ff; text-decoration-color: #0087ff\">Concatenate</span>)       │                   │            │ time2_vec_16[<span style=\"color: #00af00; text-decoration-color: #00af00\">0</span>][<span style=\"color: #00af00; text-decoration-color: #00af00\">…</span> │\n",
       "├─────────────────────┼───────────────────┼────────────┼───────────────────┤\n",
       "│ transformer_encode… │ (<span style=\"color: #00d7ff; text-decoration-color: #00d7ff\">None</span>, <span style=\"color: #00af00; text-decoration-color: #00af00\">8</span>, <span style=\"color: #00af00; text-decoration-color: #00af00\">22</span>)     │     <span style=\"color: #00af00; text-decoration-color: #00af00\">13,900</span> │ concatenate_16[<span style=\"color: #00af00; text-decoration-color: #00af00\">0</span>… │\n",
       "│ (<span style=\"color: #0087ff; text-decoration-color: #0087ff\">TransformerEncode…</span> │                   │            │                   │\n",
       "├─────────────────────┼───────────────────┼────────────┼───────────────────┤\n",
       "│ transformer_encode… │ (<span style=\"color: #00d7ff; text-decoration-color: #00d7ff\">None</span>, <span style=\"color: #00af00; text-decoration-color: #00af00\">8</span>, <span style=\"color: #00af00; text-decoration-color: #00af00\">22</span>)     │     <span style=\"color: #00af00; text-decoration-color: #00af00\">13,900</span> │ transformer_enco… │\n",
       "│ (<span style=\"color: #0087ff; text-decoration-color: #0087ff\">TransformerEncode…</span> │                   │            │                   │\n",
       "├─────────────────────┼───────────────────┼────────────┼───────────────────┤\n",
       "│ transformer_encode… │ (<span style=\"color: #00d7ff; text-decoration-color: #00d7ff\">None</span>, <span style=\"color: #00af00; text-decoration-color: #00af00\">8</span>, <span style=\"color: #00af00; text-decoration-color: #00af00\">22</span>)     │     <span style=\"color: #00af00; text-decoration-color: #00af00\">13,900</span> │ transformer_enco… │\n",
       "│ (<span style=\"color: #0087ff; text-decoration-color: #0087ff\">TransformerEncode…</span> │                   │            │                   │\n",
       "├─────────────────────┼───────────────────┼────────────┼───────────────────┤\n",
       "│ global_average_poo… │ (<span style=\"color: #00d7ff; text-decoration-color: #00d7ff\">None</span>, <span style=\"color: #00af00; text-decoration-color: #00af00\">22</span>)        │          <span style=\"color: #00af00; text-decoration-color: #00af00\">0</span> │ transformer_enco… │\n",
       "│ (<span style=\"color: #0087ff; text-decoration-color: #0087ff\">GlobalAveragePool…</span> │                   │            │                   │\n",
       "├─────────────────────┼───────────────────┼────────────┼───────────────────┤\n",
       "│ dense_33 (<span style=\"color: #0087ff; text-decoration-color: #0087ff\">Dense</span>)    │ (<span style=\"color: #00d7ff; text-decoration-color: #00d7ff\">None</span>, <span style=\"color: #00af00; text-decoration-color: #00af00\">64</span>)        │      <span style=\"color: #00af00; text-decoration-color: #00af00\">1,472</span> │ global_average_p… │\n",
       "├─────────────────────┼───────────────────┼────────────┼───────────────────┤\n",
       "│ dropout_39          │ (<span style=\"color: #00d7ff; text-decoration-color: #00d7ff\">None</span>, <span style=\"color: #00af00; text-decoration-color: #00af00\">64</span>)        │          <span style=\"color: #00af00; text-decoration-color: #00af00\">0</span> │ dense_33[<span style=\"color: #00af00; text-decoration-color: #00af00\">0</span>][<span style=\"color: #00af00; text-decoration-color: #00af00\">0</span>]    │\n",
       "│ (<span style=\"color: #0087ff; text-decoration-color: #0087ff\">Dropout</span>)           │                   │            │                   │\n",
       "├─────────────────────┼───────────────────┼────────────┼───────────────────┤\n",
       "│ dense_34 (<span style=\"color: #0087ff; text-decoration-color: #0087ff\">Dense</span>)    │ (<span style=\"color: #00d7ff; text-decoration-color: #00d7ff\">None</span>, <span style=\"color: #00af00; text-decoration-color: #00af00\">64</span>)        │      <span style=\"color: #00af00; text-decoration-color: #00af00\">4,160</span> │ dropout_39[<span style=\"color: #00af00; text-decoration-color: #00af00\">0</span>][<span style=\"color: #00af00; text-decoration-color: #00af00\">0</span>]  │\n",
       "├─────────────────────┼───────────────────┼────────────┼───────────────────┤\n",
       "│ dropout_40          │ (<span style=\"color: #00d7ff; text-decoration-color: #00d7ff\">None</span>, <span style=\"color: #00af00; text-decoration-color: #00af00\">64</span>)        │          <span style=\"color: #00af00; text-decoration-color: #00af00\">0</span> │ dense_34[<span style=\"color: #00af00; text-decoration-color: #00af00\">0</span>][<span style=\"color: #00af00; text-decoration-color: #00af00\">0</span>]    │\n",
       "│ (<span style=\"color: #0087ff; text-decoration-color: #0087ff\">Dropout</span>)           │                   │            │                   │\n",
       "├─────────────────────┼───────────────────┼────────────┼───────────────────┤\n",
       "│ dense_35 (<span style=\"color: #0087ff; text-decoration-color: #0087ff\">Dense</span>)    │ (<span style=\"color: #00d7ff; text-decoration-color: #00d7ff\">None</span>, <span style=\"color: #00af00; text-decoration-color: #00af00\">1</span>)         │         <span style=\"color: #00af00; text-decoration-color: #00af00\">65</span> │ dropout_40[<span style=\"color: #00af00; text-decoration-color: #00af00\">0</span>][<span style=\"color: #00af00; text-decoration-color: #00af00\">0</span>]  │\n",
       "└─────────────────────┴───────────────────┴────────────┴───────────────────┘\n",
       "</pre>\n"
      ],
      "text/plain": [
       "┏━━━━━━━━━━━━━━━━━━━━━┳━━━━━━━━━━━━━━━━━━━┳━━━━━━━━━━━━┳━━━━━━━━━━━━━━━━━━━┓\n",
       "┃\u001b[1m \u001b[0m\u001b[1mLayer (type)       \u001b[0m\u001b[1m \u001b[0m┃\u001b[1m \u001b[0m\u001b[1mOutput Shape     \u001b[0m\u001b[1m \u001b[0m┃\u001b[1m \u001b[0m\u001b[1m   Param #\u001b[0m\u001b[1m \u001b[0m┃\u001b[1m \u001b[0m\u001b[1mConnected to     \u001b[0m\u001b[1m \u001b[0m┃\n",
       "┡━━━━━━━━━━━━━━━━━━━━━╇━━━━━━━━━━━━━━━━━━━╇━━━━━━━━━━━━╇━━━━━━━━━━━━━━━━━━━┩\n",
       "│ input_layer_20      │ (\u001b[38;5;45mNone\u001b[0m, \u001b[38;5;34m8\u001b[0m, \u001b[38;5;34m12\u001b[0m)     │          \u001b[38;5;34m0\u001b[0m │ -                 │\n",
       "│ (\u001b[38;5;33mInputLayer\u001b[0m)        │                   │            │                   │\n",
       "├─────────────────────┼───────────────────┼────────────┼───────────────────┤\n",
       "│ time2_vec_16        │ (\u001b[38;5;45mNone\u001b[0m, \u001b[38;5;34m8\u001b[0m, \u001b[38;5;34m10\u001b[0m)     │        \u001b[38;5;34m130\u001b[0m │ input_layer_20[\u001b[38;5;34m0\u001b[0m… │\n",
       "│ (\u001b[38;5;33mTime2Vec\u001b[0m)          │                   │            │                   │\n",
       "├─────────────────────┼───────────────────┼────────────┼───────────────────┤\n",
       "│ concatenate_16      │ (\u001b[38;5;45mNone\u001b[0m, \u001b[38;5;34m8\u001b[0m, \u001b[38;5;34m22\u001b[0m)     │          \u001b[38;5;34m0\u001b[0m │ input_layer_20[\u001b[38;5;34m0\u001b[0m… │\n",
       "│ (\u001b[38;5;33mConcatenate\u001b[0m)       │                   │            │ time2_vec_16[\u001b[38;5;34m0\u001b[0m][\u001b[38;5;34m…\u001b[0m │\n",
       "├─────────────────────┼───────────────────┼────────────┼───────────────────┤\n",
       "│ transformer_encode… │ (\u001b[38;5;45mNone\u001b[0m, \u001b[38;5;34m8\u001b[0m, \u001b[38;5;34m22\u001b[0m)     │     \u001b[38;5;34m13,900\u001b[0m │ concatenate_16[\u001b[38;5;34m0\u001b[0m… │\n",
       "│ (\u001b[38;5;33mTransformerEncode…\u001b[0m │                   │            │                   │\n",
       "├─────────────────────┼───────────────────┼────────────┼───────────────────┤\n",
       "│ transformer_encode… │ (\u001b[38;5;45mNone\u001b[0m, \u001b[38;5;34m8\u001b[0m, \u001b[38;5;34m22\u001b[0m)     │     \u001b[38;5;34m13,900\u001b[0m │ transformer_enco… │\n",
       "│ (\u001b[38;5;33mTransformerEncode…\u001b[0m │                   │            │                   │\n",
       "├─────────────────────┼───────────────────┼────────────┼───────────────────┤\n",
       "│ transformer_encode… │ (\u001b[38;5;45mNone\u001b[0m, \u001b[38;5;34m8\u001b[0m, \u001b[38;5;34m22\u001b[0m)     │     \u001b[38;5;34m13,900\u001b[0m │ transformer_enco… │\n",
       "│ (\u001b[38;5;33mTransformerEncode…\u001b[0m │                   │            │                   │\n",
       "├─────────────────────┼───────────────────┼────────────┼───────────────────┤\n",
       "│ global_average_poo… │ (\u001b[38;5;45mNone\u001b[0m, \u001b[38;5;34m22\u001b[0m)        │          \u001b[38;5;34m0\u001b[0m │ transformer_enco… │\n",
       "│ (\u001b[38;5;33mGlobalAveragePool…\u001b[0m │                   │            │                   │\n",
       "├─────────────────────┼───────────────────┼────────────┼───────────────────┤\n",
       "│ dense_33 (\u001b[38;5;33mDense\u001b[0m)    │ (\u001b[38;5;45mNone\u001b[0m, \u001b[38;5;34m64\u001b[0m)        │      \u001b[38;5;34m1,472\u001b[0m │ global_average_p… │\n",
       "├─────────────────────┼───────────────────┼────────────┼───────────────────┤\n",
       "│ dropout_39          │ (\u001b[38;5;45mNone\u001b[0m, \u001b[38;5;34m64\u001b[0m)        │          \u001b[38;5;34m0\u001b[0m │ dense_33[\u001b[38;5;34m0\u001b[0m][\u001b[38;5;34m0\u001b[0m]    │\n",
       "│ (\u001b[38;5;33mDropout\u001b[0m)           │                   │            │                   │\n",
       "├─────────────────────┼───────────────────┼────────────┼───────────────────┤\n",
       "│ dense_34 (\u001b[38;5;33mDense\u001b[0m)    │ (\u001b[38;5;45mNone\u001b[0m, \u001b[38;5;34m64\u001b[0m)        │      \u001b[38;5;34m4,160\u001b[0m │ dropout_39[\u001b[38;5;34m0\u001b[0m][\u001b[38;5;34m0\u001b[0m]  │\n",
       "├─────────────────────┼───────────────────┼────────────┼───────────────────┤\n",
       "│ dropout_40          │ (\u001b[38;5;45mNone\u001b[0m, \u001b[38;5;34m64\u001b[0m)        │          \u001b[38;5;34m0\u001b[0m │ dense_34[\u001b[38;5;34m0\u001b[0m][\u001b[38;5;34m0\u001b[0m]    │\n",
       "│ (\u001b[38;5;33mDropout\u001b[0m)           │                   │            │                   │\n",
       "├─────────────────────┼───────────────────┼────────────┼───────────────────┤\n",
       "│ dense_35 (\u001b[38;5;33mDense\u001b[0m)    │ (\u001b[38;5;45mNone\u001b[0m, \u001b[38;5;34m1\u001b[0m)         │         \u001b[38;5;34m65\u001b[0m │ dropout_40[\u001b[38;5;34m0\u001b[0m][\u001b[38;5;34m0\u001b[0m]  │\n",
       "└─────────────────────┴───────────────────┴────────────┴───────────────────┘\n"
      ]
     },
     "metadata": {},
     "output_type": "display_data"
    },
    {
     "data": {
      "text/html": [
       "<pre style=\"white-space:pre;overflow-x:auto;line-height:normal;font-family:Menlo,'DejaVu Sans Mono',consolas,'Courier New',monospace\"><span style=\"font-weight: bold\"> Total params: </span><span style=\"color: #00af00; text-decoration-color: #00af00\">47,527</span> (185.65 KB)\n",
       "</pre>\n"
      ],
      "text/plain": [
       "\u001b[1m Total params: \u001b[0m\u001b[38;5;34m47,527\u001b[0m (185.65 KB)\n"
      ]
     },
     "metadata": {},
     "output_type": "display_data"
    },
    {
     "data": {
      "text/html": [
       "<pre style=\"white-space:pre;overflow-x:auto;line-height:normal;font-family:Menlo,'DejaVu Sans Mono',consolas,'Courier New',monospace\"><span style=\"font-weight: bold\"> Trainable params: </span><span style=\"color: #00af00; text-decoration-color: #00af00\">47,527</span> (185.65 KB)\n",
       "</pre>\n"
      ],
      "text/plain": [
       "\u001b[1m Trainable params: \u001b[0m\u001b[38;5;34m47,527\u001b[0m (185.65 KB)\n"
      ]
     },
     "metadata": {},
     "output_type": "display_data"
    },
    {
     "data": {
      "text/html": [
       "<pre style=\"white-space:pre;overflow-x:auto;line-height:normal;font-family:Menlo,'DejaVu Sans Mono',consolas,'Courier New',monospace\"><span style=\"font-weight: bold\"> Non-trainable params: </span><span style=\"color: #00af00; text-decoration-color: #00af00\">0</span> (0.00 B)\n",
       "</pre>\n"
      ],
      "text/plain": [
       "\u001b[1m Non-trainable params: \u001b[0m\u001b[38;5;34m0\u001b[0m (0.00 B)\n"
      ]
     },
     "metadata": {},
     "output_type": "display_data"
    }
   ],
   "source": [
    "# Compile the Model\n",
    "model.compile(optimizer=tf.keras.optimizers.Adam(learning_rate=0.001), loss=\"mse\", metrics=[\"mae\"])\n",
    "\n",
    "# Summary\n",
    "model.summary()\n"
   ]
  },
  {
   "cell_type": "code",
   "execution_count": 196,
   "id": "204ebefa-9396-4863-ba4f-5c377cf5b2fd",
   "metadata": {},
   "outputs": [
    {
     "name": "stdout",
     "output_type": "stream",
     "text": [
      "Epoch 1/150\n",
      "\u001b[1m30/30\u001b[0m \u001b[32m━━━━━━━━━━━━━━━━━━━━\u001b[0m\u001b[37m\u001b[0m \u001b[1m0s\u001b[0m 10ms/step - loss: 0.0015 - mae: 0.0276 - val_loss: 0.0067 - val_mae: 0.0747\n",
      "Epoch 2/150\n",
      "\u001b[1m30/30\u001b[0m \u001b[32m━━━━━━━━━━━━━━━━━━━━\u001b[0m\u001b[37m\u001b[0m \u001b[1m0s\u001b[0m 8ms/step - loss: 0.0014 - mae: 0.0274 - val_loss: 0.0151 - val_mae: 0.1179\n",
      "Epoch 3/150\n",
      "\u001b[1m30/30\u001b[0m \u001b[32m━━━━━━━━━━━━━━━━━━━━\u001b[0m\u001b[37m\u001b[0m \u001b[1m0s\u001b[0m 8ms/step - loss: 0.0014 - mae: 0.0273 - val_loss: 0.0253 - val_mae: 0.1553\n",
      "Epoch 4/150\n",
      "\u001b[1m30/30\u001b[0m \u001b[32m━━━━━━━━━━━━━━━━━━━━\u001b[0m\u001b[37m\u001b[0m \u001b[1m0s\u001b[0m 8ms/step - loss: 0.0014 - mae: 0.0269 - val_loss: 0.0147 - val_mae: 0.1165\n",
      "Epoch 5/150\n",
      "\u001b[1m30/30\u001b[0m \u001b[32m━━━━━━━━━━━━━━━━━━━━\u001b[0m\u001b[37m\u001b[0m \u001b[1m0s\u001b[0m 8ms/step - loss: 0.0014 - mae: 0.0269 - val_loss: 0.0082 - val_mae: 0.0837\n",
      "Epoch 6/150\n",
      "\u001b[1m30/30\u001b[0m \u001b[32m━━━━━━━━━━━━━━━━━━━━\u001b[0m\u001b[37m\u001b[0m \u001b[1m0s\u001b[0m 9ms/step - loss: 0.0015 - mae: 0.0281 - val_loss: 0.0224 - val_mae: 0.1455\n",
      "Epoch 7/150\n",
      "\u001b[1m30/30\u001b[0m \u001b[32m━━━━━━━━━━━━━━━━━━━━\u001b[0m\u001b[37m\u001b[0m \u001b[1m0s\u001b[0m 8ms/step - loss: 0.0011 - mae: 0.0243 - val_loss: 0.0148 - val_mae: 0.1166\n",
      "Epoch 8/150\n",
      "\u001b[1m30/30\u001b[0m \u001b[32m━━━━━━━━━━━━━━━━━━━━\u001b[0m\u001b[37m\u001b[0m \u001b[1m0s\u001b[0m 9ms/step - loss: 0.0012 - mae: 0.0260 - val_loss: 0.0157 - val_mae: 0.1204\n",
      "Epoch 9/150\n",
      "\u001b[1m30/30\u001b[0m \u001b[32m━━━━━━━━━━━━━━━━━━━━\u001b[0m\u001b[37m\u001b[0m \u001b[1m0s\u001b[0m 8ms/step - loss: 0.0015 - mae: 0.0283 - val_loss: 0.0075 - val_mae: 0.0794\n",
      "Epoch 10/150\n",
      "\u001b[1m30/30\u001b[0m \u001b[32m━━━━━━━━━━━━━━━━━━━━\u001b[0m\u001b[37m\u001b[0m \u001b[1m0s\u001b[0m 8ms/step - loss: 0.0019 - mae: 0.0298 - val_loss: 0.0157 - val_mae: 0.1205\n",
      "Epoch 11/150\n",
      "\u001b[1m30/30\u001b[0m \u001b[32m━━━━━━━━━━━━━━━━━━━━\u001b[0m\u001b[37m\u001b[0m \u001b[1m0s\u001b[0m 8ms/step - loss: 0.0013 - mae: 0.0274 - val_loss: 0.0243 - val_mae: 0.1523\n",
      "Epoch 11: early stopping\n",
      "Restoring model weights from the end of the best epoch: 1.\n",
      "\u001b[1m4/4\u001b[0m \u001b[32m━━━━━━━━━━━━━━━━━━━━\u001b[0m\u001b[37m\u001b[0m \u001b[1m0s\u001b[0m 4ms/step \n"
     ]
    }
   ],
   "source": [
    "# Training the Model\n",
    "# Assuming you have train_data, val_data, and test_data already prepared\n",
    "# Replace train_X, train_y, val_X, val_y with your data\n",
    "\n",
    "early_stopping = EarlyStopping(\n",
    "    monitor='val_loss',          # The metric to monitor (could also be 'val_accuracy')\n",
    "    patience=10,                 # Number of epochs with no improvement to wait before stopping\n",
    "    verbose=1,                   # To print messages when stopping early\n",
    "    restore_best_weights=True    # Restore the best weights once training is stopped\n",
    ")\n",
    "\n",
    "history = model.fit(train_sequences,train_targets , validation_data=(val_sequences, val_targets), epochs=150, batch_size=None, callbacks=[early_stopping])\n",
    "\n",
    "# Prediction\n",
    "predictions = model.predict(test_sequences)"
   ]
  },
  {
   "cell_type": "code",
   "execution_count": 222,
   "id": "397ab82a-6bff-483f-b41c-2fdcc3c9abae",
   "metadata": {},
   "outputs": [],
   "source": [
    "predicted_vals = target_scaler.inverse_transform(predictions.reshape(-1,1))\n",
    "\n",
    "pred_new=[]"
   ]
  },
  {
   "cell_type": "code",
   "execution_count": 415,
   "id": "255ed0ac-387e-472d-b5cf-3e96f3724f0f",
   "metadata": {},
   "outputs": [
    {
     "data": {
      "text/plain": [
       "[3602.7216796875,\n",
       " 3578.542724609375,\n",
       " 3784.390625,\n",
       " 3769.92822265625,\n",
       " 3698.87060546875,\n",
       " 3688.14501953125,\n",
       " 3643.187744140625,\n",
       " 3624.599609375,\n",
       " 3622.995849609375,\n",
       " 3583.226318359375,\n",
       " 3610.47509765625,\n",
       " 3602.1708984375,\n",
       " 3643.98876953125,\n",
       " 3670.82421875,\n",
       " 3690.790771484375,\n",
       " 3671.36962890625,\n",
       " 3678.847900390625,\n",
       " 3679.55078125,\n",
       " 3674.0859375,\n",
       " 3667.71923828125,\n",
       " 3666.971435546875,\n",
       " 3647.97119140625,\n",
       " 3664.310302734375,\n",
       " 3675.1591796875,\n",
       " 3652.282470703125,\n",
       " 3637.224853515625,\n",
       " 3622.930908203125,\n",
       " 3560.21826171875,\n",
       " 3580.907470703125,\n",
       " 3647.89501953125,\n",
       " 3681.94775390625,\n",
       " 3723.316650390625,\n",
       " 3733.94287109375,\n",
       " 3763.587158203125,\n",
       " 3748.053955078125,\n",
       " 3758.122802734375,\n",
       " 3705.71044921875,\n",
       " 3658.901123046875,\n",
       " 3634.68359375,\n",
       " 3537.253173828125,\n",
       " 3534.752197265625,\n",
       " 3487.844482421875,\n",
       " 3489.142822265625,\n",
       " 3548.75732421875,\n",
       " 3609.8447265625,\n",
       " 3564.369140625,\n",
       " 3558.255126953125,\n",
       " 3609.035400390625,\n",
       " 3589.55810546875,\n",
       " 3601.337158203125,\n",
       " 3642.072509765625,\n",
       " 3670.28955078125,\n",
       " 3664.9287109375,\n",
       " 3711.910400390625,\n",
       " 3712.3037109375,\n",
       " 3705.558349609375,\n",
       " 3708.6201171875,\n",
       " 3696.522216796875,\n",
       " 3654.71533203125,\n",
       " 3605.75146484375,\n",
       " 3614.355224609375,\n",
       " 3563.569091796875,\n",
       " 3519.0302734375,\n",
       " 3561.330322265625,\n",
       " 3554.5,\n",
       " 3604.40234375,\n",
       " 3645.779541015625,\n",
       " 3682.212158203125,\n",
       " 3666.546142578125,\n",
       " 3711.84423828125,\n",
       " 3737.095703125,\n",
       " 3721.783935546875,\n",
       " 3729.927978515625,\n",
       " 3730.611328125,\n",
       " 3698.904541015625,\n",
       " 3681.888916015625,\n",
       " 3673.244384765625,\n",
       " 3544.258056640625,\n",
       " 3527.29150390625,\n",
       " 3489.35107421875,\n",
       " 3495.326904296875,\n",
       " 3411.307861328125,\n",
       " 3408.60107421875,\n",
       " 3426.5439453125,\n",
       " 3473.45166015625,\n",
       " 3541.75146484375,\n",
       " 3536.065185546875,\n",
       " 3563.62255859375,\n",
       " 3539.99951171875,\n",
       " 3568.97998046875,\n",
       " 3534.23388671875,\n",
       " 3478.046142578125,\n",
       " 3418.5,\n",
       " 3346.115966796875,\n",
       " 3351.629638671875,\n",
       " 3341.27392578125,\n",
       " 3352.932861328125,\n",
       " 3490.091796875,\n",
       " 3539.017333984375,\n",
       " 3541.858154296875,\n",
       " 3582.761474609375,\n",
       " 3678.96142578125,\n",
       " 3683.508056640625,\n",
       " 3684.620361328125,\n",
       " 3658.643310546875,\n",
       " 3517.0107421875,\n",
       " 3495.70947265625,\n",
       " 3513.80224609375,\n",
       " 3500.5390625,\n",
       " 3432.29345703125]"
      ]
     },
     "execution_count": 415,
     "metadata": {},
     "output_type": "execute_result"
    }
   ],
   "source": [
    "pred_new"
   ]
  },
  {
   "cell_type": "code",
   "execution_count": 217,
   "id": "8c99d856-558e-47f0-be0b-d90c03d11dfc",
   "metadata": {},
   "outputs": [
    {
     "data": {
      "text/plain": [
       "array([], shape=(0, 1), dtype=float64)"
      ]
     },
     "execution_count": 217,
     "metadata": {},
     "output_type": "execute_result"
    }
   ],
   "source": [
    "np.array(pred_new).reshape(-1,1)"
   ]
  },
  {
   "cell_type": "code",
   "execution_count": 416,
   "id": "0fceba43-953a-486f-bd19-3ce946492f0c",
   "metadata": {},
   "outputs": [
    {
     "data": {
      "text/plain": [
       "array([[3302.7217],\n",
       "       [3278.5427],\n",
       "       [3484.3906],\n",
       "       [3469.9282],\n",
       "       [3398.8706],\n",
       "       [3388.145 ],\n",
       "       [3343.1877],\n",
       "       [3324.5996],\n",
       "       [3322.9958],\n",
       "       [3283.2263],\n",
       "       [3310.475 ],\n",
       "       [3302.171 ],\n",
       "       [3343.9888],\n",
       "       [3370.8242],\n",
       "       [3390.7908],\n",
       "       [3371.3696],\n",
       "       [3378.848 ],\n",
       "       [3379.5508],\n",
       "       [3374.086 ],\n",
       "       [3367.7192],\n",
       "       [3366.9714],\n",
       "       [3347.9712],\n",
       "       [3364.3103],\n",
       "       [3375.1592],\n",
       "       [3352.2825],\n",
       "       [3337.2249],\n",
       "       [3322.931 ],\n",
       "       [3260.2183],\n",
       "       [3280.9075],\n",
       "       [3347.895 ],\n",
       "       [3381.9478],\n",
       "       [3423.3167],\n",
       "       [3433.9429],\n",
       "       [3463.5872],\n",
       "       [3448.054 ],\n",
       "       [3458.1228],\n",
       "       [3405.7104],\n",
       "       [3358.9011],\n",
       "       [3334.6836],\n",
       "       [3237.2532],\n",
       "       [3234.7522],\n",
       "       [3187.8445],\n",
       "       [3189.1428],\n",
       "       [3248.7573],\n",
       "       [3309.8447],\n",
       "       [3264.3691],\n",
       "       [3258.2551],\n",
       "       [3309.0354],\n",
       "       [3289.558 ],\n",
       "       [3301.3372],\n",
       "       [3342.0725],\n",
       "       [3370.2896],\n",
       "       [3364.9287],\n",
       "       [3411.9104],\n",
       "       [3412.3037],\n",
       "       [3405.5583],\n",
       "       [3408.62  ],\n",
       "       [3396.5222],\n",
       "       [3354.7153],\n",
       "       [3305.7515],\n",
       "       [3314.3552],\n",
       "       [3263.569 ],\n",
       "       [3219.0303],\n",
       "       [3261.3303],\n",
       "       [3254.5   ],\n",
       "       [3304.4023],\n",
       "       [3345.7795],\n",
       "       [3382.2122],\n",
       "       [3366.5461],\n",
       "       [3411.8442],\n",
       "       [3437.0957],\n",
       "       [3421.784 ],\n",
       "       [3429.928 ],\n",
       "       [3430.6113],\n",
       "       [3398.9045],\n",
       "       [3381.889 ],\n",
       "       [3373.2444],\n",
       "       [3244.258 ],\n",
       "       [3227.2915],\n",
       "       [3189.351 ],\n",
       "       [3195.327 ],\n",
       "       [3111.3079],\n",
       "       [3108.601 ],\n",
       "       [3126.544 ],\n",
       "       [3173.4517],\n",
       "       [3241.7515],\n",
       "       [3236.0652],\n",
       "       [3263.6226],\n",
       "       [3239.9995],\n",
       "       [3268.98  ],\n",
       "       [3234.234 ],\n",
       "       [3178.0461],\n",
       "       [3118.5   ],\n",
       "       [3046.116 ],\n",
       "       [3051.6296],\n",
       "       [3041.274 ],\n",
       "       [3052.9329],\n",
       "       [3190.0918],\n",
       "       [3239.0173],\n",
       "       [3241.8582],\n",
       "       [3282.7615],\n",
       "       [3378.9614],\n",
       "       [3383.508 ],\n",
       "       [3384.6204],\n",
       "       [3358.6433],\n",
       "       [3217.0107],\n",
       "       [3195.7095],\n",
       "       [3213.8022],\n",
       "       [3200.539 ],\n",
       "       [3132.2935]], dtype=float32)"
      ]
     },
     "execution_count": 416,
     "metadata": {},
     "output_type": "execute_result"
    }
   ],
   "source": [
    "predicted_vals"
   ]
  },
  {
   "cell_type": "code",
   "execution_count": 224,
   "id": "d56169a6-f51c-4056-8fd3-b0dd1d1ae07d",
   "metadata": {},
   "outputs": [],
   "source": [
    "for a in predicted_vals:\n",
    "    pred_new.append(a[0]+300)"
   ]
  },
  {
   "cell_type": "code",
   "execution_count": 225,
   "id": "ec2cac86-fe0f-41af-b1ae-d05cb4f2274b",
   "metadata": {},
   "outputs": [
    {
     "data": {
      "text/plain": [
       "array([[3687.80004883],\n",
       "       [3689.19995117],\n",
       "       [3589.94995117],\n",
       "       [3594.44995117],\n",
       "       [3535.        ],\n",
       "       [3531.60009766],\n",
       "       [3587.80004883],\n",
       "       [3602.94995117],\n",
       "       [3564.39990234],\n",
       "       [3548.44995117],\n",
       "       [3526.55004883],\n",
       "       [3626.5       ],\n",
       "       [3614.35009766],\n",
       "       [3573.30004883],\n",
       "       [3627.14990234],\n",
       "       [3632.        ],\n",
       "       [3666.10009766],\n",
       "       [3650.05004883],\n",
       "       [3621.10009766],\n",
       "       [3649.35009766],\n",
       "       [3651.60009766],\n",
       "       [3636.55004883],\n",
       "       [3656.19995117],\n",
       "       [3618.5       ],\n",
       "       [3651.44995117],\n",
       "       [3538.05004883],\n",
       "       [3519.44995117],\n",
       "       [3619.14990234],\n",
       "       [3679.89990234],\n",
       "       [3774.94995117],\n",
       "       [3784.64990234],\n",
       "       [3815.        ],\n",
       "       [3779.30004883],\n",
       "       [3665.69995117],\n",
       "       [3528.        ],\n",
       "       [3576.19995117],\n",
       "       [3638.25      ],\n",
       "       [3553.55004883],\n",
       "       [3592.05004883],\n",
       "       [3571.94995117],\n",
       "       [3551.80004883],\n",
       "       [3545.19995117],\n",
       "       [3568.35009766],\n",
       "       [3555.05004883],\n",
       "       [3572.69995117],\n",
       "       [3596.05004883],\n",
       "       [3606.5       ],\n",
       "       [3598.55004883],\n",
       "       [3641.89990234],\n",
       "       [3702.69995117],\n",
       "       [3689.05004883],\n",
       "       [3683.44995117],\n",
       "       [3704.64990234],\n",
       "       [3683.10009766],\n",
       "       [3690.14990234],\n",
       "       [3650.80004883],\n",
       "       [3624.14990234],\n",
       "       [3574.75      ],\n",
       "       [3578.30004883],\n",
       "       [3596.14990234],\n",
       "       [3536.94995117],\n",
       "       [3622.        ],\n",
       "       [3613.        ],\n",
       "       [3662.25      ],\n",
       "       [3695.19995117],\n",
       "       [3730.44995117],\n",
       "       [3683.69995117],\n",
       "       [3793.89990234],\n",
       "       [3787.69995117],\n",
       "       [3791.60009766],\n",
       "       [3793.85009766],\n",
       "       [3762.14990234],\n",
       "       [3705.64990234],\n",
       "       [3675.55004883],\n",
       "       [3653.5       ],\n",
       "       [3497.64990234],\n",
       "       [3493.94995117],\n",
       "       [3468.35009766],\n",
       "       [3532.39990234],\n",
       "       [3487.10009766],\n",
       "       [3460.35009766],\n",
       "       [3482.55004883],\n",
       "       [3555.05004883],\n",
       "       [3551.89990234],\n",
       "       [3532.60009766],\n",
       "       [3570.30004883],\n",
       "       [3577.80004883],\n",
       "       [3585.60009766],\n",
       "       [3511.89990234],\n",
       "       [3455.39990234],\n",
       "       [3442.64990234],\n",
       "       [3326.39990234],\n",
       "       [3340.80004883],\n",
       "       [3380.89990234],\n",
       "       [3408.35009766],\n",
       "       [3622.30004883],\n",
       "       [3626.35009766],\n",
       "       [3574.44995117],\n",
       "       [3574.80004883],\n",
       "       [3645.44995117],\n",
       "       [3646.55004883],\n",
       "       [3660.30004883],\n",
       "       [3628.85009766],\n",
       "       [3591.35009766],\n",
       "       [3547.94995117],\n",
       "       [3526.25      ],\n",
       "       [3542.14990234],\n",
       "       [3505.89990234],\n",
       "       [3483.5       ],\n",
       "       [3603.5       ]])"
      ]
     },
     "execution_count": 225,
     "metadata": {},
     "output_type": "execute_result"
    }
   ],
   "source": [
    "target_scaler.inverse_transform(test_targets.reshape(-1,1))"
   ]
  },
  {
   "cell_type": "code",
   "execution_count": 226,
   "id": "92aa6e6a-14a9-4876-90ff-110a31d072ad",
   "metadata": {
    "scrolled": true
   },
   "outputs": [
    {
     "data": {
      "image/png": "[encoded data removed]",
      "text/plain": [
       "<Figure size 640x480 with 1 Axes>"
      ]
     },
     "metadata": {},
     "output_type": "display_data"
    }
   ],
   "source": [
    "plt.plot(target_scaler.inverse_transform(test_targets.reshape(-1,1)), label='Actual close price')\n",
    "plt.plot(np.array(pred_new).reshape(-1,1), label='Predicted close price')\n",
    "\n",
    "plt.title('Actual vs Predicted Prices')\n",
    "plt.ylabel('Price')\n",
    "plt.legend()\n",
    "\n",
    "plt.show()"
   ]
  },
  {
   "cell_type": "code",
   "execution_count": 414,
   "id": "90678e43-1882-4d36-997f-5cc4fecd1364",
   "metadata": {},
   "outputs": [
    {
     "data": {
      "image/png": "[encoded data removed]",
      "text/plain": [
       "<Figure size 640x480 with 1 Axes>"
      ]
     },
     "metadata": {},
     "output_type": "display_data"
    }
   ],
   "source": [
    "plt.plot(test_targets, label='Actual close price')\n",
    "plt.plot(pred_new, label='Predicted close price')\n",
    "\n",
    "plt.title('Actual vs Predicted Prices')\n",
    "plt.ylabel('Price')\n",
    "plt.legend()\n",
    "\n",
    "plt.show()"
   ]
  },
  {
   "cell_type": "code",
   "execution_count": null,
   "id": "a1302662-765d-4bd2-b24f-bd8b241ecd09",
   "metadata": {},
   "outputs": [],
   "source": [
    "################"
   ]
  },
  {
   "cell_type": "code",
   "execution_count": 61,
   "id": "8745a7e6-4e8b-4c3d-ad84-4771f31e9bc3",
   "metadata": {},
   "outputs": [],
   "source": [
    "def convert_to_timesteps(array, timesteps=100):\n",
    "    samples, features = array.shape\n",
    "    output = np.zeros((samples, timesteps, features))\n",
    "\n",
    "    for i in range(samples):\n",
    "        start_idx = max(0, i - timesteps + 1)\n",
    "        end_idx = i + 1\n",
    "        window = array[start_idx:end_idx]\n",
    "        output[i, -len(window):] = window\n",
    "\n",
    "    return output\n",
    "\n"
   ]
  },
  {
   "cell_type": "code",
   "execution_count": 62,
   "id": "0c3c71ee-e485-4da9-abc2-7fab46e58c35",
   "metadata": {},
   "outputs": [
    {
     "name": "stdout",
     "output_type": "stream",
     "text": [
      "(973, 100, 10)\n"
     ]
    },
    {
     "data": {
      "text/plain": [
       "(215, 100, 10)"
      ]
     },
     "execution_count": 62,
     "metadata": {},
     "output_type": "execute_result"
    }
   ],
   "source": [
    "timesteps=100\n",
    "X_train = convert_to_timesteps(X_train_scaled, timesteps=timesteps)\n",
    "print(X_train.shape)\n",
    "\n",
    "X_val = convert_to_timesteps(X_val_scaled, timesteps=timesteps)\n",
    "X_val.shape"
   ]
  },
  {
   "cell_type": "code",
   "execution_count": 63,
   "id": "38957c8a-811e-4ea6-bb87-00ebe2b1b53f",
   "metadata": {},
   "outputs": [],
   "source": [
    "y_train = target_scaler.fit_transform(df_train[\"Next_Close\"].values.reshape(-1, 1))\n",
    "y_val=target_scaler.fit_transform(df_val[\"Next_Close\"].values.reshape(-1, 1))"
   ]
  },
  {
   "cell_type": "code",
   "execution_count": 64,
   "id": "a68a6aa9-72e3-4bd6-bfea-c58e8bfd9aa4",
   "metadata": {},
   "outputs": [],
   "source": [
    "\n",
    "#timesteps = 1 \n",
    "#X_train_reshaped = X_train_scaled.reshape((X_train_scaled.shape[0], timesteps, X_train_scaled.shape[1]))\n",
    "#X_test_reshaped = X_test_scaled.reshape((X_test_scaled.shape[0], timesteps, X_test_scaled.shape[1]))"
   ]
  },
  {
   "cell_type": "code",
   "execution_count": 65,
   "id": "7b011320-f670-46df-beb6-f3d660b7341e",
   "metadata": {},
   "outputs": [
    {
     "data": {
      "text/plain": [
       "(973, 100, 10)"
      ]
     },
     "execution_count": 65,
     "metadata": {},
     "output_type": "execute_result"
    }
   ],
   "source": [
    "X_train.shape"
   ]
  },
  {
   "cell_type": "code",
   "execution_count": null,
   "id": "f10eabb7-4153-411e-95ff-92a12a2b6ca6",
   "metadata": {},
   "outputs": [],
   "source": []
  },
  {
   "cell_type": "code",
   "execution_count": 66,
   "id": "322573b5-a4b5-4b11-a2da-204f62928619",
   "metadata": {
    "scrolled": true
   },
   "outputs": [
    {
     "name": "stdout",
     "output_type": "stream",
     "text": [
      "Filter Value is :: 128\n"
     ]
    },
    {
     "name": "stderr",
     "output_type": "stream",
     "text": [
      "C:\\Users\\Divay Nagpal\\anaconda3\\envs\\python310new1\\lib\\site-packages\\keras\\src\\layers\\convolutional\\base_conv.py:107: UserWarning: Do not pass an `input_shape`/`input_dim` argument to a layer. When using Sequential models, prefer using an `Input(shape)` object as the first layer in the model instead.\n",
      "  super().__init__(activity_regularizer=activity_regularizer, **kwargs)\n"
     ]
    },
    {
     "data": {
      "text/html": [
       "<pre style=\"white-space:pre;overflow-x:auto;line-height:normal;font-family:Menlo,'DejaVu Sans Mono',consolas,'Courier New',monospace\"><span style=\"font-weight: bold\">Model: \"sequential_1\"</span>\n",
       "</pre>\n"
      ],
      "text/plain": [
       "\u001b[1mModel: \"sequential_1\"\u001b[0m\n"
      ]
     },
     "metadata": {},
     "output_type": "display_data"
    },
    {
     "data": {
      "text/html": [
       "<pre style=\"white-space:pre;overflow-x:auto;line-height:normal;font-family:Menlo,'DejaVu Sans Mono',consolas,'Courier New',monospace\">┏━━━━━━━━━━━━━━━━━━━━━━━━━━━━━━━━━┳━━━━━━━━━━━━━━━━━━━━━━━━┳━━━━━━━━━━━━━━━┓\n",
       "┃<span style=\"font-weight: bold\"> Layer (type)                    </span>┃<span style=\"font-weight: bold\"> Output Shape           </span>┃<span style=\"font-weight: bold\">       Param # </span>┃\n",
       "┡━━━━━━━━━━━━━━━━━━━━━━━━━━━━━━━━━╇━━━━━━━━━━━━━━━━━━━━━━━━╇━━━━━━━━━━━━━━━┩\n",
       "│ conv1d_1 (<span style=\"color: #0087ff; text-decoration-color: #0087ff\">Conv1D</span>)               │ (<span style=\"color: #00d7ff; text-decoration-color: #00d7ff\">None</span>, <span style=\"color: #00af00; text-decoration-color: #00af00\">96</span>, <span style=\"color: #00af00; text-decoration-color: #00af00\">128</span>)        │         <span style=\"color: #00af00; text-decoration-color: #00af00\">6,528</span> │\n",
       "├─────────────────────────────────┼────────────────────────┼───────────────┤\n",
       "│ max_pooling1d_1 (<span style=\"color: #0087ff; text-decoration-color: #0087ff\">MaxPooling1D</span>)  │ (<span style=\"color: #00d7ff; text-decoration-color: #00d7ff\">None</span>, <span style=\"color: #00af00; text-decoration-color: #00af00\">48</span>, <span style=\"color: #00af00; text-decoration-color: #00af00\">128</span>)        │             <span style=\"color: #00af00; text-decoration-color: #00af00\">0</span> │\n",
       "├─────────────────────────────────┼────────────────────────┼───────────────┤\n",
       "│ flatten_1 (<span style=\"color: #0087ff; text-decoration-color: #0087ff\">Flatten</span>)             │ (<span style=\"color: #00d7ff; text-decoration-color: #00d7ff\">None</span>, <span style=\"color: #00af00; text-decoration-color: #00af00\">6144</span>)           │             <span style=\"color: #00af00; text-decoration-color: #00af00\">0</span> │\n",
       "└─────────────────────────────────┴────────────────────────┴───────────────┘\n",
       "</pre>\n"
      ],
      "text/plain": [
       "┏━━━━━━━━━━━━━━━━━━━━━━━━━━━━━━━━━┳━━━━━━━━━━━━━━━━━━━━━━━━┳━━━━━━━━━━━━━━━┓\n",
       "┃\u001b[1m \u001b[0m\u001b[1mLayer (type)                   \u001b[0m\u001b[1m \u001b[0m┃\u001b[1m \u001b[0m\u001b[1mOutput Shape          \u001b[0m\u001b[1m \u001b[0m┃\u001b[1m \u001b[0m\u001b[1m      Param #\u001b[0m\u001b[1m \u001b[0m┃\n",
       "┡━━━━━━━━━━━━━━━━━━━━━━━━━━━━━━━━━╇━━━━━━━━━━━━━━━━━━━━━━━━╇━━━━━━━━━━━━━━━┩\n",
       "│ conv1d_1 (\u001b[38;5;33mConv1D\u001b[0m)               │ (\u001b[38;5;45mNone\u001b[0m, \u001b[38;5;34m96\u001b[0m, \u001b[38;5;34m128\u001b[0m)        │         \u001b[38;5;34m6,528\u001b[0m │\n",
       "├─────────────────────────────────┼────────────────────────┼───────────────┤\n",
       "│ max_pooling1d_1 (\u001b[38;5;33mMaxPooling1D\u001b[0m)  │ (\u001b[38;5;45mNone\u001b[0m, \u001b[38;5;34m48\u001b[0m, \u001b[38;5;34m128\u001b[0m)        │             \u001b[38;5;34m0\u001b[0m │\n",
       "├─────────────────────────────────┼────────────────────────┼───────────────┤\n",
       "│ flatten_1 (\u001b[38;5;33mFlatten\u001b[0m)             │ (\u001b[38;5;45mNone\u001b[0m, \u001b[38;5;34m6144\u001b[0m)           │             \u001b[38;5;34m0\u001b[0m │\n",
       "└─────────────────────────────────┴────────────────────────┴───────────────┘\n"
      ]
     },
     "metadata": {},
     "output_type": "display_data"
    },
    {
     "data": {
      "text/html": [
       "<pre style=\"white-space:pre;overflow-x:auto;line-height:normal;font-family:Menlo,'DejaVu Sans Mono',consolas,'Courier New',monospace\"><span style=\"font-weight: bold\"> Total params: </span><span style=\"color: #00af00; text-decoration-color: #00af00\">6,528</span> (25.50 KB)\n",
       "</pre>\n"
      ],
      "text/plain": [
       "\u001b[1m Total params: \u001b[0m\u001b[38;5;34m6,528\u001b[0m (25.50 KB)\n"
      ]
     },
     "metadata": {},
     "output_type": "display_data"
    },
    {
     "data": {
      "text/html": [
       "<pre style=\"white-space:pre;overflow-x:auto;line-height:normal;font-family:Menlo,'DejaVu Sans Mono',consolas,'Courier New',monospace\"><span style=\"font-weight: bold\"> Trainable params: </span><span style=\"color: #00af00; text-decoration-color: #00af00\">6,528</span> (25.50 KB)\n",
       "</pre>\n"
      ],
      "text/plain": [
       "\u001b[1m Trainable params: \u001b[0m\u001b[38;5;34m6,528\u001b[0m (25.50 KB)\n"
      ]
     },
     "metadata": {},
     "output_type": "display_data"
    },
    {
     "data": {
      "text/html": [
       "<pre style=\"white-space:pre;overflow-x:auto;line-height:normal;font-family:Menlo,'DejaVu Sans Mono',consolas,'Courier New',monospace\"><span style=\"font-weight: bold\"> Non-trainable params: </span><span style=\"color: #00af00; text-decoration-color: #00af00\">0</span> (0.00 B)\n",
       "</pre>\n"
      ],
      "text/plain": [
       "\u001b[1m Non-trainable params: \u001b[0m\u001b[38;5;34m0\u001b[0m (0.00 B)\n"
      ]
     },
     "metadata": {},
     "output_type": "display_data"
    },
    {
     "name": "stdout",
     "output_type": "stream",
     "text": [
      "\u001b[1m31/31\u001b[0m \u001b[32m━━━━━━━━━━━━━━━━━━━━\u001b[0m\u001b[37m\u001b[0m \u001b[1m0s\u001b[0m 5ms/step\n",
      "\u001b[1m7/7\u001b[0m \u001b[32m━━━━━━━━━━━━━━━━━━━━\u001b[0m\u001b[37m\u001b[0m \u001b[1m0s\u001b[0m 2ms/step \n",
      "mse :  4983599.881400151\n"
     ]
    },
    {
     "data": {
      "image/png": "[encoded data removed]",
      "text/plain": [
       "<Figure size 640x480 with 1 Axes>"
      ]
     },
     "metadata": {},
     "output_type": "display_data"
    }
   ],
   "source": [
    "filter_vals=[128]\n",
    "# For 1 layer\n",
    "for filter_val in filter_vals:\n",
    "    print(\"Filter Value is ::\", filter_val)\n",
    "    cnn_model = models.Sequential([\n",
    "    Conv1D(filters=filter_val, kernel_size = 5, activation = 'relu', input_shape = (timesteps, X_train.shape[2])),\n",
    "    MaxPooling1D(pool_size=2),\n",
    "    Flatten(),\n",
    "    ])\n",
    "    cnn_model.summary()\n",
    "    cnn_features = cnn_model.predict(X_train)\n",
    "    xgb_model = xgb.XGBRegressor(n_estimators=100, learning_rate=0.1, max_depth=3)\n",
    "    xgb_model.fit(cnn_features, y_train)\n",
    "    predictions = xgb_model.predict(cnn_model.predict(X_val))\n",
    "    mse = mean_squared_error(target_scaler.inverse_transform(y_val), target_scaler.inverse_transform(predictions.reshape(-1,1)))\n",
    "    print(\"mse : \",mse)\n",
    "    \n",
    "    plt.plot(target_scaler.inverse_transform(y_val), label='Actual close price')\n",
    "    plt.plot(target_scaler.inverse_transform(predictions.reshape(-1,1)), label='Predicted close price')\n",
    "    \n",
    "    plt.title('Actual vs Predicted Prices')\n",
    "    plt.ylabel('Price')\n",
    "    plt.legend()\n",
    "    \n",
    "    plt.show()"
   ]
  },
  {
   "cell_type": "code",
   "execution_count": null,
   "id": "6f9478e8-af6f-4dc6-8b0f-4eb7f40888ce",
   "metadata": {},
   "outputs": [],
   "source": []
  },
  {
   "cell_type": "code",
   "execution_count": null,
   "id": "f6a735ec-5d1d-4f68-a862-0a84cd2e027d",
   "metadata": {},
   "outputs": [],
   "source": []
  }
 ],
 "metadata": {
  "kernelspec": {
   "display_name": "Python 3 (ipykernel)",
   "language": "python",
   "name": "python3"
  },
  "language_info": {
   "codemirror_mode": {
    "name": "ipython",
    "version": 3
   },
   "file_extension": ".py",
   "mimetype": "text/x-python",
   "name": "python",
   "nbconvert_exporter": "python",
   "pygments_lexer": "ipython3",
   "version": "3.10.15"
  }
 },
 "nbformat": 4,
 "nbformat_minor": 5
}
