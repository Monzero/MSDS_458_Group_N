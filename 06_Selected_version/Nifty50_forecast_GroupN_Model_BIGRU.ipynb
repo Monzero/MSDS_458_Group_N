{
 "cells": [
  {
   "cell_type": "markdown",
   "id": "b07d798f",
   "metadata": {},
   "source": [
    "## Install some libraries"
   ]
  },
  {
   "cell_type": "code",
   "execution_count": 72,
   "id": "ed34d763",
   "metadata": {},
   "outputs": [
    {
     "name": "stdout",
     "output_type": "stream",
     "text": [
      "Requirement already satisfied: tensorflow in /opt/anaconda3/envs/Conda_3_12_7/lib/python3.12/site-packages (2.16.2)\n",
      "Requirement already satisfied: pandas in /opt/anaconda3/envs/Conda_3_12_7/lib/python3.12/site-packages (2.2.3)\n",
      "Requirement already satisfied: scikit-learn in /opt/anaconda3/envs/Conda_3_12_7/lib/python3.12/site-packages (1.5.2)\n",
      "Requirement already satisfied: yfinance in /opt/anaconda3/envs/Conda_3_12_7/lib/python3.12/site-packages (0.2.48)\n",
      "Requirement already satisfied: absl-py>=1.0.0 in /opt/anaconda3/envs/Conda_3_12_7/lib/python3.12/site-packages (from tensorflow) (2.1.0)\n",
      "Requirement already satisfied: astunparse>=1.6.0 in /opt/anaconda3/envs/Conda_3_12_7/lib/python3.12/site-packages (from tensorflow) (1.6.3)\n",
      "Requirement already satisfied: flatbuffers>=23.5.26 in /opt/anaconda3/envs/Conda_3_12_7/lib/python3.12/site-packages (from tensorflow) (24.3.25)\n",
      "Requirement already satisfied: gast!=0.5.0,!=0.5.1,!=0.5.2,>=0.2.1 in /opt/anaconda3/envs/Conda_3_12_7/lib/python3.12/site-packages (from tensorflow) (0.6.0)\n",
      "Requirement already satisfied: google-pasta>=0.1.1 in /opt/anaconda3/envs/Conda_3_12_7/lib/python3.12/site-packages (from tensorflow) (0.2.0)\n",
      "Requirement already satisfied: h5py>=3.10.0 in /opt/anaconda3/envs/Conda_3_12_7/lib/python3.12/site-packages (from tensorflow) (3.12.1)\n",
      "Requirement already satisfied: libclang>=13.0.0 in /opt/anaconda3/envs/Conda_3_12_7/lib/python3.12/site-packages (from tensorflow) (18.1.1)\n",
      "Requirement already satisfied: ml-dtypes~=0.3.1 in /opt/anaconda3/envs/Conda_3_12_7/lib/python3.12/site-packages (from tensorflow) (0.3.2)\n",
      "Requirement already satisfied: opt-einsum>=2.3.2 in /opt/anaconda3/envs/Conda_3_12_7/lib/python3.12/site-packages (from tensorflow) (3.4.0)\n",
      "Requirement already satisfied: packaging in /opt/anaconda3/envs/Conda_3_12_7/lib/python3.12/site-packages (from tensorflow) (24.1)\n",
      "Requirement already satisfied: protobuf!=4.21.0,!=4.21.1,!=4.21.2,!=4.21.3,!=4.21.4,!=4.21.5,<5.0.0dev,>=3.20.3 in /opt/anaconda3/envs/Conda_3_12_7/lib/python3.12/site-packages (from tensorflow) (4.25.5)\n",
      "Requirement already satisfied: requests<3,>=2.21.0 in /opt/anaconda3/envs/Conda_3_12_7/lib/python3.12/site-packages (from tensorflow) (2.32.3)\n",
      "Requirement already satisfied: setuptools in /opt/anaconda3/envs/Conda_3_12_7/lib/python3.12/site-packages (from tensorflow) (75.1.0)\n",
      "Requirement already satisfied: six>=1.12.0 in /opt/anaconda3/envs/Conda_3_12_7/lib/python3.12/site-packages (from tensorflow) (1.16.0)\n",
      "Requirement already satisfied: termcolor>=1.1.0 in /opt/anaconda3/envs/Conda_3_12_7/lib/python3.12/site-packages (from tensorflow) (2.5.0)\n",
      "Requirement already satisfied: typing-extensions>=3.6.6 in /opt/anaconda3/envs/Conda_3_12_7/lib/python3.12/site-packages (from tensorflow) (4.12.2)\n",
      "Requirement already satisfied: wrapt>=1.11.0 in /opt/anaconda3/envs/Conda_3_12_7/lib/python3.12/site-packages (from tensorflow) (1.16.0)\n",
      "Requirement already satisfied: grpcio<2.0,>=1.24.3 in /opt/anaconda3/envs/Conda_3_12_7/lib/python3.12/site-packages (from tensorflow) (1.67.1)\n",
      "Requirement already satisfied: tensorboard<2.17,>=2.16 in /opt/anaconda3/envs/Conda_3_12_7/lib/python3.12/site-packages (from tensorflow) (2.16.2)\n",
      "Requirement already satisfied: keras>=3.0.0 in /opt/anaconda3/envs/Conda_3_12_7/lib/python3.12/site-packages (from tensorflow) (3.6.0)\n",
      "Requirement already satisfied: numpy<2.0.0,>=1.26.0 in /opt/anaconda3/envs/Conda_3_12_7/lib/python3.12/site-packages (from tensorflow) (1.26.4)\n",
      "Requirement already satisfied: python-dateutil>=2.8.2 in /opt/anaconda3/envs/Conda_3_12_7/lib/python3.12/site-packages (from pandas) (2.9.0)\n",
      "Requirement already satisfied: pytz>=2020.1 in /opt/anaconda3/envs/Conda_3_12_7/lib/python3.12/site-packages (from pandas) (2024.2)\n",
      "Requirement already satisfied: tzdata>=2022.7 in /opt/anaconda3/envs/Conda_3_12_7/lib/python3.12/site-packages (from pandas) (2024.2)\n",
      "Requirement already satisfied: scipy>=1.6.0 in /opt/anaconda3/envs/Conda_3_12_7/lib/python3.12/site-packages (from scikit-learn) (1.13.1)\n",
      "Requirement already satisfied: joblib>=1.2.0 in /opt/anaconda3/envs/Conda_3_12_7/lib/python3.12/site-packages (from scikit-learn) (1.4.2)\n",
      "Requirement already satisfied: threadpoolctl>=3.1.0 in /opt/anaconda3/envs/Conda_3_12_7/lib/python3.12/site-packages (from scikit-learn) (3.5.0)\n",
      "Requirement already satisfied: multitasking>=0.0.7 in /opt/anaconda3/envs/Conda_3_12_7/lib/python3.12/site-packages (from yfinance) (0.0.11)\n",
      "Requirement already satisfied: lxml>=4.9.1 in /opt/anaconda3/envs/Conda_3_12_7/lib/python3.12/site-packages (from yfinance) (5.3.0)\n",
      "Requirement already satisfied: platformdirs>=2.0.0 in /opt/anaconda3/envs/Conda_3_12_7/lib/python3.12/site-packages (from yfinance) (4.3.6)\n",
      "Requirement already satisfied: frozendict>=2.3.4 in /opt/anaconda3/envs/Conda_3_12_7/lib/python3.12/site-packages (from yfinance) (2.4.6)\n",
      "Requirement already satisfied: peewee>=3.16.2 in /opt/anaconda3/envs/Conda_3_12_7/lib/python3.12/site-packages (from yfinance) (3.17.7)\n",
      "Requirement already satisfied: beautifulsoup4>=4.11.1 in /opt/anaconda3/envs/Conda_3_12_7/lib/python3.12/site-packages (from yfinance) (4.12.3)\n",
      "Requirement already satisfied: html5lib>=1.1 in /opt/anaconda3/envs/Conda_3_12_7/lib/python3.12/site-packages (from yfinance) (1.1)\n",
      "Requirement already satisfied: wheel<1.0,>=0.23.0 in /opt/anaconda3/envs/Conda_3_12_7/lib/python3.12/site-packages (from astunparse>=1.6.0->tensorflow) (0.44.0)\n",
      "Requirement already satisfied: soupsieve>1.2 in /opt/anaconda3/envs/Conda_3_12_7/lib/python3.12/site-packages (from beautifulsoup4>=4.11.1->yfinance) (2.6)\n",
      "Requirement already satisfied: webencodings in /opt/anaconda3/envs/Conda_3_12_7/lib/python3.12/site-packages (from html5lib>=1.1->yfinance) (0.5.1)\n",
      "Requirement already satisfied: rich in /opt/anaconda3/envs/Conda_3_12_7/lib/python3.12/site-packages (from keras>=3.0.0->tensorflow) (13.9.3)\n",
      "Requirement already satisfied: namex in /opt/anaconda3/envs/Conda_3_12_7/lib/python3.12/site-packages (from keras>=3.0.0->tensorflow) (0.0.8)\n",
      "Requirement already satisfied: optree in /opt/anaconda3/envs/Conda_3_12_7/lib/python3.12/site-packages (from keras>=3.0.0->tensorflow) (0.13.0)\n",
      "Requirement already satisfied: charset-normalizer<4,>=2 in /opt/anaconda3/envs/Conda_3_12_7/lib/python3.12/site-packages (from requests<3,>=2.21.0->tensorflow) (3.4.0)\n",
      "Requirement already satisfied: idna<4,>=2.5 in /opt/anaconda3/envs/Conda_3_12_7/lib/python3.12/site-packages (from requests<3,>=2.21.0->tensorflow) (3.10)\n",
      "Requirement already satisfied: urllib3<3,>=1.21.1 in /opt/anaconda3/envs/Conda_3_12_7/lib/python3.12/site-packages (from requests<3,>=2.21.0->tensorflow) (2.2.3)\n",
      "Requirement already satisfied: certifi>=2017.4.17 in /opt/anaconda3/envs/Conda_3_12_7/lib/python3.12/site-packages (from requests<3,>=2.21.0->tensorflow) (2024.8.30)\n",
      "Requirement already satisfied: markdown>=2.6.8 in /opt/anaconda3/envs/Conda_3_12_7/lib/python3.12/site-packages (from tensorboard<2.17,>=2.16->tensorflow) (3.7)\n",
      "Requirement already satisfied: tensorboard-data-server<0.8.0,>=0.7.0 in /opt/anaconda3/envs/Conda_3_12_7/lib/python3.12/site-packages (from tensorboard<2.17,>=2.16->tensorflow) (0.7.2)\n",
      "Requirement already satisfied: werkzeug>=1.0.1 in /opt/anaconda3/envs/Conda_3_12_7/lib/python3.12/site-packages (from tensorboard<2.17,>=2.16->tensorflow) (3.1.1)\n",
      "Requirement already satisfied: MarkupSafe>=2.1.1 in /opt/anaconda3/envs/Conda_3_12_7/lib/python3.12/site-packages (from werkzeug>=1.0.1->tensorboard<2.17,>=2.16->tensorflow) (3.0.2)\n",
      "Requirement already satisfied: markdown-it-py>=2.2.0 in /opt/anaconda3/envs/Conda_3_12_7/lib/python3.12/site-packages (from rich->keras>=3.0.0->tensorflow) (3.0.0)\n",
      "Requirement already satisfied: pygments<3.0.0,>=2.13.0 in /opt/anaconda3/envs/Conda_3_12_7/lib/python3.12/site-packages (from rich->keras>=3.0.0->tensorflow) (2.18.0)\n",
      "Requirement already satisfied: mdurl~=0.1 in /opt/anaconda3/envs/Conda_3_12_7/lib/python3.12/site-packages (from markdown-it-py>=2.2.0->rich->keras>=3.0.0->tensorflow) (0.1.2)\n"
     ]
    }
   ],
   "source": [
    "!pip install tensorflow pandas scikit-learn yfinance"
   ]
  },
  {
   "cell_type": "code",
   "execution_count": 73,
   "id": "2caabb53",
   "metadata": {},
   "outputs": [],
   "source": [
    "import pandas as pd\n",
    "import numpy as np\n",
    "\n",
    "from sklearn.preprocessing import MinMaxScaler, LabelEncoder\n",
    "from sklearn.model_selection import train_test_split\n",
    "import pandas as pd\n",
    "import tensorflow as tf\n",
    "from keras.models import Sequential\n",
    "from keras.layers import LSTM, Dense, Dropout, Bidirectional, GRU\n",
    "from keras.optimizers import Adam\n",
    "from keras.losses import Huber\n",
    "from tensorflow.keras.callbacks import EarlyStopping\n",
    "import calendar\n",
    "from datetime import datetime, timedelta\n",
    "import seaborn as sns\n",
    "import matplotlib.pyplot as plt\n",
    "\n",
    "import yfinance as yf\n",
    "\n",
    "pd.set_option('display.max_columns',None)"
   ]
  },
  {
   "cell_type": "markdown",
   "id": "09bc6adc",
   "metadata": {},
   "source": [
    "## Load the data"
   ]
  },
  {
   "cell_type": "code",
   "execution_count": 74,
   "id": "8737de79",
   "metadata": {},
   "outputs": [
    {
     "data": {
      "text/html": [
       "<div>\n",
       "<style scoped>\n",
       "    .dataframe tbody tr th:only-of-type {\n",
       "        vertical-align: middle;\n",
       "    }\n",
       "\n",
       "    .dataframe tbody tr th {\n",
       "        vertical-align: top;\n",
       "    }\n",
       "\n",
       "    .dataframe thead th {\n",
       "        text-align: right;\n",
       "    }\n",
       "</style>\n",
       "<table border=\"1\" class=\"dataframe\">\n",
       "  <thead>\n",
       "    <tr style=\"text-align: right;\">\n",
       "      <th></th>\n",
       "      <th>Date</th>\n",
       "      <th>Price</th>\n",
       "      <th>Open</th>\n",
       "      <th>High</th>\n",
       "      <th>Low</th>\n",
       "      <th>Vol.</th>\n",
       "      <th>Change %</th>\n",
       "    </tr>\n",
       "  </thead>\n",
       "  <tbody>\n",
       "    <tr>\n",
       "      <th>0</th>\n",
       "      <td>15-11-2024</td>\n",
       "      <td>23,571.50</td>\n",
       "      <td>23,650.00</td>\n",
       "      <td>23,677.00</td>\n",
       "      <td>23,404.00</td>\n",
       "      <td>18.86K</td>\n",
       "      <td>-0.29%</td>\n",
       "    </tr>\n",
       "    <tr>\n",
       "      <th>1</th>\n",
       "      <td>14-11-2024</td>\n",
       "      <td>23,641.00</td>\n",
       "      <td>23,640.50</td>\n",
       "      <td>23,752.50</td>\n",
       "      <td>23,559.00</td>\n",
       "      <td>50.24K</td>\n",
       "      <td>-0.01%</td>\n",
       "    </tr>\n",
       "    <tr>\n",
       "      <th>2</th>\n",
       "      <td>13-11-2024</td>\n",
       "      <td>23,643.50</td>\n",
       "      <td>23,899.00</td>\n",
       "      <td>23,938.00</td>\n",
       "      <td>23,595.00</td>\n",
       "      <td>59.36K</td>\n",
       "      <td>-1.23%</td>\n",
       "    </tr>\n",
       "    <tr>\n",
       "      <th>3</th>\n",
       "      <td>12-11-2024</td>\n",
       "      <td>23,938.00</td>\n",
       "      <td>24,225.00</td>\n",
       "      <td>24,312.00</td>\n",
       "      <td>23,855.50</td>\n",
       "      <td>46.75K</td>\n",
       "      <td>-1.17%</td>\n",
       "    </tr>\n",
       "    <tr>\n",
       "      <th>4</th>\n",
       "      <td>11-11-2024</td>\n",
       "      <td>24,221.50</td>\n",
       "      <td>24,133.00</td>\n",
       "      <td>24,428.00</td>\n",
       "      <td>24,085.00</td>\n",
       "      <td>43.00K</td>\n",
       "      <td>0.09%</td>\n",
       "    </tr>\n",
       "  </tbody>\n",
       "</table>\n",
       "</div>"
      ],
      "text/plain": [
       "         Date      Price       Open       High        Low    Vol. Change %\n",
       "0  15-11-2024  23,571.50  23,650.00  23,677.00  23,404.00  18.86K   -0.29%\n",
       "1  14-11-2024  23,641.00  23,640.50  23,752.50  23,559.00  50.24K   -0.01%\n",
       "2  13-11-2024  23,643.50  23,899.00  23,938.00  23,595.00  59.36K   -1.23%\n",
       "3  12-11-2024  23,938.00  24,225.00  24,312.00  23,855.50  46.75K   -1.17%\n",
       "4  11-11-2024  24,221.50  24,133.00  24,428.00  24,085.00  43.00K    0.09%"
      ]
     },
     "execution_count": 74,
     "metadata": {},
     "output_type": "execute_result"
    }
   ],
   "source": [
    "sgx = pd.read_csv('/Users/monilshah/Documents/02_NWU/09_MSDS_458_DL/99_group_project/StockPricePrediction/Data/Gift Nifty 50 Futures Historical Data.csv')\n",
    "sgx.head()"
   ]
  },
  {
   "cell_type": "code",
   "execution_count": 75,
   "id": "eb428629",
   "metadata": {},
   "outputs": [
    {
     "name": "stdout",
     "output_type": "stream",
     "text": [
      "          Date  gift_open\n",
      "933 2021-04-05   14749.90\n",
      "934 2021-04-01   14805.25\n",
      "935 2021-03-31   14851.60\n",
      "936 2021-03-30   14876.90\n",
      "937 2021-03-29   14727.00\n"
     ]
    }
   ],
   "source": [
    "\n",
    "df_sgx = sgx[['Date','Open']].rename(columns={'Open':'gift_open'})\n",
    "\n",
    "# Convert 'Date' to datetime format (considering it's in 'dd-mm-yyyy' format)\n",
    "df_sgx['Date'] = pd.to_datetime(df_sgx['Date'], format='%d-%m-%Y')\n",
    "\n",
    "# Remove commas from the 'Open' column and convert to float\n",
    "df_sgx['gift_open'] = df_sgx['gift_open'].replace({',': ''}, regex=True).astype(float)\n",
    "df_sgx['Date'] = pd.to_datetime(df_sgx['Date'], format='%Y-%m-%d')\n",
    "\n",
    "df_sgx['gift_open'] = df_sgx['gift_open'].shift(1)\n",
    "\n",
    "\n",
    "# Check the updated dataframe\n",
    "print(df_sgx.tail())\n",
    "\n",
    "\n"
   ]
  },
  {
   "cell_type": "code",
   "execution_count": 76,
   "id": "d74705b9",
   "metadata": {},
   "outputs": [
    {
     "name": "stderr",
     "output_type": "stream",
     "text": [
      "[*********************100%***********************]  1 of 1 completed"
     ]
    },
    {
     "name": "stdout",
     "output_type": "stream",
     "text": [
      "Price                      Date     Adj Close         Close          High  \\\n",
      "0     2021-01-01 00:00:00+00:00  14018.500000  14018.500000  14049.849609   \n",
      "1     2021-01-04 00:00:00+00:00  14132.900391  14132.900391  14147.950195   \n",
      "2     2021-01-05 00:00:00+00:00  14199.500000  14199.500000  14215.599609   \n",
      "3     2021-01-06 00:00:00+00:00  14146.250000  14146.250000  14244.150391   \n",
      "4     2021-01-07 00:00:00+00:00  14137.349609  14137.349609  14256.250000   \n",
      "\n",
      "Price           Low          Open  Volume  \n",
      "0      13991.349609  13996.099609  358100  \n",
      "1      13953.750000  14104.349609  495000  \n",
      "2      14048.150391  14075.150391  492500  \n",
      "3      14039.900391  14240.950195  632300  \n",
      "4      14123.099609  14253.750000  559200  \n"
     ]
    },
    {
     "name": "stderr",
     "output_type": "stream",
     "text": [
      "\n"
     ]
    }
   ],
   "source": [
    "start_date = \"2021-01-01\"\n",
    "end_date   = \"2024-11-30\"\n",
    "\n",
    "data = yf.download(\"^NSEI\", start=start_date, end=end_date)\n",
    "data.columns = data.columns.get_level_values(0) # from multi index to single index\n",
    "\n",
    "data = data.reset_index()\n",
    "\n",
    "print(data.head())\n"
   ]
  },
  {
   "cell_type": "code",
   "execution_count": 77,
   "id": "557d8660",
   "metadata": {},
   "outputs": [
    {
     "data": {
      "text/plain": [
       "Index(['Date', 'Adj Close', 'Close', 'High', 'Low', 'Open', 'Volume'], dtype='object', name='Price')"
      ]
     },
     "execution_count": 77,
     "metadata": {},
     "output_type": "execute_result"
    }
   ],
   "source": [
    "data.columns"
   ]
  },
  {
   "cell_type": "code",
   "execution_count": 78,
   "id": "4c47129e",
   "metadata": {},
   "outputs": [],
   "source": [
    "\n",
    "data['Date'] = data['Date'].dt.strftime('%Y-%m-%d')\n",
    "data['Date'] = pd.to_datetime(data['Date']).dt.date\n",
    "\n",
    "df_train_all = data.copy()\n"
   ]
  },
  {
   "cell_type": "code",
   "execution_count": 79,
   "id": "0bb438f8",
   "metadata": {},
   "outputs": [
    {
     "data": {
      "text/html": [
       "<div>\n",
       "<style scoped>\n",
       "    .dataframe tbody tr th:only-of-type {\n",
       "        vertical-align: middle;\n",
       "    }\n",
       "\n",
       "    .dataframe tbody tr th {\n",
       "        vertical-align: top;\n",
       "    }\n",
       "\n",
       "    .dataframe thead th {\n",
       "        text-align: right;\n",
       "    }\n",
       "</style>\n",
       "<table border=\"1\" class=\"dataframe\">\n",
       "  <thead>\n",
       "    <tr style=\"text-align: right;\">\n",
       "      <th></th>\n",
       "      <th>Date</th>\n",
       "      <th>Adj Close</th>\n",
       "      <th>Close</th>\n",
       "      <th>High</th>\n",
       "      <th>Low</th>\n",
       "      <th>Open</th>\n",
       "      <th>Volume</th>\n",
       "      <th>gift_open</th>\n",
       "    </tr>\n",
       "  </thead>\n",
       "  <tbody>\n",
       "    <tr>\n",
       "      <th>961</th>\n",
       "      <td>2024-11-25</td>\n",
       "      <td>24221.900391</td>\n",
       "      <td>24221.900391</td>\n",
       "      <td>24351.550781</td>\n",
       "      <td>24135.449219</td>\n",
       "      <td>24253.550781</td>\n",
       "      <td>687200</td>\n",
       "      <td>NaN</td>\n",
       "    </tr>\n",
       "    <tr>\n",
       "      <th>962</th>\n",
       "      <td>2024-11-26</td>\n",
       "      <td>24194.500000</td>\n",
       "      <td>24194.500000</td>\n",
       "      <td>24343.300781</td>\n",
       "      <td>24125.400391</td>\n",
       "      <td>24343.300781</td>\n",
       "      <td>230700</td>\n",
       "      <td>NaN</td>\n",
       "    </tr>\n",
       "    <tr>\n",
       "      <th>963</th>\n",
       "      <td>2024-11-27</td>\n",
       "      <td>24274.900391</td>\n",
       "      <td>24274.900391</td>\n",
       "      <td>24354.550781</td>\n",
       "      <td>24145.650391</td>\n",
       "      <td>24204.800781</td>\n",
       "      <td>295000</td>\n",
       "      <td>NaN</td>\n",
       "    </tr>\n",
       "    <tr>\n",
       "      <th>964</th>\n",
       "      <td>2024-11-28</td>\n",
       "      <td>23914.150391</td>\n",
       "      <td>23914.150391</td>\n",
       "      <td>24345.750000</td>\n",
       "      <td>23873.349609</td>\n",
       "      <td>24274.150391</td>\n",
       "      <td>366700</td>\n",
       "      <td>NaN</td>\n",
       "    </tr>\n",
       "    <tr>\n",
       "      <th>965</th>\n",
       "      <td>2024-11-29</td>\n",
       "      <td>24131.099609</td>\n",
       "      <td>24131.099609</td>\n",
       "      <td>24188.449219</td>\n",
       "      <td>23927.150391</td>\n",
       "      <td>23927.150391</td>\n",
       "      <td>282100</td>\n",
       "      <td>NaN</td>\n",
       "    </tr>\n",
       "  </tbody>\n",
       "</table>\n",
       "</div>"
      ],
      "text/plain": [
       "          Date     Adj Close         Close          High           Low  \\\n",
       "961 2024-11-25  24221.900391  24221.900391  24351.550781  24135.449219   \n",
       "962 2024-11-26  24194.500000  24194.500000  24343.300781  24125.400391   \n",
       "963 2024-11-27  24274.900391  24274.900391  24354.550781  24145.650391   \n",
       "964 2024-11-28  23914.150391  23914.150391  24345.750000  23873.349609   \n",
       "965 2024-11-29  24131.099609  24131.099609  24188.449219  23927.150391   \n",
       "\n",
       "             Open  Volume  gift_open  \n",
       "961  24253.550781  687200        NaN  \n",
       "962  24343.300781  230700        NaN  \n",
       "963  24204.800781  295000        NaN  \n",
       "964  24274.150391  366700        NaN  \n",
       "965  23927.150391  282100        NaN  "
      ]
     },
     "execution_count": 79,
     "metadata": {},
     "output_type": "execute_result"
    }
   ],
   "source": [
    "df_train_all['Date'] = pd.to_datetime(df_train_all['Date'], format='%Y-%m-%d')\n",
    "\n",
    "df_train_all         = df_train_all.merge(df_sgx, how = 'left', on = 'Date' )\n",
    "df_train_all.tail()\n"
   ]
  },
  {
   "cell_type": "markdown",
   "id": "0d9f2564",
   "metadata": {},
   "source": [
    "## Feature engineering"
   ]
  },
  {
   "cell_type": "code",
   "execution_count": 80,
   "id": "d7b910f6",
   "metadata": {},
   "outputs": [],
   "source": [
    "df_train_all['10DMA'] =  df_train_all['Adj Close'].rolling(window=10).mean()\n",
    "df_train_all['30DMA'] =  df_train_all['Adj Close'].rolling(window=30).mean()\n",
    "df_train_all['100DMA'] =  df_train_all['Adj Close'].rolling(window=100).mean()\n",
    "\n",
    "df_train_all.dropna(subset=['100DMA'], inplace=True)"
   ]
  },
  {
   "cell_type": "code",
   "execution_count": 81,
   "id": "f08a347c",
   "metadata": {},
   "outputs": [],
   "source": [
    "\n",
    "def is_last_thursday(date):\n",
    "    year = date.year\n",
    "    month = date.month\n",
    "    \n",
    "    last_day = calendar.monthrange(year, month)[1]\n",
    "    last_date = datetime(year, month, last_day)\n",
    "    last_day_weekday = last_date.weekday()\n",
    "    days_since_last_thursday = (last_day_weekday - calendar.THURSDAY) % 7\n",
    "    last_thursday_date = last_date - timedelta(days=days_since_last_thursday)\n",
    "    \n",
    "    return 1 if date.date() == last_thursday_date.date() else 0\n",
    "\n",
    "\n"
   ]
  },
  {
   "cell_type": "code",
   "execution_count": 82,
   "id": "53a2d268",
   "metadata": {},
   "outputs": [],
   "source": [
    "def calculate_rsi(data, window=14):\n",
    "    delta = data['Close'].diff(1)  # Daily changes\n",
    "    gain = delta.where(delta > 0, 0)\n",
    "    loss = -delta.where(delta < 0, 0)\n",
    "    \n",
    "    avg_gain = gain.rolling(window=window, min_periods=1).mean()\n",
    "    avg_loss = loss.rolling(window=window, min_periods=1).mean()\n",
    "    \n",
    "    rs = avg_gain / avg_loss\n",
    "    rsi = 100 - (100 / (1 + rs))\n",
    "    return rsi\n",
    "\n",
    "df_train_all['RSI'] = calculate_rsi(df_train_all)\n"
   ]
  },
  {
   "cell_type": "code",
   "execution_count": 83,
   "id": "eb96549a",
   "metadata": {},
   "outputs": [],
   "source": [
    "def calculate_macd(data, short_window=12, long_window=26, signal_window=9):\n",
    "    short_ema = data['Close'].ewm(span=short_window, adjust=False).mean()\n",
    "    long_ema = data['Close'].ewm(span=long_window, adjust=False).mean()\n",
    "    macd = short_ema - long_ema\n",
    "    signal = macd.ewm(span=signal_window, adjust=False).mean()\n",
    "    return macd, signal\n",
    "\n",
    "df_train_all['MACD'], df_train_all['Signal_Line'] = calculate_macd(df_train_all)\n"
   ]
  },
  {
   "cell_type": "code",
   "execution_count": 84,
   "id": "9a2e7fb0",
   "metadata": {},
   "outputs": [],
   "source": [
    "def calculate_bollinger_bands(data, window=20, num_std_dev=2):\n",
    "    sma = data['Close'].rolling(window=window).mean()\n",
    "    std = data['Close'].rolling(window=window).std()\n",
    "    upper_band = sma + (num_std_dev * std)\n",
    "    lower_band = sma - (num_std_dev * std)\n",
    "    return sma, upper_band, lower_band\n",
    "\n",
    "df_train_all['SMA'], df_train_all['Upper_Band'], df_train_all['Lower_Band'] = calculate_bollinger_bands(df_train_all)\n"
   ]
  },
  {
   "cell_type": "code",
   "execution_count": 85,
   "id": "f27dd56e",
   "metadata": {},
   "outputs": [],
   "source": [
    "def calculate_obv(data):\n",
    "    obv = [0]  # Initialize OBV with the first value as 0\n",
    "    for i in range(1, len(data)):\n",
    "        if data['Close'].iloc[i] > data['Close'].iloc[i - 1]:\n",
    "            obv.append(obv[-1] + data['Volume'].iloc[i])\n",
    "        elif data['Close'].iloc[i] < data['Close'].iloc[i - 1]:\n",
    "            obv.append(obv[-1] - data['Volume'].iloc[i])\n",
    "        else:\n",
    "            obv.append(obv[-1])\n",
    "    return pd.Series(obv, index=data.index)  # Convert to a pandas Series\n",
    "\n",
    "df_train_all['OBV'] = calculate_obv(df_train_all)\n",
    "\n"
   ]
  },
  {
   "cell_type": "code",
   "execution_count": 86,
   "id": "1a0e5bf7",
   "metadata": {},
   "outputs": [
    {
     "data": {
      "text/plain": [
       "Index(['Date', 'Adj Close', 'Close', 'High', 'Low', 'Open', 'Volume',\n",
       "       'gift_open', '10DMA', '30DMA', '100DMA', 'RSI', 'MACD', 'Signal_Line',\n",
       "       'SMA', 'Upper_Band', 'Lower_Band', 'OBV'],\n",
       "      dtype='object')"
      ]
     },
     "execution_count": 86,
     "metadata": {},
     "output_type": "execute_result"
    }
   ],
   "source": [
    "df_train_all.columns"
   ]
  },
  {
   "cell_type": "code",
   "execution_count": 87,
   "id": "9fa9d90f",
   "metadata": {},
   "outputs": [],
   "source": [
    "df_train_all['Date'] = pd.to_datetime(df_train_all['Date'])\n",
    "\n",
    "df_train_all['day'] = df_train_all['Date'].dt.strftime(\"%A\")\n",
    "le_day = LabelEncoder()\n",
    "df_train_all['day'] = le_day.fit_transform(df_train_all['day'])\n",
    "\n",
    "df_train_all['date_no'] = df_train_all['Date'].dt.day\n",
    "df_train_all['month'] = df_train_all['Date'].dt.month\n",
    "df_train_all['year'] = df_train_all['Date'].dt.year\n",
    "\n",
    "df_train_all['opt_exp'] = df_train_all['Date'].apply(is_last_thursday)\n",
    "df_train_all['year'] = df_train_all['year'] - df_train_all['year'].min()\n"
   ]
  },
  {
   "cell_type": "code",
   "execution_count": 88,
   "id": "afaa0eda",
   "metadata": {},
   "outputs": [],
   "source": [
    "df_train_all['next_close'] = df_train_all['Close'].shift(-1)\n",
    "df_train_all['target'] = df_train_all['next_close'] - df_train_all['Close']\n",
    "df_train_all.dropna(subset=['target'], inplace=True)"
   ]
  },
  {
   "cell_type": "code",
   "execution_count": 89,
   "id": "fa00248c",
   "metadata": {},
   "outputs": [
    {
     "data": {
      "image/png": "[encoded data removed]",
      "text/plain": [
       "<Figure size 1000x600 with 1 Axes>"
      ]
     },
     "metadata": {},
     "output_type": "display_data"
    }
   ],
   "source": [
    "\n",
    "\n",
    "# Plot histogram\n",
    "plt.figure(figsize=(10, 6))\n",
    "sns.histplot(df_train_all['target'].dropna(), bins=30, kde=True, color='blue', alpha=0.6)\n",
    "plt.title('Histogram of tomorrow price minus todays', fontsize=16)\n",
    "plt.xlabel('Change', fontsize=14)\n",
    "plt.ylabel('Frequency', fontsize=14)\n",
    "plt.show()\n"
   ]
  },
  {
   "cell_type": "code",
   "execution_count": 90,
   "id": "f2b96cac",
   "metadata": {},
   "outputs": [
    {
     "name": "stdout",
     "output_type": "stream",
     "text": [
      "Skewness of target: -0.795173405948854\n"
     ]
    }
   ],
   "source": [
    "skewness = df_train_all['target'].skew()\n",
    "print(f\"Skewness of target: {skewness}\")\n"
   ]
  },
  {
   "cell_type": "markdown",
   "id": "6b51d8c1",
   "metadata": {},
   "source": [
    "### Show how min max transform will preserve the original distribution"
   ]
  },
  {
   "cell_type": "code",
   "execution_count": 91,
   "id": "bfea2607",
   "metadata": {},
   "outputs": [
    {
     "data": {
      "image/png": "[encoded data removed]",
      "text/plain": [
       "<Figure size 1000x600 with 1 Axes>"
      ]
     },
     "metadata": {},
     "output_type": "display_data"
    }
   ],
   "source": [
    "mm = MinMaxScaler()\n",
    "ss = mm.fit_transform(df_train_all[['target']])\n",
    "\n",
    "# Plot histogram\n",
    "plt.figure(figsize=(10, 6))\n",
    "sns.histplot(ss, bins=30, kde=True, color='blue', alpha=0.6)\n",
    "plt.title('Histogram of tomorrow price minus todays with scaling', fontsize=16)\n",
    "plt.xlabel('Change', fontsize=14)\n",
    "plt.ylabel('Frequency', fontsize=14)\n",
    "plt.show()"
   ]
  },
  {
   "cell_type": "code",
   "execution_count": 92,
   "id": "cb6d0c97",
   "metadata": {},
   "outputs": [
    {
     "data": {
      "image/png": "[encoded data removed]",
      "text/plain": [
       "<Figure size 1000x600 with 1 Axes>"
      ]
     },
     "metadata": {},
     "output_type": "display_data"
    }
   ],
   "source": [
    "ss_inv = mm.inverse_transform(ss)\n",
    "\n",
    "# Plot histogram\n",
    "plt.figure(figsize=(10, 6))\n",
    "sns.histplot(ss_inv, bins=30, kde=True, color='blue', alpha=0.6)\n",
    "plt.title('Histogram of tomorrow price minus todays inverse scaling', fontsize=16)\n",
    "plt.xlabel('Change', fontsize=14)\n",
    "plt.ylabel('Frequency', fontsize=14)\n",
    "plt.show()"
   ]
  },
  {
   "cell_type": "markdown",
   "id": "d4f105e5",
   "metadata": {},
   "source": [
    "### Back on route"
   ]
  },
  {
   "cell_type": "code",
   "execution_count": 93,
   "id": "570cf3c3",
   "metadata": {},
   "outputs": [
    {
     "data": {
      "text/html": [
       "<div>\n",
       "<style scoped>\n",
       "    .dataframe tbody tr th:only-of-type {\n",
       "        vertical-align: middle;\n",
       "    }\n",
       "\n",
       "    .dataframe tbody tr th {\n",
       "        vertical-align: top;\n",
       "    }\n",
       "\n",
       "    .dataframe thead th {\n",
       "        text-align: right;\n",
       "    }\n",
       "</style>\n",
       "<table border=\"1\" class=\"dataframe\">\n",
       "  <thead>\n",
       "    <tr style=\"text-align: right;\">\n",
       "      <th></th>\n",
       "      <th>Date</th>\n",
       "      <th>Adj Close</th>\n",
       "      <th>Close</th>\n",
       "      <th>High</th>\n",
       "      <th>Low</th>\n",
       "      <th>Open</th>\n",
       "      <th>Volume</th>\n",
       "      <th>gift_open</th>\n",
       "      <th>10DMA</th>\n",
       "      <th>30DMA</th>\n",
       "      <th>100DMA</th>\n",
       "      <th>RSI</th>\n",
       "      <th>MACD</th>\n",
       "      <th>Signal_Line</th>\n",
       "      <th>SMA</th>\n",
       "      <th>Upper_Band</th>\n",
       "      <th>Lower_Band</th>\n",
       "      <th>OBV</th>\n",
       "      <th>day</th>\n",
       "      <th>date_no</th>\n",
       "      <th>month</th>\n",
       "      <th>year</th>\n",
       "      <th>opt_exp</th>\n",
       "      <th>next_close</th>\n",
       "      <th>target</th>\n",
       "    </tr>\n",
       "  </thead>\n",
       "  <tbody>\n",
       "    <tr>\n",
       "      <th>99</th>\n",
       "      <td>2021-05-31</td>\n",
       "      <td>15582.799805</td>\n",
       "      <td>15582.799805</td>\n",
       "      <td>15606.349609</td>\n",
       "      <td>15374.000000</td>\n",
       "      <td>15437.750000</td>\n",
       "      <td>436000</td>\n",
       "      <td>15635.35</td>\n",
       "      <td>15228.350000</td>\n",
       "      <td>14840.676660</td>\n",
       "      <td>14736.996982</td>\n",
       "      <td>NaN</td>\n",
       "      <td>0.000000</td>\n",
       "      <td>0.000000</td>\n",
       "      <td>NaN</td>\n",
       "      <td>NaN</td>\n",
       "      <td>NaN</td>\n",
       "      <td>0</td>\n",
       "      <td>1</td>\n",
       "      <td>31</td>\n",
       "      <td>5</td>\n",
       "      <td>0</td>\n",
       "      <td>0</td>\n",
       "      <td>15574.849609</td>\n",
       "      <td>-7.950195</td>\n",
       "    </tr>\n",
       "    <tr>\n",
       "      <th>100</th>\n",
       "      <td>2021-06-01</td>\n",
       "      <td>15574.849609</td>\n",
       "      <td>15574.849609</td>\n",
       "      <td>15660.750000</td>\n",
       "      <td>15528.299805</td>\n",
       "      <td>15629.650391</td>\n",
       "      <td>409600</td>\n",
       "      <td>15567.10</td>\n",
       "      <td>15275.025000</td>\n",
       "      <td>14872.576660</td>\n",
       "      <td>14752.560479</td>\n",
       "      <td>0.000000</td>\n",
       "      <td>-0.634204</td>\n",
       "      <td>-0.126841</td>\n",
       "      <td>NaN</td>\n",
       "      <td>NaN</td>\n",
       "      <td>NaN</td>\n",
       "      <td>-409600</td>\n",
       "      <td>3</td>\n",
       "      <td>1</td>\n",
       "      <td>6</td>\n",
       "      <td>0</td>\n",
       "      <td>0</td>\n",
       "      <td>15576.200195</td>\n",
       "      <td>1.350586</td>\n",
       "    </tr>\n",
       "    <tr>\n",
       "      <th>101</th>\n",
       "      <td>2021-06-02</td>\n",
       "      <td>15576.200195</td>\n",
       "      <td>15576.200195</td>\n",
       "      <td>15597.450195</td>\n",
       "      <td>15459.849609</td>\n",
       "      <td>15520.349609</td>\n",
       "      <td>428600</td>\n",
       "      <td>15709.85</td>\n",
       "      <td>15329.629980</td>\n",
       "      <td>14913.134993</td>\n",
       "      <td>14766.993477</td>\n",
       "      <td>14.521210</td>\n",
       "      <td>-1.016120</td>\n",
       "      <td>-0.304697</td>\n",
       "      <td>NaN</td>\n",
       "      <td>NaN</td>\n",
       "      <td>NaN</td>\n",
       "      <td>19000</td>\n",
       "      <td>4</td>\n",
       "      <td>2</td>\n",
       "      <td>6</td>\n",
       "      <td>0</td>\n",
       "      <td>0</td>\n",
       "      <td>15690.349609</td>\n",
       "      <td>114.149414</td>\n",
       "    </tr>\n",
       "    <tr>\n",
       "      <th>102</th>\n",
       "      <td>2021-06-03</td>\n",
       "      <td>15690.349609</td>\n",
       "      <td>15690.349609</td>\n",
       "      <td>15705.099609</td>\n",
       "      <td>15611.000000</td>\n",
       "      <td>15655.549805</td>\n",
       "      <td>410200</td>\n",
       "      <td>15687.40</td>\n",
       "      <td>15408.059961</td>\n",
       "      <td>14959.599967</td>\n",
       "      <td>14781.901973</td>\n",
       "      <td>93.559998</td>\n",
       "      <td>7.802173</td>\n",
       "      <td>1.316677</td>\n",
       "      <td>NaN</td>\n",
       "      <td>NaN</td>\n",
       "      <td>NaN</td>\n",
       "      <td>429200</td>\n",
       "      <td>2</td>\n",
       "      <td>3</td>\n",
       "      <td>6</td>\n",
       "      <td>0</td>\n",
       "      <td>0</td>\n",
       "      <td>15670.250000</td>\n",
       "      <td>-20.099609</td>\n",
       "    </tr>\n",
       "    <tr>\n",
       "      <th>103</th>\n",
       "      <td>2021-06-04</td>\n",
       "      <td>15670.250000</td>\n",
       "      <td>15670.250000</td>\n",
       "      <td>15733.599609</td>\n",
       "      <td>15622.349609</td>\n",
       "      <td>15712.500000</td>\n",
       "      <td>414200</td>\n",
       "      <td>15728.45</td>\n",
       "      <td>15457.554980</td>\n",
       "      <td>15001.736621</td>\n",
       "      <td>14797.141973</td>\n",
       "      <td>80.459880</td>\n",
       "      <td>13.018791</td>\n",
       "      <td>3.657100</td>\n",
       "      <td>NaN</td>\n",
       "      <td>NaN</td>\n",
       "      <td>NaN</td>\n",
       "      <td>15000</td>\n",
       "      <td>0</td>\n",
       "      <td>4</td>\n",
       "      <td>6</td>\n",
       "      <td>0</td>\n",
       "      <td>0</td>\n",
       "      <td>15751.650391</td>\n",
       "      <td>81.400391</td>\n",
       "    </tr>\n",
       "  </tbody>\n",
       "</table>\n",
       "</div>"
      ],
      "text/plain": [
       "          Date     Adj Close         Close          High           Low  \\\n",
       "99  2021-05-31  15582.799805  15582.799805  15606.349609  15374.000000   \n",
       "100 2021-06-01  15574.849609  15574.849609  15660.750000  15528.299805   \n",
       "101 2021-06-02  15576.200195  15576.200195  15597.450195  15459.849609   \n",
       "102 2021-06-03  15690.349609  15690.349609  15705.099609  15611.000000   \n",
       "103 2021-06-04  15670.250000  15670.250000  15733.599609  15622.349609   \n",
       "\n",
       "             Open  Volume  gift_open         10DMA         30DMA  \\\n",
       "99   15437.750000  436000   15635.35  15228.350000  14840.676660   \n",
       "100  15629.650391  409600   15567.10  15275.025000  14872.576660   \n",
       "101  15520.349609  428600   15709.85  15329.629980  14913.134993   \n",
       "102  15655.549805  410200   15687.40  15408.059961  14959.599967   \n",
       "103  15712.500000  414200   15728.45  15457.554980  15001.736621   \n",
       "\n",
       "           100DMA        RSI       MACD  Signal_Line  SMA  Upper_Band  \\\n",
       "99   14736.996982        NaN   0.000000     0.000000  NaN         NaN   \n",
       "100  14752.560479   0.000000  -0.634204    -0.126841  NaN         NaN   \n",
       "101  14766.993477  14.521210  -1.016120    -0.304697  NaN         NaN   \n",
       "102  14781.901973  93.559998   7.802173     1.316677  NaN         NaN   \n",
       "103  14797.141973  80.459880  13.018791     3.657100  NaN         NaN   \n",
       "\n",
       "     Lower_Band     OBV  day  date_no  month  year  opt_exp    next_close  \\\n",
       "99          NaN       0    1       31      5     0        0  15574.849609   \n",
       "100         NaN -409600    3        1      6     0        0  15576.200195   \n",
       "101         NaN   19000    4        2      6     0        0  15690.349609   \n",
       "102         NaN  429200    2        3      6     0        0  15670.250000   \n",
       "103         NaN   15000    0        4      6     0        0  15751.650391   \n",
       "\n",
       "         target  \n",
       "99    -7.950195  \n",
       "100    1.350586  \n",
       "101  114.149414  \n",
       "102  -20.099609  \n",
       "103   81.400391  "
      ]
     },
     "execution_count": 93,
     "metadata": {},
     "output_type": "execute_result"
    }
   ],
   "source": [
    "df_train_all.head()"
   ]
  },
  {
   "cell_type": "code",
   "execution_count": 94,
   "id": "5671bac6",
   "metadata": {},
   "outputs": [],
   "source": [
    "df_train_all['prev_close'] = df_train_all['Close'].shift(1)\n",
    "\n",
    "df_train_all['pct_change_in_a_day'] = df_train_all['Close']/df_train_all['Open']  \n",
    "df_train_all['act_change_in_a_day'] = df_train_all['Close']-df_train_all['Open']\n",
    "df_train_all['opening_gap'] = df_train_all['Open'] - df_train_all['prev_close'] \n",
    "df_train_all['daily_move'] = df_train_all['High'] - df_train_all['Low']\n",
    "df_train_all['range_avg'] =  df_train_all['daily_move'].rolling(window=5).mean() #average of last 5 day movement\n",
    "df_train_all['change_avg'] =  df_train_all['act_change_in_a_day'].rolling(window=5).mean()\n"
   ]
  },
  {
   "cell_type": "code",
   "execution_count": 95,
   "id": "ac80b49e",
   "metadata": {},
   "outputs": [
    {
     "data": {
      "text/html": [
       "<div>\n",
       "<style scoped>\n",
       "    .dataframe tbody tr th:only-of-type {\n",
       "        vertical-align: middle;\n",
       "    }\n",
       "\n",
       "    .dataframe tbody tr th {\n",
       "        vertical-align: top;\n",
       "    }\n",
       "\n",
       "    .dataframe thead th {\n",
       "        text-align: right;\n",
       "    }\n",
       "</style>\n",
       "<table border=\"1\" class=\"dataframe\">\n",
       "  <thead>\n",
       "    <tr style=\"text-align: right;\">\n",
       "      <th></th>\n",
       "      <th>Date</th>\n",
       "      <th>Adj Close</th>\n",
       "      <th>Close</th>\n",
       "      <th>High</th>\n",
       "      <th>Low</th>\n",
       "      <th>Open</th>\n",
       "      <th>Volume</th>\n",
       "      <th>gift_open</th>\n",
       "      <th>10DMA</th>\n",
       "      <th>30DMA</th>\n",
       "      <th>100DMA</th>\n",
       "      <th>RSI</th>\n",
       "      <th>MACD</th>\n",
       "      <th>Signal_Line</th>\n",
       "      <th>SMA</th>\n",
       "      <th>Upper_Band</th>\n",
       "      <th>Lower_Band</th>\n",
       "      <th>OBV</th>\n",
       "      <th>day</th>\n",
       "      <th>date_no</th>\n",
       "      <th>month</th>\n",
       "      <th>year</th>\n",
       "      <th>opt_exp</th>\n",
       "      <th>next_close</th>\n",
       "      <th>target</th>\n",
       "      <th>prev_close</th>\n",
       "      <th>pct_change_in_a_day</th>\n",
       "      <th>act_change_in_a_day</th>\n",
       "      <th>opening_gap</th>\n",
       "      <th>daily_move</th>\n",
       "      <th>range_avg</th>\n",
       "      <th>change_avg</th>\n",
       "    </tr>\n",
       "  </thead>\n",
       "  <tbody>\n",
       "    <tr>\n",
       "      <th>960</th>\n",
       "      <td>2024-11-22</td>\n",
       "      <td>23907.250000</td>\n",
       "      <td>23907.250000</td>\n",
       "      <td>23956.099609</td>\n",
       "      <td>23359.000000</td>\n",
       "      <td>23411.800781</td>\n",
       "      <td>367600</td>\n",
       "      <td>NaN</td>\n",
       "      <td>23769.350000</td>\n",
       "      <td>24301.161654</td>\n",
       "      <td>24705.270957</td>\n",
       "      <td>44.515388</td>\n",
       "      <td>-328.951834</td>\n",
       "      <td>-311.061077</td>\n",
       "      <td>24031.147559</td>\n",
       "      <td>24757.500343</td>\n",
       "      <td>23304.794774</td>\n",
       "      <td>17168200</td>\n",
       "      <td>0</td>\n",
       "      <td>22</td>\n",
       "      <td>11</td>\n",
       "      <td>3</td>\n",
       "      <td>0</td>\n",
       "      <td>24221.900391</td>\n",
       "      <td>314.650391</td>\n",
       "      <td>23349.900391</td>\n",
       "      <td>1.021162</td>\n",
       "      <td>495.449219</td>\n",
       "      <td>61.900391</td>\n",
       "      <td>597.099609</td>\n",
       "      <td>321.050000</td>\n",
       "      <td>36.979687</td>\n",
       "    </tr>\n",
       "    <tr>\n",
       "      <th>961</th>\n",
       "      <td>2024-11-25</td>\n",
       "      <td>24221.900391</td>\n",
       "      <td>24221.900391</td>\n",
       "      <td>24351.550781</td>\n",
       "      <td>24135.449219</td>\n",
       "      <td>24253.550781</td>\n",
       "      <td>687200</td>\n",
       "      <td>NaN</td>\n",
       "      <td>23771.605078</td>\n",
       "      <td>24275.276693</td>\n",
       "      <td>24706.070469</td>\n",
       "      <td>48.594576</td>\n",
       "      <td>-272.356243</td>\n",
       "      <td>-303.320110</td>\n",
       "      <td>24022.272559</td>\n",
       "      <td>24733.867643</td>\n",
       "      <td>23310.677474</td>\n",
       "      <td>17855400</td>\n",
       "      <td>1</td>\n",
       "      <td>25</td>\n",
       "      <td>11</td>\n",
       "      <td>3</td>\n",
       "      <td>0</td>\n",
       "      <td>24194.500000</td>\n",
       "      <td>-27.400391</td>\n",
       "      <td>23907.250000</td>\n",
       "      <td>0.998695</td>\n",
       "      <td>-31.650391</td>\n",
       "      <td>346.300781</td>\n",
       "      <td>216.101562</td>\n",
       "      <td>325.920313</td>\n",
       "      <td>32.539844</td>\n",
       "    </tr>\n",
       "    <tr>\n",
       "      <th>962</th>\n",
       "      <td>2024-11-26</td>\n",
       "      <td>24194.500000</td>\n",
       "      <td>24194.500000</td>\n",
       "      <td>24343.300781</td>\n",
       "      <td>24125.400391</td>\n",
       "      <td>24343.300781</td>\n",
       "      <td>230700</td>\n",
       "      <td>NaN</td>\n",
       "      <td>23776.235156</td>\n",
       "      <td>24249.618359</td>\n",
       "      <td>24706.776973</td>\n",
       "      <td>53.755216</td>\n",
       "      <td>-227.096979</td>\n",
       "      <td>-288.075484</td>\n",
       "      <td>24022.957520</td>\n",
       "      <td>24735.221167</td>\n",
       "      <td>23310.693872</td>\n",
       "      <td>17624700</td>\n",
       "      <td>3</td>\n",
       "      <td>26</td>\n",
       "      <td>11</td>\n",
       "      <td>3</td>\n",
       "      <td>0</td>\n",
       "      <td>24274.900391</td>\n",
       "      <td>80.400391</td>\n",
       "      <td>24221.900391</td>\n",
       "      <td>0.993887</td>\n",
       "      <td>-148.800781</td>\n",
       "      <td>121.400391</td>\n",
       "      <td>217.900391</td>\n",
       "      <td>318.220312</td>\n",
       "      <td>33.079687</td>\n",
       "    </tr>\n",
       "    <tr>\n",
       "      <th>963</th>\n",
       "      <td>2024-11-27</td>\n",
       "      <td>24274.900391</td>\n",
       "      <td>24274.900391</td>\n",
       "      <td>24354.550781</td>\n",
       "      <td>24145.650391</td>\n",
       "      <td>24204.800781</td>\n",
       "      <td>295000</td>\n",
       "      <td>NaN</td>\n",
       "      <td>23789.595117</td>\n",
       "      <td>24221.183398</td>\n",
       "      <td>24706.660977</td>\n",
       "      <td>51.225083</td>\n",
       "      <td>-182.635736</td>\n",
       "      <td>-266.987534</td>\n",
       "      <td>24019.745020</td>\n",
       "      <td>24726.562724</td>\n",
       "      <td>23312.927316</td>\n",
       "      <td>17919700</td>\n",
       "      <td>4</td>\n",
       "      <td>27</td>\n",
       "      <td>11</td>\n",
       "      <td>3</td>\n",
       "      <td>0</td>\n",
       "      <td>23914.150391</td>\n",
       "      <td>-360.750000</td>\n",
       "      <td>24194.500000</td>\n",
       "      <td>1.002896</td>\n",
       "      <td>70.099609</td>\n",
       "      <td>10.300781</td>\n",
       "      <td>208.900391</td>\n",
       "      <td>296.830469</td>\n",
       "      <td>49.309766</td>\n",
       "    </tr>\n",
       "    <tr>\n",
       "      <th>964</th>\n",
       "      <td>2024-11-28</td>\n",
       "      <td>23914.150391</td>\n",
       "      <td>23914.150391</td>\n",
       "      <td>24345.750000</td>\n",
       "      <td>23873.349609</td>\n",
       "      <td>24274.150391</td>\n",
       "      <td>366700</td>\n",
       "      <td>NaN</td>\n",
       "      <td>23792.665234</td>\n",
       "      <td>24183.076758</td>\n",
       "      <td>24702.780977</td>\n",
       "      <td>39.057631</td>\n",
       "      <td>-174.497887</td>\n",
       "      <td>-248.489605</td>\n",
       "      <td>23992.110059</td>\n",
       "      <td>24667.860309</td>\n",
       "      <td>23316.359808</td>\n",
       "      <td>17553000</td>\n",
       "      <td>2</td>\n",
       "      <td>28</td>\n",
       "      <td>11</td>\n",
       "      <td>3</td>\n",
       "      <td>1</td>\n",
       "      <td>24131.099609</td>\n",
       "      <td>216.949219</td>\n",
       "      <td>24274.900391</td>\n",
       "      <td>0.985169</td>\n",
       "      <td>-360.000000</td>\n",
       "      <td>-0.750000</td>\n",
       "      <td>472.400391</td>\n",
       "      <td>342.480469</td>\n",
       "      <td>5.019531</td>\n",
       "    </tr>\n",
       "  </tbody>\n",
       "</table>\n",
       "</div>"
      ],
      "text/plain": [
       "          Date     Adj Close         Close          High           Low  \\\n",
       "960 2024-11-22  23907.250000  23907.250000  23956.099609  23359.000000   \n",
       "961 2024-11-25  24221.900391  24221.900391  24351.550781  24135.449219   \n",
       "962 2024-11-26  24194.500000  24194.500000  24343.300781  24125.400391   \n",
       "963 2024-11-27  24274.900391  24274.900391  24354.550781  24145.650391   \n",
       "964 2024-11-28  23914.150391  23914.150391  24345.750000  23873.349609   \n",
       "\n",
       "             Open  Volume  gift_open         10DMA         30DMA  \\\n",
       "960  23411.800781  367600        NaN  23769.350000  24301.161654   \n",
       "961  24253.550781  687200        NaN  23771.605078  24275.276693   \n",
       "962  24343.300781  230700        NaN  23776.235156  24249.618359   \n",
       "963  24204.800781  295000        NaN  23789.595117  24221.183398   \n",
       "964  24274.150391  366700        NaN  23792.665234  24183.076758   \n",
       "\n",
       "           100DMA        RSI        MACD  Signal_Line           SMA  \\\n",
       "960  24705.270957  44.515388 -328.951834  -311.061077  24031.147559   \n",
       "961  24706.070469  48.594576 -272.356243  -303.320110  24022.272559   \n",
       "962  24706.776973  53.755216 -227.096979  -288.075484  24022.957520   \n",
       "963  24706.660977  51.225083 -182.635736  -266.987534  24019.745020   \n",
       "964  24702.780977  39.057631 -174.497887  -248.489605  23992.110059   \n",
       "\n",
       "       Upper_Band    Lower_Band       OBV  day  date_no  month  year  opt_exp  \\\n",
       "960  24757.500343  23304.794774  17168200    0       22     11     3        0   \n",
       "961  24733.867643  23310.677474  17855400    1       25     11     3        0   \n",
       "962  24735.221167  23310.693872  17624700    3       26     11     3        0   \n",
       "963  24726.562724  23312.927316  17919700    4       27     11     3        0   \n",
       "964  24667.860309  23316.359808  17553000    2       28     11     3        1   \n",
       "\n",
       "       next_close      target    prev_close  pct_change_in_a_day  \\\n",
       "960  24221.900391  314.650391  23349.900391             1.021162   \n",
       "961  24194.500000  -27.400391  23907.250000             0.998695   \n",
       "962  24274.900391   80.400391  24221.900391             0.993887   \n",
       "963  23914.150391 -360.750000  24194.500000             1.002896   \n",
       "964  24131.099609  216.949219  24274.900391             0.985169   \n",
       "\n",
       "     act_change_in_a_day  opening_gap  daily_move   range_avg  change_avg  \n",
       "960           495.449219    61.900391  597.099609  321.050000   36.979687  \n",
       "961           -31.650391   346.300781  216.101562  325.920313   32.539844  \n",
       "962          -148.800781   121.400391  217.900391  318.220312   33.079687  \n",
       "963            70.099609    10.300781  208.900391  296.830469   49.309766  \n",
       "964          -360.000000    -0.750000  472.400391  342.480469    5.019531  "
      ]
     },
     "execution_count": 95,
     "metadata": {},
     "output_type": "execute_result"
    }
   ],
   "source": [
    "df_train_all.tail()"
   ]
  },
  {
   "cell_type": "code",
   "execution_count": 96,
   "id": "651ad555",
   "metadata": {},
   "outputs": [],
   "source": [
    "split_date   = '2024-03-31'\n",
    "\n",
    "df_train = df_train_all[df_train_all['Date']<=  split_date] #keeping 4 years for training \n",
    "df_test  = df_train_all[df_train_all['Date']>  split_date] #keeping last year for testing"
   ]
  },
  {
   "cell_type": "code",
   "execution_count": 97,
   "id": "effa729b",
   "metadata": {},
   "outputs": [],
   "source": [
    "df_lstm_results  = pd.DataFrame()"
   ]
  },
  {
   "cell_type": "code",
   "execution_count": 98,
   "id": "d0f69434",
   "metadata": {},
   "outputs": [
    {
     "name": "stdout",
     "output_type": "stream",
     "text": [
      "(702, 32)\n"
     ]
    }
   ],
   "source": [
    "df_train.tail()\n",
    "print(df_train.shape)"
   ]
  },
  {
   "cell_type": "code",
   "execution_count": 99,
   "id": "23bcf14f",
   "metadata": {},
   "outputs": [
    {
     "name": "stderr",
     "output_type": "stream",
     "text": [
      "/var/folders/ws/v15jk6j56z90j1tz393rgysw0000gn/T/ipykernel_62486/637183717.py:1: SettingWithCopyWarning: \n",
      "A value is trying to be set on a copy of a slice from a DataFrame\n",
      "\n",
      "See the caveats in the documentation: https://pandas.pydata.org/pandas-docs/stable/user_guide/indexing.html#returning-a-view-versus-a-copy\n",
      "  df_train.dropna(subset=['range_avg'], inplace=True)\n",
      "/var/folders/ws/v15jk6j56z90j1tz393rgysw0000gn/T/ipykernel_62486/637183717.py:2: SettingWithCopyWarning: \n",
      "A value is trying to be set on a copy of a slice from a DataFrame\n",
      "\n",
      "See the caveats in the documentation: https://pandas.pydata.org/pandas-docs/stable/user_guide/indexing.html#returning-a-view-versus-a-copy\n",
      "  df_train.dropna(subset=['gift_open'], inplace=True)\n"
     ]
    },
    {
     "data": {
      "text/plain": [
       "Index(['Date', 'Adj Close', 'Close', 'High', 'Low', 'Open', 'Volume',\n",
       "       'gift_open', '10DMA', '30DMA', '100DMA', 'RSI', 'MACD', 'Signal_Line',\n",
       "       'SMA', 'Upper_Band', 'Lower_Band', 'OBV', 'day', 'date_no', 'month',\n",
       "       'year', 'opt_exp', 'next_close', 'target', 'prev_close',\n",
       "       'pct_change_in_a_day', 'act_change_in_a_day', 'opening_gap',\n",
       "       'daily_move', 'range_avg', 'change_avg'],\n",
       "      dtype='object')"
      ]
     },
     "execution_count": 99,
     "metadata": {},
     "output_type": "execute_result"
    }
   ],
   "source": [
    "df_train.dropna(subset=['range_avg'], inplace=True)\n",
    "df_train.dropna(subset=['gift_open'], inplace=True)\n",
    "df_train.columns"
   ]
  },
  {
   "cell_type": "code",
   "execution_count": 100,
   "id": "e5fc07b1",
   "metadata": {},
   "outputs": [
    {
     "data": {
      "text/html": [
       "<div>\n",
       "<style scoped>\n",
       "    .dataframe tbody tr th:only-of-type {\n",
       "        vertical-align: middle;\n",
       "    }\n",
       "\n",
       "    .dataframe tbody tr th {\n",
       "        vertical-align: top;\n",
       "    }\n",
       "\n",
       "    .dataframe thead th {\n",
       "        text-align: right;\n",
       "    }\n",
       "</style>\n",
       "<table border=\"1\" class=\"dataframe\">\n",
       "  <thead>\n",
       "    <tr style=\"text-align: right;\">\n",
       "      <th></th>\n",
       "      <th>Close</th>\n",
       "      <th>High</th>\n",
       "      <th>Low</th>\n",
       "      <th>Open</th>\n",
       "      <th>Volume</th>\n",
       "      <th>gift_open</th>\n",
       "      <th>10DMA</th>\n",
       "      <th>30DMA</th>\n",
       "      <th>100DMA</th>\n",
       "      <th>day</th>\n",
       "      <th>date_no</th>\n",
       "      <th>pct_change_in_a_day</th>\n",
       "      <th>act_change_in_a_day</th>\n",
       "      <th>opening_gap</th>\n",
       "      <th>daily_move</th>\n",
       "      <th>range_avg</th>\n",
       "      <th>change_avg</th>\n",
       "      <th>RSI</th>\n",
       "      <th>MACD</th>\n",
       "      <th>Signal_Line</th>\n",
       "      <th>SMA</th>\n",
       "      <th>Upper_Band</th>\n",
       "      <th>Lower_Band</th>\n",
       "      <th>OBV</th>\n",
       "    </tr>\n",
       "  </thead>\n",
       "  <tbody>\n",
       "    <tr>\n",
       "      <th>118</th>\n",
       "      <td>15860.349609</td>\n",
       "      <td>15870.799805</td>\n",
       "      <td>15772.299805</td>\n",
       "      <td>15839.349609</td>\n",
       "      <td>314600</td>\n",
       "      <td>15913.75</td>\n",
       "      <td>15768.039941</td>\n",
       "      <td>15535.429948</td>\n",
       "      <td>15004.984961</td>\n",
       "      <td>0</td>\n",
       "      <td>25</td>\n",
       "      <td>1.001326</td>\n",
       "      <td>21.000000</td>\n",
       "      <td>48.899414</td>\n",
       "      <td>98.500000</td>\n",
       "      <td>161.870117</td>\n",
       "      <td>10.240234</td>\n",
       "      <td>56.143273</td>\n",
       "      <td>45.337827</td>\n",
       "      <td>40.998644</td>\n",
       "      <td>15721.952393</td>\n",
       "      <td>15895.706101</td>\n",
       "      <td>15548.198684</td>\n",
       "      <td>629300</td>\n",
       "    </tr>\n",
       "    <tr>\n",
       "      <th>119</th>\n",
       "      <td>15814.700195</td>\n",
       "      <td>15915.650391</td>\n",
       "      <td>15792.150391</td>\n",
       "      <td>15915.349609</td>\n",
       "      <td>255100</td>\n",
       "      <td>15845.70</td>\n",
       "      <td>15768.325000</td>\n",
       "      <td>15565.148275</td>\n",
       "      <td>15026.785967</td>\n",
       "      <td>1</td>\n",
       "      <td>28</td>\n",
       "      <td>0.993676</td>\n",
       "      <td>-100.649414</td>\n",
       "      <td>55.000000</td>\n",
       "      <td>123.500000</td>\n",
       "      <td>134.670117</td>\n",
       "      <td>-54.019727</td>\n",
       "      <td>54.059676</td>\n",
       "      <td>46.802536</td>\n",
       "      <td>42.159422</td>\n",
       "      <td>15733.547412</td>\n",
       "      <td>15898.952173</td>\n",
       "      <td>15568.142651</td>\n",
       "      <td>374200</td>\n",
       "    </tr>\n",
       "    <tr>\n",
       "      <th>120</th>\n",
       "      <td>15748.450195</td>\n",
       "      <td>15835.900391</td>\n",
       "      <td>15724.049805</td>\n",
       "      <td>15807.500000</td>\n",
       "      <td>360300</td>\n",
       "      <td>15830.90</td>\n",
       "      <td>15756.245020</td>\n",
       "      <td>15586.493294</td>\n",
       "      <td>15041.458467</td>\n",
       "      <td>3</td>\n",
       "      <td>29</td>\n",
       "      <td>0.996264</td>\n",
       "      <td>-59.049805</td>\n",
       "      <td>-7.200195</td>\n",
       "      <td>111.850586</td>\n",
       "      <td>128.310156</td>\n",
       "      <td>-52.279688</td>\n",
       "      <td>56.423981</td>\n",
       "      <td>42.131837</td>\n",
       "      <td>42.153905</td>\n",
       "      <td>15742.227441</td>\n",
       "      <td>15889.828778</td>\n",
       "      <td>15594.626105</td>\n",
       "      <td>13900</td>\n",
       "    </tr>\n",
       "    <tr>\n",
       "      <th>121</th>\n",
       "      <td>15721.500000</td>\n",
       "      <td>15839.099609</td>\n",
       "      <td>15708.750000</td>\n",
       "      <td>15776.900391</td>\n",
       "      <td>262400</td>\n",
       "      <td>15753.95</td>\n",
       "      <td>15751.640039</td>\n",
       "      <td>15609.538281</td>\n",
       "      <td>15052.194971</td>\n",
       "      <td>4</td>\n",
       "      <td>30</td>\n",
       "      <td>0.996489</td>\n",
       "      <td>-55.400391</td>\n",
       "      <td>28.450195</td>\n",
       "      <td>130.349609</td>\n",
       "      <td>116.580078</td>\n",
       "      <td>-28.189844</td>\n",
       "      <td>48.990495</td>\n",
       "      <td>35.842450</td>\n",
       "      <td>40.891614</td>\n",
       "      <td>15749.492432</td>\n",
       "      <td>15875.393991</td>\n",
       "      <td>15623.590872</td>\n",
       "      <td>-248500</td>\n",
       "    </tr>\n",
       "    <tr>\n",
       "      <th>122</th>\n",
       "      <td>15680.000000</td>\n",
       "      <td>15755.549805</td>\n",
       "      <td>15667.049805</td>\n",
       "      <td>15755.049805</td>\n",
       "      <td>224900</td>\n",
       "      <td>15740.10</td>\n",
       "      <td>15750.500000</td>\n",
       "      <td>15635.336621</td>\n",
       "      <td>15061.095469</td>\n",
       "      <td>2</td>\n",
       "      <td>1</td>\n",
       "      <td>0.995236</td>\n",
       "      <td>-75.049805</td>\n",
       "      <td>33.549805</td>\n",
       "      <td>88.500000</td>\n",
       "      <td>110.540039</td>\n",
       "      <td>-53.829883</td>\n",
       "      <td>42.395692</td>\n",
       "      <td>27.195865</td>\n",
       "      <td>38.152464</td>\n",
       "      <td>15748.974951</td>\n",
       "      <td>15875.980282</td>\n",
       "      <td>15621.969621</td>\n",
       "      <td>-473400</td>\n",
       "    </tr>\n",
       "  </tbody>\n",
       "</table>\n",
       "</div>"
      ],
      "text/plain": [
       "            Close          High           Low          Open  Volume  \\\n",
       "118  15860.349609  15870.799805  15772.299805  15839.349609  314600   \n",
       "119  15814.700195  15915.650391  15792.150391  15915.349609  255100   \n",
       "120  15748.450195  15835.900391  15724.049805  15807.500000  360300   \n",
       "121  15721.500000  15839.099609  15708.750000  15776.900391  262400   \n",
       "122  15680.000000  15755.549805  15667.049805  15755.049805  224900   \n",
       "\n",
       "     gift_open         10DMA         30DMA        100DMA  day  date_no  \\\n",
       "118   15913.75  15768.039941  15535.429948  15004.984961    0       25   \n",
       "119   15845.70  15768.325000  15565.148275  15026.785967    1       28   \n",
       "120   15830.90  15756.245020  15586.493294  15041.458467    3       29   \n",
       "121   15753.95  15751.640039  15609.538281  15052.194971    4       30   \n",
       "122   15740.10  15750.500000  15635.336621  15061.095469    2        1   \n",
       "\n",
       "     pct_change_in_a_day  act_change_in_a_day  opening_gap  daily_move  \\\n",
       "118             1.001326            21.000000    48.899414   98.500000   \n",
       "119             0.993676          -100.649414    55.000000  123.500000   \n",
       "120             0.996264           -59.049805    -7.200195  111.850586   \n",
       "121             0.996489           -55.400391    28.450195  130.349609   \n",
       "122             0.995236           -75.049805    33.549805   88.500000   \n",
       "\n",
       "      range_avg  change_avg        RSI       MACD  Signal_Line           SMA  \\\n",
       "118  161.870117   10.240234  56.143273  45.337827    40.998644  15721.952393   \n",
       "119  134.670117  -54.019727  54.059676  46.802536    42.159422  15733.547412   \n",
       "120  128.310156  -52.279688  56.423981  42.131837    42.153905  15742.227441   \n",
       "121  116.580078  -28.189844  48.990495  35.842450    40.891614  15749.492432   \n",
       "122  110.540039  -53.829883  42.395692  27.195865    38.152464  15748.974951   \n",
       "\n",
       "       Upper_Band    Lower_Band     OBV  \n",
       "118  15895.706101  15548.198684  629300  \n",
       "119  15898.952173  15568.142651  374200  \n",
       "120  15889.828778  15594.626105   13900  \n",
       "121  15875.393991  15623.590872 -248500  \n",
       "122  15875.980282  15621.969621 -473400  "
      ]
     },
     "execution_count": 100,
     "metadata": {},
     "output_type": "execute_result"
    }
   ],
   "source": [
    "          \n",
    "df = df_train.copy()\n",
    "df = df.dropna()\n",
    "df.drop('Date',axis = 1, inplace = True)\n",
    "###########################################################################################\n",
    "###############     Preparing for LSTM              ######################################\n",
    "#########################################################################################\n",
    "\n",
    "# Features to be scaled\n",
    "features_to_scale = ['Close', 'High', 'Low', 'Open', 'Volume',\n",
    "                    'gift_open', '10DMA', '30DMA', '100DMA', 'day', 'date_no',\n",
    "                    'pct_change_in_a_day', 'act_change_in_a_day', 'opening_gap',\n",
    "                    'daily_move', 'range_avg', 'change_avg',\n",
    "                    'RSI', 'MACD', 'Signal_Line', 'SMA', 'Upper_Band', 'Lower_Band', 'OBV']\n",
    "\n",
    "# features_to_scale = [ 'Volume', 'Close',  \n",
    "#                      'act_change_in_a_day',\n",
    "#                      'range_avg', 'change_avg']\n",
    "\n",
    "features_to_leave = ['opt_exp' ]\n",
    "\n",
    "df[features_to_scale].head()"
   ]
  },
  {
   "cell_type": "code",
   "execution_count": 101,
   "id": "68965cb1",
   "metadata": {},
   "outputs": [
    {
     "name": "stdout",
     "output_type": "stream",
     "text": [
      "X_train_reshaped shape: (545, 25)\n",
      "y_train_reshaped shape: (545, 1)\n",
      "X_test_reshaped shape: (137, 25)\n",
      "y_test_reshaped shape: (137, 1)\n"
     ]
    }
   ],
   "source": [
    "\n",
    "features = features_to_scale + features_to_leave\n",
    "target = 'target'\n",
    "\n",
    "# Splitting data into training and testing sets\n",
    "X_train, X_test, y_train, y_test = train_test_split(df[features], df[target], test_size=0.2, shuffle=False)\n",
    "\n",
    "# Initialize scalers\n",
    "feature_scaler = MinMaxScaler(feature_range=(0, 1))\n",
    "target_scaler = MinMaxScaler(feature_range=(0, 1))\n",
    "\n",
    "# Scale only the selected features\n",
    "X_train_scaled_part = feature_scaler.fit_transform(X_train[features_to_scale])\n",
    "X_test_scaled_part = feature_scaler.transform(X_test[features_to_scale])\n",
    "\n",
    "# Combine scaled features with unscaled features (still as NumPy arrays)\n",
    "X_train_scaled = np.hstack((X_train_scaled_part, X_train[features_to_leave].values))\n",
    "X_test_scaled = np.hstack((X_test_scaled_part, X_test[features_to_leave].values))\n",
    "\n",
    "# Scale target variable\n",
    "y_train_scaled = target_scaler.fit_transform(y_train.values.reshape(-1, 1))\n",
    "y_test_scaled = target_scaler.transform(y_test.values.reshape(-1, 1))\n",
    "\n",
    "print(\"X_train_reshaped shape:\", X_train_scaled.shape)\n",
    "print(\"y_train_reshaped shape:\", y_train_scaled.shape)\n",
    "print(\"X_test_reshaped shape:\", X_test_scaled.shape)\n",
    "print(\"y_test_reshaped shape:\", y_test_scaled.shape)\n",
    "\n"
   ]
  },
  {
   "cell_type": "code",
   "execution_count": 102,
   "id": "1fa53128",
   "metadata": {},
   "outputs": [],
   "source": [
    "timesteps = 60"
   ]
  },
  {
   "cell_type": "code",
   "execution_count": 103,
   "id": "c55e85a6",
   "metadata": {},
   "outputs": [
    {
     "name": "stdout",
     "output_type": "stream",
     "text": [
      "X_train_reshaped shape: (486, 60, 25)\n",
      "y_train_reshaped shape: (486, 1)\n",
      "X_test_reshaped shape: (78, 60, 25)\n",
      "y_test_reshaped shape: (78, 1)\n"
     ]
    }
   ],
   "source": [
    "\n",
    "# Function to create sequences for LSTM\n",
    "def create_sequences(data, target, timesteps):\n",
    "    sequences = []\n",
    "    targets = []\n",
    "    for i in range(len(data) - timesteps + 1):\n",
    "        sequences.append(data[i:i+timesteps, :])\n",
    "        targets.append(target[i+timesteps-1])  # Use the last value in the window as the target\n",
    "    return np.array(sequences), np.array(targets)\n",
    "\n",
    "# Create LSTM-compatible sequences\n",
    "X_train_reshaped, y_train_reshaped = create_sequences(X_train_scaled, y_train_scaled, timesteps)\n",
    "X_test_reshaped, y_test_reshaped = create_sequences(X_test_scaled, y_test_scaled, timesteps)\n",
    "\n",
    "# Check shapes\n",
    "print(\"X_train_reshaped shape:\", X_train_reshaped.shape)\n",
    "print(\"y_train_reshaped shape:\", y_train_reshaped.shape)\n",
    "print(\"X_test_reshaped shape:\", X_test_reshaped.shape)\n",
    "print(\"y_test_reshaped shape:\", y_test_reshaped.shape)\n",
    "\n"
   ]
  },
  {
   "cell_type": "code",
   "execution_count": 104,
   "id": "cf7f8b12",
   "metadata": {},
   "outputs": [
    {
     "name": "stderr",
     "output_type": "stream",
     "text": [
      "/opt/anaconda3/envs/Conda_3_12_7/lib/python3.12/site-packages/keras/src/layers/rnn/bidirectional.py:107: UserWarning: Do not pass an `input_shape`/`input_dim` argument to a layer. When using Sequential models, prefer using an `Input(shape)` object as the first layer in the model instead.\n",
      "  super().__init__(**kwargs)\n"
     ]
    },
    {
     "data": {
      "text/html": [
       "<pre style=\"white-space:pre;overflow-x:auto;line-height:normal;font-family:Menlo,'DejaVu Sans Mono',consolas,'Courier New',monospace\"><span style=\"font-weight: bold\">Model: \"sequential_5\"</span>\n",
       "</pre>\n"
      ],
      "text/plain": [
       "\u001b[1mModel: \"sequential_5\"\u001b[0m\n"
      ]
     },
     "metadata": {},
     "output_type": "display_data"
    },
    {
     "data": {
      "text/html": [
       "<pre style=\"white-space:pre;overflow-x:auto;line-height:normal;font-family:Menlo,'DejaVu Sans Mono',consolas,'Courier New',monospace\">┏━━━━━━━━━━━━━━━━━━━━━━━━━━━━━━━━━┳━━━━━━━━━━━━━━━━━━━━━━━━┳━━━━━━━━━━━━━━━┓\n",
       "┃<span style=\"font-weight: bold\"> Layer (type)                    </span>┃<span style=\"font-weight: bold\"> Output Shape           </span>┃<span style=\"font-weight: bold\">       Param # </span>┃\n",
       "┡━━━━━━━━━━━━━━━━━━━━━━━━━━━━━━━━━╇━━━━━━━━━━━━━━━━━━━━━━━━╇━━━━━━━━━━━━━━━┩\n",
       "│ bidirectional_10                │ (<span style=\"color: #00d7ff; text-decoration-color: #00d7ff\">None</span>, <span style=\"color: #00af00; text-decoration-color: #00af00\">60</span>, <span style=\"color: #00af00; text-decoration-color: #00af00\">128</span>)        │        <span style=\"color: #00af00; text-decoration-color: #00af00\">34,944</span> │\n",
       "│ (<span style=\"color: #0087ff; text-decoration-color: #0087ff\">Bidirectional</span>)                 │                        │               │\n",
       "├─────────────────────────────────┼────────────────────────┼───────────────┤\n",
       "│ dropout_15 (<span style=\"color: #0087ff; text-decoration-color: #0087ff\">Dropout</span>)            │ (<span style=\"color: #00d7ff; text-decoration-color: #00d7ff\">None</span>, <span style=\"color: #00af00; text-decoration-color: #00af00\">60</span>, <span style=\"color: #00af00; text-decoration-color: #00af00\">128</span>)        │             <span style=\"color: #00af00; text-decoration-color: #00af00\">0</span> │\n",
       "├─────────────────────────────────┼────────────────────────┼───────────────┤\n",
       "│ bidirectional_11                │ (<span style=\"color: #00d7ff; text-decoration-color: #00d7ff\">None</span>, <span style=\"color: #00af00; text-decoration-color: #00af00\">128</span>)            │        <span style=\"color: #00af00; text-decoration-color: #00af00\">74,496</span> │\n",
       "│ (<span style=\"color: #0087ff; text-decoration-color: #0087ff\">Bidirectional</span>)                 │                        │               │\n",
       "├─────────────────────────────────┼────────────────────────┼───────────────┤\n",
       "│ dropout_16 (<span style=\"color: #0087ff; text-decoration-color: #0087ff\">Dropout</span>)            │ (<span style=\"color: #00d7ff; text-decoration-color: #00d7ff\">None</span>, <span style=\"color: #00af00; text-decoration-color: #00af00\">128</span>)            │             <span style=\"color: #00af00; text-decoration-color: #00af00\">0</span> │\n",
       "├─────────────────────────────────┼────────────────────────┼───────────────┤\n",
       "│ dense_10 (<span style=\"color: #0087ff; text-decoration-color: #0087ff\">Dense</span>)                │ (<span style=\"color: #00d7ff; text-decoration-color: #00d7ff\">None</span>, <span style=\"color: #00af00; text-decoration-color: #00af00\">32</span>)             │         <span style=\"color: #00af00; text-decoration-color: #00af00\">4,128</span> │\n",
       "├─────────────────────────────────┼────────────────────────┼───────────────┤\n",
       "│ dropout_17 (<span style=\"color: #0087ff; text-decoration-color: #0087ff\">Dropout</span>)            │ (<span style=\"color: #00d7ff; text-decoration-color: #00d7ff\">None</span>, <span style=\"color: #00af00; text-decoration-color: #00af00\">32</span>)             │             <span style=\"color: #00af00; text-decoration-color: #00af00\">0</span> │\n",
       "├─────────────────────────────────┼────────────────────────┼───────────────┤\n",
       "│ dense_11 (<span style=\"color: #0087ff; text-decoration-color: #0087ff\">Dense</span>)                │ (<span style=\"color: #00d7ff; text-decoration-color: #00d7ff\">None</span>, <span style=\"color: #00af00; text-decoration-color: #00af00\">1</span>)              │            <span style=\"color: #00af00; text-decoration-color: #00af00\">33</span> │\n",
       "└─────────────────────────────────┴────────────────────────┴───────────────┘\n",
       "</pre>\n"
      ],
      "text/plain": [
       "┏━━━━━━━━━━━━━━━━━━━━━━━━━━━━━━━━━┳━━━━━━━━━━━━━━━━━━━━━━━━┳━━━━━━━━━━━━━━━┓\n",
       "┃\u001b[1m \u001b[0m\u001b[1mLayer (type)                   \u001b[0m\u001b[1m \u001b[0m┃\u001b[1m \u001b[0m\u001b[1mOutput Shape          \u001b[0m\u001b[1m \u001b[0m┃\u001b[1m \u001b[0m\u001b[1m      Param #\u001b[0m\u001b[1m \u001b[0m┃\n",
       "┡━━━━━━━━━━━━━━━━━━━━━━━━━━━━━━━━━╇━━━━━━━━━━━━━━━━━━━━━━━━╇━━━━━━━━━━━━━━━┩\n",
       "│ bidirectional_10                │ (\u001b[38;5;45mNone\u001b[0m, \u001b[38;5;34m60\u001b[0m, \u001b[38;5;34m128\u001b[0m)        │        \u001b[38;5;34m34,944\u001b[0m │\n",
       "│ (\u001b[38;5;33mBidirectional\u001b[0m)                 │                        │               │\n",
       "├─────────────────────────────────┼────────────────────────┼───────────────┤\n",
       "│ dropout_15 (\u001b[38;5;33mDropout\u001b[0m)            │ (\u001b[38;5;45mNone\u001b[0m, \u001b[38;5;34m60\u001b[0m, \u001b[38;5;34m128\u001b[0m)        │             \u001b[38;5;34m0\u001b[0m │\n",
       "├─────────────────────────────────┼────────────────────────┼───────────────┤\n",
       "│ bidirectional_11                │ (\u001b[38;5;45mNone\u001b[0m, \u001b[38;5;34m128\u001b[0m)            │        \u001b[38;5;34m74,496\u001b[0m │\n",
       "│ (\u001b[38;5;33mBidirectional\u001b[0m)                 │                        │               │\n",
       "├─────────────────────────────────┼────────────────────────┼───────────────┤\n",
       "│ dropout_16 (\u001b[38;5;33mDropout\u001b[0m)            │ (\u001b[38;5;45mNone\u001b[0m, \u001b[38;5;34m128\u001b[0m)            │             \u001b[38;5;34m0\u001b[0m │\n",
       "├─────────────────────────────────┼────────────────────────┼───────────────┤\n",
       "│ dense_10 (\u001b[38;5;33mDense\u001b[0m)                │ (\u001b[38;5;45mNone\u001b[0m, \u001b[38;5;34m32\u001b[0m)             │         \u001b[38;5;34m4,128\u001b[0m │\n",
       "├─────────────────────────────────┼────────────────────────┼───────────────┤\n",
       "│ dropout_17 (\u001b[38;5;33mDropout\u001b[0m)            │ (\u001b[38;5;45mNone\u001b[0m, \u001b[38;5;34m32\u001b[0m)             │             \u001b[38;5;34m0\u001b[0m │\n",
       "├─────────────────────────────────┼────────────────────────┼───────────────┤\n",
       "│ dense_11 (\u001b[38;5;33mDense\u001b[0m)                │ (\u001b[38;5;45mNone\u001b[0m, \u001b[38;5;34m1\u001b[0m)              │            \u001b[38;5;34m33\u001b[0m │\n",
       "└─────────────────────────────────┴────────────────────────┴───────────────┘\n"
      ]
     },
     "metadata": {},
     "output_type": "display_data"
    },
    {
     "data": {
      "text/html": [
       "<pre style=\"white-space:pre;overflow-x:auto;line-height:normal;font-family:Menlo,'DejaVu Sans Mono',consolas,'Courier New',monospace\"><span style=\"font-weight: bold\"> Total params: </span><span style=\"color: #00af00; text-decoration-color: #00af00\">113,601</span> (443.75 KB)\n",
       "</pre>\n"
      ],
      "text/plain": [
       "\u001b[1m Total params: \u001b[0m\u001b[38;5;34m113,601\u001b[0m (443.75 KB)\n"
      ]
     },
     "metadata": {},
     "output_type": "display_data"
    },
    {
     "data": {
      "text/html": [
       "<pre style=\"white-space:pre;overflow-x:auto;line-height:normal;font-family:Menlo,'DejaVu Sans Mono',consolas,'Courier New',monospace\"><span style=\"font-weight: bold\"> Trainable params: </span><span style=\"color: #00af00; text-decoration-color: #00af00\">113,601</span> (443.75 KB)\n",
       "</pre>\n"
      ],
      "text/plain": [
       "\u001b[1m Trainable params: \u001b[0m\u001b[38;5;34m113,601\u001b[0m (443.75 KB)\n"
      ]
     },
     "metadata": {},
     "output_type": "display_data"
    },
    {
     "data": {
      "text/html": [
       "<pre style=\"white-space:pre;overflow-x:auto;line-height:normal;font-family:Menlo,'DejaVu Sans Mono',consolas,'Courier New',monospace\"><span style=\"font-weight: bold\"> Non-trainable params: </span><span style=\"color: #00af00; text-decoration-color: #00af00\">0</span> (0.00 B)\n",
       "</pre>\n"
      ],
      "text/plain": [
       "\u001b[1m Non-trainable params: \u001b[0m\u001b[38;5;34m0\u001b[0m (0.00 B)\n"
      ]
     },
     "metadata": {},
     "output_type": "display_data"
    },
    {
     "name": "stdout",
     "output_type": "stream",
     "text": [
      "Epoch 1/100\n",
      "\u001b[1m16/16\u001b[0m \u001b[32m━━━━━━━━━━━━━━━━━━━━\u001b[0m\u001b[37m\u001b[0m \u001b[1m3s\u001b[0m 42ms/step - loss: 0.0679 - mae: 0.2100 - mse: 0.0679 - val_loss: 0.0640 - val_mae: 0.2206 - val_mse: 0.0640\n",
      "Epoch 2/100\n",
      "\u001b[1m16/16\u001b[0m \u001b[32m━━━━━━━━━━━━━━━━━━━━\u001b[0m\u001b[37m\u001b[0m \u001b[1m0s\u001b[0m 27ms/step - loss: 0.0468 - mae: 0.1710 - mse: 0.0468 - val_loss: 0.0188 - val_mae: 0.1132 - val_mse: 0.0188\n",
      "Epoch 3/100\n",
      "\u001b[1m16/16\u001b[0m \u001b[32m━━━━━━━━━━━━━━━━━━━━\u001b[0m\u001b[37m\u001b[0m \u001b[1m0s\u001b[0m 27ms/step - loss: 0.0425 - mae: 0.1655 - mse: 0.0425 - val_loss: 0.0187 - val_mae: 0.1125 - val_mse: 0.0187\n",
      "Epoch 4/100\n",
      "\u001b[1m16/16\u001b[0m \u001b[32m━━━━━━━━━━━━━━━━━━━━\u001b[0m\u001b[37m\u001b[0m \u001b[1m0s\u001b[0m 27ms/step - loss: 0.0390 - mae: 0.1549 - mse: 0.0390 - val_loss: 0.0176 - val_mae: 0.1068 - val_mse: 0.0176\n",
      "Epoch 5/100\n",
      "\u001b[1m16/16\u001b[0m \u001b[32m━━━━━━━━━━━━━━━━━━━━\u001b[0m\u001b[37m\u001b[0m \u001b[1m0s\u001b[0m 27ms/step - loss: 0.0347 - mae: 0.1478 - mse: 0.0347 - val_loss: 0.0178 - val_mae: 0.1076 - val_mse: 0.0178\n",
      "Epoch 6/100\n",
      "\u001b[1m16/16\u001b[0m \u001b[32m━━━━━━━━━━━━━━━━━━━━\u001b[0m\u001b[37m\u001b[0m \u001b[1m1s\u001b[0m 33ms/step - loss: 0.0334 - mae: 0.1450 - mse: 0.0334 - val_loss: 0.0184 - val_mae: 0.1108 - val_mse: 0.0184\n",
      "Epoch 7/100\n",
      "\u001b[1m16/16\u001b[0m \u001b[32m━━━━━━━━━━━━━━━━━━━━\u001b[0m\u001b[37m\u001b[0m \u001b[1m1s\u001b[0m 44ms/step - loss: 0.0336 - mae: 0.1468 - mse: 0.0336 - val_loss: 0.0187 - val_mae: 0.1127 - val_mse: 0.0187\n",
      "Epoch 8/100\n",
      "\u001b[1m16/16\u001b[0m \u001b[32m━━━━━━━━━━━━━━━━━━━━\u001b[0m\u001b[37m\u001b[0m \u001b[1m1s\u001b[0m 44ms/step - loss: 0.0311 - mae: 0.1396 - mse: 0.0311 - val_loss: 0.0182 - val_mae: 0.1101 - val_mse: 0.0182\n",
      "Epoch 9/100\n",
      "\u001b[1m16/16\u001b[0m \u001b[32m━━━━━━━━━━━━━━━━━━━━\u001b[0m\u001b[37m\u001b[0m \u001b[1m1s\u001b[0m 44ms/step - loss: 0.0304 - mae: 0.1367 - mse: 0.0304 - val_loss: 0.0177 - val_mae: 0.1091 - val_mse: 0.0177\n",
      "Epoch 10/100\n",
      "\u001b[1m16/16\u001b[0m \u001b[32m━━━━━━━━━━━━━━━━━━━━\u001b[0m\u001b[37m\u001b[0m \u001b[1m1s\u001b[0m 44ms/step - loss: 0.0296 - mae: 0.1365 - mse: 0.0296 - val_loss: 0.0200 - val_mae: 0.1183 - val_mse: 0.0200\n",
      "Epoch 11/100\n",
      "\u001b[1m16/16\u001b[0m \u001b[32m━━━━━━━━━━━━━━━━━━━━\u001b[0m\u001b[37m\u001b[0m \u001b[1m1s\u001b[0m 45ms/step - loss: 0.0325 - mae: 0.1476 - mse: 0.0325 - val_loss: 0.0177 - val_mae: 0.1100 - val_mse: 0.0177\n",
      "Epoch 12/100\n",
      "\u001b[1m16/16\u001b[0m \u001b[32m━━━━━━━━━━━━━━━━━━━━\u001b[0m\u001b[37m\u001b[0m \u001b[1m1s\u001b[0m 44ms/step - loss: 0.0293 - mae: 0.1357 - mse: 0.0293 - val_loss: 0.0204 - val_mae: 0.1203 - val_mse: 0.0204\n",
      "time to run :  9.21929383277893\n"
     ]
    }
   ],
   "source": [
    "import time\n",
    "\n",
    "# Build your LSTM model\n",
    "model = Sequential()\n",
    "model.add(Bidirectional(GRU(64, return_sequences=True), input_shape=(timesteps, X_train_reshaped.shape[2])))\n",
    "#model.add((LSTM(64, return_sequences=True, input_shape=(timesteps, X_train_reshaped.shape[2]))))\n",
    "model.add(Dropout(0.1))\n",
    "\n",
    "model.add(Bidirectional(GRU(64, return_sequences=False)))\n",
    "#model.add((LSTM(64, return_sequences=False)))\n",
    "model.add(Dropout(0.1))\n",
    "\n",
    "model.add(Dense(32))\n",
    "model.add(Dropout(0.1))\n",
    "\n",
    "model.add(Dense(1))\n",
    "\n",
    "model.summary()\n",
    "\n",
    "# Define early stopping\n",
    "early_stopping = EarlyStopping(monitor='val_loss', patience=8, restore_best_weights=True)\n",
    "\n",
    "start_time   = time.time()\n",
    "\n",
    "# Compile the model with RMSLE as the loss function\n",
    "optimizer = Adam(learning_rate=0.0001)\n",
    "model.compile(optimizer=optimizer, loss='mse', metrics=['mae','mse'])\n",
    "\n",
    "# Train the model\n",
    "history = model.fit(X_train_reshaped, \n",
    "                    y_train_reshaped, \n",
    "                    epochs=100, \n",
    "                    validation_data=(X_test_reshaped, y_test_reshaped), \n",
    "                    batch_size=32,\n",
    "                    callbacks=[early_stopping])\n",
    "\n",
    "print(\"time to run : \", time.time()- start_time)"
   ]
  },
  {
   "cell_type": "code",
   "execution_count": 105,
   "id": "23a02ef4",
   "metadata": {},
   "outputs": [
    {
     "name": "stdout",
     "output_type": "stream",
     "text": [
      "\u001b[1m3/3\u001b[0m \u001b[32m━━━━━━━━━━━━━━━━━━━━\u001b[0m\u001b[37m\u001b[0m \u001b[1m0s\u001b[0m 97ms/step\n",
      "\u001b[1m3/3\u001b[0m \u001b[32m━━━━━━━━━━━━━━━━━━━━\u001b[0m\u001b[37m\u001b[0m \u001b[1m0s\u001b[0m 7ms/step - loss: 0.0179 - mae: 0.1062 - mse: 0.0179 \n",
      "Validation performance:  [0.017591046169400215, 0.10684394836425781, 0.017591046169400215]\n"
     ]
    }
   ],
   "source": [
    "\n",
    "##############################################################################################\n",
    "#########################          Checking val performance              #############################\n",
    "##############################################################################################\n",
    "\n",
    "\n",
    "# Predictions\n",
    "lstm_predictions = model.predict(X_test_reshaped)\n",
    "lstm_predictions = lstm_predictions.reshape(-1,1)\n",
    "\n",
    "# Ensure both predictions and actual values are of type float64\n",
    "y_test_reshaped = y_test_reshaped.reshape(-1, 1).astype('float64')\n",
    "lstm_predictions_scaled = lstm_predictions.astype('float64')\n",
    "\n",
    "\n",
    "y_test_actual = target_scaler.inverse_transform(y_test_reshaped).astype('float64')\n",
    "lstm_predictions_actual = target_scaler.inverse_transform(lstm_predictions_scaled).astype('float64')\n",
    "results_test_unscaled   = model.evaluate(X_test_reshaped, y_test_reshaped)\n",
    "print(\"Validation performance: \",results_test_unscaled)\n",
    "\n",
    "#"
   ]
  },
  {
   "cell_type": "markdown",
   "id": "90d48de4",
   "metadata": {},
   "source": [
    "## Applying model on Test Data"
   ]
  },
  {
   "cell_type": "code",
   "execution_count": 106,
   "id": "66cfd466",
   "metadata": {},
   "outputs": [
    {
     "name": "stdout",
     "output_type": "stream",
     "text": [
      "X_test_reshaped shape: (105, 60, 25)\n",
      "y_test_reshaped shape: (105, 1)\n",
      "\u001b[1m4/4\u001b[0m \u001b[32m━━━━━━━━━━━━━━━━━━━━\u001b[0m\u001b[37m\u001b[0m \u001b[1m0s\u001b[0m 6ms/step - loss: nan - mae: nan - mse: nan          \n",
      "Test performance (MAE):  nan\n"
     ]
    }
   ],
   "source": [
    "#############################################################################################\n",
    "#########################             Applying model on test data       ######################\n",
    "##############################################################################################\n",
    "\n",
    "del df\n",
    "df   = df_test.copy()\n",
    "#df = df_train_all.copy()  #change 1: to make prediction on whole data\n",
    "\n",
    "df.drop('Date',axis = 1, inplace = True)\n",
    "###########################################################################################\n",
    "###############     Preparing for LSTM              ######################################\n",
    "#########################################################################################\n",
    "\n",
    "\n",
    "# Scale only the selected features\n",
    "X_test_scaled_part        = feature_scaler.transform(df[features_to_scale])\n",
    "\n",
    "# Combine scaled features with unscaled features (still as NumPy arrays)\n",
    "X_test_scaled             = np.hstack((X_test_scaled_part, df[features_to_leave].values))\n",
    "#X_test_reshaped           = X_test_scaled.reshape((X_test_scaled.shape[0], timesteps, X_test_scaled.shape[1]))\n",
    "\n",
    "y_test_scaled             = target_scaler.transform(df['target'].values.reshape(-1, 1))\n",
    "\n",
    "\n",
    "X_test_reshaped, y_test_reshaped = create_sequences(X_test_scaled, y_test_scaled, timesteps)\n",
    "\n",
    "# Check shapes\n",
    "print(\"X_test_reshaped shape:\", X_test_reshaped.shape)\n",
    "print(\"y_test_reshaped shape:\", y_test_reshaped.shape)\n",
    "\n",
    "\n",
    "test_performance          = model.evaluate(X_test_reshaped, y_test_reshaped)\n",
    "print(\"Test performance (MAE): \", test_performance[1])\n",
    "\n",
    "\n",
    "\n"
   ]
  },
  {
   "cell_type": "code",
   "execution_count": 107,
   "id": "07b07e6e",
   "metadata": {},
   "outputs": [
    {
     "name": "stdout",
     "output_type": "stream",
     "text": [
      "\u001b[1m4/4\u001b[0m \u001b[32m━━━━━━━━━━━━━━━━━━━━\u001b[0m\u001b[37m\u001b[0m \u001b[1m0s\u001b[0m 7ms/step \n"
     ]
    },
    {
     "data": {
      "text/plain": [
       "(105, 1)"
      ]
     },
     "execution_count": 107,
     "metadata": {},
     "output_type": "execute_result"
    }
   ],
   "source": [
    "model.predict(X_test_reshaped).shape"
   ]
  },
  {
   "cell_type": "code",
   "execution_count": 108,
   "id": "b5fff2d9",
   "metadata": {},
   "outputs": [
    {
     "data": {
      "text/plain": [
       "86"
      ]
     },
     "execution_count": 108,
     "metadata": {},
     "output_type": "execute_result"
    }
   ],
   "source": [
    "df_test.shape[0] - lstm_predictions_actual.shape[0]"
   ]
  },
  {
   "cell_type": "code",
   "execution_count": 109,
   "id": "f1e24abe",
   "metadata": {},
   "outputs": [
    {
     "name": "stdout",
     "output_type": "stream",
     "text": [
      "\u001b[1m4/4\u001b[0m \u001b[32m━━━━━━━━━━━━━━━━━━━━\u001b[0m\u001b[37m\u001b[0m \u001b[1m0s\u001b[0m 7ms/step \n"
     ]
    }
   ],
   "source": [
    "# Predictions\n",
    "lstm_predictions         = model.predict(X_test_reshaped)\n",
    "lstm_predictions_scaled  = lstm_predictions.astype('float64')\n",
    "\n",
    "lstm_predictions_actual = target_scaler.inverse_transform(lstm_predictions_scaled).astype('float64')\n",
    "\n",
    "df_test_prediction      = df_test[(timesteps- 1):].copy() \n",
    "#df_test_prediction      = df_train_all[(timesteps- 1):].copy() #change 2: to make prediction on whole data\n",
    "\n",
    "# Add predictions to the dataframe\n",
    "df_test_prediction['change_predicted'] = lstm_predictions_actual\n",
    "\n"
   ]
  },
  {
   "cell_type": "code",
   "execution_count": 110,
   "id": "af91a836",
   "metadata": {},
   "outputs": [],
   "source": [
    "\n",
    "df_test_prediction['predicted_close'] = df_test_prediction['Close'] + df_test_prediction['change_predicted']"
   ]
  },
  {
   "cell_type": "code",
   "execution_count": 111,
   "id": "94c85ee5",
   "metadata": {},
   "outputs": [],
   "source": [
    "df_test_prediction.dropna(subset=['predicted_close'], inplace=True)"
   ]
  },
  {
   "cell_type": "code",
   "execution_count": 112,
   "id": "c1e8ed48",
   "metadata": {},
   "outputs": [
    {
     "data": {
      "text/html": [
       "<div>\n",
       "<style scoped>\n",
       "    .dataframe tbody tr th:only-of-type {\n",
       "        vertical-align: middle;\n",
       "    }\n",
       "\n",
       "    .dataframe tbody tr th {\n",
       "        vertical-align: top;\n",
       "    }\n",
       "\n",
       "    .dataframe thead th {\n",
       "        text-align: right;\n",
       "    }\n",
       "</style>\n",
       "<table border=\"1\" class=\"dataframe\">\n",
       "  <thead>\n",
       "    <tr style=\"text-align: right;\">\n",
       "      <th></th>\n",
       "      <th>next_close</th>\n",
       "      <th>predicted_close</th>\n",
       "      <th>prediction_diff</th>\n",
       "      <th>pct_prediction_diff</th>\n",
       "    </tr>\n",
       "  </thead>\n",
       "  <tbody>\n",
       "    <tr>\n",
       "      <th>860</th>\n",
       "      <td>24141.949219</td>\n",
       "      <td>24083.215741</td>\n",
       "      <td>-58.733478</td>\n",
       "      <td>-0.243284</td>\n",
       "    </tr>\n",
       "    <tr>\n",
       "      <th>861</th>\n",
       "      <td>24123.849609</td>\n",
       "      <td>24212.767765</td>\n",
       "      <td>88.918156</td>\n",
       "      <td>0.368590</td>\n",
       "    </tr>\n",
       "    <tr>\n",
       "      <th>862</th>\n",
       "      <td>24286.500000</td>\n",
       "      <td>24127.397395</td>\n",
       "      <td>-159.102605</td>\n",
       "      <td>-0.655107</td>\n",
       "    </tr>\n",
       "    <tr>\n",
       "      <th>863</th>\n",
       "      <td>24302.150391</td>\n",
       "      <td>24223.770822</td>\n",
       "      <td>-78.379569</td>\n",
       "      <td>-0.322521</td>\n",
       "    </tr>\n",
       "    <tr>\n",
       "      <th>864</th>\n",
       "      <td>24323.849609</td>\n",
       "      <td>24233.266446</td>\n",
       "      <td>-90.583163</td>\n",
       "      <td>-0.372405</td>\n",
       "    </tr>\n",
       "    <tr>\n",
       "      <th>...</th>\n",
       "      <td>...</td>\n",
       "      <td>...</td>\n",
       "      <td>...</td>\n",
       "      <td>...</td>\n",
       "    </tr>\n",
       "    <tr>\n",
       "      <th>952</th>\n",
       "      <td>24141.300781</td>\n",
       "      <td>24070.712501</td>\n",
       "      <td>-70.588281</td>\n",
       "      <td>-0.292396</td>\n",
       "    </tr>\n",
       "    <tr>\n",
       "      <th>953</th>\n",
       "      <td>23883.449219</td>\n",
       "      <td>24068.711262</td>\n",
       "      <td>185.262043</td>\n",
       "      <td>0.775692</td>\n",
       "    </tr>\n",
       "    <tr>\n",
       "      <th>954</th>\n",
       "      <td>23559.050781</td>\n",
       "      <td>23772.526251</td>\n",
       "      <td>213.475470</td>\n",
       "      <td>0.906129</td>\n",
       "    </tr>\n",
       "    <tr>\n",
       "      <th>955</th>\n",
       "      <td>23532.699219</td>\n",
       "      <td>23393.681213</td>\n",
       "      <td>-139.018006</td>\n",
       "      <td>-0.590744</td>\n",
       "    </tr>\n",
       "    <tr>\n",
       "      <th>956</th>\n",
       "      <td>23453.800781</td>\n",
       "      <td>23363.983008</td>\n",
       "      <td>-89.817773</td>\n",
       "      <td>-0.382956</td>\n",
       "    </tr>\n",
       "  </tbody>\n",
       "</table>\n",
       "<p>97 rows × 4 columns</p>\n",
       "</div>"
      ],
      "text/plain": [
       "       next_close  predicted_close  prediction_diff  pct_prediction_diff\n",
       "860  24141.949219     24083.215741       -58.733478            -0.243284\n",
       "861  24123.849609     24212.767765        88.918156             0.368590\n",
       "862  24286.500000     24127.397395      -159.102605            -0.655107\n",
       "863  24302.150391     24223.770822       -78.379569            -0.322521\n",
       "864  24323.849609     24233.266446       -90.583163            -0.372405\n",
       "..            ...              ...              ...                  ...\n",
       "952  24141.300781     24070.712501       -70.588281            -0.292396\n",
       "953  23883.449219     24068.711262       185.262043             0.775692\n",
       "954  23559.050781     23772.526251       213.475470             0.906129\n",
       "955  23532.699219     23393.681213      -139.018006            -0.590744\n",
       "956  23453.800781     23363.983008       -89.817773            -0.382956\n",
       "\n",
       "[97 rows x 4 columns]"
      ]
     },
     "execution_count": 112,
     "metadata": {},
     "output_type": "execute_result"
    }
   ],
   "source": [
    "df_test_prediction['prediction_diff'] =  df_test_prediction['predicted_close']-df_test_prediction['next_close']\n",
    "df_test_prediction['pct_prediction_diff'] = df_test_prediction['prediction_diff']/df_test_prediction['next_close']*100\n",
    "\n",
    "df_test_prediction[['next_close','predicted_close','prediction_diff','pct_prediction_diff']]\n"
   ]
  },
  {
   "cell_type": "code",
   "execution_count": 113,
   "id": "9225406c",
   "metadata": {},
   "outputs": [
    {
     "data": {
      "image/png": "[encoded data removed]",
      "text/plain": [
       "<Figure size 1000x600 with 1 Axes>"
      ]
     },
     "metadata": {},
     "output_type": "display_data"
    }
   ],
   "source": [
    "# Plot histogram\n",
    "plt.figure(figsize=(10, 6))\n",
    "sns.histplot(df_test_prediction['pct_prediction_diff'], bins=30, kde=True, color='blue', alpha=0.6)\n",
    "plt.title('Histogram of error between actual and predition', fontsize=16)\n",
    "plt.xlabel('Error value in percentage', fontsize=14)\n",
    "plt.ylabel('Frequency', fontsize=14)\n",
    "plt.show()"
   ]
  },
  {
   "cell_type": "code",
   "execution_count": 114,
   "id": "1b24e0cc",
   "metadata": {},
   "outputs": [
    {
     "data": {
      "image/png": "[encoded data removed]",
      "text/plain": [
       "<Figure size 640x480 with 1 Axes>"
      ]
     },
     "metadata": {},
     "output_type": "display_data"
    }
   ],
   "source": [
    "import matplotlib.pyplot as plt\n",
    "\n",
    "# Plot the actual prices ('Close') and the predicted prices ('predicted_close')\n",
    "plt.plot(df_test_prediction['Date'], df_test_prediction['next_close'], label='Actual next day Close')\n",
    "plt.plot(df_test_prediction['Date'], df_test_prediction['predicted_close'], label='Predicted close')\n",
    "\n",
    "# Add a title, labels, and legend\n",
    "plt.title('Actual vs Predicted Prices')\n",
    "plt.xlabel('Date')\n",
    "plt.ylabel('Price')\n",
    "plt.legend()\n",
    "\n",
    "# Rotate the x-axis labels for better readability if needed\n",
    "plt.xticks(rotation=45)\n",
    "\n",
    "# Display the plot\n",
    "plt.show()"
   ]
  },
  {
   "cell_type": "code",
   "execution_count": 115,
   "id": "f2b10702",
   "metadata": {},
   "outputs": [
    {
     "data": {
      "image/png": "[encoded data removed]",
      "text/plain": [
       "<Figure size 640x480 with 1 Axes>"
      ]
     },
     "metadata": {},
     "output_type": "display_data"
    }
   ],
   "source": [
    "import matplotlib.pyplot as plt\n",
    "\n",
    "# Plot the actual prices ('Close') and the predicted prices ('predicted_close')\n",
    "plt.plot(df_test_prediction['Date'], df_test_prediction['prediction_diff'], label='Actual next day Close')\n",
    "plt.plot(df_test_prediction['Date'], df_test_prediction['pct_prediction_diff'], label='Predicted close')\n",
    "\n",
    "# Add a title, labels, and legend\n",
    "plt.title('Prediction diff and Prediction pct diff*100')\n",
    "plt.xlabel('Date')\n",
    "plt.ylabel('Price')\n",
    "plt.legend()\n",
    "\n",
    "# Rotate the x-axis labels for better readability if needed\n",
    "plt.xticks(rotation=45)\n",
    "\n",
    "# Display the plot\n",
    "plt.show()"
   ]
  },
  {
   "cell_type": "code",
   "execution_count": 116,
   "id": "b53b8c5f",
   "metadata": {},
   "outputs": [
    {
     "name": "stdout",
     "output_type": "stream",
     "text": [
      "average percentage difference 0.6837210155872742\n",
      "average points difference 169.5452712654459\n"
     ]
    }
   ],
   "source": [
    "print(\"average percentage difference\", df_test_prediction['pct_prediction_diff'].abs().mean())\n",
    "print(\"average points difference\", df_test_prediction['prediction_diff'].abs().mean())"
   ]
  },
  {
   "cell_type": "code",
   "execution_count": 117,
   "id": "035c69f3",
   "metadata": {},
   "outputs": [],
   "source": [
    "needed_columns = ['Date', 'next_close', 'predicted_close', 'prediction_diff', 'pct_prediction_diff']\n",
    "\n",
    "df_test_sample = df_test_prediction[needed_columns]\n",
    "\n",
    "\n",
    "# Generate new column names\n",
    "new_columns = {col: f\"{col}_{timesteps}\" for col in needed_columns[2:]}\n",
    "\n",
    "# Rename the columns in the DataFrame (excluding 'Date')\n",
    "df_test_sample = df_test_sample.rename(columns=new_columns)\n"
   ]
  },
  {
   "cell_type": "code",
   "execution_count": 118,
   "id": "4b4fac38",
   "metadata": {},
   "outputs": [],
   "source": [
    "save_wip_folder  = '/Users/monilshah/Documents/02_NWU/09_MSDS_458_DL/99_group_project/StockPricePrediction/MSDS_458_Group_N/03_LSTM_timeseries/WIP_files/' \n",
    "file_name        = 'predictions_BIGRU'+str(timesteps) + '.csv'\n",
    "save_wip         = save_wip_folder + file_name\n",
    "\n",
    "df_test_sample.to_csv(save_wip)"
   ]
  },
  {
   "cell_type": "code",
   "execution_count": 119,
   "id": "19d2946f",
   "metadata": {},
   "outputs": [
    {
     "data": {
      "text/html": [
       "<div>\n",
       "<style scoped>\n",
       "    .dataframe tbody tr th:only-of-type {\n",
       "        vertical-align: middle;\n",
       "    }\n",
       "\n",
       "    .dataframe tbody tr th {\n",
       "        vertical-align: top;\n",
       "    }\n",
       "\n",
       "    .dataframe thead th {\n",
       "        text-align: right;\n",
       "    }\n",
       "</style>\n",
       "<table border=\"1\" class=\"dataframe\">\n",
       "  <thead>\n",
       "    <tr style=\"text-align: right;\">\n",
       "      <th></th>\n",
       "      <th>Date</th>\n",
       "      <th>next_close</th>\n",
       "      <th>predicted_close_60</th>\n",
       "      <th>prediction_diff_60</th>\n",
       "      <th>pct_prediction_diff_60</th>\n",
       "    </tr>\n",
       "  </thead>\n",
       "  <tbody>\n",
       "    <tr>\n",
       "      <th>860</th>\n",
       "      <td>2024-06-28</td>\n",
       "      <td>24141.949219</td>\n",
       "      <td>24083.215741</td>\n",
       "      <td>-58.733478</td>\n",
       "      <td>-0.243284</td>\n",
       "    </tr>\n",
       "    <tr>\n",
       "      <th>861</th>\n",
       "      <td>2024-07-01</td>\n",
       "      <td>24123.849609</td>\n",
       "      <td>24212.767765</td>\n",
       "      <td>88.918156</td>\n",
       "      <td>0.368590</td>\n",
       "    </tr>\n",
       "    <tr>\n",
       "      <th>862</th>\n",
       "      <td>2024-07-02</td>\n",
       "      <td>24286.500000</td>\n",
       "      <td>24127.397395</td>\n",
       "      <td>-159.102605</td>\n",
       "      <td>-0.655107</td>\n",
       "    </tr>\n",
       "    <tr>\n",
       "      <th>863</th>\n",
       "      <td>2024-07-03</td>\n",
       "      <td>24302.150391</td>\n",
       "      <td>24223.770822</td>\n",
       "      <td>-78.379569</td>\n",
       "      <td>-0.322521</td>\n",
       "    </tr>\n",
       "    <tr>\n",
       "      <th>864</th>\n",
       "      <td>2024-07-04</td>\n",
       "      <td>24323.849609</td>\n",
       "      <td>24233.266446</td>\n",
       "      <td>-90.583163</td>\n",
       "      <td>-0.372405</td>\n",
       "    </tr>\n",
       "  </tbody>\n",
       "</table>\n",
       "</div>"
      ],
      "text/plain": [
       "          Date    next_close  predicted_close_60  prediction_diff_60  \\\n",
       "860 2024-06-28  24141.949219        24083.215741          -58.733478   \n",
       "861 2024-07-01  24123.849609        24212.767765           88.918156   \n",
       "862 2024-07-02  24286.500000        24127.397395         -159.102605   \n",
       "863 2024-07-03  24302.150391        24223.770822          -78.379569   \n",
       "864 2024-07-04  24323.849609        24233.266446          -90.583163   \n",
       "\n",
       "     pct_prediction_diff_60  \n",
       "860               -0.243284  \n",
       "861                0.368590  \n",
       "862               -0.655107  \n",
       "863               -0.322521  \n",
       "864               -0.372405  "
      ]
     },
     "execution_count": 119,
     "metadata": {},
     "output_type": "execute_result"
    }
   ],
   "source": [
    "df_test_sample.head()"
   ]
  },
  {
   "cell_type": "code",
   "execution_count": 120,
   "id": "83ad26e7",
   "metadata": {},
   "outputs": [
    {
     "name": "stdout",
     "output_type": "stream",
     "text": [
      "Average prediction error : 0.68 %\n"
     ]
    }
   ],
   "source": [
    "print(\"Average prediction error :\", round(df_test_sample['pct_prediction_diff_60'].abs().mean(),2), \"%\")"
   ]
  }
 ],
 "metadata": {
  "kernelspec": {
   "display_name": "Conda_3_12_7",
   "language": "python",
   "name": "python3"
  },
  "language_info": {
   "codemirror_mode": {
    "name": "ipython",
    "version": 3
   },
   "file_extension": ".py",
   "mimetype": "text/x-python",
   "name": "python",
   "nbconvert_exporter": "python",
   "pygments_lexer": "ipython3",
   "version": "3.12.7"
  }
 },
 "nbformat": 4,
 "nbformat_minor": 5
}
